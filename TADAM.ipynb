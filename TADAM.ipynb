{
 "cells": [
  {
   "cell_type": "code",
   "execution_count": null,
   "metadata": {},
   "outputs": [],
   "source": [
    "# Setup\n",
    "\n",
    "!pip install --upgrade torch\n",
    "!pip install --upgrade pyro-ppl\n",
    "!pip install --upgrade scipy\n",
    "!pip install --upgrade matplotlib\n",
    "!pip install --upgrade scikit-optimize"
   ]
  },
  {
   "cell_type": "code",
   "execution_count": null,
   "metadata": {},
   "outputs": [],
   "source": [
    "import pyro\n",
    "import torch\n",
    "import torch.tensor as tensor\n",
    "import pyro.distributions as dist\n",
    "# from torch.distributions import Binomial, Gamma, Uniform\n",
    "from pyro.distributions import Binomial, Categorical, Dirichlet, DirichletMultinomial, Beta, BetaBinomial, Uniform, Gamma\n",
    "\n",
    "import numpy as np\n",
    "\n",
    "import scipy\n",
    "from skopt import gp_minimize \n",
    "from scipy.stats import binom as ScipyBinom\n",
    "from matplotlib import pyplot\n",
    "\n",
    "from collections import namedtuple\n",
    "import time\n",
    "seed = 0"
   ]
  },
  {
   "cell_type": "code",
   "execution_count": null,
   "metadata": {},
   "outputs": [],
   "source": [
    "# Measuring overhead\n",
    "import time\n",
    "\n",
    "# .1s\n",
    "l = []\n",
    "start = time.time()\n",
    "for i in range(int(1e6)):\n",
    "    l.append(i)\n",
    "\n",
    "if len(l) > 5:\n",
    "    print(\"Done\")\n",
    "print(f\"Scalar version took: {time.time() - start}\")\n",
    "\n",
    "# 30x slower, 3.2s\n",
    "l = []\n",
    "start = time.time()\n",
    "for i in range(int(1e6)):\n",
    "    l.append(tensor(i))\n",
    "\n",
    "if len(l) > 5:\n",
    "    print(\"Done\")\n",
    "print(f\"Tensor version took: {time.time() - start}\")\n",
    "\n",
    "# do it in one pass\n",
    "# this wraps the array in tensor, aka tensor([]),\n",
    "# but accessing a single element gives back a tensor\n",
    "l = []\n",
    "start = time.time()\n",
    "for i in range(int(1e6)):\n",
    "    l.append(i)\n",
    "\n",
    "# .13s \n",
    "l = torch.tensor(l)\n",
    "if len(l) > 5:\n",
    "    print(\"Done\")\n",
    "print(f\"Tensor convert array version took: {time.time() - start}\")"
   ]
  },
  {
   "cell_type": "code",
   "execution_count": 162,
   "metadata": {},
   "outputs": [],
   "source": [
    "# Likelihood functions\n",
    "# These assume univariate currently\n",
    "\n",
    "# TODO:\n",
    "# 1) Explore constraining alphas using prevalence estimate, namely E(P(D)) = alpha0 / (alpha0 + alpha1 + alpha2 + alphaBoth) (as long as all case counts are mutually exclusive)\n",
    "# 2) Can DM approximate NB + Multinomial? If so do we need mixture at all? But if we don't have that how do we model % disease-afffecting genes in each hypothesis(maybe proportion of alphas?)\n",
    "# rr: relative risk\n",
    "def pVgivenD(rr, pV):\n",
    "    return (rr * pV) / (rr * pV + (1 - pV))\n",
    "\n",
    "# pD: prevalence, tensor of mConditions x 1\n",
    "# pVgivenD: tensor of mConditions x 1\n",
    "# pV: allele frequency\n",
    "def pVgivenNotD(pD, pV, pVgivenD):\n",
    "    p = (pV - (pD*pVgivenD).sum()) / (1 - pD.sum())\n",
    "    assert(p >= 0)\n",
    "    return p\n",
    "\n",
    "# def pVgivenNotD(pD, pV, pVgivenD):\n",
    "#     p = (pV - (pD*pVgivenD)) / (1 - pD)\n",
    "#     assert(p >= 0)\n",
    "#     return p\n",
    "\n",
    "def pDgivenV(pD, pVgivenD, pV):\n",
    "    return pVgivenD * pD / pV\n",
    "\n",
    "# works like shit\n",
    "def llUnivariateSingleGeneJensen(xCtrl, xCase, pD, pi0, pi1, pDgivenV):\n",
    "    n = xCtrl + xCase\n",
    "    #convex function, so by jensen's sum of logs is fine (always <= the log of sum)\n",
    "    return pi0 * Binomial(total_count=n, probs=pD).log_prob(xCase) + pi1*Binomial(total_count=n, probs=pDgivenV).log_prob(xCase)\n",
    "\n",
    "def llUnivariateSingleGene(xCtrl, xCase, pD, pi0, pi1, pDgivenV):\n",
    "    n = xCtrl + xCase\n",
    "    #convex function, so by jensen's sum of logs is fine (always <= the log of sum)\n",
    "    return torch.log(pi0 * torch.exp(Binomial(total_count=n, probs=pD).log_prob(xCase)) + pi1*torch.exp(Binomial(total_count=n, probs=pDgivenV).log_prob(xCase)))\n",
    "\n",
    "# alphas shape: [2] #corresponding to cases and controls\n",
    "def llUnivariateSingleGeneBetaBinomial(xCtrl, xCase, pD, alphas, pi0, pi1):\n",
    "    n = xCtrl + xCase\n",
    "    #convex function, so by jensen's sum of logs is fine (always <= the log of sum)\n",
    "    # what is the \n",
    "    h0 = pi0 * torch.exp( Binomial(total_count=n, probs=pD).log_prob(xCase) )\n",
    "    h1 = pi1 * torch.exp( BetaBinomial(total_count=n, concentration1=alphas[1], concentration0=alphas[0]).log_prob(xCase) )\n",
    "    return torch.log( h0 + h1 )\n",
    "\n",
    "# TODO: support pooled and non-pooled controls\n",
    "# TODO: think about whether we need overlapping cases (both disease1 + disease2) or whether that can be inferred\n",
    "# altCounts.shape = [1 control + nConditions cases, 1]\n",
    "# alphas shape: [nConditions + 2] #1 ctrl + nCondition cases; for now the last condition in nCondition cases is for individuals who has all of the previous nConditions\n",
    "# in a more multivariate setting we will need more information, aka mapping to which combinations of conditions these people have\n",
    "# xCases: we have nConditions cases\n",
    "# pDs shape: [nConditions]\n",
    "# TODO: make this more effificent by taking alphas tensor of shape (1 + nConditions)\n",
    "def llPooledBivariateSingleGene(altCounts, pDs, alpha0, alpha1, alpha2, alphaBoth, pi0, pi1, pi2, piBoth):\n",
    "    # currently assume altCounts are all independent (in simulation), or 0 for everything but first condition\n",
    "    n = altCounts.sum()\n",
    "    alphasSum = alpha0 + alpha1 + alpha2 + alphaBoth\n",
    "    print(\"n is \", n)\n",
    "    #convex function, so by jensen's sum of logs is fine (always <= the log of sum)\n",
    "    # what is the \n",
    "    case1nullLikelihood = torch.exp( Binomial(total_count=n, probs=pDs[0]).log_prob(altCounts[1]) )\n",
    "    case2nullLikelihood = torch.exp( Binomial(total_count=n, probs=pDs[1]).log_prob(altCounts[2]) )\n",
    "    h0 = pi0 * case1nullLikelihood * case2nullLikelihood\n",
    "    h1 = pi1 * torch.exp( BetaBinomial(total_count=n, concentration1=alpha1, concentration0=alphasSum - alpha1).log_prob(altCounts[1]) ) * case2nullLikelihood\n",
    "    h2 = pi2 * torch.exp( BetaBinomial(total_count=n, concentration1=alpha2, concentration0=alphasSum - alpha2).log_prob(altCounts[2]) ) * case1nullLikelihood\n",
    "    h3 = piBoth * torch.exp( DirichletMultinomial(total_count=n, concentration=tensor([alpha0, alpha1, alpha2, alphaBoth])).log_prob(altCounts))\n",
    "    print(f\"h0: {h0}, h1: {h1}, h2: {h2}, h3: {h3}\")\n",
    "    return torch.log( h0 + h1 + h2 + h3 )\n",
    "\n",
    "# shape of altCountsByGene: [nGenes, nConditions, 2]\n",
    "# last dimension is \n",
    "# 2nd dimension altCountsCasesByGene must match controls, or the control nConditions must be 1 (pooled controls)\n",
    "def likelihoodUnivariate(altCountsByGene, pDs):\n",
    "    nGenes = len(altCountsByGene)\n",
    "    \n",
    "    # passed to optimization function, we optimize pDgivenV and pi1 by maximizing likelihood\n",
    "    def likelihood(params):\n",
    "        pDgivenV = params[0]\n",
    "        pi1 = params[1]\n",
    "        pi0 = 1 - pi1\n",
    "        \n",
    "        if(pDgivenV >= 1 or pDgivenV < 0 or pi1 < 0 or pi1 > 1):\n",
    "            print(\"returning inf\")\n",
    "            return float(\"-inf\")\n",
    "    \n",
    "        logLikelihood = 0\n",
    "        penaltyCount = float(nGenes)\n",
    "        \n",
    "        # \n",
    "        for geneIdx in range(nGenes):\n",
    "            ctrlAltCount = altCountsByGene[geneIdx, 0, 0]\n",
    "            caseAltCount = altCountsByGene[geneIdx, 0, 1]\n",
    "            pd = pDs[0]\n",
    "            \n",
    "            if ctrlAltCount == 0 and caseAltCount == 0:\n",
    "                print(\"skipping\", geneIdx)\n",
    "                continue\n",
    "\n",
    "            # this is insanely slow\n",
    "            ll = llUnivariateSingleGene(ctrlAltCount, caseAltCount, pd, pi0, pi1, pDgivenV)\n",
    "\n",
    "            if torch.isnan(ll) or torch.isinf(ll):\n",
    "                print(f\"nan or 0 likelihood: like: {like}, p1: {pi1}, pDgivenV: {pDgivenV}, gene: {geneIdx}, ctrlCount: {ctrlAltCount}, caseCount: {caseAltCount}\")\n",
    "                penaltyCount -= 1\n",
    "                continue\n",
    "                \n",
    "            logLikelihood += ll\n",
    "        \n",
    "    \n",
    "        if penaltyCount == 0:\n",
    "            penaltyCount = 1\n",
    "    \n",
    "        return -logLikelihood * (nGenes / penaltyCount)\n",
    "    \n",
    "    return likelihood\n",
    "\n",
    "def likelihoodUnivariateFast(altCountsByGene, pDs):\n",
    "    nGenes = len(altCountsByGene)\n",
    "    geneSums = altCountsByGene[:, 0, :].sum(1)\n",
    "        \n",
    "    caseAltCounts = altCountsByGene[:, 0, 1]\n",
    "    pD = pDs[0]\n",
    "    def likelihood(params):\n",
    "        pi1, pDgivenV = params\n",
    "\n",
    "        pi0 = 1.0 - pi1\n",
    "\n",
    "        if(pDgivenV > 1 or pDgivenV < 0 or pi1 < 0 or pi1 > 1):\n",
    "            return float(\"inf\")\n",
    "        \n",
    "        binomH0 = Binomial(total_count=geneSums, probs=pD)\n",
    "        binomH1 = Binomial(total_count=geneSums, probs=pDgivenV)\n",
    "        \n",
    "        component0 = pi0 * torch.exp(binomH0.log_prob(caseAltCounts))\n",
    "        component1 = pi1 * torch.exp(binomH1.log_prob(caseAltCounts))\n",
    "        \n",
    "        return - torch.log(component0 + component1).sum()\n",
    "    \n",
    "    return likelihood\n",
    "\n",
    "def likelihoodUnivariateBetaBinomialFast(altCountsByGene, pDs):\n",
    "    nGenes = len(altCountsByGene)\n",
    "    geneSums = altCountsByGene[:, 0, :].sum(1)\n",
    "        \n",
    "    caseAltCounts = altCountsByGene[:, 0, 1]\n",
    "    pD = pDs[0]\n",
    "    def likelihood(params):\n",
    "        pi1, alpha1, alpha0 = params\n",
    "\n",
    "        if alpha1 < 0 or alpha0 < 0 or pi1 < 0 or pi1 > 1:\n",
    "            return float(\"inf\")\n",
    "        \n",
    "        pi0 = 1.0 - pi1\n",
    "\n",
    "        binomH0 = Binomial(total_count=geneSums, probs=pD)\n",
    "        binomH1 = BetaBinomial(total_count=geneSums, concentration1=alpha1, concentration0=alpha0)\n",
    "        \n",
    "        component0 = pi0 * torch.exp(binomH0.log_prob(caseAltCounts))\n",
    "        component1 = pi1 * torch.exp(binomH1.log_prob(caseAltCounts))\n",
    "\n",
    "        return - torch.log(component0 + component1).sum()\n",
    "    \n",
    "    return likelihood\n",
    "\n",
    "def getUnivariateAlpha0(alpha1, pD):\n",
    "    return ((1-pD) / pD)*alpha1\n",
    "\n",
    "# doesn't really work constraint looks wrong\n",
    "def likelihoodUnivariateBetaBinomialConstrainedFast(altCountsByGene, pDs):\n",
    "    nGenes = len(altCountsByGene)\n",
    "    geneSums = altCountsByGene[:, 0, :].sum(1)\n",
    "        \n",
    "    caseAltCounts = altCountsByGene[:, 0, 1]\n",
    "    pD = pDs[0]\n",
    "    pNotDRatio = (1 - pD)/pD\n",
    "    def likelihood(params):\n",
    "        pi1, alpha1 = params\n",
    "        \n",
    "        if alpha1 < 0 or pi1 < 0 or pi1 > 1:\n",
    "            return float(\"inf\")\n",
    "        \n",
    "        pi0 = 1.0 - pi1\n",
    "        \n",
    "        alpha0 = pNotDRatio*alpha1\n",
    "        \n",
    "        assert(alpha0 > 0)\n",
    "        \n",
    "        print(\"alpha0\",alpha0)\n",
    "        \n",
    "        binomH0 = Binomial(total_count=geneSums, probs=pD)\n",
    "        binomH1 = BetaBinomial(total_count=geneSums, concentration1=alpha1, concentration0=alpha0)\n",
    "        \n",
    "        component0 = pi0 * torch.exp(binomH0.log_prob(caseAltCounts))\n",
    "        component1 = pi1 * torch.exp(binomH1.log_prob(caseAltCounts))\n",
    "\n",
    "        return - torch.log(component0 + component1).sum()\n",
    "    \n",
    "    return likelihood\n",
    "\n",
    "# Bivariate likelihood function modeled on:\n",
    "#def llPooledBivariateSingleGene(altCounts, pDs, alpha0, alpha1, alpha2, alphaBoth, pi0, pi1, pi2, piBoth):\n",
    "# # currently assume altCounts are all independent (in simulation), or 0 for everything but first condition\n",
    "# n = altCounts.sum()\n",
    "# alphasSum = alpha0 + alpha1 + alpha2 + alphaBoth\n",
    "# case1nullLikelihood = torch.exp( Binomial(total_count=n, probs=pDs[0]).log_prob(altCounts[1]) )\n",
    "# case2nullLikelihood = torch.exp( Binomial(total_count=n, probs=pDs[1]).log_prob(altCounts[2]) )\n",
    "# h0 = pi0 * case1nullLikelihood * case2nullLikelihood\n",
    "# h1 = pi1 * torch.exp( BetaBinomial(total_count=n, concentration1=alpha1, concentration0=alphasSum - alpha1).log_prob(altCounts[1]) ) * case2nullLikelihood\n",
    "# h2 = pi2 * torch.exp( BetaBinomial(total_count=n, concentration1=alpha2, concentration0=alphasSum - alpha2).log_prob(altCounts[2]) ) * case1nullLikelihood\n",
    "# h3 = piBoth * torch.exp( DirichletMultinomial(total_count=n, concentration=tensor([alpha0, alpha1, alpha2, alphaBoth])).log_prob(altCounts))\n",
    "# print(f\"h0: {h0}, h1: {h1}, h2: {h2}, h3: {h3}\")\n",
    "# return torch.log( h0 + h1 + h2 + h3 )\n",
    "def likelihoodBivariateFast(altCountsByGene, pDs):\n",
    "    nGenes = altCountsByGene.shape[0]\n",
    "\n",
    "    geneSums = altCountsByGene[:, :, :].sum([1,2])\n",
    "\n",
    "    ctrlCounts = altCountsByGene[:, 0, 0]\n",
    "    altCountsCases = altCountsByGene[:, :, 1]\n",
    "    \n",
    "    altCountsFlat = []\n",
    "    for geneIdx in range(nGenes):\n",
    "        altCountsFlat.append([ctrlCounts[geneIdx], *altCountsByGene[geneIdx, :, 1].flatten()])\n",
    "\n",
    "    altCountsFlat = tensor(altCountsFlat)\n",
    "    # nGenes x 4 \n",
    "    xCtrl = altCountsFlat[:, 0]\n",
    "    xCase1 = altCountsFlat[:, 1]\n",
    "    xCase2 = altCountsFlat[:, 2]\n",
    "    xCase12 = altCountsFlat[:, 3]\n",
    "    # nGenes x 1\n",
    "    n = xCtrl + xCase1 + xCase2 + xCase12\n",
    "    print(\"altCountsFlat\", altCountsFlat)\n",
    "    print(\"n\", n)\n",
    "    print(\"xCase1, xCase2, xCase12\", xCase1)\n",
    "    print(\"xCase1, xCase2, xCase12\", xCase2)\n",
    "    print(\"xCase1, xCase2, xCase12\", xCase12)\n",
    "    \n",
    "    pd1 = pDs[0]\n",
    "    pd2 = pDs[1]\n",
    "    pdBoth = pDs[2]\n",
    "\n",
    "    case1Null = torch.exp(Binomial(total_count=n, probs=pd1).log_prob(xCase1))\n",
    "    case2Null = torch.exp(Binomial(total_count=n, probs=pd2).log_prob(xCase2))\n",
    "    caseBothNull = torch.exp(Binomial(total_count=n, probs=pdBoth).log_prob(xCase12))\n",
    "    allNull = case1Null * case2Null * caseBothNull\n",
    "    def likelihood1(params):\n",
    "        # TODO: better to do constrained or unconstrained alpha1?\n",
    "        pi1, pi2, piBoth, alpha0, alpha1, alpha2, alphaBoth = params\n",
    "\n",
    "        if alpha0 < 0 or alpha1 < 0 or alpha2 < 0 or alphaBoth < 0 or pi1 < 0 or pi2 < 0 or piBoth < 0:\n",
    "            return float(\"inf\")\n",
    "        \n",
    "        pi0 = 1.0 - (pi1 + pi2 + piBoth)\n",
    "        \n",
    "        if pi0 < 0:\n",
    "            return float(\"inf\")\n",
    "        \n",
    "        alphasSum = alpha0 + alpha1 + alpha2 + alphaBoth\n",
    "        \n",
    "        h0 = pi0 * allNull\n",
    "\n",
    "        h1 = pi1 * torch.exp( BetaBinomial(total_count=n, concentration1=alpha1, concentration0=alphasSum - alpha1).log_prob(xCase1) ) * case2Null * caseBothNull\n",
    "        h2 = pi2 * torch.exp( BetaBinomial(total_count=n, concentration1=alpha2, concentration0=alphasSum - alpha2).log_prob(xCase2) ) * case1Null * caseBothNull\n",
    "        h3 = piBoth * torch.exp( DirichletMultinomial(total_count=n, concentration=tensor([alpha0, alpha1, alpha2, alphaBoth])).log_prob(altCountsFlat))\n",
    "\n",
    "        return -torch.log( h0 + h1 + h2 + h3 ).sum()\n",
    "    \n",
    "    def likelihood1a(params):\n",
    "        # TODO: better to do constrained or unconstrained alpha1?\n",
    "        pi1, pi2, piBoth, alpha0, alpha1, alpha2, alphaBoth = params\n",
    "\n",
    "        if alpha0 < 0 or alpha1 < 0 or alpha2 < 0 or alphaBoth < 0 or pi1 < 0 or pi2 < 0 or piBoth < 0:\n",
    "            return float(\"inf\")\n",
    "        \n",
    "        pi0 = 1.0 - (pi1 + pi2 + piBoth)\n",
    "        \n",
    "        if pi0 < 0:\n",
    "            return float(\"inf\")\n",
    "        \n",
    "        alphasSum = alpha0 + alpha1 + alpha2 + alphaBoth\n",
    "        \n",
    "        h0 = pi0 * allNull\n",
    "\n",
    "        h1 = pi1 * torch.exp( BetaBinomial(total_count=n, concentration1=alpha1, concentration0=alphasSum - alpha1).log_prob(xCase1) ) * case2Null\n",
    "        h2 = pi2 * torch.exp( BetaBinomial(total_count=n, concentration1=alpha2, concentration0=alphasSum - alpha2).log_prob(xCase2) ) * case1Null\n",
    "        h3 = piBoth * torch.exp( DirichletMultinomial(total_count=n, concentration=tensor([alpha0, alpha1, alpha2, alphaBoth])).log_prob(altCountsFlat))\n",
    "\n",
    "        return -torch.log( h0 + h1 + h2 + h3 ).sum()\n",
    "    \n",
    "    def likelihood1b(params):\n",
    "        # TODO: better to do constrained or unconstrained alpha1?\n",
    "        pi1, pi2, piBoth, alpha0, alpha1, alpha2, alphaBoth = params\n",
    "\n",
    "        if alpha0 < 0 or alpha1 < 0 or alpha2 < 0 or alphaBoth < 0 or pi1 < 0 or pi2 < 0 or piBoth < 0:\n",
    "            return float(\"inf\")\n",
    "        \n",
    "        pi0 = 1.0 - (pi1 + pi2 + piBoth)\n",
    "        \n",
    "        if pi0 < 0:\n",
    "            return float(\"inf\")\n",
    "        \n",
    "        alphasSum = alpha0 + alpha1 + alpha2 + alphaBoth\n",
    "        \n",
    "        h0 = pi0 * allNull\n",
    "\n",
    "        h1 = pi1 * torch.exp( BetaBinomial(total_count=n, concentration1=alpha1, concentration0=alphasSum - alpha1).log_prob(xCase1 + xCase12) ) * case2Null\n",
    "        h2 = pi2 * torch.exp( BetaBinomial(total_count=n, concentration1=alpha2, concentration0=alphasSum - alpha2).log_prob(xCase2 + xCase12) ) * case1Null\n",
    "        h3 = piBoth * torch.exp( DirichletMultinomial(total_count=n, concentration=tensor([alpha0, alpha1, alpha2, alphaBoth])).log_prob(altCountsFlat))\n",
    "\n",
    "        return -torch.log( h0 + h1 + h2 + h3 ).sum()\n",
    "    \n",
    "    def likelihoodConstrained(params):\n",
    "        # TODO: better to do constrained or unconstrained alpha1?\n",
    "        pi1, pi2, piBoth, alpha0, alpha1, alpha2, alphaBoth = params\n",
    "\n",
    "        if alpha0 < 0 or alpha1 < 0 or alpha2 < 0 or alphaBoth < 0 or pi1 < 0 or pi2 < 0 or piBoth < 0:\n",
    "            return float(\"inf\")\n",
    "        \n",
    "        pi0 = 1.0 - (pi1 + pi2 + piBoth)\n",
    "        \n",
    "        if pi0 < 0:\n",
    "            return float(\"inf\")\n",
    "        \n",
    "        alphasSum = alpha0 + alpha1 + alpha2 + alphaBoth\n",
    "        \n",
    "        h0 = pi0 * allNull\n",
    "        \n",
    "        # idea 1\n",
    "        # alpha1 and alpha0 determined\n",
    "        # A gene has counts from gene1 samples 2 , from gene2 samples 1 geneBoth count\n",
    "        # if i have some people that only have 1, that is evidence for gene1 liability, but says nothing for liability for \n",
    "        # the more shared risk there is, the more the count will be in the \"both category\", \n",
    "        # the fewer people will be only one or the other\n",
    "        # so eventually all \n",
    "        # \n",
    "        h1 = pi1 * torch.exp( DirichletMultinomial(total_count=n, concentration1=alpha1, concentration0=alphasSum - alpha1).log_prob(xCase1 + xCase12) ) * case2Null\n",
    "        \n",
    "        h1 = pi1 * torch.exp( BetaBinomial(total_count=n, concentration1=alpha1, concentration0=alphasSum - alpha1).log_prob(xCase1 + xCase12) ) * case2Null\n",
    "        h2 = pi2 * torch.exp( BetaBinomial(total_count=n, concentration1=alpha2, concentration0=alphasSum - alpha2).log_prob(xCase2 + xCase12) ) * case1Null\n",
    "        h3 = piBoth * torch.exp( DirichletMultinomial(total_count=n, concentration=tensor([alpha0, alpha1, alpha2, alphaBoth])).log_prob(altCountsFlat))\n",
    "\n",
    "        return -torch.log( h0 + h1 + h2 + h3 ).sum()\n",
    "    \n",
    "#     def likelihood1b(params):\n",
    "#         # TODO: better to do constrained or unconstrained alpha1?\n",
    "#         pi1, pi2, piBoth, alpha0, alpha1, alpha2, alphaBoth = params\n",
    "\n",
    "#         if alpha0 < 0 or alpha1 < 0 or alpha2 < 0 or alphaBoth < 0 or pi1 < 0 or pi2 < 0 or piBoth < 0:\n",
    "#             return float(\"inf\")\n",
    "        \n",
    "#         pi0 = 1.0 - (pi1 + pi2 + piBoth)\n",
    "        \n",
    "#         if pi0 < 0:\n",
    "#             return float(\"inf\")\n",
    "        \n",
    "#         alphasSum = alpha0 + alpha1 + alpha2 + alphaBoth\n",
    "        \n",
    "#         h0 = pi0 * allNull\n",
    "\n",
    "#         h1 = pi1 * torch.exp( BetaBinomial(total_count=geneSums, concentration1=alpha1, concentration0=alphasSum - alpha1).log_prob(altCountsFlat[:, 1]) )\n",
    "#         h2 = pi2 * torch.exp( BetaBinomial(total_count=geneSums, concentration1=alpha2, concentration0=alphasSum - alpha2).log_prob(altCountsFlat[:, 2]) )\n",
    "#         h3 = piBoth * torch.exp( DirichletMultinomial(total_count=geneSums, concentration=tensor([alpha0, alpha1, alpha2, alphaBoth])).log_prob(altCountsFlat))\n",
    "\n",
    "#         return -torch.log( h0 + h1 + h2 + h3 ).sum()\n",
    "    \n",
    "#     def likelihood2(params):\n",
    "#         # TODO: better to do constrained or unconstrained alpha1?\n",
    "#         pi1, pi2, piBoth, alpha0, alpha1, alpha2, alphaBoth = params\n",
    "\n",
    "#         if alpha0 < 0 or alpha1 < 0 or alpha2 < 0 or alphaBoth < 0 or pi1 < 0 or pi2 < 0 or piBoth < 0:\n",
    "#             return float(\"inf\")\n",
    "        \n",
    "#         pi0 = 1.0 - (pi1 + pi2 + piBoth)\n",
    "        \n",
    "#         if pi0 < 0:\n",
    "#             return float(\"inf\")\n",
    "        \n",
    "#         alphasSum = alpha0 + alpha1 + alpha2 + alphaBoth\n",
    "        \n",
    "#         h0 = pi0 * allNull\n",
    "\n",
    "#         h1 = pi1 * torch.exp( BetaBinomial(total_count=geneSums, concentration1=alpha1, concentration0=alphasSum - alpha1).log_prob(altCountsFlat[:, 1] + altCountsFlat[:, 3]) ) * case2andBothNull\n",
    "#         h2 = pi2 * torch.exp( BetaBinomial(total_count=geneSums, concentration1=alpha2, concentration0=alphasSum - alpha2).log_prob(altCountsFlat[:, 2] + altCountsFlat[:, 3]) ) * case1andBothNull\n",
    "#         h3 = piBoth * torch.exp( DirichletMultinomial(total_count=geneSums, concentration=tensor([alpha0, alpha1, alpha2, alphaBoth])).log_prob(altCountsFlat))\n",
    "\n",
    "#         return -torch.log( h0 + h1 + h2 + h3 ).sum()\n",
    "    \n",
    "#     def likelihood2a(params):\n",
    "#         # TODO: better to do constrained or unconstrained alpha1?\n",
    "#         pi1, pi2, piBoth, alpha0, alpha1, alpha2, alphaBoth = params\n",
    "\n",
    "#         if alpha0 < 0 or alpha1 < 0 or alpha2 < 0 or alphaBoth < 0 or pi1 < 0 or pi2 < 0 or piBoth < 0:\n",
    "#             return float(\"inf\")\n",
    "        \n",
    "#         pi0 = 1.0 - (pi1 + pi2 + piBoth)\n",
    "        \n",
    "#         if pi0 < 0:\n",
    "#             return float(\"inf\")\n",
    "        \n",
    "#         alphasSum = alpha0 + alpha1 + alpha2 + alphaBoth\n",
    "        \n",
    "#         h0 = pi0 * allNull\n",
    "\n",
    "#         h1 = pi1 * torch.exp( BetaBinomial(total_count=geneSums, concentration1=alpha1, concentration0=alphasSum - alpha1).log_prob(altCountsFlat[:, 1] + altCountsFlat[:, 3]) ) * case2null\n",
    "#         h2 = pi2 * torch.exp( BetaBinomial(total_count=geneSums, concentration1=alpha2, concentration0=alphasSum - alpha2).log_prob(altCountsFlat[:, 2] + altCountsFlat[:, 3]) ) * case1null\n",
    "#         h3 = piBoth * torch.exp( DirichletMultinomial(total_count=geneSums, concentration=tensor([alpha0, alpha1, alpha2, alphaBoth])).log_prob(altCountsFlat))\n",
    "\n",
    "#         return -torch.log( h0 + h1 + h2 + h3 ).sum()\n",
    "\n",
    "#     def likelihood2b(params):\n",
    "#         # TODO: better to do constrained or unconstrained alpha1?\n",
    "#         pi1, pi2, piBoth, alpha0, alpha1, alpha2, alphaBoth = params\n",
    "\n",
    "#         if alpha0 < 0 or alpha1 < 0 or alpha2 < 0 or alphaBoth < 0 or pi1 < 0 or pi2 < 0 or piBoth < 0:\n",
    "#             return float(\"inf\")\n",
    "        \n",
    "#         pi0 = 1.0 - (pi1 + pi2 + piBoth)\n",
    "        \n",
    "#         if pi0 < 0:\n",
    "#             return float(\"inf\")\n",
    "        \n",
    "#         alphasSum = alpha0 + alpha1 + alpha2 + alphaBoth\n",
    "        \n",
    "#         h0 = pi0 * allNull\n",
    "\n",
    "#         h1 = pi1 * torch.exp( BetaBinomial(total_count=geneSums, concentration1=alpha1, concentration0=alphasSum - alpha1).log_prob(altCountsFlat[:, 1] + altCountsFlat[:, 3]) )\n",
    "#         h2 = pi2 * torch.exp( BetaBinomial(total_count=geneSums, concentration1=alpha2, concentration0=alphasSum - alpha2).log_prob(altCountsFlat[:, 2] + altCountsFlat[:, 3]) )\n",
    "#         h3 = piBoth * torch.exp( DirichletMultinomial(total_count=geneSums, concentration=tensor([alpha0, alpha1, alpha2, alphaBoth])).log_prob(altCountsFlat))\n",
    "\n",
    "#         return -torch.log( h0 + h1 + h2 + h3 ).sum()\n",
    "    \n",
    "#     def likelihood3(params):\n",
    "#         # TODO: better to do constrained or unconstrained alpha1?\n",
    "#         pi1, pi2, piBoth, alpha0, alpha1, alpha2, alphaBoth = params\n",
    "\n",
    "#         if alpha0 < 0 or alpha1 < 0 or alpha2 < 0 or alphaBoth < 0 or pi1 < 0 or pi2 < 0 or piBoth < 0:\n",
    "#             return float(\"inf\")\n",
    "        \n",
    "#         pi0 = 1.0 - (pi1 + pi2 + piBoth)\n",
    "        \n",
    "#         if pi0 < 0:\n",
    "#             return float(\"inf\")\n",
    "        \n",
    "#         alphasSum = alpha0 + alpha1 + alpha2 + alphaBoth\n",
    "        \n",
    "#         h0 = pi0 * allNull\n",
    "\n",
    "#         h1 = pi1 * torch.exp( BetaBinomial(total_count=geneSums, concentration1=alpha1, concentration0=alphasSum - alpha1).log_prob(altCountsFlat[:, 1] + altCountsFlat[:, 2] + altCountsFlat[:, 3]) )\n",
    "#         h2 = pi2 * torch.exp( BetaBinomial(total_count=geneSums, concentration1=alpha2, concentration0=alphasSum - alpha2).log_prob(altCountsFlat[:, 2] + altCountsFlat[:, 1] + altCountsFlat[:, 3]) )\n",
    "#         h3 = piBoth * torch.exp( DirichletMultinomial(total_count=geneSums, concentration=tensor([alpha0, alpha1, alpha2, alphaBoth])).log_prob(altCountsFlat))\n",
    "\n",
    "#         return -torch.log( h0 + h1 + h2 + h3 ).sum()\n",
    "    \n",
    "#     def likelihood4(params):\n",
    "#         # TODO: better to do constrained or unconstrained alpha1?\n",
    "#         pi1, pi2, piBoth, alpha0, alpha1, alpha2, alphaBoth = params\n",
    "\n",
    "#         if alpha0 < 0 or alpha1 < 0 or alpha2 < 0 or alphaBoth < 0 or pi1 < 0 or pi2 < 0 or piBoth < 0:\n",
    "#             return float(\"inf\")\n",
    "        \n",
    "#         pi0 = 1.0 - (pi1 + pi2 + piBoth)\n",
    "        \n",
    "#         if pi0 < 0:\n",
    "#             return float(\"inf\")\n",
    "        \n",
    "#         alphasSum = alpha0 + alpha1 + alpha2 + alphaBoth\n",
    "        \n",
    "#         h0 = pi0 * allNull\n",
    "\n",
    "#         h1 = pi1 * torch.exp( DirichletMultinomial(total_count=geneSums - altCountsFlat[:, 3], concentration=tensor([alpha1, alpha2])).log_prob(altCountsFlat[:, 1:3]))\n",
    "#         h2 = pi2 * torch.exp( DirichletMultinomial(total_count=geneSums , concentration=tensor([alpha0, alpha1, alpha2, alphaBoth])).log_prob(altCountsFlat))\n",
    "\n",
    "#         return -torch.log( h0 + h1 + h2 ).sum()\n",
    "\n",
    "    return likelihood1, likelihood1a, likelihood1b #likelihood1b, likelihood2, likelihood2a, likelihood2b, likelihood3, likelihood4\n",
    "\n",
    "def cb(f, context):\n",
    "    print(\"got callback\", f, context)\n",
    "\n",
    "# TODO: update for multivariate\n",
    "def fitFnUniveriate(altCountsByGene, pDs, nEpochs = 100, minLLThresholdCount = 100, debug = False):\n",
    "    costFn = likelihoodUnivariateFast(altCountsByGene, pDs)\n",
    "    \n",
    "    lls = []\n",
    "    params = []\n",
    "\n",
    "    minLLDiff = 1\n",
    "    thresholdHitCount = 0\n",
    "    \n",
    "    nGenes = len(altCountsByGene)\n",
    "\n",
    "    randomDist = Uniform(1/nGenes, .5)\n",
    "    randomDist2 = Uniform(0, 1)\n",
    "    \n",
    "        # pDgivenV can't be smaller than this assuming allele freq > 1e-6 and rr < 100\n",
    "    # P(V|D) * P(D) / P(V)\n",
    "#     pDgivenVbounds = ( pVgivenD(2, 1e-6) * .001 / 1e-6, pVgivenD(100, 1e-2) * .1 / 1e-2 )\n",
    "#     pi1Bounds = ( 1/nGenes,  1 )\n",
    "#     bounds = [pDgivenVbounds, pi1Bounds]\n",
    "    for i in range(nEpochs):\n",
    "        best = float(\"inf\")\n",
    "        bestParams = []\n",
    "        for y in range(100):\n",
    "            # pi1, p(D|V)\n",
    "            fnArgs = [randomDist.sample(), randomDist2.sample()]\n",
    "            ll = costFn(fnArgs)\n",
    "            if ll < best:\n",
    "                best = ll\n",
    "                bestParams = fnArgs\n",
    "                \n",
    "        if debug:\n",
    "            print(f\"best ll: {best}, params: {bestParams}\")\n",
    "\n",
    "        fit = scipy.optimize.minimize(costFn, x0 = bestParams, method='Nelder-Mead', options={\"maxiter\": 10000, \"adaptive\": True})#gp_minimize(costFn, [(1e-7, .9),(1/nGenes, .99)])#scipy.optimize.minimize(costFn, x0 = fnArgs, method=\"Nelder-Mead\", options={\"maxiter\": 10000})\n",
    "        \n",
    "        if debug:\n",
    "            print(f\"epoch {i}\")\n",
    "            print(fit)\n",
    "\n",
    "        if not fit[\"success\"] is True:\n",
    "            if debug:\n",
    "                print(\"Failed to converge\")\n",
    "                print(fit)\n",
    "            continue\n",
    "        \n",
    "        pi1, pDgivenV= fit[\"x\"]\n",
    "        if pDgivenV < 0 or pDgivenV > 1 or pi1 < 1/nGenes or pi1 > 1:\n",
    "            if debug:\n",
    "                print(\"Failed to converge\")\n",
    "                print(fit)\n",
    "            continue\n",
    "        \n",
    "        ll = fit[\"fun\"]\n",
    "        if len(lls) == 0:\n",
    "            lls.append(ll)\n",
    "            params.append(fit[\"x\"])\n",
    "            continue\n",
    "\n",
    "        minPrevious = min(lls)\n",
    "        \n",
    "        if debug:\n",
    "            print(\"minPrevious\", minPrevious)\n",
    "            \n",
    "        # TODO: take mode of some pc-based cluster of parameters, or some auto-encoded cluster\n",
    "        if ll < minPrevious and (minPrevious - ll) >= minLLDiff:\n",
    "            if debug:\n",
    "                print(f\"better by at >= {minLLDiff}; new ll: {fit}\")\n",
    "\n",
    "            lls.append(ll)\n",
    "            params.append(fit[\"x\"])\n",
    "            \n",
    "            thresholdHitCount = 0\n",
    "            continue\n",
    "\n",
    "        thresholdHitCount += 1\n",
    "        \n",
    "        if thresholdHitCount == minLLThresholdCount:\n",
    "            break\n",
    "            \n",
    "    return {\"lls\": lls, \"params\": params}\n",
    "\n",
    "\n",
    "# TODO: maybe beta distribution should be constrained such that variance is that of the data?\n",
    "# or maybe there's an analog to 0 mean liability variance?\n",
    "def fitFnUniveriateBetaBinomial(altCountsByGene, pDs, nEpochs = 100, minLLThresholdCount = 100, debug = False):\n",
    "    costFn = likelihoodUnivariateBetaBinomialFast(altCountsByGene, pDs)\n",
    "    \n",
    "    llsAll = []\n",
    "    lls = []\n",
    "    params = []\n",
    "\n",
    "    minLLDiff = 1\n",
    "    thresholdHitCount = 0\n",
    "    \n",
    "    nGenes = len(altCountsByGene)\n",
    "    remainingEpochs = nEpochs\n",
    "    \n",
    "    randomDist = Uniform(1/nGenes, .5)\n",
    "    randomDist2 = Uniform(100, 25000)\n",
    "    # pDgivenV can't be smaller than this assuming allele freq > 1e-6 and rr < 100\n",
    "    # P(V|D) * P(D) / P(V)\n",
    "    while remainingEpochs > 0:\n",
    "        best = float(\"inf\")\n",
    "        bestParams = []\n",
    "        for i in range(50):\n",
    "            # pi1, alpha1, alpha0\n",
    "            fnArgs = [randomDist.sample(), randomDist2.sample(), randomDist2.sample()]\n",
    "            ll = costFn(fnArgs)\n",
    "            if ll < best:\n",
    "                best = ll\n",
    "                bestParams = fnArgs\n",
    "        \n",
    "        if debug:\n",
    "            print(f\"best ll: {best}, bestParams: {bestParams}\")\n",
    "\n",
    "        fit = scipy.optimize.minimize(costFn, x0 = bestParams, method='Nelder-Mead', options={\"maxiter\": 10000, \"adaptive\": True})#gp_minimize(costFn, [(1e-7, .9),(1/nGenes, .99)])#scipy.optimize.minimize(costFn, x0 = fnArgs, method=\"Nelder-Mead\", options={\"maxiter\": 10000})\n",
    "        #fit = scipy.optimize.basinhopping(costFn, x0 = bestParams)\n",
    "        if debug:\n",
    "            print(f\"epoch {remainingEpochs}\")\n",
    "            print(fit)\n",
    "\n",
    "        if not fit[\"success\"] is True:\n",
    "            if debug:\n",
    "                print(\"Failed to converge\")\n",
    "                print(fit)\n",
    "            continue\n",
    "        \n",
    "        \n",
    "        pi1, alpha1, alpha0 = fit[\"x\"]\n",
    "        # TODO: is pi1 > .5 restriction sound?\n",
    "        if pi1 < 1/nGenes or pi1 > .5 or alpha1 <= 0 or alpha0 <= 0:\n",
    "            if debug:\n",
    "                print(\"Failed to converge\")\n",
    "                print(fit)\n",
    "            continue\n",
    "            \n",
    "        remainingEpochs -= 1\n",
    "        \n",
    "        ll = fit[\"fun\"]\n",
    "        llsAll.append(ll)\n",
    "        if len(lls) == 0:\n",
    "            lls.append(ll)\n",
    "            params.append(fit[\"x\"])\n",
    "            continue\n",
    "\n",
    "        minPrevious = min(lls)\n",
    "        \n",
    "        if debug:\n",
    "            print(\"minPrevious\", minPrevious)\n",
    "            \n",
    "        # TODO: take mode of some pc-based cluster of parameters, or some auto-encoded cluster\n",
    "        if ll < minPrevious and (minPrevious - ll) >= minLLDiff:\n",
    "            if debug:\n",
    "                print(f\"better by at >= {minLLDiff}; new ll: {fit}\")\n",
    "\n",
    "            lls.append(ll)\n",
    "            params.append(fit[\"x\"])\n",
    "            \n",
    "            thresholdHitCount = 0\n",
    "            continue\n",
    "\n",
    "        thresholdHitCount += 1\n",
    "        \n",
    "        if thresholdHitCount == minLLThresholdCount:\n",
    "            break\n",
    "            \n",
    "    return {\"lls\": lls, \"params\": params, \"llTrajectory\": llsAll}\n",
    "\n",
    "# Constrain alpha0 by using 1-P(D)\n",
    "# def fitFnUniveriateBetaBinomialConstrained(altCountsByGene, pDs, nEpochs = 100, minLLThresholdCount = 100, debug = False):\n",
    "#     costFn = likelihoodUnivariateBetaBinomialConstrainedFast(altCountsByGene, pDs)\n",
    "    \n",
    "#     llsAll = []\n",
    "#     lls = []\n",
    "#     params = []\n",
    "\n",
    "#     minLLDiff = 1\n",
    "#     thresholdHitCount = 0\n",
    "    \n",
    "#     randomDist = Uniform(0, 1)\n",
    "#     randomDist2 = Uniform(1, 10000)\n",
    "#     fnArgs = [0, 0]\n",
    "#     # pDgivenV can't be smaller than this assuming allele freq > 1e-6 and rr < 100\n",
    "#     # P(V|D) * P(D) / P(V)\n",
    "#     nGenes = len(altCountsByGene)\n",
    "#     remainingEpochs = nEpochs\n",
    "#     while remainingEpochs > 0:\n",
    "#         # pi1\n",
    "#         fnArgs[0] = randomDist.sample()\n",
    "#         # alpha1\n",
    "#         fnArgs[1] = randomDist2.sample()\n",
    "#         fit = scipy.optimize.minimize(costFn, x0 = fnArgs, method='Nelder-Mead', options={\"maxiter\": 10000})#gp_minimize(costFn, [(1e-7, .9),(1/nGenes, .99)])#scipy.optimize.minimize(costFn, x0 = fnArgs, method=\"Nelder-Mead\", options={\"maxiter\": 10000})\n",
    "        \n",
    "#         if debug:\n",
    "#             print(f\"epoch {remainingEpochs}\")\n",
    "#             print(fit)\n",
    "\n",
    "#         if not fit[\"success\"] is True:\n",
    "#             if debug:\n",
    "#                 print(\"Failed to converge\")\n",
    "#                 print(fit)\n",
    "#             continue\n",
    "        \n",
    "        \n",
    "#         pi1, alpha1 = fit[\"x\"]\n",
    "#         # TODO: is pi1 > .5 restriction sound?\n",
    "#         if pi1 < 1/nGenes or pi1 > .5 or alpha1 <= 0:\n",
    "#             if debug:\n",
    "#                 print(\"Failed to converge\")\n",
    "#                 print(fit)\n",
    "#             continue\n",
    "            \n",
    "#         remainingEpochs -= 1\n",
    "        \n",
    "#         ll = fit[\"fun\"]\n",
    "#         llsAll.append(ll)\n",
    "#         if len(lls) == 0:\n",
    "#             lls.append(ll)\n",
    "#             params.append(fit[\"x\"])\n",
    "#             continue\n",
    "\n",
    "#         minPrevious = min(lls)\n",
    "        \n",
    "#         if debug:\n",
    "#             print(\"minPrevious\", minPrevious)\n",
    "            \n",
    "#         # TODO: take mode of some pc-based cluster of parameters, or some auto-encoded cluster\n",
    "#         if ll < minPrevious and (minPrevious - ll) >= minLLDiff:\n",
    "#             if debug:\n",
    "#                 print(f\"better by at >= {minLLDiff}; new ll: {fit}\")\n",
    "\n",
    "#             lls.append(ll)\n",
    "#             params.append(fit[\"x\"])\n",
    "            \n",
    "#             thresholdHitCount = 0\n",
    "#             continue\n",
    "\n",
    "#         thresholdHitCount += 1\n",
    "        \n",
    "#         if thresholdHitCount == minLLThresholdCount:\n",
    "#             break\n",
    "            \n",
    "#     return {\"lls\": lls, \"params\": params, \"llTrajectory\": llsAll}\n",
    "\n",
    "# TODO: maybe beta distribution should be constrained such that variance is that of the data?\n",
    "# or maybe there's an analog to 0 mean liability variance\n",
    "def fitFnBivariate(altCountsByGene, pDs, nEpochs = 100, minLLThresholdCount = 100, K = 4, debug = False, costFnIdx = 0):\n",
    "    costFunctions = likelihoodBivariateFast(altCountsByGene, pDs)\n",
    "\n",
    "    costFn = costFunctions[costFnIdx]\n",
    "    print(\"past\", costFn)\n",
    "    llsAll = []\n",
    "    lls = []\n",
    "    params = []\n",
    "\n",
    "    minLLDiff = 1\n",
    "    thresholdHitCount = 0\n",
    "    \n",
    "    nGenes = len(altCountsByGene)\n",
    "    \n",
    "    # pDgivenV can't be smaller than this assuming allele freq > 1e-6 and rr < 100\n",
    "    # P(V|D) * P(D) / P(V)\n",
    "    pi0Dist = Uniform(.5, 1)\n",
    "    alphasDist = Uniform(100, 25000)    \n",
    "    for i in range(nEpochs):\n",
    "        # TODO: should we constrain alpha0 to the pD, i.e\n",
    "        # E[P(D)] = alpha1 / sum(alphasRes)\n",
    "        # P(D) * (alphasRes) = alpha1\n",
    "        best = float(\"inf\")\n",
    "        bestParams = []\n",
    "        for y in range(100):\n",
    "            pi0 = pi0Dist.sample()\n",
    "            pis = Uniform(1/nGenes, 1-pi0).sample([K-1])\n",
    "            pis = pis/(pis.sum() + pi0)\n",
    "#             print(\"pi0\", pi0, \"pis\", pis, \"sum\", pis.sum())\n",
    "            fnArgs = [*pis, *alphasDist.sample([K,])]\n",
    "\n",
    "            ll = costFn(fnArgs)\n",
    "            if ll < best:\n",
    "                best = ll\n",
    "                bestParams = fnArgs\n",
    "        \n",
    "        print(f\"best ll: {best}, bestParams: {bestParams}\")\n",
    "\n",
    "#         fnArgs = [probs[0], probs[1], probs[2], *alphas]\n",
    "        fit = scipy.optimize.minimize(costFn, x0 = bestParams, method='Nelder-Mead', options={\"maxiter\": 10000, \"adaptive\": True})\n",
    "\n",
    "        if debug:\n",
    "            print(f\"epoch {i}\")\n",
    "            print(fit)\n",
    "\n",
    "        if not fit[\"success\"] is True:\n",
    "            if debug:\n",
    "                print(\"Failed to converge\")\n",
    "                print(fit)\n",
    "            continue\n",
    "        \n",
    "        \n",
    "        pi1, pi2, piBoth, alpha0, alpha1, alpha2, alphaBoth = fit[\"x\"]\n",
    "        if alpha0 < 0 or alpha1 < 0 or alpha2 < 0 or alphaBoth < 0 or pi1 < 0 or pi1 > 1 or pi2 < 0 or pi2 > 1 or piBoth < 0 or piBoth > 1:\n",
    "            if debug:\n",
    "                print(\"Failed to converge\")\n",
    "                print(fit)\n",
    "            continue\n",
    "        \n",
    "        ll = fit[\"fun\"]\n",
    "        llsAll.append(ll)\n",
    "        if len(lls) == 0:\n",
    "            lls.append(ll)\n",
    "            params.append(fit[\"x\"])\n",
    "            continue\n",
    "\n",
    "        minPrevious = min(lls)\n",
    "        \n",
    "        if debug:\n",
    "            print(\"minPrevious\", minPrevious)\n",
    "            \n",
    "        # TODO: take mode of some pc-based cluster of parameters, or some auto-encoded cluster\n",
    "        if ll < minPrevious and (minPrevious - ll) >= minLLDiff:\n",
    "            if debug:\n",
    "                print(f\"better by at >= {minLLDiff}; new ll: {fit}\")\n",
    "\n",
    "            lls.append(ll)\n",
    "            params.append(fit[\"x\"])\n",
    "            \n",
    "            thresholdHitCount = 0\n",
    "            continue\n",
    "\n",
    "        thresholdHitCount += 1\n",
    "        \n",
    "        if thresholdHitCount == minLLThresholdCount:\n",
    "            break\n",
    "            \n",
    "    return {\"lls\": lls, \"params\": params, \"llTrajectory\": llsAll}\n",
    "\n",
    "def initBetaParams(mu, variance):\n",
    "    alpha = ((1 - mu) / variance - 1 / variance) * mu**2\n",
    "    beta = alpha * (1/mu -1)\n",
    "    \n",
    "    return alpha, beta"
   ]
  },
  {
   "cell_type": "code",
   "execution_count": null,
   "metadata": {},
   "outputs": [],
   "source": [
    "###### all named tuples used\n",
    "\n",
    "Samples = namedtuple(\"Samples\", [\"ctrls\", \"cases\"])"
   ]
  },
  {
   "cell_type": "code",
   "execution_count": null,
   "metadata": {},
   "outputs": [],
   "source": [
    "# nSamples shape: [nConditions, 2] , last dim is ctrls, cases\n",
    "\n",
    "# this is insanely slow for some reason, and almost all time is in the expanded binomial sampling\n",
    "# def genData(nSamples, pDs, diseaseFractions, rrShape, rrMeans, afMean, afShape, nGenes = 20000):\n",
    "#     # TODO: assert shapes match\n",
    "#     print(\"TESTING WITH: nSamples\", nSamples, \"rrMean\", rrMeans, \"rrShape\", rrShape, \"afMean\", afMean, \"afShape\", afShape, \"diseaseFractions\", diseaseFractions, \"pDs\", pDs)\n",
    "    \n",
    "#     nConditions = len(nSamples)\n",
    "#     probs = []\n",
    "#     afDist = Gamma(concentration=afShape,rate=afShape/afMean)\n",
    "#     rrDist = Gamma(concentration=rrShape,rate=rrShape/rrMeans)\n",
    "#     rrNullDist = Gamma(concentration=rrShape,rate=rrShape.expand(nConditions))\n",
    "    \n",
    "#     # shape == [nGenes, nConditions]\n",
    "#     afs = afDist.sample([nGenes,])   \n",
    "#     rrs = rrDist.sample([nGenes,])\n",
    "#     rrNulls = rrNullDist.sample([nGenes,])\n",
    "#     for geneIdx in range(nGenes):\n",
    "#         geneProbs = []\n",
    "#         for conditionIdx in range(nConditions):\n",
    "#             # TODO: sample from uniform\n",
    "#             if geneIdx < nGenes * diseaseFractions[conditionIdx]:\n",
    "#                 rr = rrs[geneIdx, conditionIdx]\n",
    "#             else:\n",
    "#                 rr = rrNulls[geneIdx, conditionIdx]\n",
    "            \n",
    "#             probVgivenD = pVgivenD(rr, afs[geneIdx])\n",
    "#             probVgivenNotD = pVgivenNotD(pDs[conditionIdx], afs[geneIdx], probVgivenD)\n",
    "            \n",
    "#             geneProbs.append([probVgivenNotD, probVgivenD])\n",
    "#         probs.append(geneProbs)\n",
    "#     probs = tensor(probs)\n",
    "\n",
    "#     # This should not be slow but is\n",
    "#     # https://github.com/pytorch/pytorch/issues/11389\n",
    "#     start = time.time()\n",
    "#     altCounts = Binomial(total_count=nSamples.expand([nGenes, *nSamples.shape]), probs=probs).sample()\n",
    "#     print(\"final sampling took\", time.time() - start)\n",
    "    \n",
    "#     return altCounts, probs\n",
    "\n",
    "def genDataSequential(nSamples, pDs, diseaseFractions, rrShape, rrMeans, afMean, afShape, nGenes = 20000):\n",
    "    # TODO: assert shapes match\n",
    "    print(\"TESTING WITH: nSamples\", nSamples, \"rrMean\", rrMeans, \"rrShape\", rrShape, \"afMean\", afMean, \"afShape\", afShape, \"diseaseFractions\", diseaseFractions, \"pDs\", pDs)\n",
    "    \n",
    "    nConditions = len(nSamples)\n",
    "    altCounts = []\n",
    "    probs = []\n",
    "    afDist = Gamma(concentration=afShape,rate=afShape/afMean)\n",
    "    rrDist = Gamma(concentration=rrShape,rate=rrShape/rrMeans)\n",
    "    rrNullDist = Gamma(concentration=rrShape,rate=rrShape.expand(nConditions))\n",
    "    \n",
    "    # shape == [nGenes, nConditions]\n",
    "    afs = afDist.sample([nGenes,])   \n",
    "    rrs = rrDist.sample([nGenes,])\n",
    "    rrNulls = rrNullDist.sample([nGenes,])\n",
    "    \n",
    "    endIndices = nGenes * diseaseFractions\n",
    "    startIndices = []\n",
    "    for i in range(len(t)):\n",
    "        if i == 0:\n",
    "            startIndices.append(0)\n",
    "            continue\n",
    "        endIndices[i] += endIndices[i-1]\n",
    "        startIndices.append(endIndices[i-1])\n",
    "    \n",
    "    print(\"startIndices\", startIndices, \"endIndices\", endIndices)\n",
    "    for geneIdx in range(nGenes):\n",
    "        geneAltCounts = []\n",
    "        geneProbs = []\n",
    "        for conditionIdx in range(nConditions):\n",
    "            # TODO: sample from uniform\n",
    "            if geneIdx >= startIndices[conditionIdx] and geneIdx < endIndices[conditionIdx]:\n",
    "                rr = rrs[geneIdx, conditionIdx]\n",
    "            else:\n",
    "                rr = rrNulls[geneIdx, conditionIdx]\n",
    "            \n",
    "            probVgivenD = pVgivenD(rr, afs[geneIdx])\n",
    "            altCountsCases = Binomial(total_count=nSamples[conditionIdx][1], probs=probVgivenD).sample()\n",
    "            \n",
    "            # we can use one simulation to study pooled an separate samples\n",
    "            # in the pooled model, we could sum control samples during inference\n",
    "            probVgivenNotD = pVgivenNotD(pDs[conditionIdx], afs[geneIdx], probVgivenD)\n",
    "            altCountsCtrls = Binomial(total_count=nSamples[conditionIdx][0], probs=probVgivenNotD).sample()\n",
    "            \n",
    "            geneAltCounts.append([altCountsCtrls, altCountsCases])\n",
    "            geneProbs.append([probVgivenNotD, probVgivenD])\n",
    "        altCounts.append(geneAltCounts)\n",
    "        probs.append(geneProbs)\n",
    "    altCounts = tensor(altCounts)\n",
    "    probs = tensor(probs)\n",
    "    \n",
    "    return altCounts, probs\n",
    "\n",
    "def genDataSequentialPooledCtrls(nCases, nCtrls, pDs, diseaseFractions, rrShape, rrMeans, afMean, afShape, nGenes = 20000):\n",
    "    # TODO: assert shapes match\n",
    "    print(\"TESTING POOLED WITH: nCases\", nCases, \"nCtrls\", nCtrls, \"rrMean\", rrMeans, \"rrShape\", rrShape, \"afMean\", afMean, \"afShape\", afShape, \"diseaseFractions\", diseaseFractions, \"pDs\", pDs)\n",
    "    \n",
    "    nConditions = len(nCases)\n",
    "    altCounts = []\n",
    "    probs = []\n",
    "    afDist = Gamma(concentration=afShape,rate=afShape/afMean)\n",
    "    rrDist = Gamma(concentration=rrShape,rate=rrShape/rrMeans)\n",
    "    rrNullDist = Gamma(concentration=rrShape,rate=rrShape.expand(nConditions))\n",
    "    \n",
    "    # shape == [nGenes, nConditions]\n",
    "    afs = afDist.sample([nGenes,])   \n",
    "    rrs = rrDist.sample([nGenes,])\n",
    "    rrNulls = rrNullDist.sample([nGenes,])\n",
    "    \n",
    "    endIndices = nGenes * diseaseFractions\n",
    "    startIndices = []\n",
    "    for i in range(len(diseaseFractions)):\n",
    "        if i == 0:\n",
    "            startIndices.append(0)\n",
    "            continue\n",
    "        endIndices[i] += endIndices[i-1]\n",
    "        startIndices.append(endIndices[i-1])\n",
    "    \n",
    "    print(\"startIndices\", startIndices, \"endIndices\", endIndices)\n",
    "    for geneIdx in range(nGenes):\n",
    "        geneAltCounts = []\n",
    "        geneProbs = []\n",
    "\n",
    "        probVgivenDs = []\n",
    "        for conditionIdx in range(nConditions):\n",
    "            # TODO: sample from uniform\n",
    "            if geneIdx >= startIndices[conditionIdx] and geneIdx < endIndices[conditionIdx]:\n",
    "                rr = rrs[geneIdx, conditionIdx]\n",
    "            else:\n",
    "                rr = rrNulls[geneIdx, conditionIdx]\n",
    "            probVgivenDs.append(pVgivenD(rr, afs[geneIdx]))\n",
    "\n",
    "        probVgivenDs = tensor(probVgivenDs)\n",
    "#         print(\"probVgivenDs\", probVgivenDs)\n",
    "        altCountsCases = Binomial(total_count=nCases, probs=probVgivenDs).sample()\n",
    "\n",
    "#         print(\"altCountsCases\", altCountsCases, \"altCountCases.shape\", altCountsCases.shape)\n",
    "#         print(\"0 index\", altCountsCases[0])\n",
    "        # we can use one simulation to study pooled an separate samples\n",
    "        # in the pooled model, we could sum control samples during inference\n",
    "        probVgivenNotD = pVgivenNotD(pDs, afs[geneIdx], probVgivenDs)\n",
    "#         print(\"probVgivenNotD\", probVgivenNotD)\n",
    "        \n",
    "        altCountsCtrls = Binomial(total_count=nCtrls, probs=probVgivenNotD).sample()\n",
    "#         print(\"altCountsCtrls\", altCountsCtrls)\n",
    "        \n",
    "        for conditionIdx in range(nConditions):\n",
    "            if conditionIdx == 0:\n",
    "                geneAltCounts.append([altCountsCtrls, altCountsCases[conditionIdx]])\n",
    "            else:\n",
    "                geneAltCounts.append([0, altCountsCases[conditionIdx]])\n",
    "            geneProbs.append([probVgivenNotD, probVgivenDs[conditionIdx]])\n",
    "\n",
    "        altCounts.append(geneAltCounts)\n",
    "        probs.append(geneProbs)\n",
    "    altCounts = tensor(altCounts)\n",
    "    probs = tensor(probs)\n",
    "    \n",
    "    return altCounts, probs"
   ]
  },
  {
   "cell_type": "code",
   "execution_count": null,
   "metadata": {},
   "outputs": [],
   "source": [
    "nGenes = 20_000\n",
    "disease1 = Samples(1e5, 1e3)\n",
    "disease2 = Samples(1e5, 1e3)\n",
    "diseaseBoth = Samples(1e5, 1e2)\n",
    "\n",
    "nSamples = [disease1, disease2, diseaseBoth]\n",
    "nSamples = tensor(nSamples)\n",
    "\n",
    "pDsGlobalSmall = nSamples[:, 1]/nSamples.sum(1)\n",
    "diseaseFractions = tensor([.1, .1, .05])\n",
    "rrShape = tensor(10.)\n",
    "rrMeans = tensor([10., 10., 15.])\n",
    "afMean = tensor(1e-4)\n",
    "afShape = tensor(10.)\n",
    "\n",
    "rrMeansLow = tensor([2., 2., 2.])\n",
    "rrMeans3 = tensor([3., 3., 3.])\n",
    "\n",
    "## For pooled version, want more samples for diseasesBoth\n",
    "pDsGlobalBothLarge = 5e-3\n",
    "nCtrlsLarge = tensor(5e5)\n",
    "nCasesBothLarge = nCtrlsLarge * pDsGlobalBothLarge\n",
    "nCases1onlyLarge = 5e3\n",
    "nCases2onlyLarge = 5e3\n",
    "nCasesLarge = tensor([nCases1onlyLarge, nCases2onlyLarge, nCasesBothLarge])\n",
    "\n",
    "pDsGlobalLarge = nCasesLarge / (nCasesLarge.sum() + nCtrlsLarge)\n",
    "pDsConsideringBothLarge = tensor([nCasesLarge[0] + nCasesBothLarge, nCasesLarge[1] + nCasesBothLarge, nCasesBothLarge]) / (nCasesLarge.sum() + nCtrlsLarge)\n",
    "\n",
    "print(\"cases\", nCases1onlyLarge, nCases2onlyLarge, nCasesBothLarge, \"pDsGlobalSmall\", pDsGlobalSmall, \"pDsGlobalLarge\", pDsGlobalLarge, \"pDsConsideringBothLarge\", pDsConsideringBothLarge)"
   ]
  },
  {
   "cell_type": "code",
   "execution_count": null,
   "metadata": {},
   "outputs": [],
   "source": [
    "start = time.time()\n",
    "altCountsByGene, afsByGene = genDataSequential(nSamples=nSamples, pDs=pDsGlobalSmall, diseaseFractions=diseaseFractions, rrShape=rrShape, rrMeans=rrMeans, afMean=afMean, afShape=afShape, nGenes=nGenes)\n",
    "print(\"took\", time.time() - start)"
   ]
  },
  {
   "cell_type": "code",
   "execution_count": null,
   "metadata": {},
   "outputs": [],
   "source": [
    "start = time.time()\n",
    "altCountsByGeneRR2, afsByGeneRR2 = genDataSequential(nSamples=nSamples, pDs=pDsGlobalSmall, diseaseFractions=diseaseFractions, rrShape=rrShape, rrMeans=rrMeansLow, afMean=afMean, afShape=afShape, nGenes=nGenes)\n",
    "print(\"took\", time.time() - start)"
   ]
  },
  {
   "cell_type": "code",
   "execution_count": null,
   "metadata": {},
   "outputs": [],
   "source": [
    "start = time.time()\n",
    "altCountsByGeneRR3, afsByGeneRR3 = genDataSequential(nSamples=nSamples, pDs=pDsGlobalSmall, diseaseFractions=diseaseFractions, rrShape=rrShape, rrMeans=rrMeans3, afMean=afMean, afShape=afShape, nGenes=nGenes)\n",
    "print(\"took\", time.time() - start)"
   ]
  },
  {
   "cell_type": "code",
   "execution_count": null,
   "metadata": {},
   "outputs": [],
   "source": [
    "start = time.time()\n",
    "altCountsByGenePooledCtrls, afsByGenePooledCtrls = genDataSequentialPooledCtrls(nCases=nCasesLarge, nCtrls=nCtrlsLarge, pDs=pDsGlobalLarge, diseaseFractions=diseaseFractions, rrShape=rrShape, rrMeans=rrMeans, afMean=afMean, afShape=afShape, nGenes=nGenes)\n",
    "print(\"took\", time.time() - start)"
   ]
  },
  {
   "cell_type": "code",
   "execution_count": null,
   "metadata": {},
   "outputs": [],
   "source": [
    "print(\"altCountsByGenePooledCtrls\", altCountsByGenePooledCtrls)\n",
    "print(\"afsByGenePooledCtrls\", afsByGenePooledCtrls)"
   ]
  },
  {
   "cell_type": "code",
   "execution_count": null,
   "metadata": {},
   "outputs": [],
   "source": [
    "altCountsFlatPooled = []\n",
    "afsFlatPooled = []\n",
    "for geneIdx in range(nGenes):\n",
    "    altCountsFlatPooled.append([altCountsByGenePooledCtrls[geneIdx, 0, 0], *altCountsByGenePooledCtrls[geneIdx, :, 1].flatten()])\n",
    "    afsFlatPooled.append([afsByGenePooledCtrls[geneIdx, 0, 0], *afsByGenePooledCtrls[geneIdx, :, 1].flatten()])\n",
    "\n",
    "altCountsFlatPooled = tensor(altCountsFlatPooled)\n",
    "afsFlatPooled = tensor(afsFlatPooled)\n",
    "print(\"altCountsFlatPooled\", altCountsFlatPooled)\n",
    "print(\"afsFlatPooled\", afsFlatPooled)\n",
    "\n",
    "geneSumsGlobalTest = altCountsFlatPooled.sum(1)\n",
    "print(\"geneSumsGlobalTest\", geneSumsGlobalTest)\n",
    "nullLikelihoodsGlobal = torch.exp(Binomial(total_count=geneSumsGlobalTest.expand([3, 20_000]).T, probs=pDsGlobalBothLarge).log_prob(altCountsFlatPooled[:, 1:4]))\n",
    "print(\"nullLikelihoodsGlobal\", nullLikelihoodsGlobal[0:2000])\n",
    "\n"
   ]
  },
  {
   "cell_type": "code",
   "execution_count": 153,
   "metadata": {},
   "outputs": [],
   "source": [
    "flattenedData = []\n",
    "\n",
    "for geneAfData in afsByGenePooledCtrls:\n",
    "    flattenedData.append([geneAfData[0][0],*geneAfData[:, 1]])"
   ]
  },
  {
   "cell_type": "code",
   "execution_count": 154,
   "metadata": {},
   "outputs": [],
   "source": [
    "flattenedData = tensor(flattenedData)"
   ]
  },
  {
   "cell_type": "code",
   "execution_count": 155,
   "metadata": {},
   "outputs": [
    {
     "data": {
      "text/plain": [
       "[<matplotlib.lines.Line2D at 0x7fb8391c1510>,\n",
       " <matplotlib.lines.Line2D at 0x7fb83918f850>,\n",
       " <matplotlib.lines.Line2D at 0x7fb83918f210>,\n",
       " <matplotlib.lines.Line2D at 0x7fb84a416610>]"
      ]
     },
     "execution_count": 155,
     "metadata": {},
     "output_type": "execute_result"
    },
    {
     "data": {
      "text/plain": [
       "<Figure size 432x288 with 0 Axes>"
      ]
     },
     "metadata": {},
     "output_type": "display_data"
    },
    {
     "data": {
      "image/png": "[encoded data removed]",
      "text/plain": [
       "<Figure size 1600x480 with 1 Axes>"
      ]
     },
     "metadata": {},
     "output_type": "display_data"
    }
   ],
   "source": [
    "flattenedData\n",
    "pyplot.clf()\n",
    "pyplot.figure(num=None, figsize=(20, 6), dpi=80, facecolor='w', edgecolor='k')\n",
    "pyplot.plot(flattenedData)"
   ]
  },
  {
   "cell_type": "code",
   "execution_count": null,
   "metadata": {},
   "outputs": [],
   "source": [
    "print(\"test nullLikelihoods.prod(1)\", nullLikelihoods.prod(1))\n",
    "# case1null = nullLikelihoods[:, 0]\n",
    "# case2null = nullLikelihoods[:, 1]\n",
    "# caseBothNull = nullLikelihoods[:, 2]\n",
    "\n",
    "# case1and2Null = case1null * case2null\n",
    "\n",
    "# case1andBothNull = nullLikelihoods[:, 0] * caseBothNull\n",
    "# case2andBothNull = nullLikelihoods[:, 1] * caseBothNull"
   ]
  },
  {
   "cell_type": "code",
   "execution_count": null,
   "metadata": {},
   "outputs": [],
   "source": [
    "print(\"empirical rr for both\", afsFlatPooled[4000:5000, 3].mean()/ afsFlatPooled[0:4000, 3].mean())\n",
    "print(\"empirical rr for 1\", afsFlatPooled[0:2000, 1].mean()/ afsFlatPooled[2000:4000, 1].mean())\n",
    "print(\"empirical rr for 2\", afsFlatPooled[2000:4000, 2].mean()/ afsFlatPooled[:2000, 2].mean())\n",
    "print(\"nullLikelihoodGlobal 1\", nullLikelihoodsGlobal[0:2000, 0].mean(), nullLikelihoodsGlobal[2000:, 0].mean())\n",
    "print(\"nullLikelihoodGlobal 2\", nullLikelihoodsGlobal[2000:4000, 1].mean(), nullLikelihoodsGlobal[4000:, 1].mean())\n",
    "print(\"nullLikelihoodGlobal Both\", nullLikelihoodsGlobal[4000:5000, 2].mean(), nullLikelihoodsGlobal[0:4000, 2].mean())"
   ]
  },
  {
   "cell_type": "code",
   "execution_count": null,
   "metadata": {},
   "outputs": [],
   "source": [
    "altCountsByGenePooledCtrls[:, :, :].sum([1,2])"
   ]
  },
  {
   "cell_type": "code",
   "execution_count": null,
   "metadata": {},
   "outputs": [],
   "source": [
    "altCountsByGenePooledCtrls[:, :, :]"
   ]
  },
  {
   "cell_type": "code",
   "execution_count": null,
   "metadata": {},
   "outputs": [],
   "source": [
    "randomDist = Uniform(0, 1)\n",
    "randomDist2 = Uniform(1, 10000)\n",
    "fnArgs = []\n",
    "# pDgivenV can't be smaller than this assuming allele freq > 1e-6 and rr < 100\n",
    "# P(V|D) * P(D) / P(V)\n",
    "nGenes = len(altCountsByGenePooledCtrls)\n",
    "\n",
    "probs = randomDist.sample([3,])\n",
    "probs = probs / probs.sum()\n",
    "print(probs)\n",
    "    #pi1, pi2, piBoth, alpha0, alpha1, alpha2, alphaBoth\n",
    "fnArgs = [*probs, *randomDist2.sample([4,])]\n",
    "fnArgs"
   ]
  },
  {
   "cell_type": "code",
   "execution_count": null,
   "metadata": {},
   "outputs": [],
   "source": [
    "llPooledBivariateSingleGene(tensor([10.,1.,1.,20000.]), tensor([.01,.01,.05]), tensor(13.), tensor(10.), tensor(10.), tensor(100000.), tensor(.77), tensor(.1), tensor(.1), tensor(.01))"
   ]
  },
  {
   "cell_type": "code",
   "execution_count": null,
   "metadata": {},
   "outputs": [],
   "source": [
    "#this gives -2.401 log(likelihoodUnivariateSingleGene(xCtrl = 10, xCase1 = 1, prevalence1 = .01, pi0 = .9, pi1 = .1, pDiseaseGivenVariant = .001))\n",
    "#tensor(-2.5290): llUnivariateSingleGeneJensen(xCtrl = tensor(10.), xCase = tensor(1.), pD = tensor(.01), pi0 = tensor(.9), pi1 = tensor(.1), pDgivenV = tensor(.001))\n",
    "r = llUnivariateSingleGeneNoJensen(xCtrl = tensor(10.), xCase = tensor(1.), pD = tensor(.01), pi0 = tensor(.9), pi1 = tensor(.1), pDgivenV = tensor(.001))\n",
    "assert(abs(-r + tensor(-2.4010)) < .1)"
   ]
  },
  {
   "cell_type": "code",
   "execution_count": null,
   "metadata": {},
   "outputs": [],
   "source": [
    "altCounts = tensor([10., 2., 3., 1.])\n",
    "n = altCounts.sum()\n",
    "\n",
    "testAlpha = tensor([16., 20., 30., 15.])\n",
    "print(f\"test data: testAlpha: {testAlpha}, n: {n}, altCounts: {altCounts}\")\n",
    "DirichletMultinomial(total_count=n, concentration=testAlpha).log_prob(altCounts)"
   ]
  },
  {
   "cell_type": "code",
   "execution_count": null,
   "metadata": {},
   "outputs": [],
   "source": [
    "pDgivenV(.01, afsByGene[0:2000, 0, 1], 1e-4).mean()"
   ]
  },
  {
   "cell_type": "code",
   "execution_count": null,
   "metadata": {},
   "outputs": [],
   "source": [
    "### Test functions\n",
    "pDgivenV(.01, afsByGeneRR2[0:2000, 0, 1], afsByGeneRR2Shape5[0:2000, 0, 0]).mean()"
   ]
  },
  {
   "cell_type": "code",
   "execution_count": null,
   "metadata": {},
   "outputs": [],
   "source": [
    "# variance is wrong\n",
    "def betaVariance(alpha, beta):\n",
    "    return (alpha * beta) / ( ((alpha + beta)**2) + (alpha + beta + 1) )\n",
    "\n",
    "def betaMean(alpha, beta):\n",
    "    return alpha / (alpha + beta)\n",
    "\n",
    "print(\"variance\", betaVariance(6.47e1,5.39e3))\n",
    "print(\"mean\", betaMean(6.47e1,5.39e3))\n",
    "print(\"true varianc\", )"
   ]
  },
  {
   "cell_type": "code",
   "execution_count": null,
   "metadata": {},
   "outputs": [],
   "source": [
    "m1 = afsByGene[0:2000, 0, 1].mean()\n",
    "m2 = afsByGeneRR2[0:2000, 0, 1].mean()/afsByGeneRR2[2000:, 0, 1].mean()\n",
    "m1 - m2\n",
    "print(m1, m2)"
   ]
  },
  {
   "cell_type": "code",
   "execution_count": null,
   "metadata": {},
   "outputs": [],
   "source": [
    "start = time.time()\n",
    "res = fitFnUniveriate(altCountsByGene, pDs, nEpochs=20, minLLThresholdCount=20, debug=True)\n",
    "print((time.time() - start) / 20, \"per iteration\")\n",
    "res"
   ]
  },
  {
   "cell_type": "code",
   "execution_count": null,
   "metadata": {},
   "outputs": [],
   "source": [
    "fitFnUniveriate(altCountsByGeneRR2, pDs)"
   ]
  },
  {
   "cell_type": "code",
   "execution_count": null,
   "metadata": {},
   "outputs": [],
   "source": [
    "pDgivenV(pDs[0], afsByGeneRR2Shape5[0:2000, 0, 1], afsByGeneRR2Shape5[0:2000, 0, 0]).std()"
   ]
  },
  {
   "cell_type": "code",
   "execution_count": null,
   "metadata": {},
   "outputs": [],
   "source": [
    "pDgivenV?"
   ]
  },
  {
   "cell_type": "code",
   "execution_count": null,
   "metadata": {},
   "outputs": [],
   "source": [
    "fitFnUniveriate(altCountsByGeneRR2, pDs, debug=True)"
   ]
  },
  {
   "cell_type": "code",
   "execution_count": null,
   "metadata": {},
   "outputs": [],
   "source": [
    "fitFnUniveriateBetaBinomial(altCountsByGeneRR2, pDs, debug=True)"
   ]
  },
  {
   "cell_type": "code",
   "execution_count": null,
   "metadata": {},
   "outputs": [],
   "source": [
    "fitFnUniveriateBetaBinomial(altCountsByGeneRR2Shape5, pDs, debug=True)"
   ]
  },
  {
   "cell_type": "code",
   "execution_count": null,
   "metadata": {},
   "outputs": [],
   "source": [
    "Beta(2.23307950e+02, 2.52700651e+04).sample([10_000,]).mean()"
   ]
  },
  {
   "cell_type": "code",
   "execution_count": null,
   "metadata": {},
   "outputs": [],
   "source": [
    "Beta(2.20865706e+02, 1.73544747e+04).sample([10_000,]).std()"
   ]
  },
  {
   "cell_type": "code",
   "execution_count": null,
   "metadata": {},
   "outputs": [],
   "source": [
    "fitFnUniveriateBetaBinomial(altCountsByGeneRR3, pDs, nEpochs=50)"
   ]
  },
  {
   "cell_type": "code",
   "execution_count": null,
   "metadata": {},
   "outputs": [],
   "source": [
    "Beta(2.50432693e+02, 1.87756988e+04).sample([10_000]).mean()"
   ]
  },
  {
   "cell_type": "code",
   "execution_count": null,
   "metadata": {},
   "outputs": [],
   "source": [
    "fitFnUniveriate(altCountsByGeneRR3, pDs, nEpochs=50)"
   ]
  },
  {
   "cell_type": "code",
   "execution_count": null,
   "metadata": {},
   "outputs": [],
   "source": [
    "Beta(3.84376856e+02, 2.37879954e+04).sample([10_000]).mean()"
   ]
  },
  {
   "cell_type": "code",
   "execution_count": null,
   "metadata": {},
   "outputs": [],
   "source": [
    "resultsRR2Shape5 = []\n",
    "for i in range(1):\n",
    "    res = fitFnUniveriateBetaBinomial(altCountsByGeneRR2Shape5, pDs, nEpochs=50, minLLThresholdCount=50, debug=False)\n",
    "    resultsRR2Shape5.append(res)"
   ]
  },
  {
   "cell_type": "code",
   "execution_count": null,
   "metadata": {},
   "outputs": [],
   "source": [
    "resultsRR2Shape5"
   ]
  },
  {
   "cell_type": "code",
   "execution_count": null,
   "metadata": {},
   "outputs": [],
   "source": [
    "Beta(1.96912591e+02, 1.61461738e+04).sample([10000,]).mean()"
   ]
  },
  {
   "cell_type": "code",
   "execution_count": null,
   "metadata": {},
   "outputs": [],
   "source": [
    "fitFnUniveriateBetaBinomial(altCountsByGene, pDs, nEpochs=50, minLLThresholdCount=50, debug=False)"
   ]
  },
  {
   "cell_type": "code",
   "execution_count": null,
   "metadata": {},
   "outputs": [],
   "source": [
    "Beta(3.30289057e+03, 2.94460355e+04).sample([10000,]).mean()"
   ]
  },
  {
   "cell_type": "code",
   "execution_count": null,
   "metadata": {},
   "outputs": [],
   "source": [
    "# doesn't really work resConstrained = fitFnUniveriateBetaBinomialConstrained(altCountsByGeneRR2Shape5, pDs, nEpochs=10, minLLThresholdCount=10, debug=True)\n",
    "#resConstrained"
   ]
  },
  {
   "cell_type": "code",
   "execution_count": null,
   "metadata": {},
   "outputs": [],
   "source": [
    "fitFnUniveriateBetaBinomial(altCountsByGene, pDs, nEpochs=10, minLLThresholdCount=10, debug=False)"
   ]
  },
  {
   "cell_type": "code",
   "execution_count": null,
   "metadata": {},
   "outputs": [],
   "source": [
    "cachedData"
   ]
  },
  {
   "cell_type": "code",
   "execution_count": 149,
   "metadata": {},
   "outputs": [],
   "source": [
    "# params = {\"lls\": [], \"inferredAlphas\": [], \"inferredPis\": [], \"inferredPDVs\": [], \"trueMeanPDVs\": [], \"truePis\": []}\n",
    "# cachedData = [[altCountsByGenePooledCtrls, afsByGenePooledCtrls, {\n",
    "#             \"nCases\": nCasesLarge,\n",
    "#             \"nCtrls\": nCtrlsLarge,\n",
    "#             \"pDs\": pDsLarge,\n",
    "#             \"diseaseFractions\": diseaseFractions,\n",
    "#             \"rrShape\": rrShape,\n",
    "#             \"rrMeans\": rrMeans,\n",
    "#             \"afShape\": afShape,\n",
    "#             \"afMean\": afMean\n",
    "#         }]]"
   ]
  },
  {
   "cell_type": "code",
   "execution_count": null,
   "metadata": {},
   "outputs": [],
   "source": [
    "for i in range(10):\n",
    "    if i >= len(cachedData):\n",
    "        start = time.time()\n",
    "        altCountsByGenePooledCtrls, afsByGenePooledCtrls = genDataSequentialPooledCtrls(nCases=nCasesLarge, nCtrls=nCtrlsLarge, pDs=pDsLarge, diseaseFractions=diseaseFractions, rrShape=rrShape, rrMeans=rrMeans, afMean=afMean, afShape=afShape)\n",
    "        print(\"took\", time.time() - start)\n",
    "        cachedData.append([altCountsByGenePooledCtrls, afsByGenePooledCtrls, {\n",
    "            \"nCases\": nCasesLarge,\n",
    "            \"nCtrls\": nCtrlsLarge,\n",
    "            \"pDs\": pDsLarge,\n",
    "            \"diseaseFractions\": diseaseFractions,\n",
    "            \"rrShape\": rrShape,\n",
    "            \"rrMeans\": rrMeans,\n",
    "            \"afShape\": afShape,\n",
    "            \"afMean\": afMean\n",
    "        }])\n",
    "        \n",
    "    res = fitFnBivariate(cachedData[i][0], pDsLarge, nEpochs=20, minLLThresholdCount=20, debug=True, costFnIdx=0)\n",
    "    bestRes = res[\"params\"][-1]\n",
    "\n",
    "    inferredPis = tensor(bestRes[0:3])\n",
    "    print(\"inferredPis\", inferredPis)\n",
    "    inferredAlphas = tensor(bestRes[3:])\n",
    "    print(\"inferredAlphas\", inferredAlphas)\n",
    "    \n",
    "    inferredPDs = Dirichlet(concentration=inferredAlphas).sample([10_000,]).mean(0)\n",
    "\n",
    "    params[\"lls\"].append(res[\"lls\"][-1])\n",
    "    params[\"inferredAlphas\"].append(inferredAlphas)\n",
    "    params[\"inferredPis\"].append(inferredPis)\n",
    "    params[\"inferredPDVs\"].append(inferredPDs)\n",
    "\n",
    "    truth1 = pDgivenV(pDsLarge[0], afsByGenePooledCtrls[0:2000, 0, 1], afsByGenePooledCtrls[0:2000, 0, 0]).mean()\n",
    "    truth2 = pDgivenV(pDsLarge[1], afsByGenePooledCtrls[2000:4000, 1, 1], afsByGenePooledCtrls[2000:4000, 0, 0]).mean()\n",
    "    truth3 = pDgivenV(pDsLarge[2], afsByGenePooledCtrls[4000:5000, 2, 1], afsByGenePooledCtrls[4000:5000, 0, 0]).mean()\n",
    "    truth0 = 1 - (truth1 + truth2 + truth3)\n",
    "    print(\"truth0\", truth0, \"truth1\", truth1, \"truth2\", truth2, \"truthBoth\", truth3)\n",
    "\n",
    "    params[\"trueMeanPDVs\"].append(tensor([truth0, truth1, truth2, truth3]))\n",
    "    params[\"truePis\"].append(tensor(diseaseFractions))\n",
    "\n",
    "    print(f\"params on run {i}\", params)"
   ]
  },
  {
   "cell_type": "code",
   "execution_count": null,
   "metadata": {},
   "outputs": [],
   "source": [
    "params"
   ]
  },
  {
   "cell_type": "code",
   "execution_count": null,
   "metadata": {},
   "outputs": [],
   "source": [
    "res = fitFnBivariate(cachedData[0][0], pDsLarge, nEpochs=20, minLLThresholdCount=20, debug=True, costFnIdx=0)"
   ]
  },
  {
   "cell_type": "code",
   "execution_count": null,
   "metadata": {},
   "outputs": [],
   "source": [
    "res1 = fitFnBivariate(cachedData[0][0], pDsLarge, nEpochs=20, minLLThresholdCount=20, debug=True, costFnIdx=1)"
   ]
  },
  {
   "cell_type": "code",
   "execution_count": null,
   "metadata": {},
   "outputs": [],
   "source": [
    "res2 = fitFnBivariate(cachedData[0][0], pDsLarge, nEpochs=20, minLLThresholdCount=20, debug=True, costFnIdx=2)"
   ]
  },
  {
   "cell_type": "code",
   "execution_count": null,
   "metadata": {},
   "outputs": [],
   "source": [
    "print(\"res0\", res0)\n",
    "print(\"\\nres0\", \"pis\", res0[\"params\"][-1][0:3], \"mean P(D|V)'s\", Dirichlet(tensor(res0[\"params\"][-1][3:])).sample([10_000]).mean(0))\n",
    "\n",
    "print(\"\\n\\n\\nres1\", res1)\n",
    "print(\"\\nres1\", \"pis\", res1[\"params\"][-1][0:3], \"mean P(D|V)'s\", Dirichlet(tensor(res1[\"params\"][-1][3:])).sample([10_000]).mean(0))\n",
    "\n",
    "print(\"\\n\\n\\nres2\", res2)\n",
    "print(\"\\nres2\", \"pis\", res2[\"params\"][-1][0:3], \"mean P(D|V)'s\", Dirichlet(tensor(res2[\"params\"][-1][3:])).sample([10_000]).mean(0))"
   ]
  },
  {
   "cell_type": "code",
   "execution_count": 136,
   "metadata": {},
   "outputs": [
    {
     "data": {
      "text/plain": [
       "[<matplotlib.lines.Line2D at 0x7fb88903ef50>]"
      ]
     },
     "execution_count": 136,
     "metadata": {},
     "output_type": "execute_result"
    },
    {
     "data": {
      "image/png": "[encoded data removed]",
      "text/plain": [
       "<Figure size 432x288 with 1 Axes>"
      ]
     },
     "metadata": {
      "needs_background": "light"
     },
     "output_type": "display_data"
    }
   ],
   "source": [
    "pyplot.plot(res0[\"llTrajectory\"])\n",
    "\n"
   ]
  },
  {
   "cell_type": "code",
   "execution_count": 137,
   "metadata": {},
   "outputs": [
    {
     "data": {
      "text/plain": [
       "[<matplotlib.lines.Line2D at 0x7fb84a498610>]"
      ]
     },
     "execution_count": 137,
     "metadata": {},
     "output_type": "execute_result"
    },
    {
     "data": {
      "image/png": "[encoded data removed]",
      "text/plain": [
       "<Figure size 432x288 with 1 Axes>"
      ]
     },
     "metadata": {
      "needs_background": "light"
     },
     "output_type": "display_data"
    }
   ],
   "source": [
    "pyplot.plot(res1[\"llTrajectory\"])"
   ]
  },
  {
   "cell_type": "code",
   "execution_count": 138,
   "metadata": {},
   "outputs": [
    {
     "data": {
      "text/plain": [
       "[<matplotlib.lines.Line2D at 0x7fb849d71f90>]"
      ]
     },
     "execution_count": 138,
     "metadata": {},
     "output_type": "execute_result"
    },
    {
     "data": {
      "image/png": "[encoded data removed]",
      "text/plain": [
       "<Figure size 432x288 with 1 Axes>"
      ]
     },
     "metadata": {
      "needs_background": "light"
     },
     "output_type": "display_data"
    }
   ],
   "source": [
    "pyplot.plot(res2[\"llTrajectory\"])"
   ]
  },
  {
   "cell_type": "code",
   "execution_count": null,
   "metadata": {},
   "outputs": [],
   "source": [
    "params"
   ]
  },
  {
   "cell_type": "code",
   "execution_count": null,
   "metadata": {},
   "outputs": [],
   "source": []
  },
  {
   "cell_type": "code",
   "execution_count": null,
   "metadata": {},
   "outputs": [],
   "source": [
    "(afsByGenePooledCtrls[2000:4000, 1, 1]/afsByGenePooledCtrls[2000:4000, 0, 0]).mean()"
   ]
  },
  {
   "cell_type": "code",
   "execution_count": null,
   "metadata": {},
   "outputs": [],
   "source": [
    "truth = pDgivenV(pD., afsByGenePooledCtrls[0:2000, :, 1], afsByGenePooledCtrls[0:2000, 0, 0])"
   ]
  },
  {
   "cell_type": "code",
   "execution_count": null,
   "metadata": {},
   "outputs": [],
   "source": [
    "test = Dirichlet(tensor(1/4.0).expand(4)).sample()\n",
    "test = test[0:3]\n",
    "r = [0,1,2,3]\n",
    "r[0:4]"
   ]
  },
  {
   "cell_type": "code",
   "execution_count": null,
   "metadata": {},
   "outputs": [],
   "source": [
    "fitFnBivariate(altCountsByGenePooledCtrls, pDs, nEpochs=100, minLLThresholdCount=100, debug=True)"
   ]
  },
  {
   "cell_type": "code",
   "execution_count": null,
   "metadata": {},
   "outputs": [],
   "source": [
    "d = Dirichlet(concentration=tensor([1.40625703e+04,\n",
    "         5.56195520e+03, 1.57978682e+02, 2.33518936e+04]))\n",
    "d.sample([10_000,]).mean(0)"
   ]
  },
  {
   "cell_type": "code",
   "execution_count": null,
   "metadata": {},
   "outputs": [],
   "source": []
  },
  {
   "cell_type": "code",
   "execution_count": null,
   "metadata": {},
   "outputs": [],
   "source": [
    "Beta(7.74788652e+02, 2.58170768e+04 + 9.72956833e+02 + 5.18278100e+03).sample([10000]).mean()"
   ]
  },
  {
   "cell_type": "code",
   "execution_count": null,
   "metadata": {},
   "outputs": [],
   "source": [
    "Beta(3.05871723e+04, 3.25256694e+02 + 3.75135881e+03 +4.52942294e+04).sample([10000,]).mean()"
   ]
  },
  {
   "cell_type": "code",
   "execution_count": null,
   "metadata": {},
   "outputs": [],
   "source": [
    "start = time.time()\n",
    "res = fitFnUniveriateBetaBinomial(altCountsByGene, pDs, nEpochs=100, minLLThresholdCount=100, debug=False)\n",
    "print(\"fitFnUniveriateBetaBinomial took for 100 epochs: \", time.time() - start)"
   ]
  },
  {
   "cell_type": "code",
   "execution_count": null,
   "metadata": {},
   "outputs": [],
   "source": [
    "pyplot.plot(res[\"llTrajectory\"])\n",
    "res"
   ]
  },
  {
   "cell_type": "code",
   "execution_count": null,
   "metadata": {},
   "outputs": [],
   "source": [
    "binomH0 = Binomial(total_count=tensor([1.,1]), probs=pDs[0])"
   ]
  },
  {
   "cell_type": "code",
   "execution_count": null,
   "metadata": {},
   "outputs": [],
   "source": [
    "binomH0.log_prob(tensor(1.))"
   ]
  },
  {
   "cell_type": "code",
   "execution_count": null,
   "metadata": {},
   "outputs": [],
   "source": [
    "costFn2 = likelihoodUnivariateFast(altCountsByGene, pDs)\n",
    "# print(costFn2([1e-9, .999999]))\n",
    "print(costFn2([1e-9, 1e-9]))\n",
    "print(costFn2([0.08845797,0.11094360])) #gives ~12067 using jensen's method, and ~9887 using exponentiation of the log\n",
    "\n",
    "# best result from R\n",
    "#  0.08845797           0.11094360 , ll -10127.23, and with jensen's version, \"example -12037.4347455843\"\n",
    "# pDgivenV, pi1\n"
   ]
  },
  {
   "cell_type": "code",
   "execution_count": null,
   "metadata": {},
   "outputs": [],
   "source": [
    "costFn = likelihoodUnivariate(altCountsByGene, pDs)\n",
    "print(\"costFn1:\", costFn([.001, .01]),\"costFn2:\",costFn2([.001, .01]))"
   ]
  },
  {
   "cell_type": "code",
   "execution_count": null,
   "metadata": {},
   "outputs": [],
   "source": [
    "costFn([0.0001,0.11094360])"
   ]
  },
  {
   "cell_type": "code",
   "execution_count": null,
   "metadata": {},
   "outputs": [],
   "source": [
    "print(costFn2([0.0001,0.11094360]))"
   ]
  },
  {
   "cell_type": "code",
   "execution_count": null,
   "metadata": {},
   "outputs": [],
   "source": [
    "d = Binomial(total_count=tensor([14., 0., 9.]), probs=tensor(.0099))\n",
    "d.log_prob(tensor([0.,0.,0.]))"
   ]
  },
  {
   "cell_type": "code",
   "execution_count": null,
   "metadata": {},
   "outputs": [],
   "source": [
    "costFn2([1e-9, .999999])"
   ]
  },
  {
   "cell_type": "code",
   "execution_count": null,
   "metadata": {},
   "outputs": [],
   "source": [
    "binomH0 = Binomial(total_count=geneSums, probs=.001)\n",
    "binomH1 = Binomial(total_count=geneSums, probs=.01)\n",
    "caseAltCounts = altCountsByGene[:, 0, 1]\n",
    "print(caseAltCounts)\n",
    "component0 = binomH0.log_prob(caseAltCounts)\n",
    "print(\"component0\", component0, .5*component0)\n",
    "component1 = binomH1.log_prob(caseAltCounts)"
   ]
  },
  {
   "cell_type": "code",
   "execution_count": null,
   "metadata": {},
   "outputs": [],
   "source": [
    "pDgivenV(pDs[0], afsByGene2[0:2000, 0, 1].mean(), afMean)"
   ]
  },
  {
   "cell_type": "code",
   "execution_count": null,
   "metadata": {},
   "outputs": [],
   "source": [
    "condition1 = altCountsByGene2[:, 0, :]\n",
    "condition1\n",
    "pDs[0]\n",
    "\n",
    "afsByGene2[0:2000,:,1].mean()"
   ]
  },
  {
   "cell_type": "code",
   "execution_count": null,
   "metadata": {},
   "outputs": [],
   "source": [
    "pyplot.figure(num=None, figsize=(20, 6), dpi=80, facecolor='w', edgecolor='k')\n",
    "pyplot.plot(afsByGene2[:, 0, 1:2].flatten())\n",
    "pyplot.plot(afsByGene2[:, 0, 0:1].flatten())"
   ]
  },
  {
   "cell_type": "code",
   "execution_count": null,
   "metadata": {},
   "outputs": [],
   "source": [
    "pyplot.figure(num=None, figsize=(20, 6), dpi=80, facecolor='w', edgecolor='k')\n",
    "pyplot.plot(afsByGenePooledCtrls[:, 0, 0:1].flatten())\n",
    "pyplot.plot(afsByGenePooledCtrls[:, 0, 1:2].flatten())\n",
    "pyplot.plot(afsByGenePooledCtrls[:, 1, 1:2].flatten())\n",
    "pyplot.plot(afsByGenePooledCtrls[:, 2, 1:2].flatten())\n",
    "# pyplot.plot(afsByGeneRR2[:, 0, 1:2].flatten())\n",
    "# pyplot.plot(afsByGeneRR2[:, 0, 0:1].flatten())"
   ]
  },
  {
   "cell_type": "code",
   "execution_count": null,
   "metadata": {},
   "outputs": [],
   "source": [
    "ctrlCounts = altCountsByGene[:, 0, 0]\n",
    "altCountsCases = altCountsByGene[:, :, 1]\n",
    "\n",
    "altCountsFlat = []\n",
    "for geneIdx in range(nGenes):\n",
    "    altCountsFlat.append([ctrlCounts[geneIdx], *altCountsByGene[geneIdx, :, 1].flatten()])\n",
    "altCountsFlat = tensor(altCountsFlat)"
   ]
  },
  {
   "cell_type": "code",
   "execution_count": null,
   "metadata": {},
   "outputs": [],
   "source": [
    "altCountsFlat[0]"
   ]
  },
  {
   "cell_type": "code",
   "execution_count": null,
   "metadata": {},
   "outputs": [],
   "source": [
    "DirichletMultinomial?"
   ]
  },
  {
   "cell_type": "code",
   "execution_count": null,
   "metadata": {},
   "outputs": [],
   "source": [
    "import os\n",
    "from collections import defaultdict\n",
    "import torch\n",
    "import numpy as np\n",
    "import scipy.stats\n",
    "from torch.distributions import constraints\n",
    "from matplotlib import pyplot\n",
    "%matplotlib inline\n",
    "\n",
    "import pyro\n",
    "import pyro.distributions as dist\n",
    "from pyro import poutine\n",
    "from pyro.infer.autoguide import AutoDelta\n",
    "from pyro.optim import Adam\n",
    "from pyro.infer import SVI, TraceEnum_ELBO, config_enumerate, infer_discrete\n",
    "\n",
    "smoke_test = ('CI' in os.environ)\n",
    "assert pyro.__version__.startswith('1.3.0')\n",
    "pyro.enable_validation(True)\n",
    "\n",
    "K = 4  # Fixed number of components.\n",
    "\n",
    "@config_enumerate\n",
    "def model(data):\n",
    "    # Global variables.\n",
    "    weights = pyro.sample('weights', dist.Dirichlet(0.5 * torch.ones(K)))\n",
    "    alpha0 = pyro.sample('alpha0', Uniform(1, 2.5e4))\n",
    "    alpha1 = pyro.sample('alpha0', Uniform(1, 2.5e4))\n",
    "    alpha2 = pyro.sample('alpha0', Uniform(1, 2.5e4))\n",
    "    alpha3 = pyro.sample('alpha0', Uniform(1, 2.5e4))\n",
    "\n",
    "    with pyro.plate('components', K):\n",
    "        concentrations = pyro.sample('concentrations', dist.Dirichlet(0.5 * torch.ones(K)))\n",
    "\n",
    "    with pyro.plate('data', len(data)):\n",
    "        # Local variables.\n",
    "        component = pyro.sample('assignment', dist.Categorical(weights))\n",
    "        print(f\"concentrations: {concentrations[component]}\")\n",
    "        pyro.sample('obs', DirichletMultinomial(concentration=concentrations[component], total_count=data.sum(1)), obs=data)\n",
    "\n",
    "optim = pyro.optim.Adam({'lr': 0.1, 'betas': [0.8, 0.99]})\n",
    "elbo = TraceEnum_ELBO(max_plate_nesting=1)"
   ]
  },
  {
   "cell_type": "code",
   "execution_count": null,
   "metadata": {},
   "outputs": [],
   "source": [
    "def init_loc_fn(site):\n",
    "    if site[\"name\"] == \"weights\":\n",
    "        # Initialize weights to uniform.\n",
    "        return torch.ones(K) / K\n",
    "    if site[\"name\"] == \"concentrations\":\n",
    "        return torch.ones(K) / K\n",
    "    raise ValueError(site[\"name\"])\n",
    "\n",
    "def initialize(seed):\n",
    "    global global_guide, svi\n",
    "    pyro.set_rng_seed(seed)\n",
    "    pyro.clear_param_store()\n",
    "    global_guide = AutoDelta(poutine.block(model, expose=['weights', 'concentrations']),\n",
    "                             init_loc_fn=init_loc_fn)\n",
    "    svi = SVI(model, global_guide, optim, loss=elbo)\n",
    "    return svi.loss(model, global_guide, altCountsFlat)\n",
    "\n",
    "# Choose the best among 100 random initializations.\n",
    "loss, seed = min((initialize(seed), seed) for seed in range(2))\n",
    "initialize(seed)\n",
    "print('seed = {}, initial_loss = {}'.format(seed, loss))"
   ]
  },
  {
   "cell_type": "code",
   "execution_count": null,
   "metadata": {},
   "outputs": [],
   "source": [
    "# Register hooks to monitor gradient norms.\n",
    "gradient_norms = defaultdict(list)\n",
    "for name, value in pyro.get_param_store().named_parameters():\n",
    "    value.register_hook(lambda g, name=name: gradient_norms[name].append(g.norm().item()))\n",
    "\n",
    "losses = []\n",
    "for i in range(200 if not smoke_test else 2):\n",
    "    loss = svi.step(altCountsFlat)\n",
    "    losses.append(loss)\n",
    "    print('.' if i % 100 else '\\n', end='')"
   ]
  },
  {
   "cell_type": "code",
   "execution_count": 148,
   "metadata": {},
   "outputs": [
    {
     "ename": "NameError",
     "evalue": "name 'losses' is not defined",
     "output_type": "error",
     "traceback": [
      "\u001b[0;31m---------------------------------------------------------------------------\u001b[0m",
      "\u001b[0;31mNameError\u001b[0m                                 Traceback (most recent call last)",
      "\u001b[0;32m<ipython-input-148-b35e8b608158>\u001b[0m in \u001b[0;36m<module>\u001b[0;34m\u001b[0m\n\u001b[1;32m      1\u001b[0m \u001b[0mpyplot\u001b[0m\u001b[0;34m.\u001b[0m\u001b[0mfigure\u001b[0m\u001b[0;34m(\u001b[0m\u001b[0mfigsize\u001b[0m\u001b[0;34m=\u001b[0m\u001b[0;34m(\u001b[0m\u001b[0;36m10\u001b[0m\u001b[0;34m,\u001b[0m\u001b[0;36m3\u001b[0m\u001b[0;34m)\u001b[0m\u001b[0;34m,\u001b[0m \u001b[0mdpi\u001b[0m\u001b[0;34m=\u001b[0m\u001b[0;36m100\u001b[0m\u001b[0;34m)\u001b[0m\u001b[0;34m.\u001b[0m\u001b[0mset_facecolor\u001b[0m\u001b[0;34m(\u001b[0m\u001b[0;34m'white'\u001b[0m\u001b[0;34m)\u001b[0m\u001b[0;34m\u001b[0m\u001b[0;34m\u001b[0m\u001b[0m\n\u001b[0;32m----> 2\u001b[0;31m \u001b[0mpyplot\u001b[0m\u001b[0;34m.\u001b[0m\u001b[0mplot\u001b[0m\u001b[0;34m(\u001b[0m\u001b[0mlosses\u001b[0m\u001b[0;34m)\u001b[0m\u001b[0;34m\u001b[0m\u001b[0;34m\u001b[0m\u001b[0m\n\u001b[0m\u001b[1;32m      3\u001b[0m \u001b[0mpyplot\u001b[0m\u001b[0;34m.\u001b[0m\u001b[0mxlabel\u001b[0m\u001b[0;34m(\u001b[0m\u001b[0;34m'iters'\u001b[0m\u001b[0;34m)\u001b[0m\u001b[0;34m\u001b[0m\u001b[0;34m\u001b[0m\u001b[0m\n\u001b[1;32m      4\u001b[0m \u001b[0mpyplot\u001b[0m\u001b[0;34m.\u001b[0m\u001b[0mylabel\u001b[0m\u001b[0;34m(\u001b[0m\u001b[0;34m'loss'\u001b[0m\u001b[0;34m)\u001b[0m\u001b[0;34m\u001b[0m\u001b[0;34m\u001b[0m\u001b[0m\n\u001b[1;32m      5\u001b[0m \u001b[0mpyplot\u001b[0m\u001b[0;34m.\u001b[0m\u001b[0myscale\u001b[0m\u001b[0;34m(\u001b[0m\u001b[0;34m'log'\u001b[0m\u001b[0;34m)\u001b[0m\u001b[0;34m\u001b[0m\u001b[0;34m\u001b[0m\u001b[0m\n",
      "\u001b[0;31mNameError\u001b[0m: name 'losses' is not defined"
     ]
    },
    {
     "data": {
      "text/plain": [
       "<Figure size 1000x300 with 0 Axes>"
      ]
     },
     "metadata": {},
     "output_type": "display_data"
    }
   ],
   "source": [
    "pyplot.figure(figsize=(10,3), dpi=100).set_facecolor('white')\n",
    "pyplot.plot(losses)\n",
    "pyplot.xlabel('iters')\n",
    "pyplot.ylabel('loss')\n",
    "pyplot.yscale('log')\n",
    "pyplot.title('Convergence of SVI');"
   ]
  },
  {
   "cell_type": "code",
   "execution_count": null,
   "metadata": {},
   "outputs": [],
   "source": [
    "for name, grad_norms in gradient_norms.items():\n",
    "    pyplot.plot(grad_norms, label=name)\n",
    "pyplot.xlabel('iters')\n",
    "pyplot.ylabel('gradient norm')\n",
    "pyplot.yscale('log')\n",
    "pyplot.legend(loc='best')\n",
    "pyplot.title('Gradient norms during SVI');"
   ]
  },
  {
   "cell_type": "code",
   "execution_count": null,
   "metadata": {},
   "outputs": [],
   "source": [
    "map_estimates = global_guide(altCountsFlat)\n",
    "weights = map_estimates['weights']\n",
    "locs = map_estimates['concentrations']\n",
    "print('weights = {}'.format(weights.data.numpy()))\n",
    "print('concentrations = {}'.format(locs.data.numpy()))"
   ]
  },
  {
   "cell_type": "code",
   "execution_count": null,
   "metadata": {},
   "outputs": [],
   "source": [
    "Dirichlet(tensor([0.8973397  , 0.0494441,  0.04917945, 0.00403667])).sample([10_000,]).mean()"
   ]
  },
  {
   "cell_type": "code",
   "execution_count": null,
   "metadata": {},
   "outputs": [],
   "source": []
  }
 ],
 "metadata": {
  "kernelspec": {
   "display_name": "Python 3",
   "language": "python",
   "name": "python3"
  },
  "language_info": {
   "codemirror_mode": {
    "name": "ipython",
    "version": 3
   },
   "file_extension": ".py",
   "mimetype": "text/x-python",
   "name": "python",
   "nbconvert_exporter": "python",
   "pygments_lexer": "ipython3",
   "version": "3.7.6"
  }
 },
 "nbformat": 4,
 "nbformat_minor": 4
}
