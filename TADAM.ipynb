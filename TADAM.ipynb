{
 "cells": [
  {
   "cell_type": "code",
   "execution_count": 501,
   "metadata": {},
   "outputs": [
    {
     "name": "stdout",
     "output_type": "stream",
     "text": [
      "Requirement already satisfied: pyro-ppl in /Users/alexkotlar/miniconda3/lib/python3.7/site-packages (1.3.0)\n",
      "Requirement already satisfied: pyro-api>=0.1.1 in /Users/alexkotlar/miniconda3/lib/python3.7/site-packages (from pyro-ppl) (0.1.1)\n",
      "Requirement already satisfied: torch>=1.4.0 in /Users/alexkotlar/miniconda3/lib/python3.7/site-packages (from pyro-ppl) (1.4.0)\n",
      "Requirement already satisfied: tqdm>=4.36 in /Users/alexkotlar/miniconda3/lib/python3.7/site-packages (from pyro-ppl) (4.42.1)\n",
      "Requirement already satisfied: opt-einsum>=2.3.2 in /Users/alexkotlar/miniconda3/lib/python3.7/site-packages (from pyro-ppl) (3.2.0)\n",
      "Requirement already satisfied: numpy>=1.7 in /Users/alexkotlar/miniconda3/lib/python3.7/site-packages (from pyro-ppl) (1.18.2)\n",
      "Requirement already satisfied: scipy in /Users/alexkotlar/miniconda3/lib/python3.7/site-packages (1.4.1)\n",
      "Requirement already satisfied: numpy>=1.13.3 in /Users/alexkotlar/miniconda3/lib/python3.7/site-packages (from scipy) (1.18.2)\n",
      "Requirement already satisfied: matplotlib in /Users/alexkotlar/miniconda3/lib/python3.7/site-packages (3.2.1)\n",
      "Requirement already satisfied: kiwisolver>=1.0.1 in /Users/alexkotlar/miniconda3/lib/python3.7/site-packages (from matplotlib) (1.1.0)\n",
      "Requirement already satisfied: python-dateutil>=2.1 in /Users/alexkotlar/miniconda3/lib/python3.7/site-packages (from matplotlib) (2.8.1)\n",
      "Requirement already satisfied: numpy>=1.11 in /Users/alexkotlar/miniconda3/lib/python3.7/site-packages (from matplotlib) (1.18.2)\n",
      "Requirement already satisfied: pyparsing!=2.0.4,!=2.1.2,!=2.1.6,>=2.0.1 in /Users/alexkotlar/miniconda3/lib/python3.7/site-packages (from matplotlib) (2.4.6)\n",
      "Requirement already satisfied: cycler>=0.10 in /Users/alexkotlar/miniconda3/lib/python3.7/site-packages (from matplotlib) (0.10.0)\n",
      "Requirement already satisfied: setuptools in /Users/alexkotlar/miniconda3/lib/python3.7/site-packages (from kiwisolver>=1.0.1->matplotlib) (45.2.0.post20200210)\n",
      "Requirement already satisfied: six>=1.5 in /Users/alexkotlar/miniconda3/lib/python3.7/site-packages (from python-dateutil>=2.1->matplotlib) (1.14.0)\n",
      "Collecting scikit-optimize\n",
      "  Downloading scikit_optimize-0.7.4-py2.py3-none-any.whl (80 kB)\n",
      "\u001b[K     |████████████████████████████████| 80 kB 4.0 MB/s eta 0:00:01\n",
      "\u001b[?25hCollecting pyaml>=16.9\n",
      "  Downloading pyaml-20.3.1-py2.py3-none-any.whl (17 kB)\n",
      "Requirement already satisfied: scipy>=0.18.0 in /Users/alexkotlar/miniconda3/lib/python3.7/site-packages (from scikit-optimize) (1.4.1)\n",
      "Collecting joblib>=0.11\n",
      "  Downloading joblib-0.14.1-py2.py3-none-any.whl (294 kB)\n",
      "\u001b[K     |████████████████████████████████| 294 kB 10.8 MB/s eta 0:00:01\n",
      "\u001b[?25hRequirement already satisfied: numpy>=1.11.0 in /Users/alexkotlar/miniconda3/lib/python3.7/site-packages (from scikit-optimize) (1.18.2)\n",
      "Collecting scikit-learn>=0.19.1\n",
      "  Downloading scikit_learn-0.22.2.post1-cp37-cp37m-macosx_10_9_x86_64.whl (7.1 MB)\n",
      "\u001b[K     |████████████████████████████████| 7.1 MB 2.1 MB/s eta 0:00:01\n",
      "\u001b[?25hProcessing /Users/alexkotlar/Library/Caches/pip/wheels/5e/03/1e/e1e954795d6f35dfc7b637fe2277bff021303bd9570ecea653/PyYAML-5.3.1-cp37-cp37m-macosx_10_9_x86_64.whl\n",
      "Installing collected packages: PyYAML, pyaml, joblib, scikit-learn, scikit-optimize\n",
      "Successfully installed PyYAML-5.3.1 joblib-0.14.1 pyaml-20.3.1 scikit-learn-0.22.2.post1 scikit-optimize-0.7.4\n"
     ]
    }
   ],
   "source": [
    "# Setup\n",
    "\n",
    "!pip install pyro-ppl\n",
    "!pip install scipy\n",
    "!pip install matplotlib\n",
    "!pip install scikit-optimize"
   ]
  },
  {
   "cell_type": "code",
   "execution_count": 7,
   "metadata": {},
   "outputs": [],
   "source": [
    "import pyro\n",
    "import torch\n",
    "import torch.tensor as tensor\n",
    "import pyro.distributions as dist\n",
    "# from torch.distributions import Binomial, Gamma, Uniform\n",
    "from pyro.distributions import Binomial, Categorical, Dirichlet, DirichletMultinomial, Beta, BetaBinomial, Uniform, Gamma\n",
    "\n",
    "import numpy as np\n",
    "\n",
    "import scipy\n",
    "from skopt import gp_minimize \n",
    "from scipy.stats import binom as ScipyBinom\n",
    "from matplotlib import pyplot\n",
    "\n",
    "from collections import namedtuple\n",
    "import time\n",
    "seed = 0"
   ]
  },
  {
   "cell_type": "code",
   "execution_count": 8,
   "metadata": {},
   "outputs": [
    {
     "name": "stdout",
     "output_type": "stream",
     "text": [
      "Done\n",
      "Scalar version took: 0.17167901992797852\n",
      "Done\n",
      "Tensor version took: 3.7984280586242676\n",
      "Done\n",
      "Tensor convert array version took: 0.12003588676452637\n"
     ]
    }
   ],
   "source": [
    "# Measuring overhead\n",
    "import time\n",
    "\n",
    "# .1s\n",
    "l = []\n",
    "start = time.time()\n",
    "for i in range(int(1e6)):\n",
    "    l.append(i)\n",
    "\n",
    "if len(l) > 5:\n",
    "    print(\"Done\")\n",
    "print(f\"Scalar version took: {time.time() - start}\")\n",
    "\n",
    "# 30x slower, 3.2s\n",
    "l = []\n",
    "start = time.time()\n",
    "for i in range(int(1e6)):\n",
    "    l.append(tensor(i))\n",
    "\n",
    "if len(l) > 5:\n",
    "    print(\"Done\")\n",
    "print(f\"Tensor version took: {time.time() - start}\")\n",
    "\n",
    "# do it in one pass\n",
    "# this wraps the array in tensor, aka tensor([]),\n",
    "# but accessing a single element gives back a tensor\n",
    "l = []\n",
    "start = time.time()\n",
    "for i in range(int(1e6)):\n",
    "    l.append(i)\n",
    "\n",
    "# .13s \n",
    "l = torch.tensor(l)\n",
    "if len(l) > 5:\n",
    "    print(\"Done\")\n",
    "print(f\"Tensor convert array version took: {time.time() - start}\")"
   ]
  },
  {
   "cell_type": "code",
   "execution_count": 9,
   "metadata": {},
   "outputs": [],
   "source": [
    "###### all named tuples used\n",
    "\n",
    "Samples = namedtuple(\"Samples\", [\"ctrls\", \"cases\"])"
   ]
  },
  {
   "cell_type": "code",
   "execution_count": 10,
   "metadata": {},
   "outputs": [],
   "source": [
    "# Likelihood functions\n",
    "# These assume univariate currently\n",
    "\n",
    "# rr: relative risk\n",
    "def pVgivenD(rr, pV):\n",
    "    return (rr * pV) / (rr * pV + (1 - pV))\n",
    "\n",
    "# pD: prevalence\n",
    "# pV: allele frequency\n",
    "def pVgivenNotD(pD, pV, pVgivenD):\n",
    "    p = (pV - pD*pVgivenD) / (1 - pD)\n",
    "    assert(p >= 0)\n",
    "    return p\n",
    "\n",
    "def pDgivenV(pD, pVgivenD, pV):\n",
    "    return pVgivenD * pD / pV\n",
    "\n",
    "def llUnivariateSingleGeneJensen(xCtrl, xCase, pD, pi0, pi1, pDgivenV):\n",
    "    global i\n",
    "    n = xCtrl + xCase\n",
    "    #convex function, so by jensen's sum of logs is fine (always <= the log of sum)\n",
    "#     return torch.log(pi0 * torch.exp(Binomial(total_count=n, probs=pD).log_prob(xCase)) + pi1*torch.exp(Binomial(total_count=n, probs=pDgivenV).log_prob(xCase)))\n",
    "    return pi0 * Binomial(total_count=n, probs=pD).log_prob(xCase) + pi1*Binomial(total_count=n, probs=pDgivenV).log_prob(xCase)\n",
    "\n",
    "def llUnivariateSingleGene(xCtrl, xCase, pD, pi0, pi1, pDgivenV):\n",
    "    global i\n",
    "    n = xCtrl + xCase\n",
    "    #convex function, so by jensen's sum of logs is fine (always <= the log of sum)\n",
    "    return torch.log(pi0 * torch.exp(Binomial(total_count=n, probs=pD).log_prob(xCase)) + pi1*torch.exp(Binomial(total_count=n, probs=pDgivenV).log_prob(xCase)))\n",
    "\n",
    "# shape of altCountsByGene: [nGenes, nConditions, 2]\n",
    "# last dimension is \n",
    "# 2nd dimension altCountsCasesByGene must match controls, or the control nConditions must be 1 (pooled controls)\n",
    "def likelihoodUnivariate(altCountsByGene, pDs):\n",
    "    nGenes = len(altCountsByGene)\n",
    "    \n",
    "    # passed to optimization function, we optimize pDgivenV and pi1 by maximizing likelihood\n",
    "    def likelihood(params):\n",
    "        pDgivenV = params[0]\n",
    "        pi1 = params[1]\n",
    "        pi0 = 1 - pi1\n",
    "        \n",
    "        if(pDgivenV >= 1 or pDgivenV < 0 or pi1 < 0 or pi1 > 1):\n",
    "            print(\"returning inf\")\n",
    "            return float(\"-inf\")\n",
    "    \n",
    "        logLikelihood = 0\n",
    "        penaltyCount = float(nGenes)\n",
    "        \n",
    "        # \n",
    "        for geneIdx in range(nGenes):\n",
    "            ctrlAltCount = altCountsByGene[geneIdx, 0, 0]\n",
    "            caseAltCount = altCountsByGene[geneIdx, 0, 1]\n",
    "            pd = pDs[0]\n",
    "            \n",
    "            if ctrlAltCount == 0 and caseAltCount == 0:\n",
    "                print(\"skipping\", geneIdx)\n",
    "                continue\n",
    "\n",
    "            # this is insanely slow\n",
    "            ll = llUnivariateSingleGene(ctrlAltCount, caseAltCount, pd, pi0, pi1, pDgivenV)\n",
    "\n",
    "            if torch.isnan(ll) or torch.isinf(ll):\n",
    "                print(f\"nan or 0 likelihood: like: {like}, p1: {pi1}, pDgivenV: {pDgivenV}, gene: {geneIdx}, ctrlCount: {ctrlAltCount}, caseCount: {caseAltCount}\")\n",
    "                penaltyCount -= 1\n",
    "                continue\n",
    "                \n",
    "            logLikelihood += ll\n",
    "        \n",
    "    \n",
    "        if penaltyCount == 0:\n",
    "            penaltyCount = 1\n",
    "    \n",
    "        return -logLikelihood * (nGenes / penaltyCount)\n",
    "    \n",
    "    return likelihood\n",
    "\n",
    "def likelihoodUnivariateFast(altCountsByGene, pDs):\n",
    "    nGenes = len(altCountsByGene)\n",
    "    geneSumsAll = altCountsByGene[:, 0, :].sum(1)\n",
    "    \n",
    "    toKeep = []\n",
    "    for i in range(len(geneSumsAll)):\n",
    "        if geneSumsAll[i] == 0:\n",
    "            print(f\"skipping {i}\")\n",
    "            continue\n",
    "            print(f\"keeping {i}\")\n",
    "        toKeep.append(i)\n",
    "        \n",
    "    caseAltCounts = altCountsByGene[toKeep, 0, 1]\n",
    "    geneSums = geneSumsAll[toKeep]\n",
    "    \n",
    "    print(\"shapes\", caseAltCounts.shape, geneSumsAll.shape)\n",
    "    pD = pDs[0]\n",
    "    print(\"pd\", pD)\n",
    "    print(\"geneSums shape\", geneSums.shape)\n",
    "\n",
    "    # passed to optimization function, we optimize pDgivenV and pi1 by maximizing likelihood\n",
    "    def likelihood(params):\n",
    "        print(f\"params are {params}\")\n",
    "        pi1 = params[0]\n",
    "        pDgivenV = params[1]\n",
    "        print(\"pDgivenV\", pDgivenV)\n",
    "        pi0 = 1.0 - pi1\n",
    "        \n",
    "        print(\"pi0\",pi0)\n",
    "        \n",
    "        if(pDgivenV > 1 or pDgivenV < 0 or pi1 < 0 or pi1 > 1):\n",
    "            print(\"bad, returning\")\n",
    "            return float(\"inf\")\n",
    "        \n",
    "        binomH0 = Binomial(total_count=geneSums, probs=pD)\n",
    "        binomH1 = Binomial(total_count=geneSums, probs=pDgivenV)\n",
    "        \n",
    "        component0 = binomH0.log_prob(caseAltCounts)\n",
    "        print(\"binomH0 at the bad place of 6780\", component0[6779:6782], \"where the sums are\", geneSums[6779:6782], \"and probs are\", pD, \"and altCounts are\", caseAltCounts[6779:6782])\n",
    "        component1 = binomH1.log_prob(caseAltCounts)\n",
    "#         component0[component0 == float(\"-inf\")] = 0\n",
    "#         component1[component1 == float(\"-inf\")] = 0\n",
    "        component0 = pi0 * component0\n",
    "        component1 = pi1 * component1\n",
    "#         x = torch.Tensor([1, float(\"Inf\"), 2, float(\"Inf\")])\n",
    "#         x[x == float(\"Inf\")] = 0\n",
    "#         x  # should be 1, 0, 2, 0 now\n",
    "        \n",
    "        \n",
    "        print(\"components\", component0, component1)\n",
    "        ll = -(component1 + component0).sum()\n",
    "        return ll\n",
    "    \n",
    "    return likelihood\n",
    "\n",
    "def cb(f, context):\n",
    "    print(\"got callback\", f, context)\n",
    "\n",
    "# TODO: update for multivariate\n",
    "def fitFnUniveriate(altCountsByGene, pDs, nEpochs = 100):\n",
    "    costFn = likelihoodUnivariateFast(altCountsByGene, pDs)\n",
    "    \n",
    "    res = {\"ll\": [], \"parameters\": []}\n",
    "    lls = res[\"ll\"]\n",
    "    params = res[\"parameters\"]\n",
    "\n",
    "    minLLDiff = 1\n",
    "    minLLThresholdCount = 50\n",
    "    thresholdHitCount = 0\n",
    "    \n",
    "    randomDist = Uniform(0, 1)\n",
    "    randomDist2 = Uniform(0, 1)\n",
    "    fnArgs = [0, 0]\n",
    "    # pDgivenV can't be smaller than this assuming allele freq > 1e-6 and rr < 100\n",
    "    # P(V|D) * P(D) / P(V)\n",
    "    nGenes = len(altCountsByGene)\n",
    "    pDgivenVbounds = ( pVgivenD(2, 1e-6) * .001 / 1e-6, pVgivenD(100, 1e-2) * .1 / 1e-2 )\n",
    "    pi1Bounds = ( 1/nGenes,  1 )\n",
    "    bounds = [pDgivenVbounds, pi1Bounds]\n",
    "    for i in range(nEpochs):\n",
    "        print(f\"epoch {i}\")\n",
    "        # pDgivenV\n",
    "        fnArgs[0] = randomDist.sample()\n",
    "        # diseaseFraction\n",
    "        fnArgs[1] = randomDist2.sample()\n",
    "        fit = scipy.optimize.minimize(costFn, x0 = fnArgs, method='Nelder-Mead', options={\"maxiter\": 10000})#gp_minimize(costFn, [(1e-7, .9),(1/nGenes, .99)])#scipy.optimize.minimize(costFn, x0 = fnArgs, method=\"Nelder-Mead\", options={\"maxiter\": 10000})\n",
    "        \n",
    "        print(fit)\n",
    "        if not fit[\"success\"] is True:\n",
    "            print(\"Failed to converge\")\n",
    "            print(fit)\n",
    "            continue\n",
    "        \n",
    "        ll = fit[\"fun\"]\n",
    "        pDgivenV, pi1 = fit[\"x\"]\n",
    "        if pDgivenV < 0 or pDgivenV > 1 or pi1 < 0 or pi1 > 1:\n",
    "            print(\"Failed to converge\")\n",
    "            print(fit)\n",
    "            continue\n",
    "\n",
    "        if len(lls) == 0:\n",
    "            lls.append(ll)\n",
    "            params.append(fit[\"x\"])\n",
    "            continue\n",
    "\n",
    "        minPrevious = min(lls)\n",
    "        \n",
    "        if ll < minPrevious and (minPrevious - ll) >= minLLDiff:\n",
    "            thresholdHitCount = 0\n",
    "            print(f\"fit: {fit}\")\n",
    "            lls.append(ll)\n",
    "            params.append(fit[\"x\"])\n",
    "            continue\n",
    "\n",
    "        thresholdHitCount += 1\n",
    "        \n",
    "        if thresholdHitCount == minLLThresholdCount:\n",
    "            break\n",
    "            \n",
    "    return res"
   ]
  },
  {
   "cell_type": "code",
   "execution_count": 19,
   "metadata": {},
   "outputs": [],
   "source": [
    "#this gives -2.401 log(likelihoodUnivariateSingleGene(xCtrl = 10, xCase1 = 1, prevalence1 = .01, pi0 = .9, pi1 = .1, pDiseaseGivenVariant = .001))\n",
    "#tensor(-2.5290): llUnivariateSingleGeneJensen(xCtrl = tensor(10.), xCase = tensor(1.), pD = tensor(.01), pi0 = tensor(.9), pi1 = tensor(.1), pDgivenV = tensor(.001))\n",
    "r = llUnivariateSingleGene(xCtrl = tensor(10.), xCase = tensor(1.), pD = tensor(.01), pi0 = tensor(.9), pi1 = tensor(.1), pDgivenV = tensor(.001))\n",
    "assert(abs(-r + tensor(-2.4010)) < .1)"
   ]
  },
  {
   "cell_type": "code",
   "execution_count": 21,
   "metadata": {},
   "outputs": [],
   "source": [
    "# nSamples shape: [nConditions, 2] , last dim is ctrls, cases\n",
    "\n",
    "def genData(nSamples, pDs, diseaseFractions, rrShape, rrMeans, afMean, afShape, nGenes = 20000):\n",
    "    # TODO: assert shapes match\n",
    "    print(\"TESTING WITH: nSamples\", nSamples, \"rrMean\", rrMeans, \"rrShape\", rrShape, \"afMean\", afMean, \"afShape\", afShape, \"diseaseFractions\", diseaseFractions, \"pDs\", pDs)\n",
    "    \n",
    "    nConditions = len(nSamples)\n",
    "    probs = []\n",
    "    afDist = Gamma(concentration=afShape,rate=afShape/afMean)\n",
    "    rrDist = Gamma(concentration=rrShape,rate=rrShape/rrMeans)\n",
    "    rrNullDist = Gamma(concentration=rrShape,rate=rrShape.expand(nConditions))\n",
    "    \n",
    "    # shape == [nGenes, nConditions]\n",
    "    afs = afDist.sample([nGenes,])   \n",
    "    rrs = rrDist.sample([nGenes,])\n",
    "    rrNulls = rrNullDist.sample([nGenes,])\n",
    "    for geneIdx in range(nGenes):\n",
    "        geneProbs = []\n",
    "        for conditionIdx in range(nConditions):\n",
    "            # TODO: sample from uniform\n",
    "            if geneIdx < nGenes * diseaseFractions[conditionIdx]:\n",
    "                rr = rrs[geneIdx, conditionIdx]\n",
    "            else:\n",
    "                rr = rrNulls[geneIdx, conditionIdx]\n",
    "            \n",
    "            probVgivenD = pVgivenD(rr, afs[geneIdx])\n",
    "            probVgivenNotD = pVgivenNotD(pDs[conditionIdx], afs[geneIdx], probVgivenD)\n",
    "            \n",
    "            geneProbs.append([probVgivenNotD, probVgivenD])\n",
    "        probs.append(geneProbs)\n",
    "    probs = tensor(probs)\n",
    "    print(\"probs\", probs, probs.shape)\n",
    "    # This should not be slow but is\n",
    "    # https://github.com/pytorch/pytorch/issues/11389\n",
    "    start = time.time()\n",
    "    altCounts = Binomial(total_count=nSamples.expand([nGenes, *nSamples.shape]), probs=probs).sample()\n",
    "    print(\"final sampling took\", time.time() - start)\n",
    "    \n",
    "    return altCounts, probs\n",
    "\n",
    "def genDataSequential(nSamples, pDs, diseaseFractions, rrShape, rrMeans, afMean, afShape, nGenes = 20000):\n",
    "    # TODO: assert shapes match\n",
    "    print(\"TESTING WITH: nSamples\", nSamples, \"rrMean\", rrMeans, \"rrShape\", rrShape, \"afMean\", afMean, \"afShape\", afShape, \"diseaseFractions\", diseaseFractions, \"pDs\", pDs)\n",
    "    \n",
    "    nConditions = len(nSamples)\n",
    "    altCounts = []\n",
    "    probs = []\n",
    "    afDist = Gamma(concentration=afShape,rate=afShape/afMean)\n",
    "    rrDist = Gamma(concentration=rrShape,rate=rrShape/rrMeans)\n",
    "    rrNullDist = Gamma(concentration=rrShape,rate=rrShape.expand(nConditions))\n",
    "    \n",
    "    # shape == [nGenes, nConditions]\n",
    "    afs = afDist.sample([nGenes,])   \n",
    "    rrs = rrDist.sample([nGenes,])\n",
    "    rrNulls = rrNullDist.sample([nGenes,])\n",
    "    for geneIdx in range(nGenes):\n",
    "        geneAltCounts = []\n",
    "        geneProbs = []\n",
    "        for conditionIdx in range(nConditions):\n",
    "            # TODO: sample from uniform\n",
    "            if geneIdx < nGenes * diseaseFractions[conditionIdx]:\n",
    "                rr = rrs[geneIdx, conditionIdx]\n",
    "            else:\n",
    "                rr = rrNulls[geneIdx, conditionIdx]\n",
    "            \n",
    "            probVgivenD = pVgivenD(rr, afs[geneIdx])\n",
    "            altCountsCases = Binomial(total_count=nSamples[conditionIdx][1], probs=probVgivenD).sample()\n",
    "            \n",
    "            probVgivenNotD = pVgivenNotD(pDs[conditionIdx], afs[geneIdx], probVgivenD)\n",
    "            altCountsCtrls = Binomial(total_count=nSamples[conditionIdx][0], probs=probVgivenNotD).sample()\n",
    "            \n",
    "            geneAltCounts.append([altCountsCtrls, altCountsCases])\n",
    "            geneProbs.append([probVgivenNotD, probVgivenD])\n",
    "        altCounts.append(geneAltCounts)\n",
    "        probs.append(geneProbs)\n",
    "    altCounts = tensor(altCounts)\n",
    "    probs = tensor(probs)\n",
    "    print(\"geneAltCounts\", altCounts, altCounts.shape, \"probs\", probs, probs.shape)\n",
    "    \n",
    "    return altCounts, probs"
   ]
  },
  {
   "cell_type": "code",
   "execution_count": 22,
   "metadata": {},
   "outputs": [
    {
     "name": "stdout",
     "output_type": "stream",
     "text": [
      "TESTING WITH: nSamples tensor([[100000.,   1000.],\n",
      "        [100000.,   1000.],\n",
      "        [100000.,    100.]]) rrMean tensor([10., 10.,  5.]) rrShape tensor(10.) afMean tensor(1.0000e-04) afShape tensor(10.) diseaseFractions tensor([0.1000, 0.1000, 0.0500]) pDs tensor([0.0099, 0.0099, 0.0010])\n",
      "probs tensor([[[1.0892e-04, 1.0116e-03],\n",
      "         [1.0437e-04, 1.4670e-03],\n",
      "         [1.1751e-04, 4.7155e-04]],\n",
      "\n",
      "        [[6.9348e-05, 7.8663e-04],\n",
      "         [6.7408e-05, 9.8061e-04],\n",
      "         [7.6207e-05, 3.1871e-04]],\n",
      "\n",
      "        [[4.8966e-05, 6.9965e-04],\n",
      "         [4.3746e-05, 1.2217e-03],\n",
      "         [5.5278e-05, 1.8643e-04]],\n",
      "\n",
      "        ...,\n",
      "\n",
      "        [[5.2811e-05, 6.6529e-05],\n",
      "         [5.3125e-05, 3.5082e-05],\n",
      "         [5.2933e-05, 6.6857e-05]],\n",
      "\n",
      "        [[1.0414e-04, 1.1997e-04],\n",
      "         [1.0397e-04, 1.3695e-04],\n",
      "         [1.0432e-04, 8.4768e-05]],\n",
      "\n",
      "        [[1.0143e-04, 1.2757e-04],\n",
      "         [1.0145e-04, 1.2540e-04],\n",
      "         [1.0169e-04, 9.3056e-05]]]) torch.Size([20000, 3, 2])\n",
      "final sampling took 214.96760511398315\n"
     ]
    }
   ],
   "source": [
    "disease1 = Samples(1e5, 1e3)\n",
    "disease2 = Samples(1e5, 1e3)\n",
    "diseaseBoth = Samples(1e5, 1e2)\n",
    "\n",
    "nSamples = [disease1, disease2, diseaseBoth]\n",
    "nSamples = tensor(nSamples)\n",
    "\n",
    "pDs = nSamples[:, 1]/nSamples.sum(1)\n",
    "diseaseFractions = tensor([.1, .1, .05])\n",
    "rrShape = tensor(10.)\n",
    "rrMeans = tensor([10., 10., 5.])\n",
    "afMean = tensor(1e-4)\n",
    "afShape = tensor(10.)\n",
    "pooledControls = True\n",
    "altCountsByGene, afsByGene = genData(nSamples=nSamples, pDs=pDs, diseaseFractions=diseaseFractions, rrShape=rrShape, rrMeans=rrMeans, afMean=afMean, afShape=afShape)"
   ]
  },
  {
   "cell_type": "code",
   "execution_count": 24,
   "metadata": {},
   "outputs": [
    {
     "name": "stdout",
     "output_type": "stream",
     "text": [
      "altCountsByGene tensor([[[ 9.,  0.],\n",
      "         [14.,  3.],\n",
      "         [14.,  0.]],\n",
      "\n",
      "        [[11.,  0.],\n",
      "         [ 9.,  1.],\n",
      "         [ 8.,  0.]],\n",
      "\n",
      "        [[ 5.,  1.],\n",
      "         [ 4.,  2.],\n",
      "         [ 3.,  0.]],\n",
      "\n",
      "        ...,\n",
      "\n",
      "        [[ 8.,  0.],\n",
      "         [13.,  0.],\n",
      "         [ 3.,  0.]],\n",
      "\n",
      "        [[ 7.,  0.],\n",
      "         [17.,  0.],\n",
      "         [17.,  0.]],\n",
      "\n",
      "        [[11.,  0.],\n",
      "         [13.,  0.],\n",
      "         [11.,  0.]]]) afsByGene tensor([[[1.0892e-04, 1.0116e-03],\n",
      "         [1.0437e-04, 1.4670e-03],\n",
      "         [1.1751e-04, 4.7155e-04]],\n",
      "\n",
      "        [[6.9348e-05, 7.8663e-04],\n",
      "         [6.7408e-05, 9.8061e-04],\n",
      "         [7.6207e-05, 3.1871e-04]],\n",
      "\n",
      "        [[4.8966e-05, 6.9965e-04],\n",
      "         [4.3746e-05, 1.2217e-03],\n",
      "         [5.5278e-05, 1.8643e-04]],\n",
      "\n",
      "        ...,\n",
      "\n",
      "        [[5.2811e-05, 6.6529e-05],\n",
      "         [5.3125e-05, 3.5082e-05],\n",
      "         [5.2933e-05, 6.6857e-05]],\n",
      "\n",
      "        [[1.0414e-04, 1.1997e-04],\n",
      "         [1.0397e-04, 1.3695e-04],\n",
      "         [1.0432e-04, 8.4768e-05]],\n",
      "\n",
      "        [[1.0143e-04, 1.2757e-04],\n",
      "         [1.0145e-04, 1.2540e-04],\n",
      "         [1.0169e-04, 9.3056e-05]]])\n"
     ]
    }
   ],
   "source": [
    "print(\"altCountsByGene\", altCountsByGene, \"afsByGene\", afsByGene)"
   ]
  },
  {
   "cell_type": "code",
   "execution_count": null,
   "metadata": {},
   "outputs": [
    {
     "name": "stdout",
     "output_type": "stream",
     "text": [
      "TESTING WITH: nSamples tensor([[100000.,   1000.],\n",
      "        [100000.,   1000.],\n",
      "        [100000.,    100.]]) rrMean tensor([10., 10.,  5.]) rrShape tensor(10.) afMean tensor(1.0000e-04) afShape tensor(10.) diseaseFractions tensor([0.1000, 0.1000, 0.0500]) pDs tensor([0.0099, 0.0099, 0.0010])\n"
     ]
    }
   ],
   "source": [
    "start = time.time()\n",
    "altCountsByGene2, afsByGene2 = genDataSequential(nSamples=nSamples, pDs=pDs, diseaseFractions=diseaseFractions, rrShape=rrShape, rrMeans=rrMeans, afMean=afMean, afShape=afShape)\n",
    "print(\"took\",time.time()-start)"
   ]
  },
  {
   "cell_type": "code",
   "execution_count": null,
   "metadata": {},
   "outputs": [],
   "source": [
    "fitFnUniveriate(altCountsByGene, pDs)"
   ]
  },
  {
   "cell_type": "code",
   "execution_count": 498,
   "metadata": {},
   "outputs": [
    {
     "name": "stdout",
     "output_type": "stream",
     "text": [
      "skipping 279\n",
      "skipping 749\n",
      "skipping 1870\n",
      "skipping 2200\n",
      "skipping 3657\n",
      "skipping 4502\n",
      "skipping 7043\n",
      "skipping 7262\n",
      "skipping 8215\n",
      "skipping 9542\n",
      "skipping 9997\n",
      "skipping 10536\n",
      "skipping 11799\n",
      "skipping 11988\n",
      "skipping 12953\n",
      "skipping 13479\n",
      "skipping 14110\n",
      "skipping 14959\n",
      "skipping 18281\n",
      "skipping 18547\n"
     ]
    },
    {
     "data": {
      "text/plain": [
       "tensor(51671.0195)"
      ]
     },
     "execution_count": 498,
     "metadata": {},
     "output_type": "execute_result"
    }
   ],
   "source": [
    "costFn([1e-9, .999999])"
   ]
  },
  {
   "cell_type": "code",
   "execution_count": 547,
   "metadata": {},
   "outputs": [
    {
     "name": "stdout",
     "output_type": "stream",
     "text": [
      "skipping 279\n",
      "skipping 749\n",
      "skipping 1870\n",
      "skipping 2200\n",
      "skipping 3657\n",
      "skipping 4502\n",
      "skipping 7043\n",
      "skipping 7262\n",
      "skipping 8215\n",
      "skipping 9542\n",
      "skipping 9997\n",
      "skipping 10536\n",
      "skipping 11799\n",
      "skipping 11988\n",
      "skipping 12953\n",
      "skipping 13479\n",
      "skipping 14110\n",
      "skipping 14959\n",
      "skipping 18281\n",
      "skipping 18547\n",
      "tensor(11131.0996)\n"
     ]
    }
   ],
   "source": [
    "print(costFn([1e-9, 1e-9]))"
   ]
  },
  {
   "cell_type": "code",
   "execution_count": 89,
   "metadata": {},
   "outputs": [],
   "source": [
    "binomH0 = Binomial(total_count=tensor([1.,1]), probs=pDs[0])"
   ]
  },
  {
   "cell_type": "code",
   "execution_count": 90,
   "metadata": {},
   "outputs": [
    {
     "data": {
      "text/plain": [
       "tensor([-4.6151, -4.6151])"
      ]
     },
     "execution_count": 90,
     "metadata": {},
     "output_type": "execute_result"
    }
   ],
   "source": [
    "binomH0.log_prob(tensor(1.))"
   ]
  },
  {
   "cell_type": "code",
   "execution_count": 94,
   "metadata": {},
   "outputs": [
    {
     "name": "stdout",
     "output_type": "stream",
     "text": [
      "skipping 6780\n",
      "skipping 7044\n",
      "skipping 7241\n",
      "skipping 7579\n",
      "skipping 11089\n",
      "skipping 11642\n",
      "skipping 11813\n",
      "skipping 12044\n",
      "skipping 12389\n",
      "skipping 15026\n",
      "skipping 16708\n",
      "shapes torch.Size([19989]) torch.Size([20000])\n",
      "pd tensor(0.0099)\n",
      "geneSums shape torch.Size([19989])\n",
      "params are [1e-09, 1e-09]\n",
      "pDgivenV 1e-09\n",
      "pi0 0.999999999\n",
      "binomH0 at the bad place of 6780 tensor([-0.1393, -0.0896, -0.1194]) where the sums are tensor([14.,  9., 12.]) and probs are tensor(0.0099) and altCounts are tensor([0., 0., 0.])\n",
      "components tensor([-4.9830, -7.6468, -2.4975,  ..., -0.0398, -3.0455, -0.1095]) tensor([-2.7528e-08, -4.1499e-08, -1.3745e-08,  ..., -4.7684e-16,\n",
      "        -1.4333e-08, -1.9073e-15])\n",
      "tensor(11074.7295)\n",
      "params are [0.1, 0.1]\n",
      "pDgivenV 0.1\n",
      "pi0 0.9\n",
      "binomH0 at the bad place of 6780 tensor([-0.1393, -0.0896, -0.1194]) where the sums are tensor([14.,  9., 12.]) and probs are tensor(0.0099) and altCounts are tensor([0., 0., 0.])\n",
      "components tensor([-4.4847, -6.8821, -2.2477,  ..., -0.0358, -2.7409, -0.0985]) tensor([-0.1407, -0.1950, -0.0948,  ..., -0.0421, -0.1115, -0.1159])\n",
      "tensor(12088.6934)\n"
     ]
    }
   ],
   "source": [
    "costFn2 = likelihoodUnivariateFast(altCountsByGene, pDs)\n",
    "# print(costFn2([1e-9, .999999]))\n",
    "print(costFn2([1e-9, 1e-9]))\n",
    "print(costFn2([0.1,.1]))\n",
    "\n",
    "# best result from R\n",
    "#  0.08845797           0.11094360 , ll -10127.23\n",
    "# pDgivenV, pi1\n"
   ]
  },
  {
   "cell_type": "code",
   "execution_count": 96,
   "metadata": {},
   "outputs": [
    {
     "name": "stdout",
     "output_type": "stream",
     "text": [
      "skipping 6780\n",
      "skipping 7044\n",
      "skipping 7241\n",
      "skipping 7579\n",
      "skipping 11089\n",
      "skipping 11642\n",
      "skipping 11813\n",
      "skipping 12044\n",
      "skipping 12389\n",
      "skipping 15026\n",
      "skipping 16708\n",
      "params are [0.001, 0.01]\n",
      "pDgivenV 0.01\n",
      "pi0 0.999\n",
      "binomH0 at the bad place of 6780 tensor([-0.1393, -0.0896, -0.1194]) where the sums are tensor([14.,  9., 12.]) and probs are tensor(0.0099) and altCounts are tensor([0., 0., 0.])\n",
      "components tensor([-4.9780, -7.6391, -2.4950,  ..., -0.0398, -3.0424, -0.1093]) tensor([-4.9642e-03, -7.6182e-03, -2.4883e-03,  ..., -4.0201e-05,\n",
      "        -3.0359e-03, -1.1055e-04])\n",
      "costFn1: tensor(11085.6865) costFn2: tensor(11074.6982)\n"
     ]
    }
   ],
   "source": [
    "costFn = likelihoodUnivariate(altCountsByGene, pDs)\n",
    "print(\"costFn1:\", costFn([.001, .01]),\"costFn2:\",costFn2([.001, .01]))"
   ]
  },
  {
   "cell_type": "code",
   "execution_count": 49,
   "metadata": {},
   "outputs": [
    {
     "name": "stdout",
     "output_type": "stream",
     "text": [
      "skipping 6780\n",
      "skipping 7044\n",
      "skipping 7241\n",
      "skipping 7579\n",
      "skipping 11089\n",
      "skipping 11642\n",
      "skipping 11813\n",
      "skipping 12044\n",
      "skipping 12389\n",
      "skipping 15026\n",
      "skipping 16708\n"
     ]
    },
    {
     "data": {
      "text/plain": [
       "tensor(12764.8105)"
      ]
     },
     "execution_count": 49,
     "metadata": {},
     "output_type": "execute_result"
    }
   ],
   "source": [
    "costFn([0.0001,0.11094360])"
   ]
  },
  {
   "cell_type": "code",
   "execution_count": 60,
   "metadata": {},
   "outputs": [
    {
     "name": "stdout",
     "output_type": "stream",
     "text": [
      "params are [0.0001, 0.1109436]\n",
      "pDgivenV 0.1109436\n",
      "pi0 0.9999\n",
      "binomH0 at the bad place of 6780 tensor([-0.1393, -0.0000, -0.0896]) where the sums are tensor([14.,  0.,  9.])\n",
      "components tensor([-4.9825, -7.6460, -2.4972,  ..., -0.0398, -3.0452, -0.1094]) tensor([-1.3343e-04, -1.7970e-04, -9.4227e-05,  ..., -4.7038e-05,\n",
      "        -1.0597e-04, -1.2935e-04])\n",
      "tensor(11075.9297)\n"
     ]
    }
   ],
   "source": [
    "print(costFn2([0.0001,0.11094360]))"
   ]
  },
  {
   "cell_type": "code",
   "execution_count": 68,
   "metadata": {},
   "outputs": [
    {
     "data": {
      "text/plain": [
       "tensor([-0.1393, -0.0000, -0.0895])"
      ]
     },
     "execution_count": 68,
     "metadata": {},
     "output_type": "execute_result"
    }
   ],
   "source": [
    "d = Binomial(total_count=tensor([14., 0., 9.]), probs=tensor(.0099))\n",
    "d.log_prob(tensor([0.,0.,0.]))"
   ]
  },
  {
   "cell_type": "code",
   "execution_count": 551,
   "metadata": {},
   "outputs": [
    {
     "name": "stdout",
     "output_type": "stream",
     "text": [
      "params are [1e-09, 0.999999]\n",
      "pDgivenV 1e-09\n",
      "pi0 1.0000000000287557e-06\n",
      "components tensor([-6.9653e-08, -9.4742e-06, -4.8388e-06,  ..., -8.9553e-08,\n",
      "        -1.1940e-07, -4.9752e-08]) tensor([-9.5367e-07, -4.3396e+01, -2.7374e+01,  ..., -9.5367e-07,\n",
      "        -1.9073e-06, -4.7684e-07])\n",
      "ll: -51670.8515625\n"
     ]
    },
    {
     "data": {
      "text/plain": [
       "-51670.8515625"
      ]
     },
     "execution_count": 551,
     "metadata": {},
     "output_type": "execute_result"
    }
   ],
   "source": [
    "costFn2([1e-9, .999999])"
   ]
  },
  {
   "cell_type": "code",
   "execution_count": 546,
   "metadata": {},
   "outputs": [
    {
     "name": "stdout",
     "output_type": "stream",
     "text": [
      "tensor([0., 3., 2.,  ..., 0., 0., 0.])\n",
      "component0 tensor([-1.0005e-02, -1.5943e+01, -9.0420e+00,  ..., -1.5007e-02,\n",
      "        -5.0025e-03, -1.2007e-02]) tensor([-5.0025e-03, -7.9714e+00, -4.5210e+00,  ..., -7.5035e-03,\n",
      "        -2.5012e-03, -6.0034e-03])\n"
     ]
    }
   ],
   "source": [
    "binomH0 = Binomial(total_count=geneSums, probs=.001)\n",
    "binomH1 = Binomial(total_count=geneSums, probs=.01)\n",
    "caseAltCounts = altCountsByGene[:, 0, 1]\n",
    "print(caseAltCounts)\n",
    "component0 = binomH0.log_prob(caseAltCounts)\n",
    "print(\"component0\", component0, .5*component0)\n",
    "component1 = binomH1.log_prob(caseAltCounts)"
   ]
  },
  {
   "cell_type": "code",
   "execution_count": 476,
   "metadata": {},
   "outputs": [
    {
     "data": {
      "text/plain": [
       "tensor(0.0987)"
      ]
     },
     "execution_count": 476,
     "metadata": {},
     "output_type": "execute_result"
    }
   ],
   "source": [
    "pDgivenV(pDs[0], afsByGene2[0:2000, 0, 1].mean(), afMean)"
   ]
  },
  {
   "cell_type": "code",
   "execution_count": 473,
   "metadata": {},
   "outputs": [
    {
     "data": {
      "text/plain": [
       "tensor(0.0008)"
      ]
     },
     "execution_count": 473,
     "metadata": {},
     "output_type": "execute_result"
    }
   ],
   "source": [
    "condition1 = altCountsByGene2[:, 0, :]\n",
    "condition1\n",
    "pDs[0]\n",
    "\n",
    "afsByGene2[0:2000,:,1].mean()"
   ]
  },
  {
   "cell_type": "code",
   "execution_count": 472,
   "metadata": {},
   "outputs": [
    {
     "data": {
      "text/plain": [
       "[<matplotlib.lines.Line2D at 0x7fee4a74f690>]"
      ]
     },
     "execution_count": 472,
     "metadata": {},
     "output_type": "execute_result"
    },
    {
     "data": {
      "image/png": "[encoded data removed]",
      "text/plain": [
       "<Figure size 1600x480 with 1 Axes>"
      ]
     },
     "metadata": {},
     "output_type": "display_data"
    }
   ],
   "source": [
    "pyplot.figure(num=None, figsize=(20, 6), dpi=80, facecolor='w', edgecolor='k')\n",
    "pyplot.plot(afsByGene2[:, 0, 1:2].flatten())\n",
    "pyplot.plot(afsByGene2[:, 0, 0:1].flatten())\n",
    "\n"
   ]
  },
  {
   "cell_type": "code",
   "execution_count": 312,
   "metadata": {},
   "outputs": [
    {
     "name": "stdout",
     "output_type": "stream",
     "text": [
      "gene sums tensor([10., 10., 16.,  8., 11.,  5., 18.,  4., 19., 12.])\n",
      "component0 tensor([-2.3691, -0.0995, -0.1592, -2.5701, -0.1094, -0.0497, -1.8668, -0.0398,\n",
      "        -1.8232, -5.0700])\n",
      "component1 tensor([-4.6142e-02, -1.0005e-04, -1.6008e-04, -4.8353e-02, -1.1005e-04,\n",
      "        -5.0025e-05, -4.0344e-02, -4.0021e-05, -3.9813e-02, -9.6359e-02])\n",
      "tensor(11285.2695)\n"
     ]
    },
    {
     "data": {
      "text/plain": [
       "0.007719278335571289"
      ]
     },
     "execution_count": 312,
     "metadata": {},
     "output_type": "execute_result"
    }
   ],
   "source": [
    "start = time.time()\n",
    "\n",
    "l = likelihoodUnivariateFast(altCountsByGene, pDs)\n",
    "\n",
    "print(l(.001, .01))\n",
    "\n",
    "time.time() - start"
   ]
  },
  {
   "cell_type": "code",
   "execution_count": 318,
   "metadata": {},
   "outputs": [
    {
     "name": "stdout",
     "output_type": "stream",
     "text": [
      "component0 tensor([-2.3930, -0.1005, -0.1608, -2.5961, -0.1106, -0.0503, -1.8857, -0.0402,\n",
      "        -1.8416, -5.1212])\n",
      "component1 tensor([-0., -0., -0., -0., -0., -0., -0., -0., -0., -0.])\n",
      "tensor(11215.3643)\n"
     ]
    }
   ],
   "source": [
    "print(l(0, 0))"
   ]
  },
  {
   "cell_type": "code",
   "execution_count": null,
   "metadata": {},
   "outputs": [],
   "source": []
  }
 ],
 "metadata": {
  "kernelspec": {
   "display_name": "Python 3",
   "language": "python",
   "name": "python3"
  },
  "language_info": {
   "codemirror_mode": {
    "name": "ipython",
    "version": 3
   },
   "file_extension": ".py",
   "mimetype": "text/x-python",
   "name": "python",
   "nbconvert_exporter": "python",
   "pygments_lexer": "ipython3",
   "version": "3.7.6"
  }
 },
 "nbformat": 4,
 "nbformat_minor": 4
}
