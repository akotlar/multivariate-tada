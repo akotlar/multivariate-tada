{
 "cells": [
  {
   "cell_type": "code",
   "execution_count": 501,
   "metadata": {},
   "outputs": [
    {
     "name": "stdout",
     "output_type": "stream",
     "text": [
      "Requirement already satisfied: pyro-ppl in /Users/alexkotlar/miniconda3/lib/python3.7/site-packages (1.3.0)\n",
      "Requirement already satisfied: pyro-api>=0.1.1 in /Users/alexkotlar/miniconda3/lib/python3.7/site-packages (from pyro-ppl) (0.1.1)\n",
      "Requirement already satisfied: torch>=1.4.0 in /Users/alexkotlar/miniconda3/lib/python3.7/site-packages (from pyro-ppl) (1.4.0)\n",
      "Requirement already satisfied: tqdm>=4.36 in /Users/alexkotlar/miniconda3/lib/python3.7/site-packages (from pyro-ppl) (4.42.1)\n",
      "Requirement already satisfied: opt-einsum>=2.3.2 in /Users/alexkotlar/miniconda3/lib/python3.7/site-packages (from pyro-ppl) (3.2.0)\n",
      "Requirement already satisfied: numpy>=1.7 in /Users/alexkotlar/miniconda3/lib/python3.7/site-packages (from pyro-ppl) (1.18.2)\n",
      "Requirement already satisfied: scipy in /Users/alexkotlar/miniconda3/lib/python3.7/site-packages (1.4.1)\n",
      "Requirement already satisfied: numpy>=1.13.3 in /Users/alexkotlar/miniconda3/lib/python3.7/site-packages (from scipy) (1.18.2)\n",
      "Requirement already satisfied: matplotlib in /Users/alexkotlar/miniconda3/lib/python3.7/site-packages (3.2.1)\n",
      "Requirement already satisfied: kiwisolver>=1.0.1 in /Users/alexkotlar/miniconda3/lib/python3.7/site-packages (from matplotlib) (1.1.0)\n",
      "Requirement already satisfied: python-dateutil>=2.1 in /Users/alexkotlar/miniconda3/lib/python3.7/site-packages (from matplotlib) (2.8.1)\n",
      "Requirement already satisfied: numpy>=1.11 in /Users/alexkotlar/miniconda3/lib/python3.7/site-packages (from matplotlib) (1.18.2)\n",
      "Requirement already satisfied: pyparsing!=2.0.4,!=2.1.2,!=2.1.6,>=2.0.1 in /Users/alexkotlar/miniconda3/lib/python3.7/site-packages (from matplotlib) (2.4.6)\n",
      "Requirement already satisfied: cycler>=0.10 in /Users/alexkotlar/miniconda3/lib/python3.7/site-packages (from matplotlib) (0.10.0)\n",
      "Requirement already satisfied: setuptools in /Users/alexkotlar/miniconda3/lib/python3.7/site-packages (from kiwisolver>=1.0.1->matplotlib) (45.2.0.post20200210)\n",
      "Requirement already satisfied: six>=1.5 in /Users/alexkotlar/miniconda3/lib/python3.7/site-packages (from python-dateutil>=2.1->matplotlib) (1.14.0)\n",
      "Collecting scikit-optimize\n",
      "  Downloading scikit_optimize-0.7.4-py2.py3-none-any.whl (80 kB)\n",
      "\u001b[K     |████████████████████████████████| 80 kB 4.0 MB/s eta 0:00:01\n",
      "\u001b[?25hCollecting pyaml>=16.9\n",
      "  Downloading pyaml-20.3.1-py2.py3-none-any.whl (17 kB)\n",
      "Requirement already satisfied: scipy>=0.18.0 in /Users/alexkotlar/miniconda3/lib/python3.7/site-packages (from scikit-optimize) (1.4.1)\n",
      "Collecting joblib>=0.11\n",
      "  Downloading joblib-0.14.1-py2.py3-none-any.whl (294 kB)\n",
      "\u001b[K     |████████████████████████████████| 294 kB 10.8 MB/s eta 0:00:01\n",
      "\u001b[?25hRequirement already satisfied: numpy>=1.11.0 in /Users/alexkotlar/miniconda3/lib/python3.7/site-packages (from scikit-optimize) (1.18.2)\n",
      "Collecting scikit-learn>=0.19.1\n",
      "  Downloading scikit_learn-0.22.2.post1-cp37-cp37m-macosx_10_9_x86_64.whl (7.1 MB)\n",
      "\u001b[K     |████████████████████████████████| 7.1 MB 2.1 MB/s eta 0:00:01\n",
      "\u001b[?25hProcessing /Users/alexkotlar/Library/Caches/pip/wheels/5e/03/1e/e1e954795d6f35dfc7b637fe2277bff021303bd9570ecea653/PyYAML-5.3.1-cp37-cp37m-macosx_10_9_x86_64.whl\n",
      "Installing collected packages: PyYAML, pyaml, joblib, scikit-learn, scikit-optimize\n",
      "Successfully installed PyYAML-5.3.1 joblib-0.14.1 pyaml-20.3.1 scikit-learn-0.22.2.post1 scikit-optimize-0.7.4\n"
     ]
    }
   ],
   "source": [
    "# Setup\n",
    "\n",
    "!pip install pyro-ppl\n",
    "!pip install scipy\n",
    "!pip install matplotlib\n",
    "!pip install scikit-optimize"
   ]
  },
  {
   "cell_type": "code",
   "execution_count": 7,
   "metadata": {},
   "outputs": [],
   "source": [
    "import pyro\n",
    "import torch\n",
    "import torch.tensor as tensor\n",
    "import pyro.distributions as dist\n",
    "# from torch.distributions import Binomial, Gamma, Uniform\n",
    "from pyro.distributions import Binomial, Categorical, Dirichlet, DirichletMultinomial, Beta, BetaBinomial, Uniform, Gamma\n",
    "\n",
    "import numpy as np\n",
    "\n",
    "import scipy\n",
    "from skopt import gp_minimize \n",
    "from scipy.stats import binom as ScipyBinom\n",
    "from matplotlib import pyplot\n",
    "\n",
    "from collections import namedtuple\n",
    "import time\n",
    "seed = 0"
   ]
  },
  {
   "cell_type": "code",
   "execution_count": 8,
   "metadata": {},
   "outputs": [
    {
     "name": "stdout",
     "output_type": "stream",
     "text": [
      "Done\n",
      "Scalar version took: 0.17167901992797852\n",
      "Done\n",
      "Tensor version took: 3.7984280586242676\n",
      "Done\n",
      "Tensor convert array version took: 0.12003588676452637\n"
     ]
    }
   ],
   "source": [
    "# Measuring overhead\n",
    "import time\n",
    "\n",
    "# .1s\n",
    "l = []\n",
    "start = time.time()\n",
    "for i in range(int(1e6)):\n",
    "    l.append(i)\n",
    "\n",
    "if len(l) > 5:\n",
    "    print(\"Done\")\n",
    "print(f\"Scalar version took: {time.time() - start}\")\n",
    "\n",
    "# 30x slower, 3.2s\n",
    "l = []\n",
    "start = time.time()\n",
    "for i in range(int(1e6)):\n",
    "    l.append(tensor(i))\n",
    "\n",
    "if len(l) > 5:\n",
    "    print(\"Done\")\n",
    "print(f\"Tensor version took: {time.time() - start}\")\n",
    "\n",
    "# do it in one pass\n",
    "# this wraps the array in tensor, aka tensor([]),\n",
    "# but accessing a single element gives back a tensor\n",
    "l = []\n",
    "start = time.time()\n",
    "for i in range(int(1e6)):\n",
    "    l.append(i)\n",
    "\n",
    "# .13s \n",
    "l = torch.tensor(l)\n",
    "if len(l) > 5:\n",
    "    print(\"Done\")\n",
    "print(f\"Tensor convert array version took: {time.time() - start}\")"
   ]
  },
  {
   "cell_type": "code",
   "execution_count": 9,
   "metadata": {},
   "outputs": [],
   "source": [
    "###### all named tuples used\n",
    "\n",
    "Samples = namedtuple(\"Samples\", [\"ctrls\", \"cases\"])"
   ]
  },
  {
   "cell_type": "code",
   "execution_count": 392,
   "metadata": {},
   "outputs": [],
   "source": [
    "# Likelihood functions\n",
    "# These assume univariate currently\n",
    "\n",
    "# TODO:\n",
    "# 1) Explore constraining alphas using prevalence estimate, namely E(P(D)) = alpha0 / (alpha0 + alpha1 + alpha2 + alphaBoth) (as long as all case counts are mutually exclusive)\n",
    "# 2) Can DM approximate NB + Multinomial? If so do we need mixture at all? But if we don't have that how do we model % disease-afffecting genes in each hypothesis(maybe proportion of alphas?)\n",
    "# rr: relative risk\n",
    "def pVgivenD(rr, pV):\n",
    "    return (rr * pV) / (rr * pV + (1 - pV))\n",
    "\n",
    "# pD: prevalence\n",
    "# pV: allele frequency\n",
    "def pVgivenNotD(pD, pV, pVgivenD):\n",
    "    p = (pV - pD*pVgivenD) / (1 - pD)\n",
    "    assert(p >= 0)\n",
    "    return p\n",
    "\n",
    "def pDgivenV(pD, pVgivenD, pV):\n",
    "    return pVgivenD * pD / pV\n",
    "\n",
    "# works like shit\n",
    "def llUnivariateSingleGeneJensen(xCtrl, xCase, pD, pi0, pi1, pDgivenV):\n",
    "    n = xCtrl + xCase\n",
    "    #convex function, so by jensen's sum of logs is fine (always <= the log of sum)\n",
    "    return pi0 * Binomial(total_count=n, probs=pD).log_prob(xCase) + pi1*Binomial(total_count=n, probs=pDgivenV).log_prob(xCase)\n",
    "\n",
    "def llUnivariateSingleGene(xCtrl, xCase, pD, pi0, pi1, pDgivenV):\n",
    "    n = xCtrl + xCase\n",
    "    #convex function, so by jensen's sum of logs is fine (always <= the log of sum)\n",
    "    return torch.log(pi0 * torch.exp(Binomial(total_count=n, probs=pD).log_prob(xCase)) + pi1*torch.exp(Binomial(total_count=n, probs=pDgivenV).log_prob(xCase)))\n",
    "\n",
    "# alphas shape: [2] #corresponding to cases and controls\n",
    "def llUnivariateSingleGeneBetaBinomial(xCtrl, xCase, pD, alphas, pi0, pi1):\n",
    "    n = xCtrl + xCase\n",
    "    #convex function, so by jensen's sum of logs is fine (always <= the log of sum)\n",
    "    # what is the \n",
    "    h0 = pi0 * torch.exp( Binomial(total_count=n, probs=pD).log_prob(xCase) )\n",
    "    h1 = pi1 * torch.exp( BetaBinomial(total_count=n, concentration1=alphas[1], concentration0=alphas[0]).log_prob(xCase) )\n",
    "    return torch.log( h0 + h1 )\n",
    "\n",
    "# TODO: support pooled and non-pooled controls\n",
    "# TODO: think about whether we need overlapping cases (both disease1 + disease2) or whether that can be inferred\n",
    "# altCounts.shape = [1 control + nConditions cases, 1]\n",
    "# alphas shape: [nConditions + 2] #1 ctrl + nCondition cases; for now the last condition in nCondition cases is for individuals who has all of the previous nConditions\n",
    "# in a more multivariate setting we will need more information, aka mapping to which combinations of conditions these people have\n",
    "# xCases: we have nConditions cases\n",
    "# pDs shape: [nConditions]\n",
    "# TODO: make this more effificent by taking alphas tensor of shape (1 + nConditions)\n",
    "def llPooledBivariateSingleGene(altCounts, pDs, alpha0, alpha1, alpha2, alphaBoth, pi0, pi1, pi2, piBoth):\n",
    "    # currently assume altCounts are all independent (in simulation), or 0 for everything but first condition\n",
    "    n = altCounts.sum()\n",
    "    alphasSum = alpha0 + alpha1 + alpha2 + alphaBoth\n",
    "    print(\"n is \", n)\n",
    "    #convex function, so by jensen's sum of logs is fine (always <= the log of sum)\n",
    "    # what is the \n",
    "    case1nullLikelihood = torch.exp( Binomial(total_count=n, probs=pDs[0]).log_prob(altCounts[1]) )\n",
    "    case2nullLikelihood = torch.exp( Binomial(total_count=n, probs=pDs[1]).log_prob(altCounts[2]) )\n",
    "    h0 = pi0 * case1nullLikelihood * case2nullLikelihood\n",
    "    h1 = pi1 * torch.exp( BetaBinomial(total_count=n, concentration1=alpha1, concentration0=alphasSum - alpha1).log_prob(altCounts[1]) ) * case2nullLikelihood\n",
    "    h2 = pi2 * torch.exp( BetaBinomial(total_count=n, concentration1=alpha2, concentration0=alphasSum - alpha2).log_prob(altCounts[2]) ) * case1nullLikelihood\n",
    "    h3 = piBoth * torch.exp( DirichletMultinomial(total_count=n, concentration=tensor([alpha0, alpha1, alpha2, alphaBoth])).log_prob(altCounts))\n",
    "    print(f\"h0: {h0}, h1: {h1}, h2: {h2}, h3: {h3}\")\n",
    "    return torch.log( h0 + h1 + h2 + h3 )\n",
    "\n",
    "# shape of altCountsByGene: [nGenes, nConditions, 2]\n",
    "# last dimension is \n",
    "# 2nd dimension altCountsCasesByGene must match controls, or the control nConditions must be 1 (pooled controls)\n",
    "def likelihoodUnivariate(altCountsByGene, pDs):\n",
    "    nGenes = len(altCountsByGene)\n",
    "    \n",
    "    # passed to optimization function, we optimize pDgivenV and pi1 by maximizing likelihood\n",
    "    def likelihood(params):\n",
    "        pDgivenV = params[0]\n",
    "        pi1 = params[1]\n",
    "        pi0 = 1 - pi1\n",
    "        \n",
    "        if(pDgivenV >= 1 or pDgivenV < 0 or pi1 < 0 or pi1 > 1):\n",
    "            print(\"returning inf\")\n",
    "            return float(\"-inf\")\n",
    "    \n",
    "        logLikelihood = 0\n",
    "        penaltyCount = float(nGenes)\n",
    "        \n",
    "        # \n",
    "        for geneIdx in range(nGenes):\n",
    "            ctrlAltCount = altCountsByGene[geneIdx, 0, 0]\n",
    "            caseAltCount = altCountsByGene[geneIdx, 0, 1]\n",
    "            pd = pDs[0]\n",
    "            \n",
    "            if ctrlAltCount == 0 and caseAltCount == 0:\n",
    "                print(\"skipping\", geneIdx)\n",
    "                continue\n",
    "\n",
    "            # this is insanely slow\n",
    "            ll = llUnivariateSingleGene(ctrlAltCount, caseAltCount, pd, pi0, pi1, pDgivenV)\n",
    "\n",
    "            if torch.isnan(ll) or torch.isinf(ll):\n",
    "                print(f\"nan or 0 likelihood: like: {like}, p1: {pi1}, pDgivenV: {pDgivenV}, gene: {geneIdx}, ctrlCount: {ctrlAltCount}, caseCount: {caseAltCount}\")\n",
    "                penaltyCount -= 1\n",
    "                continue\n",
    "                \n",
    "            logLikelihood += ll\n",
    "        \n",
    "    \n",
    "        if penaltyCount == 0:\n",
    "            penaltyCount = 1\n",
    "    \n",
    "        return -logLikelihood * (nGenes / penaltyCount)\n",
    "    \n",
    "    return likelihood\n",
    "\n",
    "def likelihoodUnivariateFast(altCountsByGene, pDs):\n",
    "    nGenes = len(altCountsByGene)\n",
    "    geneSums = altCountsByGene[:, 0, :].sum(1)\n",
    "        \n",
    "    caseAltCounts = altCountsByGene[:, 0, 1]\n",
    "    pD = pDs[0]\n",
    "    def likelihood(params):\n",
    "        pi1, pDgivenV = params\n",
    "\n",
    "        pi0 = 1.0 - pi1\n",
    "\n",
    "        if(pDgivenV > 1 or pDgivenV < 0 or pi1 < 0 or pi1 > 1):\n",
    "            return float(\"inf\")\n",
    "        \n",
    "        binomH0 = Binomial(total_count=geneSums, probs=pD)\n",
    "        binomH1 = Binomial(total_count=geneSums, probs=pDgivenV)\n",
    "        \n",
    "        component0 = pi0 * torch.exp(binomH0.log_prob(caseAltCounts))\n",
    "        component1 = pi1 * torch.exp(binomH1.log_prob(caseAltCounts))\n",
    "        \n",
    "        return - torch.log(component0 + component1).sum()\n",
    "    \n",
    "    return likelihood\n",
    "\n",
    "def likelihoodUnivariateBetaBinomialFast(altCountsByGene, pDs):\n",
    "    nGenes = len(altCountsByGene)\n",
    "    geneSums = altCountsByGene[:, 0, :].sum(1)\n",
    "        \n",
    "    caseAltCounts = altCountsByGene[:, 0, 1]\n",
    "    pD = pDs[0]\n",
    "    def likelihood(params):\n",
    "        pi1, alpha1, alpha0 = params\n",
    "\n",
    "        if alpha1 < 0 or alpha0 < 0 or pi1 < 0 or pi1 > 1:\n",
    "            return float(\"inf\")\n",
    "        \n",
    "        pi0 = 1.0 - pi1\n",
    "\n",
    "        binomH0 = Binomial(total_count=geneSums, probs=pD)\n",
    "        binomH1 = BetaBinomial(total_count=geneSums, concentration1=alpha1, concentration0=alpha0)\n",
    "        \n",
    "        component0 = pi0 * torch.exp(binomH0.log_prob(caseAltCounts))\n",
    "        component1 = pi1 * torch.exp(binomH1.log_prob(caseAltCounts))\n",
    "\n",
    "        return - torch.log(component0 + component1).sum()\n",
    "    \n",
    "    return likelihood\n",
    "\n",
    "# Bivariate likelihood function modeled on:\n",
    "#def llPooledBivariateSingleGene(altCounts, pDs, alpha0, alpha1, alpha2, alphaBoth, pi0, pi1, pi2, piBoth):\n",
    "# # currently assume altCounts are all independent (in simulation), or 0 for everything but first condition\n",
    "# n = altCounts.sum()\n",
    "# alphasSum = alpha0 + alpha1 + alpha2 + alphaBoth\n",
    "# case1nullLikelihood = torch.exp( Binomial(total_count=n, probs=pDs[0]).log_prob(altCounts[1]) )\n",
    "# case2nullLikelihood = torch.exp( Binomial(total_count=n, probs=pDs[1]).log_prob(altCounts[2]) )\n",
    "# h0 = pi0 * case1nullLikelihood * case2nullLikelihood\n",
    "# h1 = pi1 * torch.exp( BetaBinomial(total_count=n, concentration1=alpha1, concentration0=alphasSum - alpha1).log_prob(altCounts[1]) ) * case2nullLikelihood\n",
    "# h2 = pi2 * torch.exp( BetaBinomial(total_count=n, concentration1=alpha2, concentration0=alphasSum - alpha2).log_prob(altCounts[2]) ) * case1nullLikelihood\n",
    "# h3 = piBoth * torch.exp( DirichletMultinomial(total_count=n, concentration=tensor([alpha0, alpha1, alpha2, alphaBoth])).log_prob(altCounts))\n",
    "# print(f\"h0: {h0}, h1: {h1}, h2: {h2}, h3: {h3}\")\n",
    "# return torch.log( h0 + h1 + h2 + h3 )\n",
    "def likelihoodBivariateFast(altCountsByGene, pDs):\n",
    "    nGenes = altCountsByGene.shape[0]\n",
    "    # sum first by dimension 1, and then 2, res shape [2000,1[]\n",
    "    geneSums = altCountsByGene[:, :, :].sum([1,2])\n",
    "    \n",
    "    altCountsByGenePooled = []\n",
    "    for geneIdx in range(altCountsByGene.shape[0]):\n",
    "        altCountsByGenePooled.append([ctrlCounts[geneIdx], *altCountsByGene[geneIdx, :, 1]])\n",
    "    altCountsByGenePooled = tensor(altCountsByGenePooled)\n",
    "    \n",
    "    # precomputed since params never change\n",
    "    case1nullLikelihood = torch.exp( Binomial(total_count=geneSums, probs=pDs[0]).log_prob(altCountsByGenePooled[:, 1]) )\n",
    "    case2nullLikelihood = torch.exp( Binomial(total_count=geneSums, probs=pDs[1]).log_prob(altCountsByGenePooled[:, 2]) )\n",
    "    caseBothNullLikelihood = torch.exp( Binomial(total_count=geneSums, probs=pDs[2]).log_prob(altCountsByGenePooled[:, 3]) )\n",
    "    \n",
    "    pNotD = 1 - pDs.sum()\n",
    "#     print(f\"case1nullLikelihood: {case1nullLikelihood}, case2nullLikelihood: {case2nullLikelihood}, caseBothNullLikelihood: {caseBothNullLikelihood}\")\n",
    "    def likelihood(params):\n",
    "        # TODO: better to do constrained or unconstrained alpha1?\n",
    "        pi1, pi2, piBoth, alpha1, alpha2, alphaBoth = params\n",
    "\n",
    "        if alpha1 < 0 or alpha2 < 0 or alphaBoth < 0 or pi1 < 0 or pi2 < 0 or piBoth < 0:\n",
    "            return float(\"inf\")\n",
    "        \n",
    "        pi0 = 1.0 - (pi1 + pi2 + piBoth)\n",
    "\n",
    "        if pi0 < 0:\n",
    "            return float(\"inf\")\n",
    "        \n",
    "        # P(D) * (alphaSum) = alpha1 because\n",
    "        # E[P(D)] = prevalence = alpha1 / alphaSum where alphaSum = (alpha0 + alpha1 + alpha2 + alpha3) and\n",
    "        # P(D)* (alpha0 + alpha1 + alpha2 + alpha3) = alpha1\n",
    "        # P(D) * alpha0 = alpha1 - (P(D)*(alpha1 + alpha2+alpha3))\n",
    "        # alpha0 = (alpha1 - P(D) * (alpha2 + alpha3)) / (P(D))\n",
    "        #alpha1 = # P(D) * (alphasRes) = alpha1\n",
    "        alpha0 = (pDs[0] * alpha1 - pDs[0] * (alpha1 + alpha2 + alphaBoth)) / pDs[0]\n",
    "        print(\"alpha0\", alpha0)\n",
    "\n",
    "        alphasSum = alpha0 + alpha1 + alpha2 + alphaBoth\n",
    "        \n",
    "        h0 = pi0 * case1nullLikelihood * case2nullLikelihood * caseBothNullLikelihood\n",
    "        # should geneSums in h1 and h2 include only controls, cases1, cases2\n",
    "        h1 = pi1 * torch.exp( BetaBinomial(total_count=geneSums, concentration1=alpha1, concentration0=alphasSum - alpha1).log_prob(altCountsByGenePooled[:, 1]) ) * case2nullLikelihood * caseBothNullLikelihood\n",
    "        h2 = pi2 * torch.exp( BetaBinomial(total_count=geneSums, concentration1=alpha2, concentration0=alphasSum - alpha2).log_prob(altCountsByGenePooled[:, 2]) ) * case1nullLikelihood * caseBothNullLikelihood\n",
    "        h3 = piBoth * torch.exp( DirichletMultinomial(total_count=geneSums, concentration=tensor([alpha0, alpha1, alpha2, alphaBoth])).log_prob(altCountsByGenePooled))\n",
    "#         print(f\"h0: {h0}, h1: {h1}, h2: {h2}, h3: {h3}\")\n",
    "        return -torch.log( h0 + h1 + h2 + h3 ).sum()\n",
    "\n",
    "    return likelihood\n",
    "\n",
    "def cb(f, context):\n",
    "    print(\"got callback\", f, context)\n",
    "\n",
    "# TODO: update for multivariate\n",
    "def fitFnUniveriate(altCountsByGene, pDs, nEpochs = 100, minLLThresholdCount = 100, debug = False):\n",
    "   # wrong costFn = likelihoodBivariateFast(altCountsByGene, pDs)\n",
    "    \n",
    "    lls = []\n",
    "    params = []\n",
    "\n",
    "    minLLDiff = 1\n",
    "    thresholdHitCount = 0\n",
    "    \n",
    "    randomDist = Uniform(0, 1)\n",
    "\n",
    "    nGenes = len(altCountsByGene)\n",
    "        # pDgivenV can't be smaller than this assuming allele freq > 1e-6 and rr < 100\n",
    "    # P(V|D) * P(D) / P(V)\n",
    "#     pDgivenVbounds = ( pVgivenD(2, 1e-6) * .001 / 1e-6, pVgivenD(100, 1e-2) * .1 / 1e-2 )\n",
    "#     pi1Bounds = ( 1/nGenes,  1 )\n",
    "#     bounds = [pDgivenVbounds, pi1Bounds]\n",
    "    for i in range(nEpochs):\n",
    "        fnArgs = randomDist.sample([2,])\n",
    "\n",
    "        fit = scipy.optimize.minimize(costFn, x0 = fnArgs, method='Nelder-Mead', options={\"maxiter\": 10000})#gp_minimize(costFn, [(1e-7, .9),(1/nGenes, .99)])#scipy.optimize.minimize(costFn, x0 = fnArgs, method=\"Nelder-Mead\", options={\"maxiter\": 10000})\n",
    "        \n",
    "        if debug:\n",
    "            print(f\"epoch {i}\")\n",
    "            print(fit)\n",
    "\n",
    "        if not fit[\"success\"] is True:\n",
    "            if debug:\n",
    "                print(\"Failed to converge\")\n",
    "                print(fit)\n",
    "            continue\n",
    "        \n",
    "        pi1, pDgivenV= fit[\"x\"]\n",
    "        if pDgivenV < 0 or pDgivenV > 1 or pi1 < 1/nGenes or pi1 > 1:\n",
    "            if debug:\n",
    "                print(\"Failed to converge\")\n",
    "                print(fit)\n",
    "            continue\n",
    "        \n",
    "        ll = fit[\"fun\"]\n",
    "        if len(lls) == 0:\n",
    "            lls.append(ll)\n",
    "            params.append(fit[\"x\"])\n",
    "            continue\n",
    "\n",
    "        minPrevious = min(lls)\n",
    "        \n",
    "        if debug:\n",
    "            print(\"minPrevious\", minPrevious)\n",
    "            \n",
    "        # TODO: take mode of some pc-based cluster of parameters, or some auto-encoded cluster\n",
    "        if ll < minPrevious and (minPrevious - ll) >= minLLDiff:\n",
    "            if debug:\n",
    "                print(f\"better by at >= {minLLDiff}; new ll: {fit}\")\n",
    "\n",
    "            lls.append(ll)\n",
    "            params.append(fit[\"x\"])\n",
    "            \n",
    "            thresholdHitCount = 0\n",
    "            continue\n",
    "\n",
    "        thresholdHitCount += 1\n",
    "        \n",
    "        if thresholdHitCount == minLLThresholdCount:\n",
    "            break\n",
    "            \n",
    "    return {\"lls\": lls, \"params\": params}\n",
    "\n",
    "\n",
    "# TODO: maybe beta distribution should be constrained such that variance is that of the data?\n",
    "# or maybe there's an analog to 0 mean liability variance?\n",
    "def fitFnUniveriateBetaBinomial(altCountsByGene, pDs, nEpochs = 100, minLLThresholdCount = 100, debug = False):\n",
    "    costFn = likelihoodUnivariateBetaBinomialFast(altCountsByGene, pDs)\n",
    "    \n",
    "    llsAll = []\n",
    "    lls = []\n",
    "    params = []\n",
    "\n",
    "    minLLDiff = 1\n",
    "    thresholdHitCount = 0\n",
    "    \n",
    "    randomDist = Uniform(0, 1)\n",
    "    randomDist2 = Uniform(1, 10000)\n",
    "    fnArgs = [0, 0, 0]\n",
    "    # pDgivenV can't be smaller than this assuming allele freq > 1e-6 and rr < 100\n",
    "    # P(V|D) * P(D) / P(V)\n",
    "    nGenes = len(altCountsByGene)\n",
    "    for i in range(nEpochs):\n",
    "        # pi1\n",
    "        fnArgs[0] = randomDist.sample()\n",
    "        # alpha1\n",
    "        fnArgs[1] = randomDist2.sample()\n",
    "        # alpha0\n",
    "        fnArgs[2] = randomDist2.sample()\n",
    "        fit = scipy.optimize.minimize(costFn, x0 = fnArgs, method='Nelder-Mead', options={\"maxiter\": 10000})#gp_minimize(costFn, [(1e-7, .9),(1/nGenes, .99)])#scipy.optimize.minimize(costFn, x0 = fnArgs, method=\"Nelder-Mead\", options={\"maxiter\": 10000})\n",
    "        \n",
    "        if debug:\n",
    "            print(f\"epoch {i}\")\n",
    "            print(fit)\n",
    "\n",
    "        if not fit[\"success\"] is True:\n",
    "            if debug:\n",
    "                print(\"Failed to converge\")\n",
    "                print(fit)\n",
    "            continue\n",
    "        \n",
    "        \n",
    "        pi1, alpha1, alpha0 = fit[\"x\"]\n",
    "        if pi1 < 1/nGenes or pi1 > 1 or alpha1 <= 0 or alpha0 <= 0:\n",
    "            if debug:\n",
    "                print(\"Failed to converge\")\n",
    "                print(fit)\n",
    "            continue\n",
    "        \n",
    "        ll = fit[\"fun\"]\n",
    "        llsAll.append(ll)\n",
    "        if len(lls) == 0:\n",
    "            lls.append(ll)\n",
    "            params.append(fit[\"x\"])\n",
    "            continue\n",
    "\n",
    "        minPrevious = min(lls)\n",
    "        \n",
    "        if debug:\n",
    "            print(\"minPrevious\", minPrevious)\n",
    "            \n",
    "        # TODO: take mode of some pc-based cluster of parameters, or some auto-encoded cluster\n",
    "        if ll < minPrevious and (minPrevious - ll) >= minLLDiff:\n",
    "            if debug:\n",
    "                print(f\"better by at >= {minLLDiff}; new ll: {fit}\")\n",
    "\n",
    "            lls.append(ll)\n",
    "            params.append(fit[\"x\"])\n",
    "            \n",
    "            thresholdHitCount = 0\n",
    "            continue\n",
    "\n",
    "        thresholdHitCount += 1\n",
    "        \n",
    "        if thresholdHitCount == minLLThresholdCount:\n",
    "            break\n",
    "            \n",
    "    return {\"lls\": lls, \"params\": params, \"llTrajectory\": llsAll}\n",
    "\n",
    "# TODO: maybe beta distribution should be constrained such that variance is that of the data?\n",
    "# or maybe there's an analog to 0 mean liability variance?\n",
    "def fitFnBivariate(altCountsByGene, pDs, nEpochs = 100, minLLThresholdCount = 100, debug = False):\n",
    "    costFn = likelihoodBivariateFast(altCountsByGene, pDs)\n",
    "    \n",
    "    llsAll = []\n",
    "    lls = []\n",
    "    params = []\n",
    "\n",
    "    minLLDiff = 1\n",
    "    thresholdHitCount = 0\n",
    "    \n",
    "    randomDist = Uniform(0, 1)\n",
    "    randomDist2 = Uniform(1, 10000)\n",
    "    fnArgs = []\n",
    "    # pDgivenV can't be smaller than this assuming allele freq > 1e-6 and rr < 100\n",
    "    # P(V|D) * P(D) / P(V)\n",
    "    nGenes = len(altCountsByGene)\n",
    "    for i in range(nEpochs):\n",
    "        probs = randomDist.sample([3,])\n",
    "        probs = probs / probs.sum()\n",
    "        # TODO: should we constrain alpha0 to the pD, i.e\n",
    "        # E[P(D)] = alpha1 / sum(alphasRes)\n",
    "        # P(D) * (alphasRes) = alpha1\n",
    "        alphas = randomDist2.sample([3,])\n",
    "\n",
    "        fnArgs = [*probs, *alphas]\n",
    "        fit = scipy.optimize.minimize(costFn, x0 = fnArgs, method='Nelder-Mead', options={\"maxiter\": 10000})\n",
    "\n",
    "        if debug:\n",
    "            print(f\"epoch {i}\")\n",
    "            print(fit)\n",
    "\n",
    "        if not fit[\"success\"] is True:\n",
    "            if debug:\n",
    "                print(\"Failed to converge\")\n",
    "                print(fit)\n",
    "            continue\n",
    "        \n",
    "        \n",
    "        pi1, pi2, piBoth, alpha1, alpha2, alphaBoth = fit[\"x\"]\n",
    "        if alpha0 < 0 or alpha1 < 0 or alpha2 < 0 or alphaBoth < 0 or pi1 < 0 or pi1 > 1 or pi2 < 0 or pi2 > 1 or piBoth < 0 or piBoth > 1:\n",
    "            if debug:\n",
    "                print(\"Failed to converge\")\n",
    "                print(fit)\n",
    "            continue\n",
    "        \n",
    "        ll = fit[\"fun\"]\n",
    "        llsAll.append(ll)\n",
    "        if len(lls) == 0:\n",
    "            lls.append(ll)\n",
    "            params.append(fit[\"x\"])\n",
    "            continue\n",
    "\n",
    "        minPrevious = min(lls)\n",
    "        \n",
    "        if debug:\n",
    "            print(\"minPrevious\", minPrevious)\n",
    "            \n",
    "        # TODO: take mode of some pc-based cluster of parameters, or some auto-encoded cluster\n",
    "        if ll < minPrevious and (minPrevious - ll) >= minLLDiff:\n",
    "            if debug:\n",
    "                print(f\"better by at >= {minLLDiff}; new ll: {fit}\")\n",
    "\n",
    "            lls.append(ll)\n",
    "            params.append(fit[\"x\"])\n",
    "            \n",
    "            thresholdHitCount = 0\n",
    "            continue\n",
    "\n",
    "        thresholdHitCount += 1\n",
    "        \n",
    "        if thresholdHitCount == minLLThresholdCount:\n",
    "            break\n",
    "            \n",
    "    return {\"lls\": lls, \"params\": params, \"llTrajectory\": llsAll}\n",
    "\n",
    "def initBetaParams(mu, variance):\n",
    "    alpha = ((1 - mu) / variance - 1 / variance) * mu**2\n",
    "    beta = alpha * (1/mu -1)\n",
    "    \n",
    "    return alpha, beta"
   ]
  },
  {
   "cell_type": "code",
   "execution_count": 393,
   "metadata": {},
   "outputs": [],
   "source": [
    "llFn = likelihoodBivariateFast(altCountsByGene, pDs)\n"
   ]
  },
  {
   "cell_type": "code",
   "execution_count": 337,
   "metadata": {},
   "outputs": [],
   "source": [
    "\n",
    "    \n",
    "altCountsByGenePooled = []\n",
    "for geneIdx in range(altCountsByGene.shape[0]):\n",
    "    altCountsByGenePooled.append([ctrlCounts[geneIdx], *altCountsByGene[geneIdx, :, 1]])\n",
    "altCountsByGenePooled = tensor(altCountsByGenePooled)"
   ]
  },
  {
   "cell_type": "code",
   "execution_count": 371,
   "metadata": {},
   "outputs": [
    {
     "data": {
      "text/plain": [
       "tensor([[1., 1., 0.],\n",
       "        [0., 0., 0.],\n",
       "        [0., 0., 0.],\n",
       "        ...,\n",
       "        [0., 0., 0.],\n",
       "        [0., 0., 0.],\n",
       "        [0., 0., 0.]])"
      ]
     },
     "execution_count": 371,
     "metadata": {},
     "output_type": "execute_result"
    }
   ],
   "source": [
    "altCountsByGene[:, :, 1]"
   ]
  },
  {
   "cell_type": "code",
   "execution_count": 357,
   "metadata": {},
   "outputs": [
    {
     "name": "stdout",
     "output_type": "stream",
     "text": [
      "tensor([43., 32., 22.,  ..., 52., 47., 55.])\n"
     ]
    },
    {
     "data": {
      "text/plain": [
       "torch.Size([20000, 4])"
      ]
     },
     "execution_count": 357,
     "metadata": {},
     "output_type": "execute_result"
    }
   ],
   "source": [
    "geneSums = altCountsByGene.sum([1,2])\n",
    "print(geneSums)\n",
    "altCountsByGenePooled.shape"
   ]
  },
  {
   "cell_type": "code",
   "execution_count": 373,
   "metadata": {},
   "outputs": [
    {
     "name": "stdout",
     "output_type": "stream",
     "text": [
      "tensor([[41.,  1.,  1.,  0.],\n",
      "        [32.,  0.,  0.,  0.],\n",
      "        [22.,  0.,  0.,  0.],\n",
      "        ...,\n",
      "        [52.,  0.,  0.,  0.],\n",
      "        [47.,  0.,  0.,  0.],\n",
      "        [55.,  0.,  0.,  0.]])\n"
     ]
    },
    {
     "data": {
      "text/plain": [
       "tensor([-1.2718, -0.3184, -0.2189,  ..., -0.5174, -0.4677, -0.5473])"
      ]
     },
     "execution_count": 373,
     "metadata": {},
     "output_type": "execute_result"
    }
   ],
   "source": [
    "print(altCountsByGenePooled)\n",
    "d = Binomial(total_count=geneSums, probs=pDs[0])\n",
    "d.log_prob(altCountsByGenePooled[:, 1])"
   ]
  },
  {
   "cell_type": "code",
   "execution_count": 372,
   "metadata": {},
   "outputs": [
    {
     "data": {
      "text/plain": [
       "tensor([ 2., -1.,  1.,  ...,  1.,  1.,  1.])"
      ]
     },
     "execution_count": 372,
     "metadata": {},
     "output_type": "execute_result"
    }
   ],
   "source": [
    "r = altCountsByGenePooled[:, 2] - altCountsByGenePooled[:, 1]\n",
    "r[r != 0]"
   ]
  },
  {
   "cell_type": "code",
   "execution_count": 365,
   "metadata": {},
   "outputs": [
    {
     "name": "stdout",
     "output_type": "stream",
     "text": [
      "tensor([0.3368, 0.3300, 0.3332])\n"
     ]
    },
    {
     "data": {
      "text/plain": [
       "[tensor(0.3368),\n",
       " tensor(0.3300),\n",
       " tensor(0.3332),\n",
       " tensor(206.3920),\n",
       " tensor(1597.2917),\n",
       " tensor(903.7043),\n",
       " tensor(122.3799)]"
      ]
     },
     "execution_count": 365,
     "metadata": {},
     "output_type": "execute_result"
    }
   ],
   "source": [
    "randomDist = Uniform(0, 1)\n",
    "randomDist2 = Uniform(1, 10000)\n",
    "fnArgs = []\n",
    "# pDgivenV can't be smaller than this assuming allele freq > 1e-6 and rr < 100\n",
    "# P(V|D) * P(D) / P(V)\n",
    "nGenes = len(altCountsByGene)\n",
    "\n",
    "probs = randomDist.sample([3,])\n",
    "probs = probs / probs.sum()\n",
    "print(probs)\n",
    "    #pi1, pi2, piBoth, alpha0, alpha1, alpha2, alphaBoth\n",
    "fnArgs = [*probs, *randomDist2.sample([4,])]\n",
    "fnArgs"
   ]
  },
  {
   "cell_type": "code",
   "execution_count": 380,
   "metadata": {},
   "outputs": [
    {
     "name": "stdout",
     "output_type": "stream",
     "text": [
      "h0: tensor([0., 0., 0.,  ..., 0., 0., 0.]), h1: tensor([2.2024e-15, 8.3472e-13, 3.3618e-09,  ..., 5.8654e-20, 3.5449e-18,\n",
      "        5.0277e-21]), h2: tensor([1.3259e-07, 1.1344e-06, 5.6730e-05,  ..., 4.7533e-10, 3.3060e-09,\n",
      "        1.4845e-10]), h3: tensor([7.9874e-44, 1.1356e-36, 8.7359e-26,  ..., 0.0000e+00, 0.0000e+00,\n",
      "        0.0000e+00])\n"
     ]
    },
    {
     "data": {
      "text/plain": [
       "tensor(254699.7969)"
      ]
     },
     "execution_count": 380,
     "metadata": {},
     "output_type": "execute_result"
    }
   ],
   "source": [
    "llFn(fnArgs)"
   ]
  },
  {
   "cell_type": "code",
   "execution_count": 277,
   "metadata": {},
   "outputs": [
    {
     "name": "stdout",
     "output_type": "stream",
     "text": [
      "n is  tensor(20012.)\n",
      "h0: 0.0, h1: 0.0, h2: 0.0, h3: 7.369135346380062e-07\n"
     ]
    },
    {
     "data": {
      "text/plain": [
       "tensor(-14.1208)"
      ]
     },
     "execution_count": 277,
     "metadata": {},
     "output_type": "execute_result"
    }
   ],
   "source": [
    "llPooledBivariateSingleGene(tensor([10.,1.,1.,20000.]), tensor([.01,.01,.05]), tensor(13.), tensor(10.), tensor(10.), tensor(100000.), tensor(.77), tensor(.1), tensor(.1), tensor(.01))"
   ]
  },
  {
   "cell_type": "code",
   "execution_count": 141,
   "metadata": {},
   "outputs": [],
   "source": [
    "#this gives -2.401 log(likelihoodUnivariateSingleGene(xCtrl = 10, xCase1 = 1, prevalence1 = .01, pi0 = .9, pi1 = .1, pDiseaseGivenVariant = .001))\n",
    "#tensor(-2.5290): llUnivariateSingleGeneJensen(xCtrl = tensor(10.), xCase = tensor(1.), pD = tensor(.01), pi0 = tensor(.9), pi1 = tensor(.1), pDgivenV = tensor(.001))\n",
    "r = llUnivariateSingleGeneNoJensen(xCtrl = tensor(10.), xCase = tensor(1.), pD = tensor(.01), pi0 = tensor(.9), pi1 = tensor(.1), pDgivenV = tensor(.001))\n",
    "assert(abs(-r + tensor(-2.4010)) < .1)"
   ]
  },
  {
   "cell_type": "code",
   "execution_count": 210,
   "metadata": {},
   "outputs": [
    {
     "name": "stdout",
     "output_type": "stream",
     "text": [
      "test data: testAlpha: tensor([16., 20., 30., 15.]), n: 16.0, altCounts: tensor([10.,  2.,  3.,  1.])\n"
     ]
    },
    {
     "data": {
      "text/plain": [
       "tensor(-9.4702)"
      ]
     },
     "execution_count": 210,
     "metadata": {},
     "output_type": "execute_result"
    }
   ],
   "source": [
    "\n",
    "altCounts = tensor([10., 2., 3., 1.])\n",
    "n = altCounts.sum()\n",
    "\n",
    "testAlpha = tensor([16., 20., 30., 15.])\n",
    "print(f\"test data: testAlpha: {testAlpha}, n: {n}, altCounts: {altCounts}\")\n",
    "DirichletMultinomial(total_count=n, concentration=testAlpha).log_prob(altCounts)"
   ]
  },
  {
   "cell_type": "code",
   "execution_count": 198,
   "metadata": {},
   "outputs": [
    {
     "data": {
      "text/plain": [
       "tensor(0.1005)"
      ]
     },
     "execution_count": 198,
     "metadata": {},
     "output_type": "execute_result"
    }
   ],
   "source": [
    "pDgivenV(.01, afsByGene[0:2000, 0, 1], 1e-4).mean()"
   ]
  },
  {
   "cell_type": "code",
   "execution_count": 216,
   "metadata": {},
   "outputs": [],
   "source": [
    "# nSamples shape: [nConditions, 2] , last dim is ctrls, cases\n",
    "\n",
    "# this is insanely slow for some reason, and almost all time is in the expanded binomial sampling\n",
    "def genData(nSamples, pDs, diseaseFractions, rrShape, rrMeans, afMean, afShape, nGenes = 20000):\n",
    "    # TODO: assert shapes match\n",
    "    print(\"TESTING WITH: nSamples\", nSamples, \"rrMean\", rrMeans, \"rrShape\", rrShape, \"afMean\", afMean, \"afShape\", afShape, \"diseaseFractions\", diseaseFractions, \"pDs\", pDs)\n",
    "    \n",
    "    nConditions = len(nSamples)\n",
    "    probs = []\n",
    "    afDist = Gamma(concentration=afShape,rate=afShape/afMean)\n",
    "    rrDist = Gamma(concentration=rrShape,rate=rrShape/rrMeans)\n",
    "    rrNullDist = Gamma(concentration=rrShape,rate=rrShape.expand(nConditions))\n",
    "    \n",
    "    # shape == [nGenes, nConditions]\n",
    "    afs = afDist.sample([nGenes,])   \n",
    "    rrs = rrDist.sample([nGenes,])\n",
    "    rrNulls = rrNullDist.sample([nGenes,])\n",
    "    for geneIdx in range(nGenes):\n",
    "        geneProbs = []\n",
    "        for conditionIdx in range(nConditions):\n",
    "            # TODO: sample from uniform\n",
    "            if geneIdx < nGenes * diseaseFractions[conditionIdx]:\n",
    "                rr = rrs[geneIdx, conditionIdx]\n",
    "            else:\n",
    "                rr = rrNulls[geneIdx, conditionIdx]\n",
    "            \n",
    "            probVgivenD = pVgivenD(rr, afs[geneIdx])\n",
    "            probVgivenNotD = pVgivenNotD(pDs[conditionIdx], afs[geneIdx], probVgivenD)\n",
    "            \n",
    "            geneProbs.append([probVgivenNotD, probVgivenD])\n",
    "        probs.append(geneProbs)\n",
    "    probs = tensor(probs)\n",
    "    print(\"probs\", probs, probs.shape)\n",
    "    # This should not be slow but is\n",
    "    # https://github.com/pytorch/pytorch/issues/11389\n",
    "    start = time.time()\n",
    "    altCounts = Binomial(total_count=nSamples.expand([nGenes, *nSamples.shape]), probs=probs).sample()\n",
    "    print(\"final sampling took\", time.time() - start)\n",
    "    \n",
    "    return altCounts, probs\n",
    "\n",
    "def genDataSequential(nSamples, pDs, diseaseFractions, rrShape, rrMeans, afMean, afShape, nGenes = 20000):\n",
    "    # TODO: assert shapes match\n",
    "    print(\"TESTING WITH: nSamples\", nSamples, \"rrMean\", rrMeans, \"rrShape\", rrShape, \"afMean\", afMean, \"afShape\", afShape, \"diseaseFractions\", diseaseFractions, \"pDs\", pDs)\n",
    "    \n",
    "    nConditions = len(nSamples)\n",
    "    altCounts = []\n",
    "    probs = []\n",
    "    afDist = Gamma(concentration=afShape,rate=afShape/afMean)\n",
    "    rrDist = Gamma(concentration=rrShape,rate=rrShape/rrMeans)\n",
    "    rrNullDist = Gamma(concentration=rrShape,rate=rrShape.expand(nConditions))\n",
    "    \n",
    "    # shape == [nGenes, nConditions]\n",
    "    afs = afDist.sample([nGenes,])   \n",
    "    rrs = rrDist.sample([nGenes,])\n",
    "    rrNulls = rrNullDist.sample([nGenes,])\n",
    "    for geneIdx in range(nGenes):\n",
    "        geneAltCounts = []\n",
    "        geneProbs = []\n",
    "        for conditionIdx in range(nConditions):\n",
    "            # TODO: sample from uniform\n",
    "            if geneIdx < nGenes * diseaseFractions[conditionIdx]:\n",
    "                rr = rrs[geneIdx, conditionIdx]\n",
    "            else:\n",
    "                rr = rrNulls[geneIdx, conditionIdx]\n",
    "            \n",
    "            probVgivenD = pVgivenD(rr, afs[geneIdx])\n",
    "            altCountsCases = Binomial(total_count=nSamples[conditionIdx][1], probs=probVgivenD).sample()\n",
    "            \n",
    "            # we can use one simulation to study pooled an separate samples\n",
    "            # in the pooled model, we could sum control samples during inference\n",
    "            probVgivenNotD = pVgivenNotD(pDs[conditionIdx], afs[geneIdx], probVgivenD)\n",
    "            altCountsCtrls = Binomial(total_count=nSamples[conditionIdx][0], probs=probVgivenNotD).sample()\n",
    "            \n",
    "            geneAltCounts.append([altCountsCtrls, altCountsCases])\n",
    "            geneProbs.append([probVgivenNotD, probVgivenD])\n",
    "        altCounts.append(geneAltCounts)\n",
    "        probs.append(geneProbs)\n",
    "    altCounts = tensor(altCounts)\n",
    "    probs = tensor(probs)\n",
    "    print(\"geneAltCounts\", altCounts, altCounts.shape, \"probs\", probs, probs.shape)\n",
    "    \n",
    "    return altCounts, probs"
   ]
  },
  {
   "cell_type": "code",
   "execution_count": 212,
   "metadata": {},
   "outputs": [
    {
     "data": {
      "text/plain": [
       "tensor(0.0093)"
      ]
     },
     "execution_count": 212,
     "metadata": {},
     "output_type": "execute_result"
    }
   ],
   "source": [
    "### Test functions\n",
    "pDgivenV(.01, afsByGeneRR2Shape5[0:2000, 0, 1], afsByGeneRR2Shape5[0:2000, 0, 0]).std()"
   ]
  },
  {
   "cell_type": "code",
   "execution_count": 213,
   "metadata": {},
   "outputs": [
    {
     "name": "stdout",
     "output_type": "stream",
     "text": [
      "variance 0.01171849070919102\n",
      "mean 0.011861330595633124\n",
      "true varianc\n"
     ]
    }
   ],
   "source": [
    "# variance is wrong\n",
    "def betaVariance(alpha, beta):\n",
    "    return (alpha * beta) / ( ((alpha + beta)**2) + (alpha + beta + 1) )\n",
    "\n",
    "def betaMean(alpha, beta):\n",
    "    return alpha / (alpha + beta)\n",
    "\n",
    "print(\"variance\", betaVariance(6.47e1,5.39e3))\n",
    "print(\"mean\", betaMean(6.47e1,5.39e3))\n",
    "print(\"true varianc\", )"
   ]
  },
  {
   "cell_type": "code",
   "execution_count": 217,
   "metadata": {},
   "outputs": [
    {
     "name": "stdout",
     "output_type": "stream",
     "text": [
      "TESTING WITH: nSamples tensor([[100000.,   1000.],\n",
      "        [100000.,   1000.],\n",
      "        [100000.,    100.]]) rrMean tensor([10., 10.,  5.]) rrShape tensor(10.) afMean tensor(1.0000e-04) afShape tensor(10.) diseaseFractions tensor([0.1000, 0.1000, 0.0500]) pDs tensor([0.0099, 0.0099, 0.0010])\n",
      "geneAltCounts tensor([[[12.,  1.],\n",
      "         [17.,  1.],\n",
      "         [12.,  0.]],\n",
      "\n",
      "        [[11.,  0.],\n",
      "         [10.,  0.],\n",
      "         [11.,  0.]],\n",
      "\n",
      "        [[ 7.,  0.],\n",
      "         [ 8.,  0.],\n",
      "         [ 7.,  0.]],\n",
      "\n",
      "        ...,\n",
      "\n",
      "        [[17.,  0.],\n",
      "         [15.,  0.],\n",
      "         [20.,  0.]],\n",
      "\n",
      "        [[14.,  0.],\n",
      "         [20.,  0.],\n",
      "         [13.,  0.]],\n",
      "\n",
      "        [[18.,  0.],\n",
      "         [14.,  0.],\n",
      "         [23.,  0.]]]) torch.Size([20000, 3, 2]) probs tensor([[[1.2691e-04, 1.5925e-03],\n",
      "         [1.3191e-04, 1.0918e-03],\n",
      "         [1.4080e-04, 7.5553e-04]],\n",
      "\n",
      "        [[6.9891e-05, 1.5163e-03],\n",
      "         [7.6392e-05, 8.6624e-04],\n",
      "         [8.3896e-05, 4.0050e-04]],\n",
      "\n",
      "        [[5.6047e-05, 7.4416e-04],\n",
      "         [5.9293e-05, 4.1957e-04],\n",
      "         [6.2713e-05, 2.0996e-04]],\n",
      "\n",
      "        ...,\n",
      "\n",
      "        [[1.3108e-04, 1.1909e-04],\n",
      "         [1.3126e-04, 1.0138e-04],\n",
      "         [1.3099e-04, 1.0716e-04]],\n",
      "\n",
      "        [[1.6610e-04, 1.1163e-04],\n",
      "         [1.6521e-04, 2.0095e-04],\n",
      "         [1.6551e-04, 2.1387e-04]],\n",
      "\n",
      "        [[1.6693e-04, 9.6453e-05],\n",
      "         [1.6699e-04, 9.0695e-05],\n",
      "         [1.6616e-04, 2.4552e-04]]]) torch.Size([20000, 3, 2])\n",
      "took 72.23827886581421\n"
     ]
    }
   ],
   "source": [
    "disease1 = Samples(1e5, 1e3)\n",
    "disease2 = Samples(1e5, 1e3)\n",
    "diseaseBoth = Samples(1e5, 1e2)\n",
    "\n",
    "nSamples = [disease1, disease2, diseaseBoth]\n",
    "nSamples = tensor(nSamples)\n",
    "\n",
    "pDs = nSamples[:, 1]/nSamples.sum(1)\n",
    "diseaseFractions = tensor([.1, .1, .05])\n",
    "rrShape = tensor(10.)\n",
    "rrMeans = tensor([10., 10., 5.])\n",
    "afMean = tensor(1e-4)\n",
    "afShape = tensor(10.)\n",
    "pooledControls = True\n",
    "start = time.time()\n",
    "altCountsByGene, afsByGene = genDataSequential(nSamples=nSamples, pDs=pDs, diseaseFractions=diseaseFractions, rrShape=rrShape, rrMeans=rrMeans, afMean=afMean, afShape=afShape)\n",
    "print(\"took\", time.time() - start)"
   ]
  },
  {
   "cell_type": "code",
   "execution_count": 218,
   "metadata": {},
   "outputs": [
    {
     "name": "stdout",
     "output_type": "stream",
     "text": [
      "TESTING WITH: nSamples tensor([[100000.,   1000.],\n",
      "        [100000.,   1000.],\n",
      "        [100000.,    100.]]) rrMean tensor([2, 2, 2]) rrShape tensor(10.) afMean tensor(1.0000e-04) afShape tensor(10.) diseaseFractions tensor([0.1000, 0.1000, 0.0500]) pDs tensor([0.0099, 0.0099, 0.0010])\n",
      "geneAltCounts tensor([[[10.,  0.],\n",
      "         [10.,  0.],\n",
      "         [ 7.,  0.]],\n",
      "\n",
      "        [[ 9.,  0.],\n",
      "         [ 9.,  0.],\n",
      "         [ 2.,  0.]],\n",
      "\n",
      "        [[14.,  0.],\n",
      "         [ 8.,  0.],\n",
      "         [12.,  0.]],\n",
      "\n",
      "        ...,\n",
      "\n",
      "        [[12.,  0.],\n",
      "         [14.,  0.],\n",
      "         [11.,  0.]],\n",
      "\n",
      "        [[ 7.,  0.],\n",
      "         [ 2.,  0.],\n",
      "         [ 5.,  0.]],\n",
      "\n",
      "        [[ 6.,  1.],\n",
      "         [ 5.,  0.],\n",
      "         [ 9.,  0.]]]) torch.Size([20000, 3, 2]) probs tensor([[[8.6245e-05, 1.7444e-04],\n",
      "         [8.6320e-05, 1.6694e-04],\n",
      "         [8.7034e-05, 1.7153e-04]],\n",
      "\n",
      "        [[6.9391e-05, 8.0386e-05],\n",
      "         [6.9102e-05, 1.0921e-04],\n",
      "         [6.9445e-05, 1.2379e-04]],\n",
      "\n",
      "        [[1.3538e-04, 3.0570e-04],\n",
      "         [1.3451e-04, 3.9257e-04],\n",
      "         [1.3707e-04, 1.4167e-04]],\n",
      "\n",
      "        ...,\n",
      "\n",
      "        [[1.0928e-04, 1.6730e-04],\n",
      "         [1.0947e-04, 1.4831e-04],\n",
      "         [1.0985e-04, 1.1665e-04]],\n",
      "\n",
      "        [[8.1439e-05, 1.0257e-04],\n",
      "         [8.1764e-05, 6.9988e-05],\n",
      "         [8.1659e-05, 7.0051e-05]],\n",
      "\n",
      "        [[7.7348e-05, 5.0634e-05],\n",
      "         [7.7322e-05, 5.3234e-05],\n",
      "         [7.7077e-05, 8.3010e-05]]]) torch.Size([20000, 3, 2])\n",
      "took 76.36571192741394\n"
     ]
    }
   ],
   "source": [
    "start = time.time()\n",
    "altCountsByGeneRR2, afsByGeneRR2 = genDataSequential(nSamples=nSamples, pDs=pDs, diseaseFractions=diseaseFractions, rrShape=rrShape, rrMeans=rrMeansLow, afMean=afMean, afShape=afShape)\n",
    "print(\"took\", time.time() - start)"
   ]
  },
  {
   "cell_type": "code",
   "execution_count": 219,
   "metadata": {},
   "outputs": [
    {
     "name": "stdout",
     "output_type": "stream",
     "text": [
      "TESTING WITH: nSamples tensor([[100000.,   1000.],\n",
      "        [100000.,   1000.],\n",
      "        [100000.,    100.]]) rrMean tensor([2, 2, 2]) rrShape tensor(5.) afMean tensor(1.0000e-04) afShape tensor(5.) diseaseFractions tensor([0.1000, 0.1000, 0.0500]) pDs tensor([0.0099, 0.0099, 0.0010])\n",
      "geneAltCounts tensor([[[ 6.,  0.],\n",
      "         [ 9.,  0.],\n",
      "         [14.,  0.]],\n",
      "\n",
      "        [[ 9.,  1.],\n",
      "         [ 8.,  1.],\n",
      "         [11.,  0.]],\n",
      "\n",
      "        [[ 1.,  0.],\n",
      "         [ 4.,  0.],\n",
      "         [ 2.,  0.]],\n",
      "\n",
      "        ...,\n",
      "\n",
      "        [[ 5.,  0.],\n",
      "         [ 6.,  0.],\n",
      "         [ 8.,  0.]],\n",
      "\n",
      "        [[ 8.,  0.],\n",
      "         [13.,  0.],\n",
      "         [13.,  0.]],\n",
      "\n",
      "        [[12.,  0.],\n",
      "         [10.,  0.],\n",
      "         [ 7.,  0.]]]) torch.Size([20000, 3, 2]) probs tensor([[[1.1709e-04, 1.4472e-04],\n",
      "         [1.1608e-04, 2.4524e-04],\n",
      "         [1.1733e-04, 1.4481e-04]],\n",
      "\n",
      "        [[1.2383e-04, 4.3315e-04],\n",
      "         [1.2534e-04, 2.8174e-04],\n",
      "         [1.2691e-04, 1.0808e-04]],\n",
      "\n",
      "        [[1.8859e-05, 2.4344e-05],\n",
      "         [1.8749e-05, 3.5370e-05],\n",
      "         [1.8911e-05, 2.0769e-05]],\n",
      "\n",
      "        ...,\n",
      "\n",
      "        [[3.4990e-05, 3.8184e-05],\n",
      "         [3.4588e-05, 7.8365e-05],\n",
      "         [3.5026e-05, 3.0429e-05]],\n",
      "\n",
      "        [[9.2088e-05, 4.3056e-05],\n",
      "         [9.1373e-05, 1.1452e-04],\n",
      "         [9.1626e-05, 6.8090e-05]],\n",
      "\n",
      "        [[1.0966e-04, 1.0935e-04],\n",
      "         [1.0951e-04, 1.2434e-04],\n",
      "         [1.0966e-04, 1.1039e-04]]]) torch.Size([20000, 3, 2])\n",
      "took 93.1854817867279\n"
     ]
    }
   ],
   "source": [
    "start = time.time()\n",
    "altCountsByGeneRR2Shape5, afsByGeneRR2Shape5 = genDataSequential(nSamples=nSamples, pDs=pDs, diseaseFractions=diseaseFractions, rrShape=tensor(5.), rrMeans=rrMeansLow, afMean=afMean, afShape=tensor(5.))\n",
    "print(\"took\", time.time() - start)"
   ]
  },
  {
   "cell_type": "code",
   "execution_count": 220,
   "metadata": {},
   "outputs": [
    {
     "name": "stdout",
     "output_type": "stream",
     "text": [
      "tensor(0.0010) tensor(0.0002)\n"
     ]
    }
   ],
   "source": [
    "m1 = afsByGene[0:2000, 0, 1].mean()\n",
    "m2 = afsByGeneRR2[0:2000, 0, 1].mean()/afsByGeneRR2[2000:, 0, 1].mean()\n",
    "m1 - m2\n",
    "print(m1, m2)"
   ]
  },
  {
   "cell_type": "code",
   "execution_count": 226,
   "metadata": {},
   "outputs": [
    {
     "name": "stdout",
     "output_type": "stream",
     "text": [
      "0.28737889528274535 per iteration\n"
     ]
    }
   ],
   "source": [
    "start = time.time()\n",
    "fitFnUniveriate(altCountsByGene, pDs, nEpochs=20, minLLThresholdCount=20)\n",
    "print((time.time() - start) / 20, \"per iteration\")"
   ]
  },
  {
   "cell_type": "code",
   "execution_count": null,
   "metadata": {},
   "outputs": [],
   "source": [
    "fitFnUniveriate(altCountsByGeneRR2, pDs)"
   ]
  },
  {
   "cell_type": "code",
   "execution_count": null,
   "metadata": {},
   "outputs": [],
   "source": [
    "fitFnUniveriate(altCountsByGeneRR2Shape5, pDs, nEpochs=100, minLLThresholdCount=100, debug=False)"
   ]
  },
  {
   "cell_type": "code",
   "execution_count": null,
   "metadata": {},
   "outputs": [],
   "source": [
    "fitFnUniveriateBetaBinomial(altCountsByGeneRR2Shape5, pDs, nEpochs=100, minLLThresholdCount=100, debug=True)"
   ]
  },
  {
   "cell_type": "code",
   "execution_count": 394,
   "metadata": {},
   "outputs": [
    {
     "name": "stdout",
     "output_type": "stream",
     "text": [
      "alpha0 tensor(-9508.3418)\n",
      "alpha0 tensor(-9508.3428)\n",
      "alpha0 tensor(-9853.9697)\n",
      "alpha0 tensor(-9638.1318)\n",
      "alpha0 tensor(-9681.1572)\n",
      "alpha0 tensor(-9681.1562)\n",
      "alpha0 tensor(-9746.0518)\n",
      "alpha0 tensor(-9800.0098)\n",
      "alpha0 tensor(-9767.5625)\n",
      "alpha0 tensor(-9767.5625)\n",
      "alpha0 tensor(-9826.9902)\n",
      "alpha0 tensor(-9810.7676)\n",
      "alpha0 tensor(-9810.7666)\n",
      "alpha0 tensor(-9840.4814)\n",
      "alpha0 tensor(-9832.3682)\n",
      "alpha0 tensor(-9832.3682)\n",
      "alpha0 tensor(-9847.2256)\n",
      "alpha0 tensor(-9843.1699)\n",
      "alpha0 tensor(-9843.1680)\n",
      "alpha0 tensor(-9848.5703)\n",
      "alpha0 tensor(-9850.5977)\n",
      "alpha0 tensor(-9848.5693)\n",
      "alpha0 tensor(-9851.2695)\n",
      "alpha0 tensor(-9851.2686)\n",
      "alpha0 tensor(-9852.2842)\n",
      "alpha0 tensor(-9852.6201)\n",
      "alpha0 tensor(-9852.6211)\n",
      "alpha0 tensor(-9853.1279)\n",
      "alpha0 tensor(-9853.5488)\n",
      "alpha0 tensor(-9853.2959)\n",
      "alpha0 tensor(-9853.2959)\n",
      "alpha0 tensor(-9853.7607)\n",
      "alpha0 tensor(-9853.6338)\n",
      "alpha0 tensor(-9853.6338)\n",
      "alpha0 tensor(-9853.8018)\n",
      "alpha0 tensor(-9853.8662)\n",
      "alpha0 tensor(-9853.8037)\n",
      "alpha0 tensor(-9853.9189)\n",
      "alpha0 tensor(-9853.8857)\n",
      "alpha0 tensor(-9853.8848)\n",
      "alpha0 tensor(-9853.9434)\n",
      "alpha0 tensor(-9853.9004)\n",
      "alpha0 tensor(-9853.9023)\n",
      "alpha0 tensor(-9853.9297)\n",
      "alpha0 tensor(-9853.9102)\n",
      "alpha0 tensor(-9853.9092)\n",
      "alpha0 tensor(-9853.9131)\n",
      "alpha0 tensor(-9853.9248)\n",
      "alpha0 tensor(-9853.9131)\n",
      "alpha0 tensor(-9853.9150)\n",
      "alpha0 tensor(-9853.9141)\n",
      "alpha0 tensor(-9853.9209)\n",
      "alpha0 tensor(-9853.9170)\n",
      "alpha0 tensor(-9853.9170)\n",
      "alpha0 tensor(-9853.9189)\n",
      "alpha0 tensor(-9853.9170)\n",
      "alpha0 tensor(-9853.9189)\n",
      "alpha0 tensor(-9853.9170)\n",
      "alpha0 tensor(-9853.9170)\n",
      "alpha0 tensor(-9853.9170)\n",
      "alpha0 tensor(-9853.9189)\n",
      "alpha0 tensor(-9853.9170)\n",
      "alpha0 tensor(-9853.9170)\n",
      "alpha0 tensor(-9853.9180)\n",
      "alpha0 tensor(-9853.9170)\n",
      "alpha0 tensor(-9853.9170)\n",
      "alpha0 tensor(-9853.9189)\n",
      "alpha0 tensor(-9853.9180)\n",
      "alpha0 tensor(-9853.9189)\n",
      "alpha0 tensor(-9853.9189)\n",
      "alpha0 tensor(-9853.9170)\n",
      "alpha0 tensor(-9853.9170)\n",
      "alpha0 tensor(-9853.9170)\n",
      "alpha0 tensor(-9853.9170)\n",
      "alpha0 tensor(-9853.9189)\n",
      "alpha0 tensor(-9853.9189)\n",
      "alpha0 tensor(-9853.9189)\n",
      "alpha0 tensor(-9853.9189)\n",
      "alpha0 tensor(-9853.9189)\n",
      "alpha0 tensor(-9853.9189)\n",
      "alpha0 tensor(-9853.9189)\n",
      "alpha0 tensor(-9853.9189)\n",
      "alpha0 tensor(-9853.9189)\n",
      "alpha0 tensor(-9853.9189)\n",
      "alpha0 tensor(-9853.9189)\n",
      "alpha0 tensor(-9853.9189)\n",
      "alpha0 tensor(-9853.9189)\n",
      "alpha0 tensor(-9853.9189)\n",
      "alpha0 tensor(-9853.9189)\n",
      "alpha0 tensor(-9853.9189)\n",
      "alpha0 tensor(-9853.9189)\n",
      "alpha0 tensor(-9853.9189)\n",
      "alpha0 tensor(-9853.9189)\n",
      "alpha0 tensor(-9853.9189)\n",
      "alpha0 tensor(-9853.9189)\n",
      "alpha0 tensor(-9853.9189)\n",
      "alpha0 tensor(-9853.9189)\n",
      "alpha0 tensor(-9853.9189)\n",
      "alpha0 tensor(-9853.9189)\n",
      "alpha0 tensor(-9853.9189)\n",
      "alpha0 tensor(-9853.9189)\n",
      "alpha0 tensor(-9853.9189)\n",
      "alpha0 tensor(-9853.9189)\n",
      "alpha0 tensor(-9853.9189)\n",
      "epoch 0\n",
      " final_simplex: (array([[4.46690708e-01, 3.75868291e-01, 1.77440956e-01, 8.84630762e+03,\n",
      "        7.25810676e+03, 2.59581123e+03],\n",
      "       [4.46690708e-01, 3.75868291e-01, 1.77440956e-01, 8.84630762e+03,\n",
      "        7.25810680e+03, 2.59581121e+03],\n",
      "       [4.46690708e-01, 3.75868291e-01, 1.77440956e-01, 8.84630767e+03,\n",
      "        7.25810676e+03, 2.59581121e+03],\n",
      "       [4.46690709e-01, 3.75868288e-01, 1.77440957e-01, 8.84630763e+03,\n",
      "        7.25810677e+03, 2.59581122e+03],\n",
      "       [4.46690706e-01, 3.75868290e-01, 1.77440957e-01, 8.84630764e+03,\n",
      "        7.25810677e+03, 2.59581122e+03],\n",
      "       [4.46690708e-01, 3.75868290e-01, 1.77440957e-01, 8.84630765e+03,\n",
      "        7.25810678e+03, 2.59581122e+03],\n",
      "       [4.46690708e-01, 3.75868290e-01, 1.77440956e-01, 8.84630765e+03,\n",
      "        7.25810678e+03, 2.59581122e+03]]), array([-42116.828125, -42116.828125, -42116.828125, -42116.828125,\n",
      "       -42116.828125, -42116.828125, -42116.828125]))\n",
      "           fun: -42116.828125\n",
      "       message: 'Optimization terminated successfully.'\n",
      "          nfev: 196\n",
      "           nit: 28\n",
      "        status: 0\n",
      "       success: True\n",
      "             x: array([4.46690708e-01, 3.75868291e-01, 1.77440956e-01, 8.84630762e+03,\n",
      "       7.25810676e+03, 2.59581123e+03])\n"
     ]
    },
    {
     "ename": "ValueError",
     "evalue": "not enough values to unpack (expected 7, got 6)",
     "output_type": "error",
     "traceback": [
      "\u001b[0;31m---------------------------------------------------------------------------\u001b[0m",
      "\u001b[0;31mValueError\u001b[0m                                Traceback (most recent call last)",
      "\u001b[0;32m<ipython-input-394-fc2433d1b405>\u001b[0m in \u001b[0;36m<module>\u001b[0;34m\u001b[0m\n\u001b[0;32m----> 1\u001b[0;31m \u001b[0mfitFnBivariate\u001b[0m\u001b[0;34m(\u001b[0m\u001b[0maltCountsByGeneRR2Shape5\u001b[0m\u001b[0;34m,\u001b[0m \u001b[0mpDs\u001b[0m\u001b[0;34m,\u001b[0m \u001b[0mnEpochs\u001b[0m\u001b[0;34m=\u001b[0m\u001b[0;36m100\u001b[0m\u001b[0;34m,\u001b[0m \u001b[0mminLLThresholdCount\u001b[0m\u001b[0;34m=\u001b[0m\u001b[0;36m100\u001b[0m\u001b[0;34m,\u001b[0m \u001b[0mdebug\u001b[0m\u001b[0;34m=\u001b[0m\u001b[0;32mTrue\u001b[0m\u001b[0;34m)\u001b[0m\u001b[0;34m\u001b[0m\u001b[0;34m\u001b[0m\u001b[0m\n\u001b[0m",
      "\u001b[0;32m<ipython-input-392-21d40cfb9d89>\u001b[0m in \u001b[0;36mfitFnBivariate\u001b[0;34m(altCountsByGene, pDs, nEpochs, minLLThresholdCount, debug)\u001b[0m\n\u001b[1;32m    409\u001b[0m \u001b[0;34m\u001b[0m\u001b[0m\n\u001b[1;32m    410\u001b[0m \u001b[0;34m\u001b[0m\u001b[0m\n\u001b[0;32m--> 411\u001b[0;31m         \u001b[0mpi1\u001b[0m\u001b[0;34m,\u001b[0m \u001b[0mpi2\u001b[0m\u001b[0;34m,\u001b[0m \u001b[0mpiBoth\u001b[0m\u001b[0;34m,\u001b[0m \u001b[0malpha0\u001b[0m\u001b[0;34m,\u001b[0m \u001b[0malpha1\u001b[0m\u001b[0;34m,\u001b[0m \u001b[0malpha2\u001b[0m\u001b[0;34m,\u001b[0m \u001b[0malphaBoth\u001b[0m \u001b[0;34m=\u001b[0m \u001b[0mfit\u001b[0m\u001b[0;34m[\u001b[0m\u001b[0;34m\"x\"\u001b[0m\u001b[0;34m]\u001b[0m\u001b[0;34m\u001b[0m\u001b[0;34m\u001b[0m\u001b[0m\n\u001b[0m\u001b[1;32m    412\u001b[0m         \u001b[0;32mif\u001b[0m \u001b[0malpha0\u001b[0m \u001b[0;34m<\u001b[0m \u001b[0;36m0\u001b[0m \u001b[0;32mor\u001b[0m \u001b[0malpha1\u001b[0m \u001b[0;34m<\u001b[0m \u001b[0;36m0\u001b[0m \u001b[0;32mor\u001b[0m \u001b[0malpha2\u001b[0m \u001b[0;34m<\u001b[0m \u001b[0;36m0\u001b[0m \u001b[0;32mor\u001b[0m \u001b[0malphaBoth\u001b[0m \u001b[0;34m<\u001b[0m \u001b[0;36m0\u001b[0m \u001b[0;32mor\u001b[0m \u001b[0mpi1\u001b[0m \u001b[0;34m<\u001b[0m \u001b[0;36m0\u001b[0m \u001b[0;32mor\u001b[0m \u001b[0mpi1\u001b[0m \u001b[0;34m>\u001b[0m \u001b[0;36m1\u001b[0m \u001b[0;32mor\u001b[0m \u001b[0mpi2\u001b[0m \u001b[0;34m<\u001b[0m \u001b[0;36m0\u001b[0m \u001b[0;32mor\u001b[0m \u001b[0mpi2\u001b[0m \u001b[0;34m>\u001b[0m \u001b[0;36m1\u001b[0m \u001b[0;32mor\u001b[0m \u001b[0mpiBoth\u001b[0m \u001b[0;34m<\u001b[0m \u001b[0;36m0\u001b[0m \u001b[0;32mor\u001b[0m \u001b[0mpiBoth\u001b[0m \u001b[0;34m>\u001b[0m \u001b[0;36m1\u001b[0m\u001b[0;34m:\u001b[0m\u001b[0;34m\u001b[0m\u001b[0;34m\u001b[0m\u001b[0m\n\u001b[1;32m    413\u001b[0m             \u001b[0;32mif\u001b[0m \u001b[0mdebug\u001b[0m\u001b[0;34m:\u001b[0m\u001b[0;34m\u001b[0m\u001b[0;34m\u001b[0m\u001b[0m\n",
      "\u001b[0;31mValueError\u001b[0m: not enough values to unpack (expected 7, got 6)"
     ]
    }
   ],
   "source": [
    "fitFnBivariate(altCountsByGeneRR2Shape5, pDs, nEpochs=100, minLLThresholdCount=100, debug=True)"
   ]
  },
  {
   "cell_type": "code",
   "execution_count": 206,
   "metadata": {},
   "outputs": [
    {
     "name": "stdout",
     "output_type": "stream",
     "text": [
      "fitFnUniveriateBetaBinomial took for 100 epochs:  65.16437029838562\n"
     ]
    }
   ],
   "source": [
    "start = time.time()\n",
    "res = fitFnUniveriateBetaBinomial(altCountsByGene, pDs, nEpochs=100, minLLThresholdCount=100, debug=False)\n",
    "print(\"fitFnUniveriateBetaBinomial took for 100 epochs: \", time.time() - start)"
   ]
  },
  {
   "cell_type": "code",
   "execution_count": null,
   "metadata": {},
   "outputs": [],
   "source": [
    "pyplot.plot(res[\"llTrajectory\"])\n",
    "res"
   ]
  },
  {
   "cell_type": "code",
   "execution_count": 498,
   "metadata": {},
   "outputs": [
    {
     "name": "stdout",
     "output_type": "stream",
     "text": [
      "skipping 279\n",
      "skipping 749\n",
      "skipping 1870\n",
      "skipping 2200\n",
      "skipping 3657\n",
      "skipping 4502\n",
      "skipping 7043\n",
      "skipping 7262\n",
      "skipping 8215\n",
      "skipping 9542\n",
      "skipping 9997\n",
      "skipping 10536\n",
      "skipping 11799\n",
      "skipping 11988\n",
      "skipping 12953\n",
      "skipping 13479\n",
      "skipping 14110\n",
      "skipping 14959\n",
      "skipping 18281\n",
      "skipping 18547\n"
     ]
    },
    {
     "data": {
      "text/plain": [
       "tensor(51671.0195)"
      ]
     },
     "execution_count": 498,
     "metadata": {},
     "output_type": "execute_result"
    }
   ],
   "source": [
    "costFn([1e-9, .999999])"
   ]
  },
  {
   "cell_type": "code",
   "execution_count": 547,
   "metadata": {},
   "outputs": [
    {
     "name": "stdout",
     "output_type": "stream",
     "text": [
      "skipping 279\n",
      "skipping 749\n",
      "skipping 1870\n",
      "skipping 2200\n",
      "skipping 3657\n",
      "skipping 4502\n",
      "skipping 7043\n",
      "skipping 7262\n",
      "skipping 8215\n",
      "skipping 9542\n",
      "skipping 9997\n",
      "skipping 10536\n",
      "skipping 11799\n",
      "skipping 11988\n",
      "skipping 12953\n",
      "skipping 13479\n",
      "skipping 14110\n",
      "skipping 14959\n",
      "skipping 18281\n",
      "skipping 18547\n",
      "tensor(11131.0996)\n"
     ]
    }
   ],
   "source": [
    "print(costFn([1e-9, 1e-9]))"
   ]
  },
  {
   "cell_type": "code",
   "execution_count": 89,
   "metadata": {},
   "outputs": [],
   "source": [
    "binomH0 = Binomial(total_count=tensor([1.,1]), probs=pDs[0])"
   ]
  },
  {
   "cell_type": "code",
   "execution_count": 90,
   "metadata": {},
   "outputs": [
    {
     "data": {
      "text/plain": [
       "tensor([-4.6151, -4.6151])"
      ]
     },
     "execution_count": 90,
     "metadata": {},
     "output_type": "execute_result"
    }
   ],
   "source": [
    "binomH0.log_prob(tensor(1.))"
   ]
  },
  {
   "cell_type": "code",
   "execution_count": 49,
   "metadata": {},
   "outputs": [
    {
     "name": "stdout",
     "output_type": "stream",
     "text": [
      "params are [1e-09, 1e-09]\n",
      "pDgivenV 1e-09\n",
      "pi0 0.999999999\n",
      "binomH0 at the bad place of 6780 tensor([0.9327, 0.9235, 0.1218]) where the sums are tensor([ 7.,  8., 14.]) and probs are tensor(0.0099) and altCounts are tensor([0., 0., 1.])\n",
      "component0 tensor([0.9143, 0.8963, 0.0565,  ..., 0.9235, 0.9327, 0.8963]) component1 tensor([1.0000e-09, 1.0000e-09, 7.1525e-16,  ..., 1.0000e-09, 1.0000e-09,\n",
      "        1.0000e-09]) sum tensor([0.9143, 0.8963, 0.0565,  ..., 0.9235, 0.9327, 0.8963]) log tensor([-0.0896, -0.1095, -2.8731,  ..., -0.0796, -0.0697, -0.1095])\n",
      "log sum tensor(-10964.6426)\n",
      "tensor(10964.6426)\n",
      "params are [0.08845797, 0.1109436]\n",
      "pDgivenV 0.1109436\n",
      "pi0 0.91154203\n",
      "binomH0 at the bad place of 6780 tensor([0.9327, 0.9235, 0.1218]) where the sums are tensor([ 7.,  8., 14.]) and probs are tensor(0.0099) and altCounts are tensor([0., 0., 1.])\n",
      "component0 tensor([0.8335, 0.8170, 0.0515,  ..., 0.8418, 0.8502, 0.8170]) component1 tensor([0.0307, 0.0243, 0.0327,  ..., 0.0345, 0.0388, 0.0243]) sum tensor([0.8642, 0.8413, 0.0842,  ..., 0.8763, 0.8890, 0.8413]) log tensor([-0.1460, -0.1728, -2.4742,  ..., -0.1320, -0.1176, -0.1728])\n",
      "log sum tensor(-9887.2617)\n",
      "tensor(9887.2617)\n"
     ]
    }
   ],
   "source": [
    "costFn2 = likelihoodUnivariateFast(altCountsByGene, pDs)\n",
    "# print(costFn2([1e-9, .999999]))\n",
    "print(costFn2([1e-9, 1e-9]))\n",
    "print(costFn2([0.08845797,0.11094360])) #gives ~12067 using jensen's method, and ~9887 using exponentiation of the log\n",
    "\n",
    "# best result from R\n",
    "#  0.08845797           0.11094360 , ll -10127.23, and with jensen's version, \"example -12037.4347455843\"\n",
    "# pDgivenV, pi1\n"
   ]
  },
  {
   "cell_type": "code",
   "execution_count": null,
   "metadata": {},
   "outputs": [],
   "source": [
    "costFn = likelihoodUnivariate(altCountsByGene, pDs)\n",
    "print(\"costFn1:\", costFn([.001, .01]),\"costFn2:\",costFn2([.001, .01]))"
   ]
  },
  {
   "cell_type": "code",
   "execution_count": 49,
   "metadata": {},
   "outputs": [
    {
     "name": "stdout",
     "output_type": "stream",
     "text": [
      "skipping 6780\n",
      "skipping 7044\n",
      "skipping 7241\n",
      "skipping 7579\n",
      "skipping 11089\n",
      "skipping 11642\n",
      "skipping 11813\n",
      "skipping 12044\n",
      "skipping 12389\n",
      "skipping 15026\n",
      "skipping 16708\n"
     ]
    },
    {
     "data": {
      "text/plain": [
       "tensor(12764.8105)"
      ]
     },
     "execution_count": 49,
     "metadata": {},
     "output_type": "execute_result"
    }
   ],
   "source": [
    "costFn([0.0001,0.11094360])"
   ]
  },
  {
   "cell_type": "code",
   "execution_count": 60,
   "metadata": {},
   "outputs": [
    {
     "name": "stdout",
     "output_type": "stream",
     "text": [
      "params are [0.0001, 0.1109436]\n",
      "pDgivenV 0.1109436\n",
      "pi0 0.9999\n",
      "binomH0 at the bad place of 6780 tensor([-0.1393, -0.0000, -0.0896]) where the sums are tensor([14.,  0.,  9.])\n",
      "components tensor([-4.9825, -7.6460, -2.4972,  ..., -0.0398, -3.0452, -0.1094]) tensor([-1.3343e-04, -1.7970e-04, -9.4227e-05,  ..., -4.7038e-05,\n",
      "        -1.0597e-04, -1.2935e-04])\n",
      "tensor(11075.9297)\n"
     ]
    }
   ],
   "source": [
    "print(costFn2([0.0001,0.11094360]))"
   ]
  },
  {
   "cell_type": "code",
   "execution_count": 31,
   "metadata": {},
   "outputs": [
    {
     "data": {
      "text/plain": [
       "tensor([-0.1393, -0.0000, -0.0895])"
      ]
     },
     "execution_count": 31,
     "metadata": {},
     "output_type": "execute_result"
    }
   ],
   "source": [
    "d = Binomial(total_count=tensor([14., 0., 9.]), probs=tensor(.0099))\n",
    "d.log_prob(tensor([0.,0.,0.]))"
   ]
  },
  {
   "cell_type": "code",
   "execution_count": 551,
   "metadata": {},
   "outputs": [
    {
     "name": "stdout",
     "output_type": "stream",
     "text": [
      "params are [1e-09, 0.999999]\n",
      "pDgivenV 1e-09\n",
      "pi0 1.0000000000287557e-06\n",
      "components tensor([-6.9653e-08, -9.4742e-06, -4.8388e-06,  ..., -8.9553e-08,\n",
      "        -1.1940e-07, -4.9752e-08]) tensor([-9.5367e-07, -4.3396e+01, -2.7374e+01,  ..., -9.5367e-07,\n",
      "        -1.9073e-06, -4.7684e-07])\n",
      "ll: -51670.8515625\n"
     ]
    },
    {
     "data": {
      "text/plain": [
       "-51670.8515625"
      ]
     },
     "execution_count": 551,
     "metadata": {},
     "output_type": "execute_result"
    }
   ],
   "source": [
    "costFn2([1e-9, .999999])"
   ]
  },
  {
   "cell_type": "code",
   "execution_count": 30,
   "metadata": {},
   "outputs": [
    {
     "ename": "NameError",
     "evalue": "name 'geneSums' is not defined",
     "output_type": "error",
     "traceback": [
      "\u001b[0;31m---------------------------------------------------------------------------\u001b[0m",
      "\u001b[0;31mNameError\u001b[0m                                 Traceback (most recent call last)",
      "\u001b[0;32m<ipython-input-30-8b8260b3d0e9>\u001b[0m in \u001b[0;36m<module>\u001b[0;34m\u001b[0m\n\u001b[0;32m----> 1\u001b[0;31m \u001b[0mbinomH0\u001b[0m \u001b[0;34m=\u001b[0m \u001b[0mBinomial\u001b[0m\u001b[0;34m(\u001b[0m\u001b[0mtotal_count\u001b[0m\u001b[0;34m=\u001b[0m\u001b[0mgeneSums\u001b[0m\u001b[0;34m,\u001b[0m \u001b[0mprobs\u001b[0m\u001b[0;34m=\u001b[0m\u001b[0;36m.001\u001b[0m\u001b[0;34m)\u001b[0m\u001b[0;34m\u001b[0m\u001b[0;34m\u001b[0m\u001b[0m\n\u001b[0m\u001b[1;32m      2\u001b[0m \u001b[0mbinomH1\u001b[0m \u001b[0;34m=\u001b[0m \u001b[0mBinomial\u001b[0m\u001b[0;34m(\u001b[0m\u001b[0mtotal_count\u001b[0m\u001b[0;34m=\u001b[0m\u001b[0mgeneSums\u001b[0m\u001b[0;34m,\u001b[0m \u001b[0mprobs\u001b[0m\u001b[0;34m=\u001b[0m\u001b[0;36m.01\u001b[0m\u001b[0;34m)\u001b[0m\u001b[0;34m\u001b[0m\u001b[0;34m\u001b[0m\u001b[0m\n\u001b[1;32m      3\u001b[0m \u001b[0mcaseAltCounts\u001b[0m \u001b[0;34m=\u001b[0m \u001b[0maltCountsByGene\u001b[0m\u001b[0;34m[\u001b[0m\u001b[0;34m:\u001b[0m\u001b[0;34m,\u001b[0m \u001b[0;36m0\u001b[0m\u001b[0;34m,\u001b[0m \u001b[0;36m1\u001b[0m\u001b[0;34m]\u001b[0m\u001b[0;34m\u001b[0m\u001b[0;34m\u001b[0m\u001b[0m\n\u001b[1;32m      4\u001b[0m \u001b[0mprint\u001b[0m\u001b[0;34m(\u001b[0m\u001b[0mcaseAltCounts\u001b[0m\u001b[0;34m)\u001b[0m\u001b[0;34m\u001b[0m\u001b[0;34m\u001b[0m\u001b[0m\n\u001b[1;32m      5\u001b[0m \u001b[0mcomponent0\u001b[0m \u001b[0;34m=\u001b[0m \u001b[0mbinomH0\u001b[0m\u001b[0;34m.\u001b[0m\u001b[0mlog_prob\u001b[0m\u001b[0;34m(\u001b[0m\u001b[0mcaseAltCounts\u001b[0m\u001b[0;34m)\u001b[0m\u001b[0;34m\u001b[0m\u001b[0;34m\u001b[0m\u001b[0m\n",
      "\u001b[0;31mNameError\u001b[0m: name 'geneSums' is not defined"
     ]
    }
   ],
   "source": [
    "binomH0 = Binomial(total_count=geneSums, probs=.001)\n",
    "binomH1 = Binomial(total_count=geneSums, probs=.01)\n",
    "caseAltCounts = altCountsByGene[:, 0, 1]\n",
    "print(caseAltCounts)\n",
    "component0 = binomH0.log_prob(caseAltCounts)\n",
    "print(\"component0\", component0, .5*component0)\n",
    "component1 = binomH1.log_prob(caseAltCounts)"
   ]
  },
  {
   "cell_type": "code",
   "execution_count": 476,
   "metadata": {},
   "outputs": [
    {
     "data": {
      "text/plain": [
       "tensor(0.0987)"
      ]
     },
     "execution_count": 476,
     "metadata": {},
     "output_type": "execute_result"
    }
   ],
   "source": [
    "pDgivenV(pDs[0], afsByGene2[0:2000, 0, 1].mean(), afMean)"
   ]
  },
  {
   "cell_type": "code",
   "execution_count": 473,
   "metadata": {},
   "outputs": [
    {
     "data": {
      "text/plain": [
       "tensor(0.0008)"
      ]
     },
     "execution_count": 473,
     "metadata": {},
     "output_type": "execute_result"
    }
   ],
   "source": [
    "condition1 = altCountsByGene2[:, 0, :]\n",
    "condition1\n",
    "pDs[0]\n",
    "\n",
    "afsByGene2[0:2000,:,1].mean()"
   ]
  },
  {
   "cell_type": "code",
   "execution_count": 472,
   "metadata": {},
   "outputs": [
    {
     "data": {
      "text/plain": [
       "[<matplotlib.lines.Line2D at 0x7fee4a74f690>]"
      ]
     },
     "execution_count": 472,
     "metadata": {},
     "output_type": "execute_result"
    },
    {
     "data": {
      "image/png": "[encoded data removed]",
      "text/plain": [
       "<Figure size 1600x480 with 1 Axes>"
      ]
     },
     "metadata": {},
     "output_type": "display_data"
    }
   ],
   "source": [
    "pyplot.figure(num=None, figsize=(20, 6), dpi=80, facecolor='w', edgecolor='k')\n",
    "pyplot.plot(afsByGene2[:, 0, 1:2].flatten())\n",
    "pyplot.plot(afsByGene2[:, 0, 0:1].flatten())\n",
    "\n"
   ]
  },
  {
   "cell_type": "code",
   "execution_count": 79,
   "metadata": {},
   "outputs": [
    {
     "data": {
      "text/plain": [
       "[<matplotlib.lines.Line2D at 0x7fb418765a90>]"
      ]
     },
     "execution_count": 79,
     "metadata": {},
     "output_type": "execute_result"
    },
    {
     "data": {
      "image/png": "[encoded data removed]",
      "text/plain": [
       "<Figure size 1600x480 with 1 Axes>"
      ]
     },
     "metadata": {},
     "output_type": "display_data"
    }
   ],
   "source": [
    "pyplot.figure(num=None, figsize=(20, 6), dpi=80, facecolor='w', edgecolor='k')\n",
    "pyplot.plot(afsByGeneRR2Shape5[:, 0, 1:2].flatten())\n",
    "pyplot.plot(afsByGeneRR2Shape5[:, 0, 0:1].flatten())"
   ]
  },
  {
   "cell_type": "code",
   "execution_count": 312,
   "metadata": {},
   "outputs": [
    {
     "name": "stdout",
     "output_type": "stream",
     "text": [
      "gene sums tensor([10., 10., 16.,  8., 11.,  5., 18.,  4., 19., 12.])\n",
      "component0 tensor([-2.3691, -0.0995, -0.1592, -2.5701, -0.1094, -0.0497, -1.8668, -0.0398,\n",
      "        -1.8232, -5.0700])\n",
      "component1 tensor([-4.6142e-02, -1.0005e-04, -1.6008e-04, -4.8353e-02, -1.1005e-04,\n",
      "        -5.0025e-05, -4.0344e-02, -4.0021e-05, -3.9813e-02, -9.6359e-02])\n",
      "tensor(11285.2695)\n"
     ]
    },
    {
     "data": {
      "text/plain": [
       "0.007719278335571289"
      ]
     },
     "execution_count": 312,
     "metadata": {},
     "output_type": "execute_result"
    }
   ],
   "source": [
    "start = time.time()\n",
    "\n",
    "l = likelihoodUnivariateFast(altCountsByGene, pDs)\n",
    "\n",
    "print(l(.001, .01))\n",
    "\n",
    "time.time() - start"
   ]
  },
  {
   "cell_type": "code",
   "execution_count": 318,
   "metadata": {},
   "outputs": [
    {
     "name": "stdout",
     "output_type": "stream",
     "text": [
      "component0 tensor([-2.3930, -0.1005, -0.1608, -2.5961, -0.1106, -0.0503, -1.8857, -0.0402,\n",
      "        -1.8416, -5.1212])\n",
      "component1 tensor([-0., -0., -0., -0., -0., -0., -0., -0., -0., -0.])\n",
      "tensor(11215.3643)\n"
     ]
    }
   ],
   "source": [
    "print(l(0, 0))"
   ]
  },
  {
   "cell_type": "code",
   "execution_count": null,
   "metadata": {},
   "outputs": [],
   "source": []
  }
 ],
 "metadata": {
  "kernelspec": {
   "display_name": "Python 3",
   "language": "python",
   "name": "python3"
  },
  "language_info": {
   "codemirror_mode": {
    "name": "ipython",
    "version": 3
   },
   "file_extension": ".py",
   "mimetype": "text/x-python",
   "name": "python",
   "nbconvert_exporter": "python",
   "pygments_lexer": "ipython3",
   "version": "3.7.6"
  }
 },
 "nbformat": 4,
 "nbformat_minor": 4
}
