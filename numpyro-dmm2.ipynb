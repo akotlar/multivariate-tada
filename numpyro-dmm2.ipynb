{
 "metadata": {
  "language_info": {
   "codemirror_mode": {
    "name": "ipython",
    "version": 3
   },
   "file_extension": ".py",
   "mimetype": "text/x-python",
   "name": "python",
   "nbconvert_exporter": "python",
   "pygments_lexer": "ipython3",
   "version": "3.7.6-final"
  },
  "orig_nbformat": 2,
  "kernelspec": {
   "name": "python3",
   "display_name": "Python 3.7.6 64-bit ('miniconda3': virtualenv)",
   "metadata": {
    "interpreter": {
     "hash": "afe5ebbfdd63d5f53bf49e6aa62793990f23c9b8ec75185fbb6f3054c1465b21"
    }
   }
  }
 },
 "nbformat": 4,
 "nbformat_minor": 2,
 "cells": [
  {
   "cell_type": "code",
   "execution_count": 6,
   "metadata": {},
   "outputs": [
    {
     "output_type": "stream",
     "name": "stdout",
     "text": [
      "The autoreload extension is already loaded. To reload it, use:\n  %reload_ext autoreload\n"
     ]
    }
   ],
   "source": [
    "%load_ext autoreload\n",
    "%autoreload 2\n",
    "%reload_ext autoreload"
   ]
  },
  {
   "cell_type": "code",
   "execution_count": 1,
   "metadata": {
    "tags": []
   },
   "outputs": [
    {
     "output_type": "stream",
     "name": "stdout",
     "text": [
      "covShared tensor([[1.0000, 0.9500],\n",
      "        [0.9500, 1.0000]])\n",
      "residualCovariance tensor([[1, 0],\n",
      "        [0, 1]])\n",
      "PD1 threshold, PD2 threshold tensor(-2.3263) tensor(-2.3263)\n",
      "pDsWithBoth tensor([0.0100, 0.0100, 0.0067], dtype=torch.float64)\n",
      "pdThresh tensor([2.3263, 2.3263])\n",
      "pdTarget tensor([0.0300, 0.0200])\n",
      "pdvthresh tensor([1.8808, 2.0537])\n",
      "meanEffect tensor([0.4456, 0.2726])\n",
      "meanEffectsAcrossAllGenes tensor([0.4456, 0.2726])\n",
      "allEffects tensor([[-0.6459, -0.5006],\n",
      "        [-0.4183, -0.2909],\n",
      "        [-0.5591, -0.3571],\n",
      "        ...,\n",
      "        [-0.6837, -0.4803],\n",
      "        [-0.4360, -0.2539],\n",
      "        [-0.5252, -0.3244]])\n",
      "PD1GivenV.mean() tensor(0.0306) PD2GivenV.mean() tensor(0.0204)\n",
      "allEffects[i] tensor([-0.6459, -0.5006])\n",
      "PDBothGivenV.mean tensor(0.0171, dtype=torch.float64)\n",
      "PDBothGivenV / PDBoth tensor(2.5495, dtype=torch.float64)\n",
      "pdsCovarOnMean.mean(0) tensor([0.0306, 0.0204, 0.0171], dtype=torch.float64)\n",
      "np.corrcoef(pdvInBoth[:,0], pdvInBoth[:,1])\n",
      " [[1.         0.94944494]\n",
      " [0.94944494 1.        ]]\n",
      "np.corrcoef(pdvInBoth[:,0], pdvInBoth[:,2])\n",
      " [[1.         0.97623191]\n",
      " [0.97623191 1.        ]]\n",
      "PDBoth1GivenV tensor([0.0174, 0.0179, 0.0138,  ..., 0.0251, 0.0188, 0.0211])\n",
      "PDBoth2GivenV tensor([0.0110, 0.0182, 0.0158,  ..., 0.0171, 0.0159, 0.0149])\n",
      "np.corrcoef(PD1Vsingle, PD2Vsingle)\n",
      " [[1.         0.00990044]\n",
      " [0.00990044 1.        ]]\n",
      "np.corrcoef(PD1Vsingle, PDBoth1GivenV)\n",
      " [[1. 1.]\n",
      " [1. 1.]]\n",
      "np.corrcoef(PD2Vsingle, PDBoth1GivenV)\n",
      " [[1.         0.00990044]\n",
      " [0.00990044 1.        ]]\n",
      "np.corrcoef(PD2Vsingle, PDBoth2GivenV)\n",
      " [[1. 1.]\n",
      " [1. 1.]]\n",
      "pdvsGeneAffects1.mean tensor([0.0178, 0.0182, 0.0148,  ..., 0.0242, 0.0189, 0.0209])\n",
      "afs.dist tensor(0.0001) +/- tensor(1.4239e-05)\n",
      "afs.shape torch.Size([20000])\n",
      "pvd_base tensor([[[1.0000, 1.0000, 1.0000],\n",
      "         [2.5908, 1.0000, 2.5908],\n",
      "         [1.0000, 1.6450, 1.6450],\n",
      "         [4.6434, 3.3945, 4.2249]],\n",
      "\n",
      "        [[1.0000, 1.0000, 1.0000],\n",
      "         [2.6793, 1.0000, 2.6793],\n",
      "         [1.0000, 2.7150, 2.7150],\n",
      "         [2.8190, 2.0901, 2.5121]],\n",
      "\n",
      "        [[1.0000, 1.0000, 1.0000],\n",
      "         [2.0541, 1.0000, 2.0541],\n",
      "         [1.0000, 2.3612, 2.3612],\n",
      "         [3.8597, 2.4462, 3.1399]],\n",
      "\n",
      "        ...,\n",
      "\n",
      "        [[1.0000, 1.0000, 1.0000],\n",
      "         [3.7465, 1.0000, 3.7465],\n",
      "         [1.0000, 2.5560, 2.5560],\n",
      "         [5.0226, 3.2446, 4.2058]],\n",
      "\n",
      "        [[1.0000, 1.0000, 1.0000],\n",
      "         [2.8050, 1.0000, 2.8050],\n",
      "         [1.0000, 2.3686, 2.3686],\n",
      "         [2.9358, 1.9110, 2.3979]],\n",
      "\n",
      "        [[1.0000, 1.0000, 1.0000],\n",
      "         [3.1532, 1.0000, 3.1532],\n",
      "         [1.0000, 2.2238, 2.2238],\n",
      "         [3.5838, 2.2647, 2.8973]]], dtype=torch.float64)\n",
      "afs tensor([8.0455e-05, 1.0090e-04, 9.0731e-05,  ..., 8.5412e-05, 1.0684e-04,\n",
      "        8.8083e-05])\n",
      "pvds tensor([[[8.0455e-05, 8.0455e-05, 8.0455e-05],\n",
      "         [2.0845e-04, 8.0455e-05, 2.0845e-04],\n",
      "         [8.0455e-05, 1.3235e-04, 1.3235e-04],\n",
      "         [3.7358e-04, 2.7311e-04, 3.3992e-04]],\n",
      "\n",
      "        [[1.0090e-04, 1.0090e-04, 1.0090e-04],\n",
      "         [2.7033e-04, 1.0090e-04, 2.7033e-04],\n",
      "         [1.0090e-04, 2.7394e-04, 2.7394e-04],\n",
      "         [2.8442e-04, 2.1088e-04, 2.5347e-04]],\n",
      "\n",
      "        [[9.0731e-05, 9.0731e-05, 9.0731e-05],\n",
      "         [1.8637e-04, 9.0731e-05, 1.8637e-04],\n",
      "         [9.0731e-05, 2.1424e-04, 2.1424e-04],\n",
      "         [3.5019e-04, 2.2194e-04, 2.8489e-04]],\n",
      "\n",
      "        ...,\n",
      "\n",
      "        [[8.5412e-05, 8.5412e-05, 8.5412e-05],\n",
      "         [3.2000e-04, 8.5412e-05, 3.2000e-04],\n",
      "         [8.5412e-05, 2.1831e-04, 2.1831e-04],\n",
      "         [4.2899e-04, 2.7713e-04, 3.5922e-04]],\n",
      "\n",
      "        [[1.0684e-04, 1.0684e-04, 1.0684e-04],\n",
      "         [2.9969e-04, 1.0684e-04, 2.9969e-04],\n",
      "         [1.0684e-04, 2.5307e-04, 2.5307e-04],\n",
      "         [3.1367e-04, 2.0418e-04, 2.5620e-04]],\n",
      "\n",
      "        [[8.8083e-05, 8.8083e-05, 8.8083e-05],\n",
      "         [2.7774e-04, 8.8083e-05, 2.7774e-04],\n",
      "         [8.8083e-05, 1.9588e-04, 1.9588e-04],\n",
      "         [3.1568e-04, 1.9948e-04, 2.5520e-04]]], dtype=torch.float64)\n"
     ]
    }
   ],
   "source": [
    "from mvl import genData\n",
    "from torch import tensor\n",
    "\n",
    "liabParams55cov = genData.genParams(pis=tensor([.1, .1, .05]), rrMeans=tensor([3., 2.]), afMean = tensor(1e-4), pDs = tensor([.01, .01]), afShape=tensor(50.), nCases=tensor([1.5e4, 1.5e4, 4e3]), nCtrls=tensor(5e4), covShared=tensor([ [1, .95], [.95, 1] ]), meanEffectCovarianceScale=tensor(.01))[0]\n",
    "liabParams55cov[\"pDs\"] = liabParams55cov[\"pDs\"][0:2]\n",
    "liabData55cov = genData.v6liability(**liabParams55cov)\n",
    "liabParams55cov[\"pDs\"] = liabData55cov[\"PDs\"] #TODO: normalized names, and indicate that the params pDs are incomplete"
   ]
  },
  {
   "cell_type": "code",
   "execution_count": null,
   "metadata": {},
   "outputs": [],
   "source": [
    "liabData55cov[\"PVDs\"][liabData55cov[\"affectedGenes\"][0]].mean(0)"
   ]
  },
  {
   "cell_type": "code",
   "execution_count": 5,
   "metadata": {},
   "outputs": [
    {
     "output_type": "execute_result",
     "data": {
      "text/plain": [
       "tensor(0.0001, dtype=torch.float64)"
      ]
     },
     "metadata": {},
     "execution_count": 5
    }
   ],
   "source": [
    "liabData55cov[\"altCounts\"].sum() / ((liabParams55cov[\"nCases\"].sum() + liabParams55cov[\"nCtrls\"])) / 20_000"
   ]
  },
  {
   "cell_type": "code",
   "execution_count": 130,
   "metadata": {},
   "outputs": [
    {
     "output_type": "stream",
     "name": "stdout",
     "text": [
      "tensor(0.0001)\nmn.probs tensor([0.5952, 0.1786, 0.1786, 0.0476])\np_test[0] / mn.probs[0]) tensor(0.0001, dtype=torch.float64)\nmn.probs * (p_test[0] / mn.probs[0]) tensor([5.9524e-05, 1.7857e-05, 1.7857e-05, 4.7619e-06])\nmn.probs * total_af tensor([6.3168e-05, 1.8950e-05, 1.8950e-05, 5.0534e-06])\nmn.mean tensor([2.9762, 0.8929, 0.8929, 0.2381])\n"
     ]
    }
   ],
   "source": [
    "import torch\n",
    "p_test = tensor([6.8854e-05, 2.0656e-05, 2.0656e-05, 5.5083e-06])\n",
    "print(p_test.sum())\n",
    "total_af_mean = 1e-4\n",
    "\n",
    "mn = td.Multinomial(probs=p_test, total_count= scaled_N)\n",
    "\n",
    "# OK, so we can recover the exact\n",
    "print(\"mn.probs\", mn.probs)\n",
    "print(\"p_test[0] / mn.probs[0])\", tensor(p_test[0] / mn.probs[0], dtype=torch.float64))\n",
    "print(\"mn.probs * (p_test[0] / mn.probs[0])\", mn.probs * (p_test[0] / mn.probs[0]))\n",
    "# This works perfectly\n",
    "print(\"mn.probs * total_af\", mn.probs * total_af)\n",
    "print(\"mn.mean\", mn.mean)"
   ]
  },
  {
   "cell_type": "code",
   "execution_count": 219,
   "metadata": {},
   "outputs": [
    {
     "output_type": "stream",
     "name": "stdout",
     "text": [
      "tensor(0.0013)\n"
     ]
    },
    {
     "output_type": "execute_result",
     "data": {
      "text/plain": [
       "tensor([0.0005, 0.0006, 0.0002])"
      ]
     },
     "metadata": {},
     "execution_count": 219
    }
   ],
   "source": [
    "test_probs = tensor([.0005, .0006, .0002])\n",
    "print(test_probs.sum())\n",
    "# 3.89 is .0005 / the actual probability in position 1\n",
    "# .0005/.3846 == .0013\n",
    "# This is also the test_probs sum\n",
    "td.Multinomial(probs=tensor([.0005, .0006, .0002]), total_count= scaled_N).probs * test_probs.sum()"
   ]
  },
  {
   "cell_type": "code",
   "execution_count": 74,
   "metadata": {},
   "outputs": [
    {
     "output_type": "execute_result",
     "data": {
      "text/plain": [
       "torch.Size([4])"
      ]
     },
     "metadata": {},
     "execution_count": 74
    }
   ],
   "source": [
    "td.Multinomial(probs=p_test, total_count= scaled_N).param_shape"
   ]
  },
  {
   "cell_type": "code",
   "execution_count": 3,
   "metadata": {},
   "outputs": [
    {
     "output_type": "execute_result",
     "data": {
      "text/plain": [
       "tensor([0.0100, 0.0100, 0.0067], dtype=torch.float64)"
      ]
     },
     "metadata": {},
     "execution_count": 3
    }
   ],
   "source": [
    "liabParams55cov[\"pDs\"]"
   ]
  },
  {
   "cell_type": "code",
   "execution_count": 9,
   "metadata": {},
   "outputs": [
    {
     "output_type": "error",
     "ename": "KeyError",
     "evalue": "'pDsample'",
     "traceback": [
      "\u001b[0;31m---------------------------------------------------------------------------\u001b[0m",
      "\u001b[0;31mKeyError\u001b[0m                                  Traceback (most recent call last)",
      "\u001b[0;32m<ipython-input-9-f6f9a1b3c377>\u001b[0m in \u001b[0;36m<module>\u001b[0;34m\u001b[0m\n\u001b[0;32m----> 1\u001b[0;31m \u001b[0mliabParams55cov\u001b[0m\u001b[0;34m[\u001b[0m\u001b[0;34m\"pDsample\"\u001b[0m\u001b[0;34m]\u001b[0m\u001b[0;34m\u001b[0m\u001b[0;34m\u001b[0m\u001b[0m\n\u001b[0m",
      "\u001b[0;31mKeyError\u001b[0m: 'pDsample'"
     ]
    }
   ],
   "source": [
    "liabParams55cov[\"pDsample\"]"
   ]
  },
  {
   "cell_type": "code",
   "execution_count": null,
   "metadata": {},
   "outputs": [],
   "source": [
    "def max_k(k_sample_categories: int, max_number_coincident):\n",
    "    mk = k_sample_categories\n"
   ]
  },
  {
   "cell_type": "code",
   "execution_count": 18,
   "metadata": {},
   "outputs": [
    {
     "output_type": "stream",
     "name": "stdout",
     "text": [
      "empirical afs [[8.33333333e-05 3.57142857e-05 0.00000000e+00 3.57142857e-05]\n [3.57142857e-05 2.38095238e-05 2.38095238e-05 0.00000000e+00]\n [8.33333333e-05 0.00000000e+00 3.57142857e-05 1.19047619e-05]\n ...\n [1.19047619e-05 5.95238095e-05 2.38095238e-05 4.76190476e-05]\n [5.95238095e-05 1.19047619e-05 2.38095238e-05 0.00000000e+00]\n [4.76190476e-05 9.52380952e-05 0.00000000e+00 0.00000000e+00]]\npdsAll [0.59523809 0.17857143 0.17857143 0.04761905]\n[[0.59523809 0.17857143 0.17857143 0.04761905]\n [0.59523809 0.17857143 0.17857143 0.04761905]\n [0.59523809 0.17857143 0.17857143 0.04761905]\n [0.59523809 0.17857143 0.17857143 0.04761905]\n [0.59523809 0.17857143 0.17857143 0.04761905]\n [0.59523809 0.17857143 0.17857143 0.04761905]]\n(4,)\n(4,)\nnHypotheses 6\npdsAllShaped [[0.59523809 0.17857143 0.17857143 0.04761905]\n [0.59523809 0.17857143 0.17857143 0.04761905]\n [0.59523809 0.17857143 0.17857143 0.04761905]\n [0.59523809 0.17857143 0.17857143 0.04761905]\n [0.59523809 0.17857143 0.17857143 0.04761905]\n [0.59523809 0.17857143 0.17857143 0.04761905]]\n"
     ]
    }
   ],
   "source": [
    "import numpyro\n",
    "from numpyro.distributions import Multinomial, Beta, Dirichlet, DirichletMultinomial, Gamma, Beta, Categorical, Uniform, MultivariateNormal, Normal, LogNormal, Exponential, HalfCauchy, LKJCholesky\n",
    "from jax import random\n",
    "from numpyro.infer import MCMC, NUTS, SA, Predictive\n",
    "import numpy as np\n",
    "import jax.numpy as jnp\n",
    "import jax\n",
    "\n",
    "numpyro.set_host_device_count(6)\n",
    "numpyro.enable_x64()\n",
    "\n",
    "def mix_weights(beta: jnp.array):\n",
    "    beta_cumprod = (1 - beta).cumprod(-1)\n",
    "    return jnp.pad(beta, (0,1), constant_values=1) * jnp.pad(beta_cumprod, (1,0), constant_values = 1)\n",
    "\n",
    "\n",
    "# mu_exp, var_exp = get_log_params(liabParams55cov[\"afMean\"].numpy(), 1)\n",
    "# Expected number of components\n",
    "# For 2 case types it's\n",
    "# none, 1only, 2only, both\n",
    "# For 3 it's\n",
    "# none, 1only, 2only, 3only, 1&2, 1&3, 2&3, 123 (7)\n",
    "# for 4 it's\n",
    "# none, 1only, 2only, 3only, 4only, 1&2, 1&3, 1&4, 2&3, 2&4, 3&4, 123, 124, 134, 234, 1234\n",
    "# which is 4 + 4choose2 + nchoose3  + nchoose4 \n",
    "nHypotheses = 6\n",
    "kConditions = 4\n",
    "altCounts = liabData55cov[\"altCounts\"].numpy()\n",
    "N = len(liabData55cov[\"altCounts\"])\n",
    "\n",
    "nCases = liabParams55cov[\"nCases\"].numpy()\n",
    "nCtrls = liabParams55cov[\"nCtrls\"].numpy()\n",
    "empiricalAfs = altCounts.sum(1) / (nCases.sum() + nCtrls)\n",
    "print(\"empirical afs\", altCounts / (nCases.sum() + nCtrls))\n",
    "samplePDs = nCases / (nCases.sum() + nCtrls)\n",
    "pdsAll = np.array([1 - samplePDs.sum(), *samplePDs])\n",
    "print(\"pdsAll\", pdsAll)\n",
    "\n",
    "# TODO: do this in numpy natively\n",
    "pdsAllShaped = jnp.asarray(tensor(pdsAll).expand(nHypotheses, kConditions).numpy())\n",
    "pdsAllnp = [1 - samplePDs.sum(), *samplePDs]\n",
    "pdsAll = jnp.asarray([1 - samplePDs.sum(), *samplePDs])\n",
    "print(pdsAllShaped)\n",
    "print(pdsAll.shape)\n",
    "print((1/pdsAll).shape)\n",
    "alpha = .01\n",
    "print(\"nHypotheses\", nHypotheses)\n",
    "\n",
    "### Cases1 # Cases2 # CasesBOth\n",
    "#G1 10.       0.      5\n",
    "#G2 .. \n",
    "\n",
    "exponential_prior = jnp.array([.01]).repeat(kConditions)\n",
    "# exponential_prior_broadcast = np.broadcast_to(np.array([[empiricalAfs]]).T, (20_000, 6, 4))\n",
    "def model(data):\n",
    "    # If in pyro: conc = numpyro.sample('conc', Exponential(exponential_prior).to_event(1))\n",
    "\n",
    "    with numpyro.plate(\"beta_plate\", nHypotheses-1):\n",
    "        beta = numpyro.sample(\"beta\", Beta(1, alpha))\n",
    "\n",
    "    with numpyro.plate(\"prob_plate\", nHypotheses):\n",
    "        conc = numpyro.sample('conc', Exponential(exponential_prior).to_event(1))\n",
    "        probs = numpyro.sample(\"probs\", Dirichlet(conc)) * pdsAll\n",
    "\n",
    "    with numpyro.plate(\"data\", data.shape[0]):\n",
    "        z = numpyro.sample(\"z\", Categorical(mix_weights(beta)))\n",
    "        return numpyro.sample(\"obs\", Multinomial(probs=probs[z]), obs=data)\n",
    "\n",
    "def model2(data):\n",
    "    # If in pyro: conc = numpyro.sample('conc', Exponential(exponential_prior).to_event(1))\n",
    "\n",
    "    with numpyro.plate(\"beta_plate\", nHypotheses-1):\n",
    "        beta = numpyro.sample(\"beta\", Beta(1, alpha))\n",
    "\n",
    "    with numpyro.plate(\"prob_plate\", nHypotheses):\n",
    "        # conc = numpyro.sample('conc', Gamma(np.ones(pdsAllShaped.shape) / nHypotheses, 1).to_event(1))\n",
    "        probs = numpyro.sample(\"probs\", Dirichlet(pdsAll))\n",
    "\n",
    "    with numpyro.plate(\"data\", data.shape[0]):\n",
    "        z = numpyro.sample(\"z\", Categorical(mix_weights(beta)))\n",
    "        print(\"z.shape\", z.shape)\n",
    "        return numpyro.sample(\"obs\", Multinomial(probs=probs[z]), obs=data)\n",
    "\n",
    "def modelGamma(data):\n",
    "    # This also works, for a single set of shraed parameters\n",
    "    # with numpyro.plate(\"conc_plate\", 1):\n",
    "    #     conc = numpyro.sample('conc', Exponential(.001))\n",
    "\n",
    "    with numpyro.plate(\"beta_plate\", nHypotheses-1):\n",
    "        beta = numpyro.sample(\"beta\", Beta(1, alpha))\n",
    "\n",
    "    with numpyro.plate(\"prob_plate\", nHypotheses):\n",
    "        conc = numpyro.sample('conc', Gamma(np.ones(pdsAllShaped.shape) / nHypotheses, 1).to_event(1))\n",
    "        probs = numpyro.sample(\"probs\", Dirichlet(conc)) * pdsAllShaped\n",
    "\n",
    "    with numpyro.plate(\"data\", data.shape[0]):\n",
    "        z = numpyro.sample(\"z\", Categorical(mix_weights(beta)))\n",
    "        return numpyro.sample(\"obs\", Multinomial(probs=probs[z]), obs=data)\n",
    "\n",
    "def modelGamma2(data):\n",
    "    # This also works, for a single set of shraed parameters\n",
    "    # with numpyro.plate(\"conc_plate\", 1):\n",
    "    #     conc = numpyro.sample('conc', Exponential(.001))\n",
    "\n",
    "    with numpyro.plate(\"beta_plate\", nHypotheses-1):\n",
    "        beta = numpyro.sample(\"beta\", Beta(1, alpha))\n",
    "\n",
    "    with numpyro.plate(\"prob_plate\", nHypotheses):\n",
    "        conc = numpyro.sample('conc', Gamma(np.ones(pdsAllShaped.shape) / nHypotheses, 1).to_event(1))\n",
    "        probs = numpyro.sample(\"probs\", Dirichlet(conc)) * pdsAllShaped\n",
    "\n",
    "    with numpyro.plate(\"data\", data.shape[0]):\n",
    "        z = numpyro.sample(\"z\", Categorical(mix_weights(beta)))\n",
    "        return numpyro.sample(\"obs\", Multinomial(probs=probs[z]), obs=data)\n",
    "\n",
    "def modelUniform(data):\n",
    "    # This also works, for a single set of shraed parameters\n",
    "    # with numpyro.plate(\"conc_plate\", 1):\n",
    "    #     conc = numpyro.sample('conc', Exponential(.001))\n",
    "\n",
    "    with numpyro.plate(\"beta_plate\", nHypotheses-1):\n",
    "        beta = numpyro.sample(\"beta\", Beta(1, alpha))\n",
    "\n",
    "    with numpyro.plate(\"prob_plate\", nHypotheses):\n",
    "        conc = numpyro.sample('conc', Uniform(np.ones(kConditions), 25000).to_event(1))\n",
    "        probs = numpyro.sample(\"probs\", Dirichlet(conc)) * pdsAll\n",
    "\n",
    "    with numpyro.plate(\"data\", N):\n",
    "        z = numpyro.sample(\"z\", Categorical(mix_weights(beta)))\n",
    "        return numpyro.sample(\"obs\", Multinomial(probs=probs[z]), obs=data)\n",
    "\n",
    "def modelSimple(data):\n",
    "    # This also works, for a single set of shraed parameters\n",
    "    # with numpyro.plate(\"conc_plate\", 1):\n",
    "    #     conc = numpyro.sample('conc', Exponential(.001))\n",
    "\n",
    "    with numpyro.plate(\"beta_plate\", nHypotheses-1):\n",
    "        beta = numpyro.sample(\"beta\", Beta(1, alpha))\n",
    "\n",
    "    with numpyro.plate(\"prob_plate\", nHypotheses):\n",
    "        # conc = numpyro.sample('conc', Uniform(np.ones(kConditions), 25000).to_event(1))\n",
    "        probs = numpyro.sample(\"probs\", Dirichlet(pdsAll))\n",
    "\n",
    "    with numpyro.plate(\"data\", N):\n",
    "        z = numpyro.sample(\"z\", Categorical(mix_weights(beta)))\n",
    "        # print(\"probs[z]\", probs[z])\n",
    "        return numpyro.sample(\"obs\", Multinomial(probs=probs[z]), obs=data)\n",
    "\n",
    "# super slow\n",
    "# def modelSimple(data):\n",
    "#     with numpyro.plate(\"beta_plate\", nHypotheses-1):\n",
    "#         beta = numpyro.sample(\"beta\", Beta(1, alpha))\n",
    "\n",
    "#     with numpyro.plate(\"prob_plate\", nHypotheses):\n",
    "#         conc = numpyro.sample('conc', Gamma(pdsAllShaped, 1).to_event(1))\n",
    "\n",
    "#     with numpyro.plate(\"data\", N):\n",
    "#         z = numpyro.sample(\"z\", Categorical(mix_weights(beta)))\n",
    "#         return numpyro.sample(\"obs\", DirichletMultinomial(concentration=conc[z]), obs=data)\n",
    "\n",
    "def model1(data):\n",
    "    # This also works, for a single set of shraed parameters\n",
    "    with numpyro.plate(\"conc_plate\", kConditions):\n",
    "        conc = numpyro.sample('conc', Exponential(.01, validate_args=False))\n",
    "\n",
    "    with numpyro.plate(\"beta_plate\", nHypotheses-1):\n",
    "        beta = numpyro.sample(\"beta\", Beta(1, alpha, validate_args=False))\n",
    "\n",
    "    with numpyro.plate(\"prob_plate\", nHypotheses):\n",
    "        probs = numpyro.sample(\"probs\", Dirichlet(conc, validate_args=False)) * pdsAll\n",
    "\n",
    "    with numpyro.plate(\"data\", N):\n",
    "        z = numpyro.sample(\"z\", Categorical(mix_weights(beta)))\n",
    "        return numpyro.sample(\"obs\", Multinomial(probs=probs[z], validate_args=False), obs=data)\n",
    "\n",
    "# This works, is fairly fast (6-10it/s)\n",
    "print(\"pdsAllShaped\", pdsAllShaped)\n",
    "def modelPartialPooledNoMix(data):\n",
    "    # This also works, for a single set of shraed parameters\n",
    "    conc = numpyro.sample(\"conc\", Gamma(pdsAllShaped, 1))\n",
    "    # print(\"conc.shape\", conc)\n",
    "    # with numpyro.plate(\"beta_plate\", nHypotheses):\n",
    "    #     beta = numpyro.sample(\"beta\", Beta(1, alpha, validate_args=False))\n",
    "    for i in range(nHypotheses):\n",
    "        probs = numpyro.sample(f\"probs_{i}\", Dirichlet(conc[i], validate_args=False)) * pdsAll\n",
    "\n",
    "    with numpyro.plate(\"data\", N):\n",
    "        # print(\"conc[0].shape\", conc[0].shape)\n",
    "        # z = numpyro.sample(\"z\", Categorical(mix_weights(beta)))\n",
    "        # probs = numpyro.sample(\"probs\", Dirichlet(conc[0], validate_args=False))\n",
    "        return numpyro.sample(\"obs\", Multinomial(probs=probs, validate_args=False), obs=data)\n",
    "\n",
    "# This works\n",
    "def modelPartialPooledWithDP(data):\n",
    "    # This also works, for a single set of shraed parameters\n",
    "    # print(\"conc.shape\", conc)\n",
    "    with numpyro.plate(\"beta_plate\", nHypotheses - 1):\n",
    "        beta = numpyro.sample(\"beta\", Beta(1, alpha, validate_args=False))\n",
    "    # for i in range(nHypotheses):\n",
    "    #     probs = numpyro.sample(f\"probs_{i}\", Dirichlet(conc[i], validate_args=False)) * pdsAll\n",
    "    conc = numpyro.sample(\"conc\", Gamma(pdsAllShaped, 1))\n",
    "\n",
    "    with numpyro.plate(\"data\", N):\n",
    "        # print(\"conc[0].shape\", conc[0].shape)\n",
    "        # z = numpyro.sample(\"z\", Categorical(mix_weights(beta)))\n",
    "        # probs = numpyro.sample(\"probs\", Dirichlet(conc[0], validate_args=False))\n",
    "        return numpyro.sample(\"obs\", Multinomial(probs=np.eye(1), validate_args=False), obs=data)\n",
    "\n",
    "# breaks, the stack error\n",
    "def modelPartialPooledDPError(data):\n",
    "    # This also works, for a single set of shraed parameters\n",
    "    # print(\"conc.shape\", conc)\n",
    "    with numpyro.plate(\"beta_plate\", nHypotheses - 1):\n",
    "        beta = numpyro.sample(\"beta\", Beta(1, alpha, validate_args=False))\n",
    "    # for i in range(nHypotheses):\n",
    "    #     probs = numpyro.sample(f\"probs_{i}\", Dirichlet(conc[i], validate_args=False)) * pdsAll\n",
    "    conc = numpyro.sample(\"conc\", Gamma(pdsAllShaped, 1))\n",
    "\n",
    "    with numpyro.plate(\"data\", N):\n",
    "        # print(\"conc[0].shape\", conc[0].shape)\n",
    "        z = numpyro.sample(\"z\", Categorical(mix_weights(beta)))\n",
    "        # probs = numpyro.sample(\"probs\", Dirichlet(conc[0], validate_args=False))\n",
    "        return numpyro.sample(\"obs\", Multinomial(probs=np.eye(1), validate_args=False), obs=data)\n",
    "\n",
    "\n",
    "def modelLogNormal(data):\n",
    "    # with numpyro.plate(\"prob_plate\", kConditions):\n",
    "    #      # Vector of variances for each of the d variables\n",
    "    #     theta = numpyro.sample(\"theta\", HalfCauchy(jnp.ones(kConditions)).to_event(1))\n",
    "    #     print(\"theta\", theta)\n",
    "    #     # Lower cholesky factor of a correlation matrix\n",
    "    #     eta = jnp.ones(1)  # Implies a uniform distribution over correlation matrices\n",
    "    #     L_omega = numpyro.sample(\"L_omega\", LKJCholesky(kConditions, eta))\n",
    "    #     # Lower cholesky factor of the covariance matrix\n",
    "    #     L_Omega = jnp.matmul(jnp.diag(jnp.sqrt(theta)), L_omega)\n",
    "    #     print(\"L_Omega\", L_Omega)\n",
    "    # For inference with SVI, one might prefer to use torch.bmm(theta.sqrt().diag_embed(), L_omega)\n",
    "\n",
    "        # Vector of expectations\n",
    "        # mu = jnp.zeros(kConditions)\n",
    "        # print(\"L_Omega\", L_Omega, L_Omega.shape)\n",
    "\n",
    "    with numpyro.plate(\"beta_plate\", nHypotheses-1):\n",
    "        beta = numpyro.sample(\"beta\", Beta(1, alpha))\n",
    "\n",
    "    with numpyro.plate(\"prob_plate\", nHypotheses):\n",
    "        # print(\"pdsAll\", pdsAll)\n",
    "        # theta = numpyro.sample(\"theta\", HalfCauchy(jnp.ones(kConditions)).to_event(1))\n",
    "        # print(\"theta\", theta)\n",
    "        # Lower cholesky factor of a correlation matrix\n",
    "        # eta = jnp.ones(1)  # Implies a uniform distribution over correlation matrices\n",
    "        # L_omega = numpyro.sample(\"L_omega\", LKJCholesky(kConditions, eta))\n",
    "        # Lower cholesky factor of the covariance matrix\n",
    "        # L_Omega = jnp.matmul(jnp.diag(jnp.sqrt(theta)), L_omega)\n",
    "        # print(\"L_Omega\", L_Omega)\n",
    "    # For inference with SVI, one might pr\n",
    "        probs = jax.nn.softmax(numpyro.sample(\"probs\", MultivariateNormal(pdsAll, jnp.eye(kConditions) ) ) )\n",
    "\n",
    "    with numpyro.plate(\"data\", N):\n",
    "        z = numpyro.sample(\"z\", Categorical(mix_weights(beta)))\n",
    "        return numpyro.sample(\"obs\", Multinomial(probs=probs[z]), obs=data)\n",
    "\n",
    "def get_posterior_samples(mcmc):\n",
    "    posterior_samples = mcmc.get_samples()\n",
    "    posterior_samples['pi'] = stickbreak(posterior_samples['beta'])\n",
    "    \n",
    "    return posterior_samples"
   ]
  },
  {
   "cell_type": "code",
   "execution_count": 4,
   "metadata": {},
   "outputs": [
    {
     "output_type": "stream",
     "name": "stdout",
     "text": [
      "empirical afs [[5.95238095e-05 0.00000000e+00 0.00000000e+00 1.19047619e-05]\n [7.14285714e-05 1.19047619e-05 1.19047619e-05 0.00000000e+00]\n [5.95238095e-05 2.38095238e-05 0.00000000e+00 0.00000000e+00]\n ...\n [3.57142857e-05 3.57142857e-05 0.00000000e+00 1.19047619e-05]\n [3.57142857e-05 3.57142857e-05 1.19047619e-05 1.19047619e-05]\n [5.95238095e-05 2.38095238e-05 0.00000000e+00 0.00000000e+00]]\npdsAll [0.59523809 0.17857143 0.17857143 0.04761905]\n[[0.59523809 0.17857143 0.17857143 0.04761905]\n [0.59523809 0.17857143 0.17857143 0.04761905]\n [0.59523809 0.17857143 0.17857143 0.04761905]\n [0.59523809 0.17857143 0.17857143 0.04761905]\n [0.59523809 0.17857143 0.17857143 0.04761905]\n [0.59523809 0.17857143 0.17857143 0.04761905]]\n(4,)\n(4,)\nnHypotheses 6\n"
     ]
    }
   ],
   "source": [
    "import numpyro\n",
    "from numpyro.distributions import Multinomial, Beta, Dirichlet, DirichletMultinomial, Gamma, Beta, Categorical, Uniform, MultivariateNormal, Normal, LogNormal, Exponential, HalfCauchy, LKJCholesky\n",
    "from jax import random\n",
    "from numpyro.infer import MCMC, NUTS, SA, Predictive\n",
    "import numpy as np\n",
    "import jax.numpy as jnp\n",
    "import jax\n",
    "\n",
    "numpyro.set_host_device_count(6)\n",
    "numpyro.enable_x64()\n",
    "\n",
    "def mix_weights(beta: jnp.array):\n",
    "    beta_cumprod = (1 - beta).cumprod(-1)\n",
    "    return jnp.pad(beta, (0,1), constant_values=1) * jnp.pad(beta_cumprod, (1,0), constant_values = 1)\n",
    "\n",
    "\n",
    "# mu_exp, var_exp = get_log_params(liabParams55cov[\"afMean\"].numpy(), 1)\n",
    "# Expected number of components\n",
    "# For 2 case types it's\n",
    "# none, 1only, 2only, both\n",
    "# For 3 it's\n",
    "# none, 1only, 2only, 3only, 1&2, 1&3, 2&3, 123 (7)\n",
    "# for 4 it's\n",
    "# none, 1only, 2only, 3only, 4only, 1&2, 1&3, 1&4, 2&3, 2&4, 3&4, 123, 124, 134, 234, 1234\n",
    "# which is 4 + 4choose2 + nchoose3  + nchoose4 \n",
    "nHypotheses = 6\n",
    "kConditions = 4\n",
    "altCounts = liabData55cov[\"altCounts\"].numpy()\n",
    "N = len(liabData55cov[\"altCounts\"])\n",
    "\n",
    "nCases = liabParams55cov[\"nCases\"].numpy()\n",
    "nCtrls = liabParams55cov[\"nCtrls\"].numpy()\n",
    "empiricalAfs = altCounts.sum(1) / (nCases.sum() + nCtrls)\n",
    "print(\"empirical afs\", altCounts / (nCases.sum() + nCtrls))\n",
    "samplePDs = nCases / (nCases.sum() + nCtrls)\n",
    "pdsAll = np.array([1 - samplePDs.sum(), *samplePDs])\n",
    "print(\"pdsAll\", pdsAll)\n",
    "\n",
    "# TODO: do this in numpy natively\n",
    "pdsAllShaped = jnp.asarray(tensor(pdsAll).expand(nHypotheses, kConditions).numpy())\n",
    "pdsAllnp = [1 - samplePDs.sum(), *samplePDs]\n",
    "pdsAll = jnp.asarray([1 - samplePDs.sum(), *samplePDs])\n",
    "print(pdsAllShaped)\n",
    "print(pdsAll.shape)\n",
    "print((1/pdsAll).shape)\n",
    "alpha = .01\n",
    "print(\"nHypotheses\", nHypotheses)\n",
    "\n",
    "\n",
    "# For variational inference in pyro you're drawing reparameterized samples, and those ignore independence\n",
    "# For inference is most interesting for discrete random variables\n",
    "\n",
    "# It's computationally expensive if something outside of a plate depends on something inside of a plate\n",
    "# You shouldn't have any arrows pointing out of a plate, to minimize performance\n",
    "\n",
    "# architecture1 priors\n",
    "# architecture2 priors\n",
    "def modelPartialPooled(data):\n",
    "    # This also works, for a single set of shraed parameters\n",
    "    # print(\"conc.shape\", conc)\n",
    "    #with numpyro.plate(\"beta_plate\", nHypotheses - 1):\n",
    "    beta = numpyro.sample(\"beta3\", Beta(np.ones(nHypotheses-1), alpha, validate_args=False).to_event(1))\n",
    "    # for i in range(nHypotheses):\n",
    "    #     probs = numpyro.sample(f\"probs_{i}\", Dirichlet(conc[i], validate_args=False)) * pdsAll\n",
    "    # pi = numpyro.sample(\"pi\", dist.Dirichlet(jnp.ones(num_classes)))\n",
    "    conc = numpyro.sample(\"conc\", Gamma(pdsAllShaped, 1).to_event(2))\n",
    "    conc ~ XB + e\n",
    "    with numpyro.plate(\"data\", N):\n",
    "        # conc ~ XB + e\n",
    "        z = numpyro.sample(\"z\", Categorical(mix_weights(beta)))\n",
    "        component_conc = conc[z]\n",
    "        # nCaseCategories x 1\n",
    "        component_conc ~ XB + e\n",
    "\n",
    "        # We may be able with numpyro.plate('samples', S):\n",
    "        # probs = numpyro.sample(\"probs\", Dirichlet(conc[z], validate_args=False))\n",
    "        return numpyro.sample(\"obs\", Multinomial(probs=e, validate_args=False), obs=data)\n"
   ]
  },
  {
   "cell_type": "code",
   "execution_count": 3,
   "metadata": {},
   "outputs": [
    {
     "output_type": "stream",
     "name": "stderr",
     "text": [
      "warmup:   1%|          | 7/1100 [00:58<2:31:49,  8.33s/it, 1023 steps of size 2.76e-03. acc. prob=0.42]\n"
     ]
    },
    {
     "output_type": "error",
     "ename": "KeyboardInterrupt",
     "evalue": "",
     "traceback": [
      "\u001b[0;31m---------------------------------------------------------------------------\u001b[0m",
      "\u001b[0;31mKeyboardInterrupt\u001b[0m                         Traceback (most recent call last)",
      "\u001b[0;32m<ipython-input-3-6dacd0827004>\u001b[0m in \u001b[0;36m<module>\u001b[0;34m\u001b[0m\n\u001b[1;32m      1\u001b[0m \u001b[0minit_rng_key\u001b[0m \u001b[0;34m=\u001b[0m \u001b[0mrandom\u001b[0m\u001b[0;34m.\u001b[0m\u001b[0mPRNGKey\u001b[0m\u001b[0;34m(\u001b[0m\u001b[0;36m12273\u001b[0m\u001b[0;34m)\u001b[0m\u001b[0;34m\u001b[0m\u001b[0;34m\u001b[0m\u001b[0m\n\u001b[1;32m      2\u001b[0m \u001b[0mmcmcPP\u001b[0m \u001b[0;34m=\u001b[0m \u001b[0mMCMC\u001b[0m\u001b[0;34m(\u001b[0m\u001b[0mNUTS\u001b[0m\u001b[0;34m(\u001b[0m\u001b[0mmodelPartialPooled\u001b[0m\u001b[0;34m)\u001b[0m\u001b[0;34m,\u001b[0m \u001b[0;36m100\u001b[0m\u001b[0;34m,\u001b[0m \u001b[0;36m1000\u001b[0m\u001b[0;34m)\u001b[0m\u001b[0;34m\u001b[0m\u001b[0;34m\u001b[0m\u001b[0m\n\u001b[0;32m----> 3\u001b[0;31m \u001b[0mmcmcPP\u001b[0m\u001b[0;34m.\u001b[0m\u001b[0mrun\u001b[0m\u001b[0;34m(\u001b[0m\u001b[0minit_rng_key\u001b[0m\u001b[0;34m,\u001b[0m \u001b[0maltCounts\u001b[0m\u001b[0;34m)\u001b[0m\u001b[0;34m\u001b[0m\u001b[0;34m\u001b[0m\u001b[0m\n\u001b[0m\u001b[1;32m      4\u001b[0m \u001b[0mmcmcPP\u001b[0m\u001b[0;34m.\u001b[0m\u001b[0mprint_summary\u001b[0m\u001b[0;34m(\u001b[0m\u001b[0;34m)\u001b[0m\u001b[0;34m\u001b[0m\u001b[0;34m\u001b[0m\u001b[0m\n",
      "\u001b[0;32m~/miniconda3/lib/python3.7/site-packages/numpyro/infer/mcmc.py\u001b[0m in \u001b[0;36mrun\u001b[0;34m(self, rng_key, extra_fields, init_params, *args, **kwargs)\u001b[0m\n\u001b[1;32m    447\u001b[0m         \u001b[0mmap_args\u001b[0m \u001b[0;34m=\u001b[0m \u001b[0;34m(\u001b[0m\u001b[0mrng_key\u001b[0m\u001b[0;34m,\u001b[0m \u001b[0minit_state\u001b[0m\u001b[0;34m,\u001b[0m \u001b[0minit_params\u001b[0m\u001b[0;34m)\u001b[0m\u001b[0;34m\u001b[0m\u001b[0;34m\u001b[0m\u001b[0m\n\u001b[1;32m    448\u001b[0m         \u001b[0;32mif\u001b[0m \u001b[0mself\u001b[0m\u001b[0;34m.\u001b[0m\u001b[0mnum_chains\u001b[0m \u001b[0;34m==\u001b[0m \u001b[0;36m1\u001b[0m\u001b[0;34m:\u001b[0m\u001b[0;34m\u001b[0m\u001b[0;34m\u001b[0m\u001b[0m\n\u001b[0;32m--> 449\u001b[0;31m             \u001b[0mstates_flat\u001b[0m\u001b[0;34m,\u001b[0m \u001b[0mlast_state\u001b[0m \u001b[0;34m=\u001b[0m \u001b[0mpartial_map_fn\u001b[0m\u001b[0;34m(\u001b[0m\u001b[0mmap_args\u001b[0m\u001b[0;34m)\u001b[0m\u001b[0;34m\u001b[0m\u001b[0;34m\u001b[0m\u001b[0m\n\u001b[0m\u001b[1;32m    450\u001b[0m             \u001b[0mstates\u001b[0m \u001b[0;34m=\u001b[0m \u001b[0mtree_map\u001b[0m\u001b[0;34m(\u001b[0m\u001b[0;32mlambda\u001b[0m \u001b[0mx\u001b[0m\u001b[0;34m:\u001b[0m \u001b[0mx\u001b[0m\u001b[0;34m[\u001b[0m\u001b[0mjnp\u001b[0m\u001b[0;34m.\u001b[0m\u001b[0mnewaxis\u001b[0m\u001b[0;34m,\u001b[0m \u001b[0;34m...\u001b[0m\u001b[0;34m]\u001b[0m\u001b[0;34m,\u001b[0m \u001b[0mstates_flat\u001b[0m\u001b[0;34m)\u001b[0m\u001b[0;34m\u001b[0m\u001b[0;34m\u001b[0m\u001b[0m\n\u001b[1;32m    451\u001b[0m         \u001b[0;32melse\u001b[0m\u001b[0;34m:\u001b[0m\u001b[0;34m\u001b[0m\u001b[0;34m\u001b[0m\u001b[0m\n",
      "\u001b[0;32m~/miniconda3/lib/python3.7/site-packages/numpyro/infer/mcmc.py\u001b[0m in \u001b[0;36m_single_chain_mcmc\u001b[0;34m(self, init, args, kwargs, collect_fields)\u001b[0m\n\u001b[1;32m    330\u001b[0m                                     \u001b[0mcollection_size\u001b[0m\u001b[0;34m=\u001b[0m\u001b[0mself\u001b[0m\u001b[0;34m.\u001b[0m\u001b[0m_collection_params\u001b[0m\u001b[0;34m[\u001b[0m\u001b[0;34m\"collection_size\"\u001b[0m\u001b[0;34m]\u001b[0m\u001b[0;34m,\u001b[0m\u001b[0;34m\u001b[0m\u001b[0;34m\u001b[0m\u001b[0m\n\u001b[1;32m    331\u001b[0m                                     \u001b[0mprogbar_desc\u001b[0m\u001b[0;34m=\u001b[0m\u001b[0mpartial\u001b[0m\u001b[0;34m(\u001b[0m\u001b[0mget_progbar_desc_str\u001b[0m\u001b[0;34m,\u001b[0m \u001b[0mlower_idx\u001b[0m\u001b[0;34m)\u001b[0m\u001b[0;34m,\u001b[0m\u001b[0;34m\u001b[0m\u001b[0;34m\u001b[0m\u001b[0m\n\u001b[0;32m--> 332\u001b[0;31m                                     diagnostics_fn=diagnostics)\n\u001b[0m\u001b[1;32m    333\u001b[0m         \u001b[0mstates\u001b[0m\u001b[0;34m,\u001b[0m \u001b[0mlast_val\u001b[0m \u001b[0;34m=\u001b[0m \u001b[0mcollect_vals\u001b[0m\u001b[0;34m\u001b[0m\u001b[0;34m\u001b[0m\u001b[0m\n\u001b[1;32m    334\u001b[0m         \u001b[0;31m# Get first argument of type `HMCState`\u001b[0m\u001b[0;34m\u001b[0m\u001b[0;34m\u001b[0m\u001b[0;34m\u001b[0m\u001b[0m\n",
      "\u001b[0;32m~/miniconda3/lib/python3.7/site-packages/numpyro/util.py\u001b[0m in \u001b[0;36mfori_collect\u001b[0;34m(lower, upper, body_fun, init_val, transform, progbar, return_last_val, collection_size, **progbar_opts)\u001b[0m\n\u001b[1;32m    227\u001b[0m                     \u001b[0mt\u001b[0m\u001b[0;34m.\u001b[0m\u001b[0mset_description\u001b[0m\u001b[0;34m(\u001b[0m\u001b[0mprogbar_desc\u001b[0m\u001b[0;34m(\u001b[0m\u001b[0mi\u001b[0m\u001b[0;34m)\u001b[0m\u001b[0;34m,\u001b[0m \u001b[0mrefresh\u001b[0m\u001b[0;34m=\u001b[0m\u001b[0;32mFalse\u001b[0m\u001b[0;34m)\u001b[0m\u001b[0;34m\u001b[0m\u001b[0;34m\u001b[0m\u001b[0m\n\u001b[1;32m    228\u001b[0m                     \u001b[0;32mif\u001b[0m \u001b[0mdiagnostics_fn\u001b[0m\u001b[0;34m:\u001b[0m\u001b[0;34m\u001b[0m\u001b[0;34m\u001b[0m\u001b[0m\n\u001b[0;32m--> 229\u001b[0;31m                         \u001b[0mt\u001b[0m\u001b[0;34m.\u001b[0m\u001b[0mset_postfix_str\u001b[0m\u001b[0;34m(\u001b[0m\u001b[0mdiagnostics_fn\u001b[0m\u001b[0;34m(\u001b[0m\u001b[0mvals\u001b[0m\u001b[0;34m[\u001b[0m\u001b[0;36m0\u001b[0m\u001b[0;34m]\u001b[0m\u001b[0;34m)\u001b[0m\u001b[0;34m,\u001b[0m \u001b[0mrefresh\u001b[0m\u001b[0;34m=\u001b[0m\u001b[0;32mFalse\u001b[0m\u001b[0;34m)\u001b[0m\u001b[0;34m\u001b[0m\u001b[0;34m\u001b[0m\u001b[0m\n\u001b[0m\u001b[1;32m    230\u001b[0m \u001b[0;34m\u001b[0m\u001b[0m\n\u001b[1;32m    231\u001b[0m         \u001b[0mlast_val\u001b[0m\u001b[0;34m,\u001b[0m \u001b[0mcollection\u001b[0m\u001b[0;34m,\u001b[0m \u001b[0m_\u001b[0m \u001b[0;34m=\u001b[0m \u001b[0mvals\u001b[0m\u001b[0;34m\u001b[0m\u001b[0;34m\u001b[0m\u001b[0m\n",
      "\u001b[0;32m~/miniconda3/lib/python3.7/site-packages/numpyro/infer/mcmc.py\u001b[0m in \u001b[0;36m<lambda>\u001b[0;34m(x)\u001b[0m\n\u001b[1;32m    316\u001b[0m         \u001b[0;32melse\u001b[0m\u001b[0;34m:\u001b[0m\u001b[0;34m\u001b[0m\u001b[0;34m\u001b[0m\u001b[0m\n\u001b[1;32m    317\u001b[0m             \u001b[0mpostprocess_fn\u001b[0m \u001b[0;34m=\u001b[0m \u001b[0mself\u001b[0m\u001b[0;34m.\u001b[0m\u001b[0mpostprocess_fn\u001b[0m\u001b[0;34m\u001b[0m\u001b[0;34m\u001b[0m\u001b[0m\n\u001b[0;32m--> 318\u001b[0;31m         \u001b[0mdiagnostics\u001b[0m \u001b[0;34m=\u001b[0m \u001b[0;32mlambda\u001b[0m \u001b[0mx\u001b[0m\u001b[0;34m:\u001b[0m \u001b[0mself\u001b[0m\u001b[0;34m.\u001b[0m\u001b[0msampler\u001b[0m\u001b[0;34m.\u001b[0m\u001b[0mget_diagnostics_str\u001b[0m\u001b[0;34m(\u001b[0m\u001b[0mx\u001b[0m\u001b[0;34m[\u001b[0m\u001b[0;36m0\u001b[0m\u001b[0;34m]\u001b[0m\u001b[0;34m)\u001b[0m \u001b[0;32mif\u001b[0m \u001b[0mrng_key\u001b[0m\u001b[0;34m.\u001b[0m\u001b[0mndim\u001b[0m \u001b[0;34m==\u001b[0m \u001b[0;36m1\u001b[0m \u001b[0;32melse\u001b[0m \u001b[0;34m''\u001b[0m   \u001b[0;31m# noqa: E731\u001b[0m\u001b[0;34m\u001b[0m\u001b[0;34m\u001b[0m\u001b[0m\n\u001b[0m\u001b[1;32m    319\u001b[0m         \u001b[0minit_val\u001b[0m \u001b[0;34m=\u001b[0m \u001b[0;34m(\u001b[0m\u001b[0minit_state\u001b[0m\u001b[0;34m,\u001b[0m \u001b[0margs\u001b[0m\u001b[0;34m,\u001b[0m \u001b[0mkwargs\u001b[0m\u001b[0;34m)\u001b[0m \u001b[0;32mif\u001b[0m \u001b[0mself\u001b[0m\u001b[0;34m.\u001b[0m\u001b[0m_jit_model_args\u001b[0m \u001b[0;32melse\u001b[0m \u001b[0;34m(\u001b[0m\u001b[0minit_state\u001b[0m\u001b[0;34m,\u001b[0m\u001b[0;34m)\u001b[0m\u001b[0;34m\u001b[0m\u001b[0;34m\u001b[0m\u001b[0m\n\u001b[1;32m    320\u001b[0m         \u001b[0mlower_idx\u001b[0m \u001b[0;34m=\u001b[0m \u001b[0mself\u001b[0m\u001b[0;34m.\u001b[0m\u001b[0m_collection_params\u001b[0m\u001b[0;34m[\u001b[0m\u001b[0;34m\"lower\"\u001b[0m\u001b[0;34m]\u001b[0m\u001b[0;34m\u001b[0m\u001b[0;34m\u001b[0m\u001b[0m\n",
      "\u001b[0;32m~/miniconda3/lib/python3.7/site-packages/numpyro/infer/hmc.py\u001b[0m in \u001b[0;36mget_diagnostics_str\u001b[0;34m(self, state)\u001b[0m\n\u001b[1;32m    439\u001b[0m         return '{} steps of size {:.2e}. acc. prob={:.2f}'.format(state.num_steps,\n\u001b[1;32m    440\u001b[0m                                                                   \u001b[0mstate\u001b[0m\u001b[0;34m.\u001b[0m\u001b[0madapt_state\u001b[0m\u001b[0;34m.\u001b[0m\u001b[0mstep_size\u001b[0m\u001b[0;34m,\u001b[0m\u001b[0;34m\u001b[0m\u001b[0;34m\u001b[0m\u001b[0m\n\u001b[0;32m--> 441\u001b[0;31m                                                                   state.mean_accept_prob)\n\u001b[0m\u001b[1;32m    442\u001b[0m \u001b[0;34m\u001b[0m\u001b[0m\n\u001b[1;32m    443\u001b[0m     \u001b[0;32mdef\u001b[0m \u001b[0minit\u001b[0m\u001b[0;34m(\u001b[0m\u001b[0mself\u001b[0m\u001b[0;34m,\u001b[0m \u001b[0mrng_key\u001b[0m\u001b[0;34m,\u001b[0m \u001b[0mnum_warmup\u001b[0m\u001b[0;34m,\u001b[0m \u001b[0minit_params\u001b[0m\u001b[0;34m=\u001b[0m\u001b[0;32mNone\u001b[0m\u001b[0;34m,\u001b[0m \u001b[0mmodel_args\u001b[0m\u001b[0;34m=\u001b[0m\u001b[0;34m(\u001b[0m\u001b[0;34m)\u001b[0m\u001b[0;34m,\u001b[0m \u001b[0mmodel_kwargs\u001b[0m\u001b[0;34m=\u001b[0m\u001b[0;34m{\u001b[0m\u001b[0;34m}\u001b[0m\u001b[0;34m)\u001b[0m\u001b[0;34m:\u001b[0m\u001b[0;34m\u001b[0m\u001b[0;34m\u001b[0m\u001b[0m\n",
      "\u001b[0;32m~/miniconda3/lib/python3.7/site-packages/jax/interpreters/xla.py\u001b[0m in \u001b[0;36m__format__\u001b[0;34m(self, format_spec)\u001b[0m\n\u001b[1;32m   1117\u001b[0m     \u001b[0;31m# Simulates behavior of https://github.com/numpy/numpy/pull/9883\u001b[0m\u001b[0;34m\u001b[0m\u001b[0;34m\u001b[0m\u001b[0;34m\u001b[0m\u001b[0m\n\u001b[1;32m   1118\u001b[0m     \u001b[0;32mif\u001b[0m \u001b[0mself\u001b[0m\u001b[0;34m.\u001b[0m\u001b[0mndim\u001b[0m \u001b[0;34m==\u001b[0m \u001b[0;36m0\u001b[0m\u001b[0;34m:\u001b[0m\u001b[0;34m\u001b[0m\u001b[0;34m\u001b[0m\u001b[0m\n\u001b[0;32m-> 1119\u001b[0;31m       \u001b[0;32mreturn\u001b[0m \u001b[0mformat\u001b[0m\u001b[0;34m(\u001b[0m\u001b[0mself\u001b[0m\u001b[0;34m.\u001b[0m\u001b[0m_value\u001b[0m\u001b[0;34m[\u001b[0m\u001b[0;34m(\u001b[0m\u001b[0;34m)\u001b[0m\u001b[0;34m]\u001b[0m\u001b[0;34m,\u001b[0m \u001b[0mformat_spec\u001b[0m\u001b[0;34m)\u001b[0m\u001b[0;34m\u001b[0m\u001b[0;34m\u001b[0m\u001b[0m\n\u001b[0m\u001b[1;32m   1120\u001b[0m     \u001b[0;32melse\u001b[0m\u001b[0;34m:\u001b[0m\u001b[0;34m\u001b[0m\u001b[0;34m\u001b[0m\u001b[0m\n\u001b[1;32m   1121\u001b[0m       \u001b[0;32mreturn\u001b[0m \u001b[0mformat\u001b[0m\u001b[0;34m(\u001b[0m\u001b[0mself\u001b[0m\u001b[0;34m.\u001b[0m\u001b[0m_value\u001b[0m\u001b[0;34m,\u001b[0m \u001b[0mformat_spec\u001b[0m\u001b[0;34m)\u001b[0m\u001b[0;34m\u001b[0m\u001b[0;34m\u001b[0m\u001b[0m\n",
      "\u001b[0;32m~/miniconda3/lib/python3.7/site-packages/jax/interpreters/xla.py\u001b[0m in \u001b[0;36m_value\u001b[0;34m(self)\u001b[0m\n\u001b[1;32m   1027\u001b[0m         \u001b[0mself\u001b[0m\u001b[0;34m.\u001b[0m\u001b[0m_npy_value\u001b[0m \u001b[0;34m=\u001b[0m \u001b[0mlazy\u001b[0m\u001b[0;34m.\u001b[0m\u001b[0meval_lexpr\u001b[0m\u001b[0;34m(\u001b[0m\u001b[0mself\u001b[0m\u001b[0;34m.\u001b[0m\u001b[0m_lazy_expr\u001b[0m\u001b[0;34m,\u001b[0m \u001b[0;32mNone\u001b[0m\u001b[0;34m)\u001b[0m\u001b[0;34m\u001b[0m\u001b[0;34m\u001b[0m\u001b[0m\n\u001b[1;32m   1028\u001b[0m       \u001b[0;32melse\u001b[0m\u001b[0;34m:\u001b[0m\u001b[0;34m\u001b[0m\u001b[0;34m\u001b[0m\u001b[0m\n\u001b[0;32m-> 1029\u001b[0;31m         \u001b[0mself\u001b[0m\u001b[0;34m.\u001b[0m\u001b[0m_npy_value\u001b[0m \u001b[0;34m=\u001b[0m \u001b[0m_force\u001b[0m\u001b[0;34m(\u001b[0m\u001b[0mself\u001b[0m\u001b[0;34m)\u001b[0m\u001b[0;34m.\u001b[0m\u001b[0mdevice_buffer\u001b[0m\u001b[0;34m.\u001b[0m\u001b[0mto_py\u001b[0m\u001b[0;34m(\u001b[0m\u001b[0;34m)\u001b[0m\u001b[0;34m\u001b[0m\u001b[0;34m\u001b[0m\u001b[0m\n\u001b[0m\u001b[1;32m   1030\u001b[0m       \u001b[0mself\u001b[0m\u001b[0;34m.\u001b[0m\u001b[0m_npy_value\u001b[0m\u001b[0;34m.\u001b[0m\u001b[0mflags\u001b[0m\u001b[0;34m.\u001b[0m\u001b[0mwriteable\u001b[0m \u001b[0;34m=\u001b[0m \u001b[0;32mFalse\u001b[0m\u001b[0;34m\u001b[0m\u001b[0;34m\u001b[0m\u001b[0m\n\u001b[1;32m   1031\u001b[0m     \u001b[0;32mreturn\u001b[0m \u001b[0mself\u001b[0m\u001b[0;34m.\u001b[0m\u001b[0m_npy_value\u001b[0m\u001b[0;34m\u001b[0m\u001b[0;34m\u001b[0m\u001b[0m\n",
      "\u001b[0;31mKeyboardInterrupt\u001b[0m: "
     ]
    }
   ],
   "source": [
    "init_rng_key = random.PRNGKey(12273)\n",
    "mcmcPP = MCMC(NUTS(modelPartialPooled), 100, 1000)\n",
    "mcmcPP.run(init_rng_key, altCounts)\n",
    "mcmcPP.print_summary()"
   ]
  },
  {
   "cell_type": "code",
   "execution_count": 158,
   "metadata": {},
   "outputs": [
    {
     "output_type": "execute_result",
     "data": {
      "text/plain": [
       "array([[6., 1., 2., 1.],\n",
       "       [6., 0., 1., 0.],\n",
       "       [7., 0., 1., 0.],\n",
       "       ...,\n",
       "       [6., 1., 2., 2.],\n",
       "       [4., 2., 0., 0.],\n",
       "       [7., 0., 1., 0.]])"
      ]
     },
     "metadata": {},
     "execution_count": 158
    }
   ],
   "source": [
    "altCounts"
   ]
  },
  {
   "cell_type": "code",
   "execution_count": 153,
   "metadata": {},
   "outputs": [
    {
     "output_type": "execute_result",
     "data": {
      "text/plain": [
       "(6, 4)"
      ]
     },
     "metadata": {},
     "execution_count": 153
    }
   ],
   "source": [
    "Gamma(pdsAllShaped, 1).sample(init_rng_key).shape"
   ]
  },
  {
   "cell_type": "code",
   "execution_count": 144,
   "metadata": {},
   "outputs": [],
   "source": [
    "def plot_param_post(params, param_name, param_full_name, figsize=(12, 4),\n",
    "                    truth=None, plot_trace=True):\n",
    "    if plot_trace:\n",
    "        plt.figure(figsize=figsize)\n",
    "        \n",
    "    param = params[param_name]\n",
    "\n",
    "    if plot_trace:\n",
    "        plt.subplot(1, 2, 1)\n",
    "        \n",
    "    plt.boxplot(param.T, whis=[2.5, 97.5], showmeans=True, showfliers=False)\n",
    "    plt.xlabel('mixture components')\n",
    "    plt.ylabel(param_full_name)\n",
    "    plt.title('95% Credible Intervals for {}'.format(param_full_name))\n",
    "    if truth is not None:\n",
    "        for line in truth:\n",
    "            plt.axhline(line, ls=':')\n",
    "\n",
    "    if plot_trace:\n",
    "        plt.subplot(1, 2, 2)\n",
    "        plt.plot(param)\n",
    "        plt.xlabel('iterations')\n",
    "        plt.ylabel(param_full_name)\n",
    "        plt.title('Trace plot of {}'.format(param_full_name))\n"
   ]
  },
  {
   "cell_type": "code",
   "execution_count": 140,
   "metadata": {},
   "outputs": [
    {
     "output_type": "execute_result",
     "data": {
      "text/plain": [
       "Text(0.5, 1.0, 'Negative ELBO')"
      ]
     },
     "metadata": {},
     "execution_count": 140
    },
    {
     "output_type": "display_data",
     "data": {
      "text/plain": "<Figure size 432x288 with 1 Axes>",
      "image/svg+xml": "<?xml version=\"1.0\" encoding=\"utf-8\" standalone=\"no\"?>\n<!DOCTYPE svg PUBLIC \"-//W3C//DTD SVG 1.1//EN\"\n  \"http://www.w3.org/Graphics/SVG/1.1/DTD/svg11.dtd\">\n<!-- Created with matplotlib (https://matplotlib.org/) -->\n<svg height=\"263.63625pt\" version=\"1.1\" viewBox=\"0 0 394.375 263.63625\" width=\"394.375pt\" xmlns=\"http://www.w3.org/2000/svg\" xmlns:xlink=\"http://www.w3.org/1999/xlink\">\n <defs>\n  <style type=\"text/css\">\n*{stroke-linecap:butt;stroke-linejoin:round;}\n  </style>\n </defs>\n <g id=\"figure_1\">\n  <g id=\"patch_1\">\n   <path d=\"M 0 263.63625 \nL 394.375 263.63625 \nL 394.375 0 \nL 0 0 \nz\n\" style=\"fill:none;\"/>\n  </g>\n  <g id=\"axes_1\">\n   <g id=\"patch_2\">\n    <path d=\"M 52.375 239.758125 \nL 387.175 239.758125 \nL 387.175 22.318125 \nL 52.375 22.318125 \nz\n\" style=\"fill:#ffffff;\"/>\n   </g>\n   <g id=\"matplotlib.axis_1\">\n    <g id=\"xtick_1\">\n     <g id=\"line2d_1\">\n      <defs>\n       <path d=\"M 0 0 \nL 0 3.5 \n\" id=\"mc78bea78ca\" style=\"stroke:#000000;stroke-width:0.8;\"/>\n      </defs>\n      <g>\n       <use style=\"stroke:#000000;stroke-width:0.8;\" x=\"67.593182\" xlink:href=\"#mc78bea78ca\" y=\"239.758125\"/>\n      </g>\n     </g>\n     <g id=\"text_1\">\n      <!-- 0 -->\n      <defs>\n       <path d=\"M 31.78125 66.40625 \nQ 24.171875 66.40625 20.328125 58.90625 \nQ 16.5 51.421875 16.5 36.375 \nQ 16.5 21.390625 20.328125 13.890625 \nQ 24.171875 6.390625 31.78125 6.390625 \nQ 39.453125 6.390625 43.28125 13.890625 \nQ 47.125 21.390625 47.125 36.375 \nQ 47.125 51.421875 43.28125 58.90625 \nQ 39.453125 66.40625 31.78125 66.40625 \nz\nM 31.78125 74.21875 \nQ 44.046875 74.21875 50.515625 64.515625 \nQ 56.984375 54.828125 56.984375 36.375 \nQ 56.984375 17.96875 50.515625 8.265625 \nQ 44.046875 -1.421875 31.78125 -1.421875 \nQ 19.53125 -1.421875 13.0625 8.265625 \nQ 6.59375 17.96875 6.59375 36.375 \nQ 6.59375 54.828125 13.0625 64.515625 \nQ 19.53125 74.21875 31.78125 74.21875 \nz\n\" id=\"DejaVuSans-48\"/>\n      </defs>\n      <g transform=\"translate(64.411932 254.356563)scale(0.1 -0.1)\">\n       <use xlink:href=\"#DejaVuSans-48\"/>\n      </g>\n     </g>\n    </g>\n    <g id=\"xtick_2\">\n     <g id=\"line2d_2\">\n      <g>\n       <use style=\"stroke:#000000;stroke-width:0.8;\" x=\"128.526843\" xlink:href=\"#mc78bea78ca\" y=\"239.758125\"/>\n      </g>\n     </g>\n     <g id=\"text_2\">\n      <!-- 200 -->\n      <defs>\n       <path d=\"M 19.1875 8.296875 \nL 53.609375 8.296875 \nL 53.609375 0 \nL 7.328125 0 \nL 7.328125 8.296875 \nQ 12.9375 14.109375 22.625 23.890625 \nQ 32.328125 33.6875 34.8125 36.53125 \nQ 39.546875 41.84375 41.421875 45.53125 \nQ 43.3125 49.21875 43.3125 52.78125 \nQ 43.3125 58.59375 39.234375 62.25 \nQ 35.15625 65.921875 28.609375 65.921875 \nQ 23.96875 65.921875 18.8125 64.3125 \nQ 13.671875 62.703125 7.8125 59.421875 \nL 7.8125 69.390625 \nQ 13.765625 71.78125 18.9375 73 \nQ 24.125 74.21875 28.421875 74.21875 \nQ 39.75 74.21875 46.484375 68.546875 \nQ 53.21875 62.890625 53.21875 53.421875 \nQ 53.21875 48.921875 51.53125 44.890625 \nQ 49.859375 40.875 45.40625 35.40625 \nQ 44.1875 33.984375 37.640625 27.21875 \nQ 31.109375 20.453125 19.1875 8.296875 \nz\n\" id=\"DejaVuSans-50\"/>\n      </defs>\n      <g transform=\"translate(118.983093 254.356563)scale(0.1 -0.1)\">\n       <use xlink:href=\"#DejaVuSans-50\"/>\n       <use x=\"63.623047\" xlink:href=\"#DejaVuSans-48\"/>\n       <use x=\"127.246094\" xlink:href=\"#DejaVuSans-48\"/>\n      </g>\n     </g>\n    </g>\n    <g id=\"xtick_3\">\n     <g id=\"line2d_3\">\n      <g>\n       <use style=\"stroke:#000000;stroke-width:0.8;\" x=\"189.460504\" xlink:href=\"#mc78bea78ca\" y=\"239.758125\"/>\n      </g>\n     </g>\n     <g id=\"text_3\">\n      <!-- 400 -->\n      <defs>\n       <path d=\"M 37.796875 64.3125 \nL 12.890625 25.390625 \nL 37.796875 25.390625 \nz\nM 35.203125 72.90625 \nL 47.609375 72.90625 \nL 47.609375 25.390625 \nL 58.015625 25.390625 \nL 58.015625 17.1875 \nL 47.609375 17.1875 \nL 47.609375 0 \nL 37.796875 0 \nL 37.796875 17.1875 \nL 4.890625 17.1875 \nL 4.890625 26.703125 \nz\n\" id=\"DejaVuSans-52\"/>\n      </defs>\n      <g transform=\"translate(179.916754 254.356563)scale(0.1 -0.1)\">\n       <use xlink:href=\"#DejaVuSans-52\"/>\n       <use x=\"63.623047\" xlink:href=\"#DejaVuSans-48\"/>\n       <use x=\"127.246094\" xlink:href=\"#DejaVuSans-48\"/>\n      </g>\n     </g>\n    </g>\n    <g id=\"xtick_4\">\n     <g id=\"line2d_4\">\n      <g>\n       <use style=\"stroke:#000000;stroke-width:0.8;\" x=\"250.394165\" xlink:href=\"#mc78bea78ca\" y=\"239.758125\"/>\n      </g>\n     </g>\n     <g id=\"text_4\">\n      <!-- 600 -->\n      <defs>\n       <path d=\"M 33.015625 40.375 \nQ 26.375 40.375 22.484375 35.828125 \nQ 18.609375 31.296875 18.609375 23.390625 \nQ 18.609375 15.53125 22.484375 10.953125 \nQ 26.375 6.390625 33.015625 6.390625 \nQ 39.65625 6.390625 43.53125 10.953125 \nQ 47.40625 15.53125 47.40625 23.390625 \nQ 47.40625 31.296875 43.53125 35.828125 \nQ 39.65625 40.375 33.015625 40.375 \nz\nM 52.59375 71.296875 \nL 52.59375 62.3125 \nQ 48.875 64.0625 45.09375 64.984375 \nQ 41.3125 65.921875 37.59375 65.921875 \nQ 27.828125 65.921875 22.671875 59.328125 \nQ 17.53125 52.734375 16.796875 39.40625 \nQ 19.671875 43.65625 24.015625 45.921875 \nQ 28.375 48.1875 33.59375 48.1875 \nQ 44.578125 48.1875 50.953125 41.515625 \nQ 57.328125 34.859375 57.328125 23.390625 \nQ 57.328125 12.15625 50.6875 5.359375 \nQ 44.046875 -1.421875 33.015625 -1.421875 \nQ 20.359375 -1.421875 13.671875 8.265625 \nQ 6.984375 17.96875 6.984375 36.375 \nQ 6.984375 53.65625 15.1875 63.9375 \nQ 23.390625 74.21875 37.203125 74.21875 \nQ 40.921875 74.21875 44.703125 73.484375 \nQ 48.484375 72.75 52.59375 71.296875 \nz\n\" id=\"DejaVuSans-54\"/>\n      </defs>\n      <g transform=\"translate(240.850415 254.356563)scale(0.1 -0.1)\">\n       <use xlink:href=\"#DejaVuSans-54\"/>\n       <use x=\"63.623047\" xlink:href=\"#DejaVuSans-48\"/>\n       <use x=\"127.246094\" xlink:href=\"#DejaVuSans-48\"/>\n      </g>\n     </g>\n    </g>\n    <g id=\"xtick_5\">\n     <g id=\"line2d_5\">\n      <g>\n       <use style=\"stroke:#000000;stroke-width:0.8;\" x=\"311.327826\" xlink:href=\"#mc78bea78ca\" y=\"239.758125\"/>\n      </g>\n     </g>\n     <g id=\"text_5\">\n      <!-- 800 -->\n      <defs>\n       <path d=\"M 31.78125 34.625 \nQ 24.75 34.625 20.71875 30.859375 \nQ 16.703125 27.09375 16.703125 20.515625 \nQ 16.703125 13.921875 20.71875 10.15625 \nQ 24.75 6.390625 31.78125 6.390625 \nQ 38.8125 6.390625 42.859375 10.171875 \nQ 46.921875 13.96875 46.921875 20.515625 \nQ 46.921875 27.09375 42.890625 30.859375 \nQ 38.875 34.625 31.78125 34.625 \nz\nM 21.921875 38.8125 \nQ 15.578125 40.375 12.03125 44.71875 \nQ 8.5 49.078125 8.5 55.328125 \nQ 8.5 64.0625 14.71875 69.140625 \nQ 20.953125 74.21875 31.78125 74.21875 \nQ 42.671875 74.21875 48.875 69.140625 \nQ 55.078125 64.0625 55.078125 55.328125 \nQ 55.078125 49.078125 51.53125 44.71875 \nQ 48 40.375 41.703125 38.8125 \nQ 48.828125 37.15625 52.796875 32.3125 \nQ 56.78125 27.484375 56.78125 20.515625 \nQ 56.78125 9.90625 50.3125 4.234375 \nQ 43.84375 -1.421875 31.78125 -1.421875 \nQ 19.734375 -1.421875 13.25 4.234375 \nQ 6.78125 9.90625 6.78125 20.515625 \nQ 6.78125 27.484375 10.78125 32.3125 \nQ 14.796875 37.15625 21.921875 38.8125 \nz\nM 18.3125 54.390625 \nQ 18.3125 48.734375 21.84375 45.5625 \nQ 25.390625 42.390625 31.78125 42.390625 \nQ 38.140625 42.390625 41.71875 45.5625 \nQ 45.3125 48.734375 45.3125 54.390625 \nQ 45.3125 60.0625 41.71875 63.234375 \nQ 38.140625 66.40625 31.78125 66.40625 \nQ 25.390625 66.40625 21.84375 63.234375 \nQ 18.3125 60.0625 18.3125 54.390625 \nz\n\" id=\"DejaVuSans-56\"/>\n      </defs>\n      <g transform=\"translate(301.784076 254.356563)scale(0.1 -0.1)\">\n       <use xlink:href=\"#DejaVuSans-56\"/>\n       <use x=\"63.623047\" xlink:href=\"#DejaVuSans-48\"/>\n       <use x=\"127.246094\" xlink:href=\"#DejaVuSans-48\"/>\n      </g>\n     </g>\n    </g>\n    <g id=\"xtick_6\">\n     <g id=\"line2d_6\">\n      <g>\n       <use style=\"stroke:#000000;stroke-width:0.8;\" x=\"372.261486\" xlink:href=\"#mc78bea78ca\" y=\"239.758125\"/>\n      </g>\n     </g>\n     <g id=\"text_6\">\n      <!-- 1000 -->\n      <defs>\n       <path d=\"M 12.40625 8.296875 \nL 28.515625 8.296875 \nL 28.515625 63.921875 \nL 10.984375 60.40625 \nL 10.984375 69.390625 \nL 28.421875 72.90625 \nL 38.28125 72.90625 \nL 38.28125 8.296875 \nL 54.390625 8.296875 \nL 54.390625 0 \nL 12.40625 0 \nz\n\" id=\"DejaVuSans-49\"/>\n      </defs>\n      <g transform=\"translate(359.536486 254.356563)scale(0.1 -0.1)\">\n       <use xlink:href=\"#DejaVuSans-49\"/>\n       <use x=\"63.623047\" xlink:href=\"#DejaVuSans-48\"/>\n       <use x=\"127.246094\" xlink:href=\"#DejaVuSans-48\"/>\n       <use x=\"190.869141\" xlink:href=\"#DejaVuSans-48\"/>\n      </g>\n     </g>\n    </g>\n   </g>\n   <g id=\"matplotlib.axis_2\">\n    <g id=\"ytick_1\">\n     <g id=\"line2d_7\">\n      <defs>\n       <path d=\"M 0 0 \nL -3.5 0 \n\" id=\"m4d64e533e2\" style=\"stroke:#000000;stroke-width:0.8;\"/>\n      </defs>\n      <g>\n       <use style=\"stroke:#000000;stroke-width:0.8;\" x=\"52.375\" xlink:href=\"#m4d64e533e2\" y=\"215.034212\"/>\n      </g>\n     </g>\n     <g id=\"text_7\">\n      <!-- 360000 -->\n      <defs>\n       <path d=\"M 40.578125 39.3125 \nQ 47.65625 37.796875 51.625 33 \nQ 55.609375 28.21875 55.609375 21.1875 \nQ 55.609375 10.40625 48.1875 4.484375 \nQ 40.765625 -1.421875 27.09375 -1.421875 \nQ 22.515625 -1.421875 17.65625 -0.515625 \nQ 12.796875 0.390625 7.625 2.203125 \nL 7.625 11.71875 \nQ 11.71875 9.328125 16.59375 8.109375 \nQ 21.484375 6.890625 26.8125 6.890625 \nQ 36.078125 6.890625 40.9375 10.546875 \nQ 45.796875 14.203125 45.796875 21.1875 \nQ 45.796875 27.640625 41.28125 31.265625 \nQ 36.765625 34.90625 28.71875 34.90625 \nL 20.21875 34.90625 \nL 20.21875 43.015625 \nL 29.109375 43.015625 \nQ 36.375 43.015625 40.234375 45.921875 \nQ 44.09375 48.828125 44.09375 54.296875 \nQ 44.09375 59.90625 40.109375 62.90625 \nQ 36.140625 65.921875 28.71875 65.921875 \nQ 24.65625 65.921875 20.015625 65.03125 \nQ 15.375 64.15625 9.8125 62.3125 \nL 9.8125 71.09375 \nQ 15.4375 72.65625 20.34375 73.4375 \nQ 25.25 74.21875 29.59375 74.21875 \nQ 40.828125 74.21875 47.359375 69.109375 \nQ 53.90625 64.015625 53.90625 55.328125 \nQ 53.90625 49.265625 50.4375 45.09375 \nQ 46.96875 40.921875 40.578125 39.3125 \nz\n\" id=\"DejaVuSans-51\"/>\n      </defs>\n      <g transform=\"translate(7.2 218.833431)scale(0.1 -0.1)\">\n       <use xlink:href=\"#DejaVuSans-51\"/>\n       <use x=\"63.623047\" xlink:href=\"#DejaVuSans-54\"/>\n       <use x=\"127.246094\" xlink:href=\"#DejaVuSans-48\"/>\n       <use x=\"190.869141\" xlink:href=\"#DejaVuSans-48\"/>\n       <use x=\"254.492188\" xlink:href=\"#DejaVuSans-48\"/>\n       <use x=\"318.115234\" xlink:href=\"#DejaVuSans-48\"/>\n      </g>\n     </g>\n    </g>\n    <g id=\"ytick_2\">\n     <g id=\"line2d_8\">\n      <g>\n       <use style=\"stroke:#000000;stroke-width:0.8;\" x=\"52.375\" xlink:href=\"#m4d64e533e2\" y=\"186.988561\"/>\n      </g>\n     </g>\n     <g id=\"text_8\">\n      <!-- 380000 -->\n      <g transform=\"translate(7.2 190.78778)scale(0.1 -0.1)\">\n       <use xlink:href=\"#DejaVuSans-51\"/>\n       <use x=\"63.623047\" xlink:href=\"#DejaVuSans-56\"/>\n       <use x=\"127.246094\" xlink:href=\"#DejaVuSans-48\"/>\n       <use x=\"190.869141\" xlink:href=\"#DejaVuSans-48\"/>\n       <use x=\"254.492188\" xlink:href=\"#DejaVuSans-48\"/>\n       <use x=\"318.115234\" xlink:href=\"#DejaVuSans-48\"/>\n      </g>\n     </g>\n    </g>\n    <g id=\"ytick_3\">\n     <g id=\"line2d_9\">\n      <g>\n       <use style=\"stroke:#000000;stroke-width:0.8;\" x=\"52.375\" xlink:href=\"#m4d64e533e2\" y=\"158.942911\"/>\n      </g>\n     </g>\n     <g id=\"text_9\">\n      <!-- 400000 -->\n      <g transform=\"translate(7.2 162.742129)scale(0.1 -0.1)\">\n       <use xlink:href=\"#DejaVuSans-52\"/>\n       <use x=\"63.623047\" xlink:href=\"#DejaVuSans-48\"/>\n       <use x=\"127.246094\" xlink:href=\"#DejaVuSans-48\"/>\n       <use x=\"190.869141\" xlink:href=\"#DejaVuSans-48\"/>\n       <use x=\"254.492188\" xlink:href=\"#DejaVuSans-48\"/>\n       <use x=\"318.115234\" xlink:href=\"#DejaVuSans-48\"/>\n      </g>\n     </g>\n    </g>\n    <g id=\"ytick_4\">\n     <g id=\"line2d_10\">\n      <g>\n       <use style=\"stroke:#000000;stroke-width:0.8;\" x=\"52.375\" xlink:href=\"#m4d64e533e2\" y=\"130.89726\"/>\n      </g>\n     </g>\n     <g id=\"text_10\">\n      <!-- 420000 -->\n      <g transform=\"translate(7.2 134.696479)scale(0.1 -0.1)\">\n       <use xlink:href=\"#DejaVuSans-52\"/>\n       <use x=\"63.623047\" xlink:href=\"#DejaVuSans-50\"/>\n       <use x=\"127.246094\" xlink:href=\"#DejaVuSans-48\"/>\n       <use x=\"190.869141\" xlink:href=\"#DejaVuSans-48\"/>\n       <use x=\"254.492188\" xlink:href=\"#DejaVuSans-48\"/>\n       <use x=\"318.115234\" xlink:href=\"#DejaVuSans-48\"/>\n      </g>\n     </g>\n    </g>\n    <g id=\"ytick_5\">\n     <g id=\"line2d_11\">\n      <g>\n       <use style=\"stroke:#000000;stroke-width:0.8;\" x=\"52.375\" xlink:href=\"#m4d64e533e2\" y=\"102.851609\"/>\n      </g>\n     </g>\n     <g id=\"text_11\">\n      <!-- 440000 -->\n      <g transform=\"translate(7.2 106.650828)scale(0.1 -0.1)\">\n       <use xlink:href=\"#DejaVuSans-52\"/>\n       <use x=\"63.623047\" xlink:href=\"#DejaVuSans-52\"/>\n       <use x=\"127.246094\" xlink:href=\"#DejaVuSans-48\"/>\n       <use x=\"190.869141\" xlink:href=\"#DejaVuSans-48\"/>\n       <use x=\"254.492188\" xlink:href=\"#DejaVuSans-48\"/>\n       <use x=\"318.115234\" xlink:href=\"#DejaVuSans-48\"/>\n      </g>\n     </g>\n    </g>\n    <g id=\"ytick_6\">\n     <g id=\"line2d_12\">\n      <g>\n       <use style=\"stroke:#000000;stroke-width:0.8;\" x=\"52.375\" xlink:href=\"#m4d64e533e2\" y=\"74.805959\"/>\n      </g>\n     </g>\n     <g id=\"text_12\">\n      <!-- 460000 -->\n      <g transform=\"translate(7.2 78.605177)scale(0.1 -0.1)\">\n       <use xlink:href=\"#DejaVuSans-52\"/>\n       <use x=\"63.623047\" xlink:href=\"#DejaVuSans-54\"/>\n       <use x=\"127.246094\" xlink:href=\"#DejaVuSans-48\"/>\n       <use x=\"190.869141\" xlink:href=\"#DejaVuSans-48\"/>\n       <use x=\"254.492188\" xlink:href=\"#DejaVuSans-48\"/>\n       <use x=\"318.115234\" xlink:href=\"#DejaVuSans-48\"/>\n      </g>\n     </g>\n    </g>\n    <g id=\"ytick_7\">\n     <g id=\"line2d_13\">\n      <g>\n       <use style=\"stroke:#000000;stroke-width:0.8;\" x=\"52.375\" xlink:href=\"#m4d64e533e2\" y=\"46.760308\"/>\n      </g>\n     </g>\n     <g id=\"text_13\">\n      <!-- 480000 -->\n      <g transform=\"translate(7.2 50.559527)scale(0.1 -0.1)\">\n       <use xlink:href=\"#DejaVuSans-52\"/>\n       <use x=\"63.623047\" xlink:href=\"#DejaVuSans-56\"/>\n       <use x=\"127.246094\" xlink:href=\"#DejaVuSans-48\"/>\n       <use x=\"190.869141\" xlink:href=\"#DejaVuSans-48\"/>\n       <use x=\"254.492188\" xlink:href=\"#DejaVuSans-48\"/>\n       <use x=\"318.115234\" xlink:href=\"#DejaVuSans-48\"/>\n      </g>\n     </g>\n    </g>\n   </g>\n   <g id=\"line2d_14\">\n    <path clip-path=\"url(#p0e11e5a23a)\" d=\"M 67.593182 92.705959 \nL 67.89785 103.870428 \nL 68.202518 62.501125 \nL 68.507187 89.608715 \nL 68.811855 68.609923 \nL 69.116523 96.983169 \nL 69.421192 89.451629 \nL 69.72586 32.201761 \nL 70.030528 122.908655 \nL 70.335197 92.828333 \nL 70.639865 149.636803 \nL 70.944533 82.155886 \nL 71.249201 123.864168 \nL 71.55387 88.491456 \nL 71.858538 93.178383 \nL 72.163206 62.807616 \nL 72.467875 113.304756 \nL 72.772543 86.447277 \nL 73.077211 122.917119 \nL 73.38188 99.93203 \nL 73.686548 57.519625 \nL 74.295885 162.352335 \nL 74.600553 69.761313 \nL 74.905221 92.526668 \nL 75.209889 174.38558 \nL 75.514558 65.455239 \nL 75.819226 157.898515 \nL 76.123894 133.00183 \nL 76.428563 137.966636 \nL 76.733231 153.537744 \nL 77.037899 204.790564 \nL 77.342568 127.641713 \nL 77.647236 182.154624 \nL 77.951904 181.843127 \nL 78.256572 109.370329 \nL 78.561241 149.764282 \nL 78.865909 136.462602 \nL 79.170577 130.523849 \nL 79.475246 138.976116 \nL 79.779914 186.471871 \nL 80.084582 161.5189 \nL 80.389251 85.623217 \nL 80.693919 176.680518 \nL 80.998587 134.468897 \nL 81.303256 184.12225 \nL 81.607924 122.329017 \nL 81.912592 183.986273 \nL 82.21726 99.936014 \nL 82.521929 185.963269 \nL 82.826597 204.521318 \nL 83.131265 141.923858 \nL 83.435934 198.96811 \nL 83.740602 186.33036 \nL 84.04527 188.969098 \nL 84.349939 145.333492 \nL 84.654607 187.752709 \nL 84.959275 93.960003 \nL 85.263943 130.371531 \nL 85.568612 150.330694 \nL 85.87328 113.584223 \nL 86.177948 192.73902 \nL 86.482617 173.36425 \nL 86.787285 167.666992 \nL 87.091953 159.355943 \nL 87.396622 211.312298 \nL 87.70129 210.51763 \nL 88.005958 185.411175 \nL 88.310627 212.507655 \nL 88.615295 201.684571 \nL 88.919963 50.528693 \nL 89.224631 63.237326 \nL 89.5293 155.940882 \nL 89.833968 59.133547 \nL 90.138636 169.421999 \nL 90.443305 118.509407 \nL 90.747973 204.391334 \nL 91.052641 129.691364 \nL 91.35731 192.746097 \nL 91.966646 78.543846 \nL 92.271314 172.257994 \nL 92.575983 218.864114 \nL 92.880651 193.887377 \nL 93.185319 92.144115 \nL 93.489988 80.74163 \nL 93.794656 100.526888 \nL 94.099324 171.963735 \nL 94.403993 155.475693 \nL 94.708661 148.604116 \nL 95.013329 196.971328 \nL 95.317998 162.603612 \nL 95.622666 189.679381 \nL 95.927334 124.377718 \nL 96.232002 194.239946 \nL 96.536671 106.057056 \nL 96.841339 133.720753 \nL 97.146007 137.28161 \nL 97.450676 186.000553 \nL 97.755344 170.682339 \nL 98.060012 205.11513 \nL 98.364681 208.276475 \nL 98.669349 213.33456 \nL 98.974017 205.291039 \nL 99.278686 183.255837 \nL 99.583354 190.061702 \nL 99.888022 95.663576 \nL 100.19269 142.07144 \nL 100.497359 144.169075 \nL 100.802027 154.643495 \nL 101.106695 155.110566 \nL 101.411364 113.754488 \nL 101.716032 191.438895 \nL 102.0207 188.499817 \nL 102.325369 212.056909 \nL 102.630037 33.347055 \nL 102.934705 173.810696 \nL 103.239373 210.635132 \nL 103.544042 185.400556 \nL 104.153378 203.303544 \nL 104.458047 195.44766 \nL 105.067383 192.680421 \nL 105.372052 161.282748 \nL 105.67672 178.716496 \nL 105.981388 43.55976 \nL 106.286057 178.601997 \nL 106.590725 165.043006 \nL 106.895393 212.979042 \nL 107.200061 172.9664 \nL 107.50473 183.162665 \nL 107.809398 174.528831 \nL 108.114066 205.548809 \nL 108.418735 140.659477 \nL 108.723403 174.671111 \nL 109.028071 110.0561 \nL 109.637408 189.522714 \nL 109.942076 190.157399 \nL 110.246744 217.021401 \nL 110.551413 203.625976 \nL 110.856081 196.269502 \nL 111.160749 177.234988 \nL 111.465418 183.97531 \nL 111.770086 174.128784 \nL 112.074754 173.062083 \nL 112.379423 152.146618 \nL 112.684091 205.540143 \nL 112.988759 171.038477 \nL 113.293428 208.299514 \nL 113.598096 167.598078 \nL 114.207432 216.34664 \nL 114.512101 179.916554 \nL 115.121437 216.144427 \nL 115.730774 190.366037 \nL 116.035442 184.804193 \nL 116.340111 216.405433 \nL 116.644779 216.385761 \nL 116.949447 182.783829 \nL 117.254115 219.47516 \nL 117.558784 213.89029 \nL 117.863452 166.905064 \nL 118.16812 219.540828 \nL 118.472789 197.909532 \nL 118.777457 220.670432 \nL 119.082125 208.101086 \nL 119.386794 208.571358 \nL 119.691462 173.415497 \nL 119.99613 216.988728 \nL 120.300799 194.848 \nL 120.605467 211.91501 \nL 120.910135 133.183236 \nL 121.214803 207.021927 \nL 121.519472 219.584112 \nL 121.82414 194.15729 \nL 122.128808 196.759302 \nL 122.433477 216.880469 \nL 122.738145 221.027272 \nL 123.347482 129.096128 \nL 123.65215 188.485716 \nL 123.956818 189.467053 \nL 124.261486 222.915864 \nL 124.566155 218.984403 \nL 125.175491 199.836316 \nL 125.48016 197.818488 \nL 125.784828 221.632398 \nL 126.089496 208.313013 \nL 126.698833 217.352735 \nL 127.003501 205.615159 \nL 127.30817 207.271699 \nL 127.612838 222.717762 \nL 127.917506 213.212916 \nL 128.222174 187.767263 \nL 128.526843 215.704441 \nL 129.136179 203.761971 \nL 129.440848 217.14013 \nL 129.745516 202.567186 \nL 130.050184 211.906216 \nL 130.354853 197.698033 \nL 130.659521 215.937146 \nL 130.964189 194.18819 \nL 131.268857 203.843035 \nL 131.573526 205.937337 \nL 131.878194 211.35253 \nL 132.182862 221.050775 \nL 132.487531 218.686885 \nL 133.096867 207.988585 \nL 133.401536 193.845402 \nL 133.706204 221.812353 \nL 134.010872 214.457235 \nL 134.315541 220.241451 \nL 134.620209 207.307295 \nL 134.924877 219.179756 \nL 135.229545 218.955142 \nL 135.534214 220.105064 \nL 135.838882 205.064106 \nL 136.14355 208.39898 \nL 136.448219 180.423086 \nL 136.752887 216.542515 \nL 137.057555 211.347525 \nL 137.362224 221.246031 \nL 137.666892 216.61887 \nL 137.97156 219.244253 \nL 138.276229 224.065493 \nL 138.580897 220.135398 \nL 138.885565 210.981264 \nL 139.190233 210.152373 \nL 139.494902 193.631769 \nL 139.79957 215.938687 \nL 140.104238 207.919983 \nL 140.408907 222.199989 \nL 140.713575 213.020543 \nL 141.018243 214.19379 \nL 141.322912 220.633836 \nL 141.62758 221.607903 \nL 141.932248 221.817 \nL 142.236916 220.503497 \nL 142.541585 221.470603 \nL 142.846253 216.971575 \nL 143.150921 193.287152 \nL 143.45559 212.370623 \nL 143.760258 217.441903 \nL 144.064926 206.896043 \nL 144.369595 222.422753 \nL 144.674263 217.90161 \nL 144.978931 216.792702 \nL 145.2836 210.686412 \nL 145.588268 215.47849 \nL 145.892936 211.531185 \nL 146.197604 222.423118 \nL 146.502273 212.897507 \nL 146.806941 217.67977 \nL 147.111609 220.271163 \nL 147.416278 208.441374 \nL 148.025614 220.071649 \nL 148.330283 220.938913 \nL 148.634951 224.801268 \nL 148.939619 222.345338 \nL 149.244287 210.419643 \nL 149.548956 219.266588 \nL 149.853624 217.178692 \nL 150.158292 222.116342 \nL 150.462961 218.160599 \nL 150.767629 207.356499 \nL 151.072297 222.13273 \nL 151.376966 216.607726 \nL 151.681634 204.668538 \nL 151.986302 223.195838 \nL 152.290971 214.473716 \nL 152.595639 215.344309 \nL 152.900307 222.27041 \nL 153.204975 211.752684 \nL 153.509644 223.535595 \nL 153.814312 214.852684 \nL 154.11898 219.343197 \nL 154.423649 216.133783 \nL 154.728317 221.786211 \nL 155.032985 219.484479 \nL 155.337654 223.107457 \nL 155.642322 212.987273 \nL 155.94699 219.747177 \nL 156.251658 210.554899 \nL 156.556327 221.597709 \nL 156.860995 220.04463 \nL 157.165663 220.356759 \nL 157.470332 222.696491 \nL 157.775 221.801104 \nL 158.079668 221.460177 \nL 158.384337 219.615344 \nL 158.689005 210.81447 \nL 158.993673 198.121134 \nL 159.298342 219.107649 \nL 159.60301 205.813619 \nL 159.907678 222.648019 \nL 160.212346 216.64437 \nL 160.517015 222.713205 \nL 160.821683 222.135124 \nL 161.126351 219.322212 \nL 161.43102 220.750131 \nL 161.735688 206.881156 \nL 162.040356 219.642054 \nL 162.345025 221.649636 \nL 162.649693 215.270119 \nL 163.259029 221.760987 \nL 163.563698 218.693769 \nL 163.868366 219.977359 \nL 164.173034 208.604963 \nL 164.782371 220.365188 \nL 165.087039 220.195446 \nL 165.391708 219.669368 \nL 165.696376 217.028402 \nL 166.001044 213.377519 \nL 166.305713 221.340405 \nL 166.610381 221.343744 \nL 166.915049 216.56917 \nL 167.219717 223.198881 \nL 167.524386 216.624036 \nL 167.829054 221.877505 \nL 168.133722 207.845727 \nL 168.438391 219.49287 \nL 168.743059 222.789294 \nL 169.047727 221.151611 \nL 169.352396 215.533891 \nL 169.657064 214.467643 \nL 169.961732 220.255036 \nL 170.2664 219.496122 \nL 170.571069 219.901061 \nL 170.875737 222.76822 \nL 171.180405 221.349127 \nL 171.789742 219.971854 \nL 172.09441 222.473257 \nL 172.399079 223.449607 \nL 172.703747 220.998369 \nL 173.008415 212.934264 \nL 173.313084 220.418887 \nL 173.92242 219.484701 \nL 174.227088 221.271908 \nL 174.836425 219.717953 \nL 175.141093 222.506428 \nL 175.445762 219.710895 \nL 175.75043 224.591298 \nL 176.055098 216.575786 \nL 176.359767 223.895262 \nL 176.664435 223.29538 \nL 176.969103 219.013299 \nL 177.273771 218.294012 \nL 177.57844 221.750617 \nL 177.883108 221.903594 \nL 178.187776 219.52348 \nL 178.492445 223.533336 \nL 178.797113 220.381859 \nL 179.101781 221.621077 \nL 179.711118 222.097727 \nL 180.015786 219.729769 \nL 180.320455 221.430757 \nL 180.625123 222.259027 \nL 180.929791 224.668626 \nL 181.234459 224.133761 \nL 181.539128 222.384163 \nL 181.843796 221.511323 \nL 182.148464 216.823715 \nL 182.757801 223.162417 \nL 183.062469 222.203968 \nL 183.367138 222.596099 \nL 183.671806 218.864197 \nL 183.976474 219.330056 \nL 184.281143 220.215102 \nL 184.585811 221.960959 \nL 184.890479 224.863505 \nL 185.195147 220.712469 \nL 185.804484 221.507132 \nL 186.109152 220.569105 \nL 186.413821 221.470423 \nL 186.718489 223.712686 \nL 187.023157 222.465194 \nL 187.327826 224.083585 \nL 187.632494 221.184587 \nL 187.937162 223.830316 \nL 188.24183 221.525863 \nL 188.546499 220.104524 \nL 188.851167 221.253794 \nL 189.155835 220.065935 \nL 189.460504 218.202768 \nL 189.765172 222.372677 \nL 190.06984 223.135196 \nL 190.374509 218.24586 \nL 190.679177 221.414181 \nL 190.983845 221.971954 \nL 191.288514 219.164325 \nL 191.593182 220.979469 \nL 191.89785 221.509042 \nL 192.202518 220.518745 \nL 192.507187 223.183564 \nL 192.811855 222.215977 \nL 193.116523 224.327906 \nL 193.421192 221.626141 \nL 193.72586 223.005507 \nL 194.030528 220.019594 \nL 194.335197 222.834684 \nL 194.639865 221.704201 \nL 195.249201 220.489023 \nL 195.55387 221.856873 \nL 195.858538 222.646015 \nL 196.163206 219.528184 \nL 196.467875 218.415493 \nL 196.772543 222.144244 \nL 197.077211 219.174102 \nL 197.38188 221.258696 \nL 197.686548 220.214068 \nL 197.991216 220.474071 \nL 198.295885 222.283518 \nL 198.600553 222.424032 \nL 198.905221 221.340212 \nL 199.209889 218.945071 \nL 199.514558 220.299363 \nL 199.819226 218.295829 \nL 200.428563 219.76655 \nL 200.733231 221.483692 \nL 201.037899 224.501042 \nL 201.342568 220.131292 \nL 201.951904 222.416212 \nL 202.256572 220.162709 \nL 202.561241 221.695644 \nL 202.865909 221.425186 \nL 203.170577 223.655991 \nL 203.475246 218.804182 \nL 203.779914 223.566468 \nL 204.084582 223.867823 \nL 204.389251 221.537141 \nL 204.693919 222.123394 \nL 204.998587 223.400248 \nL 205.607924 221.254239 \nL 205.912592 225.733477 \nL 206.21726 220.043369 \nL 206.521929 222.66693 \nL 206.826597 222.435254 \nL 207.131265 219.843004 \nL 207.740602 223.679993 \nL 208.04527 223.200666 \nL 208.349939 223.184798 \nL 208.654607 219.563414 \nL 208.959275 218.234189 \nL 209.263943 223.133112 \nL 209.568612 219.275983 \nL 209.87328 223.236608 \nL 210.177948 219.230826 \nL 210.787285 220.266925 \nL 211.091953 219.901248 \nL 211.396622 222.174078 \nL 211.70129 222.829181 \nL 212.005958 222.031684 \nL 212.310627 219.454214 \nL 212.615295 222.973034 \nL 212.919963 223.319004 \nL 213.224631 222.780871 \nL 213.5293 221.593338 \nL 213.833968 223.558705 \nL 214.138636 221.567887 \nL 214.443305 223.20212 \nL 214.747973 220.833892 \nL 215.052641 220.467715 \nL 215.661978 220.512642 \nL 215.966646 220.382287 \nL 216.271314 222.135675 \nL 216.575983 222.664057 \nL 216.880651 221.830151 \nL 217.185319 222.415988 \nL 217.489988 221.884844 \nL 217.794656 224.112259 \nL 218.099324 223.753778 \nL 218.403993 221.082237 \nL 218.708661 221.580514 \nL 219.013329 223.352514 \nL 219.317998 222.84537 \nL 219.622666 220.379976 \nL 219.927334 224.365459 \nL 220.536671 222.565953 \nL 220.841339 221.810886 \nL 221.146007 220.00731 \nL 221.450676 221.641578 \nL 221.755344 222.224029 \nL 222.060012 221.472863 \nL 222.364681 222.317539 \nL 222.669349 220.762357 \nL 222.974017 222.444365 \nL 223.278686 222.733718 \nL 223.583354 221.317175 \nL 223.888022 221.687673 \nL 224.497359 220.299369 \nL 224.802027 225.272756 \nL 225.106695 221.830746 \nL 225.411364 221.061903 \nL 225.716032 221.959574 \nL 226.0207 221.262962 \nL 226.325369 223.530784 \nL 226.630037 220.656294 \nL 226.934705 221.218938 \nL 227.239373 222.510485 \nL 227.544042 221.06057 \nL 227.84871 222.714109 \nL 228.153378 221.328851 \nL 228.458047 223.296439 \nL 228.762715 222.567336 \nL 229.372052 219.820041 \nL 229.67672 221.812744 \nL 230.286057 220.278948 \nL 230.590725 222.299468 \nL 230.895393 221.669017 \nL 231.200061 220.737204 \nL 231.50473 221.139864 \nL 231.809398 223.238245 \nL 232.114066 219.298312 \nL 232.418735 219.737505 \nL 232.723403 223.33714 \nL 233.028071 220.161976 \nL 233.33274 220.962015 \nL 233.637408 221.38271 \nL 233.942076 221.499647 \nL 234.246744 223.685506 \nL 234.856081 218.983264 \nL 235.465418 224.318474 \nL 235.770086 222.103129 \nL 236.074754 223.27844 \nL 236.379423 223.145111 \nL 236.684091 221.087617 \nL 236.988759 223.052071 \nL 237.293428 219.297331 \nL 237.598096 224.923771 \nL 237.902764 222.309097 \nL 238.207432 222.377449 \nL 238.512101 221.879797 \nL 238.816769 220.421336 \nL 239.121437 221.268005 \nL 239.426106 220.625365 \nL 239.730774 224.049431 \nL 240.035442 224.892267 \nL 240.340111 222.898167 \nL 240.644779 223.471131 \nL 240.949447 222.932834 \nL 241.254115 223.549217 \nL 241.558784 220.887665 \nL 241.863452 219.20987 \nL 242.16812 223.478607 \nL 242.472789 222.007578 \nL 242.777457 224.626914 \nL 243.082125 223.845255 \nL 243.386794 220.861058 \nL 243.691462 224.610714 \nL 243.99613 222.276283 \nL 244.300799 223.12745 \nL 244.605467 225.95404 \nL 244.910135 222.327033 \nL 245.214803 221.399429 \nL 245.519472 223.029192 \nL 245.82414 220.75694 \nL 246.128808 221.558785 \nL 246.433477 224.890487 \nL 246.738145 223.147767 \nL 247.042813 219.557869 \nL 247.347482 222.155865 \nL 247.65215 223.784737 \nL 247.956818 222.646376 \nL 248.261486 224.196186 \nL 248.566155 222.955515 \nL 248.870823 224.647671 \nL 249.48016 222.339287 \nL 249.784828 223.331061 \nL 250.394165 221.265426 \nL 250.698833 224.488966 \nL 251.003501 224.152616 \nL 251.30817 221.519169 \nL 251.612838 221.386108 \nL 251.917506 222.26567 \nL 252.222174 223.722536 \nL 252.526843 223.861637 \nL 252.831511 222.330752 \nL 253.136179 222.554669 \nL 253.440848 222.294901 \nL 253.745516 220.965863 \nL 254.050184 224.295018 \nL 254.354853 223.790967 \nL 254.659521 226.004086 \nL 254.964189 221.683163 \nL 255.268857 223.611835 \nL 255.878194 221.729376 \nL 256.182862 221.89289 \nL 256.487531 224.197516 \nL 256.792199 224.163764 \nL 257.096867 226.176284 \nL 257.401536 225.029538 \nL 257.706204 225.01498 \nL 258.010872 225.622605 \nL 258.620209 221.550747 \nL 258.924877 222.388126 \nL 259.229545 222.6417 \nL 259.534214 222.540336 \nL 259.838882 223.331102 \nL 260.14355 222.163003 \nL 260.448219 224.589318 \nL 260.752887 223.419231 \nL 261.057555 220.365698 \nL 261.362224 224.179136 \nL 261.666892 223.210592 \nL 261.97156 219.7489 \nL 262.276229 223.663293 \nL 262.580897 223.811098 \nL 262.885565 223.203576 \nL 263.190233 222.999364 \nL 263.494902 224.588361 \nL 263.79957 222.067977 \nL 264.104238 222.252875 \nL 264.713575 223.801658 \nL 265.018243 223.13993 \nL 265.322912 223.77269 \nL 265.62758 222.750027 \nL 265.932248 223.181403 \nL 266.236916 223.913991 \nL 266.541585 223.794083 \nL 266.846253 225.30964 \nL 267.150921 224.719625 \nL 267.45559 225.293133 \nL 267.760258 220.950425 \nL 268.064926 222.339133 \nL 268.369595 226.131557 \nL 268.674263 223.328087 \nL 268.978931 225.290744 \nL 269.2836 223.111746 \nL 269.588268 221.927649 \nL 270.197604 225.326653 \nL 270.502273 224.541459 \nL 270.806941 221.608605 \nL 271.111609 224.864938 \nL 271.416278 224.517789 \nL 271.720946 222.842339 \nL 272.025614 224.171812 \nL 272.330283 222.899817 \nL 272.634951 220.551407 \nL 272.939619 225.979649 \nL 273.244287 224.291383 \nL 273.548956 223.906985 \nL 273.853624 221.643597 \nL 274.462961 225.552183 \nL 275.072297 222.63382 \nL 275.376966 221.785457 \nL 275.681634 224.876328 \nL 275.986302 221.889347 \nL 276.290971 224.158624 \nL 276.595639 223.731982 \nL 276.900307 222.991789 \nL 277.204975 224.146834 \nL 277.509644 223.008773 \nL 277.814312 221.024825 \nL 278.11898 217.999289 \nL 278.728317 227.205992 \nL 279.032985 221.721908 \nL 279.337654 224.057954 \nL 279.642322 222.150583 \nL 279.94699 223.222049 \nL 280.251658 221.643797 \nL 280.556327 218.38438 \nL 280.860995 223.427896 \nL 281.165663 223.899782 \nL 281.470332 221.936177 \nL 281.775 223.634539 \nL 282.079668 224.132278 \nL 282.384337 226.001739 \nL 282.689005 222.706701 \nL 282.993673 224.351866 \nL 283.298342 219.847131 \nL 283.60301 222.443114 \nL 283.907678 223.656738 \nL 284.212346 221.722534 \nL 284.517015 224.118161 \nL 284.821683 221.074802 \nL 285.126351 221.398942 \nL 285.43102 220.020022 \nL 286.040356 224.873034 \nL 286.649693 224.325434 \nL 286.954361 221.933876 \nL 287.259029 225.142508 \nL 287.563698 226.092106 \nL 287.868366 222.560431 \nL 288.173034 221.527257 \nL 288.477703 226.099187 \nL 288.782371 223.811237 \nL 289.087039 223.514493 \nL 289.391708 218.816897 \nL 289.696376 219.465733 \nL 290.001044 224.478829 \nL 290.305713 222.108349 \nL 290.610381 224.053206 \nL 290.915049 224.391811 \nL 291.219717 223.801595 \nL 291.524386 224.272383 \nL 291.829054 224.307618 \nL 292.133722 225.874578 \nL 292.438391 222.63508 \nL 292.743059 224.794479 \nL 293.047727 221.092793 \nL 293.352396 219.426656 \nL 293.657064 224.193985 \nL 293.961732 224.31254 \nL 294.2664 222.205169 \nL 294.875737 224.188048 \nL 295.180405 221.160244 \nL 295.485074 226.070119 \nL 295.789742 224.501409 \nL 296.09441 224.853783 \nL 296.399079 226.160646 \nL 296.703747 222.640985 \nL 297.008415 225.758899 \nL 297.313084 221.46911 \nL 297.617752 223.039703 \nL 297.92242 222.467768 \nL 298.227088 219.772109 \nL 298.531757 222.381003 \nL 298.836425 219.468854 \nL 299.141093 221.194245 \nL 299.445762 222.14951 \nL 299.75043 220.31391 \nL 300.055098 219.997709 \nL 300.359767 221.85853 \nL 300.664435 223.019001 \nL 300.969103 225.623403 \nL 301.273771 220.612584 \nL 301.57844 220.792308 \nL 301.883108 221.128359 \nL 302.187776 219.853199 \nL 302.492445 224.815545 \nL 302.797113 221.501781 \nL 303.101781 224.504995 \nL 303.40645 225.486319 \nL 303.711118 224.099983 \nL 304.015786 222.05671 \nL 304.320455 222.940415 \nL 304.625123 226.219502 \nL 305.234459 221.634092 \nL 305.539128 224.874776 \nL 305.843796 223.987048 \nL 306.148464 223.629247 \nL 306.453133 225.388519 \nL 306.757801 225.572445 \nL 307.062469 221.695537 \nL 307.367138 224.179154 \nL 307.671806 221.754852 \nL 307.976474 223.107063 \nL 308.281143 225.922288 \nL 308.585811 225.232664 \nL 308.890479 223.138929 \nL 309.195147 221.992344 \nL 309.499816 225.174586 \nL 310.109152 219.984283 \nL 310.718489 224.721193 \nL 311.023157 220.69825 \nL 311.327826 222.127075 \nL 311.632494 224.129846 \nL 311.937162 222.749731 \nL 312.24183 224.66803 \nL 312.546499 225.832659 \nL 312.851167 223.693744 \nL 313.155835 223.094753 \nL 313.460504 222.749695 \nL 313.765172 222.97989 \nL 314.06984 221.752496 \nL 314.374509 222.27042 \nL 314.679177 224.756198 \nL 314.983845 221.707223 \nL 315.288514 224.695573 \nL 315.593182 223.383537 \nL 315.89785 223.828594 \nL 316.202518 225.528303 \nL 316.507187 223.771885 \nL 316.811855 223.78485 \nL 317.116523 221.948416 \nL 317.421192 226.954561 \nL 318.030528 223.55863 \nL 318.335197 228.209225 \nL 318.639865 225.044523 \nL 318.944533 224.480918 \nL 319.249201 224.570672 \nL 319.55387 223.203235 \nL 319.858538 223.65777 \nL 320.163206 223.669541 \nL 320.467875 223.969143 \nL 320.772543 223.598314 \nL 321.077211 220.370526 \nL 321.686548 223.123938 \nL 321.991216 223.409249 \nL 322.295885 225.250897 \nL 322.905221 222.318284 \nL 323.209889 223.670713 \nL 323.514558 222.941777 \nL 323.819226 222.846953 \nL 324.123894 226.19477 \nL 324.428563 222.119391 \nL 324.733231 220.769154 \nL 325.037899 221.183515 \nL 325.342568 223.414288 \nL 325.647236 223.660942 \nL 325.951904 221.366004 \nL 326.256572 222.939459 \nL 326.561241 222.839129 \nL 326.865909 224.183819 \nL 327.170577 221.582643 \nL 327.475246 224.86893 \nL 327.779914 221.925387 \nL 328.084582 224.801564 \nL 328.389251 223.280253 \nL 328.693919 222.672438 \nL 328.998587 222.781691 \nL 329.303256 221.434416 \nL 329.607924 227.046843 \nL 329.912592 225.442475 \nL 330.21726 226.504222 \nL 330.521929 218.923311 \nL 330.826597 226.884841 \nL 331.131265 222.323936 \nL 331.435934 223.071692 \nL 331.740602 224.680216 \nL 332.04527 223.670623 \nL 332.349939 224.99104 \nL 332.654607 223.734349 \nL 332.959275 219.298404 \nL 333.263943 223.980763 \nL 333.568612 225.60504 \nL 333.87328 222.670403 \nL 334.177948 223.559742 \nL 334.482617 225.991926 \nL 334.787285 219.865223 \nL 335.091953 225.183707 \nL 335.396622 226.105644 \nL 335.70129 223.669061 \nL 336.005958 222.815878 \nL 336.310627 219.261726 \nL 336.615295 222.956169 \nL 336.919963 223.453936 \nL 337.5293 222.866629 \nL 337.833968 222.309398 \nL 338.138636 222.834037 \nL 338.443305 223.815312 \nL 338.747973 227.102537 \nL 339.052641 220.643101 \nL 339.661978 223.65722 \nL 339.966646 223.225985 \nL 340.271314 219.378857 \nL 340.575983 222.570331 \nL 340.880651 224.282528 \nL 341.185319 226.805022 \nL 341.489988 217.928882 \nL 341.794656 221.343446 \nL 342.099324 222.835646 \nL 342.403993 222.133994 \nL 342.708661 219.047755 \nL 343.013329 227.037934 \nL 343.317998 222.131045 \nL 343.927334 224.467261 \nL 344.232002 226.937896 \nL 344.536671 222.717577 \nL 344.841339 222.701293 \nL 345.146007 222.541917 \nL 345.450676 224.158694 \nL 345.755344 222.834867 \nL 346.060012 225.554532 \nL 346.364681 224.266232 \nL 346.669349 223.751156 \nL 346.974017 224.69875 \nL 347.278686 224.42671 \nL 347.583354 225.210504 \nL 347.888022 225.168218 \nL 348.19269 226.915042 \nL 348.497359 227.378474 \nL 348.802027 223.149877 \nL 349.106695 226.818151 \nL 349.411364 221.514223 \nL 349.716032 223.939189 \nL 350.0207 224.464544 \nL 350.325369 224.339944 \nL 350.630037 226.156492 \nL 350.934705 225.270615 \nL 351.239373 226.796826 \nL 351.544042 226.389998 \nL 351.84871 222.101385 \nL 352.153378 226.719701 \nL 352.458047 226.926927 \nL 352.762715 223.770771 \nL 353.067383 224.461199 \nL 353.372052 223.651717 \nL 353.67672 221.271502 \nL 353.981388 226.535208 \nL 354.286057 228.012501 \nL 354.590725 224.957891 \nL 354.895393 229.874489 \nL 355.200061 225.774283 \nL 355.50473 224.950236 \nL 355.809398 228.592245 \nL 356.114066 226.559039 \nL 356.418735 227.278961 \nL 356.723403 223.659661 \nL 357.028071 223.021103 \nL 357.33274 226.184089 \nL 357.637408 225.507237 \nL 357.942076 223.194766 \nL 358.246744 226.17365 \nL 358.551413 223.818484 \nL 358.856081 222.398084 \nL 359.160749 225.07145 \nL 359.465418 225.257968 \nL 359.770086 227.04723 \nL 360.074754 220.815403 \nL 360.379423 225.05042 \nL 360.684091 222.522131 \nL 360.988759 222.035965 \nL 361.293428 229.752189 \nL 361.598096 225.745937 \nL 361.902764 226.989759 \nL 362.207432 225.448788 \nL 362.512101 225.932228 \nL 363.121437 222.547124 \nL 363.426106 226.081846 \nL 363.730774 225.712104 \nL 364.035442 228.448896 \nL 364.340111 225.797878 \nL 364.644779 224.436373 \nL 364.949447 225.653125 \nL 365.254115 222.173771 \nL 365.558784 224.002731 \nL 365.863452 228.618757 \nL 366.777457 223.105138 \nL 367.082125 227.022356 \nL 367.386794 227.636247 \nL 367.691462 222.887767 \nL 367.99613 226.778392 \nL 368.300799 224.007126 \nL 368.605467 224.598975 \nL 368.910135 223.855711 \nL 369.214803 226.499389 \nL 369.519472 223.989423 \nL 369.82414 225.826 \nL 370.128808 224.756359 \nL 370.433477 222.575605 \nL 370.738145 224.272523 \nL 371.042813 222.718608 \nL 371.956818 228.690306 \nL 371.956818 228.690306 \n\" style=\"fill:none;stroke:#1f77b4;stroke-linecap:square;stroke-width:1.5;\"/>\n   </g>\n   <g id=\"patch_3\">\n    <path d=\"M 52.375 239.758125 \nL 52.375 22.318125 \n\" style=\"fill:none;stroke:#000000;stroke-linecap:square;stroke-linejoin:miter;stroke-width:0.8;\"/>\n   </g>\n   <g id=\"patch_4\">\n    <path d=\"M 387.175 239.758125 \nL 387.175 22.318125 \n\" style=\"fill:none;stroke:#000000;stroke-linecap:square;stroke-linejoin:miter;stroke-width:0.8;\"/>\n   </g>\n   <g id=\"patch_5\">\n    <path d=\"M 52.375 239.758125 \nL 387.175 239.758125 \n\" style=\"fill:none;stroke:#000000;stroke-linecap:square;stroke-linejoin:miter;stroke-width:0.8;\"/>\n   </g>\n   <g id=\"patch_6\">\n    <path d=\"M 52.375 22.318125 \nL 387.175 22.318125 \n\" style=\"fill:none;stroke:#000000;stroke-linecap:square;stroke-linejoin:miter;stroke-width:0.8;\"/>\n   </g>\n   <g id=\"text_14\">\n    <!-- Negative ELBO -->\n    <defs>\n     <path d=\"M 9.8125 72.90625 \nL 23.09375 72.90625 \nL 55.421875 11.921875 \nL 55.421875 72.90625 \nL 64.984375 72.90625 \nL 64.984375 0 \nL 51.703125 0 \nL 19.390625 60.984375 \nL 19.390625 0 \nL 9.8125 0 \nz\n\" id=\"DejaVuSans-78\"/>\n     <path d=\"M 56.203125 29.59375 \nL 56.203125 25.203125 \nL 14.890625 25.203125 \nQ 15.484375 15.921875 20.484375 11.0625 \nQ 25.484375 6.203125 34.421875 6.203125 \nQ 39.59375 6.203125 44.453125 7.46875 \nQ 49.3125 8.734375 54.109375 11.28125 \nL 54.109375 2.78125 \nQ 49.265625 0.734375 44.1875 -0.34375 \nQ 39.109375 -1.421875 33.890625 -1.421875 \nQ 20.796875 -1.421875 13.15625 6.1875 \nQ 5.515625 13.8125 5.515625 26.8125 \nQ 5.515625 40.234375 12.765625 48.109375 \nQ 20.015625 56 32.328125 56 \nQ 43.359375 56 49.78125 48.890625 \nQ 56.203125 41.796875 56.203125 29.59375 \nz\nM 47.21875 32.234375 \nQ 47.125 39.59375 43.09375 43.984375 \nQ 39.0625 48.390625 32.421875 48.390625 \nQ 24.90625 48.390625 20.390625 44.140625 \nQ 15.875 39.890625 15.1875 32.171875 \nz\n\" id=\"DejaVuSans-101\"/>\n     <path d=\"M 45.40625 27.984375 \nQ 45.40625 37.75 41.375 43.109375 \nQ 37.359375 48.484375 30.078125 48.484375 \nQ 22.859375 48.484375 18.828125 43.109375 \nQ 14.796875 37.75 14.796875 27.984375 \nQ 14.796875 18.265625 18.828125 12.890625 \nQ 22.859375 7.515625 30.078125 7.515625 \nQ 37.359375 7.515625 41.375 12.890625 \nQ 45.40625 18.265625 45.40625 27.984375 \nz\nM 54.390625 6.78125 \nQ 54.390625 -7.171875 48.1875 -13.984375 \nQ 42 -20.796875 29.203125 -20.796875 \nQ 24.46875 -20.796875 20.265625 -20.09375 \nQ 16.0625 -19.390625 12.109375 -17.921875 \nL 12.109375 -9.1875 \nQ 16.0625 -11.328125 19.921875 -12.34375 \nQ 23.78125 -13.375 27.78125 -13.375 \nQ 36.625 -13.375 41.015625 -8.765625 \nQ 45.40625 -4.15625 45.40625 5.171875 \nL 45.40625 9.625 \nQ 42.625 4.78125 38.28125 2.390625 \nQ 33.9375 0 27.875 0 \nQ 17.828125 0 11.671875 7.65625 \nQ 5.515625 15.328125 5.515625 27.984375 \nQ 5.515625 40.671875 11.671875 48.328125 \nQ 17.828125 56 27.875 56 \nQ 33.9375 56 38.28125 53.609375 \nQ 42.625 51.21875 45.40625 46.390625 \nL 45.40625 54.6875 \nL 54.390625 54.6875 \nz\n\" id=\"DejaVuSans-103\"/>\n     <path d=\"M 34.28125 27.484375 \nQ 23.390625 27.484375 19.1875 25 \nQ 14.984375 22.515625 14.984375 16.5 \nQ 14.984375 11.71875 18.140625 8.90625 \nQ 21.296875 6.109375 26.703125 6.109375 \nQ 34.1875 6.109375 38.703125 11.40625 \nQ 43.21875 16.703125 43.21875 25.484375 \nL 43.21875 27.484375 \nz\nM 52.203125 31.203125 \nL 52.203125 0 \nL 43.21875 0 \nL 43.21875 8.296875 \nQ 40.140625 3.328125 35.546875 0.953125 \nQ 30.953125 -1.421875 24.3125 -1.421875 \nQ 15.921875 -1.421875 10.953125 3.296875 \nQ 6 8.015625 6 15.921875 \nQ 6 25.140625 12.171875 29.828125 \nQ 18.359375 34.515625 30.609375 34.515625 \nL 43.21875 34.515625 \nL 43.21875 35.40625 \nQ 43.21875 41.609375 39.140625 45 \nQ 35.0625 48.390625 27.6875 48.390625 \nQ 23 48.390625 18.546875 47.265625 \nQ 14.109375 46.140625 10.015625 43.890625 \nL 10.015625 52.203125 \nQ 14.9375 54.109375 19.578125 55.046875 \nQ 24.21875 56 28.609375 56 \nQ 40.484375 56 46.34375 49.84375 \nQ 52.203125 43.703125 52.203125 31.203125 \nz\n\" id=\"DejaVuSans-97\"/>\n     <path d=\"M 18.3125 70.21875 \nL 18.3125 54.6875 \nL 36.8125 54.6875 \nL 36.8125 47.703125 \nL 18.3125 47.703125 \nL 18.3125 18.015625 \nQ 18.3125 11.328125 20.140625 9.421875 \nQ 21.96875 7.515625 27.59375 7.515625 \nL 36.8125 7.515625 \nL 36.8125 0 \nL 27.59375 0 \nQ 17.1875 0 13.234375 3.875 \nQ 9.28125 7.765625 9.28125 18.015625 \nL 9.28125 47.703125 \nL 2.6875 47.703125 \nL 2.6875 54.6875 \nL 9.28125 54.6875 \nL 9.28125 70.21875 \nz\n\" id=\"DejaVuSans-116\"/>\n     <path d=\"M 9.421875 54.6875 \nL 18.40625 54.6875 \nL 18.40625 0 \nL 9.421875 0 \nz\nM 9.421875 75.984375 \nL 18.40625 75.984375 \nL 18.40625 64.59375 \nL 9.421875 64.59375 \nz\n\" id=\"DejaVuSans-105\"/>\n     <path d=\"M 2.984375 54.6875 \nL 12.5 54.6875 \nL 29.59375 8.796875 \nL 46.6875 54.6875 \nL 56.203125 54.6875 \nL 35.6875 0 \nL 23.484375 0 \nz\n\" id=\"DejaVuSans-118\"/>\n     <path id=\"DejaVuSans-32\"/>\n     <path d=\"M 9.8125 72.90625 \nL 55.90625 72.90625 \nL 55.90625 64.59375 \nL 19.671875 64.59375 \nL 19.671875 43.015625 \nL 54.390625 43.015625 \nL 54.390625 34.71875 \nL 19.671875 34.71875 \nL 19.671875 8.296875 \nL 56.78125 8.296875 \nL 56.78125 0 \nL 9.8125 0 \nz\n\" id=\"DejaVuSans-69\"/>\n     <path d=\"M 9.8125 72.90625 \nL 19.671875 72.90625 \nL 19.671875 8.296875 \nL 55.171875 8.296875 \nL 55.171875 0 \nL 9.8125 0 \nz\n\" id=\"DejaVuSans-76\"/>\n     <path d=\"M 19.671875 34.8125 \nL 19.671875 8.109375 \nL 35.5 8.109375 \nQ 43.453125 8.109375 47.28125 11.40625 \nQ 51.125 14.703125 51.125 21.484375 \nQ 51.125 28.328125 47.28125 31.5625 \nQ 43.453125 34.8125 35.5 34.8125 \nz\nM 19.671875 64.796875 \nL 19.671875 42.828125 \nL 34.28125 42.828125 \nQ 41.5 42.828125 45.03125 45.53125 \nQ 48.578125 48.25 48.578125 53.8125 \nQ 48.578125 59.328125 45.03125 62.0625 \nQ 41.5 64.796875 34.28125 64.796875 \nz\nM 9.8125 72.90625 \nL 35.015625 72.90625 \nQ 46.296875 72.90625 52.390625 68.21875 \nQ 58.5 63.53125 58.5 54.890625 \nQ 58.5 48.1875 55.375 44.234375 \nQ 52.25 40.28125 46.1875 39.3125 \nQ 53.46875 37.75 57.5 32.78125 \nQ 61.53125 27.828125 61.53125 20.40625 \nQ 61.53125 10.640625 54.890625 5.3125 \nQ 48.25 0 35.984375 0 \nL 9.8125 0 \nz\n\" id=\"DejaVuSans-66\"/>\n     <path d=\"M 39.40625 66.21875 \nQ 28.65625 66.21875 22.328125 58.203125 \nQ 16.015625 50.203125 16.015625 36.375 \nQ 16.015625 22.609375 22.328125 14.59375 \nQ 28.65625 6.59375 39.40625 6.59375 \nQ 50.140625 6.59375 56.421875 14.59375 \nQ 62.703125 22.609375 62.703125 36.375 \nQ 62.703125 50.203125 56.421875 58.203125 \nQ 50.140625 66.21875 39.40625 66.21875 \nz\nM 39.40625 74.21875 \nQ 54.734375 74.21875 63.90625 63.9375 \nQ 73.09375 53.65625 73.09375 36.375 \nQ 73.09375 19.140625 63.90625 8.859375 \nQ 54.734375 -1.421875 39.40625 -1.421875 \nQ 24.03125 -1.421875 14.8125 8.828125 \nQ 5.609375 19.09375 5.609375 36.375 \nQ 5.609375 53.65625 14.8125 63.9375 \nQ 24.03125 74.21875 39.40625 74.21875 \nz\n\" id=\"DejaVuSans-79\"/>\n    </defs>\n    <g transform=\"translate(175.070312 16.318125)scale(0.12 -0.12)\">\n     <use xlink:href=\"#DejaVuSans-78\"/>\n     <use x=\"74.804688\" xlink:href=\"#DejaVuSans-101\"/>\n     <use x=\"136.328125\" xlink:href=\"#DejaVuSans-103\"/>\n     <use x=\"199.804688\" xlink:href=\"#DejaVuSans-97\"/>\n     <use x=\"261.083984\" xlink:href=\"#DejaVuSans-116\"/>\n     <use x=\"300.292969\" xlink:href=\"#DejaVuSans-105\"/>\n     <use x=\"328.076172\" xlink:href=\"#DejaVuSans-118\"/>\n     <use x=\"387.255859\" xlink:href=\"#DejaVuSans-101\"/>\n     <use x=\"448.779297\" xlink:href=\"#DejaVuSans-32\"/>\n     <use x=\"480.566406\" xlink:href=\"#DejaVuSans-69\"/>\n     <use x=\"543.75\" xlink:href=\"#DejaVuSans-76\"/>\n     <use x=\"599.462891\" xlink:href=\"#DejaVuSans-66\"/>\n     <use x=\"666.316406\" xlink:href=\"#DejaVuSans-79\"/>\n    </g>\n   </g>\n  </g>\n </g>\n <defs>\n  <clipPath id=\"p0e11e5a23a\">\n   <rect height=\"217.44\" width=\"334.8\" x=\"52.375\" y=\"22.318125\"/>\n  </clipPath>\n </defs>\n</svg>\n",
      "image/png": "[encoded data removed]"
     },
     "metadata": {
      "needs_background": "light"
     }
    }
   ],
   "source": [
    "from numpyro.infer.autoguide import AutoDiagonalNormal\n",
    "from numpyro.infer import SVI, ELBO\n",
    "from jax import random, lax\n",
    "import matplotlib.pyplot as plt\n",
    "\n",
    "\n",
    "guide = AutoMultivariateNormal(model2)\n",
    "optimizer = numpyro.optim.Adam(step_size=0.01)\n",
    "svi = SVI(guide.model, guide, optimizer, loss=ELBO())\n",
    "init_state = svi.init(random.PRNGKey(2), altCounts)\n",
    "\n",
    "\n",
    "# Run optimizer\n",
    "state, losses = lax.scan(lambda state, i: svi.update(state, altCounts), init_state, np.arange(1000))\n",
    "\n",
    "def sample_advi_posterior(guide, params, nsamples, seed=1):\n",
    "    samples = guide.get_posterior(params).sample(random.PRNGKey(seed), (nsamples, ))\n",
    "    # NOTE: Samples are arranged in alphabetical order.\n",
    "    #       Not in the order in which they appear in the\n",
    "    #       model. This is different from pyro.\n",
    "    return samples\n",
    "\n",
    "# Extract surrogate posterior.\n",
    "params = svi.get_params(state)\n",
    "plt.plot(losses)\n",
    "plt.title(\"Negative ELBO\")\n",
    "# advi_samples = sample_advi_posterior(guide, params, nsamples=500, seed=1)\n"
   ]
  },
  {
   "cell_type": "code",
   "execution_count": 141,
   "metadata": {},
   "outputs": [
    {
     "output_type": "execute_result",
     "data": {
      "text/plain": [
       "{'auto_loc': DeviceArray([-1.15098815,  1.62395578, -1.92398359,  0.71576841,\n",
       "               1.8743358 , -1.16763645, -0.60285989, -0.7717677 ,\n",
       "              -0.44283444, -1.14673878, -0.74765658, -0.72510078,\n",
       "              -0.52885625, -0.99980787, -0.74349247, -0.73618718,\n",
       "              -0.35340657, -1.15620953, -0.76707259, -0.83601796,\n",
       "              -0.5077969 , -1.13191734, -0.72516398, -0.76416093,\n",
       "              -0.6007157 , -1.10535486, -0.82651946, -0.88884154,\n",
       "              -0.39384757,  1.23397211,  0.55342502,  1.13451951,\n",
       "               1.24279958,  0.5624475 ,  1.12991399,  1.19779081,\n",
       "               0.54379372,  1.14038542,  1.21529392,  0.54948667,\n",
       "               1.14386752,  1.2355253 ,  0.54883767,  1.13359562,\n",
       "               1.20473615,  0.56968241,  1.03140134], dtype=float64),\n",
       " 'auto_scale_tril': DeviceArray([[ 0.3462334 ,  0.        ,  0.        , ...,  0.        ,\n",
       "                0.        ,  0.        ],\n",
       "              [ 0.08575807,  0.23826298,  0.        , ...,  0.        ,\n",
       "                0.        ,  0.        ],\n",
       "              [ 0.07202519, -0.14145126,  0.74849206, ...,  0.        ,\n",
       "                0.        ,  0.        ],\n",
       "              ...,\n",
       "              [-0.02501254,  0.02461448,  0.0114928 , ...,  0.07691884,\n",
       "                0.        ,  0.        ],\n",
       "              [ 0.15978609,  0.00507316, -0.02527126, ...,  0.05278135,\n",
       "                0.07361363,  0.        ],\n",
       "              [ 0.01194783, -0.03333029,  0.12614444, ..., -0.02097494,\n",
       "               -0.01221435,  0.10005675]], dtype=float64)}"
      ]
     },
     "metadata": {},
     "execution_count": 141
    }
   ],
   "source": [
    "params=svi.get_params(state)\n",
    "params"
   ]
  },
  {
   "cell_type": "code",
   "execution_count": 124,
   "metadata": {},
   "outputs": [],
   "source": [
    "prior = Predictive(model2, num_samples=int(1e4))(\n",
    "    random.PRNGKey(1999), data=np.zeros(6))"
   ]
  },
  {
   "cell_type": "code",
   "execution_count": 126,
   "metadata": {},
   "outputs": [
    {
     "output_type": "execute_result",
     "data": {
      "text/plain": [
       "DeviceArray([[0.37774902, 0.24687326, 0.23705687, 0.13832086],\n",
       "             [0.37526457, 0.24655131, 0.24010604, 0.13807808],\n",
       "             [0.37648676, 0.24281034, 0.24369386, 0.13700904],\n",
       "             [0.37762328, 0.24547783, 0.24122438, 0.13567451],\n",
       "             [0.38074594, 0.24483805, 0.2390636 , 0.13535241],\n",
       "             [0.37798377, 0.24209539, 0.23604866, 0.14387217]],            dtype=float64)"
      ]
     },
     "metadata": {},
     "execution_count": 126
    }
   ],
   "source": [
    "prior[\"probs\"].mean(0)"
   ]
  },
  {
   "cell_type": "code",
   "execution_count": 136,
   "metadata": {},
   "outputs": [
    {
     "output_type": "execute_result",
     "data": {
      "text/plain": [
       "DeviceArray([0.59523809, 0.17857143, 0.17857143, 0.04761905], dtype=float64)"
      ]
     },
     "metadata": {},
     "execution_count": 136
    }
   ],
   "source": [
    "pdsAll"
   ]
  },
  {
   "cell_type": "code",
   "execution_count": 70,
   "metadata": {},
   "outputs": [
    {
     "output_type": "error",
     "ename": "IndexError",
     "evalue": "Too many indices for array: 4 non-None/Ellipsis indices for dim 2.",
     "traceback": [
      "\u001b[0;31m---------------------------------------------------------------------------\u001b[0m",
      "\u001b[0;31mIndexError\u001b[0m                                Traceback (most recent call last)",
      "\u001b[0;32m<ipython-input-70-0c780e818e36>\u001b[0m in \u001b[0;36m<module>\u001b[0;34m\u001b[0m\n\u001b[1;32m      3\u001b[0m \u001b[0;31m# plt.subplot(2, 2, 1)\u001b[0m\u001b[0;34m\u001b[0m\u001b[0;34m\u001b[0m\u001b[0;34m\u001b[0m\u001b[0m\n\u001b[1;32m      4\u001b[0m \u001b[0;31m# plot_param_post(advi_samples, 'beta', \"beta\", plot_trace=False)\u001b[0m\u001b[0;34m\u001b[0m\u001b[0;34m\u001b[0m\u001b[0;34m\u001b[0m\u001b[0m\n\u001b[0;32m----> 5\u001b[0;31m \u001b[0mplt\u001b[0m\u001b[0;34m.\u001b[0m\u001b[0mhist\u001b[0m\u001b[0;34m(\u001b[0m\u001b[0madvi_samples\u001b[0m\u001b[0;34m[\u001b[0m\u001b[0;34m'beta'\u001b[0m\u001b[0;34m]\u001b[0m\u001b[0;34m,\u001b[0m \u001b[0mbins\u001b[0m\u001b[0;34m=\u001b[0m\u001b[0;36m30\u001b[0m\u001b[0;34m,\u001b[0m \u001b[0mdensity\u001b[0m\u001b[0;34m=\u001b[0m\u001b[0;32mTrue\u001b[0m\u001b[0;34m)\u001b[0m\u001b[0;34m;\u001b[0m \u001b[0mplt\u001b[0m\u001b[0;34m.\u001b[0m\u001b[0mtitle\u001b[0m\u001b[0;34m(\u001b[0m\u001b[0;34m\"Histogram of betas\"\u001b[0m\u001b[0;34m)\u001b[0m\u001b[0;34m\u001b[0m\u001b[0;34m\u001b[0m\u001b[0m\n\u001b[0m\u001b[1;32m      6\u001b[0m \u001b[0;34m\u001b[0m\u001b[0m\n\u001b[1;32m      7\u001b[0m \u001b[0;34m\u001b[0m\u001b[0m\n",
      "\u001b[0;32m~/miniconda3/lib/python3.7/site-packages/jax/numpy/lax_numpy.py\u001b[0m in \u001b[0;36m_rewriting_take\u001b[0;34m(arr, idx)\u001b[0m\n\u001b[1;32m   3906\u001b[0m   \u001b[0marr\u001b[0m \u001b[0;34m=\u001b[0m \u001b[0masarray\u001b[0m\u001b[0;34m(\u001b[0m\u001b[0marr\u001b[0m\u001b[0;34m)\u001b[0m\u001b[0;34m\u001b[0m\u001b[0;34m\u001b[0m\u001b[0m\n\u001b[1;32m   3907\u001b[0m   \u001b[0mtreedef\u001b[0m\u001b[0;34m,\u001b[0m \u001b[0mstatic_idx\u001b[0m\u001b[0;34m,\u001b[0m \u001b[0mdynamic_idx\u001b[0m \u001b[0;34m=\u001b[0m \u001b[0m_split_index_for_jit\u001b[0m\u001b[0;34m(\u001b[0m\u001b[0midx\u001b[0m\u001b[0;34m)\u001b[0m\u001b[0;34m\u001b[0m\u001b[0;34m\u001b[0m\u001b[0m\n\u001b[0;32m-> 3908\u001b[0;31m   \u001b[0;32mreturn\u001b[0m \u001b[0m_gather\u001b[0m\u001b[0;34m(\u001b[0m\u001b[0marr\u001b[0m\u001b[0;34m,\u001b[0m \u001b[0mtreedef\u001b[0m\u001b[0;34m,\u001b[0m \u001b[0mstatic_idx\u001b[0m\u001b[0;34m,\u001b[0m \u001b[0mdynamic_idx\u001b[0m\u001b[0;34m)\u001b[0m\u001b[0;34m\u001b[0m\u001b[0;34m\u001b[0m\u001b[0m\n\u001b[0m\u001b[1;32m   3909\u001b[0m \u001b[0;34m\u001b[0m\u001b[0m\n\u001b[1;32m   3910\u001b[0m \u001b[0;31m# TODO(phawkins): re-enable jit after fixing excessive recompilation for\u001b[0m\u001b[0;34m\u001b[0m\u001b[0;34m\u001b[0m\u001b[0;34m\u001b[0m\u001b[0m\n",
      "\u001b[0;32m~/miniconda3/lib/python3.7/site-packages/jax/numpy/lax_numpy.py\u001b[0m in \u001b[0;36m_gather\u001b[0;34m(arr, treedef, static_idx, dynamic_idx)\u001b[0m\n\u001b[1;32m   3913\u001b[0m \u001b[0;32mdef\u001b[0m \u001b[0m_gather\u001b[0m\u001b[0;34m(\u001b[0m\u001b[0marr\u001b[0m\u001b[0;34m,\u001b[0m \u001b[0mtreedef\u001b[0m\u001b[0;34m,\u001b[0m \u001b[0mstatic_idx\u001b[0m\u001b[0;34m,\u001b[0m \u001b[0mdynamic_idx\u001b[0m\u001b[0;34m)\u001b[0m\u001b[0;34m:\u001b[0m\u001b[0;34m\u001b[0m\u001b[0;34m\u001b[0m\u001b[0m\n\u001b[1;32m   3914\u001b[0m   \u001b[0midx\u001b[0m \u001b[0;34m=\u001b[0m \u001b[0m_merge_static_and_dynamic_indices\u001b[0m\u001b[0;34m(\u001b[0m\u001b[0mtreedef\u001b[0m\u001b[0;34m,\u001b[0m \u001b[0mstatic_idx\u001b[0m\u001b[0;34m,\u001b[0m \u001b[0mdynamic_idx\u001b[0m\u001b[0;34m)\u001b[0m\u001b[0;34m\u001b[0m\u001b[0;34m\u001b[0m\u001b[0m\n\u001b[0;32m-> 3915\u001b[0;31m   \u001b[0mindexer\u001b[0m \u001b[0;34m=\u001b[0m \u001b[0m_index_to_gather\u001b[0m\u001b[0;34m(\u001b[0m\u001b[0mshape\u001b[0m\u001b[0;34m(\u001b[0m\u001b[0marr\u001b[0m\u001b[0;34m)\u001b[0m\u001b[0;34m,\u001b[0m \u001b[0midx\u001b[0m\u001b[0;34m)\u001b[0m  \u001b[0;31m# shared with _scatter_update\u001b[0m\u001b[0;34m\u001b[0m\u001b[0;34m\u001b[0m\u001b[0m\n\u001b[0m\u001b[1;32m   3916\u001b[0m   \u001b[0my\u001b[0m \u001b[0;34m=\u001b[0m \u001b[0marr\u001b[0m\u001b[0;34m\u001b[0m\u001b[0;34m\u001b[0m\u001b[0m\n\u001b[1;32m   3917\u001b[0m \u001b[0;34m\u001b[0m\u001b[0m\n",
      "\u001b[0;32m~/miniconda3/lib/python3.7/site-packages/jax/numpy/lax_numpy.py\u001b[0m in \u001b[0;36m_index_to_gather\u001b[0;34m(x_shape, idx)\u001b[0m\n\u001b[1;32m   3997\u001b[0m \u001b[0;32mdef\u001b[0m \u001b[0m_index_to_gather\u001b[0m\u001b[0;34m(\u001b[0m\u001b[0mx_shape\u001b[0m\u001b[0;34m,\u001b[0m \u001b[0midx\u001b[0m\u001b[0;34m)\u001b[0m\u001b[0;34m:\u001b[0m\u001b[0;34m\u001b[0m\u001b[0;34m\u001b[0m\u001b[0m\n\u001b[1;32m   3998\u001b[0m   \u001b[0;31m# Remove ellipses and add trailing slice(None)s.\u001b[0m\u001b[0;34m\u001b[0m\u001b[0;34m\u001b[0m\u001b[0;34m\u001b[0m\u001b[0m\n\u001b[0;32m-> 3999\u001b[0;31m   \u001b[0midx\u001b[0m \u001b[0;34m=\u001b[0m \u001b[0m_canonicalize_tuple_index\u001b[0m\u001b[0;34m(\u001b[0m\u001b[0mlen\u001b[0m\u001b[0;34m(\u001b[0m\u001b[0mx_shape\u001b[0m\u001b[0;34m)\u001b[0m\u001b[0;34m,\u001b[0m \u001b[0midx\u001b[0m\u001b[0;34m)\u001b[0m\u001b[0;34m\u001b[0m\u001b[0;34m\u001b[0m\u001b[0m\n\u001b[0m\u001b[1;32m   4000\u001b[0m \u001b[0;34m\u001b[0m\u001b[0m\n\u001b[1;32m   4001\u001b[0m   \u001b[0;31m# Check for advanced indexing:\u001b[0m\u001b[0;34m\u001b[0m\u001b[0;34m\u001b[0m\u001b[0;34m\u001b[0m\u001b[0m\n",
      "\u001b[0;32m~/miniconda3/lib/python3.7/site-packages/jax/numpy/lax_numpy.py\u001b[0m in \u001b[0;36m_canonicalize_tuple_index\u001b[0;34m(arr_ndim, idx)\u001b[0m\n\u001b[1;32m   4258\u001b[0m   \u001b[0;32mif\u001b[0m \u001b[0mlen_without_none\u001b[0m \u001b[0;34m>\u001b[0m \u001b[0marr_ndim\u001b[0m\u001b[0;34m:\u001b[0m\u001b[0;34m\u001b[0m\u001b[0;34m\u001b[0m\u001b[0m\n\u001b[1;32m   4259\u001b[0m     \u001b[0mmsg\u001b[0m \u001b[0;34m=\u001b[0m \u001b[0;34m\"Too many indices for array: {} non-None/Ellipsis indices for dim {}.\"\u001b[0m\u001b[0;34m\u001b[0m\u001b[0;34m\u001b[0m\u001b[0m\n\u001b[0;32m-> 4260\u001b[0;31m     \u001b[0;32mraise\u001b[0m \u001b[0mIndexError\u001b[0m\u001b[0;34m(\u001b[0m\u001b[0mmsg\u001b[0m\u001b[0;34m.\u001b[0m\u001b[0mformat\u001b[0m\u001b[0;34m(\u001b[0m\u001b[0mlen_without_none\u001b[0m\u001b[0;34m,\u001b[0m \u001b[0marr_ndim\u001b[0m\u001b[0;34m)\u001b[0m\u001b[0;34m)\u001b[0m\u001b[0;34m\u001b[0m\u001b[0;34m\u001b[0m\u001b[0m\n\u001b[0m\u001b[1;32m   4261\u001b[0m   \u001b[0mellipses\u001b[0m \u001b[0;34m=\u001b[0m \u001b[0;34m(\u001b[0m\u001b[0mi\u001b[0m \u001b[0;32mfor\u001b[0m \u001b[0mi\u001b[0m\u001b[0;34m,\u001b[0m \u001b[0melt\u001b[0m \u001b[0;32min\u001b[0m \u001b[0menumerate\u001b[0m\u001b[0;34m(\u001b[0m\u001b[0midx\u001b[0m\u001b[0;34m)\u001b[0m \u001b[0;32mif\u001b[0m \u001b[0melt\u001b[0m \u001b[0;32mis\u001b[0m \u001b[0mEllipsis\u001b[0m\u001b[0;34m)\u001b[0m\u001b[0;34m\u001b[0m\u001b[0;34m\u001b[0m\u001b[0m\n\u001b[1;32m   4262\u001b[0m   \u001b[0mellipsis_index\u001b[0m \u001b[0;34m=\u001b[0m \u001b[0mnext\u001b[0m\u001b[0;34m(\u001b[0m\u001b[0mellipses\u001b[0m\u001b[0;34m,\u001b[0m \u001b[0;32mNone\u001b[0m\u001b[0;34m)\u001b[0m\u001b[0;34m\u001b[0m\u001b[0;34m\u001b[0m\u001b[0m\n",
      "\u001b[0;31mIndexError\u001b[0m: Too many indices for array: 4 non-None/Ellipsis indices for dim 2."
     ]
    }
   ],
   "source": [
    "(plt.figure(figsize=(12, 12))\n",
    "\n",
    "# plt.subplot(2, 2, 1)\n",
    "# plot_param_post(advi_samples, 'beta', \"beta\", plot_trace=False)\n",
    "plt.hist(advi_samples['beta'], bins=30, density=True); plt.title(\"Histogram of betas\")\n",
    "\n",
    "\n",
    "# plt.subplot(2, 2, 2)\n",
    "plt.hist(advi_samples['probs'], bins=30, density=True); plt.title(\"Histogram of probs\")\n",
    "# plt.subplot(2, 2, 3)\n",
    "# plt.tight_layout()"
   ]
  },
  {
   "cell_type": "code",
   "execution_count": 71,
   "metadata": {},
   "outputs": [
    {
     "output_type": "execute_result",
     "data": {
      "text/plain": [
       "DeviceArray([[-1.4422969 ,  2.61034526, -1.97092102, ...,  1.22502182,\n",
       "               0.50388113,  1.23520785],\n",
       "             [-1.63336123,  1.43674827, -0.43659316, ...,  1.26519708,\n",
       "               0.5422426 ,  1.19320467],\n",
       "             [-1.21345276,  2.84651594, -4.00882816, ...,  1.22841966,\n",
       "               0.68494358,  1.30967938],\n",
       "             ...,\n",
       "             [-1.50402104,  2.69812278,  1.53350925, ...,  1.23863302,\n",
       "               0.44505614,  0.90587505],\n",
       "             [-1.35226457,  2.03887513, -1.63597117, ...,  1.23297896,\n",
       "               0.48248359,  1.36685426],\n",
       "             [-1.39405363,  1.86790175, -1.96038896, ...,  1.20075629,\n",
       "               0.48044188,  1.17793504]], dtype=float64)"
      ]
     },
     "metadata": {},
     "execution_count": 71
    }
   ],
   "source": [
    "advi_samples"
   ]
  },
  {
   "cell_type": "code",
   "execution_count": 148,
   "metadata": {},
   "outputs": [
    {
     "output_type": "stream",
     "name": "stdout",
     "text": [
      "z.shape (20000,)\n",
      "z.shape (6, 1)\n",
      "  0%|          | 0/1100 [00:00<?, ?it/s]z.shape (6, 1)\n",
      "  0%|          | 0/1100 [00:06<?, ?it/s]\n"
     ]
    },
    {
     "output_type": "error",
     "ename": "KeyboardInterrupt",
     "evalue": "",
     "traceback": [
      "\u001b[0;31m---------------------------------------------------------------------------\u001b[0m",
      "\u001b[0;31mKeyboardInterrupt\u001b[0m                         Traceback (most recent call last)",
      "\u001b[0;32m<ipython-input-148-589d61ba138b>\u001b[0m in \u001b[0;36m<module>\u001b[0;34m\u001b[0m\n\u001b[1;32m      1\u001b[0m \u001b[0minit_rng_key\u001b[0m \u001b[0;34m=\u001b[0m \u001b[0mrandom\u001b[0m\u001b[0;34m.\u001b[0m\u001b[0mPRNGKey\u001b[0m\u001b[0;34m(\u001b[0m\u001b[0;36m12273\u001b[0m\u001b[0;34m)\u001b[0m\u001b[0;34m\u001b[0m\u001b[0;34m\u001b[0m\u001b[0m\n\u001b[1;32m      2\u001b[0m \u001b[0mmcmc2\u001b[0m \u001b[0;34m=\u001b[0m \u001b[0mMCMC\u001b[0m\u001b[0;34m(\u001b[0m\u001b[0mNUTS\u001b[0m\u001b[0;34m(\u001b[0m\u001b[0mmodel2\u001b[0m\u001b[0;34m)\u001b[0m\u001b[0;34m,\u001b[0m \u001b[0;36m100\u001b[0m\u001b[0;34m,\u001b[0m \u001b[0;36m1000\u001b[0m\u001b[0;34m)\u001b[0m\u001b[0;34m\u001b[0m\u001b[0;34m\u001b[0m\u001b[0m\n\u001b[0;32m----> 3\u001b[0;31m \u001b[0mmcmc2\u001b[0m\u001b[0;34m.\u001b[0m\u001b[0mrun\u001b[0m\u001b[0;34m(\u001b[0m\u001b[0minit_rng_key\u001b[0m\u001b[0;34m,\u001b[0m \u001b[0maltCounts\u001b[0m\u001b[0;34m)\u001b[0m\u001b[0;34m\u001b[0m\u001b[0;34m\u001b[0m\u001b[0m\n\u001b[0m\u001b[1;32m      4\u001b[0m \u001b[0mmcmc2\u001b[0m\u001b[0;34m.\u001b[0m\u001b[0mprint_summary\u001b[0m\u001b[0;34m(\u001b[0m\u001b[0;34m)\u001b[0m\u001b[0;34m\u001b[0m\u001b[0;34m\u001b[0m\u001b[0m\n",
      "\u001b[0;32m~/miniconda3/lib/python3.7/site-packages/numpyro/infer/mcmc.py\u001b[0m in \u001b[0;36mrun\u001b[0;34m(self, rng_key, extra_fields, init_params, *args, **kwargs)\u001b[0m\n\u001b[1;32m    447\u001b[0m         \u001b[0mmap_args\u001b[0m \u001b[0;34m=\u001b[0m \u001b[0;34m(\u001b[0m\u001b[0mrng_key\u001b[0m\u001b[0;34m,\u001b[0m \u001b[0minit_state\u001b[0m\u001b[0;34m,\u001b[0m \u001b[0minit_params\u001b[0m\u001b[0;34m)\u001b[0m\u001b[0;34m\u001b[0m\u001b[0;34m\u001b[0m\u001b[0m\n\u001b[1;32m    448\u001b[0m         \u001b[0;32mif\u001b[0m \u001b[0mself\u001b[0m\u001b[0;34m.\u001b[0m\u001b[0mnum_chains\u001b[0m \u001b[0;34m==\u001b[0m \u001b[0;36m1\u001b[0m\u001b[0;34m:\u001b[0m\u001b[0;34m\u001b[0m\u001b[0;34m\u001b[0m\u001b[0m\n\u001b[0;32m--> 449\u001b[0;31m             \u001b[0mstates_flat\u001b[0m\u001b[0;34m,\u001b[0m \u001b[0mlast_state\u001b[0m \u001b[0;34m=\u001b[0m \u001b[0mpartial_map_fn\u001b[0m\u001b[0;34m(\u001b[0m\u001b[0mmap_args\u001b[0m\u001b[0;34m)\u001b[0m\u001b[0;34m\u001b[0m\u001b[0;34m\u001b[0m\u001b[0m\n\u001b[0m\u001b[1;32m    450\u001b[0m             \u001b[0mstates\u001b[0m \u001b[0;34m=\u001b[0m \u001b[0mtree_map\u001b[0m\u001b[0;34m(\u001b[0m\u001b[0;32mlambda\u001b[0m \u001b[0mx\u001b[0m\u001b[0;34m:\u001b[0m \u001b[0mx\u001b[0m\u001b[0;34m[\u001b[0m\u001b[0mjnp\u001b[0m\u001b[0;34m.\u001b[0m\u001b[0mnewaxis\u001b[0m\u001b[0;34m,\u001b[0m \u001b[0;34m...\u001b[0m\u001b[0;34m]\u001b[0m\u001b[0;34m,\u001b[0m \u001b[0mstates_flat\u001b[0m\u001b[0;34m)\u001b[0m\u001b[0;34m\u001b[0m\u001b[0;34m\u001b[0m\u001b[0m\n\u001b[1;32m    451\u001b[0m         \u001b[0;32melse\u001b[0m\u001b[0;34m:\u001b[0m\u001b[0;34m\u001b[0m\u001b[0;34m\u001b[0m\u001b[0m\n",
      "\u001b[0;32m~/miniconda3/lib/python3.7/site-packages/numpyro/infer/mcmc.py\u001b[0m in \u001b[0;36m_single_chain_mcmc\u001b[0;34m(self, init, args, kwargs, collect_fields)\u001b[0m\n\u001b[1;32m    330\u001b[0m                                     \u001b[0mcollection_size\u001b[0m\u001b[0;34m=\u001b[0m\u001b[0mself\u001b[0m\u001b[0;34m.\u001b[0m\u001b[0m_collection_params\u001b[0m\u001b[0;34m[\u001b[0m\u001b[0;34m\"collection_size\"\u001b[0m\u001b[0;34m]\u001b[0m\u001b[0;34m,\u001b[0m\u001b[0;34m\u001b[0m\u001b[0;34m\u001b[0m\u001b[0m\n\u001b[1;32m    331\u001b[0m                                     \u001b[0mprogbar_desc\u001b[0m\u001b[0;34m=\u001b[0m\u001b[0mpartial\u001b[0m\u001b[0;34m(\u001b[0m\u001b[0mget_progbar_desc_str\u001b[0m\u001b[0;34m,\u001b[0m \u001b[0mlower_idx\u001b[0m\u001b[0;34m)\u001b[0m\u001b[0;34m,\u001b[0m\u001b[0;34m\u001b[0m\u001b[0;34m\u001b[0m\u001b[0m\n\u001b[0;32m--> 332\u001b[0;31m                                     diagnostics_fn=diagnostics)\n\u001b[0m\u001b[1;32m    333\u001b[0m         \u001b[0mstates\u001b[0m\u001b[0;34m,\u001b[0m \u001b[0mlast_val\u001b[0m \u001b[0;34m=\u001b[0m \u001b[0mcollect_vals\u001b[0m\u001b[0;34m\u001b[0m\u001b[0;34m\u001b[0m\u001b[0m\n\u001b[1;32m    334\u001b[0m         \u001b[0;31m# Get first argument of type `HMCState`\u001b[0m\u001b[0;34m\u001b[0m\u001b[0;34m\u001b[0m\u001b[0;34m\u001b[0m\u001b[0m\n",
      "\u001b[0;32m~/miniconda3/lib/python3.7/site-packages/numpyro/util.py\u001b[0m in \u001b[0;36mfori_collect\u001b[0;34m(lower, upper, body_fun, init_val, transform, progbar, return_last_val, collection_size, **progbar_opts)\u001b[0m\n\u001b[1;32m    224\u001b[0m             \u001b[0;32mwith\u001b[0m \u001b[0mtqdm\u001b[0m\u001b[0;34m.\u001b[0m\u001b[0mtrange\u001b[0m\u001b[0;34m(\u001b[0m\u001b[0mupper\u001b[0m\u001b[0;34m)\u001b[0m \u001b[0;32mas\u001b[0m \u001b[0mt\u001b[0m\u001b[0;34m:\u001b[0m\u001b[0;34m\u001b[0m\u001b[0;34m\u001b[0m\u001b[0m\n\u001b[1;32m    225\u001b[0m                 \u001b[0;32mfor\u001b[0m \u001b[0mi\u001b[0m \u001b[0;32min\u001b[0m \u001b[0mt\u001b[0m\u001b[0;34m:\u001b[0m\u001b[0;34m\u001b[0m\u001b[0;34m\u001b[0m\u001b[0m\n\u001b[0;32m--> 226\u001b[0;31m                     \u001b[0mvals\u001b[0m \u001b[0;34m=\u001b[0m \u001b[0mjit\u001b[0m\u001b[0;34m(\u001b[0m\u001b[0m_body_fn\u001b[0m\u001b[0;34m)\u001b[0m\u001b[0;34m(\u001b[0m\u001b[0mi\u001b[0m\u001b[0;34m,\u001b[0m \u001b[0mvals\u001b[0m\u001b[0;34m)\u001b[0m\u001b[0;34m\u001b[0m\u001b[0;34m\u001b[0m\u001b[0m\n\u001b[0m\u001b[1;32m    227\u001b[0m                     \u001b[0mt\u001b[0m\u001b[0;34m.\u001b[0m\u001b[0mset_description\u001b[0m\u001b[0;34m(\u001b[0m\u001b[0mprogbar_desc\u001b[0m\u001b[0;34m(\u001b[0m\u001b[0mi\u001b[0m\u001b[0;34m)\u001b[0m\u001b[0;34m,\u001b[0m \u001b[0mrefresh\u001b[0m\u001b[0;34m=\u001b[0m\u001b[0;32mFalse\u001b[0m\u001b[0;34m)\u001b[0m\u001b[0;34m\u001b[0m\u001b[0;34m\u001b[0m\u001b[0m\n\u001b[1;32m    228\u001b[0m                     \u001b[0;32mif\u001b[0m \u001b[0mdiagnostics_fn\u001b[0m\u001b[0;34m:\u001b[0m\u001b[0;34m\u001b[0m\u001b[0;34m\u001b[0m\u001b[0m\n",
      "\u001b[0;32m~/miniconda3/lib/python3.7/site-packages/jax/traceback_util.py\u001b[0m in \u001b[0;36mreraise_with_filtered_traceback\u001b[0;34m(*args, **kwargs)\u001b[0m\n\u001b[1;32m    137\u001b[0m   \u001b[0;32mdef\u001b[0m \u001b[0mreraise_with_filtered_traceback\u001b[0m\u001b[0;34m(\u001b[0m\u001b[0;34m*\u001b[0m\u001b[0margs\u001b[0m\u001b[0;34m,\u001b[0m \u001b[0;34m**\u001b[0m\u001b[0mkwargs\u001b[0m\u001b[0;34m)\u001b[0m\u001b[0;34m:\u001b[0m\u001b[0;34m\u001b[0m\u001b[0;34m\u001b[0m\u001b[0m\n\u001b[1;32m    138\u001b[0m     \u001b[0;32mtry\u001b[0m\u001b[0;34m:\u001b[0m\u001b[0;34m\u001b[0m\u001b[0;34m\u001b[0m\u001b[0m\n\u001b[0;32m--> 139\u001b[0;31m       \u001b[0;32mreturn\u001b[0m \u001b[0mfun\u001b[0m\u001b[0;34m(\u001b[0m\u001b[0;34m*\u001b[0m\u001b[0margs\u001b[0m\u001b[0;34m,\u001b[0m \u001b[0;34m**\u001b[0m\u001b[0mkwargs\u001b[0m\u001b[0;34m)\u001b[0m\u001b[0;34m\u001b[0m\u001b[0;34m\u001b[0m\u001b[0m\n\u001b[0m\u001b[1;32m    140\u001b[0m     \u001b[0;32mexcept\u001b[0m \u001b[0mException\u001b[0m \u001b[0;32mas\u001b[0m \u001b[0me\u001b[0m\u001b[0;34m:\u001b[0m\u001b[0;34m\u001b[0m\u001b[0;34m\u001b[0m\u001b[0m\n\u001b[1;32m    141\u001b[0m       \u001b[0;32mif\u001b[0m \u001b[0;32mnot\u001b[0m \u001b[0mis_under_reraiser\u001b[0m\u001b[0;34m(\u001b[0m\u001b[0me\u001b[0m\u001b[0;34m)\u001b[0m\u001b[0;34m:\u001b[0m\u001b[0;34m\u001b[0m\u001b[0;34m\u001b[0m\u001b[0m\n",
      "\u001b[0;32m~/miniconda3/lib/python3.7/site-packages/jax/api.py\u001b[0m in \u001b[0;36mf_jitted\u001b[0;34m(*args, **kwargs)\u001b[0m\n\u001b[1;32m    215\u001b[0m         \u001b[0mbackend\u001b[0m\u001b[0;34m=\u001b[0m\u001b[0mbackend\u001b[0m\u001b[0;34m,\u001b[0m\u001b[0;34m\u001b[0m\u001b[0;34m\u001b[0m\u001b[0m\n\u001b[1;32m    216\u001b[0m         \u001b[0mname\u001b[0m\u001b[0;34m=\u001b[0m\u001b[0mflat_fun\u001b[0m\u001b[0;34m.\u001b[0m\u001b[0m__name__\u001b[0m\u001b[0;34m,\u001b[0m\u001b[0;34m\u001b[0m\u001b[0;34m\u001b[0m\u001b[0m\n\u001b[0;32m--> 217\u001b[0;31m         donated_invars=donated_invars)\n\u001b[0m\u001b[1;32m    218\u001b[0m     \u001b[0;32mreturn\u001b[0m \u001b[0mtree_unflatten\u001b[0m\u001b[0;34m(\u001b[0m\u001b[0mout_tree\u001b[0m\u001b[0;34m(\u001b[0m\u001b[0;34m)\u001b[0m\u001b[0;34m,\u001b[0m \u001b[0mout\u001b[0m\u001b[0;34m)\u001b[0m\u001b[0;34m\u001b[0m\u001b[0;34m\u001b[0m\u001b[0m\n\u001b[1;32m    219\u001b[0m \u001b[0;34m\u001b[0m\u001b[0m\n",
      "\u001b[0;32m~/miniconda3/lib/python3.7/site-packages/jax/core.py\u001b[0m in \u001b[0;36mbind\u001b[0;34m(self, fun, *args, **params)\u001b[0m\n\u001b[1;32m   1160\u001b[0m \u001b[0;34m\u001b[0m\u001b[0m\n\u001b[1;32m   1161\u001b[0m   \u001b[0;32mdef\u001b[0m \u001b[0mbind\u001b[0m\u001b[0;34m(\u001b[0m\u001b[0mself\u001b[0m\u001b[0;34m,\u001b[0m \u001b[0mfun\u001b[0m\u001b[0;34m,\u001b[0m \u001b[0;34m*\u001b[0m\u001b[0margs\u001b[0m\u001b[0;34m,\u001b[0m \u001b[0;34m**\u001b[0m\u001b[0mparams\u001b[0m\u001b[0;34m)\u001b[0m\u001b[0;34m:\u001b[0m\u001b[0;34m\u001b[0m\u001b[0;34m\u001b[0m\u001b[0m\n\u001b[0;32m-> 1162\u001b[0;31m     \u001b[0;32mreturn\u001b[0m \u001b[0mcall_bind\u001b[0m\u001b[0;34m(\u001b[0m\u001b[0mself\u001b[0m\u001b[0;34m,\u001b[0m \u001b[0mfun\u001b[0m\u001b[0;34m,\u001b[0m \u001b[0;34m*\u001b[0m\u001b[0margs\u001b[0m\u001b[0;34m,\u001b[0m \u001b[0;34m**\u001b[0m\u001b[0mparams\u001b[0m\u001b[0;34m)\u001b[0m\u001b[0;34m\u001b[0m\u001b[0;34m\u001b[0m\u001b[0m\n\u001b[0m\u001b[1;32m   1163\u001b[0m \u001b[0;34m\u001b[0m\u001b[0m\n\u001b[1;32m   1164\u001b[0m   \u001b[0;32mdef\u001b[0m \u001b[0mprocess\u001b[0m\u001b[0;34m(\u001b[0m\u001b[0mself\u001b[0m\u001b[0;34m,\u001b[0m \u001b[0mtrace\u001b[0m\u001b[0;34m,\u001b[0m \u001b[0mfun\u001b[0m\u001b[0;34m,\u001b[0m \u001b[0mtracers\u001b[0m\u001b[0;34m,\u001b[0m \u001b[0mparams\u001b[0m\u001b[0;34m)\u001b[0m\u001b[0;34m:\u001b[0m\u001b[0;34m\u001b[0m\u001b[0;34m\u001b[0m\u001b[0m\n",
      "\u001b[0;32m~/miniconda3/lib/python3.7/site-packages/jax/core.py\u001b[0m in \u001b[0;36mcall_bind\u001b[0;34m(primitive, fun, *args, **params)\u001b[0m\n\u001b[1;32m   1151\u001b[0m   \u001b[0mtracers\u001b[0m \u001b[0;34m=\u001b[0m \u001b[0mmap\u001b[0m\u001b[0;34m(\u001b[0m\u001b[0mtop_trace\u001b[0m\u001b[0;34m.\u001b[0m\u001b[0mfull_raise\u001b[0m\u001b[0;34m,\u001b[0m \u001b[0margs\u001b[0m\u001b[0;34m)\u001b[0m\u001b[0;34m\u001b[0m\u001b[0;34m\u001b[0m\u001b[0m\n\u001b[1;32m   1152\u001b[0m   \u001b[0;32mwith\u001b[0m \u001b[0mmaybe_new_sublevel\u001b[0m\u001b[0;34m(\u001b[0m\u001b[0mtop_trace\u001b[0m\u001b[0;34m)\u001b[0m\u001b[0;34m:\u001b[0m\u001b[0;34m\u001b[0m\u001b[0;34m\u001b[0m\u001b[0m\n\u001b[0;32m-> 1153\u001b[0;31m     \u001b[0mouts\u001b[0m \u001b[0;34m=\u001b[0m \u001b[0mprimitive\u001b[0m\u001b[0;34m.\u001b[0m\u001b[0mprocess\u001b[0m\u001b[0;34m(\u001b[0m\u001b[0mtop_trace\u001b[0m\u001b[0;34m,\u001b[0m \u001b[0mfun\u001b[0m\u001b[0;34m,\u001b[0m \u001b[0mtracers\u001b[0m\u001b[0;34m,\u001b[0m \u001b[0mparams\u001b[0m\u001b[0;34m)\u001b[0m\u001b[0;34m\u001b[0m\u001b[0;34m\u001b[0m\u001b[0m\n\u001b[0m\u001b[1;32m   1154\u001b[0m   \u001b[0;32mreturn\u001b[0m \u001b[0mmap\u001b[0m\u001b[0;34m(\u001b[0m\u001b[0mfull_lower\u001b[0m\u001b[0;34m,\u001b[0m \u001b[0mapply_todos\u001b[0m\u001b[0;34m(\u001b[0m\u001b[0menv_trace_todo\u001b[0m\u001b[0;34m(\u001b[0m\u001b[0;34m)\u001b[0m\u001b[0;34m,\u001b[0m \u001b[0mouts\u001b[0m\u001b[0;34m)\u001b[0m\u001b[0;34m)\u001b[0m\u001b[0;34m\u001b[0m\u001b[0;34m\u001b[0m\u001b[0m\n\u001b[1;32m   1155\u001b[0m \u001b[0;34m\u001b[0m\u001b[0m\n",
      "\u001b[0;32m~/miniconda3/lib/python3.7/site-packages/jax/core.py\u001b[0m in \u001b[0;36mprocess\u001b[0;34m(self, trace, fun, tracers, params)\u001b[0m\n\u001b[1;32m   1163\u001b[0m \u001b[0;34m\u001b[0m\u001b[0m\n\u001b[1;32m   1164\u001b[0m   \u001b[0;32mdef\u001b[0m \u001b[0mprocess\u001b[0m\u001b[0;34m(\u001b[0m\u001b[0mself\u001b[0m\u001b[0;34m,\u001b[0m \u001b[0mtrace\u001b[0m\u001b[0;34m,\u001b[0m \u001b[0mfun\u001b[0m\u001b[0;34m,\u001b[0m \u001b[0mtracers\u001b[0m\u001b[0;34m,\u001b[0m \u001b[0mparams\u001b[0m\u001b[0;34m)\u001b[0m\u001b[0;34m:\u001b[0m\u001b[0;34m\u001b[0m\u001b[0;34m\u001b[0m\u001b[0m\n\u001b[0;32m-> 1165\u001b[0;31m     \u001b[0;32mreturn\u001b[0m \u001b[0mtrace\u001b[0m\u001b[0;34m.\u001b[0m\u001b[0mprocess_call\u001b[0m\u001b[0;34m(\u001b[0m\u001b[0mself\u001b[0m\u001b[0;34m,\u001b[0m \u001b[0mfun\u001b[0m\u001b[0;34m,\u001b[0m \u001b[0mtracers\u001b[0m\u001b[0;34m,\u001b[0m \u001b[0mparams\u001b[0m\u001b[0;34m)\u001b[0m\u001b[0;34m\u001b[0m\u001b[0;34m\u001b[0m\u001b[0m\n\u001b[0m\u001b[1;32m   1166\u001b[0m \u001b[0;34m\u001b[0m\u001b[0m\n\u001b[1;32m   1167\u001b[0m   \u001b[0;32mdef\u001b[0m \u001b[0mpost_process\u001b[0m\u001b[0;34m(\u001b[0m\u001b[0mself\u001b[0m\u001b[0;34m,\u001b[0m \u001b[0mtrace\u001b[0m\u001b[0;34m,\u001b[0m \u001b[0mout_tracers\u001b[0m\u001b[0;34m,\u001b[0m \u001b[0mparams\u001b[0m\u001b[0;34m)\u001b[0m\u001b[0;34m:\u001b[0m\u001b[0;34m\u001b[0m\u001b[0;34m\u001b[0m\u001b[0m\n",
      "\u001b[0;32m~/miniconda3/lib/python3.7/site-packages/jax/core.py\u001b[0m in \u001b[0;36mprocess_call\u001b[0;34m(self, primitive, f, tracers, params)\u001b[0m\n\u001b[1;32m    573\u001b[0m \u001b[0;34m\u001b[0m\u001b[0m\n\u001b[1;32m    574\u001b[0m   \u001b[0;32mdef\u001b[0m \u001b[0mprocess_call\u001b[0m\u001b[0;34m(\u001b[0m\u001b[0mself\u001b[0m\u001b[0;34m,\u001b[0m \u001b[0mprimitive\u001b[0m\u001b[0;34m,\u001b[0m \u001b[0mf\u001b[0m\u001b[0;34m,\u001b[0m \u001b[0mtracers\u001b[0m\u001b[0;34m,\u001b[0m \u001b[0mparams\u001b[0m\u001b[0;34m)\u001b[0m\u001b[0;34m:\u001b[0m\u001b[0;34m\u001b[0m\u001b[0;34m\u001b[0m\u001b[0m\n\u001b[0;32m--> 575\u001b[0;31m     \u001b[0;32mreturn\u001b[0m \u001b[0mprimitive\u001b[0m\u001b[0;34m.\u001b[0m\u001b[0mimpl\u001b[0m\u001b[0;34m(\u001b[0m\u001b[0mf\u001b[0m\u001b[0;34m,\u001b[0m \u001b[0;34m*\u001b[0m\u001b[0mtracers\u001b[0m\u001b[0;34m,\u001b[0m \u001b[0;34m**\u001b[0m\u001b[0mparams\u001b[0m\u001b[0;34m)\u001b[0m\u001b[0;34m\u001b[0m\u001b[0;34m\u001b[0m\u001b[0m\n\u001b[0m\u001b[1;32m    576\u001b[0m   \u001b[0mprocess_map\u001b[0m \u001b[0;34m=\u001b[0m \u001b[0mprocess_call\u001b[0m\u001b[0;34m\u001b[0m\u001b[0;34m\u001b[0m\u001b[0m\n\u001b[1;32m    577\u001b[0m \u001b[0;34m\u001b[0m\u001b[0m\n",
      "\u001b[0;32m~/miniconda3/lib/python3.7/site-packages/jax/interpreters/xla.py\u001b[0m in \u001b[0;36m_xla_call_impl\u001b[0;34m(fun, device, backend, name, donated_invars, *args)\u001b[0m\n\u001b[1;32m    555\u001b[0m \u001b[0;32mdef\u001b[0m \u001b[0m_xla_call_impl\u001b[0m\u001b[0;34m(\u001b[0m\u001b[0mfun\u001b[0m\u001b[0;34m:\u001b[0m \u001b[0mlu\u001b[0m\u001b[0;34m.\u001b[0m\u001b[0mWrappedFun\u001b[0m\u001b[0;34m,\u001b[0m \u001b[0;34m*\u001b[0m\u001b[0margs\u001b[0m\u001b[0;34m,\u001b[0m \u001b[0mdevice\u001b[0m\u001b[0;34m,\u001b[0m \u001b[0mbackend\u001b[0m\u001b[0;34m,\u001b[0m \u001b[0mname\u001b[0m\u001b[0;34m,\u001b[0m \u001b[0mdonated_invars\u001b[0m\u001b[0;34m)\u001b[0m\u001b[0;34m:\u001b[0m\u001b[0;34m\u001b[0m\u001b[0;34m\u001b[0m\u001b[0m\n\u001b[1;32m    556\u001b[0m   compiled_fun = _xla_callable(fun, device, backend, name, donated_invars,\n\u001b[0;32m--> 557\u001b[0;31m                                *unsafe_map(arg_spec, args))\n\u001b[0m\u001b[1;32m    558\u001b[0m   \u001b[0;32mtry\u001b[0m\u001b[0;34m:\u001b[0m\u001b[0;34m\u001b[0m\u001b[0;34m\u001b[0m\u001b[0m\n\u001b[1;32m    559\u001b[0m     \u001b[0;32mreturn\u001b[0m \u001b[0mcompiled_fun\u001b[0m\u001b[0;34m(\u001b[0m\u001b[0;34m*\u001b[0m\u001b[0margs\u001b[0m\u001b[0;34m)\u001b[0m\u001b[0;34m\u001b[0m\u001b[0;34m\u001b[0m\u001b[0m\n",
      "\u001b[0;32m~/miniconda3/lib/python3.7/site-packages/jax/linear_util.py\u001b[0m in \u001b[0;36mmemoized_fun\u001b[0;34m(fun, *args)\u001b[0m\n\u001b[1;32m    245\u001b[0m       \u001b[0mfun\u001b[0m\u001b[0;34m.\u001b[0m\u001b[0mpopulate_stores\u001b[0m\u001b[0;34m(\u001b[0m\u001b[0mstores\u001b[0m\u001b[0;34m)\u001b[0m\u001b[0;34m\u001b[0m\u001b[0;34m\u001b[0m\u001b[0m\n\u001b[1;32m    246\u001b[0m     \u001b[0;32melse\u001b[0m\u001b[0;34m:\u001b[0m\u001b[0;34m\u001b[0m\u001b[0;34m\u001b[0m\u001b[0m\n\u001b[0;32m--> 247\u001b[0;31m       \u001b[0mans\u001b[0m \u001b[0;34m=\u001b[0m \u001b[0mcall\u001b[0m\u001b[0;34m(\u001b[0m\u001b[0mfun\u001b[0m\u001b[0;34m,\u001b[0m \u001b[0;34m*\u001b[0m\u001b[0margs\u001b[0m\u001b[0;34m)\u001b[0m\u001b[0;34m\u001b[0m\u001b[0;34m\u001b[0m\u001b[0m\n\u001b[0m\u001b[1;32m    248\u001b[0m       \u001b[0mcache\u001b[0m\u001b[0;34m[\u001b[0m\u001b[0mkey\u001b[0m\u001b[0;34m]\u001b[0m \u001b[0;34m=\u001b[0m \u001b[0;34m(\u001b[0m\u001b[0mans\u001b[0m\u001b[0;34m,\u001b[0m \u001b[0mfun\u001b[0m\u001b[0;34m.\u001b[0m\u001b[0mstores\u001b[0m\u001b[0;34m)\u001b[0m\u001b[0;34m\u001b[0m\u001b[0;34m\u001b[0m\u001b[0m\n\u001b[1;32m    249\u001b[0m \u001b[0;34m\u001b[0m\u001b[0m\n",
      "\u001b[0;32m~/miniconda3/lib/python3.7/site-packages/jax/interpreters/xla.py\u001b[0m in \u001b[0;36m_xla_callable\u001b[0;34m(fun, device, backend, name, donated_invars, *arg_specs)\u001b[0m\n\u001b[1;32m    701\u001b[0m       device_assignment=(device.id,) if device else None)\n\u001b[1;32m    702\u001b[0m   \u001b[0moptions\u001b[0m\u001b[0;34m.\u001b[0m\u001b[0mparameter_is_tupled_arguments\u001b[0m \u001b[0;34m=\u001b[0m \u001b[0mtuple_args\u001b[0m\u001b[0;34m\u001b[0m\u001b[0;34m\u001b[0m\u001b[0m\n\u001b[0;32m--> 703\u001b[0;31m   \u001b[0mcompiled\u001b[0m \u001b[0;34m=\u001b[0m \u001b[0mbackend_compile\u001b[0m\u001b[0;34m(\u001b[0m\u001b[0mbackend\u001b[0m\u001b[0;34m,\u001b[0m \u001b[0mbuilt\u001b[0m\u001b[0;34m,\u001b[0m \u001b[0moptions\u001b[0m\u001b[0;34m)\u001b[0m\u001b[0;34m\u001b[0m\u001b[0;34m\u001b[0m\u001b[0m\n\u001b[0m\u001b[1;32m    704\u001b[0m   \u001b[0;32mif\u001b[0m \u001b[0mnreps\u001b[0m \u001b[0;34m==\u001b[0m \u001b[0;36m1\u001b[0m\u001b[0;34m:\u001b[0m\u001b[0;34m\u001b[0m\u001b[0;34m\u001b[0m\u001b[0m\n\u001b[1;32m    705\u001b[0m     \u001b[0;32mreturn\u001b[0m \u001b[0mpartial\u001b[0m\u001b[0;34m(\u001b[0m\u001b[0m_execute_compiled\u001b[0m\u001b[0;34m,\u001b[0m \u001b[0mcompiled\u001b[0m\u001b[0;34m,\u001b[0m \u001b[0mout_avals\u001b[0m\u001b[0;34m,\u001b[0m \u001b[0mresult_handlers\u001b[0m\u001b[0;34m)\u001b[0m\u001b[0;34m\u001b[0m\u001b[0;34m\u001b[0m\u001b[0m\n",
      "\u001b[0;32m~/miniconda3/lib/python3.7/site-packages/jax/interpreters/xla.py\u001b[0m in \u001b[0;36mbackend_compile\u001b[0;34m(backend, built_c, options)\u001b[0m\n\u001b[1;32m    342\u001b[0m   \u001b[0;31m# we use a separate function call to ensure that XLA compilation appears\u001b[0m\u001b[0;34m\u001b[0m\u001b[0;34m\u001b[0m\u001b[0;34m\u001b[0m\u001b[0m\n\u001b[1;32m    343\u001b[0m   \u001b[0;31m# separately in Python profiling results\u001b[0m\u001b[0;34m\u001b[0m\u001b[0;34m\u001b[0m\u001b[0;34m\u001b[0m\u001b[0m\n\u001b[0;32m--> 344\u001b[0;31m   \u001b[0;32mreturn\u001b[0m \u001b[0mbackend\u001b[0m\u001b[0;34m.\u001b[0m\u001b[0mcompile\u001b[0m\u001b[0;34m(\u001b[0m\u001b[0mbuilt_c\u001b[0m\u001b[0;34m,\u001b[0m \u001b[0mcompile_options\u001b[0m\u001b[0;34m=\u001b[0m\u001b[0moptions\u001b[0m\u001b[0;34m)\u001b[0m\u001b[0;34m\u001b[0m\u001b[0;34m\u001b[0m\u001b[0m\n\u001b[0m\u001b[1;32m    345\u001b[0m \u001b[0;34m\u001b[0m\u001b[0m\n\u001b[1;32m    346\u001b[0m \u001b[0;32mdef\u001b[0m \u001b[0m_execute_compiled_primitive\u001b[0m\u001b[0;34m(\u001b[0m\u001b[0mprim\u001b[0m\u001b[0;34m,\u001b[0m \u001b[0mcompiled\u001b[0m\u001b[0;34m,\u001b[0m \u001b[0mresult_handler\u001b[0m\u001b[0;34m,\u001b[0m \u001b[0;34m*\u001b[0m\u001b[0margs\u001b[0m\u001b[0;34m)\u001b[0m\u001b[0;34m:\u001b[0m\u001b[0;34m\u001b[0m\u001b[0;34m\u001b[0m\u001b[0m\n",
      "\u001b[0;31mKeyboardInterrupt\u001b[0m: "
     ]
    }
   ],
   "source": [
    "init_rng_key = random.PRNGKey(12273)\n",
    "mcmc2 = MCMC(NUTS(model2), 100, 1000)\n",
    "mcmc2.run(init_rng_key, altCounts)\n",
    "mcmc2.print_summary()"
   ]
  },
  {
   "cell_type": "code",
   "execution_count": 145,
   "metadata": {},
   "outputs": [
    {
     "output_type": "stream",
     "name": "stderr",
     "text": [
      "sample: 100%|██████████| 1100/1100 [36:24<00:00,  1.99s/it, 511 steps of size 1.30e-02. acc. prob=0.92]\n",
      "\n",
      "                mean       std    median      5.0%     95.0%     n_eff     r_hat\n",
      "   beta[0]      0.12      0.02      0.12      0.09      0.15    974.10      1.00\n",
      "   beta[1]      0.12      0.02      0.12      0.08      0.16    673.43      1.00\n",
      "   beta[2]      0.88      0.03      0.88      0.84      0.93   1070.36      1.00\n",
      "   beta[3]      1.00      0.00      1.00      1.00      1.00    954.84      1.00\n",
      "   beta[4]      0.98      0.10      1.00      0.96      1.00    866.41      1.00\n",
      "probs[0,0]      0.39      0.01      0.39      0.38      0.40   1183.73      1.00\n",
      "probs[0,1]      0.39      0.01      0.39      0.37      0.40   1217.92      1.00\n",
      "probs[0,2]      0.11      0.01      0.11      0.10      0.13    962.83      1.00\n",
      "probs[0,3]      0.11      0.00      0.11      0.10      0.12   1074.96      1.00\n",
      "probs[1,0]      0.47      0.02      0.47      0.44      0.49    883.83      1.00\n",
      "probs[1,1]      0.12      0.01      0.12      0.10      0.13    907.38      1.00\n",
      "probs[1,2]      0.33      0.01      0.33      0.30      0.35    781.90      1.00\n",
      "probs[1,3]      0.09      0.01      0.09      0.08      0.10    678.39      1.00\n",
      "probs[2,0]      0.60      0.00      0.60      0.60      0.61    980.27      1.01\n",
      "probs[2,1]      0.18      0.00      0.18      0.17      0.18   1094.02      1.00\n",
      "probs[2,2]      0.18      0.00      0.18      0.17      0.18    740.37      1.00\n",
      "probs[2,3]      0.05      0.00      0.05      0.04      0.05    950.80      1.00\n",
      "probs[3,0]      0.35      0.02      0.35      0.33      0.38   1209.83      1.00\n",
      "probs[3,1]      0.33      0.02      0.34      0.31      0.36   1012.77      1.00\n",
      "probs[3,2]      0.25      0.02      0.25      0.22      0.28    958.03      1.00\n",
      "probs[3,3]      0.07      0.01      0.07      0.05      0.08    995.13      1.00\n",
      "probs[4,0]      0.61      0.33      0.69      0.08      1.00    949.52      1.00\n",
      "probs[4,1]      0.17      0.26      0.04      0.00      0.61   1238.77      1.01\n",
      "probs[4,2]      0.16      0.25      0.02      0.00      0.58    868.13      1.00\n",
      "probs[4,3]      0.06      0.16      0.00      0.00      0.20    727.14      1.00\n",
      "probs[5,0]      0.59      0.35      0.67      0.07      1.00   1778.46      1.00\n",
      "probs[5,1]      0.19      0.28      0.03      0.00      0.69    896.25      1.00\n",
      "probs[5,2]      0.17      0.26      0.02      0.00      0.63   1048.27      1.00\n",
      "probs[5,3]      0.05      0.14      0.00      0.00      0.11    601.76      1.00\n",
      "\n",
      "Number of divergences: 0\n"
     ]
    }
   ],
   "source": [
    "init_rng_key = random.PRNGKey(12273)\n",
    "mcmc2 = MCMC(NUTS(model2), 100, 1000)\n",
    "mcmc2.run(init_rng_key, altCounts)\n",
    "mcmc2.print_summary()"
   ]
  },
  {
   "cell_type": "code",
   "execution_count": 146,
   "metadata": {},
   "outputs": [
    {
     "output_type": "stream",
     "name": "stdout",
     "text": [
      "[[0.39211874 0.38736612 0.11190081 0.10861433]\n [0.46612388 0.11838287 0.32745656 0.08803669]\n [0.60266295 0.17639223 0.17521274 0.04573208]\n [0.3535165  0.33476523 0.24628394 0.06543433]\n [0.61430071 0.17304907 0.15526492 0.0573853 ]\n [0.59373944 0.18928602 0.1709757  0.04599884]]\ninferred stick-breaking weights [0.12254736 0.10393912 0.68339908 0.09331336 0.00106234 0.00099934]\n"
     ]
    }
   ],
   "source": [
    "# Scaling by pDs gives absolutely no difference in concentrations or probabilities.\n",
    "prob2 = mcmc2.get_samples()[\"probs\"]\n",
    "print(prob2.mean(0))\n",
    "\n",
    "# concs = mcmcAf.get_samples()[\"conc\"]\n",
    "# print(\"conc std\", concs.std(0))\n",
    "# print(\"conc mean\", concs.mean(0))\n",
    "# print(\"DIrichlet version\", Dirichlet(concs.mean(0)).mean)\n",
    "\n",
    "betaScaled2 = mcmc2.get_samples()['beta']\n",
    "print(\"inferred stick-breaking weights\", mix_weights(betaScaled2).mean(0))"
   ]
  },
  {
   "cell_type": "code",
   "execution_count": 4,
   "metadata": {},
   "outputs": [
    {
     "output_type": "stream",
     "name": "stdout",
     "text": [
      "conc [[2.00129591 3.21089628 0.24526678 0.22278495]\n",
      " [5.26640257 0.1694261  0.52994417 0.20110634]\n",
      " [2.34816385 7.35517131 1.24963289 0.38134861]\n",
      " [0.42218231 3.41799151 2.45515856 0.26877573]\n",
      " [0.7501398  3.71328    0.31491819 0.16714328]\n",
      " [0.89264173 0.20535182 0.76651087 1.3324808 ]]\n",
      "z [0 1 0 ... 0 0 0]\n",
      "conc [[2.00129591 3.21089628 0.24526678 0.22278495]\n",
      " [5.26640257 0.1694261  0.52994417 0.20110634]\n",
      " [2.34816385 7.35517131 1.24963289 0.38134861]\n",
      " [0.42218231 3.41799151 2.45515856 0.26877573]\n",
      " [0.7501398  3.71328    0.31491819 0.16714328]\n",
      " [0.89264173 0.20535182 0.76651087 1.3324808 ]]\n",
      "conc Traced<ConcreteArray([[4.54624576 5.61589118 4.68512146 2.09159227]\n",
      " [3.31563156 0.92769964 0.15529629 0.38757781]\n",
      " [5.93219306 3.99363856 3.79682384 3.22168162]\n",
      " [1.17839928 0.62780711 1.43231853 0.24220532]\n",
      " [6.1643545  0.28355383 0.29489148 7.29163739]\n",
      " [5.55883343 0.18768693 2.78877944 2.73324332]])>with<JVPTrace(level=2/0)>\n",
      "  with primal = DeviceArray([[4.54624576, 5.61589118, 4.68512146, 2.09159227],\n",
      "                             [3.31563156, 0.92769964, 0.15529629, 0.38757781],\n",
      "                             [5.93219306, 3.99363856, 3.79682384, 3.22168162],\n",
      "                             [1.17839928, 0.62780711, 1.43231853, 0.24220532],\n",
      "                             [6.1643545 , 0.28355383, 0.29489148, 7.29163739],\n",
      "                             [5.55883343, 0.18768693, 2.78877944, 2.73324332]],            dtype=float64)\n",
      "       tangent = Traced<ShapedArray(float64[6,4]):JaxprTrace(level=1/0)>\n"
     ]
    },
    {
     "output_type": "error",
     "ename": "AssertionError",
     "evalue": "",
     "traceback": [
      "\u001b[0;31m---------------------------------------------------------------------------\u001b[0m",
      "\u001b[0;31mFilteredStackTrace\u001b[0m                        Traceback (most recent call last)",
      "\u001b[0;32m<ipython-input-4-f25e893ffcae>\u001b[0m in \u001b[0;36m<module>\u001b[0;34m\u001b[0m\n\u001b[1;32m      2\u001b[0m \u001b[0mmcmcGamma\u001b[0m \u001b[0;34m=\u001b[0m \u001b[0mMCMC\u001b[0m\u001b[0;34m(\u001b[0m\u001b[0mNUTS\u001b[0m\u001b[0;34m(\u001b[0m\u001b[0mmodelGamma\u001b[0m\u001b[0;34m)\u001b[0m\u001b[0;34m,\u001b[0m \u001b[0;36m100\u001b[0m\u001b[0;34m,\u001b[0m \u001b[0;36m1000\u001b[0m\u001b[0;34m)\u001b[0m\u001b[0;34m\u001b[0m\u001b[0;34m\u001b[0m\u001b[0m\n\u001b[0;32m----> 3\u001b[0;31m \u001b[0mmcmcGamma\u001b[0m\u001b[0;34m.\u001b[0m\u001b[0mrun\u001b[0m\u001b[0;34m(\u001b[0m\u001b[0minit_rng_key\u001b[0m\u001b[0;34m,\u001b[0m \u001b[0maltCounts\u001b[0m\u001b[0;34m)\u001b[0m\u001b[0;34m\u001b[0m\u001b[0;34m\u001b[0m\u001b[0m\n\u001b[0m\u001b[1;32m      4\u001b[0m \u001b[0mmcmcGamma\u001b[0m\u001b[0;34m.\u001b[0m\u001b[0mprint_summary\u001b[0m\u001b[0;34m(\u001b[0m\u001b[0;34m)\u001b[0m\u001b[0;34m\u001b[0m\u001b[0;34m\u001b[0m\u001b[0m\n",
      "\u001b[0;32m~/miniconda3/lib/python3.7/site-packages/numpyro/infer/mcmc.py\u001b[0m in \u001b[0;36mrun\u001b[0;34m(self, rng_key, extra_fields, init_params, *args, **kwargs)\u001b[0m\n\u001b[1;32m    448\u001b[0m         \u001b[0;32mif\u001b[0m \u001b[0mself\u001b[0m\u001b[0;34m.\u001b[0m\u001b[0mnum_chains\u001b[0m \u001b[0;34m==\u001b[0m \u001b[0;36m1\u001b[0m\u001b[0;34m:\u001b[0m\u001b[0;34m\u001b[0m\u001b[0;34m\u001b[0m\u001b[0m\n\u001b[0;32m--> 449\u001b[0;31m             \u001b[0mstates_flat\u001b[0m\u001b[0;34m,\u001b[0m \u001b[0mlast_state\u001b[0m \u001b[0;34m=\u001b[0m \u001b[0mpartial_map_fn\u001b[0m\u001b[0;34m(\u001b[0m\u001b[0mmap_args\u001b[0m\u001b[0;34m)\u001b[0m\u001b[0;34m\u001b[0m\u001b[0;34m\u001b[0m\u001b[0m\n\u001b[0m\u001b[1;32m    450\u001b[0m             \u001b[0mstates\u001b[0m \u001b[0;34m=\u001b[0m \u001b[0mtree_map\u001b[0m\u001b[0;34m(\u001b[0m\u001b[0;32mlambda\u001b[0m \u001b[0mx\u001b[0m\u001b[0;34m:\u001b[0m \u001b[0mx\u001b[0m\u001b[0;34m[\u001b[0m\u001b[0mjnp\u001b[0m\u001b[0;34m.\u001b[0m\u001b[0mnewaxis\u001b[0m\u001b[0;34m,\u001b[0m \u001b[0;34m...\u001b[0m\u001b[0;34m]\u001b[0m\u001b[0;34m,\u001b[0m \u001b[0mstates_flat\u001b[0m\u001b[0;34m)\u001b[0m\u001b[0;34m\u001b[0m\u001b[0;34m\u001b[0m\u001b[0m\n",
      "\u001b[0;32m~/miniconda3/lib/python3.7/site-packages/numpyro/infer/mcmc.py\u001b[0m in \u001b[0;36m_single_chain_mcmc\u001b[0;34m(self, init, args, kwargs, collect_fields)\u001b[0m\n\u001b[1;32m    312\u001b[0m             init_state = self.sampler.init(rng_key, self.num_warmup, init_params,\n\u001b[0;32m--> 313\u001b[0;31m                                            model_args=args, model_kwargs=kwargs)\n\u001b[0m\u001b[1;32m    314\u001b[0m         \u001b[0;32mif\u001b[0m \u001b[0mself\u001b[0m\u001b[0;34m.\u001b[0m\u001b[0mpostprocess_fn\u001b[0m \u001b[0;32mis\u001b[0m \u001b[0;32mNone\u001b[0m\u001b[0;34m:\u001b[0m\u001b[0;34m\u001b[0m\u001b[0;34m\u001b[0m\u001b[0m\n",
      "\u001b[0;32m~/miniconda3/lib/python3.7/site-packages/numpyro/infer/hmc.py\u001b[0m in \u001b[0;36minit\u001b[0;34m(self, rng_key, num_warmup, init_params, model_args, model_kwargs)\u001b[0m\n\u001b[1;32m    449\u001b[0m             \u001b[0mrng_key\u001b[0m\u001b[0;34m,\u001b[0m \u001b[0mrng_key_init_model\u001b[0m \u001b[0;34m=\u001b[0m \u001b[0mjnp\u001b[0m\u001b[0;34m.\u001b[0m\u001b[0mswapaxes\u001b[0m\u001b[0;34m(\u001b[0m\u001b[0mvmap\u001b[0m\u001b[0;34m(\u001b[0m\u001b[0mrandom\u001b[0m\u001b[0;34m.\u001b[0m\u001b[0msplit\u001b[0m\u001b[0;34m)\u001b[0m\u001b[0;34m(\u001b[0m\u001b[0mrng_key\u001b[0m\u001b[0;34m)\u001b[0m\u001b[0;34m,\u001b[0m \u001b[0;36m0\u001b[0m\u001b[0;34m,\u001b[0m \u001b[0;36m1\u001b[0m\u001b[0;34m)\u001b[0m\u001b[0;34m\u001b[0m\u001b[0;34m\u001b[0m\u001b[0m\n\u001b[0;32m--> 450\u001b[0;31m         \u001b[0minit_params\u001b[0m \u001b[0;34m=\u001b[0m \u001b[0mself\u001b[0m\u001b[0;34m.\u001b[0m\u001b[0m_init_state\u001b[0m\u001b[0;34m(\u001b[0m\u001b[0mrng_key_init_model\u001b[0m\u001b[0;34m,\u001b[0m \u001b[0mmodel_args\u001b[0m\u001b[0;34m,\u001b[0m \u001b[0mmodel_kwargs\u001b[0m\u001b[0;34m,\u001b[0m \u001b[0minit_params\u001b[0m\u001b[0;34m)\u001b[0m\u001b[0;34m\u001b[0m\u001b[0;34m\u001b[0m\u001b[0m\n\u001b[0m\u001b[1;32m    451\u001b[0m         \u001b[0;32mif\u001b[0m \u001b[0mself\u001b[0m\u001b[0;34m.\u001b[0m\u001b[0m_potential_fn\u001b[0m \u001b[0;32mand\u001b[0m \u001b[0minit_params\u001b[0m \u001b[0;32mis\u001b[0m \u001b[0;32mNone\u001b[0m\u001b[0;34m:\u001b[0m\u001b[0;34m\u001b[0m\u001b[0;34m\u001b[0m\u001b[0m\n",
      "\u001b[0;32m~/miniconda3/lib/python3.7/site-packages/numpyro/infer/hmc.py\u001b[0m in \u001b[0;36m_init_state\u001b[0;34m(self, rng_key, model_args, model_kwargs, init_params)\u001b[0m\n\u001b[1;32m    412\u001b[0m                 \u001b[0mmodel_args\u001b[0m\u001b[0;34m=\u001b[0m\u001b[0mmodel_args\u001b[0m\u001b[0;34m,\u001b[0m\u001b[0;34m\u001b[0m\u001b[0;34m\u001b[0m\u001b[0m\n\u001b[0;32m--> 413\u001b[0;31m                 model_kwargs=model_kwargs)\n\u001b[0m\u001b[1;32m    414\u001b[0m             \u001b[0;32mif\u001b[0m \u001b[0mself\u001b[0m\u001b[0;34m.\u001b[0m\u001b[0m_init_fn\u001b[0m \u001b[0;32mis\u001b[0m \u001b[0;32mNone\u001b[0m\u001b[0;34m:\u001b[0m\u001b[0;34m\u001b[0m\u001b[0;34m\u001b[0m\u001b[0m\n",
      "\u001b[0;32m~/miniconda3/lib/python3.7/site-packages/numpyro/infer/util.py\u001b[0m in \u001b[0;36minitialize_model\u001b[0;34m(rng_key, model, init_strategy, dynamic_args, model_args, model_kwargs)\u001b[0m\n\u001b[1;32m    429\u001b[0m                                                                   \u001b[0mmodel_kwargs\u001b[0m\u001b[0;34m=\u001b[0m\u001b[0mmodel_kwargs\u001b[0m\u001b[0;34m,\u001b[0m\u001b[0;34m\u001b[0m\u001b[0;34m\u001b[0m\u001b[0m\n\u001b[0;32m--> 430\u001b[0;31m                                                                   prototype_params=prototype_params)\n\u001b[0m\u001b[1;32m    431\u001b[0m \u001b[0;34m\u001b[0m\u001b[0m\n",
      "\u001b[0;32m~/miniconda3/lib/python3.7/site-packages/numpyro/infer/util.py\u001b[0m in \u001b[0;36mfind_valid_initial_params\u001b[0;34m(rng_key, model, init_strategy, enum, model_args, model_kwargs, prototype_params)\u001b[0m\n\u001b[1;32m    256\u001b[0m     \u001b[0;32mif\u001b[0m \u001b[0mrng_key\u001b[0m\u001b[0;34m.\u001b[0m\u001b[0mndim\u001b[0m \u001b[0;34m==\u001b[0m \u001b[0;36m1\u001b[0m\u001b[0;34m:\u001b[0m\u001b[0;34m\u001b[0m\u001b[0;34m\u001b[0m\u001b[0m\n\u001b[0;32m--> 257\u001b[0;31m         \u001b[0;34m(\u001b[0m\u001b[0minit_params\u001b[0m\u001b[0;34m,\u001b[0m \u001b[0mpe\u001b[0m\u001b[0;34m,\u001b[0m \u001b[0mz_grad\u001b[0m\u001b[0;34m)\u001b[0m\u001b[0;34m,\u001b[0m \u001b[0mis_valid\u001b[0m \u001b[0;34m=\u001b[0m \u001b[0m_find_valid_params\u001b[0m\u001b[0;34m(\u001b[0m\u001b[0mrng_key\u001b[0m\u001b[0;34m,\u001b[0m \u001b[0mexit_early\u001b[0m\u001b[0;34m=\u001b[0m\u001b[0;32mTrue\u001b[0m\u001b[0;34m)\u001b[0m\u001b[0;34m\u001b[0m\u001b[0;34m\u001b[0m\u001b[0m\n\u001b[0m\u001b[1;32m    258\u001b[0m     \u001b[0;32melse\u001b[0m\u001b[0;34m:\u001b[0m\u001b[0;34m\u001b[0m\u001b[0;34m\u001b[0m\u001b[0m\n",
      "\u001b[0;32m~/miniconda3/lib/python3.7/site-packages/numpyro/infer/util.py\u001b[0m in \u001b[0;36m_find_valid_params\u001b[0;34m(rng_key, exit_early)\u001b[0m\n\u001b[1;32m    244\u001b[0m             \u001b[0;31m# where we can avoid compiling body_fn in while_loop.\u001b[0m\u001b[0;34m\u001b[0m\u001b[0;34m\u001b[0m\u001b[0;34m\u001b[0m\u001b[0m\n\u001b[0;32m--> 245\u001b[0;31m             \u001b[0m_\u001b[0m\u001b[0;34m,\u001b[0m \u001b[0m_\u001b[0m\u001b[0;34m,\u001b[0m \u001b[0;34m(\u001b[0m\u001b[0minit_params\u001b[0m\u001b[0;34m,\u001b[0m \u001b[0mpe\u001b[0m\u001b[0;34m,\u001b[0m \u001b[0mz_grad\u001b[0m\u001b[0;34m)\u001b[0m\u001b[0;34m,\u001b[0m \u001b[0mis_valid\u001b[0m \u001b[0;34m=\u001b[0m \u001b[0minit_state\u001b[0m \u001b[0;34m=\u001b[0m \u001b[0mbody_fn\u001b[0m\u001b[0;34m(\u001b[0m\u001b[0minit_state\u001b[0m\u001b[0;34m)\u001b[0m\u001b[0;34m\u001b[0m\u001b[0;34m\u001b[0m\u001b[0m\n\u001b[0m\u001b[1;32m    246\u001b[0m             \u001b[0;32mif\u001b[0m \u001b[0mnot_jax_tracer\u001b[0m\u001b[0;34m(\u001b[0m\u001b[0mis_valid\u001b[0m\u001b[0;34m)\u001b[0m\u001b[0;34m:\u001b[0m\u001b[0;34m\u001b[0m\u001b[0;34m\u001b[0m\u001b[0m\n",
      "\u001b[0;32m~/miniconda3/lib/python3.7/site-packages/numpyro/infer/util.py\u001b[0m in \u001b[0;36mbody_fn\u001b[0;34m(state)\u001b[0m\n\u001b[1;32m    234\u001b[0m         \u001b[0mpotential_fn\u001b[0m \u001b[0;34m=\u001b[0m \u001b[0mpartial\u001b[0m\u001b[0;34m(\u001b[0m\u001b[0mpotential_energy\u001b[0m\u001b[0;34m,\u001b[0m \u001b[0mmodel\u001b[0m\u001b[0;34m,\u001b[0m \u001b[0mmodel_args\u001b[0m\u001b[0;34m,\u001b[0m \u001b[0mmodel_kwargs\u001b[0m\u001b[0;34m,\u001b[0m \u001b[0menum\u001b[0m\u001b[0;34m=\u001b[0m\u001b[0menum\u001b[0m\u001b[0;34m)\u001b[0m\u001b[0;34m\u001b[0m\u001b[0;34m\u001b[0m\u001b[0m\n\u001b[0;32m--> 235\u001b[0;31m         \u001b[0mpe\u001b[0m\u001b[0;34m,\u001b[0m \u001b[0mz_grad\u001b[0m \u001b[0;34m=\u001b[0m \u001b[0mvalue_and_grad\u001b[0m\u001b[0;34m(\u001b[0m\u001b[0mpotential_fn\u001b[0m\u001b[0;34m)\u001b[0m\u001b[0;34m(\u001b[0m\u001b[0mparams\u001b[0m\u001b[0;34m)\u001b[0m\u001b[0;34m\u001b[0m\u001b[0;34m\u001b[0m\u001b[0m\n\u001b[0m\u001b[1;32m    236\u001b[0m         \u001b[0mz_grad_flat\u001b[0m \u001b[0;34m=\u001b[0m \u001b[0mravel_pytree\u001b[0m\u001b[0;34m(\u001b[0m\u001b[0mz_grad\u001b[0m\u001b[0;34m)\u001b[0m\u001b[0;34m[\u001b[0m\u001b[0;36m0\u001b[0m\u001b[0;34m]\u001b[0m\u001b[0;34m\u001b[0m\u001b[0;34m\u001b[0m\u001b[0m\n",
      "\u001b[0;32m~/miniconda3/lib/python3.7/site-packages/numpyro/infer/util.py\u001b[0m in \u001b[0;36mpotential_energy\u001b[0;34m(model, model_args, model_kwargs, params, enum)\u001b[0m\n\u001b[1;32m    156\u001b[0m     \u001b[0;31m# no param is needed for log_density computation because we already substitute\u001b[0m\u001b[0;34m\u001b[0m\u001b[0;34m\u001b[0m\u001b[0;34m\u001b[0m\u001b[0m\n\u001b[0;32m--> 157\u001b[0;31m     \u001b[0mlog_joint\u001b[0m\u001b[0;34m,\u001b[0m \u001b[0mmodel_trace\u001b[0m \u001b[0;34m=\u001b[0m \u001b[0mlog_density_\u001b[0m\u001b[0;34m(\u001b[0m\u001b[0msubstituted_model\u001b[0m\u001b[0;34m,\u001b[0m \u001b[0mmodel_args\u001b[0m\u001b[0;34m,\u001b[0m \u001b[0mmodel_kwargs\u001b[0m\u001b[0;34m,\u001b[0m \u001b[0;34m{\u001b[0m\u001b[0;34m}\u001b[0m\u001b[0;34m)\u001b[0m\u001b[0;34m\u001b[0m\u001b[0;34m\u001b[0m\u001b[0m\n\u001b[0m\u001b[1;32m    158\u001b[0m     \u001b[0;32mreturn\u001b[0m \u001b[0;34m-\u001b[0m \u001b[0mlog_joint\u001b[0m\u001b[0;34m\u001b[0m\u001b[0;34m\u001b[0m\u001b[0m\n",
      "\u001b[0;32m~/miniconda3/lib/python3.7/site-packages/numpyro/contrib/funsor/infer_util.py\u001b[0m in \u001b[0;36mlog_density\u001b[0;34m(model, model_args, model_kwargs, params)\u001b[0m\n\u001b[1;32m    123\u001b[0m     \u001b[0;32mwith\u001b[0m \u001b[0mplate_to_enum_plate\u001b[0m\u001b[0;34m(\u001b[0m\u001b[0;34m)\u001b[0m\u001b[0;34m:\u001b[0m\u001b[0;34m\u001b[0m\u001b[0;34m\u001b[0m\u001b[0m\n\u001b[0;32m--> 124\u001b[0;31m         \u001b[0mmodel_trace\u001b[0m \u001b[0;34m=\u001b[0m \u001b[0mpacked_trace\u001b[0m\u001b[0;34m(\u001b[0m\u001b[0mmodel\u001b[0m\u001b[0;34m)\u001b[0m\u001b[0;34m.\u001b[0m\u001b[0mget_trace\u001b[0m\u001b[0;34m(\u001b[0m\u001b[0;34m*\u001b[0m\u001b[0mmodel_args\u001b[0m\u001b[0;34m,\u001b[0m \u001b[0;34m**\u001b[0m\u001b[0mmodel_kwargs\u001b[0m\u001b[0;34m)\u001b[0m\u001b[0;34m\u001b[0m\u001b[0;34m\u001b[0m\u001b[0m\n\u001b[0m\u001b[1;32m    125\u001b[0m     \u001b[0mlog_factors\u001b[0m \u001b[0;34m=\u001b[0m \u001b[0;34m[\u001b[0m\u001b[0;34m]\u001b[0m\u001b[0;34m\u001b[0m\u001b[0;34m\u001b[0m\u001b[0m\n",
      "\u001b[0;32m~/miniconda3/lib/python3.7/site-packages/numpyro/handlers.py\u001b[0m in \u001b[0;36mget_trace\u001b[0;34m(self, *args, **kwargs)\u001b[0m\n\u001b[1;32m    157\u001b[0m         \"\"\"\n\u001b[0;32m--> 158\u001b[0;31m         \u001b[0mself\u001b[0m\u001b[0;34m(\u001b[0m\u001b[0;34m*\u001b[0m\u001b[0margs\u001b[0m\u001b[0;34m,\u001b[0m \u001b[0;34m**\u001b[0m\u001b[0mkwargs\u001b[0m\u001b[0;34m)\u001b[0m\u001b[0;34m\u001b[0m\u001b[0;34m\u001b[0m\u001b[0m\n\u001b[0m\u001b[1;32m    159\u001b[0m         \u001b[0;32mreturn\u001b[0m \u001b[0mself\u001b[0m\u001b[0;34m.\u001b[0m\u001b[0mtrace\u001b[0m\u001b[0;34m\u001b[0m\u001b[0;34m\u001b[0m\u001b[0m\n",
      "\u001b[0;32m~/miniconda3/lib/python3.7/site-packages/numpyro/primitives.py\u001b[0m in \u001b[0;36m__call__\u001b[0;34m(self, *args, **kwargs)\u001b[0m\n\u001b[1;32m     67\u001b[0m         \u001b[0;32mwith\u001b[0m \u001b[0mself\u001b[0m\u001b[0;34m:\u001b[0m\u001b[0;34m\u001b[0m\u001b[0;34m\u001b[0m\u001b[0m\n\u001b[0;32m---> 68\u001b[0;31m             \u001b[0;32mreturn\u001b[0m \u001b[0mself\u001b[0m\u001b[0;34m.\u001b[0m\u001b[0mfn\u001b[0m\u001b[0;34m(\u001b[0m\u001b[0;34m*\u001b[0m\u001b[0margs\u001b[0m\u001b[0;34m,\u001b[0m \u001b[0;34m**\u001b[0m\u001b[0mkwargs\u001b[0m\u001b[0;34m)\u001b[0m\u001b[0;34m\u001b[0m\u001b[0;34m\u001b[0m\u001b[0m\n\u001b[0m\u001b[1;32m     69\u001b[0m \u001b[0;34m\u001b[0m\u001b[0m\n",
      "\u001b[0;32m~/miniconda3/lib/python3.7/site-packages/numpyro/primitives.py\u001b[0m in \u001b[0;36m__exit__\u001b[0;34m(self, *args, **kwargs)\u001b[0m\n\u001b[1;32m     56\u001b[0m     \u001b[0;32mdef\u001b[0m \u001b[0m__exit__\u001b[0m\u001b[0;34m(\u001b[0m\u001b[0mself\u001b[0m\u001b[0;34m,\u001b[0m \u001b[0;34m*\u001b[0m\u001b[0margs\u001b[0m\u001b[0;34m,\u001b[0m \u001b[0;34m**\u001b[0m\u001b[0mkwargs\u001b[0m\u001b[0;34m)\u001b[0m\u001b[0;34m:\u001b[0m\u001b[0;34m\u001b[0m\u001b[0;34m\u001b[0m\u001b[0m\n\u001b[0;32m---> 57\u001b[0;31m         \u001b[0;32massert\u001b[0m \u001b[0m_PYRO_STACK\u001b[0m\u001b[0;34m[\u001b[0m\u001b[0;34m-\u001b[0m\u001b[0;36m1\u001b[0m\u001b[0;34m]\u001b[0m \u001b[0;32mis\u001b[0m \u001b[0mself\u001b[0m\u001b[0;34m\u001b[0m\u001b[0;34m\u001b[0m\u001b[0m\n\u001b[0m\u001b[1;32m     58\u001b[0m         \u001b[0m_PYRO_STACK\u001b[0m\u001b[0;34m.\u001b[0m\u001b[0mpop\u001b[0m\u001b[0;34m(\u001b[0m\u001b[0;34m)\u001b[0m\u001b[0;34m\u001b[0m\u001b[0;34m\u001b[0m\u001b[0m\n",
      "\u001b[0;31mFilteredStackTrace\u001b[0m: AssertionError\n\nThe stack trace above excludes JAX-internal frames.\nThe following is the original exception that occurred, unmodified.\n\n--------------------",
      "\nThe above exception was the direct cause of the following exception:\n",
      "\u001b[0;31mAssertionError\u001b[0m                            Traceback (most recent call last)",
      "\u001b[0;32m<ipython-input-4-f25e893ffcae>\u001b[0m in \u001b[0;36m<module>\u001b[0;34m\u001b[0m\n\u001b[1;32m      1\u001b[0m \u001b[0minit_rng_key\u001b[0m \u001b[0;34m=\u001b[0m \u001b[0mrandom\u001b[0m\u001b[0;34m.\u001b[0m\u001b[0mPRNGKey\u001b[0m\u001b[0;34m(\u001b[0m\u001b[0;36m12273\u001b[0m\u001b[0;34m)\u001b[0m\u001b[0;34m\u001b[0m\u001b[0;34m\u001b[0m\u001b[0m\n\u001b[1;32m      2\u001b[0m \u001b[0mmcmcGamma\u001b[0m \u001b[0;34m=\u001b[0m \u001b[0mMCMC\u001b[0m\u001b[0;34m(\u001b[0m\u001b[0mNUTS\u001b[0m\u001b[0;34m(\u001b[0m\u001b[0mmodelGamma\u001b[0m\u001b[0;34m)\u001b[0m\u001b[0;34m,\u001b[0m \u001b[0;36m100\u001b[0m\u001b[0;34m,\u001b[0m \u001b[0;36m1000\u001b[0m\u001b[0;34m)\u001b[0m\u001b[0;34m\u001b[0m\u001b[0;34m\u001b[0m\u001b[0m\n\u001b[0;32m----> 3\u001b[0;31m \u001b[0mmcmcGamma\u001b[0m\u001b[0;34m.\u001b[0m\u001b[0mrun\u001b[0m\u001b[0;34m(\u001b[0m\u001b[0minit_rng_key\u001b[0m\u001b[0;34m,\u001b[0m \u001b[0maltCounts\u001b[0m\u001b[0;34m)\u001b[0m\u001b[0;34m\u001b[0m\u001b[0;34m\u001b[0m\u001b[0m\n\u001b[0m\u001b[1;32m      4\u001b[0m \u001b[0mmcmcGamma\u001b[0m\u001b[0;34m.\u001b[0m\u001b[0mprint_summary\u001b[0m\u001b[0;34m(\u001b[0m\u001b[0;34m)\u001b[0m\u001b[0;34m\u001b[0m\u001b[0;34m\u001b[0m\u001b[0m\n",
      "\u001b[0;32m~/miniconda3/lib/python3.7/site-packages/numpyro/infer/mcmc.py\u001b[0m in \u001b[0;36mrun\u001b[0;34m(self, rng_key, extra_fields, init_params, *args, **kwargs)\u001b[0m\n\u001b[1;32m    447\u001b[0m         \u001b[0mmap_args\u001b[0m \u001b[0;34m=\u001b[0m \u001b[0;34m(\u001b[0m\u001b[0mrng_key\u001b[0m\u001b[0;34m,\u001b[0m \u001b[0minit_state\u001b[0m\u001b[0;34m,\u001b[0m \u001b[0minit_params\u001b[0m\u001b[0;34m)\u001b[0m\u001b[0;34m\u001b[0m\u001b[0;34m\u001b[0m\u001b[0m\n\u001b[1;32m    448\u001b[0m         \u001b[0;32mif\u001b[0m \u001b[0mself\u001b[0m\u001b[0;34m.\u001b[0m\u001b[0mnum_chains\u001b[0m \u001b[0;34m==\u001b[0m \u001b[0;36m1\u001b[0m\u001b[0;34m:\u001b[0m\u001b[0;34m\u001b[0m\u001b[0;34m\u001b[0m\u001b[0m\n\u001b[0;32m--> 449\u001b[0;31m             \u001b[0mstates_flat\u001b[0m\u001b[0;34m,\u001b[0m \u001b[0mlast_state\u001b[0m \u001b[0;34m=\u001b[0m \u001b[0mpartial_map_fn\u001b[0m\u001b[0;34m(\u001b[0m\u001b[0mmap_args\u001b[0m\u001b[0;34m)\u001b[0m\u001b[0;34m\u001b[0m\u001b[0;34m\u001b[0m\u001b[0m\n\u001b[0m\u001b[1;32m    450\u001b[0m             \u001b[0mstates\u001b[0m \u001b[0;34m=\u001b[0m \u001b[0mtree_map\u001b[0m\u001b[0;34m(\u001b[0m\u001b[0;32mlambda\u001b[0m \u001b[0mx\u001b[0m\u001b[0;34m:\u001b[0m \u001b[0mx\u001b[0m\u001b[0;34m[\u001b[0m\u001b[0mjnp\u001b[0m\u001b[0;34m.\u001b[0m\u001b[0mnewaxis\u001b[0m\u001b[0;34m,\u001b[0m \u001b[0;34m...\u001b[0m\u001b[0;34m]\u001b[0m\u001b[0;34m,\u001b[0m \u001b[0mstates_flat\u001b[0m\u001b[0;34m)\u001b[0m\u001b[0;34m\u001b[0m\u001b[0;34m\u001b[0m\u001b[0m\n\u001b[1;32m    451\u001b[0m         \u001b[0;32melse\u001b[0m\u001b[0;34m:\u001b[0m\u001b[0;34m\u001b[0m\u001b[0;34m\u001b[0m\u001b[0m\n",
      "\u001b[0;32m~/miniconda3/lib/python3.7/site-packages/numpyro/infer/mcmc.py\u001b[0m in \u001b[0;36m_single_chain_mcmc\u001b[0;34m(self, init, args, kwargs, collect_fields)\u001b[0m\n\u001b[1;32m    311\u001b[0m         \u001b[0;32mif\u001b[0m \u001b[0minit_state\u001b[0m \u001b[0;32mis\u001b[0m \u001b[0;32mNone\u001b[0m\u001b[0;34m:\u001b[0m\u001b[0;34m\u001b[0m\u001b[0;34m\u001b[0m\u001b[0m\n\u001b[1;32m    312\u001b[0m             init_state = self.sampler.init(rng_key, self.num_warmup, init_params,\n\u001b[0;32m--> 313\u001b[0;31m                                            model_args=args, model_kwargs=kwargs)\n\u001b[0m\u001b[1;32m    314\u001b[0m         \u001b[0;32mif\u001b[0m \u001b[0mself\u001b[0m\u001b[0;34m.\u001b[0m\u001b[0mpostprocess_fn\u001b[0m \u001b[0;32mis\u001b[0m \u001b[0;32mNone\u001b[0m\u001b[0;34m:\u001b[0m\u001b[0;34m\u001b[0m\u001b[0;34m\u001b[0m\u001b[0m\n\u001b[1;32m    315\u001b[0m             \u001b[0mpostprocess_fn\u001b[0m \u001b[0;34m=\u001b[0m \u001b[0mself\u001b[0m\u001b[0;34m.\u001b[0m\u001b[0msampler\u001b[0m\u001b[0;34m.\u001b[0m\u001b[0mpostprocess_fn\u001b[0m\u001b[0;34m(\u001b[0m\u001b[0margs\u001b[0m\u001b[0;34m,\u001b[0m \u001b[0mkwargs\u001b[0m\u001b[0;34m)\u001b[0m\u001b[0;34m\u001b[0m\u001b[0;34m\u001b[0m\u001b[0m\n",
      "\u001b[0;32m~/miniconda3/lib/python3.7/site-packages/numpyro/infer/hmc.py\u001b[0m in \u001b[0;36minit\u001b[0;34m(self, rng_key, num_warmup, init_params, model_args, model_kwargs)\u001b[0m\n\u001b[1;32m    448\u001b[0m         \u001b[0;32melse\u001b[0m\u001b[0;34m:\u001b[0m\u001b[0;34m\u001b[0m\u001b[0;34m\u001b[0m\u001b[0m\n\u001b[1;32m    449\u001b[0m             \u001b[0mrng_key\u001b[0m\u001b[0;34m,\u001b[0m \u001b[0mrng_key_init_model\u001b[0m \u001b[0;34m=\u001b[0m \u001b[0mjnp\u001b[0m\u001b[0;34m.\u001b[0m\u001b[0mswapaxes\u001b[0m\u001b[0;34m(\u001b[0m\u001b[0mvmap\u001b[0m\u001b[0;34m(\u001b[0m\u001b[0mrandom\u001b[0m\u001b[0;34m.\u001b[0m\u001b[0msplit\u001b[0m\u001b[0;34m)\u001b[0m\u001b[0;34m(\u001b[0m\u001b[0mrng_key\u001b[0m\u001b[0;34m)\u001b[0m\u001b[0;34m,\u001b[0m \u001b[0;36m0\u001b[0m\u001b[0;34m,\u001b[0m \u001b[0;36m1\u001b[0m\u001b[0;34m)\u001b[0m\u001b[0;34m\u001b[0m\u001b[0;34m\u001b[0m\u001b[0m\n\u001b[0;32m--> 450\u001b[0;31m         \u001b[0minit_params\u001b[0m \u001b[0;34m=\u001b[0m \u001b[0mself\u001b[0m\u001b[0;34m.\u001b[0m\u001b[0m_init_state\u001b[0m\u001b[0;34m(\u001b[0m\u001b[0mrng_key_init_model\u001b[0m\u001b[0;34m,\u001b[0m \u001b[0mmodel_args\u001b[0m\u001b[0;34m,\u001b[0m \u001b[0mmodel_kwargs\u001b[0m\u001b[0;34m,\u001b[0m \u001b[0minit_params\u001b[0m\u001b[0;34m)\u001b[0m\u001b[0;34m\u001b[0m\u001b[0;34m\u001b[0m\u001b[0m\n\u001b[0m\u001b[1;32m    451\u001b[0m         \u001b[0;32mif\u001b[0m \u001b[0mself\u001b[0m\u001b[0;34m.\u001b[0m\u001b[0m_potential_fn\u001b[0m \u001b[0;32mand\u001b[0m \u001b[0minit_params\u001b[0m \u001b[0;32mis\u001b[0m \u001b[0;32mNone\u001b[0m\u001b[0;34m:\u001b[0m\u001b[0;34m\u001b[0m\u001b[0;34m\u001b[0m\u001b[0m\n\u001b[1;32m    452\u001b[0m             raise ValueError('Valid value of `init_params` must be provided with'\n",
      "\u001b[0;32m~/miniconda3/lib/python3.7/site-packages/numpyro/infer/hmc.py\u001b[0m in \u001b[0;36m_init_state\u001b[0;34m(self, rng_key, model_args, model_kwargs, init_params)\u001b[0m\n\u001b[1;32m    411\u001b[0m                 \u001b[0minit_strategy\u001b[0m\u001b[0;34m=\u001b[0m\u001b[0mself\u001b[0m\u001b[0;34m.\u001b[0m\u001b[0m_init_strategy\u001b[0m\u001b[0;34m,\u001b[0m\u001b[0;34m\u001b[0m\u001b[0;34m\u001b[0m\u001b[0m\n\u001b[1;32m    412\u001b[0m                 \u001b[0mmodel_args\u001b[0m\u001b[0;34m=\u001b[0m\u001b[0mmodel_args\u001b[0m\u001b[0;34m,\u001b[0m\u001b[0;34m\u001b[0m\u001b[0;34m\u001b[0m\u001b[0m\n\u001b[0;32m--> 413\u001b[0;31m                 model_kwargs=model_kwargs)\n\u001b[0m\u001b[1;32m    414\u001b[0m             \u001b[0;32mif\u001b[0m \u001b[0mself\u001b[0m\u001b[0;34m.\u001b[0m\u001b[0m_init_fn\u001b[0m \u001b[0;32mis\u001b[0m \u001b[0;32mNone\u001b[0m\u001b[0;34m:\u001b[0m\u001b[0;34m\u001b[0m\u001b[0;34m\u001b[0m\u001b[0m\n\u001b[1;32m    415\u001b[0m                 self._init_fn, self._sample_fn = hmc(potential_fn_gen=potential_fn,\n",
      "\u001b[0;32m~/miniconda3/lib/python3.7/site-packages/numpyro/infer/util.py\u001b[0m in \u001b[0;36minitialize_model\u001b[0;34m(rng_key, model, init_strategy, dynamic_args, model_args, model_kwargs)\u001b[0m\n\u001b[1;32m    428\u001b[0m                                                                   \u001b[0mmodel_args\u001b[0m\u001b[0;34m=\u001b[0m\u001b[0mmodel_args\u001b[0m\u001b[0;34m,\u001b[0m\u001b[0;34m\u001b[0m\u001b[0;34m\u001b[0m\u001b[0m\n\u001b[1;32m    429\u001b[0m                                                                   \u001b[0mmodel_kwargs\u001b[0m\u001b[0;34m=\u001b[0m\u001b[0mmodel_kwargs\u001b[0m\u001b[0;34m,\u001b[0m\u001b[0;34m\u001b[0m\u001b[0;34m\u001b[0m\u001b[0m\n\u001b[0;32m--> 430\u001b[0;31m                                                                   prototype_params=prototype_params)\n\u001b[0m\u001b[1;32m    431\u001b[0m \u001b[0;34m\u001b[0m\u001b[0m\n\u001b[1;32m    432\u001b[0m     \u001b[0;32mif\u001b[0m \u001b[0mnot_jax_tracer\u001b[0m\u001b[0;34m(\u001b[0m\u001b[0mis_valid\u001b[0m\u001b[0;34m)\u001b[0m\u001b[0;34m:\u001b[0m\u001b[0;34m\u001b[0m\u001b[0;34m\u001b[0m\u001b[0m\n",
      "\u001b[0;32m~/miniconda3/lib/python3.7/site-packages/numpyro/infer/util.py\u001b[0m in \u001b[0;36mfind_valid_initial_params\u001b[0;34m(rng_key, model, init_strategy, enum, model_args, model_kwargs, prototype_params)\u001b[0m\n\u001b[1;32m    255\u001b[0m     \u001b[0;31m# Handle possible vectorization\u001b[0m\u001b[0;34m\u001b[0m\u001b[0;34m\u001b[0m\u001b[0;34m\u001b[0m\u001b[0m\n\u001b[1;32m    256\u001b[0m     \u001b[0;32mif\u001b[0m \u001b[0mrng_key\u001b[0m\u001b[0;34m.\u001b[0m\u001b[0mndim\u001b[0m \u001b[0;34m==\u001b[0m \u001b[0;36m1\u001b[0m\u001b[0;34m:\u001b[0m\u001b[0;34m\u001b[0m\u001b[0;34m\u001b[0m\u001b[0m\n\u001b[0;32m--> 257\u001b[0;31m         \u001b[0;34m(\u001b[0m\u001b[0minit_params\u001b[0m\u001b[0;34m,\u001b[0m \u001b[0mpe\u001b[0m\u001b[0;34m,\u001b[0m \u001b[0mz_grad\u001b[0m\u001b[0;34m)\u001b[0m\u001b[0;34m,\u001b[0m \u001b[0mis_valid\u001b[0m \u001b[0;34m=\u001b[0m \u001b[0m_find_valid_params\u001b[0m\u001b[0;34m(\u001b[0m\u001b[0mrng_key\u001b[0m\u001b[0;34m,\u001b[0m \u001b[0mexit_early\u001b[0m\u001b[0;34m=\u001b[0m\u001b[0;32mTrue\u001b[0m\u001b[0;34m)\u001b[0m\u001b[0;34m\u001b[0m\u001b[0;34m\u001b[0m\u001b[0m\n\u001b[0m\u001b[1;32m    258\u001b[0m     \u001b[0;32melse\u001b[0m\u001b[0;34m:\u001b[0m\u001b[0;34m\u001b[0m\u001b[0;34m\u001b[0m\u001b[0m\n\u001b[1;32m    259\u001b[0m         \u001b[0;34m(\u001b[0m\u001b[0minit_params\u001b[0m\u001b[0;34m,\u001b[0m \u001b[0mpe\u001b[0m\u001b[0;34m,\u001b[0m \u001b[0mz_grad\u001b[0m\u001b[0;34m)\u001b[0m\u001b[0;34m,\u001b[0m \u001b[0mis_valid\u001b[0m \u001b[0;34m=\u001b[0m \u001b[0mlax\u001b[0m\u001b[0;34m.\u001b[0m\u001b[0mmap\u001b[0m\u001b[0;34m(\u001b[0m\u001b[0m_find_valid_params\u001b[0m\u001b[0;34m,\u001b[0m \u001b[0mrng_key\u001b[0m\u001b[0;34m)\u001b[0m\u001b[0;34m\u001b[0m\u001b[0;34m\u001b[0m\u001b[0m\n",
      "\u001b[0;32m~/miniconda3/lib/python3.7/site-packages/numpyro/infer/util.py\u001b[0m in \u001b[0;36m_find_valid_params\u001b[0;34m(rng_key, exit_early)\u001b[0m\n\u001b[1;32m    243\u001b[0m             \u001b[0;31m# Early return if valid params found. This is only helpful for single chain,\u001b[0m\u001b[0;34m\u001b[0m\u001b[0;34m\u001b[0m\u001b[0;34m\u001b[0m\u001b[0m\n\u001b[1;32m    244\u001b[0m             \u001b[0;31m# where we can avoid compiling body_fn in while_loop.\u001b[0m\u001b[0;34m\u001b[0m\u001b[0;34m\u001b[0m\u001b[0;34m\u001b[0m\u001b[0m\n\u001b[0;32m--> 245\u001b[0;31m             \u001b[0m_\u001b[0m\u001b[0;34m,\u001b[0m \u001b[0m_\u001b[0m\u001b[0;34m,\u001b[0m \u001b[0;34m(\u001b[0m\u001b[0minit_params\u001b[0m\u001b[0;34m,\u001b[0m \u001b[0mpe\u001b[0m\u001b[0;34m,\u001b[0m \u001b[0mz_grad\u001b[0m\u001b[0;34m)\u001b[0m\u001b[0;34m,\u001b[0m \u001b[0mis_valid\u001b[0m \u001b[0;34m=\u001b[0m \u001b[0minit_state\u001b[0m \u001b[0;34m=\u001b[0m \u001b[0mbody_fn\u001b[0m\u001b[0;34m(\u001b[0m\u001b[0minit_state\u001b[0m\u001b[0;34m)\u001b[0m\u001b[0;34m\u001b[0m\u001b[0;34m\u001b[0m\u001b[0m\n\u001b[0m\u001b[1;32m    246\u001b[0m             \u001b[0;32mif\u001b[0m \u001b[0mnot_jax_tracer\u001b[0m\u001b[0;34m(\u001b[0m\u001b[0mis_valid\u001b[0m\u001b[0;34m)\u001b[0m\u001b[0;34m:\u001b[0m\u001b[0;34m\u001b[0m\u001b[0;34m\u001b[0m\u001b[0m\n\u001b[1;32m    247\u001b[0m                 \u001b[0;32mif\u001b[0m \u001b[0mdevice_get\u001b[0m\u001b[0;34m(\u001b[0m\u001b[0mis_valid\u001b[0m\u001b[0;34m)\u001b[0m\u001b[0;34m:\u001b[0m\u001b[0;34m\u001b[0m\u001b[0;34m\u001b[0m\u001b[0m\n",
      "\u001b[0;32m~/miniconda3/lib/python3.7/site-packages/numpyro/infer/util.py\u001b[0m in \u001b[0;36mbody_fn\u001b[0;34m(state)\u001b[0m\n\u001b[1;32m    233\u001b[0m \u001b[0;34m\u001b[0m\u001b[0m\n\u001b[1;32m    234\u001b[0m         \u001b[0mpotential_fn\u001b[0m \u001b[0;34m=\u001b[0m \u001b[0mpartial\u001b[0m\u001b[0;34m(\u001b[0m\u001b[0mpotential_energy\u001b[0m\u001b[0;34m,\u001b[0m \u001b[0mmodel\u001b[0m\u001b[0;34m,\u001b[0m \u001b[0mmodel_args\u001b[0m\u001b[0;34m,\u001b[0m \u001b[0mmodel_kwargs\u001b[0m\u001b[0;34m,\u001b[0m \u001b[0menum\u001b[0m\u001b[0;34m=\u001b[0m\u001b[0menum\u001b[0m\u001b[0;34m)\u001b[0m\u001b[0;34m\u001b[0m\u001b[0;34m\u001b[0m\u001b[0m\n\u001b[0;32m--> 235\u001b[0;31m         \u001b[0mpe\u001b[0m\u001b[0;34m,\u001b[0m \u001b[0mz_grad\u001b[0m \u001b[0;34m=\u001b[0m \u001b[0mvalue_and_grad\u001b[0m\u001b[0;34m(\u001b[0m\u001b[0mpotential_fn\u001b[0m\u001b[0;34m)\u001b[0m\u001b[0;34m(\u001b[0m\u001b[0mparams\u001b[0m\u001b[0;34m)\u001b[0m\u001b[0;34m\u001b[0m\u001b[0;34m\u001b[0m\u001b[0m\n\u001b[0m\u001b[1;32m    236\u001b[0m         \u001b[0mz_grad_flat\u001b[0m \u001b[0;34m=\u001b[0m \u001b[0mravel_pytree\u001b[0m\u001b[0;34m(\u001b[0m\u001b[0mz_grad\u001b[0m\u001b[0;34m)\u001b[0m\u001b[0;34m[\u001b[0m\u001b[0;36m0\u001b[0m\u001b[0;34m]\u001b[0m\u001b[0;34m\u001b[0m\u001b[0;34m\u001b[0m\u001b[0m\n\u001b[1;32m    237\u001b[0m         \u001b[0mis_valid\u001b[0m \u001b[0;34m=\u001b[0m \u001b[0mjnp\u001b[0m\u001b[0;34m.\u001b[0m\u001b[0misfinite\u001b[0m\u001b[0;34m(\u001b[0m\u001b[0mpe\u001b[0m\u001b[0;34m)\u001b[0m \u001b[0;34m&\u001b[0m \u001b[0mjnp\u001b[0m\u001b[0;34m.\u001b[0m\u001b[0mall\u001b[0m\u001b[0;34m(\u001b[0m\u001b[0mjnp\u001b[0m\u001b[0;34m.\u001b[0m\u001b[0misfinite\u001b[0m\u001b[0;34m(\u001b[0m\u001b[0mz_grad_flat\u001b[0m\u001b[0;34m)\u001b[0m\u001b[0;34m)\u001b[0m\u001b[0;34m\u001b[0m\u001b[0;34m\u001b[0m\u001b[0m\n",
      "\u001b[0;32m~/miniconda3/lib/python3.7/site-packages/jax/traceback_util.py\u001b[0m in \u001b[0;36mreraise_with_filtered_traceback\u001b[0;34m(*args, **kwargs)\u001b[0m\n\u001b[1;32m    137\u001b[0m   \u001b[0;32mdef\u001b[0m \u001b[0mreraise_with_filtered_traceback\u001b[0m\u001b[0;34m(\u001b[0m\u001b[0;34m*\u001b[0m\u001b[0margs\u001b[0m\u001b[0;34m,\u001b[0m \u001b[0;34m**\u001b[0m\u001b[0mkwargs\u001b[0m\u001b[0;34m)\u001b[0m\u001b[0;34m:\u001b[0m\u001b[0;34m\u001b[0m\u001b[0;34m\u001b[0m\u001b[0m\n\u001b[1;32m    138\u001b[0m     \u001b[0;32mtry\u001b[0m\u001b[0;34m:\u001b[0m\u001b[0;34m\u001b[0m\u001b[0;34m\u001b[0m\u001b[0m\n\u001b[0;32m--> 139\u001b[0;31m       \u001b[0;32mreturn\u001b[0m \u001b[0mfun\u001b[0m\u001b[0;34m(\u001b[0m\u001b[0;34m*\u001b[0m\u001b[0margs\u001b[0m\u001b[0;34m,\u001b[0m \u001b[0;34m**\u001b[0m\u001b[0mkwargs\u001b[0m\u001b[0;34m)\u001b[0m\u001b[0;34m\u001b[0m\u001b[0;34m\u001b[0m\u001b[0m\n\u001b[0m\u001b[1;32m    140\u001b[0m     \u001b[0;32mexcept\u001b[0m \u001b[0mException\u001b[0m \u001b[0;32mas\u001b[0m \u001b[0me\u001b[0m\u001b[0;34m:\u001b[0m\u001b[0;34m\u001b[0m\u001b[0;34m\u001b[0m\u001b[0m\n\u001b[1;32m    141\u001b[0m       \u001b[0;32mif\u001b[0m \u001b[0;32mnot\u001b[0m \u001b[0mis_under_reraiser\u001b[0m\u001b[0;34m(\u001b[0m\u001b[0me\u001b[0m\u001b[0;34m)\u001b[0m\u001b[0;34m:\u001b[0m\u001b[0;34m\u001b[0m\u001b[0;34m\u001b[0m\u001b[0m\n",
      "\u001b[0;32m~/miniconda3/lib/python3.7/site-packages/jax/api.py\u001b[0m in \u001b[0;36mvalue_and_grad_f\u001b[0;34m(*args, **kwargs)\u001b[0m\n\u001b[1;32m    808\u001b[0m     \u001b[0mtree_map\u001b[0m\u001b[0;34m(\u001b[0m\u001b[0mpartial\u001b[0m\u001b[0;34m(\u001b[0m\u001b[0m_check_input_dtype_grad\u001b[0m\u001b[0;34m,\u001b[0m \u001b[0mholomorphic\u001b[0m\u001b[0;34m,\u001b[0m \u001b[0mallow_int\u001b[0m\u001b[0;34m)\u001b[0m\u001b[0;34m,\u001b[0m \u001b[0mdyn_args\u001b[0m\u001b[0;34m)\u001b[0m\u001b[0;34m\u001b[0m\u001b[0;34m\u001b[0m\u001b[0m\n\u001b[1;32m    809\u001b[0m     \u001b[0;32mif\u001b[0m \u001b[0;32mnot\u001b[0m \u001b[0mhas_aux\u001b[0m\u001b[0;34m:\u001b[0m\u001b[0;34m\u001b[0m\u001b[0;34m\u001b[0m\u001b[0m\n\u001b[0;32m--> 810\u001b[0;31m       \u001b[0mans\u001b[0m\u001b[0;34m,\u001b[0m \u001b[0mvjp_py\u001b[0m \u001b[0;34m=\u001b[0m \u001b[0m_vjp\u001b[0m\u001b[0;34m(\u001b[0m\u001b[0mf_partial\u001b[0m\u001b[0;34m,\u001b[0m \u001b[0;34m*\u001b[0m\u001b[0mdyn_args\u001b[0m\u001b[0;34m)\u001b[0m\u001b[0;34m\u001b[0m\u001b[0;34m\u001b[0m\u001b[0m\n\u001b[0m\u001b[1;32m    811\u001b[0m     \u001b[0;32melse\u001b[0m\u001b[0;34m:\u001b[0m\u001b[0;34m\u001b[0m\u001b[0;34m\u001b[0m\u001b[0m\n\u001b[1;32m    812\u001b[0m       \u001b[0mans\u001b[0m\u001b[0;34m,\u001b[0m \u001b[0mvjp_py\u001b[0m\u001b[0;34m,\u001b[0m \u001b[0maux\u001b[0m \u001b[0;34m=\u001b[0m \u001b[0m_vjp\u001b[0m\u001b[0;34m(\u001b[0m\u001b[0mf_partial\u001b[0m\u001b[0;34m,\u001b[0m \u001b[0;34m*\u001b[0m\u001b[0mdyn_args\u001b[0m\u001b[0;34m,\u001b[0m \u001b[0mhas_aux\u001b[0m\u001b[0;34m=\u001b[0m\u001b[0;32mTrue\u001b[0m\u001b[0;34m)\u001b[0m\u001b[0;34m\u001b[0m\u001b[0;34m\u001b[0m\u001b[0m\n",
      "\u001b[0;32m~/miniconda3/lib/python3.7/site-packages/jax/api.py\u001b[0m in \u001b[0;36m_vjp\u001b[0;34m(fun, has_aux, *primals)\u001b[0m\n\u001b[1;32m   1839\u001b[0m   \u001b[0;32mif\u001b[0m \u001b[0;32mnot\u001b[0m \u001b[0mhas_aux\u001b[0m\u001b[0;34m:\u001b[0m\u001b[0;34m\u001b[0m\u001b[0;34m\u001b[0m\u001b[0m\n\u001b[1;32m   1840\u001b[0m     \u001b[0mflat_fun\u001b[0m\u001b[0;34m,\u001b[0m \u001b[0mout_tree\u001b[0m \u001b[0;34m=\u001b[0m \u001b[0mflatten_fun_nokwargs\u001b[0m\u001b[0;34m(\u001b[0m\u001b[0mfun\u001b[0m\u001b[0;34m,\u001b[0m \u001b[0min_tree\u001b[0m\u001b[0;34m)\u001b[0m\u001b[0;34m\u001b[0m\u001b[0;34m\u001b[0m\u001b[0m\n\u001b[0;32m-> 1841\u001b[0;31m     \u001b[0mout_primal\u001b[0m\u001b[0;34m,\u001b[0m \u001b[0mout_vjp\u001b[0m \u001b[0;34m=\u001b[0m \u001b[0mad\u001b[0m\u001b[0;34m.\u001b[0m\u001b[0mvjp\u001b[0m\u001b[0;34m(\u001b[0m\u001b[0mflat_fun\u001b[0m\u001b[0;34m,\u001b[0m \u001b[0mprimals_flat\u001b[0m\u001b[0;34m)\u001b[0m\u001b[0;34m\u001b[0m\u001b[0;34m\u001b[0m\u001b[0m\n\u001b[0m\u001b[1;32m   1842\u001b[0m     \u001b[0mout_tree\u001b[0m \u001b[0;34m=\u001b[0m \u001b[0mout_tree\u001b[0m\u001b[0;34m(\u001b[0m\u001b[0;34m)\u001b[0m\u001b[0;34m\u001b[0m\u001b[0;34m\u001b[0m\u001b[0m\n\u001b[1;32m   1843\u001b[0m   \u001b[0;32melse\u001b[0m\u001b[0;34m:\u001b[0m\u001b[0;34m\u001b[0m\u001b[0;34m\u001b[0m\u001b[0m\n",
      "\u001b[0;32m~/miniconda3/lib/python3.7/site-packages/jax/interpreters/ad.py\u001b[0m in \u001b[0;36mvjp\u001b[0;34m(traceable, primals, has_aux)\u001b[0m\n\u001b[1;32m    111\u001b[0m \u001b[0;32mdef\u001b[0m \u001b[0mvjp\u001b[0m\u001b[0;34m(\u001b[0m\u001b[0mtraceable\u001b[0m\u001b[0;34m,\u001b[0m \u001b[0mprimals\u001b[0m\u001b[0;34m,\u001b[0m \u001b[0mhas_aux\u001b[0m\u001b[0;34m=\u001b[0m\u001b[0;32mFalse\u001b[0m\u001b[0;34m)\u001b[0m\u001b[0;34m:\u001b[0m\u001b[0;34m\u001b[0m\u001b[0;34m\u001b[0m\u001b[0m\n\u001b[1;32m    112\u001b[0m   \u001b[0;32mif\u001b[0m \u001b[0;32mnot\u001b[0m \u001b[0mhas_aux\u001b[0m\u001b[0;34m:\u001b[0m\u001b[0;34m\u001b[0m\u001b[0;34m\u001b[0m\u001b[0m\n\u001b[0;32m--> 113\u001b[0;31m     \u001b[0mout_primals\u001b[0m\u001b[0;34m,\u001b[0m \u001b[0mpvals\u001b[0m\u001b[0;34m,\u001b[0m \u001b[0mjaxpr\u001b[0m\u001b[0;34m,\u001b[0m \u001b[0mconsts\u001b[0m \u001b[0;34m=\u001b[0m \u001b[0mlinearize\u001b[0m\u001b[0;34m(\u001b[0m\u001b[0mtraceable\u001b[0m\u001b[0;34m,\u001b[0m \u001b[0;34m*\u001b[0m\u001b[0mprimals\u001b[0m\u001b[0;34m)\u001b[0m\u001b[0;34m\u001b[0m\u001b[0;34m\u001b[0m\u001b[0m\n\u001b[0m\u001b[1;32m    114\u001b[0m   \u001b[0;32melse\u001b[0m\u001b[0;34m:\u001b[0m\u001b[0;34m\u001b[0m\u001b[0;34m\u001b[0m\u001b[0m\n\u001b[1;32m    115\u001b[0m     \u001b[0mout_primals\u001b[0m\u001b[0;34m,\u001b[0m \u001b[0mpvals\u001b[0m\u001b[0;34m,\u001b[0m \u001b[0mjaxpr\u001b[0m\u001b[0;34m,\u001b[0m \u001b[0mconsts\u001b[0m\u001b[0;34m,\u001b[0m \u001b[0maux\u001b[0m \u001b[0;34m=\u001b[0m \u001b[0mlinearize\u001b[0m\u001b[0;34m(\u001b[0m\u001b[0mtraceable\u001b[0m\u001b[0;34m,\u001b[0m \u001b[0;34m*\u001b[0m\u001b[0mprimals\u001b[0m\u001b[0;34m,\u001b[0m \u001b[0mhas_aux\u001b[0m\u001b[0;34m=\u001b[0m\u001b[0;32mTrue\u001b[0m\u001b[0;34m)\u001b[0m\u001b[0;34m\u001b[0m\u001b[0;34m\u001b[0m\u001b[0m\n",
      "\u001b[0;32m~/miniconda3/lib/python3.7/site-packages/jax/interpreters/ad.py\u001b[0m in \u001b[0;36mlinearize\u001b[0;34m(traceable, *primals, **kwargs)\u001b[0m\n\u001b[1;32m     98\u001b[0m   \u001b[0m_\u001b[0m\u001b[0;34m,\u001b[0m \u001b[0min_tree\u001b[0m \u001b[0;34m=\u001b[0m \u001b[0mtree_flatten\u001b[0m\u001b[0;34m(\u001b[0m\u001b[0;34m(\u001b[0m\u001b[0;34m(\u001b[0m\u001b[0mprimals\u001b[0m\u001b[0;34m,\u001b[0m \u001b[0mprimals\u001b[0m\u001b[0;34m)\u001b[0m\u001b[0;34m,\u001b[0m \u001b[0;34m{\u001b[0m\u001b[0;34m}\u001b[0m\u001b[0;34m)\u001b[0m\u001b[0;34m)\u001b[0m\u001b[0;34m\u001b[0m\u001b[0;34m\u001b[0m\u001b[0m\n\u001b[1;32m     99\u001b[0m   \u001b[0mjvpfun_flat\u001b[0m\u001b[0;34m,\u001b[0m \u001b[0mout_tree\u001b[0m \u001b[0;34m=\u001b[0m \u001b[0mflatten_fun\u001b[0m\u001b[0;34m(\u001b[0m\u001b[0mjvpfun\u001b[0m\u001b[0;34m,\u001b[0m \u001b[0min_tree\u001b[0m\u001b[0;34m)\u001b[0m\u001b[0;34m\u001b[0m\u001b[0;34m\u001b[0m\u001b[0m\n\u001b[0;32m--> 100\u001b[0;31m   \u001b[0mjaxpr\u001b[0m\u001b[0;34m,\u001b[0m \u001b[0mout_pvals\u001b[0m\u001b[0;34m,\u001b[0m \u001b[0mconsts\u001b[0m \u001b[0;34m=\u001b[0m \u001b[0mpe\u001b[0m\u001b[0;34m.\u001b[0m\u001b[0mtrace_to_jaxpr\u001b[0m\u001b[0;34m(\u001b[0m\u001b[0mjvpfun_flat\u001b[0m\u001b[0;34m,\u001b[0m \u001b[0min_pvals\u001b[0m\u001b[0;34m)\u001b[0m\u001b[0;34m\u001b[0m\u001b[0;34m\u001b[0m\u001b[0m\n\u001b[0m\u001b[1;32m    101\u001b[0m   \u001b[0mout_primals_pvals\u001b[0m\u001b[0;34m,\u001b[0m \u001b[0mout_tangents_pvals\u001b[0m \u001b[0;34m=\u001b[0m \u001b[0mtree_unflatten\u001b[0m\u001b[0;34m(\u001b[0m\u001b[0mout_tree\u001b[0m\u001b[0;34m(\u001b[0m\u001b[0;34m)\u001b[0m\u001b[0;34m,\u001b[0m \u001b[0mout_pvals\u001b[0m\u001b[0;34m)\u001b[0m\u001b[0;34m\u001b[0m\u001b[0;34m\u001b[0m\u001b[0m\n\u001b[1;32m    102\u001b[0m   \u001b[0;32massert\u001b[0m \u001b[0mall\u001b[0m\u001b[0;34m(\u001b[0m\u001b[0mout_primal_pval\u001b[0m\u001b[0;34m.\u001b[0m\u001b[0mis_known\u001b[0m\u001b[0;34m(\u001b[0m\u001b[0;34m)\u001b[0m \u001b[0;32mfor\u001b[0m \u001b[0mout_primal_pval\u001b[0m \u001b[0;32min\u001b[0m \u001b[0mout_primals_pvals\u001b[0m\u001b[0;34m)\u001b[0m\u001b[0;34m\u001b[0m\u001b[0;34m\u001b[0m\u001b[0m\n",
      "\u001b[0;32m~/miniconda3/lib/python3.7/site-packages/jax/interpreters/partial_eval.py\u001b[0m in \u001b[0;36mtrace_to_jaxpr\u001b[0;34m(fun, pvals, instantiate)\u001b[0m\n\u001b[1;32m    402\u001b[0m   \u001b[0;32mwith\u001b[0m \u001b[0mcore\u001b[0m\u001b[0;34m.\u001b[0m\u001b[0mnew_main\u001b[0m\u001b[0;34m(\u001b[0m\u001b[0mJaxprTrace\u001b[0m\u001b[0;34m)\u001b[0m \u001b[0;32mas\u001b[0m \u001b[0mmain\u001b[0m\u001b[0;34m:\u001b[0m\u001b[0;34m\u001b[0m\u001b[0;34m\u001b[0m\u001b[0m\n\u001b[1;32m    403\u001b[0m     \u001b[0mfun\u001b[0m \u001b[0;34m=\u001b[0m \u001b[0mtrace_to_subjaxpr\u001b[0m\u001b[0;34m(\u001b[0m\u001b[0mfun\u001b[0m\u001b[0;34m,\u001b[0m \u001b[0mmain\u001b[0m\u001b[0;34m,\u001b[0m \u001b[0minstantiate\u001b[0m\u001b[0;34m)\u001b[0m\u001b[0;34m\u001b[0m\u001b[0;34m\u001b[0m\u001b[0m\n\u001b[0;32m--> 404\u001b[0;31m     \u001b[0mjaxpr\u001b[0m\u001b[0;34m,\u001b[0m \u001b[0;34m(\u001b[0m\u001b[0mout_pvals\u001b[0m\u001b[0;34m,\u001b[0m \u001b[0mconsts\u001b[0m\u001b[0;34m,\u001b[0m \u001b[0menv\u001b[0m\u001b[0;34m)\u001b[0m \u001b[0;34m=\u001b[0m \u001b[0mfun\u001b[0m\u001b[0;34m.\u001b[0m\u001b[0mcall_wrapped\u001b[0m\u001b[0;34m(\u001b[0m\u001b[0mpvals\u001b[0m\u001b[0;34m)\u001b[0m\u001b[0;34m\u001b[0m\u001b[0;34m\u001b[0m\u001b[0m\n\u001b[0m\u001b[1;32m    405\u001b[0m     \u001b[0;32massert\u001b[0m \u001b[0;32mnot\u001b[0m \u001b[0menv\u001b[0m\u001b[0;34m\u001b[0m\u001b[0;34m\u001b[0m\u001b[0m\n\u001b[1;32m    406\u001b[0m     \u001b[0;32mdel\u001b[0m \u001b[0mmain\u001b[0m\u001b[0;34m\u001b[0m\u001b[0;34m\u001b[0m\u001b[0m\n",
      "\u001b[0;32m~/miniconda3/lib/python3.7/site-packages/jax/linear_util.py\u001b[0m in \u001b[0;36mcall_wrapped\u001b[0;34m(self, *args, **kwargs)\u001b[0m\n\u001b[1;32m    154\u001b[0m \u001b[0;34m\u001b[0m\u001b[0m\n\u001b[1;32m    155\u001b[0m     \u001b[0;32mtry\u001b[0m\u001b[0;34m:\u001b[0m\u001b[0;34m\u001b[0m\u001b[0;34m\u001b[0m\u001b[0m\n\u001b[0;32m--> 156\u001b[0;31m       \u001b[0mans\u001b[0m \u001b[0;34m=\u001b[0m \u001b[0mself\u001b[0m\u001b[0;34m.\u001b[0m\u001b[0mf\u001b[0m\u001b[0;34m(\u001b[0m\u001b[0;34m*\u001b[0m\u001b[0margs\u001b[0m\u001b[0;34m,\u001b[0m \u001b[0;34m**\u001b[0m\u001b[0mdict\u001b[0m\u001b[0;34m(\u001b[0m\u001b[0mself\u001b[0m\u001b[0;34m.\u001b[0m\u001b[0mparams\u001b[0m\u001b[0;34m,\u001b[0m \u001b[0;34m**\u001b[0m\u001b[0mkwargs\u001b[0m\u001b[0;34m)\u001b[0m\u001b[0;34m)\u001b[0m\u001b[0;34m\u001b[0m\u001b[0;34m\u001b[0m\u001b[0m\n\u001b[0m\u001b[1;32m    157\u001b[0m     \u001b[0;32mexcept\u001b[0m\u001b[0;34m:\u001b[0m\u001b[0;34m\u001b[0m\u001b[0;34m\u001b[0m\u001b[0m\n\u001b[1;32m    158\u001b[0m       \u001b[0;31m# Some transformations yield from inside context managers, so we have to\u001b[0m\u001b[0;34m\u001b[0m\u001b[0;34m\u001b[0m\u001b[0;34m\u001b[0m\u001b[0m\n",
      "\u001b[0;32m~/miniconda3/lib/python3.7/site-packages/numpyro/infer/util.py\u001b[0m in \u001b[0;36mpotential_energy\u001b[0;34m(model, model_args, model_kwargs, params, enum)\u001b[0m\n\u001b[1;32m    155\u001b[0m     \u001b[0msubstituted_model\u001b[0m \u001b[0;34m=\u001b[0m \u001b[0msubstitute\u001b[0m\u001b[0;34m(\u001b[0m\u001b[0mmodel\u001b[0m\u001b[0;34m,\u001b[0m \u001b[0msubstitute_fn\u001b[0m\u001b[0;34m=\u001b[0m\u001b[0mpartial\u001b[0m\u001b[0;34m(\u001b[0m\u001b[0m_unconstrain_reparam\u001b[0m\u001b[0;34m,\u001b[0m \u001b[0mparams\u001b[0m\u001b[0;34m)\u001b[0m\u001b[0;34m)\u001b[0m\u001b[0;34m\u001b[0m\u001b[0;34m\u001b[0m\u001b[0m\n\u001b[1;32m    156\u001b[0m     \u001b[0;31m# no param is needed for log_density computation because we already substitute\u001b[0m\u001b[0;34m\u001b[0m\u001b[0;34m\u001b[0m\u001b[0;34m\u001b[0m\u001b[0m\n\u001b[0;32m--> 157\u001b[0;31m     \u001b[0mlog_joint\u001b[0m\u001b[0;34m,\u001b[0m \u001b[0mmodel_trace\u001b[0m \u001b[0;34m=\u001b[0m \u001b[0mlog_density_\u001b[0m\u001b[0;34m(\u001b[0m\u001b[0msubstituted_model\u001b[0m\u001b[0;34m,\u001b[0m \u001b[0mmodel_args\u001b[0m\u001b[0;34m,\u001b[0m \u001b[0mmodel_kwargs\u001b[0m\u001b[0;34m,\u001b[0m \u001b[0;34m{\u001b[0m\u001b[0;34m}\u001b[0m\u001b[0;34m)\u001b[0m\u001b[0;34m\u001b[0m\u001b[0;34m\u001b[0m\u001b[0m\n\u001b[0m\u001b[1;32m    158\u001b[0m     \u001b[0;32mreturn\u001b[0m \u001b[0;34m-\u001b[0m \u001b[0mlog_joint\u001b[0m\u001b[0;34m\u001b[0m\u001b[0;34m\u001b[0m\u001b[0m\n\u001b[1;32m    159\u001b[0m \u001b[0;34m\u001b[0m\u001b[0m\n",
      "\u001b[0;32m~/miniconda3/lib/python3.7/site-packages/numpyro/contrib/funsor/infer_util.py\u001b[0m in \u001b[0;36mlog_density\u001b[0;34m(model, model_args, model_kwargs, params)\u001b[0m\n\u001b[1;32m    122\u001b[0m     \u001b[0mmodel\u001b[0m \u001b[0;34m=\u001b[0m \u001b[0msubstitute\u001b[0m\u001b[0;34m(\u001b[0m\u001b[0mmodel\u001b[0m\u001b[0;34m,\u001b[0m \u001b[0mdata\u001b[0m\u001b[0;34m=\u001b[0m\u001b[0mparams\u001b[0m\u001b[0;34m)\u001b[0m\u001b[0;34m\u001b[0m\u001b[0;34m\u001b[0m\u001b[0m\n\u001b[1;32m    123\u001b[0m     \u001b[0;32mwith\u001b[0m \u001b[0mplate_to_enum_plate\u001b[0m\u001b[0;34m(\u001b[0m\u001b[0;34m)\u001b[0m\u001b[0;34m:\u001b[0m\u001b[0;34m\u001b[0m\u001b[0;34m\u001b[0m\u001b[0m\n\u001b[0;32m--> 124\u001b[0;31m         \u001b[0mmodel_trace\u001b[0m \u001b[0;34m=\u001b[0m \u001b[0mpacked_trace\u001b[0m\u001b[0;34m(\u001b[0m\u001b[0mmodel\u001b[0m\u001b[0;34m)\u001b[0m\u001b[0;34m.\u001b[0m\u001b[0mget_trace\u001b[0m\u001b[0;34m(\u001b[0m\u001b[0;34m*\u001b[0m\u001b[0mmodel_args\u001b[0m\u001b[0;34m,\u001b[0m \u001b[0;34m**\u001b[0m\u001b[0mmodel_kwargs\u001b[0m\u001b[0;34m)\u001b[0m\u001b[0;34m\u001b[0m\u001b[0;34m\u001b[0m\u001b[0m\n\u001b[0m\u001b[1;32m    125\u001b[0m     \u001b[0mlog_factors\u001b[0m \u001b[0;34m=\u001b[0m \u001b[0;34m[\u001b[0m\u001b[0;34m]\u001b[0m\u001b[0;34m\u001b[0m\u001b[0;34m\u001b[0m\u001b[0m\n\u001b[1;32m    126\u001b[0m     \u001b[0mtime_to_factors\u001b[0m \u001b[0;34m=\u001b[0m \u001b[0mdefaultdict\u001b[0m\u001b[0;34m(\u001b[0m\u001b[0mlist\u001b[0m\u001b[0;34m)\u001b[0m  \u001b[0;31m# log prob factors\u001b[0m\u001b[0;34m\u001b[0m\u001b[0;34m\u001b[0m\u001b[0m\n",
      "\u001b[0;32m~/miniconda3/lib/python3.7/site-packages/numpyro/handlers.py\u001b[0m in \u001b[0;36mget_trace\u001b[0;34m(self, *args, **kwargs)\u001b[0m\n\u001b[1;32m    156\u001b[0m         \u001b[0;34m:\u001b[0m\u001b[0;32mreturn\u001b[0m\u001b[0;34m:\u001b[0m\u001b[0;31m \u001b[0m\u001b[0;31m`\u001b[0m\u001b[0mOrderedDict\u001b[0m\u001b[0;31m`\u001b[0m \u001b[0mcontaining\u001b[0m \u001b[0mthe\u001b[0m \u001b[0mexecution\u001b[0m \u001b[0mtrace\u001b[0m\u001b[0;34m.\u001b[0m\u001b[0;34m\u001b[0m\u001b[0;34m\u001b[0m\u001b[0m\n\u001b[1;32m    157\u001b[0m         \"\"\"\n\u001b[0;32m--> 158\u001b[0;31m         \u001b[0mself\u001b[0m\u001b[0;34m(\u001b[0m\u001b[0;34m*\u001b[0m\u001b[0margs\u001b[0m\u001b[0;34m,\u001b[0m \u001b[0;34m**\u001b[0m\u001b[0mkwargs\u001b[0m\u001b[0;34m)\u001b[0m\u001b[0;34m\u001b[0m\u001b[0;34m\u001b[0m\u001b[0m\n\u001b[0m\u001b[1;32m    159\u001b[0m         \u001b[0;32mreturn\u001b[0m \u001b[0mself\u001b[0m\u001b[0;34m.\u001b[0m\u001b[0mtrace\u001b[0m\u001b[0;34m\u001b[0m\u001b[0;34m\u001b[0m\u001b[0m\n\u001b[1;32m    160\u001b[0m \u001b[0;34m\u001b[0m\u001b[0m\n",
      "\u001b[0;32m~/miniconda3/lib/python3.7/site-packages/numpyro/primitives.py\u001b[0m in \u001b[0;36m__call__\u001b[0;34m(self, *args, **kwargs)\u001b[0m\n\u001b[1;32m     66\u001b[0m     \u001b[0;32mdef\u001b[0m \u001b[0m__call__\u001b[0m\u001b[0;34m(\u001b[0m\u001b[0mself\u001b[0m\u001b[0;34m,\u001b[0m \u001b[0;34m*\u001b[0m\u001b[0margs\u001b[0m\u001b[0;34m,\u001b[0m \u001b[0;34m**\u001b[0m\u001b[0mkwargs\u001b[0m\u001b[0;34m)\u001b[0m\u001b[0;34m:\u001b[0m\u001b[0;34m\u001b[0m\u001b[0;34m\u001b[0m\u001b[0m\n\u001b[1;32m     67\u001b[0m         \u001b[0;32mwith\u001b[0m \u001b[0mself\u001b[0m\u001b[0;34m:\u001b[0m\u001b[0;34m\u001b[0m\u001b[0;34m\u001b[0m\u001b[0m\n\u001b[0;32m---> 68\u001b[0;31m             \u001b[0;32mreturn\u001b[0m \u001b[0mself\u001b[0m\u001b[0;34m.\u001b[0m\u001b[0mfn\u001b[0m\u001b[0;34m(\u001b[0m\u001b[0;34m*\u001b[0m\u001b[0margs\u001b[0m\u001b[0;34m,\u001b[0m \u001b[0;34m**\u001b[0m\u001b[0mkwargs\u001b[0m\u001b[0;34m)\u001b[0m\u001b[0;34m\u001b[0m\u001b[0;34m\u001b[0m\u001b[0m\n\u001b[0m\u001b[1;32m     69\u001b[0m \u001b[0;34m\u001b[0m\u001b[0m\n\u001b[1;32m     70\u001b[0m \u001b[0;34m\u001b[0m\u001b[0m\n",
      "\u001b[0;32m~/miniconda3/lib/python3.7/site-packages/numpyro/primitives.py\u001b[0m in \u001b[0;36m__exit__\u001b[0;34m(self, *args, **kwargs)\u001b[0m\n\u001b[1;32m     55\u001b[0m \u001b[0;34m\u001b[0m\u001b[0m\n\u001b[1;32m     56\u001b[0m     \u001b[0;32mdef\u001b[0m \u001b[0m__exit__\u001b[0m\u001b[0;34m(\u001b[0m\u001b[0mself\u001b[0m\u001b[0;34m,\u001b[0m \u001b[0;34m*\u001b[0m\u001b[0margs\u001b[0m\u001b[0;34m,\u001b[0m \u001b[0;34m**\u001b[0m\u001b[0mkwargs\u001b[0m\u001b[0;34m)\u001b[0m\u001b[0;34m:\u001b[0m\u001b[0;34m\u001b[0m\u001b[0;34m\u001b[0m\u001b[0m\n\u001b[0;32m---> 57\u001b[0;31m         \u001b[0;32massert\u001b[0m \u001b[0m_PYRO_STACK\u001b[0m\u001b[0;34m[\u001b[0m\u001b[0;34m-\u001b[0m\u001b[0;36m1\u001b[0m\u001b[0;34m]\u001b[0m \u001b[0;32mis\u001b[0m \u001b[0mself\u001b[0m\u001b[0;34m\u001b[0m\u001b[0;34m\u001b[0m\u001b[0m\n\u001b[0m\u001b[1;32m     58\u001b[0m         \u001b[0m_PYRO_STACK\u001b[0m\u001b[0;34m.\u001b[0m\u001b[0mpop\u001b[0m\u001b[0;34m(\u001b[0m\u001b[0;34m)\u001b[0m\u001b[0;34m\u001b[0m\u001b[0;34m\u001b[0m\u001b[0m\n\u001b[1;32m     59\u001b[0m \u001b[0;34m\u001b[0m\u001b[0m\n",
      "\u001b[0;31mAssertionError\u001b[0m: "
     ]
    }
   ],
   "source": [
    "init_rng_key = random.PRNGKey(12273)\n",
    "mcmcGamma = MCMC(NUTS(modelGamma), 100, 1000)\n",
    "mcmcGamma.run(init_rng_key, altCounts)\n",
    "mcmcGamma.print_summary()"
   ]
  },
  {
   "cell_type": "code",
   "execution_count": 36,
   "metadata": {},
   "outputs": [
    {
     "output_type": "stream",
     "name": "stderr",
     "text": [
      "sample:  27%|██▋       | 296/1100 [17:02<46:16,  3.45s/it, 511 steps of size 7.43e-03. acc. prob=0.94]\n"
     ]
    },
    {
     "output_type": "error",
     "ename": "KeyboardInterrupt",
     "evalue": "",
     "traceback": [
      "\u001b[0;31m---------------------------------------------------------------------------\u001b[0m",
      "\u001b[0;31mKeyboardInterrupt\u001b[0m                         Traceback (most recent call last)",
      "\u001b[0;32m<ipython-input-36-9210a96b1708>\u001b[0m in \u001b[0;36m<module>\u001b[0;34m\u001b[0m\n\u001b[1;32m      1\u001b[0m \u001b[0minit_rng_key\u001b[0m \u001b[0;34m=\u001b[0m \u001b[0mrandom\u001b[0m\u001b[0;34m.\u001b[0m\u001b[0mPRNGKey\u001b[0m\u001b[0;34m(\u001b[0m\u001b[0;36m12273\u001b[0m\u001b[0;34m)\u001b[0m\u001b[0;34m\u001b[0m\u001b[0;34m\u001b[0m\u001b[0m\n\u001b[1;32m      2\u001b[0m \u001b[0mmcmcSimple\u001b[0m \u001b[0;34m=\u001b[0m \u001b[0mMCMC\u001b[0m\u001b[0;34m(\u001b[0m\u001b[0mNUTS\u001b[0m\u001b[0;34m(\u001b[0m\u001b[0mmodelSimple\u001b[0m\u001b[0;34m)\u001b[0m\u001b[0;34m,\u001b[0m \u001b[0;36m100\u001b[0m\u001b[0;34m,\u001b[0m \u001b[0;36m1000\u001b[0m\u001b[0;34m)\u001b[0m\u001b[0;34m\u001b[0m\u001b[0;34m\u001b[0m\u001b[0m\n\u001b[0;32m----> 3\u001b[0;31m \u001b[0mmcmcSimple\u001b[0m\u001b[0;34m.\u001b[0m\u001b[0mrun\u001b[0m\u001b[0;34m(\u001b[0m\u001b[0minit_rng_key\u001b[0m\u001b[0;34m,\u001b[0m \u001b[0maltCounts\u001b[0m\u001b[0;34m)\u001b[0m\u001b[0;34m\u001b[0m\u001b[0;34m\u001b[0m\u001b[0m\n\u001b[0m\u001b[1;32m      4\u001b[0m \u001b[0mmcmcSimple\u001b[0m\u001b[0;34m.\u001b[0m\u001b[0mprint_summary\u001b[0m\u001b[0;34m(\u001b[0m\u001b[0;34m)\u001b[0m\u001b[0;34m\u001b[0m\u001b[0;34m\u001b[0m\u001b[0m\n",
      "\u001b[0;32m~/miniconda3/lib/python3.7/site-packages/numpyro/infer/mcmc.py\u001b[0m in \u001b[0;36mrun\u001b[0;34m(self, rng_key, extra_fields, init_params, *args, **kwargs)\u001b[0m\n\u001b[1;32m    447\u001b[0m         \u001b[0mmap_args\u001b[0m \u001b[0;34m=\u001b[0m \u001b[0;34m(\u001b[0m\u001b[0mrng_key\u001b[0m\u001b[0;34m,\u001b[0m \u001b[0minit_state\u001b[0m\u001b[0;34m,\u001b[0m \u001b[0minit_params\u001b[0m\u001b[0;34m)\u001b[0m\u001b[0;34m\u001b[0m\u001b[0;34m\u001b[0m\u001b[0m\n\u001b[1;32m    448\u001b[0m         \u001b[0;32mif\u001b[0m \u001b[0mself\u001b[0m\u001b[0;34m.\u001b[0m\u001b[0mnum_chains\u001b[0m \u001b[0;34m==\u001b[0m \u001b[0;36m1\u001b[0m\u001b[0;34m:\u001b[0m\u001b[0;34m\u001b[0m\u001b[0;34m\u001b[0m\u001b[0m\n\u001b[0;32m--> 449\u001b[0;31m             \u001b[0mstates_flat\u001b[0m\u001b[0;34m,\u001b[0m \u001b[0mlast_state\u001b[0m \u001b[0;34m=\u001b[0m \u001b[0mpartial_map_fn\u001b[0m\u001b[0;34m(\u001b[0m\u001b[0mmap_args\u001b[0m\u001b[0;34m)\u001b[0m\u001b[0;34m\u001b[0m\u001b[0;34m\u001b[0m\u001b[0m\n\u001b[0m\u001b[1;32m    450\u001b[0m             \u001b[0mstates\u001b[0m \u001b[0;34m=\u001b[0m \u001b[0mtree_map\u001b[0m\u001b[0;34m(\u001b[0m\u001b[0;32mlambda\u001b[0m \u001b[0mx\u001b[0m\u001b[0;34m:\u001b[0m \u001b[0mx\u001b[0m\u001b[0;34m[\u001b[0m\u001b[0mjnp\u001b[0m\u001b[0;34m.\u001b[0m\u001b[0mnewaxis\u001b[0m\u001b[0;34m,\u001b[0m \u001b[0;34m...\u001b[0m\u001b[0;34m]\u001b[0m\u001b[0;34m,\u001b[0m \u001b[0mstates_flat\u001b[0m\u001b[0;34m)\u001b[0m\u001b[0;34m\u001b[0m\u001b[0;34m\u001b[0m\u001b[0m\n\u001b[1;32m    451\u001b[0m         \u001b[0;32melse\u001b[0m\u001b[0;34m:\u001b[0m\u001b[0;34m\u001b[0m\u001b[0;34m\u001b[0m\u001b[0m\n",
      "\u001b[0;32m~/miniconda3/lib/python3.7/site-packages/numpyro/infer/mcmc.py\u001b[0m in \u001b[0;36m_single_chain_mcmc\u001b[0;34m(self, init, args, kwargs, collect_fields)\u001b[0m\n\u001b[1;32m    330\u001b[0m                                     \u001b[0mcollection_size\u001b[0m\u001b[0;34m=\u001b[0m\u001b[0mself\u001b[0m\u001b[0;34m.\u001b[0m\u001b[0m_collection_params\u001b[0m\u001b[0;34m[\u001b[0m\u001b[0;34m\"collection_size\"\u001b[0m\u001b[0;34m]\u001b[0m\u001b[0;34m,\u001b[0m\u001b[0;34m\u001b[0m\u001b[0;34m\u001b[0m\u001b[0m\n\u001b[1;32m    331\u001b[0m                                     \u001b[0mprogbar_desc\u001b[0m\u001b[0;34m=\u001b[0m\u001b[0mpartial\u001b[0m\u001b[0;34m(\u001b[0m\u001b[0mget_progbar_desc_str\u001b[0m\u001b[0;34m,\u001b[0m \u001b[0mlower_idx\u001b[0m\u001b[0;34m)\u001b[0m\u001b[0;34m,\u001b[0m\u001b[0;34m\u001b[0m\u001b[0;34m\u001b[0m\u001b[0m\n\u001b[0;32m--> 332\u001b[0;31m                                     diagnostics_fn=diagnostics)\n\u001b[0m\u001b[1;32m    333\u001b[0m         \u001b[0mstates\u001b[0m\u001b[0;34m,\u001b[0m \u001b[0mlast_val\u001b[0m \u001b[0;34m=\u001b[0m \u001b[0mcollect_vals\u001b[0m\u001b[0;34m\u001b[0m\u001b[0;34m\u001b[0m\u001b[0m\n\u001b[1;32m    334\u001b[0m         \u001b[0;31m# Get first argument of type `HMCState`\u001b[0m\u001b[0;34m\u001b[0m\u001b[0;34m\u001b[0m\u001b[0;34m\u001b[0m\u001b[0m\n",
      "\u001b[0;32m~/miniconda3/lib/python3.7/site-packages/numpyro/util.py\u001b[0m in \u001b[0;36mfori_collect\u001b[0;34m(lower, upper, body_fun, init_val, transform, progbar, return_last_val, collection_size, **progbar_opts)\u001b[0m\n\u001b[1;32m    227\u001b[0m                     \u001b[0mt\u001b[0m\u001b[0;34m.\u001b[0m\u001b[0mset_description\u001b[0m\u001b[0;34m(\u001b[0m\u001b[0mprogbar_desc\u001b[0m\u001b[0;34m(\u001b[0m\u001b[0mi\u001b[0m\u001b[0;34m)\u001b[0m\u001b[0;34m,\u001b[0m \u001b[0mrefresh\u001b[0m\u001b[0;34m=\u001b[0m\u001b[0;32mFalse\u001b[0m\u001b[0;34m)\u001b[0m\u001b[0;34m\u001b[0m\u001b[0;34m\u001b[0m\u001b[0m\n\u001b[1;32m    228\u001b[0m                     \u001b[0;32mif\u001b[0m \u001b[0mdiagnostics_fn\u001b[0m\u001b[0;34m:\u001b[0m\u001b[0;34m\u001b[0m\u001b[0;34m\u001b[0m\u001b[0m\n\u001b[0;32m--> 229\u001b[0;31m                         \u001b[0mt\u001b[0m\u001b[0;34m.\u001b[0m\u001b[0mset_postfix_str\u001b[0m\u001b[0;34m(\u001b[0m\u001b[0mdiagnostics_fn\u001b[0m\u001b[0;34m(\u001b[0m\u001b[0mvals\u001b[0m\u001b[0;34m[\u001b[0m\u001b[0;36m0\u001b[0m\u001b[0;34m]\u001b[0m\u001b[0;34m)\u001b[0m\u001b[0;34m,\u001b[0m \u001b[0mrefresh\u001b[0m\u001b[0;34m=\u001b[0m\u001b[0;32mFalse\u001b[0m\u001b[0;34m)\u001b[0m\u001b[0;34m\u001b[0m\u001b[0;34m\u001b[0m\u001b[0m\n\u001b[0m\u001b[1;32m    230\u001b[0m \u001b[0;34m\u001b[0m\u001b[0m\n\u001b[1;32m    231\u001b[0m         \u001b[0mlast_val\u001b[0m\u001b[0;34m,\u001b[0m \u001b[0mcollection\u001b[0m\u001b[0;34m,\u001b[0m \u001b[0m_\u001b[0m \u001b[0;34m=\u001b[0m \u001b[0mvals\u001b[0m\u001b[0;34m\u001b[0m\u001b[0;34m\u001b[0m\u001b[0m\n",
      "\u001b[0;32m~/miniconda3/lib/python3.7/site-packages/numpyro/infer/mcmc.py\u001b[0m in \u001b[0;36m<lambda>\u001b[0;34m(x)\u001b[0m\n\u001b[1;32m    316\u001b[0m         \u001b[0;32melse\u001b[0m\u001b[0;34m:\u001b[0m\u001b[0;34m\u001b[0m\u001b[0;34m\u001b[0m\u001b[0m\n\u001b[1;32m    317\u001b[0m             \u001b[0mpostprocess_fn\u001b[0m \u001b[0;34m=\u001b[0m \u001b[0mself\u001b[0m\u001b[0;34m.\u001b[0m\u001b[0mpostprocess_fn\u001b[0m\u001b[0;34m\u001b[0m\u001b[0;34m\u001b[0m\u001b[0m\n\u001b[0;32m--> 318\u001b[0;31m         \u001b[0mdiagnostics\u001b[0m \u001b[0;34m=\u001b[0m \u001b[0;32mlambda\u001b[0m \u001b[0mx\u001b[0m\u001b[0;34m:\u001b[0m \u001b[0mself\u001b[0m\u001b[0;34m.\u001b[0m\u001b[0msampler\u001b[0m\u001b[0;34m.\u001b[0m\u001b[0mget_diagnostics_str\u001b[0m\u001b[0;34m(\u001b[0m\u001b[0mx\u001b[0m\u001b[0;34m[\u001b[0m\u001b[0;36m0\u001b[0m\u001b[0;34m]\u001b[0m\u001b[0;34m)\u001b[0m \u001b[0;32mif\u001b[0m \u001b[0mrng_key\u001b[0m\u001b[0;34m.\u001b[0m\u001b[0mndim\u001b[0m \u001b[0;34m==\u001b[0m \u001b[0;36m1\u001b[0m \u001b[0;32melse\u001b[0m \u001b[0;34m''\u001b[0m   \u001b[0;31m# noqa: E731\u001b[0m\u001b[0;34m\u001b[0m\u001b[0;34m\u001b[0m\u001b[0m\n\u001b[0m\u001b[1;32m    319\u001b[0m         \u001b[0minit_val\u001b[0m \u001b[0;34m=\u001b[0m \u001b[0;34m(\u001b[0m\u001b[0minit_state\u001b[0m\u001b[0;34m,\u001b[0m \u001b[0margs\u001b[0m\u001b[0;34m,\u001b[0m \u001b[0mkwargs\u001b[0m\u001b[0;34m)\u001b[0m \u001b[0;32mif\u001b[0m \u001b[0mself\u001b[0m\u001b[0;34m.\u001b[0m\u001b[0m_jit_model_args\u001b[0m \u001b[0;32melse\u001b[0m \u001b[0;34m(\u001b[0m\u001b[0minit_state\u001b[0m\u001b[0;34m,\u001b[0m\u001b[0;34m)\u001b[0m\u001b[0;34m\u001b[0m\u001b[0;34m\u001b[0m\u001b[0m\n\u001b[1;32m    320\u001b[0m         \u001b[0mlower_idx\u001b[0m \u001b[0;34m=\u001b[0m \u001b[0mself\u001b[0m\u001b[0;34m.\u001b[0m\u001b[0m_collection_params\u001b[0m\u001b[0;34m[\u001b[0m\u001b[0;34m\"lower\"\u001b[0m\u001b[0;34m]\u001b[0m\u001b[0;34m\u001b[0m\u001b[0;34m\u001b[0m\u001b[0m\n",
      "\u001b[0;32m~/miniconda3/lib/python3.7/site-packages/numpyro/infer/hmc.py\u001b[0m in \u001b[0;36mget_diagnostics_str\u001b[0;34m(self, state)\u001b[0m\n\u001b[1;32m    439\u001b[0m         return '{} steps of size {:.2e}. acc. prob={:.2f}'.format(state.num_steps,\n\u001b[1;32m    440\u001b[0m                                                                   \u001b[0mstate\u001b[0m\u001b[0;34m.\u001b[0m\u001b[0madapt_state\u001b[0m\u001b[0;34m.\u001b[0m\u001b[0mstep_size\u001b[0m\u001b[0;34m,\u001b[0m\u001b[0;34m\u001b[0m\u001b[0;34m\u001b[0m\u001b[0m\n\u001b[0;32m--> 441\u001b[0;31m                                                                   state.mean_accept_prob)\n\u001b[0m\u001b[1;32m    442\u001b[0m \u001b[0;34m\u001b[0m\u001b[0m\n\u001b[1;32m    443\u001b[0m     \u001b[0;32mdef\u001b[0m \u001b[0minit\u001b[0m\u001b[0;34m(\u001b[0m\u001b[0mself\u001b[0m\u001b[0;34m,\u001b[0m \u001b[0mrng_key\u001b[0m\u001b[0;34m,\u001b[0m \u001b[0mnum_warmup\u001b[0m\u001b[0;34m,\u001b[0m \u001b[0minit_params\u001b[0m\u001b[0;34m=\u001b[0m\u001b[0;32mNone\u001b[0m\u001b[0;34m,\u001b[0m \u001b[0mmodel_args\u001b[0m\u001b[0;34m=\u001b[0m\u001b[0;34m(\u001b[0m\u001b[0;34m)\u001b[0m\u001b[0;34m,\u001b[0m \u001b[0mmodel_kwargs\u001b[0m\u001b[0;34m=\u001b[0m\u001b[0;34m{\u001b[0m\u001b[0;34m}\u001b[0m\u001b[0;34m)\u001b[0m\u001b[0;34m:\u001b[0m\u001b[0;34m\u001b[0m\u001b[0;34m\u001b[0m\u001b[0m\n",
      "\u001b[0;32m~/miniconda3/lib/python3.7/site-packages/jax/interpreters/xla.py\u001b[0m in \u001b[0;36m__format__\u001b[0;34m(self, format_spec)\u001b[0m\n\u001b[1;32m   1117\u001b[0m     \u001b[0;31m# Simulates behavior of https://github.com/numpy/numpy/pull/9883\u001b[0m\u001b[0;34m\u001b[0m\u001b[0;34m\u001b[0m\u001b[0;34m\u001b[0m\u001b[0m\n\u001b[1;32m   1118\u001b[0m     \u001b[0;32mif\u001b[0m \u001b[0mself\u001b[0m\u001b[0;34m.\u001b[0m\u001b[0mndim\u001b[0m \u001b[0;34m==\u001b[0m \u001b[0;36m0\u001b[0m\u001b[0;34m:\u001b[0m\u001b[0;34m\u001b[0m\u001b[0;34m\u001b[0m\u001b[0m\n\u001b[0;32m-> 1119\u001b[0;31m       \u001b[0;32mreturn\u001b[0m \u001b[0mformat\u001b[0m\u001b[0;34m(\u001b[0m\u001b[0mself\u001b[0m\u001b[0;34m.\u001b[0m\u001b[0m_value\u001b[0m\u001b[0;34m[\u001b[0m\u001b[0;34m(\u001b[0m\u001b[0;34m)\u001b[0m\u001b[0;34m]\u001b[0m\u001b[0;34m,\u001b[0m \u001b[0mformat_spec\u001b[0m\u001b[0;34m)\u001b[0m\u001b[0;34m\u001b[0m\u001b[0;34m\u001b[0m\u001b[0m\n\u001b[0m\u001b[1;32m   1120\u001b[0m     \u001b[0;32melse\u001b[0m\u001b[0;34m:\u001b[0m\u001b[0;34m\u001b[0m\u001b[0;34m\u001b[0m\u001b[0m\n\u001b[1;32m   1121\u001b[0m       \u001b[0;32mreturn\u001b[0m \u001b[0mformat\u001b[0m\u001b[0;34m(\u001b[0m\u001b[0mself\u001b[0m\u001b[0;34m.\u001b[0m\u001b[0m_value\u001b[0m\u001b[0;34m,\u001b[0m \u001b[0mformat_spec\u001b[0m\u001b[0;34m)\u001b[0m\u001b[0;34m\u001b[0m\u001b[0;34m\u001b[0m\u001b[0m\n",
      "\u001b[0;32m~/miniconda3/lib/python3.7/site-packages/jax/interpreters/xla.py\u001b[0m in \u001b[0;36m_value\u001b[0;34m(self)\u001b[0m\n\u001b[1;32m   1027\u001b[0m         \u001b[0mself\u001b[0m\u001b[0;34m.\u001b[0m\u001b[0m_npy_value\u001b[0m \u001b[0;34m=\u001b[0m \u001b[0mlazy\u001b[0m\u001b[0;34m.\u001b[0m\u001b[0meval_lexpr\u001b[0m\u001b[0;34m(\u001b[0m\u001b[0mself\u001b[0m\u001b[0;34m.\u001b[0m\u001b[0m_lazy_expr\u001b[0m\u001b[0;34m,\u001b[0m \u001b[0;32mNone\u001b[0m\u001b[0;34m)\u001b[0m\u001b[0;34m\u001b[0m\u001b[0;34m\u001b[0m\u001b[0m\n\u001b[1;32m   1028\u001b[0m       \u001b[0;32melse\u001b[0m\u001b[0;34m:\u001b[0m\u001b[0;34m\u001b[0m\u001b[0;34m\u001b[0m\u001b[0m\n\u001b[0;32m-> 1029\u001b[0;31m         \u001b[0mself\u001b[0m\u001b[0;34m.\u001b[0m\u001b[0m_npy_value\u001b[0m \u001b[0;34m=\u001b[0m \u001b[0m_force\u001b[0m\u001b[0;34m(\u001b[0m\u001b[0mself\u001b[0m\u001b[0;34m)\u001b[0m\u001b[0;34m.\u001b[0m\u001b[0mdevice_buffer\u001b[0m\u001b[0;34m.\u001b[0m\u001b[0mto_py\u001b[0m\u001b[0;34m(\u001b[0m\u001b[0;34m)\u001b[0m\u001b[0;34m\u001b[0m\u001b[0;34m\u001b[0m\u001b[0m\n\u001b[0m\u001b[1;32m   1030\u001b[0m       \u001b[0mself\u001b[0m\u001b[0;34m.\u001b[0m\u001b[0m_npy_value\u001b[0m\u001b[0;34m.\u001b[0m\u001b[0mflags\u001b[0m\u001b[0;34m.\u001b[0m\u001b[0mwriteable\u001b[0m \u001b[0;34m=\u001b[0m \u001b[0;32mFalse\u001b[0m\u001b[0;34m\u001b[0m\u001b[0;34m\u001b[0m\u001b[0m\n\u001b[1;32m   1031\u001b[0m     \u001b[0;32mreturn\u001b[0m \u001b[0mself\u001b[0m\u001b[0;34m.\u001b[0m\u001b[0m_npy_value\u001b[0m\u001b[0;34m\u001b[0m\u001b[0;34m\u001b[0m\u001b[0m\n",
      "\u001b[0;31mKeyboardInterrupt\u001b[0m: "
     ]
    }
   ],
   "source": [
    "init_rng_key = random.PRNGKey(12273)\n",
    "mcmcSimple = MCMC(NUTS(modelSimple), 100, 1000)\n",
    "mcmcSimple.run(init_rng_key, altCounts)\n",
    "mcmcSimple.print_summary()"
   ]
  },
  {
   "cell_type": "code",
   "execution_count": 35,
   "metadata": {},
   "outputs": [
    {
     "output_type": "stream",
     "name": "stdout",
     "text": [
      "[[0.5041468  0.02962807 0.3695263  0.09669884]\n [0.56632585 0.2954333  0.10135369 0.03688717]\n [0.59083704 0.17382153 0.19808393 0.0372575 ]\n [0.60589801 0.18068432 0.16405865 0.04935902]\n [0.35699295 0.45567841 0.08749574 0.0998329 ]\n [0.35487096 0.26203966 0.25122767 0.13186171]]\ninferred stick-breaking weights [0.05660541 0.06997263 0.44263237 0.22393389 0.06310229 0.1476791 ]\n"
     ]
    }
   ],
   "source": [
    "# Scaling by pDs gives absolutely no difference in concentrations or probabilities.\n",
    "probsSimple = mcmcSimple.get_samples()[\"probs\"]\n",
    "print(probsSimple.mean(0))\n",
    "\n",
    "# concs = mcmcAf.get_samples()[\"conc\"]\n",
    "# print(\"conc std\", concs.std(0))\n",
    "# print(\"conc mean\", concs.mean(0))\n",
    "# print(\"DIrichlet version\", Dirichlet(concs.mean(0)).mean)\n",
    "\n",
    "betaScaledSimple = mcmcSimple.get_samples()['beta']\n",
    "print(\"inferred stick-breaking weights\", mix_weights(betaScaledSimple).mean(0))"
   ]
  },
  {
   "cell_type": "code",
   "execution_count": 40,
   "metadata": {},
   "outputs": [
    {
     "output_type": "stream",
     "name": "stderr",
     "text": [
      "sample: 100%|██████████| 11000/11000 [01:11<00:00, 153.24it/s, acc. prob=0.44]\n",
      "\n",
      "                mean       std    median      5.0%     95.0%     n_eff     r_hat\n",
      "   beta[0]      0.02      0.00      0.02      0.02      0.03    931.12      1.01\n",
      "   beta[1]      0.05      0.00      0.05      0.05      0.06    745.51      1.01\n",
      "   beta[2]      0.56      0.01      0.56      0.54      0.58   1017.82      1.01\n",
      "   beta[3]      0.57      0.02      0.57      0.54      0.59    415.82      1.03\n",
      "   beta[4]      0.31      0.02      0.31      0.28      0.35    294.28      1.04\n",
      "probs[0,0]      0.43      0.01      0.43      0.40      0.45   1002.19      1.00\n",
      "probs[0,1]      0.03      0.00      0.03      0.02      0.03    693.51      1.02\n",
      "probs[0,2]      0.46      0.01      0.46      0.44      0.48   1021.61      1.00\n",
      "probs[0,3]      0.09      0.01      0.08      0.08      0.09     98.94      1.05\n",
      "probs[1,0]      0.51      0.01      0.50      0.49      0.52    849.28      1.00\n",
      "probs[1,1]      0.35      0.01      0.35      0.33      0.37     82.49      1.05\n",
      "probs[1,2]      0.12      0.01      0.12      0.10      0.13    115.88      1.04\n",
      "probs[1,3]      0.03      0.01      0.03      0.02      0.04     78.99      1.06\n",
      "probs[2,0]      0.57      0.01      0.57      0.56      0.58    754.14      1.01\n",
      "probs[2,1]      0.18      0.00      0.18      0.17      0.18    628.52      1.02\n",
      "probs[2,2]      0.20      0.00      0.20      0.19      0.20    618.42      1.02\n",
      "probs[2,3]      0.06      0.00      0.06      0.05      0.06    555.23      1.02\n",
      "probs[3,0]      0.65      0.01      0.65      0.64      0.66    860.93      1.00\n",
      "probs[3,1]      0.15      0.00      0.15      0.15      0.16    937.44      1.00\n",
      "probs[3,2]      0.17      0.00      0.17      0.16      0.18    912.66      1.00\n",
      "probs[3,3]      0.03      0.00      0.03      0.03      0.04    746.16      1.02\n",
      "probs[4,0]      0.39      0.01      0.39      0.38      0.40    357.95      1.02\n",
      "probs[4,1]      0.43      0.01      0.42      0.41      0.44    186.44      1.04\n",
      "probs[4,2]      0.08      0.00      0.08      0.08      0.08    949.30      1.00\n",
      "probs[4,3]      0.11      0.00      0.11      0.10      0.12    867.55      1.01\n",
      "probs[5,0]      0.34      0.00      0.34      0.33      0.35    721.43      1.03\n",
      "probs[5,1]      0.31      0.00      0.31      0.30      0.31    848.66      1.00\n",
      "probs[5,2]      0.24      0.01      0.24      0.23      0.25    835.59      1.02\n",
      "probs[5,3]      0.12      0.00      0.12      0.11      0.12    693.27      1.02\n",
      "\n",
      "Number of divergences: 0\n"
     ]
    }
   ],
   "source": [
    "init_rng_key = random.PRNGKey(12273)\n",
    "mcmcSimple = MCMC(SA(modelSimple), 10000, 1000)\n",
    "mcmcSimple.run(init_rng_key, altCounts)\n",
    "mcmcSimple.print_summary()"
   ]
  },
  {
   "cell_type": "code",
   "execution_count": 45,
   "metadata": {},
   "outputs": [
    {
     "output_type": "stream",
     "name": "stderr",
     "text": [
      "sample: 100%|██████████| 11000/11000 [01:13<00:00, 149.06it/s, acc. prob=0.35]\n",
      "\n",
      "                mean       std    median      5.0%     95.0%     n_eff     r_hat\n",
      "   beta[0]      0.58      0.01      0.58      0.57      0.59    899.19      1.00\n",
      "   beta[1]      0.51      0.00      0.51      0.50      0.51    988.83      1.00\n",
      "   beta[2]      0.76      0.01      0.76      0.75      0.78    843.65      1.00\n",
      "   beta[3]      0.05      0.00      0.05      0.04      0.05    926.02      1.00\n",
      "   beta[4]      0.14      0.01      0.14      0.12      0.15    975.57      1.00\n",
      "probs[0,0]      3.56      0.06      3.56      3.48      3.66    876.21      1.00\n",
      "probs[0,1]      2.41      0.06      2.41      2.33      2.50    934.35      1.00\n",
      "probs[0,2]      2.32      0.05      2.31      2.24      2.40    960.74      1.00\n",
      "probs[0,3]      0.85      0.06      0.85      0.77      0.95    893.67      1.01\n",
      "probs[1,0]      0.42      0.05      0.42      0.34      0.49    971.23      1.00\n",
      "probs[1,1]      0.31      0.04      0.32      0.24      0.38   1002.19      1.00\n",
      "probs[1,2]     -0.76      0.05     -0.76     -0.85     -0.69    922.44      1.01\n",
      "probs[1,3]     -1.05      0.05     -1.05     -1.13     -0.98    907.11      1.00\n",
      "probs[2,0]      1.67      0.07      1.67      1.56      1.76    933.27      1.00\n",
      "probs[2,1]      1.05      0.03      1.04      1.00      1.08    728.72      1.02\n",
      "probs[2,2]      1.48      0.05      1.48      1.41      1.56    610.45      1.01\n",
      "probs[2,3]      0.53      0.03      0.53      0.48      0.57    957.33      1.00\n",
      "probs[3,0]     -1.04      0.06     -1.05     -1.15     -0.95    901.92      1.00\n",
      "probs[3,1]      1.24      0.06      1.23      1.15      1.31    933.31      1.00\n",
      "probs[3,2]      1.40      0.08      1.40      1.29      1.53    888.99      1.00\n",
      "probs[3,3]     -0.55      0.03     -0.55     -0.59     -0.49    948.09      1.00\n",
      "probs[4,0]     -0.73      0.04     -0.72     -0.78     -0.66    721.75      1.01\n",
      "probs[4,1]     -1.04      0.04     -1.04     -1.09     -0.98    953.13      1.00\n",
      "probs[4,2]     -1.55      0.13     -1.55     -1.74     -1.33    985.82      1.00\n",
      "probs[4,3]      2.54      0.05      2.54      2.47      2.63    796.22      1.02\n",
      "probs[5,0]      2.88      0.02      2.88      2.85      2.91    859.83      1.01\n",
      "probs[5,1]     -4.44      0.06     -4.43     -4.53     -4.35    888.94      1.00\n",
      "probs[5,2]      2.24      0.04      2.23      2.18      2.28    924.97      1.00\n",
      "probs[5,3]      0.73      0.02      0.73      0.70      0.76    903.52      1.01\n",
      "\n",
      "Number of divergences: 0\n"
     ]
    }
   ],
   "source": [
    "init_rng_key = random.PRNGKey(12273)\n",
    "mcmcLN = MCMC(SA(modelLogNormal), 10000, 1000)\n",
    "mcmcLN.run(init_rng_key, altCounts)\n",
    "mcmcLN.print_summary()"
   ]
  },
  {
   "cell_type": "code",
   "execution_count": 46,
   "metadata": {},
   "outputs": [
    {
     "output_type": "stream",
     "name": "stdout",
     "text": [
      "[[ 3.56192564  2.40868739  2.31756464  0.84996852]\n [ 0.4228688   0.31410312 -0.76018548 -1.05087126]\n [ 1.67232722  1.04500591  1.48405276  0.52863318]\n [-1.04289892  1.24048844  1.39878777 -0.54816687]\n [-0.72541821 -1.04325559 -1.5495451   2.54201477]\n [ 2.88233587 -4.43927131  2.23721252  0.73308379]]\njax.nn.softmax [[5.98750496e-01 1.88973487e-01 1.72514964e-01 3.97610527e-02]\n [4.11125149e-01 3.68754824e-01 1.25944758e-01 9.41752687e-02]\n [3.72988550e-01 1.99183480e-01 3.08978982e-01 1.18848988e-01]\n [4.17670448e-02 4.09728603e-01 4.80003946e-01 6.85004069e-02]\n [3.51985973e-02 2.56147627e-02 1.54387308e-02 9.23747909e-01]\n [6.09076369e-01 4.02659688e-04 3.19520141e-01 7.10008309e-02]]\ninferred stick-breaking weights [0.58231283 0.21231627 0.15820455 0.00239424 0.00662319 0.04092723]\n"
     ]
    }
   ],
   "source": [
    "# Scaling by pDs gives absolutely no difference in concentrations or probabilities.\n",
    "sLN = mcmcLN.get_samples()[\"probs\"]\n",
    "print(sLN.mean(0))\n",
    "print(\"jax.nn.softmax\", jax.nn.softmax(sLN.mean(0)))\n",
    "\n",
    "# concs = mcmcAf.get_samples()[\"conc\"]\n",
    "# print(\"conc std\", concs.std(0))\n",
    "# print(\"conc mean\", concs.mean(0))\n",
    "# print(\"DIrichlet version\", Dirichlet(concs.mean(0)).mean)\n",
    "\n",
    "betaScaledLNInDirichlet = mcmcLN.get_samples()['beta']\n",
    "print(\"inferred stick-breaking weights\", mix_weights(betaScaledLNInDirichlet).mean(0))"
   ]
  },
  {
   "cell_type": "code",
   "execution_count": 41,
   "metadata": {},
   "outputs": [
    {
     "output_type": "stream",
     "name": "stdout",
     "text": [
      "[[0.42678979 0.02754298 0.46027648 0.08539075]\n [0.50566229 0.3477675  0.11600847 0.03056174]\n [0.56838335 0.1777707  0.19770722 0.05613874]\n [0.6479463  0.1487683  0.16870133 0.03458407]\n [0.38695041 0.42500013 0.07910907 0.10894039]\n [0.33833094 0.30838519 0.2354203  0.11786357]]\ninferred stick-breaking weights [0.02483603 0.05040959 0.5234615  0.23114903 0.05410037 0.12006325]\n"
     ]
    }
   ],
   "source": [
    "# Scaling by pDs gives absolutely no difference in concentrations or probabilities.\n",
    "probsSimple = mcmcSimple.get_samples()[\"probs\"]\n",
    "print(probsSimple.mean(0))\n",
    "\n",
    "# concs = mcmcAf.get_samples()[\"conc\"]\n",
    "# print(\"conc std\", concs.std(0))\n",
    "# print(\"conc mean\", concs.mean(0))\n",
    "# print(\"DIrichlet version\", Dirichlet(concs.mean(0)).mean)\n",
    "\n",
    "betaScaledSimple = mcmcSimple.get_samples()['beta']\n",
    "print(\"inferred stick-breaking weights\", mix_weights(betaScaledSimple).mean(0))"
   ]
  },
  {
   "cell_type": "code",
   "execution_count": 25,
   "metadata": {},
   "outputs": [
    {
     "output_type": "stream",
     "name": "stderr",
     "text": [
      "sample:  53%|█████▎    | 581/1100 [20:32<18:20,  2.12s/it, 511 steps of size 9.73e-03. acc. prob=0.95]\n"
     ]
    },
    {
     "output_type": "error",
     "ename": "KeyboardInterrupt",
     "evalue": "",
     "traceback": [
      "\u001b[0;31m---------------------------------------------------------------------------\u001b[0m",
      "\u001b[0;31mKeyboardInterrupt\u001b[0m                         Traceback (most recent call last)",
      "\u001b[0;32m<ipython-input-25-6e24296aec1e>\u001b[0m in \u001b[0;36m<module>\u001b[0;34m\u001b[0m\n\u001b[1;32m      1\u001b[0m \u001b[0minit_rng_key\u001b[0m \u001b[0;34m=\u001b[0m \u001b[0mrandom\u001b[0m\u001b[0;34m.\u001b[0m\u001b[0mPRNGKey\u001b[0m\u001b[0;34m(\u001b[0m\u001b[0;36m12273\u001b[0m\u001b[0;34m)\u001b[0m\u001b[0;34m\u001b[0m\u001b[0;34m\u001b[0m\u001b[0m\n\u001b[1;32m      2\u001b[0m \u001b[0mmcmc\u001b[0m \u001b[0;34m=\u001b[0m \u001b[0mMCMC\u001b[0m\u001b[0;34m(\u001b[0m\u001b[0mNUTS\u001b[0m\u001b[0;34m(\u001b[0m\u001b[0mmodel\u001b[0m\u001b[0;34m)\u001b[0m\u001b[0;34m,\u001b[0m \u001b[0;36m100\u001b[0m\u001b[0;34m,\u001b[0m \u001b[0;36m1000\u001b[0m\u001b[0;34m)\u001b[0m\u001b[0;34m\u001b[0m\u001b[0;34m\u001b[0m\u001b[0m\n\u001b[0;32m----> 3\u001b[0;31m \u001b[0mmcmc\u001b[0m\u001b[0;34m.\u001b[0m\u001b[0mrun\u001b[0m\u001b[0;34m(\u001b[0m\u001b[0minit_rng_key\u001b[0m\u001b[0;34m,\u001b[0m \u001b[0maltCounts\u001b[0m\u001b[0;34m)\u001b[0m\u001b[0;34m\u001b[0m\u001b[0;34m\u001b[0m\u001b[0m\n\u001b[0m\u001b[1;32m      4\u001b[0m \u001b[0mmcmc\u001b[0m\u001b[0;34m.\u001b[0m\u001b[0mprint_summary\u001b[0m\u001b[0;34m(\u001b[0m\u001b[0;34m)\u001b[0m\u001b[0;34m\u001b[0m\u001b[0;34m\u001b[0m\u001b[0m\n",
      "\u001b[0;32m~/miniconda3/lib/python3.7/site-packages/numpyro/infer/mcmc.py\u001b[0m in \u001b[0;36mrun\u001b[0;34m(self, rng_key, extra_fields, init_params, *args, **kwargs)\u001b[0m\n\u001b[1;32m    447\u001b[0m         \u001b[0mmap_args\u001b[0m \u001b[0;34m=\u001b[0m \u001b[0;34m(\u001b[0m\u001b[0mrng_key\u001b[0m\u001b[0;34m,\u001b[0m \u001b[0minit_state\u001b[0m\u001b[0;34m,\u001b[0m \u001b[0minit_params\u001b[0m\u001b[0;34m)\u001b[0m\u001b[0;34m\u001b[0m\u001b[0;34m\u001b[0m\u001b[0m\n\u001b[1;32m    448\u001b[0m         \u001b[0;32mif\u001b[0m \u001b[0mself\u001b[0m\u001b[0;34m.\u001b[0m\u001b[0mnum_chains\u001b[0m \u001b[0;34m==\u001b[0m \u001b[0;36m1\u001b[0m\u001b[0;34m:\u001b[0m\u001b[0;34m\u001b[0m\u001b[0;34m\u001b[0m\u001b[0m\n\u001b[0;32m--> 449\u001b[0;31m             \u001b[0mstates_flat\u001b[0m\u001b[0;34m,\u001b[0m \u001b[0mlast_state\u001b[0m \u001b[0;34m=\u001b[0m \u001b[0mpartial_map_fn\u001b[0m\u001b[0;34m(\u001b[0m\u001b[0mmap_args\u001b[0m\u001b[0;34m)\u001b[0m\u001b[0;34m\u001b[0m\u001b[0;34m\u001b[0m\u001b[0m\n\u001b[0m\u001b[1;32m    450\u001b[0m             \u001b[0mstates\u001b[0m \u001b[0;34m=\u001b[0m \u001b[0mtree_map\u001b[0m\u001b[0;34m(\u001b[0m\u001b[0;32mlambda\u001b[0m \u001b[0mx\u001b[0m\u001b[0;34m:\u001b[0m \u001b[0mx\u001b[0m\u001b[0;34m[\u001b[0m\u001b[0mjnp\u001b[0m\u001b[0;34m.\u001b[0m\u001b[0mnewaxis\u001b[0m\u001b[0;34m,\u001b[0m \u001b[0;34m...\u001b[0m\u001b[0;34m]\u001b[0m\u001b[0;34m,\u001b[0m \u001b[0mstates_flat\u001b[0m\u001b[0;34m)\u001b[0m\u001b[0;34m\u001b[0m\u001b[0;34m\u001b[0m\u001b[0m\n\u001b[1;32m    451\u001b[0m         \u001b[0;32melse\u001b[0m\u001b[0;34m:\u001b[0m\u001b[0;34m\u001b[0m\u001b[0;34m\u001b[0m\u001b[0m\n",
      "\u001b[0;32m~/miniconda3/lib/python3.7/site-packages/numpyro/infer/mcmc.py\u001b[0m in \u001b[0;36m_single_chain_mcmc\u001b[0;34m(self, init, args, kwargs, collect_fields)\u001b[0m\n\u001b[1;32m    330\u001b[0m                                     \u001b[0mcollection_size\u001b[0m\u001b[0;34m=\u001b[0m\u001b[0mself\u001b[0m\u001b[0;34m.\u001b[0m\u001b[0m_collection_params\u001b[0m\u001b[0;34m[\u001b[0m\u001b[0;34m\"collection_size\"\u001b[0m\u001b[0;34m]\u001b[0m\u001b[0;34m,\u001b[0m\u001b[0;34m\u001b[0m\u001b[0;34m\u001b[0m\u001b[0m\n\u001b[1;32m    331\u001b[0m                                     \u001b[0mprogbar_desc\u001b[0m\u001b[0;34m=\u001b[0m\u001b[0mpartial\u001b[0m\u001b[0;34m(\u001b[0m\u001b[0mget_progbar_desc_str\u001b[0m\u001b[0;34m,\u001b[0m \u001b[0mlower_idx\u001b[0m\u001b[0;34m)\u001b[0m\u001b[0;34m,\u001b[0m\u001b[0;34m\u001b[0m\u001b[0;34m\u001b[0m\u001b[0m\n\u001b[0;32m--> 332\u001b[0;31m                                     diagnostics_fn=diagnostics)\n\u001b[0m\u001b[1;32m    333\u001b[0m         \u001b[0mstates\u001b[0m\u001b[0;34m,\u001b[0m \u001b[0mlast_val\u001b[0m \u001b[0;34m=\u001b[0m \u001b[0mcollect_vals\u001b[0m\u001b[0;34m\u001b[0m\u001b[0;34m\u001b[0m\u001b[0m\n\u001b[1;32m    334\u001b[0m         \u001b[0;31m# Get first argument of type `HMCState`\u001b[0m\u001b[0;34m\u001b[0m\u001b[0;34m\u001b[0m\u001b[0;34m\u001b[0m\u001b[0m\n",
      "\u001b[0;32m~/miniconda3/lib/python3.7/site-packages/numpyro/util.py\u001b[0m in \u001b[0;36mfori_collect\u001b[0;34m(lower, upper, body_fun, init_val, transform, progbar, return_last_val, collection_size, **progbar_opts)\u001b[0m\n\u001b[1;32m    227\u001b[0m                     \u001b[0mt\u001b[0m\u001b[0;34m.\u001b[0m\u001b[0mset_description\u001b[0m\u001b[0;34m(\u001b[0m\u001b[0mprogbar_desc\u001b[0m\u001b[0;34m(\u001b[0m\u001b[0mi\u001b[0m\u001b[0;34m)\u001b[0m\u001b[0;34m,\u001b[0m \u001b[0mrefresh\u001b[0m\u001b[0;34m=\u001b[0m\u001b[0;32mFalse\u001b[0m\u001b[0;34m)\u001b[0m\u001b[0;34m\u001b[0m\u001b[0;34m\u001b[0m\u001b[0m\n\u001b[1;32m    228\u001b[0m                     \u001b[0;32mif\u001b[0m \u001b[0mdiagnostics_fn\u001b[0m\u001b[0;34m:\u001b[0m\u001b[0;34m\u001b[0m\u001b[0;34m\u001b[0m\u001b[0m\n\u001b[0;32m--> 229\u001b[0;31m                         \u001b[0mt\u001b[0m\u001b[0;34m.\u001b[0m\u001b[0mset_postfix_str\u001b[0m\u001b[0;34m(\u001b[0m\u001b[0mdiagnostics_fn\u001b[0m\u001b[0;34m(\u001b[0m\u001b[0mvals\u001b[0m\u001b[0;34m[\u001b[0m\u001b[0;36m0\u001b[0m\u001b[0;34m]\u001b[0m\u001b[0;34m)\u001b[0m\u001b[0;34m,\u001b[0m \u001b[0mrefresh\u001b[0m\u001b[0;34m=\u001b[0m\u001b[0;32mFalse\u001b[0m\u001b[0;34m)\u001b[0m\u001b[0;34m\u001b[0m\u001b[0;34m\u001b[0m\u001b[0m\n\u001b[0m\u001b[1;32m    230\u001b[0m \u001b[0;34m\u001b[0m\u001b[0m\n\u001b[1;32m    231\u001b[0m         \u001b[0mlast_val\u001b[0m\u001b[0;34m,\u001b[0m \u001b[0mcollection\u001b[0m\u001b[0;34m,\u001b[0m \u001b[0m_\u001b[0m \u001b[0;34m=\u001b[0m \u001b[0mvals\u001b[0m\u001b[0;34m\u001b[0m\u001b[0;34m\u001b[0m\u001b[0m\n",
      "\u001b[0;32m~/miniconda3/lib/python3.7/site-packages/numpyro/infer/mcmc.py\u001b[0m in \u001b[0;36m<lambda>\u001b[0;34m(x)\u001b[0m\n\u001b[1;32m    316\u001b[0m         \u001b[0;32melse\u001b[0m\u001b[0;34m:\u001b[0m\u001b[0;34m\u001b[0m\u001b[0;34m\u001b[0m\u001b[0m\n\u001b[1;32m    317\u001b[0m             \u001b[0mpostprocess_fn\u001b[0m \u001b[0;34m=\u001b[0m \u001b[0mself\u001b[0m\u001b[0;34m.\u001b[0m\u001b[0mpostprocess_fn\u001b[0m\u001b[0;34m\u001b[0m\u001b[0;34m\u001b[0m\u001b[0m\n\u001b[0;32m--> 318\u001b[0;31m         \u001b[0mdiagnostics\u001b[0m \u001b[0;34m=\u001b[0m \u001b[0;32mlambda\u001b[0m \u001b[0mx\u001b[0m\u001b[0;34m:\u001b[0m \u001b[0mself\u001b[0m\u001b[0;34m.\u001b[0m\u001b[0msampler\u001b[0m\u001b[0;34m.\u001b[0m\u001b[0mget_diagnostics_str\u001b[0m\u001b[0;34m(\u001b[0m\u001b[0mx\u001b[0m\u001b[0;34m[\u001b[0m\u001b[0;36m0\u001b[0m\u001b[0;34m]\u001b[0m\u001b[0;34m)\u001b[0m \u001b[0;32mif\u001b[0m \u001b[0mrng_key\u001b[0m\u001b[0;34m.\u001b[0m\u001b[0mndim\u001b[0m \u001b[0;34m==\u001b[0m \u001b[0;36m1\u001b[0m \u001b[0;32melse\u001b[0m \u001b[0;34m''\u001b[0m   \u001b[0;31m# noqa: E731\u001b[0m\u001b[0;34m\u001b[0m\u001b[0;34m\u001b[0m\u001b[0m\n\u001b[0m\u001b[1;32m    319\u001b[0m         \u001b[0minit_val\u001b[0m \u001b[0;34m=\u001b[0m \u001b[0;34m(\u001b[0m\u001b[0minit_state\u001b[0m\u001b[0;34m,\u001b[0m \u001b[0margs\u001b[0m\u001b[0;34m,\u001b[0m \u001b[0mkwargs\u001b[0m\u001b[0;34m)\u001b[0m \u001b[0;32mif\u001b[0m \u001b[0mself\u001b[0m\u001b[0;34m.\u001b[0m\u001b[0m_jit_model_args\u001b[0m \u001b[0;32melse\u001b[0m \u001b[0;34m(\u001b[0m\u001b[0minit_state\u001b[0m\u001b[0;34m,\u001b[0m\u001b[0;34m)\u001b[0m\u001b[0;34m\u001b[0m\u001b[0;34m\u001b[0m\u001b[0m\n\u001b[1;32m    320\u001b[0m         \u001b[0mlower_idx\u001b[0m \u001b[0;34m=\u001b[0m \u001b[0mself\u001b[0m\u001b[0;34m.\u001b[0m\u001b[0m_collection_params\u001b[0m\u001b[0;34m[\u001b[0m\u001b[0;34m\"lower\"\u001b[0m\u001b[0;34m]\u001b[0m\u001b[0;34m\u001b[0m\u001b[0;34m\u001b[0m\u001b[0m\n",
      "\u001b[0;32m~/miniconda3/lib/python3.7/site-packages/numpyro/infer/hmc.py\u001b[0m in \u001b[0;36mget_diagnostics_str\u001b[0;34m(self, state)\u001b[0m\n\u001b[1;32m    439\u001b[0m         return '{} steps of size {:.2e}. acc. prob={:.2f}'.format(state.num_steps,\n\u001b[1;32m    440\u001b[0m                                                                   \u001b[0mstate\u001b[0m\u001b[0;34m.\u001b[0m\u001b[0madapt_state\u001b[0m\u001b[0;34m.\u001b[0m\u001b[0mstep_size\u001b[0m\u001b[0;34m,\u001b[0m\u001b[0;34m\u001b[0m\u001b[0;34m\u001b[0m\u001b[0m\n\u001b[0;32m--> 441\u001b[0;31m                                                                   state.mean_accept_prob)\n\u001b[0m\u001b[1;32m    442\u001b[0m \u001b[0;34m\u001b[0m\u001b[0m\n\u001b[1;32m    443\u001b[0m     \u001b[0;32mdef\u001b[0m \u001b[0minit\u001b[0m\u001b[0;34m(\u001b[0m\u001b[0mself\u001b[0m\u001b[0;34m,\u001b[0m \u001b[0mrng_key\u001b[0m\u001b[0;34m,\u001b[0m \u001b[0mnum_warmup\u001b[0m\u001b[0;34m,\u001b[0m \u001b[0minit_params\u001b[0m\u001b[0;34m=\u001b[0m\u001b[0;32mNone\u001b[0m\u001b[0;34m,\u001b[0m \u001b[0mmodel_args\u001b[0m\u001b[0;34m=\u001b[0m\u001b[0;34m(\u001b[0m\u001b[0;34m)\u001b[0m\u001b[0;34m,\u001b[0m \u001b[0mmodel_kwargs\u001b[0m\u001b[0;34m=\u001b[0m\u001b[0;34m{\u001b[0m\u001b[0;34m}\u001b[0m\u001b[0;34m)\u001b[0m\u001b[0;34m:\u001b[0m\u001b[0;34m\u001b[0m\u001b[0;34m\u001b[0m\u001b[0m\n",
      "\u001b[0;32m~/miniconda3/lib/python3.7/site-packages/jax/interpreters/xla.py\u001b[0m in \u001b[0;36m__format__\u001b[0;34m(self, format_spec)\u001b[0m\n\u001b[1;32m   1117\u001b[0m     \u001b[0;31m# Simulates behavior of https://github.com/numpy/numpy/pull/9883\u001b[0m\u001b[0;34m\u001b[0m\u001b[0;34m\u001b[0m\u001b[0;34m\u001b[0m\u001b[0m\n\u001b[1;32m   1118\u001b[0m     \u001b[0;32mif\u001b[0m \u001b[0mself\u001b[0m\u001b[0;34m.\u001b[0m\u001b[0mndim\u001b[0m \u001b[0;34m==\u001b[0m \u001b[0;36m0\u001b[0m\u001b[0;34m:\u001b[0m\u001b[0;34m\u001b[0m\u001b[0;34m\u001b[0m\u001b[0m\n\u001b[0;32m-> 1119\u001b[0;31m       \u001b[0;32mreturn\u001b[0m \u001b[0mformat\u001b[0m\u001b[0;34m(\u001b[0m\u001b[0mself\u001b[0m\u001b[0;34m.\u001b[0m\u001b[0m_value\u001b[0m\u001b[0;34m[\u001b[0m\u001b[0;34m(\u001b[0m\u001b[0;34m)\u001b[0m\u001b[0;34m]\u001b[0m\u001b[0;34m,\u001b[0m \u001b[0mformat_spec\u001b[0m\u001b[0;34m)\u001b[0m\u001b[0;34m\u001b[0m\u001b[0;34m\u001b[0m\u001b[0m\n\u001b[0m\u001b[1;32m   1120\u001b[0m     \u001b[0;32melse\u001b[0m\u001b[0;34m:\u001b[0m\u001b[0;34m\u001b[0m\u001b[0;34m\u001b[0m\u001b[0m\n\u001b[1;32m   1121\u001b[0m       \u001b[0;32mreturn\u001b[0m \u001b[0mformat\u001b[0m\u001b[0;34m(\u001b[0m\u001b[0mself\u001b[0m\u001b[0;34m.\u001b[0m\u001b[0m_value\u001b[0m\u001b[0;34m,\u001b[0m \u001b[0mformat_spec\u001b[0m\u001b[0;34m)\u001b[0m\u001b[0;34m\u001b[0m\u001b[0;34m\u001b[0m\u001b[0m\n",
      "\u001b[0;32m~/miniconda3/lib/python3.7/site-packages/jax/interpreters/xla.py\u001b[0m in \u001b[0;36m_value\u001b[0;34m(self)\u001b[0m\n\u001b[1;32m   1027\u001b[0m         \u001b[0mself\u001b[0m\u001b[0;34m.\u001b[0m\u001b[0m_npy_value\u001b[0m \u001b[0;34m=\u001b[0m \u001b[0mlazy\u001b[0m\u001b[0;34m.\u001b[0m\u001b[0meval_lexpr\u001b[0m\u001b[0;34m(\u001b[0m\u001b[0mself\u001b[0m\u001b[0;34m.\u001b[0m\u001b[0m_lazy_expr\u001b[0m\u001b[0;34m,\u001b[0m \u001b[0;32mNone\u001b[0m\u001b[0;34m)\u001b[0m\u001b[0;34m\u001b[0m\u001b[0;34m\u001b[0m\u001b[0m\n\u001b[1;32m   1028\u001b[0m       \u001b[0;32melse\u001b[0m\u001b[0;34m:\u001b[0m\u001b[0;34m\u001b[0m\u001b[0;34m\u001b[0m\u001b[0m\n\u001b[0;32m-> 1029\u001b[0;31m         \u001b[0mself\u001b[0m\u001b[0;34m.\u001b[0m\u001b[0m_npy_value\u001b[0m \u001b[0;34m=\u001b[0m \u001b[0m_force\u001b[0m\u001b[0;34m(\u001b[0m\u001b[0mself\u001b[0m\u001b[0;34m)\u001b[0m\u001b[0;34m.\u001b[0m\u001b[0mdevice_buffer\u001b[0m\u001b[0;34m.\u001b[0m\u001b[0mto_py\u001b[0m\u001b[0;34m(\u001b[0m\u001b[0;34m)\u001b[0m\u001b[0;34m\u001b[0m\u001b[0;34m\u001b[0m\u001b[0m\n\u001b[0m\u001b[1;32m   1030\u001b[0m       \u001b[0mself\u001b[0m\u001b[0;34m.\u001b[0m\u001b[0m_npy_value\u001b[0m\u001b[0;34m.\u001b[0m\u001b[0mflags\u001b[0m\u001b[0;34m.\u001b[0m\u001b[0mwriteable\u001b[0m \u001b[0;34m=\u001b[0m \u001b[0;32mFalse\u001b[0m\u001b[0;34m\u001b[0m\u001b[0;34m\u001b[0m\u001b[0m\n\u001b[1;32m   1031\u001b[0m     \u001b[0;32mreturn\u001b[0m \u001b[0mself\u001b[0m\u001b[0;34m.\u001b[0m\u001b[0m_npy_value\u001b[0m\u001b[0;34m\u001b[0m\u001b[0;34m\u001b[0m\u001b[0m\n",
      "\u001b[0;31mKeyboardInterrupt\u001b[0m: "
     ]
    }
   ],
   "source": [
    "init_rng_key = random.PRNGKey(12273)\n",
    "mcmc = MCMC(NUTS(model), 100, 1000)\n",
    "mcmc.run(init_rng_key, altCounts)\n",
    "mcmc.print_summary()"
   ]
  },
  {
   "cell_type": "code",
   "execution_count": 14,
   "metadata": {},
   "outputs": [
    {
     "output_type": "stream",
     "name": "stdout",
     "text": [
      "[[0.35755394 0.32762857 0.23290327 0.08191422]\n [0.48924372 0.11289133 0.31789706 0.07996788]\n [0.60314798 0.17777806 0.17273039 0.04634357]\n [0.38183901 0.40092201 0.10283599 0.11440299]\n [0.25277387 0.26271651 0.25232567 0.23218395]\n [0.25751675 0.23329801 0.24665294 0.26253229]]\ninferred stick-breaking weights [0.10060252 0.10562803 0.70271276 0.0943362  0.00104557 0.00099948]\n"
     ]
    }
   ],
   "source": [
    "# Scaling by pDs gives absolutely no difference in concentrations or probabilities.\n",
    "probs = mcmc.get_samples()[\"probs\"]\n",
    "print(probs.mean(0))\n",
    "\n",
    "# concs = mcmcAf.get_samples()[\"conc\"]\n",
    "# print(\"conc std\", concs.std(0))\n",
    "# print(\"conc mean\", concs.mean(0))\n",
    "# print(\"DIrichlet version\", Dirichlet(concs.mean(0)).mean)\n",
    "\n",
    "betaScaled = mcmcSimple.get_samples()['beta']\n",
    "print(\"inferred stick-breaking weights\", mix_weights(betaScaled).mean(0))"
   ]
  },
  {
   "cell_type": "code",
   "execution_count": 12,
   "metadata": {},
   "outputs": [
    {
     "output_type": "stream",
     "name": "stdout",
     "text": [
      "[[0.38201752 0.39553869 0.10915769 0.11328611]\n [0.48914713 0.11213708 0.31776914 0.08094665]\n [0.60269817 0.17787539 0.17313951 0.04628693]\n [0.35237301 0.32552174 0.24226577 0.07983947]\n [0.25097589 0.2605425  0.24627794 0.24220367]\n [0.242538   0.24934954 0.25666506 0.25144739]]\ninferred stick-breaking weights [0.10060252 0.10562803 0.70271276 0.0943362  0.00104557 0.00099948]\n"
     ]
    }
   ],
   "source": [
    "# Scaling by pDs gives absolutely no difference in concentrations or probabilities.\n",
    "probsSimple = mcmcSimple.get_samples()[\"probs\"]\n",
    "print(probsSimple.mean(0))\n",
    "\n",
    "# concs = mcmcAf.get_samples()[\"conc\"]\n",
    "# print(\"conc std\", concs.std(0))\n",
    "# print(\"conc mean\", concs.mean(0))\n",
    "# print(\"DIrichlet version\", Dirichlet(concs.mean(0)).mean)\n",
    "\n",
    "betaScaledSimple = mcmcSimple.get_samples()['beta']\n",
    "print(\"inferred stick-breaking weights\", mix_weights(betaScaledSimple).mean(0))"
   ]
  },
  {
   "cell_type": "code",
   "execution_count": null,
   "metadata": {},
   "outputs": [],
   "source": []
  },
  {
   "cell_type": "code",
   "execution_count": 287,
   "metadata": {},
   "outputs": [
    {
     "output_type": "execute_result",
     "data": {
      "text/plain": [
       "tensor([0.7513, 0.0988, 0.0967, 0.0532])"
      ]
     },
     "metadata": {},
     "execution_count": 287
    }
   ],
   "source": [
    "n0 = len(liabData55cov[\"unaffectedGenes\"])\n",
    "n1 = len(liabData55cov[\"affectedGenes\"][0])\n",
    "n2 = len(liabData55cov[\"affectedGenes\"][1])\n",
    "nBoth = len(liabData55cov[\"affectedGenes\"][2])\n",
    "\n",
    "pisEmpirical = tensor([n0, n1, n2, nBoth]) / tensor(float((n0 + n1 + n2 + nBoth)))\n",
    "pisEmpirical"
   ]
  },
  {
   "cell_type": "code",
   "execution_count": 24,
   "metadata": {},
   "outputs": [
    {
     "output_type": "stream",
     "text": [
      "\u001b[0;31mSignature:\u001b[0m \u001b[0mMultinomial\u001b[0m\u001b[0;34m(\u001b[0m\u001b[0mtotal_count\u001b[0m\u001b[0;34m=\u001b[0m\u001b[0;36m1\u001b[0m\u001b[0;34m,\u001b[0m \u001b[0mprobs\u001b[0m\u001b[0;34m=\u001b[0m\u001b[0;32mNone\u001b[0m\u001b[0;34m,\u001b[0m \u001b[0mlogits\u001b[0m\u001b[0;34m=\u001b[0m\u001b[0;32mNone\u001b[0m\u001b[0;34m,\u001b[0m \u001b[0mvalidate_args\u001b[0m\u001b[0;34m=\u001b[0m\u001b[0;32mNone\u001b[0m\u001b[0;34m)\u001b[0m\u001b[0;34m\u001b[0m\u001b[0;34m\u001b[0m\u001b[0m\n",
      "\u001b[0;31mDocstring:\u001b[0m <no docstring>\n",
      "\u001b[0;31mFile:\u001b[0m      ~/miniconda3/lib/python3.7/site-packages/numpyro/distributions/discrete.py\n",
      "\u001b[0;31mType:\u001b[0m      function\n"
     ],
     "name": "stdout"
    }
   ],
   "source": [
    "Multinomial?"
   ]
  },
  {
   "cell_type": "code",
   "execution_count": null,
   "metadata": {},
   "outputs": [],
   "source": [
    "def fn():\n",
    "x = nu'mpyro.sample('x', numpyro.distributions.Exponential(.01))\n",
    "    return x\n",
    "   \n",
    "print(numpyro.handlers.seed(fn, rng_seed=2)())"
   ]
  },
  {
   "cell_type": "code",
   "execution_count": null,
   "metadata": {},
   "outputs": [],
   "source": [
    "jnp.eye(kConditions)"
   ]
  },
  {
   "cell_type": "code",
   "execution_count": 10,
   "metadata": {},
   "outputs": [
    {
     "output_type": "stream",
     "name": "stdout",
     "text": [
      "Requirement already up-to-date: numpyro in /Users/alexkotlar/miniconda3/lib/python3.7/site-packages (0.4.1)\n",
      "Requirement already satisfied, skipping upgrade: jaxlib==0.1.56 in /Users/alexkotlar/miniconda3/lib/python3.7/site-packages (from numpyro) (0.1.56)\n",
      "Requirement already satisfied, skipping upgrade: jax==0.2.3 in /Users/alexkotlar/miniconda3/lib/python3.7/site-packages (from numpyro) (0.2.3)\n",
      "Requirement already satisfied, skipping upgrade: tqdm in /Users/alexkotlar/miniconda3/lib/python3.7/site-packages (from numpyro) (4.42.1)\n",
      "Requirement already satisfied, skipping upgrade: numpy>=1.12 in /Users/alexkotlar/miniconda3/lib/python3.7/site-packages (from jaxlib==0.1.56->numpyro) (1.19.2)\n",
      "Requirement already satisfied, skipping upgrade: absl-py in /Users/alexkotlar/miniconda3/lib/python3.7/site-packages (from jaxlib==0.1.56->numpyro) (0.10.0)\n",
      "Requirement already satisfied, skipping upgrade: scipy in /Users/alexkotlar/miniconda3/lib/python3.7/site-packages (from jaxlib==0.1.56->numpyro) (1.5.2)\n",
      "Requirement already satisfied, skipping upgrade: opt-einsum in /Users/alexkotlar/miniconda3/lib/python3.7/site-packages (from jax==0.2.3->numpyro) (3.2.0)\n",
      "Requirement already satisfied, skipping upgrade: six in /Users/alexkotlar/miniconda3/lib/python3.7/site-packages (from absl-py->jaxlib==0.1.56->numpyro) (1.15.0)\n",
      "\u001b[33mWARNING: You are using pip version 20.2.3; however, version 20.2.4 is available.\n",
      "You should consider upgrading via the '/Users/alexkotlar/miniconda3/bin/python3.7 -m pip install --upgrade pip' command.\u001b[0m\n"
     ]
    }
   ],
   "source": [
    "]\n"
   ]
  },
  {
   "cell_type": "code",
   "execution_count": 436,
   "metadata": {},
   "outputs": [
    {
     "output_type": "stream",
     "name": "stdout",
     "text": [
      "concGamma.mean(0)\n [[0.65494114 0.65561657 0.53838603 0.38221167]\n [0.68520563 0.31550789 0.14851645 0.1577748 ]\n [0.85482666 0.47064133 0.4545938  0.31773091]\n [0.7575925  0.41993291 0.67723309 0.4021293 ]\n [0.66957306 0.68627372 0.39678686 0.41167629]\n [0.31235252 0.2639591  0.26612618 0.30457256]]\n\n\nconcGamma.std(0)\n [[0.63519622 0.61511268 0.49677209 0.33767606]\n [0.79755738 0.42319524 0.28107021 0.22554174]\n [0.85234938 0.44780868 0.45026178 0.2837045 ]\n [0.71135739 0.37818191 0.62938568 0.37403074]\n [0.65223208 0.63941684 0.39189112 0.41114372]\n [0.54376414 0.4537137  0.52960361 0.4920807 ]]\n\n\nprobsGamma.mean(0)\n [[0.33718339 0.35768511 0.22262554 0.08250596]\n [0.76555272 0.13935501 0.06607649 0.02901578]\n [0.59965857 0.17078234 0.18181609 0.04774299]\n [0.43680396 0.10901406 0.36306802 0.09111396]\n [0.39701997 0.39050298 0.10364204 0.10883502]\n [0.30967865 0.2178806  0.2297171  0.24272365]]\n\n\nprobsGamma.std(0)\n [[0.01740768 0.01295535 0.02011328 0.00587746]\n [0.24145732 0.14367356 0.18930574 0.09363028]\n [0.00384691 0.00233145 0.00335768 0.00127384]\n [0.02021907 0.01201263 0.02101025 0.00728426]\n [0.01345347 0.01267082 0.01592406 0.00737229]\n [0.39279701 0.34725881 0.35947235 0.35121156]]\n\ninferred stick-breaking weights [0.09818071 0.00588583 0.74635477 0.06099558 0.09248964 0.0010714 ]\nweights [0.09818071 0.00588583 0.74635477 0.06099558 0.09248964 0.0010714 ]\nweightsIdx (DeviceArray([0, 2, 3, 4], dtype=int64),)\nweights [0.09818071 0.00588583 0.74635477 0.06099558 0.09248964 0.0010714 ]\nacceptedProbsMean [[0.33718339 0.35768511 0.22262554 0.08250596]\n [0.59965857 0.17078234 0.18181609 0.04774299]\n [0.43680396 0.10901406 0.36306802 0.09111396]\n [0.39701997 0.39050298 0.10364204 0.10883502]]\n"
     ]
    }
   ],
   "source": [
    "# Scaling by pDs gives absolutely no difference in concentrations or probabilities.\n",
    "concGamma = mcmcGamma.get_samples()[\"conc\"]\n",
    "print(\"concGamma.mean(0)\\n\", concGamma.mean(0))\n",
    "print(\"\\n\\nconcGamma.std(0)\\n\", concGamma.std(0))\n",
    "\n",
    "probsGamma = mcmcGamma.get_samples()[\"probs\"]\n",
    "print(\"\\n\\nprobsGamma.mean(0)\\n\",probsGamma.mean(0))\n",
    "print(\"\\n\\nprobsGamma.std(0)\\n\",probsGamma.std(0))\n",
    "\n",
    "# concs = mcmcAf.get_samples()[\"conc\"]\n",
    "# print(\"conc std\", concs.std(0))\n",
    "# print(\"conc mean\", concs.mean(0))\n",
    "# print(\"DIrichlet version\", Dirichlet(concs.mean(0)).mean)\n",
    "\n",
    "betaGamma = mcmcGamma.get_samples()['beta']\n",
    "print(\"\\ninferred stick-breaking weights\", mix_weights(betaGamma).mean(0))\n",
    "\n",
    "\n",
    "weights = mix_weights(betaGamma).mean(0)\n",
    "print(\"weights\", weights)\n",
    "weightsIdx = np.nonzero(weights >= .01)\n",
    "print(\"weightsIdx\", weightsIdx)\n",
    "pisInferred = weights[weightsIdx]\n",
    "acceptedProbsMean = probsGamma.mean(0)[weightsIdx]\n",
    "acceptedProbsLastMean = probsGamma[-1][weightsIdx]\n",
    "print(\"pisInferred\", pisInferred)\n",
    "print(\"acceptedProbsMean\", acceptedProbsMean)\n",
    "# print(\"acceptedProbsLastMean\",acceptedProbsLastMean)\n",
    "# pdv tensor([0.5059, 0.1545, 0.3103, 0.0828], dtype=torch.float64)\n",
    "# pdv scaled tensor([0.4803, 0.1466, 0.2946, 0.0786], dtype=torch.float64)"
   ]
  },
  {
   "cell_type": "code",
   "execution_count": 417,
   "metadata": {},
   "outputs": [
    {
     "output_type": "execute_result",
     "data": {
      "text/plain": [
       "array([[3.46217124e-01, 3.57612114e-01, 2.08725454e-01, 8.74453071e-02],\n",
       "       [7.28475000e-01, 2.63689280e-01, 7.83571973e-03, 2.29490079e-15],\n",
       "       [6.01024188e-01, 1.69676729e-01, 1.81888497e-01, 4.74105858e-02],\n",
       "       [4.33089848e-01, 1.22322493e-01, 3.53576456e-01, 9.10112027e-02],\n",
       "       [3.85324168e-01, 3.99962401e-01, 1.07243547e-01, 1.07469884e-01],\n",
       "       [4.71546692e-01, 2.69540642e-01, 2.27425039e-33, 2.58912666e-01]])"
      ]
     },
     "metadata": {},
     "execution_count": 417
    }
   ],
   "source": [
    "np.array(probsGamma[-1])"
   ]
  },
  {
   "cell_type": "code",
   "execution_count": 414,
   "metadata": {},
   "outputs": [
    {
     "output_type": "execute_result",
     "data": {
      "text/plain": [
       "DeviceArray([1.00000000e+00, 8.99158129e-01, 8.94271768e-01,\n",
       "             1.50971136e-01, 8.38058995e-02, 1.53134173e-10],            dtype=float64)"
      ]
     },
     "metadata": {},
     "execution_count": 414
    }
   ],
   "source": [
    "mix_weights(betaGamma)[-1]"
   ]
  },
  {
   "cell_type": "code",
   "execution_count": 420,
   "metadata": {},
   "outputs": [
    {
     "output_type": "execute_result",
     "data": {
      "text/plain": [
       "(DeviceArray([0, 2, 3, 4], dtype=int64),)"
      ]
     },
     "metadata": {},
     "execution_count": 420
    }
   ],
   "source": [
    "accepted_components = np.nonzero(mix_weights(betaGamma).mean(0) >= .01)"
   ]
  },
  {
   "cell_type": "code",
   "execution_count": 364,
   "metadata": {},
   "outputs": [
    {
     "output_type": "stream",
     "name": "stderr",
     "text": [
      "sample: 100%|██████████| 1100/1100 [52:37<00:00,  2.87s/it, 63 steps of size 9.50e-02. acc. prob=0.86]\n",
      "                mean       std    median      5.0%     95.0%     n_eff     r_hat\n",
      "   beta[0]      0.85      0.01      0.85      0.83      0.87   1242.35      1.00\n",
      "   beta[1]      0.01      0.00      0.00      0.00      0.01    752.96      1.00\n",
      "   beta[2]      1.00      0.00      1.00      1.00      1.00    865.46      1.00\n",
      "   beta[3]      0.97      0.12      1.00      0.96      1.00   1080.32      1.00\n",
      "   beta[4]      0.98      0.11      1.00      0.98      1.00   1026.11      1.00\n",
      " conc[0,0]     38.33      2.21     38.24     34.48     41.70    535.92      1.00\n",
      " conc[0,1]     11.69      0.64     11.65     10.54     12.65    559.77      1.00\n",
      " conc[0,2]     12.84      0.73     12.81     11.59     14.01    551.12      1.00\n",
      " conc[0,3]      3.52      0.20      3.52      3.16      3.80    558.56      1.00\n",
      " conc[1,0]      0.75      0.67      0.56      0.00      1.65   1032.72      1.00\n",
      " conc[1,1]      0.07      0.18      0.00      0.00      0.20    869.41      1.00\n",
      " conc[1,2]      0.35      0.64      0.10      0.00      0.99    646.67      1.00\n",
      " conc[1,3]      0.01      0.08      0.00      0.00      0.01    617.08      1.00\n",
      " conc[2,0]     16.89      1.51     16.81     14.53     19.45    631.37      1.00\n",
      " conc[2,1]     16.71      1.66     16.61     14.06     19.28    639.57      1.00\n",
      " conc[2,2]      7.23      0.67      7.15      6.14      8.31    657.01      1.00\n",
      " conc[2,3]      4.38      0.44      4.36      3.71      5.09    662.96      1.00\n",
      " conc[3,0]      0.58      0.73      0.32      0.00      1.43   1212.07      1.00\n",
      " conc[3,1]      0.16      0.35      0.02      0.00      0.47   1114.69      1.00\n",
      " conc[3,2]      0.21      0.47      0.02      0.00      0.62    899.21      1.00\n",
      " conc[3,3]      0.05      0.19      0.00      0.00      0.08   1019.03      1.00\n",
      " conc[4,0]      0.60      0.77      0.31      0.00      1.52   1008.72      1.00\n",
      " conc[4,1]      0.17      0.45      0.01      0.00      0.56    760.17      1.00\n",
      " conc[4,2]      0.17      0.35      0.01      0.00      0.54   1230.98      1.00\n",
      " conc[4,3]      0.04      0.16      0.00      0.00      0.04    990.64      1.00\n",
      " conc[5,0]      0.60      0.81      0.29      0.00      1.68   1422.55      1.00\n",
      " conc[5,1]      0.16      0.38      0.02      0.00      0.46   1122.48      1.00\n",
      " conc[5,2]      0.17      0.41      0.01      0.00      0.56    842.95      1.00\n",
      " conc[5,3]      0.03      0.15      0.00      0.00      0.02    885.65      1.00\n",
      "\n",
      "Number of divergences: 1\n",
      "\n"
     ]
    }
   ],
   "source": [
    "init_rng_key = random.PRNGKey(12273)\n",
    "mcmc2 = MCMC(NUTS(model2), 100, 1000, jit_model_args=True)\n",
    "mcmc2.run(init_rng_key, altCounts)\n",
    "mcmc2.print_summary()"
   ]
  },
  {
   "cell_type": "code",
   "execution_count": 47,
   "metadata": {},
   "outputs": [
    {
     "output_type": "stream",
     "name": "stderr",
     "text": [
      "sample: 100%|██████████| 1100/1100 [26:54<00:00,  1.47s/it, 255 steps of size 1.71e-02. acc. prob=0.81]\n",
      "                mean       std    median      5.0%     95.0%     n_eff     r_hat\n",
      "   beta[0]      0.10      0.02      0.10      0.07      0.14   1784.23      1.00\n",
      "   beta[1]      0.11      0.02      0.11      0.08      0.15   2230.92      1.00\n",
      "   beta[2]      0.86      0.02      0.86      0.82      0.89   1039.55      1.00\n",
      "   beta[3]      0.99      0.06      1.00      0.99      1.00    763.01      1.00\n",
      "   beta[4]      0.97      0.12      1.00      0.96      1.00   1126.67      1.00\n",
      "probs[0,0]      0.76      0.46      0.76      0.02      1.50    392.02      1.01\n",
      "probs[0,1]      0.70      0.46      0.69     -0.09      1.37    402.69      1.01\n",
      "probs[0,2]      0.36      0.46      0.35     -0.40      1.08    398.53      1.01\n",
      "probs[0,3]     -0.91      0.46     -0.92     -1.69     -0.21    399.93      1.01\n",
      "probs[1,0]      1.11      0.49      1.10      0.33      1.94    513.83      1.00\n",
      "probs[1,1]     -0.27      0.49     -0.26     -1.00      0.60    517.66      1.00\n",
      "probs[1,2]      0.75      0.48      0.74     -0.02      1.57    513.96      1.00\n",
      "probs[1,3]     -0.57      0.49     -0.58     -1.33      0.27    532.25      1.00\n",
      "probs[2,0]      1.50      0.47      1.50      0.76      2.23    363.21      1.01\n",
      "probs[2,1]      0.27      0.47      0.28     -0.49      0.99    361.87      1.01\n",
      "probs[2,2]      0.27      0.47      0.26     -0.44      1.05    362.82      1.01\n",
      "probs[2,3]     -1.08      0.47     -1.08     -1.81     -0.32    361.83      1.01\n",
      "probs[3,0]      0.92      0.48      0.95      0.12      1.68    716.94      1.00\n",
      "probs[3,1]      0.92      0.48      0.94      0.08      1.66    719.47      1.00\n",
      "probs[3,2]     -0.37      0.49     -0.35     -1.13      0.45    739.36      1.00\n",
      "probs[3,3]     -0.34      0.48     -0.33     -1.11      0.46    710.93      1.00\n",
      "probs[4,0]      0.64      0.94      0.66     -0.73      2.29   1122.02      1.00\n",
      "probs[4,1]      0.21      1.01      0.23     -1.51      1.84    815.95      1.00\n",
      "probs[4,2]      0.14      0.98      0.13     -1.45      1.71    921.90      1.00\n",
      "probs[4,3]      0.02      0.90      0.06     -1.45      1.46   1615.92      1.00\n",
      "probs[5,0]      0.58      1.01      0.58     -1.10      2.21   1446.47      1.00\n",
      "probs[5,1]      0.19      0.94      0.23     -1.38      1.60   1516.96      1.00\n",
      "probs[5,2]      0.14      1.05      0.16     -1.56      1.86   1919.26      1.00\n",
      "probs[5,3]      0.02      1.02      0.00     -1.53      1.78   2197.01      1.00\n",
      "\n",
      "Number of divergences: 1\n",
      "\n"
     ]
    }
   ],
   "source": [
    "init_rng_key = random.PRNGKey(12273)\n",
    "mcmcLN = MCMC(NUTS(modelLogNormal), 100, 1000, jit_model_args=True)\n",
    "mcmcLN.run(init_rng_key, altCounts)\n",
    "mcmcLN.print_summary()"
   ]
  },
  {
   "cell_type": "code",
   "execution_count": 291,
   "metadata": {},
   "outputs": [
    {
     "output_type": "stream",
     "name": "stdout",
     "text": [
      "[[ 1.49273245  0.262309    0.30758478 -1.06456542]\n [ 0.90302169  0.87169811 -0.25753475 -0.47014321]\n [ 0.55742081  0.56022522  0.47238792 -0.68679382]\n [ 1.1094443  -0.41645556  0.83287906 -0.45779689]\n [ 0.58153406  0.21392152  0.20300218 -0.03638978]\n [ 0.63027395  0.19025072  0.19694797  0.05194286]]\njax.nn.softmax [[0.59687817 0.1743892  0.18246627 0.04626636]\n [0.39435633 0.38219514 0.12355649 0.09989204]\n [0.31157913 0.31245415 0.28617985 0.08978687]\n [0.45778545 0.09953415 0.34717723 0.09550317]\n [0.3428986  0.23741799 0.23483964 0.18484376]\n [0.35048316 0.22571868 0.22723544 0.19656272]]\ninferred stick-breaking weights [0.7484551  0.13928875 0.06202646 0.05335769 0.00137864 0.00100546]\n"
     ]
    }
   ],
   "source": [
    "# Scaling by pDs gives absolutely no difference in concentrations or probabilities.\n",
    "sLN = mcmcLN.get_samples()[\"probs\"]\n",
    "print(sLN.mean(0))\n",
    "print(\"jax.nn.softmax\", jax.nn.softmax(sLN.mean(0)))\n",
    "\n",
    "# concs = mcmcAf.get_samples()[\"conc\"]\n",
    "# print(\"conc std\", concs.std(0))\n",
    "# print(\"conc mean\", concs.mean(0))\n",
    "# print(\"DIrichlet version\", Dirichlet(concs.mean(0)).mean)\n",
    "\n",
    "betaScaledLNInDirichlet = mcmcLN.get_samples()['beta']\n",
    "print(\"inferred stick-breaking weights\", mix_weights(betaScaledLNInDirichlet).mean(0))"
   ]
  },
  {
   "cell_type": "code",
   "execution_count": 218,
   "metadata": {},
   "outputs": [
    {
     "output_type": "stream",
     "name": "stderr",
     "text": [
      "sample: 100%|██████████| 1100/1100 [11:10<00:00,  1.64it/s, 127 steps of size 2.88e-02. acc. prob=0.65]\n",
      "\n",
      "                mean       std    median      5.0%     95.0%     n_eff     r_hat\n",
      "   beta[0]      0.05      0.03      0.05      0.00      0.08     12.91      1.06\n",
      "   beta[1]      0.78      0.03      0.78      0.74      0.81     34.43      1.02\n",
      "   beta[2]      0.28      0.09      0.28      0.10      0.39     16.66      1.00\n",
      "   beta[3]      0.87      0.18      1.00      0.66      1.00      6.79      1.06\n",
      "   beta[4]      0.98      0.10      1.00      0.98      1.00    484.45      1.01\n",
      "   conc[0]     13.12      6.04     12.13      5.21     23.35     18.36      1.06\n",
      "   conc[1]      6.97      3.23      6.42      3.08     12.22     22.12      1.05\n",
      "   conc[2]      6.89      2.98      6.30      2.32     11.30     18.22      1.08\n",
      "   conc[3]      2.91      1.24      2.56      1.20      5.02     24.13      1.05\n",
      "probs[0,0]      0.36      0.07      0.32      0.29      0.49      3.87      1.49\n",
      "probs[0,1]      0.29      0.12      0.31      0.09      0.41      6.64      1.08\n",
      "probs[0,2]      0.27      0.06      0.28      0.18      0.37      8.98      1.01\n",
      "probs[0,3]      0.09      0.02      0.09      0.06      0.13     11.35      1.06\n",
      "probs[1,0]      0.60      0.00      0.60      0.59      0.60    439.75      1.01\n",
      "probs[1,1]      0.17      0.00      0.17      0.17      0.18    269.02      1.01\n",
      "probs[1,2]      0.18      0.00      0.18      0.18      0.19    119.80      1.03\n",
      "probs[1,3]      0.05      0.00      0.05      0.04      0.05    348.50      1.00\n",
      "probs[2,0]      0.38      0.07      0.34      0.29      0.48      2.78      2.48\n",
      "probs[2,1]      0.23      0.10      0.30      0.10      0.35      2.97      2.16\n",
      "probs[2,2]      0.30      0.03      0.30      0.25      0.35      5.17      1.43\n",
      "probs[2,3]      0.09      0.01      0.09      0.07      0.10     17.43      1.00\n",
      "probs[3,0]      0.40      0.02      0.39      0.38      0.41    182.90      1.00\n",
      "probs[3,1]      0.38      0.02      0.38      0.37      0.40    155.93      1.00\n",
      "probs[3,2]      0.12      0.01      0.12      0.11      0.14    192.18      1.00\n",
      "probs[3,3]      0.10      0.01      0.10      0.09      0.11    404.91      1.00\n",
      "probs[4,0]      0.44      0.08      0.45      0.31      0.57    873.23      1.00\n",
      "probs[4,1]      0.20      0.09      0.18      0.08      0.34     10.25      1.08\n",
      "probs[4,2]      0.27      0.08      0.28      0.13      0.37     10.83      1.07\n",
      "probs[4,3]      0.09      0.04      0.09      0.02      0.15    603.94      1.00\n",
      "probs[5,0]      0.44      0.09      0.44      0.29      0.60    265.79      1.01\n",
      "probs[5,1]      0.24      0.08      0.24      0.12      0.36    231.38      1.01\n",
      "probs[5,2]      0.23      0.08      0.23      0.09      0.34     84.00      1.01\n",
      "probs[5,3]      0.09      0.06      0.08      0.02      0.18     93.24      1.02\n",
      "\n",
      "Number of divergences: 34\n"
     ]
    }
   ],
   "source": [
    "init_rng_key = random.PRNGKey(12273)\n",
    "mcmcAf1 = MCMC(NUTS(model1), 100, 1000)\n",
    "mcmcAf1.run(init_rng_key, altCounts)\n",
    "mcmcAf1.print_summary()"
   ]
  },
  {
   "cell_type": "code",
   "execution_count": 221,
   "metadata": {},
   "outputs": [
    {
     "output_type": "stream",
     "name": "stdout",
     "text": [
      "[[0.35648751 0.28541579 0.27223796 0.08585875]\n [0.59835731 0.17454131 0.18107019 0.04603119]\n [0.37844924 0.23480645 0.29966424 0.08708006]\n [0.39667162 0.37917678 0.12425746 0.09989414]\n [0.44235278 0.19643622 0.26693016 0.09428085]\n [0.4362976  0.24264714 0.23019548 0.09085979]]\ninferred stick-breaking weights [0.05075505 0.73676611 0.05821413 0.13368557 0.02359888 0.00106334]\n"
     ]
    }
   ],
   "source": [
    "# Scaling by pDs gives absolutely no difference in concentrations or probabilities.\n",
    "sAf1 = mcmcAf1.get_samples()[\"probs\"]\n",
    "print(sAf1.mean(0))\n",
    "\n",
    "\n",
    "betaScaledInDirichlet1 = mcmcAf1.get_samples()['beta']\n",
    "print(\"inferred stick-breaking weights\", mix_weights(betaScaledInDirichlet1).mean(0))"
   ]
  },
  {
   "cell_type": "code",
   "execution_count": 285,
   "metadata": {},
   "outputs": [
    {
     "output_type": "stream",
     "name": "stderr",
     "text": [
      "sample: 100%|██████████| 1100/1100 [21:35<00:00,  1.18s/it, 31 steps of size 1.28e-02. acc. prob=0.28]\n",
      "\n",
      "                mean       std    median      5.0%     95.0%     n_eff     r_hat\n",
      "   beta[0]      0.08      0.02      0.08      0.05      0.10     14.52      1.11\n",
      "   beta[1]      0.14      0.01      0.14      0.13      0.18     22.10      1.04\n",
      "   beta[2]      0.05      0.03      0.06      0.00      0.08      6.54      1.25\n",
      "   beta[3]      0.98      0.03      0.99      0.93      1.00      4.57      1.40\n",
      "   beta[4]      0.97      0.08      1.00      0.94      1.00     29.81      1.03\n",
      "probs[0,0]      0.36      0.05      0.34      0.31      0.47      4.19      1.40\n",
      "probs[0,1]      0.26      0.08      0.29      0.11      0.33      4.36      1.41\n",
      "probs[0,2]      0.29      0.03      0.28      0.25      0.34      7.81      1.24\n",
      "probs[0,3]      0.09      0.01      0.09      0.08      0.10     25.61      1.00\n",
      "probs[1,0]      0.40      0.01      0.40      0.38      0.43      8.04      1.05\n",
      "probs[1,1]      0.38      0.01      0.38      0.36      0.39      9.49      1.04\n",
      "probs[1,2]      0.12      0.01      0.12      0.11      0.13     13.67      1.04\n",
      "probs[1,3]      0.10      0.00      0.10      0.09      0.10     21.39      1.01\n",
      "probs[2,0]      0.50      0.14      0.47      0.38      0.82     84.08      1.04\n",
      "probs[2,1]      0.11      0.08      0.10      0.00      0.16    144.56      1.04\n",
      "probs[2,2]      0.32      0.13      0.34      0.00      0.37     39.73      1.04\n",
      "probs[2,3]      0.08      0.04      0.09      0.00      0.10      5.34      1.24\n",
      "probs[3,0]      0.60      0.00      0.60      0.59      0.60     46.90      1.01\n",
      "probs[3,1]      0.17      0.00      0.17      0.17      0.18     52.10      1.02\n",
      "probs[3,2]      0.18      0.00      0.18      0.18      0.19     31.88      1.00\n",
      "probs[3,3]      0.05      0.00      0.05      0.04      0.05    101.64      1.00\n",
      "probs[4,0]      0.31      0.05      0.30      0.24      0.36      4.58      1.36\n",
      "probs[4,1]      0.41      0.05      0.42      0.31      0.48      3.41      1.66\n",
      "probs[4,2]      0.19      0.06      0.18      0.11      0.30      2.85      2.32\n",
      "probs[4,3]      0.10      0.02      0.09      0.07      0.15      5.16      1.37\n",
      "probs[5,0]      0.52      0.36      0.55      0.01      0.97     26.65      1.01\n",
      "probs[5,1]      0.18      0.27      0.03      0.00      0.65     17.94      1.04\n",
      "probs[5,2]      0.29      0.34      0.13      0.00      0.88     23.48      1.00\n",
      "probs[5,3]      0.01      0.05      0.00      0.00      0.00    351.93      1.01\n",
      "\n",
      "Number of divergences: 14\n"
     ]
    }
   ],
   "source": [
    "init_rng_key = random.PRNGKey(12273)\n",
    "mcmcSimple = MCMC(NUTS(modelSimple), 100, 1000)\n",
    "mcmcSimple.run(init_rng_key, altCounts)\n",
    "mcmcSimple.print_summary()"
   ]
  },
  {
   "cell_type": "code",
   "execution_count": 286,
   "metadata": {},
   "outputs": [
    {
     "output_type": "stream",
     "name": "stdout",
     "text": [
      "[[0.36475317 0.2556682  0.28861418 0.09096446]\n [0.40165891 0.37968594 0.12026706 0.09838809]\n [0.49623437 0.109955   0.31774355 0.07606708]\n [0.59884248 0.17353233 0.18178864 0.04583655]\n [0.30946857 0.40530474 0.18938335 0.09584334]\n [0.52331673 0.17797343 0.29252462 0.00618523]]\ninferred stick-breaking weights [0.07659664 0.13306867 0.04106981 0.73373106 0.01919429 0.00110296]\n"
     ]
    }
   ],
   "source": [
    "# Scaling by pDs gives absolutely no difference in concentrations or probabilities.\n",
    "sAfSimple = mcmcSimple.get_samples()[\"probs\"]\n",
    "print(sAfSimple.mean(0))\n",
    "\n",
    "\n",
    "betaScaledInDirichletSimple = mcmcSimple.get_samples()['beta']\n",
    "print(\"inferred stick-breaking weights\", mix_weights(betaScaledInDirichletSimple).mean(0))"
   ]
  },
  {
   "cell_type": "code",
   "execution_count": 229,
   "metadata": {},
   "outputs": [
    {
     "output_type": "stream",
     "name": "stderr",
     "text": [
      "sample:  29%|██▉       | 317/1100 [17:28<43:10,  3.31s/it, 1023 steps of size 3.88e-03. acc. prob=0.95]\n"
     ]
    },
    {
     "output_type": "error",
     "ename": "KeyboardInterrupt",
     "evalue": "",
     "traceback": [
      "\u001b[0;31m---------------------------------------------------------------------------\u001b[0m",
      "\u001b[0;31mKeyboardInterrupt\u001b[0m                         Traceback (most recent call last)",
      "\u001b[0;32m<ipython-input-229-fbeb6880b452>\u001b[0m in \u001b[0;36m<module>\u001b[0;34m\u001b[0m\n\u001b[1;32m      1\u001b[0m \u001b[0minit_rng_key\u001b[0m \u001b[0;34m=\u001b[0m \u001b[0mrandom\u001b[0m\u001b[0;34m.\u001b[0m\u001b[0mPRNGKey\u001b[0m\u001b[0;34m(\u001b[0m\u001b[0;36m12273\u001b[0m\u001b[0;34m)\u001b[0m\u001b[0;34m\u001b[0m\u001b[0;34m\u001b[0m\u001b[0m\n\u001b[1;32m      2\u001b[0m \u001b[0mmcmcAfUniform\u001b[0m \u001b[0;34m=\u001b[0m \u001b[0mMCMC\u001b[0m\u001b[0;34m(\u001b[0m\u001b[0mNUTS\u001b[0m\u001b[0;34m(\u001b[0m\u001b[0mmodelUniform\u001b[0m\u001b[0;34m)\u001b[0m\u001b[0;34m,\u001b[0m \u001b[0;36m100\u001b[0m\u001b[0;34m,\u001b[0m \u001b[0;36m1000\u001b[0m\u001b[0;34m,\u001b[0m \u001b[0mjit_model_args\u001b[0m\u001b[0;34m=\u001b[0m\u001b[0;32mTrue\u001b[0m\u001b[0;34m)\u001b[0m\u001b[0;34m\u001b[0m\u001b[0;34m\u001b[0m\u001b[0m\n\u001b[0;32m----> 3\u001b[0;31m \u001b[0mmcmcAfUniform\u001b[0m\u001b[0;34m.\u001b[0m\u001b[0mrun\u001b[0m\u001b[0;34m(\u001b[0m\u001b[0minit_rng_key\u001b[0m\u001b[0;34m,\u001b[0m \u001b[0maltCounts\u001b[0m\u001b[0;34m)\u001b[0m\u001b[0;34m\u001b[0m\u001b[0;34m\u001b[0m\u001b[0m\n\u001b[0m\u001b[1;32m      4\u001b[0m \u001b[0mmcmcAfUniform\u001b[0m\u001b[0;34m.\u001b[0m\u001b[0mprint_summary\u001b[0m\u001b[0;34m(\u001b[0m\u001b[0;34m)\u001b[0m\u001b[0;34m\u001b[0m\u001b[0;34m\u001b[0m\u001b[0m\n",
      "\u001b[0;32m~/miniconda3/lib/python3.7/site-packages/numpyro/infer/mcmc.py\u001b[0m in \u001b[0;36mrun\u001b[0;34m(self, rng_key, extra_fields, init_params, *args, **kwargs)\u001b[0m\n\u001b[1;32m    447\u001b[0m         \u001b[0mmap_args\u001b[0m \u001b[0;34m=\u001b[0m \u001b[0;34m(\u001b[0m\u001b[0mrng_key\u001b[0m\u001b[0;34m,\u001b[0m \u001b[0minit_state\u001b[0m\u001b[0;34m,\u001b[0m \u001b[0minit_params\u001b[0m\u001b[0;34m)\u001b[0m\u001b[0;34m\u001b[0m\u001b[0;34m\u001b[0m\u001b[0m\n\u001b[1;32m    448\u001b[0m         \u001b[0;32mif\u001b[0m \u001b[0mself\u001b[0m\u001b[0;34m.\u001b[0m\u001b[0mnum_chains\u001b[0m \u001b[0;34m==\u001b[0m \u001b[0;36m1\u001b[0m\u001b[0;34m:\u001b[0m\u001b[0;34m\u001b[0m\u001b[0;34m\u001b[0m\u001b[0m\n\u001b[0;32m--> 449\u001b[0;31m             \u001b[0mstates_flat\u001b[0m\u001b[0;34m,\u001b[0m \u001b[0mlast_state\u001b[0m \u001b[0;34m=\u001b[0m \u001b[0mpartial_map_fn\u001b[0m\u001b[0;34m(\u001b[0m\u001b[0mmap_args\u001b[0m\u001b[0;34m)\u001b[0m\u001b[0;34m\u001b[0m\u001b[0;34m\u001b[0m\u001b[0m\n\u001b[0m\u001b[1;32m    450\u001b[0m             \u001b[0mstates\u001b[0m \u001b[0;34m=\u001b[0m \u001b[0mtree_map\u001b[0m\u001b[0;34m(\u001b[0m\u001b[0;32mlambda\u001b[0m \u001b[0mx\u001b[0m\u001b[0;34m:\u001b[0m \u001b[0mx\u001b[0m\u001b[0;34m[\u001b[0m\u001b[0mjnp\u001b[0m\u001b[0;34m.\u001b[0m\u001b[0mnewaxis\u001b[0m\u001b[0;34m,\u001b[0m \u001b[0;34m...\u001b[0m\u001b[0;34m]\u001b[0m\u001b[0;34m,\u001b[0m \u001b[0mstates_flat\u001b[0m\u001b[0;34m)\u001b[0m\u001b[0;34m\u001b[0m\u001b[0;34m\u001b[0m\u001b[0m\n\u001b[1;32m    451\u001b[0m         \u001b[0;32melse\u001b[0m\u001b[0;34m:\u001b[0m\u001b[0;34m\u001b[0m\u001b[0;34m\u001b[0m\u001b[0m\n",
      "\u001b[0;32m~/miniconda3/lib/python3.7/site-packages/numpyro/infer/mcmc.py\u001b[0m in \u001b[0;36m_single_chain_mcmc\u001b[0;34m(self, init, args, kwargs, collect_fields)\u001b[0m\n\u001b[1;32m    330\u001b[0m                                     \u001b[0mcollection_size\u001b[0m\u001b[0;34m=\u001b[0m\u001b[0mself\u001b[0m\u001b[0;34m.\u001b[0m\u001b[0m_collection_params\u001b[0m\u001b[0;34m[\u001b[0m\u001b[0;34m\"collection_size\"\u001b[0m\u001b[0;34m]\u001b[0m\u001b[0;34m,\u001b[0m\u001b[0;34m\u001b[0m\u001b[0;34m\u001b[0m\u001b[0m\n\u001b[1;32m    331\u001b[0m                                     \u001b[0mprogbar_desc\u001b[0m\u001b[0;34m=\u001b[0m\u001b[0mpartial\u001b[0m\u001b[0;34m(\u001b[0m\u001b[0mget_progbar_desc_str\u001b[0m\u001b[0;34m,\u001b[0m \u001b[0mlower_idx\u001b[0m\u001b[0;34m)\u001b[0m\u001b[0;34m,\u001b[0m\u001b[0;34m\u001b[0m\u001b[0;34m\u001b[0m\u001b[0m\n\u001b[0;32m--> 332\u001b[0;31m                                     diagnostics_fn=diagnostics)\n\u001b[0m\u001b[1;32m    333\u001b[0m         \u001b[0mstates\u001b[0m\u001b[0;34m,\u001b[0m \u001b[0mlast_val\u001b[0m \u001b[0;34m=\u001b[0m \u001b[0mcollect_vals\u001b[0m\u001b[0;34m\u001b[0m\u001b[0;34m\u001b[0m\u001b[0m\n\u001b[1;32m    334\u001b[0m         \u001b[0;31m# Get first argument of type `HMCState`\u001b[0m\u001b[0;34m\u001b[0m\u001b[0;34m\u001b[0m\u001b[0;34m\u001b[0m\u001b[0m\n",
      "\u001b[0;32m~/miniconda3/lib/python3.7/site-packages/numpyro/util.py\u001b[0m in \u001b[0;36mfori_collect\u001b[0;34m(lower, upper, body_fun, init_val, transform, progbar, return_last_val, collection_size, **progbar_opts)\u001b[0m\n\u001b[1;32m    227\u001b[0m                     \u001b[0mt\u001b[0m\u001b[0;34m.\u001b[0m\u001b[0mset_description\u001b[0m\u001b[0;34m(\u001b[0m\u001b[0mprogbar_desc\u001b[0m\u001b[0;34m(\u001b[0m\u001b[0mi\u001b[0m\u001b[0;34m)\u001b[0m\u001b[0;34m,\u001b[0m \u001b[0mrefresh\u001b[0m\u001b[0;34m=\u001b[0m\u001b[0;32mFalse\u001b[0m\u001b[0;34m)\u001b[0m\u001b[0;34m\u001b[0m\u001b[0;34m\u001b[0m\u001b[0m\n\u001b[1;32m    228\u001b[0m                     \u001b[0;32mif\u001b[0m \u001b[0mdiagnostics_fn\u001b[0m\u001b[0;34m:\u001b[0m\u001b[0;34m\u001b[0m\u001b[0;34m\u001b[0m\u001b[0m\n\u001b[0;32m--> 229\u001b[0;31m                         \u001b[0mt\u001b[0m\u001b[0;34m.\u001b[0m\u001b[0mset_postfix_str\u001b[0m\u001b[0;34m(\u001b[0m\u001b[0mdiagnostics_fn\u001b[0m\u001b[0;34m(\u001b[0m\u001b[0mvals\u001b[0m\u001b[0;34m[\u001b[0m\u001b[0;36m0\u001b[0m\u001b[0;34m]\u001b[0m\u001b[0;34m)\u001b[0m\u001b[0;34m,\u001b[0m \u001b[0mrefresh\u001b[0m\u001b[0;34m=\u001b[0m\u001b[0;32mFalse\u001b[0m\u001b[0;34m)\u001b[0m\u001b[0;34m\u001b[0m\u001b[0;34m\u001b[0m\u001b[0m\n\u001b[0m\u001b[1;32m    230\u001b[0m \u001b[0;34m\u001b[0m\u001b[0m\n\u001b[1;32m    231\u001b[0m         \u001b[0mlast_val\u001b[0m\u001b[0;34m,\u001b[0m \u001b[0mcollection\u001b[0m\u001b[0;34m,\u001b[0m \u001b[0m_\u001b[0m \u001b[0;34m=\u001b[0m \u001b[0mvals\u001b[0m\u001b[0;34m\u001b[0m\u001b[0;34m\u001b[0m\u001b[0m\n",
      "\u001b[0;32m~/miniconda3/lib/python3.7/site-packages/numpyro/infer/mcmc.py\u001b[0m in \u001b[0;36m<lambda>\u001b[0;34m(x)\u001b[0m\n\u001b[1;32m    316\u001b[0m         \u001b[0;32melse\u001b[0m\u001b[0;34m:\u001b[0m\u001b[0;34m\u001b[0m\u001b[0;34m\u001b[0m\u001b[0m\n\u001b[1;32m    317\u001b[0m             \u001b[0mpostprocess_fn\u001b[0m \u001b[0;34m=\u001b[0m \u001b[0mself\u001b[0m\u001b[0;34m.\u001b[0m\u001b[0mpostprocess_fn\u001b[0m\u001b[0;34m\u001b[0m\u001b[0;34m\u001b[0m\u001b[0m\n\u001b[0;32m--> 318\u001b[0;31m         \u001b[0mdiagnostics\u001b[0m \u001b[0;34m=\u001b[0m \u001b[0;32mlambda\u001b[0m \u001b[0mx\u001b[0m\u001b[0;34m:\u001b[0m \u001b[0mself\u001b[0m\u001b[0;34m.\u001b[0m\u001b[0msampler\u001b[0m\u001b[0;34m.\u001b[0m\u001b[0mget_diagnostics_str\u001b[0m\u001b[0;34m(\u001b[0m\u001b[0mx\u001b[0m\u001b[0;34m[\u001b[0m\u001b[0;36m0\u001b[0m\u001b[0;34m]\u001b[0m\u001b[0;34m)\u001b[0m \u001b[0;32mif\u001b[0m \u001b[0mrng_key\u001b[0m\u001b[0;34m.\u001b[0m\u001b[0mndim\u001b[0m \u001b[0;34m==\u001b[0m \u001b[0;36m1\u001b[0m \u001b[0;32melse\u001b[0m \u001b[0;34m''\u001b[0m   \u001b[0;31m# noqa: E731\u001b[0m\u001b[0;34m\u001b[0m\u001b[0;34m\u001b[0m\u001b[0m\n\u001b[0m\u001b[1;32m    319\u001b[0m         \u001b[0minit_val\u001b[0m \u001b[0;34m=\u001b[0m \u001b[0;34m(\u001b[0m\u001b[0minit_state\u001b[0m\u001b[0;34m,\u001b[0m \u001b[0margs\u001b[0m\u001b[0;34m,\u001b[0m \u001b[0mkwargs\u001b[0m\u001b[0;34m)\u001b[0m \u001b[0;32mif\u001b[0m \u001b[0mself\u001b[0m\u001b[0;34m.\u001b[0m\u001b[0m_jit_model_args\u001b[0m \u001b[0;32melse\u001b[0m \u001b[0;34m(\u001b[0m\u001b[0minit_state\u001b[0m\u001b[0;34m,\u001b[0m\u001b[0;34m)\u001b[0m\u001b[0;34m\u001b[0m\u001b[0;34m\u001b[0m\u001b[0m\n\u001b[1;32m    320\u001b[0m         \u001b[0mlower_idx\u001b[0m \u001b[0;34m=\u001b[0m \u001b[0mself\u001b[0m\u001b[0;34m.\u001b[0m\u001b[0m_collection_params\u001b[0m\u001b[0;34m[\u001b[0m\u001b[0;34m\"lower\"\u001b[0m\u001b[0;34m]\u001b[0m\u001b[0;34m\u001b[0m\u001b[0;34m\u001b[0m\u001b[0m\n",
      "\u001b[0;32m~/miniconda3/lib/python3.7/site-packages/numpyro/infer/hmc.py\u001b[0m in \u001b[0;36mget_diagnostics_str\u001b[0;34m(self, state)\u001b[0m\n\u001b[1;32m    439\u001b[0m         return '{} steps of size {:.2e}. acc. prob={:.2f}'.format(state.num_steps,\n\u001b[1;32m    440\u001b[0m                                                                   \u001b[0mstate\u001b[0m\u001b[0;34m.\u001b[0m\u001b[0madapt_state\u001b[0m\u001b[0;34m.\u001b[0m\u001b[0mstep_size\u001b[0m\u001b[0;34m,\u001b[0m\u001b[0;34m\u001b[0m\u001b[0;34m\u001b[0m\u001b[0m\n\u001b[0;32m--> 441\u001b[0;31m                                                                   state.mean_accept_prob)\n\u001b[0m\u001b[1;32m    442\u001b[0m \u001b[0;34m\u001b[0m\u001b[0m\n\u001b[1;32m    443\u001b[0m     \u001b[0;32mdef\u001b[0m \u001b[0minit\u001b[0m\u001b[0;34m(\u001b[0m\u001b[0mself\u001b[0m\u001b[0;34m,\u001b[0m \u001b[0mrng_key\u001b[0m\u001b[0;34m,\u001b[0m \u001b[0mnum_warmup\u001b[0m\u001b[0;34m,\u001b[0m \u001b[0minit_params\u001b[0m\u001b[0;34m=\u001b[0m\u001b[0;32mNone\u001b[0m\u001b[0;34m,\u001b[0m \u001b[0mmodel_args\u001b[0m\u001b[0;34m=\u001b[0m\u001b[0;34m(\u001b[0m\u001b[0;34m)\u001b[0m\u001b[0;34m,\u001b[0m \u001b[0mmodel_kwargs\u001b[0m\u001b[0;34m=\u001b[0m\u001b[0;34m{\u001b[0m\u001b[0;34m}\u001b[0m\u001b[0;34m)\u001b[0m\u001b[0;34m:\u001b[0m\u001b[0;34m\u001b[0m\u001b[0;34m\u001b[0m\u001b[0m\n",
      "\u001b[0;32m~/miniconda3/lib/python3.7/site-packages/jax/interpreters/xla.py\u001b[0m in \u001b[0;36m__format__\u001b[0;34m(self, format_spec)\u001b[0m\n\u001b[1;32m   1117\u001b[0m     \u001b[0;31m# Simulates behavior of https://github.com/numpy/numpy/pull/9883\u001b[0m\u001b[0;34m\u001b[0m\u001b[0;34m\u001b[0m\u001b[0;34m\u001b[0m\u001b[0m\n\u001b[1;32m   1118\u001b[0m     \u001b[0;32mif\u001b[0m \u001b[0mself\u001b[0m\u001b[0;34m.\u001b[0m\u001b[0mndim\u001b[0m \u001b[0;34m==\u001b[0m \u001b[0;36m0\u001b[0m\u001b[0;34m:\u001b[0m\u001b[0;34m\u001b[0m\u001b[0;34m\u001b[0m\u001b[0m\n\u001b[0;32m-> 1119\u001b[0;31m       \u001b[0;32mreturn\u001b[0m \u001b[0mformat\u001b[0m\u001b[0;34m(\u001b[0m\u001b[0mself\u001b[0m\u001b[0;34m.\u001b[0m\u001b[0m_value\u001b[0m\u001b[0;34m[\u001b[0m\u001b[0;34m(\u001b[0m\u001b[0;34m)\u001b[0m\u001b[0;34m]\u001b[0m\u001b[0;34m,\u001b[0m \u001b[0mformat_spec\u001b[0m\u001b[0;34m)\u001b[0m\u001b[0;34m\u001b[0m\u001b[0;34m\u001b[0m\u001b[0m\n\u001b[0m\u001b[1;32m   1120\u001b[0m     \u001b[0;32melse\u001b[0m\u001b[0;34m:\u001b[0m\u001b[0;34m\u001b[0m\u001b[0;34m\u001b[0m\u001b[0m\n\u001b[1;32m   1121\u001b[0m       \u001b[0;32mreturn\u001b[0m \u001b[0mformat\u001b[0m\u001b[0;34m(\u001b[0m\u001b[0mself\u001b[0m\u001b[0;34m.\u001b[0m\u001b[0m_value\u001b[0m\u001b[0;34m,\u001b[0m \u001b[0mformat_spec\u001b[0m\u001b[0;34m)\u001b[0m\u001b[0;34m\u001b[0m\u001b[0;34m\u001b[0m\u001b[0m\n",
      "\u001b[0;32m~/miniconda3/lib/python3.7/site-packages/jax/interpreters/xla.py\u001b[0m in \u001b[0;36m_value\u001b[0;34m(self)\u001b[0m\n\u001b[1;32m   1027\u001b[0m         \u001b[0mself\u001b[0m\u001b[0;34m.\u001b[0m\u001b[0m_npy_value\u001b[0m \u001b[0;34m=\u001b[0m \u001b[0mlazy\u001b[0m\u001b[0;34m.\u001b[0m\u001b[0meval_lexpr\u001b[0m\u001b[0;34m(\u001b[0m\u001b[0mself\u001b[0m\u001b[0;34m.\u001b[0m\u001b[0m_lazy_expr\u001b[0m\u001b[0;34m,\u001b[0m \u001b[0;32mNone\u001b[0m\u001b[0;34m)\u001b[0m\u001b[0;34m\u001b[0m\u001b[0;34m\u001b[0m\u001b[0m\n\u001b[1;32m   1028\u001b[0m       \u001b[0;32melse\u001b[0m\u001b[0;34m:\u001b[0m\u001b[0;34m\u001b[0m\u001b[0;34m\u001b[0m\u001b[0m\n\u001b[0;32m-> 1029\u001b[0;31m         \u001b[0mself\u001b[0m\u001b[0;34m.\u001b[0m\u001b[0m_npy_value\u001b[0m \u001b[0;34m=\u001b[0m \u001b[0m_force\u001b[0m\u001b[0;34m(\u001b[0m\u001b[0mself\u001b[0m\u001b[0;34m)\u001b[0m\u001b[0;34m.\u001b[0m\u001b[0mdevice_buffer\u001b[0m\u001b[0;34m.\u001b[0m\u001b[0mto_py\u001b[0m\u001b[0;34m(\u001b[0m\u001b[0;34m)\u001b[0m\u001b[0;34m\u001b[0m\u001b[0;34m\u001b[0m\u001b[0m\n\u001b[0m\u001b[1;32m   1030\u001b[0m       \u001b[0mself\u001b[0m\u001b[0;34m.\u001b[0m\u001b[0m_npy_value\u001b[0m\u001b[0;34m.\u001b[0m\u001b[0mflags\u001b[0m\u001b[0;34m.\u001b[0m\u001b[0mwriteable\u001b[0m \u001b[0;34m=\u001b[0m \u001b[0;32mFalse\u001b[0m\u001b[0;34m\u001b[0m\u001b[0;34m\u001b[0m\u001b[0m\n\u001b[1;32m   1031\u001b[0m     \u001b[0;32mreturn\u001b[0m \u001b[0mself\u001b[0m\u001b[0;34m.\u001b[0m\u001b[0m_npy_value\u001b[0m\u001b[0;34m\u001b[0m\u001b[0;34m\u001b[0m\u001b[0m\n",
      "\u001b[0;31mKeyboardInterrupt\u001b[0m: "
     ]
    }
   ],
   "source": [
    "init_rng_key = random.PRNGKey(12273)\n",
    "mcmcAfUniform = MCMC(NUTS(modelUniform), 100, 1000, jit_model_args=True)\n",
    "mcmcAfUniform.run(init_rng_key, altCounts)\n",
    "mcmcAfUniform.print_summary()"
   ]
  },
  {
   "cell_type": "code",
   "execution_count": 338,
   "metadata": {},
   "outputs": [
    {
     "output_type": "execute_result",
     "data": {
      "text/plain": [
       "(20000, 4)"
      ]
     },
     "metadata": {},
     "execution_count": 338
    }
   ],
   "source": [
    "altCounts.shape"
   ]
  },
  {
   "cell_type": "code",
   "execution_count": 339,
   "metadata": {},
   "outputs": [
    {
     "output_type": "execute_result",
     "data": {
      "text/plain": [
       "(3182, 4)"
      ]
     },
     "metadata": {},
     "execution_count": 339
    }
   ],
   "source": [
    "dbs_data.shape"
   ]
  },
  {
   "cell_type": "code",
   "execution_count": 315,
   "metadata": {},
   "outputs": [
    {
     "output_type": "stream",
     "name": "stderr",
     "text": [
      "sample: 100%|██████████| 1100/1100 [36:09<00:00,  1.97s/it, 511 steps of size 1.30e-02. acc. prob=0.92]\n",
      "\n",
      "                mean       std    median      5.0%     95.0%     n_eff     r_hat\n",
      "   beta[0]      0.12      0.02      0.12      0.08      0.16    921.46      1.00\n",
      "   beta[1]      0.84      0.03      0.85      0.80      0.89    959.99      1.00\n",
      "   beta[2]      0.50      0.11      0.48      0.33      0.70   1033.30      1.00\n",
      "   beta[3]      1.00      0.02      1.00      1.00      1.00    893.18      1.00\n",
      "   beta[4]      0.97      0.11      1.00      0.96      1.00   1085.25      1.00\n",
      " conc[0,0]    157.98     75.46    144.26     43.75    272.36    704.60      1.00\n",
      " conc[0,1]    155.23     73.96    143.14     36.28    260.58    717.90      1.00\n",
      " conc[0,2]     47.98     24.41     43.47      9.76     82.83    698.89      1.00\n",
      " conc[0,3]     42.80     20.36     39.93     10.62     73.73    714.93      1.00\n",
      " conc[1,0]    233.80    123.39    212.44     63.47    443.78    778.09      1.00\n",
      " conc[1,1]     67.47     36.18     62.01     10.33    120.51    757.53      1.00\n",
      " conc[1,2]     70.96     37.81     64.39     16.32    130.03    802.73      1.00\n",
      " conc[1,3]     19.17     10.54     17.37      3.73     35.47    786.81      1.00\n",
      " conc[2,0]    184.24     89.80    167.79     53.69    319.89    549.35      1.00\n",
      " conc[2,1]     47.54     23.85     42.85     12.26     81.15    558.20      1.00\n",
      " conc[2,2]    147.23     72.84    132.48     45.64    256.14    560.36      1.00\n",
      " conc[2,3]     38.10     19.36     33.94      8.91     65.90    555.65      1.00\n",
      " conc[3,0]    130.89     67.89    118.34     25.61    231.09    576.41      1.00\n",
      " conc[3,1]    144.87     73.21    131.00     44.05    273.79    645.75      1.00\n",
      " conc[3,2]     98.18     49.93     90.57     27.16    181.87    526.11      1.00\n",
      " conc[3,3]     33.31     17.76     30.63      8.33     61.47    599.66      1.00\n",
      " conc[4,0]    109.02    104.08     73.66      0.13    256.05   1008.84      1.00\n",
      " conc[4,1]    100.10    102.76     65.27      0.10    245.10    689.79      1.00\n",
      " conc[4,2]    103.22     95.95     76.16      0.27    237.39   1081.33      1.00\n",
      " conc[4,3]     91.06     87.62     63.25      0.21    209.31   1133.21      1.00\n",
      " conc[5,0]    100.69     97.36     71.98      0.22    226.42    948.81      1.00\n",
      " conc[5,1]     96.48    103.87     61.40      0.01    227.59   1113.19      1.00\n",
      " conc[5,2]    102.86     98.16     70.98      0.45    241.44   1164.32      1.00\n",
      " conc[5,3]    101.44    104.62     67.88      0.30    237.33   1129.82      1.00\n",
      "probs[0,0]      0.39      0.01      0.39      0.38      0.41   1437.93      1.00\n",
      "probs[0,1]      0.38      0.01      0.38      0.37      0.40   1342.13      1.00\n",
      "probs[0,2]      0.12      0.01      0.12      0.10      0.14    913.07      1.00\n",
      "probs[0,3]      0.10      0.00      0.10      0.10      0.11    954.04      1.00\n",
      "probs[1,0]      0.60      0.00      0.60      0.60      0.61    944.75      1.00\n",
      "probs[1,1]      0.17      0.00      0.17      0.17      0.17   1282.34      1.00\n",
      "probs[1,2]      0.18      0.00      0.18      0.18      0.18   1148.75      1.00\n",
      "probs[1,3]      0.05      0.00      0.05      0.05      0.05   1064.63      1.00\n",
      "probs[2,0]      0.44      0.02      0.44      0.42      0.47   1194.17      1.00\n",
      "probs[2,1]      0.11      0.01      0.11      0.09      0.13   1104.63      1.00\n",
      "probs[2,2]      0.35      0.02      0.35      0.33      0.39   1414.19      1.00\n",
      "probs[2,3]      0.09      0.01      0.09      0.08      0.10   1172.66      1.00\n",
      "probs[3,0]      0.32      0.02      0.32      0.29      0.36   1047.56      1.00\n",
      "probs[3,1]      0.36      0.02      0.36      0.33      0.38    918.11      1.00\n",
      "probs[3,2]      0.24      0.02      0.24      0.21      0.28    920.01      1.00\n",
      "probs[3,3]      0.08      0.01      0.08      0.07      0.09   1059.36      1.00\n",
      "probs[4,0]      0.27      0.20      0.22      0.00      0.57    831.08      1.00\n",
      "probs[4,1]      0.24      0.20      0.19      0.00      0.53    555.86      1.00\n",
      "probs[4,2]      0.26      0.20      0.22      0.00      0.57   1066.82      1.00\n",
      "probs[4,3]      0.23      0.18      0.18      0.00      0.48    990.24      1.00\n",
      "probs[5,0]      0.26      0.20      0.21      0.00      0.56    651.55      1.00\n",
      "probs[5,1]      0.23      0.19      0.18      0.00      0.52    968.79      1.00\n",
      "probs[5,2]      0.26      0.19      0.21      0.00      0.54   1033.04      1.00\n",
      "probs[5,3]      0.25      0.20      0.21      0.00      0.56   1115.62      1.00\n",
      "\n",
      "Number of divergences: 0\n"
     ]
    }
   ],
   "source": [
    "init_rng_key = random.PRNGKey(12273)\n",
    "mcmcAf = MCMC(NUTS(model), 100, 1000, jit_model_args=True, chain_method='vectorized')\n",
    "mcmcAf.run(init_rng_key, altCounts)\n",
    "mcmcAf.print_summary()"
   ]
  },
  {
   "cell_type": "code",
   "execution_count": 319,
   "metadata": {},
   "outputs": [
    {
     "output_type": "stream",
     "name": "stdout",
     "text": [
      "[[[0.40641339 0.36885216 0.11828269 0.10645176]\n  [0.60423871 0.17015256 0.1796306  0.04597813]\n  [0.44633791 0.13482037 0.32863881 0.09020291]\n  [0.28843455 0.39310291 0.23723851 0.08122403]\n  [0.31034739 0.41744492 0.05724792 0.21495977]\n  [0.75762592 0.09977646 0.05858756 0.08401006]]\n\n [[0.41051358 0.36751606 0.11806098 0.10390937]\n  [0.61360685 0.1655832  0.17695052 0.04385943]\n  [0.45856749 0.12750975 0.31931876 0.094604  ]\n  [0.3411812  0.35552104 0.23059996 0.0726978 ]\n  [0.35338747 0.4558778  0.08513389 0.10560084]\n  [0.83990789 0.0910935  0.02081284 0.04818577]]\n\n [[0.37310609 0.39923296 0.11692459 0.11073636]\n  [0.60219638 0.17240575 0.17792395 0.04747392]\n  [0.45427286 0.11173339 0.35617793 0.07781582]\n  [0.33244691 0.33176144 0.25972369 0.07606796]\n  [0.05765317 0.79814192 0.00100426 0.14320064]\n  [0.66119557 0.19193888 0.07175822 0.07510734]]\n\n ...\n\n [[0.39134555 0.38508912 0.11913636 0.10442896]\n  [0.60076542 0.17391473 0.1793026  0.04601725]\n  [0.45431962 0.1195511  0.33296403 0.09316525]\n  [0.29851919 0.36047857 0.26734296 0.07365929]\n  [0.25209503 0.38147174 0.30337861 0.06305462]\n  [0.20569032 0.24109084 0.02222163 0.53099722]]\n\n [[0.39405539 0.38609461 0.11982044 0.10002956]\n  [0.59908471 0.17000068 0.18240856 0.04850606]\n  [0.42761032 0.12030775 0.36730305 0.08477889]\n  [0.32166706 0.35432382 0.24196137 0.08204775]\n  [0.55087046 0.26485585 0.12168906 0.06258464]\n  [0.34460472 0.20524341 0.42798337 0.0221685 ]]\n\n [[0.38129627 0.39344716 0.11934048 0.10591608]\n  [0.60367963 0.17200606 0.17834417 0.04597014]\n  [0.46019819 0.11286463 0.33585451 0.09108267]\n  [0.31937485 0.35457561 0.25000389 0.07604565]\n  [0.43994886 0.46119158 0.09691467 0.00194489]\n  [0.09566637 0.34464155 0.43477844 0.12491364]]]\ninferred stick-breaking weights [0.11942489 0.74436888 0.06938672 0.07062618 0.00095587 0.00101308]\n"
     ]
    }
   ],
   "source": [
    "# Scaling by pDs gives absolutely no difference in concentrations or probabilities.\n",
    "probsInferred = mcmcAf.get_samples()[\"probs\"]\n",
    "print(probsInferred)\n",
    "\n",
    "concs = mcmcAf.get_samples()[\"conc\"]\n",
    "# print(\"conc std\", concs.std(0))\n",
    "# print(\"conc mean\", concs.mean(0))\n",
    "# print(\"Dirichlet version\", Dirichlet(concs.mean(0)).mean)\n",
    "\n",
    "betaScaledInDirichlet = mcmcAf.get_samples()['beta']\n",
    "print(\"inferred stick-breaking weights\", mix_weights(betaScaledInDirichlet).mean(0))"
   ]
  },
  {
   "cell_type": "code",
   "execution_count": 293,
   "metadata": {},
   "outputs": [
    {
     "output_type": "stream",
     "name": "stdout",
     "text": [
      "[[0.39407394 0.38065259 0.12542893 0.09984454]\n [0.46170346 0.10843421 0.33690253 0.0929598 ]\n [0.59771853 0.1748017  0.18149657 0.04598321]\n [0.30526521 0.32374106 0.28122686 0.08976687]\n [0.25165865 0.2520225  0.27171356 0.22460528]\n [0.25554104 0.26120724 0.23390857 0.24934315]]\ninferred stick-breaking weights [0.14194973 0.06373389 0.73995891 0.05338675 0.0049379  0.00100219]\n"
     ]
    }
   ],
   "source": [
    "# Scaling by pDs gives absolutely no difference in concentrations or probabilities.\n",
    "sAf = mcmcAf.get_samples()[\"probs\"]\n",
    "print(sAf.mean(0))\n",
    "\n",
    "concs = mcmcAf.get_samples()[\"conc\"]\n",
    "# print(\"conc std\", concs.std(0))\n",
    "# print(\"conc mean\", concs.mean(0))\n",
    "# print(\"Dirichlet version\", Dirichlet(concs.mean(0)).mean)\n",
    "\n",
    "betaScaledInDirichlet = mcmcAf.get_samples()['beta']\n",
    "print(\"inferred stick-breaking weights\", mix_weights(betaScaledInDirichlet).mean(0))"
   ]
  },
  {
   "cell_type": "code",
   "execution_count": 223,
   "metadata": {},
   "outputs": [
    {
     "output_type": "stream",
     "name": "stdout",
     "text": [
      "[[0.31155055 0.31563388 0.2833775  0.08943807]\n [0.46183678 0.10544625 0.33964039 0.09307659]\n [0.59777092 0.17466671 0.18151134 0.04605103]\n [0.39448879 0.38222496 0.12336955 0.0999167 ]\n [0.23897428 0.27588011 0.2562659  0.2288797 ]\n [0.26062323 0.26228489 0.22314267 0.25394921]]\ninferred stick-breaking weights [0.06218921 0.06153229 0.74033184 0.13818397 0.00162659 0.00100371]\n"
     ]
    }
   ],
   "source": [
    "# Scaling by pDs gives absolutely no difference in concentrations or probabilities.\n",
    "sAf = mcmcAf.get_samples()[\"probs\"]\n",
    "print(sAf.mean(0))\n",
    "\n",
    "concs = mcmcAf.get_samples()[\"conc\"]\n",
    "# print(\"conc std\", concs.std(0))\n",
    "# print(\"conc mean\", concs.mean(0))\n",
    "# print(\"DIrichlet version\", Dirichlet(concs.mean(0)).mean)\n",
    "\n",
    "betaScaledInDirichlet = mcmcAf.get_samples()['beta']\n",
    "print(\"inferred stick-breaking weights\", mix_weights(betaScaledInDirichlet).mean(0))"
   ]
  },
  {
   "cell_type": "code",
   "execution_count": 204,
   "metadata": {},
   "outputs": [
    {
     "output_type": "stream",
     "name": "stdout",
     "text": [
      "sAfscaled2 [[3.11550542e-05 3.15633871e-05 2.83377498e-05 8.94380640e-06]\n [4.61836770e-05 1.05446243e-05 3.39640379e-05 9.30765828e-06]\n [5.97770904e-05 1.74666708e-05 1.81511334e-05 4.60510279e-06]\n [3.94488785e-05 3.82224950e-05 1.23369545e-05 9.99166950e-06]\n [2.38974275e-05 2.75880108e-05 2.56265896e-05 2.28879696e-05]\n [2.60623223e-05 2.62284880e-05 2.23142666e-05 2.53949206e-05]]\nsAfscaled1 [[3.22753388e-05 3.26983548e-05 2.93567288e-05 9.26541100e-06]\n [4.78443663e-05 1.09237917e-05 3.51853290e-05 9.64234640e-06]\n [6.19265766e-05 1.80947437e-05 1.88038184e-05 4.77069473e-06]\n [4.08673954e-05 3.95969132e-05 1.27805711e-05 1.03509535e-05]\n [2.47567398e-05 2.85800304e-05 2.65480797e-05 2.37109834e-05]\n [2.69994806e-05 2.71716214e-05 2.31166511e-05 2.63080802e-05]]\n[[0.3227534  0.32698356 0.29356729 0.09265411]\n [0.47844367 0.10923792 0.3518533  0.09642347]\n [0.61926578 0.18094744 0.18803819 0.04770695]\n [0.40867396 0.39596914 0.12780571 0.10350954]\n [0.2475674  0.28580031 0.2654808  0.23710984]\n [0.26999481 0.27171622 0.23116652 0.26308081]]\n"
     ]
    }
   ],
   "source": [
    "broadcastedEmpiricalAfs = np.broadcast_to(np.array([[empiricalAfs]]).T, (20_000, 6, 4))\n",
    "sAfscaled = (sAf.mean(0) * broadcastedEmpiricalAfs).mean(0)\n",
    "\n",
    "sAfscaled2 = (sAf.mean(0) * liabParams55cov[\"afMean\"].numpy())\n",
    "print(\"sAfscaled2\", sAfscaled2)\n",
    "print(\"sAfscaled1\", np.asarray(sAfscaled))\n",
    "print(np.asarray(sAfscaled) / liabParams55cov[\"afMean\"].numpy())"
   ]
  },
  {
   "cell_type": "code",
   "execution_count": 187,
   "metadata": {},
   "outputs": [
    {
     "output_type": "execute_result",
     "data": {
      "text/plain": [
       "tensor([0.5940, 0.1782, 0.1782, 0.0475], dtype=torch.float64)"
      ]
     },
     "metadata": {},
     "execution_count": 187
    }
   ],
   "source": [
    "liabData55cov[\"afs\"][liabData55cov[\"unaffectedGenes\"]].mean(0) / liabParams55cov[\"afMean\"]"
   ]
  },
  {
   "cell_type": "code",
   "execution_count": 379,
   "metadata": {},
   "outputs": [
    {
     "output_type": "stream",
     "name": "stdout",
     "text": [
      "pdv tensor([0.6346, 0.1904, 0.1904, 0.0508], dtype=torch.float64)\npdv scaled tensor([0.5952, 0.1786, 0.1786, 0.0476], dtype=torch.float64)\n"
     ]
    }
   ],
   "source": [
    "pdv = (liabData55cov[\"afs\"][liabData55cov[\"unaffectedGenes\"]] / np.array([empiricalAfs[liabData55cov[\"unaffectedGenes\"]]]).T).mean(0)\n",
    "print(\"pdv\", pdv)\n",
    "print(\"pdv scaled\", pdv/pdv.sum())"
   ]
  },
  {
   "cell_type": "code",
   "execution_count": 387,
   "metadata": {},
   "outputs": [
    {
     "output_type": "stream",
     "name": "stdout",
     "text": [
      "pdv tensor([0.4187, 0.3907, 0.1301, 0.1042], dtype=torch.float64)\npdv scaled tensor([0.4012, 0.3744, 0.1246, 0.0998], dtype=torch.float64)\npdv1 tensor([0.5716, 0.5478, 0.1778, 0.1461], dtype=torch.float64)\npdv2 tensor([0.4187, 0.3907, 0.1301, 0.1042], dtype=torch.float64)\nafAffected0Mean tensor([5.7163e-05, 5.4775e-05, 1.7784e-05, 1.4607e-05], dtype=torch.float64)\npdv1 scaled tensor([0.3961, 0.3795, 0.1232, 0.1012], dtype=torch.float64)\npdv2 scaled tensor([0.4012, 0.3744, 0.1246, 0.0998], dtype=torch.float64)\n"
     ]
    }
   ],
   "source": [
    "pdv = (liabData55cov[\"afs\"][liabData55cov[\"affectedGenes\"][0]] / np.array([empiricalAfs[liabData55cov[\"affectedGenes\"][0]]]).T).mean(0)\n",
    "print(\"pdv\", pdv)\n",
    "print(\"pdv scaled\", pdv/pdv.sum())\n",
    "\n",
    "pdv1 = (liabData55cov[\"afs\"][liabData55cov[\"affectedGenes\"][0]]).mean(0) / liabParams55cov[\"afMean\"]\n",
    "pdv2 = (liabData55cov[\"afs\"][liabData55cov[\"affectedGenes\"][0]] / np.array([empiricalAfs\n",
    "[liabData55cov[\"affectedGenes\"][0]]]).T).mean(0)\n",
    "afAffected0Mean = (liabData55cov[\"afs\"][liabData55cov[\"affectedGenes\"][0]]).mean(0) \n",
    "print(\"pdv1\", pdv1)# PD|V\n",
    "print(\"pdv2\", pdv2)# PD|V\n",
    "print(\"afAffected0Mean\", afAffected0Mean)\n",
    "print(\"pdv1 scaled\", pdv1/pdv1.sum())\n",
    "print(\"pdv2 scaled\", pdv2/pdv2.sum())"
   ]
  },
  {
   "cell_type": "code",
   "execution_count": 390,
   "metadata": {},
   "outputs": [
    {
     "output_type": "stream",
     "name": "stdout",
     "text": [
      "pdv tensor([0.5059, 0.1545, 0.3103, 0.0828], dtype=torch.float64)\npdv scaled tensor([0.4803, 0.1466, 0.2946, 0.0786], dtype=torch.float64)\n"
     ]
    }
   ],
   "source": [
    "pdv = (liabData55cov[\"afs\"][liabData55cov[\"affectedGenes\"][1]] / np.array([empiricalAfs[liabData55cov[\"affectedGenes\"][1]]]).T).mean(0)# PD|V\n",
    "print(\"pdv\", pdv)\n",
    "print(\"pdv scaled\", pdv/pdv.sum())"
   ]
  },
  {
   "cell_type": "code",
   "execution_count": 382,
   "metadata": {},
   "outputs": [
    {
     "output_type": "stream",
     "name": "stdout",
     "text": [
      "pdv tensor([0.5651, 0.5408, 0.3616, 0.1204], dtype=torch.float64)\npdv scaled tensor([0.3559, 0.3406, 0.2277, 0.0758], dtype=torch.float64)\n"
     ]
    }
   ],
   "source": [
    "pdv = (liabData55cov[\"afs\"][liabData55cov[\"affectedGenes\"][2]]).mean(0) / liabParams55cov[\"afMean\"]# PD|V\n",
    "print(\"pdv\", pdv)\n",
    "print(\"pdv scaled\", pdv/pdv.sum())"
   ]
  },
  {
   "cell_type": "code",
   "execution_count": 383,
   "metadata": {},
   "outputs": [],
   "source": [
    "# [[0.01911611 0.01343591 0.01555622 0.00563713]\n",
    "#  [0.00406165 0.00276914 0.00327851 0.00133072]\n",
    "#  [0.01090826 0.00992517 0.0113952  0.00424665]\n",
    "#  [0.01858757 0.02309512 0.02210252 0.01013227]]\n",
    "# [[0.47631553 0.10743626 0.26105177 0.03134572]\n",
    "#  [0.60844487 0.14429386 0.14502415 0.01706672]\n",
    "#  [0.40694135 0.31180432 0.09986749 0.0380971 ]\n",
    "#  [0.35437214 0.26981634 0.2043957  0.02945131]]\n",
    "# conc std [ 12.166306  71.86332   67.61688  157.65123 ]\n",
    "# conc mean [ 36.537464 213.60443  190.46646  793.18304 ]\n",
    "# DIrichlet version [0.02961397 0.17312849 0.15437493 0.64288265]\n",
    "# inferred stick-breaking weights [0.11452598 0.665086   0.13667543 0.08672265]"
   ]
  },
  {
   "cell_type": "code",
   "execution_count": 384,
   "metadata": {},
   "outputs": [
    {
     "output_type": "stream",
     "name": "stdout",
     "text": [
      "pdv tensor([0.5651, 0.5408, 0.3616, 0.1204], dtype=torch.float64)\npdvpv tensor([5.6508e-05, 5.4083e-05, 3.6163e-05, 1.2036e-05], dtype=torch.float64)\npdvpv.sum() tensor(0.0002, dtype=torch.float64)\npdvpv scaled tensor([0.3559, 0.3406, 0.2277, 0.0758], dtype=torch.float64)\n"
     ]
    }
   ],
   "source": [
    "pdvpv = (liabData55cov[\"afs\"][liabData55cov[\"affectedGenes\"][2]]).mean(0) #/ liabParams55cov[\"afMean\"]# PD|V\n",
    "pdv = pdvpv / liabParams55cov[\"afMean\"]\n",
    "print(\"pdv\", pdv)\n",
    "print(\"pdvpv\", pdvpv)\n",
    "print(\"pdvpv.sum()\", pdvpv.sum())\n",
    "# This matches our DM results perfectly; so the DM result matches scale\n",
    "# how to allow our pdv values to work ok...\n",
    "print(\"pdvpv scaled\", pdvpv/pdvpv.sum())\n"
   ]
  },
  {
   "cell_type": "code",
   "execution_count": 386,
   "metadata": {},
   "outputs": [
    {
     "output_type": "execute_result",
     "data": {
      "text/plain": [
       "0.0498"
      ]
     },
     "metadata": {},
     "execution_count": 386
    }
   ],
   "source": []
  },
  {
   "cell_type": "code",
   "execution_count": 81,
   "metadata": {},
   "outputs": [
    {
     "output_type": "execute_result",
     "data": {
      "text/plain": [
       "tensor([[4., 3., 3., 0.],\n",
       "        [8., 3., 0., 1.],\n",
       "        [6., 3., 2., 0.],\n",
       "        ...,\n",
       "        [5., 8., 1., 1.],\n",
       "        [3., 3., 5., 2.],\n",
       "        [6., 5., 2., 0.]], dtype=torch.float64)"
      ]
     },
     "metadata": {},
     "execution_count": 81
    }
   ],
   "source": [
    "liabData55cov[\"altCounts\"][liabData55cov[\"affectedGenes\"][2]]"
   ]
  },
  {
   "cell_type": "code",
   "execution_count": 82,
   "metadata": {},
   "outputs": [
    {
     "output_type": "execute_result",
     "data": {
      "text/plain": [
       "tensor(1.6114, dtype=torch.float64)"
      ]
     },
     "metadata": {},
     "execution_count": 82
    }
   ],
   "source": [
    "pdv.sum()"
   ]
  },
  {
   "cell_type": "code",
   "execution_count": 83,
   "metadata": {},
   "outputs": [
    {
     "output_type": "execute_result",
     "data": {
      "text/plain": [
       "tensor([5.7167e-05, 5.5000e-05, 3.6744e-05, 1.2231e-05], dtype=torch.float64)"
      ]
     },
     "metadata": {},
     "execution_count": 83
    }
   ],
   "source": [
    "(liabData55cov[\"afs\"][liabData55cov[\"affectedGenes\"][2]]).mean(0) "
   ]
  },
  {
   "cell_type": "code",
   "execution_count": 84,
   "metadata": {},
   "outputs": [
    {
     "output_type": "execute_result",
     "data": {
      "text/plain": [
       "tensor([5.7375e-05, 5.4857e-05, 1.7848e-05, 1.4628e-05], dtype=torch.float64)"
      ]
     },
     "metadata": {},
     "execution_count": 84
    }
   ],
   "source": [
    "liabData55cov[\"afs\"][liabData55cov[\"affectedGenes\"][0]].mean(0) "
   ]
  },
  {
   "cell_type": "code",
   "execution_count": 85,
   "metadata": {},
   "outputs": [
    {
     "output_type": "execute_result",
     "data": {
      "text/plain": [
       "[0.5952380895614624, 0.17857143, 0.17857143, 0.04761905]"
      ]
     },
     "metadata": {},
     "execution_count": 85
    }
   ],
   "source": [
    "pdsAllnp"
   ]
  },
  {
   "cell_type": "code",
   "execution_count": 86,
   "metadata": {},
   "outputs": [
    {
     "output_type": "execute_result",
     "data": {
      "text/plain": [
       "tensor(1.0000e-04)"
      ]
     },
     "metadata": {},
     "execution_count": 86
    }
   ],
   "source": [
    "liabParams55cov[\"afMean\"]"
   ]
  },
  {
   "cell_type": "code",
   "execution_count": 87,
   "metadata": {},
   "outputs": [
    {
     "output_type": "execute_result",
     "data": {
      "text/plain": [
       "tensor([5.7375e-05, 5.4857e-05, 1.7848e-05, 1.4628e-05], dtype=torch.float64)"
      ]
     },
     "metadata": {},
     "execution_count": 87
    }
   ],
   "source": [
    "liabData55cov[\"afs\"][liabData55cov[\"affectedGenes\"][0]].mean(0)"
   ]
  },
  {
   "cell_type": "code",
   "execution_count": 88,
   "metadata": {},
   "outputs": [
    {
     "output_type": "execute_result",
     "data": {
      "text/plain": [
       "tensor(1.0000e-04)"
      ]
     },
     "metadata": {},
     "execution_count": 88
    }
   ],
   "source": [
    "liabParams55cov[\"afMean\"]"
   ]
  },
  {
   "cell_type": "code",
   "execution_count": null,
   "metadata": {},
   "outputs": [],
   "source": [
    "# (1000, 4, 4)\n",
    "# [[0.00514663 0.00313207 0.00355292 0.00149964]\n",
    "#  [0.01928454 0.04950465 0.04956334 0.0065191 ]\n",
    "#  [0.02503735 0.04772532 0.03840724 0.00905628]\n",
    "#  [0.06047119 0.05520838 0.05940869 0.03415463]]\n",
    "# [[0.607701   0.1456876  0.14313476 0.01758165]\n",
    "#  [0.45891437 0.14094748 0.24490298 0.03002501]\n",
    "#  [0.45052725 0.23326729 0.15602364 0.03166293]\n",
    "#  [0.4925649  0.1685785  0.18608962 0.03147438]]\n",
    "# conc std [18.310623   7.338482   7.672899   2.7556536]\n",
    "# conc mean [46.069946 18.652845 19.728569  6.812487]\n",
    "# DIrichlet version [0.50479954 0.20438373 0.2161707  0.07464606]\n",
    "# inferred stick-breaking weights [0.6861298  0.14098327 0.1566307  0.01916244]"
   ]
  },
  {
   "cell_type": "code",
   "execution_count": null,
   "metadata": {},
   "outputs": [],
   "source": []
  },
  {
   "cell_type": "code",
   "execution_count": 343,
   "metadata": {},
   "outputs": [
    {
     "output_type": "execute_result",
     "data": {
      "text/plain": [
       "array([[ 4,  7,  5,  5],\n",
       "       [ 4,  5,  5,  6],\n",
       "       [ 1,  5,  1,  1],\n",
       "       ...,\n",
       "       [17,  1,  2,  2],\n",
       "       [17,  1,  2,  2],\n",
       "       [17,  3,  0,  0]])"
      ]
     },
     "metadata": {},
     "execution_count": 343
    }
   ],
   "source": [
    "import pandas as pd\n",
    "dbs_data_pd = pd.read_csv('/Users/alexkotlar/projects/tada/asd_adhd_both.csv')\n",
    "# dbs_data = tensor(dbs_data.to_numpy(), dtype=torch.float32)\n",
    "\n",
    "dbs_data = dbs_data_pd.to_numpy()\n",
    "dbs_data"
   ]
  },
  {
   "cell_type": "code",
   "execution_count": 344,
   "metadata": {},
   "outputs": [
    {
     "output_type": "execute_result",
     "data": {
      "text/plain": [
       "      Control_Total_PTV  ASD_Total  ADHD_Total  Both_Total\n",
       "0                     4          7           5           5\n",
       "1                     4          5           5           6\n",
       "2                     1          5           1           1\n",
       "3                     6          4           1           0\n",
       "4                     0          2           0           2\n",
       "...                 ...        ...         ...         ...\n",
       "3177                 17          1           1           1\n",
       "3178                 17          1           1           1\n",
       "3179                 17          1           2           2\n",
       "3180                 17          1           2           2\n",
       "3181                 17          3           0           0\n",
       "\n",
       "[3182 rows x 4 columns]"
      ],
      "text/html": "<div>\n<style scoped>\n    .dataframe tbody tr th:only-of-type {\n        vertical-align: middle;\n    }\n\n    .dataframe tbody tr th {\n        vertical-align: top;\n    }\n\n    .dataframe thead th {\n        text-align: right;\n    }\n</style>\n<table border=\"1\" class=\"dataframe\">\n  <thead>\n    <tr style=\"text-align: right;\">\n      <th></th>\n      <th>Control_Total_PTV</th>\n      <th>ASD_Total</th>\n      <th>ADHD_Total</th>\n      <th>Both_Total</th>\n    </tr>\n  </thead>\n  <tbody>\n    <tr>\n      <th>0</th>\n      <td>4</td>\n      <td>7</td>\n      <td>5</td>\n      <td>5</td>\n    </tr>\n    <tr>\n      <th>1</th>\n      <td>4</td>\n      <td>5</td>\n      <td>5</td>\n      <td>6</td>\n    </tr>\n    <tr>\n      <th>2</th>\n      <td>1</td>\n      <td>5</td>\n      <td>1</td>\n      <td>1</td>\n    </tr>\n    <tr>\n      <th>3</th>\n      <td>6</td>\n      <td>4</td>\n      <td>1</td>\n      <td>0</td>\n    </tr>\n    <tr>\n      <th>4</th>\n      <td>0</td>\n      <td>2</td>\n      <td>0</td>\n      <td>2</td>\n    </tr>\n    <tr>\n      <th>...</th>\n      <td>...</td>\n      <td>...</td>\n      <td>...</td>\n      <td>...</td>\n    </tr>\n    <tr>\n      <th>3177</th>\n      <td>17</td>\n      <td>1</td>\n      <td>1</td>\n      <td>1</td>\n    </tr>\n    <tr>\n      <th>3178</th>\n      <td>17</td>\n      <td>1</td>\n      <td>1</td>\n      <td>1</td>\n    </tr>\n    <tr>\n      <th>3179</th>\n      <td>17</td>\n      <td>1</td>\n      <td>2</td>\n      <td>2</td>\n    </tr>\n    <tr>\n      <th>3180</th>\n      <td>17</td>\n      <td>1</td>\n      <td>2</td>\n      <td>2</td>\n    </tr>\n    <tr>\n      <th>3181</th>\n      <td>17</td>\n      <td>3</td>\n      <td>0</td>\n      <td>0</td>\n    </tr>\n  </tbody>\n</table>\n<p>3182 rows × 4 columns</p>\n</div>"
     },
     "metadata": {},
     "execution_count": 344
    }
   ],
   "source": [
    "dbs_data_pd"
   ]
  },
  {
   "cell_type": "code",
   "execution_count": 324,
   "metadata": {},
   "outputs": [
    {
     "output_type": "execute_result",
     "data": {
      "text/plain": [
       "tensor([0.0200, 0.2000, 0.1260])"
      ]
     },
     "metadata": {},
     "execution_count": 324
    }
   ],
   "source": [
    "nCtrls = tensor(49781.)\n",
    "nCases = tensor([3091. + 871, 3206. + 271, 684. + 217])\n",
    "# https://www.cdc.gov/ncbddd/adhd/data.html\n",
    "# https://www.nimh.nih.gov/health/statistics/attention-deficit-hyperactivity-disorder-adhd.shtml\n",
    "# 4.4% among adults for ADHD\n",
    "pDs = tensor([.02, .2, .9 * .14])\n",
    "pDs"
   ]
  },
  {
   "cell_type": "code",
   "execution_count": 323,
   "metadata": {},
   "outputs": [
    {
     "output_type": "execute_result",
     "data": {
      "text/plain": [
       "Control_Total_PTV    0.000070\n",
       "ASD_Total            0.000011\n",
       "ADHD_Total           0.000009\n",
       "Both_Total           0.000009\n",
       "dtype: float64"
      ]
     },
     "metadata": {},
     "execution_count": 323
    }
   ],
   "source": [
    "afMean = dbs_data.sum() / ( (nCtrls + nCases.sum()) * 2 * len(dbs_data))\n",
    "# Per gene afMean\n",
    "afMean"
   ]
  },
  {
   "cell_type": "code",
   "execution_count": 341,
   "metadata": {},
   "outputs": [
    {
     "output_type": "stream",
     "name": "stderr",
     "text": [
      "sample: 100%|██████████| 1100/1100 [20:19<00:00,  1.11s/it, 1023 steps of size 4.02e-03. acc. prob=0.93]\n",
      "\n",
      "                mean       std    median      5.0%     95.0%     n_eff     r_hat\n",
      "   beta[0]      0.35      0.09      0.34      0.20      0.49    836.78      1.00\n",
      "   beta[1]      0.75      0.04      0.75      0.69      0.80    862.42      1.00\n",
      "   beta[2]      0.98      0.02      0.98      0.95      1.00    792.65      1.00\n",
      "   beta[3]      0.99      0.05      1.00      0.99      1.00   1054.71      1.00\n",
      "   beta[4]      0.97      0.12      1.00      0.95      1.00   1067.67      1.00\n",
      " conc[0,0]    261.26    127.52    241.00     61.54    428.30   1003.33      1.00\n",
      " conc[0,1]     26.79     14.01     24.74      5.47     46.55    963.30      1.00\n",
      " conc[0,2]     57.04     28.68     52.18     14.05     98.09   1020.35      1.00\n",
      " conc[0,3]     55.90     27.99     51.09      9.80     93.17    907.87      1.00\n",
      " conc[1,0]    277.48    145.75    248.35     83.67    516.75    360.58      1.01\n",
      " conc[1,1]     43.01     22.94     38.18     10.19     78.15    378.67      1.01\n",
      " conc[1,2]     30.90     16.85     27.78      6.36     57.07    357.58      1.00\n",
      " conc[1,3]     30.19     16.73     26.79      6.03     53.91    342.69      1.00\n",
      " conc[2,0]    229.38    135.01    200.72     43.04    437.87    368.71      1.01\n",
      " conc[2,1]     67.42     39.59     58.67      9.64    126.30    419.71      1.01\n",
      " conc[2,2]      0.74      0.69      0.56      0.01      1.58    441.96      1.00\n",
      " conc[2,3]      0.46      0.47      0.30      0.00      1.07    455.88      1.00\n",
      " conc[3,0]     89.00     50.45     79.86     18.63    165.41    854.10      1.00\n",
      " conc[3,1]    109.07     65.14     94.82     17.54    196.79    822.16      1.00\n",
      " conc[3,2]    100.55     54.84     90.51     22.34    182.05    737.61      1.00\n",
      " conc[3,3]    108.14     59.74     96.84     22.19    196.49    763.24      1.00\n",
      " conc[4,0]    101.11    101.21     71.30      0.26    223.09    767.74      1.00\n",
      " conc[4,1]    100.09     99.61     67.39      0.24    231.97    662.96      1.00\n",
      " conc[4,2]    101.24    103.28     69.70      0.52    235.07    939.59      1.00\n",
      " conc[4,3]    100.76    101.80     67.89      0.12    235.41    890.39      1.00\n",
      " conc[5,0]    106.94    103.26     79.15      0.32    235.50    698.41      1.01\n",
      " conc[5,1]    100.45    101.57     71.54      0.64    227.74   1114.70      1.00\n",
      " conc[5,2]     98.61    102.32     64.56      0.17    234.37    826.58      1.00\n",
      " conc[5,3]     96.39     97.16     65.78      0.05    221.11    830.61      1.00\n",
      "probs[0,0]      0.66      0.01      0.66      0.64      0.68    827.86      1.00\n",
      "probs[0,1]      0.06      0.01      0.07      0.05      0.08    888.18      1.00\n",
      "probs[0,2]      0.14      0.01      0.14      0.12      0.16    846.14      1.00\n",
      "probs[0,3]      0.14      0.01      0.14      0.12      0.15    871.11      1.00\n",
      "probs[1,0]      0.73      0.01      0.73      0.72      0.74   1005.50      1.00\n",
      "probs[1,1]      0.11      0.01      0.11      0.10      0.12    753.37      1.00\n",
      "probs[1,2]      0.08      0.01      0.08      0.07      0.09    822.69      1.00\n",
      "probs[1,3]      0.08      0.01      0.08      0.07      0.09    861.13      1.00\n",
      "probs[2,0]      0.77      0.01      0.77      0.76      0.79   1014.24      1.00\n",
      "probs[2,1]      0.22      0.01      0.22      0.21      0.24    996.95      1.00\n",
      "probs[2,2]      0.00      0.00      0.00      0.00      0.00    441.27      1.00\n",
      "probs[2,3]      0.00      0.00      0.00      0.00      0.00    730.97      1.00\n",
      "probs[3,0]      0.22      0.06      0.22      0.12      0.33   1475.92      1.00\n",
      "probs[3,1]      0.27      0.07      0.26      0.16      0.38   1072.33      1.00\n",
      "probs[3,2]      0.25      0.05      0.25      0.16      0.32    829.07      1.00\n",
      "probs[3,3]      0.27      0.06      0.26      0.17      0.36    604.83      1.00\n",
      "probs[4,0]      0.25      0.20      0.20      0.00      0.55    494.77      1.01\n",
      "probs[4,1]      0.25      0.20      0.20      0.00      0.55    451.05      1.00\n",
      "probs[4,2]      0.25      0.20      0.21      0.00      0.54    713.68      1.00\n",
      "probs[4,3]      0.25      0.19      0.21      0.00      0.53    670.00      1.01\n",
      "probs[5,0]      0.27      0.20      0.23      0.00      0.58    508.79      1.01\n",
      "probs[5,1]      0.25      0.20      0.20      0.00      0.53    770.47      1.01\n",
      "probs[5,2]      0.24      0.19      0.19      0.00      0.52    460.85      1.00\n",
      "probs[5,3]      0.24      0.19      0.20      0.00      0.52    761.78      1.00\n",
      "\n",
      "Number of divergences: 0\n"
     ]
    }
   ],
   "source": [
    "init_rng_key = random.PRNGKey(12273)\n",
    "mcmcAfDBS = MCMC(NUTS(model), 100, 1000, chain_method='vectorized')\n",
    "mcmcAfDBS.run(init_rng_key, dbs_data)\n",
    "mcmcAfDBS.print_summary()"
   ]
  },
  {
   "cell_type": "code",
   "execution_count": 345,
   "metadata": {},
   "outputs": [
    {
     "output_type": "stream",
     "name": "stdout",
     "text": [
      "[[6.55857776e-01 6.44825709e-02 1.40646904e-01 1.39012750e-01]\n [7.31496924e-01 1.11979615e-01 7.88340874e-02 7.76893732e-02]\n [7.74725521e-01 2.24599610e-01 5.23642254e-04 1.51227016e-04]\n [2.20824844e-01 2.66083431e-01 2.47366989e-01 2.65724736e-01]\n [2.51174657e-01 2.50173263e-01 2.50621379e-01 2.48030701e-01]\n [2.69834098e-01 2.51012394e-01 2.38195742e-01 2.40957767e-01]]\n[[261.26451852  26.79122306  57.03729295  55.89526111]\n [277.48387307  43.00908165  30.89737371  30.19498579]\n [229.37540701  67.42049695   0.74223901   0.4629709 ]\n [ 89.00484912 109.07005812 100.5472157  108.14076341]\n [101.10988576 100.0851819  101.24071638 100.76214338]\n [106.93728384 100.4469585   98.61059401  96.38650754]]\ninferred stick-breaking weights [0.3479987  0.48803518 0.15890733 0.00488248 0.00103714 0.0009994 ]\n"
     ]
    }
   ],
   "source": [
    "# Scaling by pDs gives absolutely no difference in concentrations or probabilities.\n",
    "probsInferred = mcmcAfDBS.get_samples()[\"probs\"]\n",
    "print(probsInferred.mean(0))\n",
    "\n",
    "concsInferred = mcmcAfDBS.get_samples()[\"conc\"]\n",
    "print(concsInferred.mean(0))\n",
    "# print(\"conc std\", concs.std(0))\n",
    "# print(\"conc mean\", concs.mean(0))\n",
    "# print(\"Dirichlet version\", Dirichlet(concs.mean(0)).mean)\n",
    "\n",
    "betaInferred = mcmcAfDBS.get_samples()['beta']\n",
    "print(\"inferred stick-breaking weights\", mix_weights(betaInferred).mean(0))"
   ]
  },
  {
   "cell_type": "code",
   "execution_count": null,
   "metadata": {},
   "outputs": [],
   "source": []
  }
 ]
}