{
 "metadata": {
  "language_info": {
   "codemirror_mode": {
    "name": "ipython",
    "version": 3
   },
   "file_extension": ".py",
   "mimetype": "text/x-python",
   "name": "python",
   "nbconvert_exporter": "python",
   "pygments_lexer": "ipython3",
   "version": "3.7.6-final"
  },
  "orig_nbformat": 2,
  "kernelspec": {
   "name": "Python 3.7.6 64-bit ('base': conda)",
   "display_name": "Python 3.7.6 64-bit ('base': conda)",
   "metadata": {
    "interpreter": {
     "hash": "afe5ebbfdd63d5f53bf49e6aa62793990f23c9b8ec75185fbb6f3054c1465b21"
    }
   }
  }
 },
 "nbformat": 4,
 "nbformat_minor": 2,
 "cells": [
  {
   "cell_type": "code",
   "execution_count": 11,
   "metadata": {},
   "outputs": [
    {
     "output_type": "stream",
     "name": "stdout",
     "text": [
      "The autoreload extension is already loaded. To reload it, use:\n  %reload_ext autoreload\n"
     ]
    }
   ],
   "source": [
    "%load_ext autoreload\n",
    "%autoreload 2\n",
    "%reload_ext autoreload"
   ]
  },
  {
   "cell_type": "code",
   "execution_count": 132,
   "metadata": {
    "tags": [
     "outputPrepend"
    ]
   },
   "outputs": [
    {
     "output_type": "stream",
     "name": "stdout",
     "text": [
      ", 1.8941e-05, 5.0509e-06], dtype=torch.float64)\n",
      "19768 p tensor([4.5868e-05, 1.3760e-05, 1.3760e-05, 3.6694e-06], dtype=torch.float64)\n",
      "19769 p tensor([5.2020e-05, 1.5606e-05, 1.5606e-05, 4.1616e-06], dtype=torch.float64)\n",
      "19770 p tensor([7.3299e-05, 2.1990e-05, 2.1990e-05, 5.8639e-06], dtype=torch.float64)\n",
      "19771 p tensor([5.7161e-05, 1.7148e-05, 1.7148e-05, 4.5729e-06], dtype=torch.float64)\n",
      "19772 p tensor([5.1760e-05, 1.5528e-05, 1.5528e-05, 4.1408e-06], dtype=torch.float64)\n",
      "19773 p tensor([5.0661e-05, 5.9077e-05, 1.5939e-05, 1.5754e-05], dtype=torch.float64)\n",
      "19774 p tensor([7.5587e-05, 2.2676e-05, 2.2676e-05, 6.0469e-06], dtype=torch.float64)\n",
      "19775 p tensor([6.5469e-05, 1.9641e-05, 1.9641e-05, 5.2375e-06], dtype=torch.float64)\n",
      "19776 p tensor([6.3796e-05, 1.9139e-05, 1.9139e-05, 5.1037e-06], dtype=torch.float64)\n",
      "19777 p tensor([6.4408e-05, 1.9322e-05, 1.9322e-05, 5.1526e-06], dtype=torch.float64)\n",
      "19778 p tensor([5.6438e-05, 6.1244e-05, 4.0764e-05, 1.3673e-05], dtype=torch.float64)\n",
      "19779 p tensor([6.1082e-05, 1.8325e-05, 1.8325e-05, 4.8866e-06], dtype=torch.float64)\n",
      "19780 p tensor([5.6267e-05, 1.6880e-05, 1.6880e-05, 4.5014e-06], dtype=torch.float64)\n",
      "19781 p tensor([6.0035e-05, 1.8011e-05, 1.8011e-05, 4.8028e-06], dtype=torch.float64)\n",
      "19782 p tensor([5.4494e-05, 5.6757e-05, 1.7030e-05, 1.5135e-05], dtype=torch.float64)\n",
      "19783 p tensor([5.6174e-05, 8.0697e-05, 1.7929e-05, 2.1519e-05], dtype=torch.float64)\n",
      "19784 p tensor([6.9428e-05, 2.0828e-05, 2.0828e-05, 5.5542e-06], dtype=torch.float64)\n",
      "19785 p tensor([6.7223e-05, 2.0304e-05, 2.8319e-05, 7.5518e-06], dtype=torch.float64)\n",
      "19786 p tensor([4.9896e-05, 1.4969e-05, 1.4969e-05, 3.9917e-06], dtype=torch.float64)\n",
      "19787 p tensor([5.3881e-05, 3.7259e-05, 1.6520e-05, 9.9357e-06], dtype=torch.float64)\n",
      "19788 p tensor([6.4252e-05, 1.9527e-05, 3.4198e-05, 9.1193e-06], dtype=torch.float64)\n",
      "19789 p tensor([4.7959e-05, 1.4388e-05, 1.4388e-05, 3.8367e-06], dtype=torch.float64)\n",
      "19790 p tensor([4.0311e-05, 1.2093e-05, 1.2093e-05, 3.2249e-06], dtype=torch.float64)\n",
      "19791 p tensor([5.5670e-05, 1.6701e-05, 1.6701e-05, 4.4536e-06], dtype=torch.float64)\n",
      "19792 p tensor([5.7995e-05, 3.1060e-05, 1.7629e-05, 8.2826e-06], dtype=torch.float64)\n",
      "19793 p tensor([7.8734e-05, 2.3620e-05, 2.3620e-05, 6.2987e-06], dtype=torch.float64)\n",
      "19794 p tensor([5.6182e-05, 1.6855e-05, 1.6855e-05, 4.4946e-06], dtype=torch.float64)\n",
      "19795 p tensor([6.3684e-05, 1.9105e-05, 1.9105e-05, 5.0947e-06], dtype=torch.float64)\n",
      "19796 p tensor([7.0997e-05, 2.1299e-05, 2.1299e-05, 5.6797e-06], dtype=torch.float64)\n",
      "19797 p tensor([5.4922e-05, 1.6477e-05, 1.6477e-05, 4.3938e-06], dtype=torch.float64)\n",
      "19798 p tensor([5.6718e-05, 1.7015e-05, 1.7015e-05, 4.5374e-06], dtype=torch.float64)\n",
      "19799 p tensor([5.5051e-05, 1.6515e-05, 1.6515e-05, 4.4041e-06], dtype=torch.float64)\n",
      "19800 p tensor([7.1357e-05, 2.1407e-05, 2.1407e-05, 5.7085e-06], dtype=torch.float64)\n",
      "19801 p tensor([6.2855e-05, 1.8857e-05, 1.8857e-05, 5.0284e-06], dtype=torch.float64)\n",
      "19802 p tensor([6.1157e-05, 1.8347e-05, 1.8347e-05, 4.8926e-06], dtype=torch.float64)\n",
      "19803 p tensor([6.1000e-05, 6.0544e-05, 1.9013e-05, 1.6145e-05], dtype=torch.float64)\n",
      "19804 p tensor([8.3747e-05, 2.5124e-05, 2.5124e-05, 6.6998e-06], dtype=torch.float64)\n",
      "19805 p tensor([5.4485e-05, 1.6779e-05, 4.2067e-05, 1.1218e-05], dtype=torch.float64)\n",
      "19806 p tensor([6.2252e-05, 1.8676e-05, 1.8676e-05, 4.9802e-06], dtype=torch.float64)\n",
      "19807 p tensor([6.3712e-05, 1.9114e-05, 1.9114e-05, 5.0970e-06], dtype=torch.float64)\n",
      "19808 p tensor([5.8446e-05, 1.7534e-05, 1.7534e-05, 4.6757e-06], dtype=torch.float64)\n",
      "19809 p tensor([5.2877e-05, 1.5863e-05, 1.5863e-05, 4.2302e-06], dtype=torch.float64)\n",
      "19810 p tensor([6.0824e-05, 1.8247e-05, 1.8247e-05, 4.8659e-06], dtype=torch.float64)\n",
      "19811 p tensor([6.1023e-05, 1.8307e-05, 1.8307e-05, 4.8818e-06], dtype=torch.float64)\n",
      "19812 p tensor([6.6401e-05, 1.9920e-05, 1.9920e-05, 5.3121e-06], dtype=torch.float64)\n",
      "19813 p tensor([6.6615e-05, 7.0659e-05, 2.0839e-05, 1.8842e-05], dtype=torch.float64)\n",
      "19814 p tensor([5.9914e-05, 5.0094e-05, 3.0648e-05, 1.0385e-05], dtype=torch.float64)\n",
      "19815 p tensor([5.5263e-05, 1.6579e-05, 1.6579e-05, 4.4210e-06], dtype=torch.float64)\n",
      "19816 p tensor([7.4343e-05, 2.2303e-05, 2.2303e-05, 5.9474e-06], dtype=torch.float64)\n",
      "19817 p tensor([6.0037e-05, 1.8011e-05, 1.8011e-05, 4.8029e-06], dtype=torch.float64)\n",
      "19818 p tensor([4.6563e-05, 1.3969e-05, 1.3969e-05, 3.7251e-06], dtype=torch.float64)\n",
      "19819 p tensor([6.6272e-05, 2.0569e-05, 6.0603e-05, 1.6161e-05], dtype=torch.float64)\n",
      "19820 p tensor([6.1837e-05, 1.8551e-05, 1.8551e-05, 4.9469e-06], dtype=torch.float64)\n",
      "19821 p tensor([4.9231e-05, 1.4769e-05, 1.4769e-05, 3.9385e-06], dtype=torch.float64)\n",
      "19822 p tensor([4.7739e-05, 4.2663e-05, 1.4800e-05, 1.1377e-05], dtype=torch.float64)\n",
      "19823 p tensor([6.4402e-05, 1.9321e-05, 1.9321e-05, 5.1522e-06], dtype=torch.float64)\n",
      "19824 p tensor([5.8398e-05, 1.7519e-05, 1.7519e-05, 4.6719e-06], dtype=torch.float64)\n",
      "19825 p tensor([5.4445e-05, 1.6333e-05, 1.6333e-05, 4.3556e-06], dtype=torch.float64)\n",
      "19826 p tensor([6.4383e-05, 1.9315e-05, 1.9315e-05, 5.1506e-06], dtype=torch.float64)\n",
      "19827 p tensor([6.0508e-05, 1.8152e-05, 1.8152e-05, 4.8406e-06], dtype=torch.float64)\n",
      "19828 p tensor([6.7964e-05, 2.0389e-05, 2.0389e-05, 5.4371e-06], dtype=torch.float64)\n",
      "19829 p tensor([9.0525e-05, 2.7157e-05, 2.7157e-05, 7.2420e-06], dtype=torch.float64)\n",
      "19830 p tensor([5.2183e-05, 1.5655e-05, 1.5655e-05, 4.1746e-06], dtype=torch.float64)\n",
      "19831 p tensor([6.3493e-05, 1.9048e-05, 1.9048e-05, 5.0794e-06], dtype=torch.float64)\n",
      "19832 p tensor([7.0821e-05, 2.1246e-05, 2.1246e-05, 5.6657e-06], dtype=torch.float64)\n",
      "19833 p tensor([6.3599e-05, 1.9080e-05, 1.9080e-05, 5.0879e-06], dtype=torch.float64)\n",
      "19834 p tensor([5.2192e-05, 1.5658e-05, 1.5658e-05, 4.1754e-06], dtype=torch.float64)\n",
      "19835 p tensor([5.2136e-05, 1.5641e-05, 1.5641e-05, 4.1709e-06], dtype=torch.float64)\n",
      "19836 p tensor([5.6048e-05, 1.6814e-05, 1.6814e-05, 4.4838e-06], dtype=torch.float64)\n",
      "19837 p tensor([6.5469e-05, 1.9641e-05, 1.9641e-05, 5.2375e-06], dtype=torch.float64)\n",
      "19838 p tensor([6.0587e-05, 1.8176e-05, 1.8176e-05, 4.8469e-06], dtype=torch.float64)\n",
      "19839 p tensor([5.6604e-05, 1.6981e-05, 1.6981e-05, 4.5284e-06], dtype=torch.float64)\n",
      "19840 p tensor([6.3182e-05, 1.8955e-05, 1.8955e-05, 5.0546e-06], dtype=torch.float64)\n",
      "19841 p tensor([6.0319e-05, 1.8096e-05, 1.8096e-05, 4.8255e-06], dtype=torch.float64)\n",
      "19842 p tensor([5.1044e-05, 1.5313e-05, 1.5313e-05, 4.0835e-06], dtype=torch.float64)\n",
      "19843 p tensor([6.1752e-05, 1.8526e-05, 1.8526e-05, 4.9402e-06], dtype=torch.float64)\n",
      "19844 p tensor([6.0473e-05, 1.8142e-05, 1.8142e-05, 4.8378e-06], dtype=torch.float64)\n",
      "19845 p tensor([5.4105e-05, 1.6232e-05, 1.6232e-05, 4.3284e-06], dtype=torch.float64)\n",
      "19846 p tensor([4.9661e-05, 1.4898e-05, 1.4898e-05, 3.9729e-06], dtype=torch.float64)\n",
      "19847 p tensor([6.0411e-05, 1.8123e-05, 1.8123e-05, 4.8329e-06], dtype=torch.float64)\n",
      "19848 p tensor([6.3780e-05, 1.9134e-05, 1.9134e-05, 5.1024e-06], dtype=torch.float64)\n",
      "19849 p tensor([4.3202e-05, 5.8610e-05, 1.3731e-05, 1.5629e-05], dtype=torch.float64)\n",
      "19850 p tensor([8.4238e-05, 2.5272e-05, 2.5272e-05, 6.7391e-06], dtype=torch.float64)\n",
      "19851 p tensor([7.2464e-05, 2.1739e-05, 2.1739e-05, 5.7971e-06], dtype=torch.float64)\n",
      "19852 p tensor([5.9484e-05, 1.7845e-05, 1.7845e-05, 4.7587e-06], dtype=torch.float64)\n",
      "19853 p tensor([5.0875e-05, 1.5262e-05, 1.5262e-05, 4.0700e-06], dtype=torch.float64)\n",
      "19854 p tensor([5.2174e-05, 1.5652e-05, 1.5652e-05, 4.1739e-06], dtype=torch.float64)\n",
      "19855 p tensor([6.8161e-05, 2.0448e-05, 2.0448e-05, 5.4529e-06], dtype=torch.float64)\n",
      "19856 p tensor([5.4238e-05, 3.2437e-05, 2.0848e-05, 6.8470e-06], dtype=torch.float64)\n",
      "19857 p tensor([6.2127e-05, 1.8638e-05, 1.8638e-05, 4.9702e-06], dtype=torch.float64)\n",
      "19858 p tensor([5.5348e-05, 1.6781e-05, 2.7078e-05, 7.2208e-06], dtype=torch.float64)\n",
      "19859 p tensor([5.8697e-05, 1.7609e-05, 1.7609e-05, 4.6958e-06], dtype=torch.float64)\n",
      "19860 p tensor([5.2919e-05, 4.6003e-05, 3.0147e-05, 1.0040e-05], dtype=torch.float64)\n",
      "19861 p tensor([4.4764e-05, 3.3779e-05, 1.3772e-05, 9.0077e-06], dtype=torch.float64)\n",
      "19862 p tensor([6.2330e-05, 6.5267e-05, 4.4461e-05, 1.4783e-05], dtype=torch.float64)\n",
      "19863 p tensor([6.8322e-05, 2.0496e-05, 2.0496e-05, 5.4657e-06], dtype=torch.float64)\n",
      "19864 p tensor([6.4512e-05, 1.9563e-05, 3.1774e-05, 8.4731e-06], dtype=torch.float64)\n",
      "19865 p tensor([6.7395e-05, 5.3073e-05, 2.0773e-05, 1.4153e-05], dtype=torch.float64)\n",
      "19866 p tensor([4.9677e-05, 3.2272e-05, 1.5196e-05, 8.6058e-06], dtype=torch.float64)\n",
      "19867 p tensor([5.2626e-05, 1.5788e-05, 1.5788e-05, 4.2101e-06], dtype=torch.float64)\n",
      "19868 p tensor([5.7554e-05, 1.7266e-05, 1.7266e-05, 4.6043e-06], dtype=torch.float64)\n",
      "19869 p tensor([6.2779e-05, 1.8834e-05, 1.8834e-05, 5.0223e-06], dtype=torch.float64)\n",
      "19870 p tensor([4.5258e-05, 1.3577e-05, 1.3577e-05, 3.6206e-06], dtype=torch.float64)\n",
      "19871 p tensor([6.4323e-05, 1.9297e-05, 1.9297e-05, 5.1459e-06], dtype=torch.float64)\n",
      "19872 p tensor([8.5514e-05, 2.5654e-05, 2.5654e-05, 6.8412e-06], dtype=torch.float64)\n",
      "19873 p tensor([5.7376e-05, 1.7213e-05, 1.7213e-05, 4.5901e-06], dtype=torch.float64)\n",
      "19874 p tensor([6.3774e-05, 1.9132e-05, 1.9132e-05, 5.1019e-06], dtype=torch.float64)\n",
      "19875 p tensor([5.8651e-05, 1.7595e-05, 1.7595e-05, 4.6921e-06], dtype=torch.float64)\n",
      "19876 p tensor([5.2058e-05, 1.5617e-05, 1.5617e-05, 4.1647e-06], dtype=torch.float64)\n",
      "19877 p tensor([5.6071e-05, 1.6821e-05, 1.6821e-05, 4.4857e-06], dtype=torch.float64)\n",
      "19878 p tensor([7.0810e-05, 2.1243e-05, 2.1243e-05, 5.6648e-06], dtype=torch.float64)\n",
      "19879 p tensor([4.5301e-05, 1.3590e-05, 1.3590e-05, 3.6241e-06], dtype=torch.float64)\n",
      "19880 p tensor([6.2784e-05, 1.8835e-05, 1.8835e-05, 5.0227e-06], dtype=torch.float64)\n",
      "19881 p tensor([6.0971e-05, 6.8018e-05, 4.4694e-05, 1.5069e-05], dtype=torch.float64)\n",
      "19882 p tensor([5.6994e-05, 1.7098e-05, 1.7098e-05, 4.5596e-06], dtype=torch.float64)\n",
      "19883 p tensor([5.7160e-05, 1.7148e-05, 1.7148e-05, 4.5728e-06], dtype=torch.float64)\n",
      "19884 p tensor([5.4918e-05, 1.6475e-05, 1.6475e-05, 4.3935e-06], dtype=torch.float64)\n",
      "19885 p tensor([5.7024e-05, 1.7107e-05, 1.7107e-05, 4.5619e-06], dtype=torch.float64)\n",
      "19886 p tensor([4.7796e-05, 1.4339e-05, 1.4339e-05, 3.8237e-06], dtype=torch.float64)\n",
      "19887 p tensor([6.7585e-05, 2.0275e-05, 2.0275e-05, 5.4068e-06], dtype=torch.float64)\n",
      "19888 p tensor([5.3524e-05, 1.6057e-05, 1.6057e-05, 4.2819e-06], dtype=torch.float64)\n",
      "19889 p tensor([4.9107e-05, 4.6539e-05, 1.5269e-05, 1.2410e-05], dtype=torch.float64)\n",
      "19890 p tensor([6.1457e-05, 1.8437e-05, 1.8437e-05, 4.9166e-06], dtype=torch.float64)\n",
      "19891 p tensor([5.9106e-05, 1.7732e-05, 1.7732e-05, 4.7284e-06], dtype=torch.float64)\n",
      "19892 p tensor([6.6544e-05, 1.9963e-05, 1.9963e-05, 5.3235e-06], dtype=torch.float64)\n",
      "19893 p tensor([4.6672e-05, 4.5204e-05, 2.7773e-05, 9.4702e-06], dtype=torch.float64)\n",
      "19894 p tensor([6.8221e-05, 2.0466e-05, 2.0466e-05, 5.4577e-06], dtype=torch.float64)\n",
      "19895 p tensor([7.2771e-05, 2.1831e-05, 2.1831e-05, 5.8217e-06], dtype=torch.float64)\n",
      "19896 p tensor([5.9128e-05, 1.7738e-05, 1.7738e-05, 4.7303e-06], dtype=torch.float64)\n",
      "19897 p tensor([5.9195e-05, 3.1734e-05, 1.7994e-05, 8.4625e-06], dtype=torch.float64)\n",
      "19898 p tensor([6.3492e-05, 1.9048e-05, 1.9048e-05, 5.0794e-06], dtype=torch.float64)\n",
      "19899 p tensor([6.3108e-05, 4.9642e-05, 3.2533e-05, 1.0777e-05], dtype=torch.float64)\n",
      "19900 p tensor([4.7648e-05, 4.9815e-05, 3.2694e-05, 1.0989e-05], dtype=torch.float64)\n",
      "19901 p tensor([5.5181e-05, 5.1990e-05, 1.7152e-05, 1.3864e-05], dtype=torch.float64)\n",
      "19902 p tensor([5.3141e-05, 1.5942e-05, 1.5942e-05, 4.2512e-06], dtype=torch.float64)\n",
      "19903 p tensor([6.9817e-05, 2.0945e-05, 2.0945e-05, 5.5853e-06], dtype=torch.float64)\n",
      "19904 p tensor([5.3101e-05, 1.5930e-05, 1.5930e-05, 4.2481e-06], dtype=torch.float64)\n",
      "19905 p tensor([5.5669e-05, 1.6701e-05, 1.6701e-05, 4.4536e-06], dtype=torch.float64)\n",
      "19906 p tensor([5.9645e-05, 1.7893e-05, 1.7893e-05, 4.7716e-06], dtype=torch.float64)\n",
      "19907 p tensor([5.7217e-05, 1.7165e-05, 1.7165e-05, 4.5774e-06], dtype=torch.float64)\n",
      "19908 p tensor([5.7009e-05, 1.7103e-05, 1.7103e-05, 4.5607e-06], dtype=torch.float64)\n",
      "19909 p tensor([6.0054e-05, 1.8016e-05, 1.8016e-05, 4.8043e-06], dtype=torch.float64)\n",
      "19910 p tensor([6.5667e-05, 1.9700e-05, 1.9700e-05, 5.2533e-06], dtype=torch.float64)\n",
      "19911 p tensor([4.7439e-05, 1.4623e-05, 3.7430e-05, 9.9814e-06], dtype=torch.float64)\n",
      "19912 p tensor([5.1119e-05, 1.5336e-05, 1.5336e-05, 4.0895e-06], dtype=torch.float64)\n",
      "19913 p tensor([5.9502e-05, 1.8199e-05, 3.8497e-05, 1.0266e-05], dtype=torch.float64)\n",
      "19914 p tensor([7.0861e-05, 2.1258e-05, 2.1258e-05, 5.6689e-06], dtype=torch.float64)\n",
      "19915 p tensor([5.1283e-05, 1.5385e-05, 1.5385e-05, 4.1026e-06], dtype=torch.float64)\n",
      "19916 p tensor([7.3133e-05, 2.1940e-05, 2.1940e-05, 5.8506e-06], dtype=torch.float64)\n",
      "19917 p tensor([6.2191e-05, 1.8657e-05, 1.8657e-05, 4.9753e-06], dtype=torch.float64)\n",
      "19918 p tensor([6.6728e-05, 2.0018e-05, 2.0018e-05, 5.3382e-06], dtype=torch.float64)\n",
      "19919 p tensor([5.0849e-05, 1.5410e-05, 2.4450e-05, 6.5201e-06], dtype=torch.float64)\n",
      "19920 p tensor([6.8944e-05, 5.3544e-05, 2.1238e-05, 1.4278e-05], dtype=torch.float64)\n",
      "19921 p tensor([7.4412e-05, 2.2324e-05, 2.2324e-05, 5.9530e-06], dtype=torch.float64)\n",
      "19922 p tensor([3.9470e-05, 2.6680e-05, 2.0573e-05, 6.4075e-06], dtype=torch.float64)\n",
      "19923 p tensor([6.1875e-05, 1.8563e-05, 1.8563e-05, 4.9500e-06], dtype=torch.float64)\n",
      "19924 p tensor([5.3398e-05, 4.1327e-05, 1.6446e-05, 1.1021e-05], dtype=torch.float64)\n",
      "19925 p tensor([6.3593e-05, 1.9078e-05, 1.9078e-05, 5.0874e-06], dtype=torch.float64)\n",
      "19926 p tensor([5.7945e-05, 1.7384e-05, 1.7384e-05, 4.6356e-06], dtype=torch.float64)\n",
      "19927 p tensor([5.2495e-05, 1.5749e-05, 1.5749e-05, 4.1996e-06], dtype=torch.float64)\n",
      "19928 p tensor([5.1586e-05, 1.5476e-05, 1.5476e-05, 4.1269e-06], dtype=torch.float64)\n",
      "19929 p tensor([5.3964e-05, 1.6189e-05, 1.6189e-05, 4.3172e-06], dtype=torch.float64)\n",
      "19930 p tensor([5.7721e-05, 1.7316e-05, 1.7316e-05, 4.6177e-06], dtype=torch.float64)\n",
      "19931 p tensor([6.1916e-05, 1.8575e-05, 1.8575e-05, 4.9533e-06], dtype=torch.float64)\n",
      "19932 p tensor([4.8330e-05, 1.4499e-05, 1.4499e-05, 3.8664e-06], dtype=torch.float64)\n",
      "19933 p tensor([6.0147e-05, 1.8044e-05, 1.8044e-05, 4.8118e-06], dtype=torch.float64)\n",
      "19934 p tensor([4.6920e-05, 1.4076e-05, 1.4076e-05, 3.7536e-06], dtype=torch.float64)\n",
      "19935 p tensor([6.0021e-05, 1.8006e-05, 1.8006e-05, 4.8017e-06], dtype=torch.float64)\n",
      "19936 p tensor([6.4499e-05, 1.9350e-05, 1.9350e-05, 5.1599e-06], dtype=torch.float64)\n",
      "19937 p tensor([6.6748e-05, 2.0024e-05, 2.0024e-05, 5.3399e-06], dtype=torch.float64)\n",
      "19938 p tensor([5.0493e-05, 3.9980e-05, 2.6655e-05, 8.7880e-06], dtype=torch.float64)\n",
      "19939 p tensor([5.7965e-05, 1.7389e-05, 1.7389e-05, 4.6372e-06], dtype=torch.float64)\n",
      "19940 p tensor([4.7369e-05, 1.4211e-05, 1.4211e-05, 3.7895e-06], dtype=torch.float64)\n",
      "19941 p tensor([6.9098e-05, 2.0729e-05, 2.0729e-05, 5.5278e-06], dtype=torch.float64)\n",
      "19942 p tensor([4.7405e-05, 5.3242e-05, 1.4880e-05, 1.4198e-05], dtype=torch.float64)\n",
      "19943 p tensor([4.6797e-05, 1.4243e-05, 2.6140e-05, 6.9706e-06], dtype=torch.float64)\n",
      "19944 p tensor([6.9533e-05, 2.0860e-05, 2.0860e-05, 5.5627e-06], dtype=torch.float64)\n",
      "19945 p tensor([6.4219e-05, 1.9266e-05, 1.9266e-05, 5.1375e-06], dtype=torch.float64)\n",
      "19946 p tensor([6.2725e-05, 1.8818e-05, 1.8818e-05, 5.0180e-06], dtype=torch.float64)\n",
      "19947 p tensor([5.7949e-05, 1.7385e-05, 1.7385e-05, 4.6359e-06], dtype=torch.float64)\n",
      "19948 p tensor([6.1096e-05, 1.8329e-05, 1.8329e-05, 4.8877e-06], dtype=torch.float64)\n",
      "19949 p tensor([6.2045e-05, 5.7000e-05, 1.9261e-05, 1.5200e-05], dtype=torch.float64)\n",
      "19950 p tensor([6.7554e-05, 2.0266e-05, 2.0266e-05, 5.4043e-06], dtype=torch.float64)\n",
      "19951 p tensor([6.4176e-05, 1.9253e-05, 1.9253e-05, 5.1341e-06], dtype=torch.float64)\n",
      "19952 p tensor([5.6194e-05, 1.7101e-05, 3.1258e-05, 8.3355e-06], dtype=torch.float64)\n",
      "19953 p tensor([4.2163e-05, 1.2649e-05, 1.2649e-05, 3.3730e-06], dtype=torch.float64)\n",
      "19954 p tensor([6.7446e-05, 2.0234e-05, 2.0234e-05, 5.3957e-06], dtype=torch.float64)\n",
      "19955 p tensor([5.5247e-05, 1.6930e-05, 3.7667e-05, 1.0044e-05], dtype=torch.float64)\n",
      "19956 p tensor([6.3944e-05, 1.9183e-05, 1.9183e-05, 5.1155e-06], dtype=torch.float64)\n",
      "19957 p tensor([6.8165e-05, 2.0450e-05, 2.0450e-05, 5.4532e-06], dtype=torch.float64)\n",
      "19958 p tensor([4.1725e-05, 1.2517e-05, 1.2517e-05, 3.3380e-06], dtype=torch.float64)\n",
      "19959 p tensor([5.0768e-05, 1.5230e-05, 1.5230e-05, 4.0615e-06], dtype=torch.float64)\n",
      "19960 p tensor([5.5728e-05, 1.6718e-05, 1.6718e-05, 4.4582e-06], dtype=torch.float64)\n",
      "19961 p tensor([5.4045e-05, 1.6214e-05, 1.6214e-05, 4.3236e-06], dtype=torch.float64)\n",
      "19962 p tensor([5.7406e-05, 6.1826e-05, 1.7974e-05, 1.6487e-05], dtype=torch.float64)\n",
      "19963 p tensor([5.1694e-05, 1.5508e-05, 1.5508e-05, 4.1355e-06], dtype=torch.float64)\n",
      "19964 p tensor([6.6625e-05, 1.9988e-05, 1.9988e-05, 5.3300e-06], dtype=torch.float64)\n",
      "19965 p tensor([7.1673e-05, 2.1502e-05, 2.1502e-05, 5.7339e-06], dtype=torch.float64)\n",
      "19966 p tensor([5.2350e-05, 1.5705e-05, 1.5705e-05, 4.1880e-06], dtype=torch.float64)\n",
      "19967 p tensor([5.7911e-05, 1.7373e-05, 1.7373e-05, 4.6329e-06], dtype=torch.float64)\n",
      "19968 p tensor([5.5232e-05, 1.6570e-05, 1.6570e-05, 4.4186e-06], dtype=torch.float64)\n",
      "19969 p tensor([6.1190e-05, 1.8357e-05, 1.8357e-05, 4.8952e-06], dtype=torch.float64)\n",
      "19970 p tensor([6.3582e-05, 1.9075e-05, 1.9075e-05, 5.0866e-06], dtype=torch.float64)\n",
      "19971 p tensor([6.0299e-05, 1.8343e-05, 3.3128e-05, 8.8342e-06], dtype=torch.float64)\n",
      "19972 p tensor([4.8147e-05, 5.2064e-05, 1.5079e-05, 1.3884e-05], dtype=torch.float64)\n",
      "19973 p tensor([5.6669e-05, 1.7001e-05, 1.7001e-05, 4.5335e-06], dtype=torch.float64)\n",
      "19974 p tensor([5.8582e-05, 1.7575e-05, 1.7575e-05, 4.6866e-06], dtype=torch.float64)\n",
      "19975 p tensor([6.4882e-05, 1.9723e-05, 3.4785e-05, 9.2760e-06], dtype=torch.float64)\n",
      "19976 p tensor([4.7392e-05, 1.4218e-05, 1.4218e-05, 3.7914e-06], dtype=torch.float64)\n",
      "19977 p tensor([7.5479e-05, 2.2644e-05, 2.2644e-05, 6.0383e-06], dtype=torch.float64)\n",
      "19978 p tensor([5.6130e-05, 1.6839e-05, 1.6839e-05, 4.4904e-06], dtype=torch.float64)\n",
      "19979 p tensor([6.3447e-05, 1.9034e-05, 1.9034e-05, 5.0757e-06], dtype=torch.float64)\n",
      "19980 p tensor([5.2583e-05, 1.5775e-05, 1.5775e-05, 4.2066e-06], dtype=torch.float64)\n",
      "19981 p tensor([5.4836e-05, 1.6749e-05, 3.4132e-05, 9.1018e-06], dtype=torch.float64)\n",
      "19982 p tensor([7.2598e-05, 4.6737e-05, 2.6615e-05, 9.0697e-06], dtype=torch.float64)\n",
      "19983 p tensor([5.8022e-05, 1.7407e-05, 1.7407e-05, 4.6418e-06], dtype=torch.float64)\n",
      "19984 p tensor([5.1345e-05, 3.5957e-05, 2.5901e-05, 8.2767e-06], dtype=torch.float64)\n",
      "19985 p tensor([5.8912e-05, 1.7674e-05, 1.7674e-05, 4.7130e-06], dtype=torch.float64)\n",
      "19986 p tensor([5.2678e-05, 1.5803e-05, 1.5803e-05, 4.2142e-06], dtype=torch.float64)\n",
      "19987 p tensor([6.0447e-05, 1.8134e-05, 1.8134e-05, 4.8358e-06], dtype=torch.float64)\n",
      "19988 p tensor([6.1401e-05, 1.8420e-05, 1.8420e-05, 4.9121e-06], dtype=torch.float64)\n",
      "19989 p tensor([5.8059e-05, 6.6333e-05, 1.8243e-05, 1.7689e-05], dtype=torch.float64)\n",
      "19990 p tensor([7.1007e-05, 2.1302e-05, 2.1302e-05, 5.6805e-06], dtype=torch.float64)\n",
      "19991 p tensor([5.6830e-05, 1.7049e-05, 1.7049e-05, 4.5464e-06], dtype=torch.float64)\n",
      "19992 p tensor([5.8385e-05, 1.7516e-05, 1.7516e-05, 4.6708e-06], dtype=torch.float64)\n",
      "19993 p tensor([6.4451e-05, 1.9335e-05, 1.9335e-05, 5.1561e-06], dtype=torch.float64)\n",
      "19994 p tensor([5.8430e-05, 1.7529e-05, 1.7529e-05, 4.6744e-06], dtype=torch.float64)\n",
      "19995 p tensor([5.8728e-05, 1.7618e-05, 1.7618e-05, 4.6982e-06], dtype=torch.float64)\n",
      "19996 p tensor([7.3348e-05, 2.2782e-05, 6.8083e-05, 1.8155e-05], dtype=torch.float64)\n",
      "19997 p tensor([5.5154e-05, 1.6546e-05, 1.6546e-05, 4.4124e-06], dtype=torch.float64)\n",
      "19998 p tensor([5.8834e-05, 1.7650e-05, 1.7650e-05, 4.7067e-06], dtype=torch.float64)\n",
      "19999 p tensor([5.7648e-05, 1.7294e-05, 1.7294e-05, 4.6118e-06], dtype=torch.float64)\n"
     ]
    }
   ],
   "source": [
    "from mvl import genData\n",
    "from torch import tensor\n",
    "\n",
    "liabParams55cov = genData.genParams(pis=tensor([.1, .1, .05]), rrMeans=tensor([3., 2.]), afMean = tensor(1e-4), pDs = tensor([.01, .01]), afShape=tensor(50.), nCases=tensor([1.5e4, 1.5e4, 4e3]), nCtrls=tensor(5e4), covShared=tensor([ [1, .95], [.95, 1] ]), meanEffectCovarianceScale=tensor(.01))[0]\n",
    "liabParams55cov[\"pDs\"] = liabParams55cov[\"pDs\"][0:2]\n",
    "liabData55cov = genData.v6liability(**liabParams55cov)\n",
    "liabParams55cov[\"pDs\"] = liabData55cov[\"PDs\"] #TODO: normalized names, and indicate that the params pDs are incomplete"
   ]
  },
  {
   "cell_type": "code",
   "execution_count": 130,
   "metadata": {},
   "outputs": [
    {
     "output_type": "stream",
     "name": "stdout",
     "text": [
      "tensor(0.0001)\nmn.probs tensor([0.5952, 0.1786, 0.1786, 0.0476])\np_test[0] / mn.probs[0]) tensor(0.0001, dtype=torch.float64)\nmn.probs * (p_test[0] / mn.probs[0]) tensor([5.9524e-05, 1.7857e-05, 1.7857e-05, 4.7619e-06])\nmn.probs * total_af tensor([6.3168e-05, 1.8950e-05, 1.8950e-05, 5.0534e-06])\nmn.mean tensor([2.9762, 0.8929, 0.8929, 0.2381])\n"
     ]
    }
   ],
   "source": [
    "import torch\n",
    "p_test = tensor([6.8854e-05, 2.0656e-05, 2.0656e-05, 5.5083e-06])\n",
    "print(p_test.sum())\n",
    "total_af_mean = 1e-4\n",
    "\n",
    "mn = td.Multinomial(probs=p_test, total_count= scaled_N)\n",
    "\n",
    "# OK, so we can recover the exact\n",
    "print(\"mn.probs\", mn.probs)\n",
    "print(\"p_test[0] / mn.probs[0])\", tensor(p_test[0] / mn.probs[0], dtype=torch.float64))\n",
    "print(\"mn.probs * (p_test[0] / mn.probs[0])\", mn.probs * (p_test[0] / mn.probs[0]))\n",
    "# This works perfectly\n",
    "print(\"mn.probs * total_af\", mn.probs * total_af)\n",
    "print(\"mn.mean\", mn.mean)"
   ]
  },
  {
   "cell_type": "code",
   "execution_count": 115,
   "metadata": {},
   "outputs": [
    {
     "output_type": "stream",
     "name": "stdout",
     "text": [
      "tensor(0.0013)\n"
     ]
    },
    {
     "output_type": "execute_result",
     "data": {
      "text/plain": [
       "tensor([0.0005, 0.0006, 0.0002])"
      ]
     },
     "metadata": {},
     "execution_count": 115
    }
   ],
   "source": [
    "test_probs = tensor([.0005, .0006, .0002])\n",
    "print(test_probs.sum())\n",
    "# 3.89 is .0005 / the actual probability in position 1\n",
    "# .0005/.3846 == .0013\n",
    "# This is also the test_probs sum\n",
    "td.Multinomial(probs=tensor([.0005, .0006, .0002]), total_count= scaled_N).probs * test_probs.sum()"
   ]
  },
  {
   "cell_type": "code",
   "execution_count": 73,
   "metadata": {},
   "outputs": [
    {
     "output_type": "execute_result",
     "data": {
      "text/plain": [
       "tensor([2.3359, 0.7189, 1.7773, 0.4740])"
      ]
     },
     "metadata": {},
     "execution_count": 73
    }
   ],
   "source": [
    ".005 "
   ]
  },
  {
   "cell_type": "code",
   "execution_count": 74,
   "metadata": {},
   "outputs": [
    {
     "output_type": "execute_result",
     "data": {
      "text/plain": [
       "torch.Size([4])"
      ]
     },
     "metadata": {},
     "execution_count": 74
    }
   ],
   "source": [
    "td.Multinomial(probs=p_test, total_count= scaled_N).param_shape"
   ]
  },
  {
   "cell_type": "code",
   "execution_count": 3,
   "metadata": {},
   "outputs": [
    {
     "output_type": "execute_result",
     "data": {
      "text/plain": [
       "tensor([0.0100, 0.0100, 0.0067], dtype=torch.float64)"
      ]
     },
     "metadata": {},
     "execution_count": 3
    }
   ],
   "source": [
    "liabParams55cov[\"pDs\"]"
   ]
  },
  {
   "cell_type": "code",
   "execution_count": 9,
   "metadata": {},
   "outputs": [
    {
     "output_type": "error",
     "ename": "KeyError",
     "evalue": "'pDsample'",
     "traceback": [
      "\u001b[0;31m---------------------------------------------------------------------------\u001b[0m",
      "\u001b[0;31mKeyError\u001b[0m                                  Traceback (most recent call last)",
      "\u001b[0;32m<ipython-input-9-f6f9a1b3c377>\u001b[0m in \u001b[0;36m<module>\u001b[0;34m\u001b[0m\n\u001b[0;32m----> 1\u001b[0;31m \u001b[0mliabParams55cov\u001b[0m\u001b[0;34m[\u001b[0m\u001b[0;34m\"pDsample\"\u001b[0m\u001b[0;34m]\u001b[0m\u001b[0;34m\u001b[0m\u001b[0;34m\u001b[0m\u001b[0m\n\u001b[0m",
      "\u001b[0;31mKeyError\u001b[0m: 'pDsample'"
     ]
    }
   ],
   "source": [
    "liabParams55cov[\"pDsample\"]"
   ]
  },
  {
   "cell_type": "code",
   "execution_count": 217,
   "metadata": {},
   "outputs": [
    {
     "output_type": "stream",
     "name": "stdout",
     "text": [
      "empirical afs [[2.38095238e-05 3.57142857e-05 2.38095238e-05 1.19047619e-05]\n [2.38095238e-05 3.57142857e-05 8.33333333e-05 1.19047619e-05]\n [3.57142857e-05 0.00000000e+00 3.57142857e-05 0.00000000e+00]\n ...\n [3.57142857e-05 0.00000000e+00 3.57142857e-05 1.19047619e-05]\n [3.57142857e-05 1.19047619e-05 4.76190476e-05 0.00000000e+00]\n [4.76190476e-05 3.57142857e-05 1.19047619e-05 0.00000000e+00]]\npdsAll [0.59523809 0.17857143 0.17857143 0.04761905]\n[[0.59523809 0.17857143 0.17857143 0.04761905]\n [0.59523809 0.17857143 0.17857143 0.04761905]\n [0.59523809 0.17857143 0.17857143 0.04761905]\n [0.59523809 0.17857143 0.17857143 0.04761905]\n [0.59523809 0.17857143 0.17857143 0.04761905]\n [0.59523809 0.17857143 0.17857143 0.04761905]]\n(4,)\n(4,)\nnHypotheses 6\n"
     ]
    }
   ],
   "source": [
    "import numpyro\n",
    "from numpyro.distributions import Multinomial, Beta, Dirichlet, Gamma, Beta, Categorical, Uniform, MultivariateNormal, Normal, LogNormal, Exponential, HalfCauchy, LKJCholesky\n",
    "from jax import random\n",
    "from numpyro.infer import MCMC, NUTS\n",
    "import numpy as np\n",
    "import jax.numpy as jnp\n",
    "import jax\n",
    "\n",
    "numpyro.set_host_device_count(6)\n",
    "numpyro.enable_x64()\n",
    "\n",
    "def mix_weights(beta: jnp.array):\n",
    "    beta_cumprod = (1 - beta).cumprod(-1)\n",
    "    return jnp.pad(beta, (0,1), constant_values=1) * jnp.pad(beta_cumprod, (1,0), constant_values = 1)\n",
    "\n",
    "\n",
    "# mu_exp, var_exp = get_log_params(liabParams55cov[\"afMean\"].numpy(), 1)\n",
    "\n",
    "nHypotheses = 6\n",
    "kConditions = 4\n",
    "altCounts = liabData55cov[\"altCounts\"].numpy()\n",
    "N = len(liabData55cov[\"altCounts\"])\n",
    "\n",
    "nCases = liabParams55cov[\"nCases\"].numpy()\n",
    "nCtrls = liabParams55cov[\"nCtrls\"].numpy()\n",
    "empiricalAfs = altCounts.sum(1) / (nCases.sum() + nCtrls)\n",
    "print(\"empirical afs\", altCounts / (nCases.sum() + nCtrls))\n",
    "samplePDs = nCases / (nCases.sum() + nCtrls)\n",
    "pdsAll = np.array([1 - samplePDs.sum(), *samplePDs])\n",
    "print(\"pdsAll\", pdsAll)\n",
    "\n",
    "# TODO: do this in numpy natively\n",
    "pdsAllShaped = jnp.asarray(tensor(pdsAll).expand(nHypotheses, kConditions).numpy())\n",
    "pdsAllnp = [1 - samplePDs.sum(), *samplePDs]\n",
    "pdsAll = jnp.asarray([1 - samplePDs.sum(), *samplePDs])\n",
    "print(pdsAllShaped)\n",
    "print(pdsAll.shape)\n",
    "print((1/pdsAll).shape)\n",
    "alpha = .01\n",
    "print(\"nHypotheses\", nHypotheses)\n",
    "\n",
    "component_af_means = jnp.array([.005, .006, .006, .013])\n",
    "exponential_prior = jnp.array([.01]).repeat(kConditions)\n",
    "\n",
    "def model(data):\n",
    "    # This also works, for a single set of shraed parameters\n",
    "    # with numpyro.plate(\"conc_plate\", 1):\n",
    "    #     conc = numpyro.sample('conc', Exponential(.001))\n",
    "\n",
    "    with numpyro.plate(\"beta_plate\", nHypotheses-1):\n",
    "        beta = numpyro.sample(\"beta\", Beta(1, alpha))\n",
    "\n",
    "    with numpyro.plate(\"prob_plate\", nHypotheses):\n",
    "        conc = numpyro.sample('conc', Exponential(exponential_prior).to_event(1))\n",
    "        probs = numpyro.sample(\"probs\", Dirichlet(conc)) * pdsAll\n",
    "\n",
    "    with numpyro.plate(\"data\", N):\n",
    "        z = numpyro.sample(\"z\", Categorical(mix_weights(beta)))\n",
    "        return numpyro.sample(\"obs\", Multinomial(probs=probs[z]), obs=data)\n",
    "\n",
    "def modelUniform(data):\n",
    "    # This also works, for a single set of shraed parameters\n",
    "    # with numpyro.plate(\"conc_plate\", 1):\n",
    "    #     conc = numpyro.sample('conc', Exponential(.001))\n",
    "\n",
    "    with numpyro.plate(\"beta_plate\", nHypotheses-1):\n",
    "        beta = numpyro.sample(\"beta\", Beta(1, alpha))\n",
    "\n",
    "    with numpyro.plate(\"prob_plate\", nHypotheses):\n",
    "        conc = numpyro.sample('conc', Uniform(1, 25000).to_event(1))\n",
    "        probs = numpyro.sample(\"probs\", Dirichlet(conc)) * pdsAll\n",
    "\n",
    "    with numpyro.plate(\"data\", N):\n",
    "        z = numpyro.sample(\"z\", Categorical(mix_weights(beta)))\n",
    "        return numpyro.sample(\"obs\", Multinomial(probs=probs[z]), obs=data)\n",
    "\n",
    "def model1(data):\n",
    "    # This also works, for a single set of shraed parameters\n",
    "    with numpyro.plate(\"conc_plate\", kConditions):\n",
    "        conc = numpyro.sample('conc', Exponential(.01, validate_args=False))\n",
    "\n",
    "    with numpyro.plate(\"beta_plate\", nHypotheses-1):\n",
    "        beta = numpyro.sample(\"beta\", Beta(1, alpha, validate_args=False))\n",
    "\n",
    "    with numpyro.plate(\"prob_plate\", nHypotheses):\n",
    "        probs = numpyro.sample(\"probs\", Dirichlet(conc, validate_args=False)) * pdsAll\n",
    "\n",
    "    with numpyro.plate(\"data\", N):\n",
    "        z = numpyro.sample(\"z\", Categorical(mix_weights(beta)))\n",
    "        return numpyro.sample(\"obs\", Multinomial(probs=probs[z], validate_args=False), obs=data)\n",
    "\n",
    "def modelLogNormal(data):\n",
    "    # with numpyro.plate(\"prob_plate\", kConditions):\n",
    "    #      # Vector of variances for each of the d variables\n",
    "    #     theta = numpyro.sample(\"theta\", HalfCauchy(jnp.ones(kConditions)).to_event(1))\n",
    "    #     print(\"theta\", theta)\n",
    "    #     # Lower cholesky factor of a correlation matrix\n",
    "    #     eta = jnp.ones(1)  # Implies a uniform distribution over correlation matrices\n",
    "    #     L_omega = numpyro.sample(\"L_omega\", LKJCholesky(kConditions, eta))\n",
    "    #     # Lower cholesky factor of the covariance matrix\n",
    "    #     L_Omega = jnp.matmul(jnp.diag(jnp.sqrt(theta)), L_omega)\n",
    "    #     print(\"L_Omega\", L_Omega)\n",
    "    # For inference with SVI, one might prefer to use torch.bmm(theta.sqrt().diag_embed(), L_omega)\n",
    "\n",
    "        # Vector of expectations\n",
    "        # mu = jnp.zeros(kConditions)\n",
    "        # print(\"L_Omega\", L_Omega, L_Omega.shape)\n",
    "\n",
    "    with numpyro.plate(\"beta_plate\", nHypotheses-1):\n",
    "        beta = numpyro.sample(\"beta\", Beta(1, alpha))\n",
    "\n",
    "    with numpyro.plate(\"prob_plate\", nHypotheses):\n",
    "        # print(\"pdsAll\", pdsAll)\n",
    "        # theta = numpyro.sample(\"theta\", HalfCauchy(jnp.ones(kConditions)).to_event(1))\n",
    "        # print(\"theta\", theta)\n",
    "        # Lower cholesky factor of a correlation matrix\n",
    "        eta = jnp.ones(1)  # Implies a uniform distribution over correlation matrices\n",
    "        L_omega = numpyro.sample(\"L_omega\", LKJCholesky(kConditions, eta))\n",
    "        # Lower cholesky factor of the covariance matrix\n",
    "        # L_Omega = jnp.matmul(jnp.diag(jnp.sqrt(theta)), L_omega)\n",
    "        # print(\"L_Omega\", L_Omega)\n",
    "    # For inference with SVI, one might pr\n",
    "        probs = jax.nn.softmax(numpyro.sample(\"probs\", MultivariateNormal(pdsAll, L_omega ) ) )\n",
    "\n",
    "    with numpyro.plate(\"data\", N):\n",
    "        z = numpyro.sample(\"z\", Categorical(mix_weights(beta)))\n",
    "        return numpyro.sample(\"obs\", Multinomial(probs=probs[z]), obs=data)"
   ]
  },
  {
   "cell_type": "code",
   "execution_count": 24,
   "metadata": {},
   "outputs": [
    {
     "output_type": "stream",
     "text": [
      "\u001b[0;31mSignature:\u001b[0m \u001b[0mMultinomial\u001b[0m\u001b[0;34m(\u001b[0m\u001b[0mtotal_count\u001b[0m\u001b[0;34m=\u001b[0m\u001b[0;36m1\u001b[0m\u001b[0;34m,\u001b[0m \u001b[0mprobs\u001b[0m\u001b[0;34m=\u001b[0m\u001b[0;32mNone\u001b[0m\u001b[0;34m,\u001b[0m \u001b[0mlogits\u001b[0m\u001b[0;34m=\u001b[0m\u001b[0;32mNone\u001b[0m\u001b[0;34m,\u001b[0m \u001b[0mvalidate_args\u001b[0m\u001b[0;34m=\u001b[0m\u001b[0;32mNone\u001b[0m\u001b[0;34m)\u001b[0m\u001b[0;34m\u001b[0m\u001b[0;34m\u001b[0m\u001b[0m\n",
      "\u001b[0;31mDocstring:\u001b[0m <no docstring>\n",
      "\u001b[0;31mFile:\u001b[0m      ~/miniconda3/lib/python3.7/site-packages/numpyro/distributions/discrete.py\n",
      "\u001b[0;31mType:\u001b[0m      function\n"
     ],
     "name": "stdout"
    }
   ],
   "source": [
    "Multinomial?"
   ]
  },
  {
   "cell_type": "code",
   "execution_count": null,
   "metadata": {},
   "outputs": [],
   "source": [
    "def fn():\n",
    "x = nu'mpyro.sample('x', numpyro.distributions.Exponential(.01))\n",
    "    return x\n",
    "   \n",
    "print(numpyro.handlers.seed(fn, rng_seed=2)())"
   ]
  },
  {
   "cell_type": "code",
   "execution_count": null,
   "metadata": {},
   "outputs": [],
   "source": [
    "jnp.eye(kConditions)"
   ]
  },
  {
   "cell_type": "code",
   "execution_count": null,
   "metadata": {},
   "outputs": [],
   "source": [
    "init_rng_key = random.PRNGKey(12273)\n",
    "mcmcLN = MCMC(NUTS(modelLogNormal), 100, 1000, jit_model_args=True)\n",
    "mcmcLN.run(init_rng_key, altCounts)\n",
    "mcmcLN.print_summary()"
   ]
  },
  {
   "cell_type": "code",
   "execution_count": null,
   "metadata": {},
   "outputs": [],
   "source": [
    "\\\\\\\\\\\\\\\\\\\\\\\\\\\\\\\\\\\\\\\\\\\\\\\\\\\\\\\\\\\\\\\\\\\\\\\\\\\\\\\\\\\\\\\\\\\\\\\\\\\\\\\\\\\\\\\\\\\\\\\\\\\\\\\\\\\\\\\\\\\\\\\\\\\\\\\\\\\\\\\\\\\\\\\\\\\\\\\\\\\\\\\\\\\\\\\\\\\\\\\\\\\\\\\\\\\\\\\\\\\\\\\\\\\\\\\\\\\\\\\\\\\\\\\\\\\\\\\\\\\\\\\\\\\\\\\\\\\\\\\\\\\\\\\\\\\\\\\\\\\\\\\\\\\\\\\\\\\\\\\\\\\\\\\\\\\\\\\\\\\\\\\\\\\\\\\\\\\\\\\\\\\\\\\\\\\\\\\\\\\\\\\\\\\\\\\\\\\\\\\\\\\\\\\\\\\\\\\\\\\\\\\\\\\\\\\\\\\\\\\\\\\\\\\\\\\\\\\\\\\\\\\\\\\\\\\\\\\\\\\\\\\\\\\\\\\\\\\\\\\\\\\\\\\\\\\\\\\\\\\\\\\\\\\\\\\\\\\\\\\\\\\\\\\\\\\\\\\\\\\\\\\\\\\\\\\\\\\\\\\\\\\\\\\\\\\\\\\\\\\\\\\\\\\\\\\\\\\\\\\\\\\\\\\\\\\\\\\\\\\\\\\\\\\\\\\\\\\\\\\\\\\\\\\\\\\\\\\\\\\\\\\\\\\\\\\\\\\\\\\\\\\\\\\\\\\\\\\\\\\\\\\\\\\\\\\\\\\\\\\\\\\\\\\\\\\\\\\\\\\\\\\\\\\\\\\\\\\\\\\\\\\\\\\\\\\\\\\\\\\\\\\\\\\\\\\\\\\\\\\\\\\\\\\\\\\\\\\\\\\\\\\\\\\\\\\\\\\\\\\\\\\\\\\\\\\\\\\\\\\\\\\\\\\\\\\\\\\\\\\\\\\\\\\\\\\\\\\\\\\\\\\\\\\\\\\\\\\\\\\\\\\\\\\\\\\\\\\\\\\\\\\\\\\\\\\\\\\\\\\\\\\\\\\\\\\\\\\\\\\\\\\\\\\\\\\\\\\\\\\\\\\\\\\\\\\\\\\\\\\\\\\\\\\\\\\\\\\\\\\\\\\\\\\\\\\\\\\\\\\\\\\\\\\\\\\\\\\\\\\\\\\\\\\\\\\\\\\\\\\\\\\\\\\\\\\\\\\\\\\\\\\\\\\\\\\\\\\\\\\\\\\\\\\\\\\\\\\\\\\\\\\\\\\\\\\\\\\\\\\\\\\\\\\\\\\\\\\\\\\\\\\\\\\\\\\\\\\\\\\\\\\\\\\\\\\\\\\\\\\\\\\\\\\\\\\\\\\\\\\\\\\\\\\\\\\\\\\\\\\\\\\\\\\\\\\\\\\\\\\\\\\\\\\\\\\\\\\\\\\\\\\\\\\\\\\\\\\\\\\\\\\\\\\\\\\\\\\\\\\\\\\\\\\\\\\\\\\\\\\\\\\\\\\\\\\\\\\\\\\\\\\\\\\\\\\\\\\\\\\\\\\\\\\\\\\\\\\\\\\\\\\\\\\\\\\\\\\\\\\\\\\\\\\\\\\\\\\\\\\\\\\\\\\\\\\\\\\\\\\\\\\\\\\\\\\\\\\\\\\\\\\\\\\\\\\\\\\\\\\\\\\\\\\\\\\\\\\\\\\\\\\\\\\\\\\\\\\\\\\\\\\\\\\\\\\\\\\\\\\\\\\\\\\\\\\\\\\\\\\\\\\\\\\\\\\\\\\\\\\\\\\\\\\\\\\\\\\\\\\\\\\\\\\\\\\\\\\\\\\\\\\\\\\\\\\\\\\\\\\\\\\\\\\\\\\\\\\\\\\\\\\\\\\\\\\\\\\\\\\\\\\\\\\\\\\\\\\\\\\\\\\\\\\\\\\\\\\\\\\\\\\\\\\\\\\\\\\\\\\\\\\\\\\\\\\\\\\\\\\\\\\\\\\\\\\\\\\\\\\\\\\\\\\\\\\\\\\\\\\\\\\\\\\\\\\\\\\\\\\\\\\\\\\\\\\\\\\\\\\\\\\\\\\\\\\\\\\\\\\\\\\\\\\\\\\\\\\\\\\\\\\\\\\\\\\\\\\\\\\\\\\\\\\\\\\\\\\\\\\\\\\\\\\\\\\\\\\\\\\\\\\\\\\\\\\\\\\\\\\\\\\\\\\\\\\\\\\\\\\\\\\\\\\\\\\\\\\\\\\\\\\\\\\\\\\\\\\\\\\\\\\\\\\\\\\\\\\\\\\\\\\\\\\\\\\\\\\\\\\\\\\\\\\\\\\\\\\\\\\\\\\\\\\\\\\\\\\\\\\\\\\\\\\\\\\\\\\\\\\\\\\\\\\\\\\\\\\\\\\\\\\\\\\\\\\\\\\\\\\\\\\\\\\\\\\\\\\\\\\\\\\\\\\\\\\\\\\\\\\\\\\\\\\\\\\\\\\\\\\\\\\\\\\\\\\\\\\\\\\\\\\\\\\\\\\\\\\\\\\\\\\\\\\\\\\\\\\\\\\\\\\\\\\\\\\\\\\\\\\\\\\\\\\\\\\\\\\\\\\\\\\\\\\\\\\\\\\\\\]\n",
    "];;;;'///////////'"
   ]
  },
  {
   "cell_type": "code",
   "execution_count": null,
   "metadata": {},
   "outputs": [],
   "source": [
    "# Scaling by pDs gives absolutely no difference in concentrations or probabilities.\n",
    "sLN = mcmcLN.get_samples()[\"probs\"]\n",
    "print(sLN.mean(0))\n",
    "print(\"jax.nn.softmax\", jax.nn.softmax(sLN.mean(0)))\n",
    "\n",
    "# concs = mcmcAf.get_samples()[\"conc\"]\n",
    "# print(\"conc std\", concs.std(0))\n",
    "# print(\"conc mean\", concs.mean(0))\n",
    "# print(\"DIrichlet version\", Dirichlet(concs.mean(0)).mean)\n",
    "\n",
    "betaScaledLNInDirichlet = mcmcLN.get_samples()['beta']\n",
    "print(\"inferred stick-breaking weights\", mix_weights(betaScaledLNInDirichlet).mean(0))"
   ]
  },
  {
   "cell_type": "code",
   "execution_count": 216,
   "metadata": {},
   "outputs": [
    {
     "output_type": "error",
     "ename": "ValueError",
     "evalue": "Invalid shape: expected (), actual (1,)",
     "traceback": [
      "\u001b[0;31m---------------------------------------------------------------------------\u001b[0m",
      "\u001b[0;31mFilteredStackTrace\u001b[0m                        Traceback (most recent call last)",
      "\u001b[0;32m<ipython-input-216-279e33e526fa>\u001b[0m in \u001b[0;36m<module>\u001b[0;34m\u001b[0m\n\u001b[1;32m      7\u001b[0m \u001b[0mmcmcAf1\u001b[0m \u001b[0;34m=\u001b[0m \u001b[0mMCMC\u001b[0m\u001b[0;34m(\u001b[0m\u001b[0mNUTS\u001b[0m\u001b[0;34m(\u001b[0m\u001b[0mmodel1\u001b[0m\u001b[0;34m)\u001b[0m\u001b[0;34m,\u001b[0m \u001b[0;36m100\u001b[0m\u001b[0;34m,\u001b[0m \u001b[0;36m1000\u001b[0m\u001b[0;34m)\u001b[0m\u001b[0;34m\u001b[0m\u001b[0;34m\u001b[0m\u001b[0m\n\u001b[0;32m----> 8\u001b[0;31m \u001b[0mmcmcAf1\u001b[0m\u001b[0;34m.\u001b[0m\u001b[0mrun\u001b[0m\u001b[0;34m(\u001b[0m\u001b[0minit_rng_key\u001b[0m\u001b[0;34m,\u001b[0m \u001b[0maltCounts\u001b[0m\u001b[0;34m)\u001b[0m\u001b[0;34m\u001b[0m\u001b[0;34m\u001b[0m\u001b[0m\n\u001b[0m\u001b[1;32m      9\u001b[0m \u001b[0mmcmcAf1\u001b[0m\u001b[0;34m.\u001b[0m\u001b[0mprint_summary\u001b[0m\u001b[0;34m(\u001b[0m\u001b[0;34m)\u001b[0m\u001b[0;34m\u001b[0m\u001b[0;34m\u001b[0m\u001b[0m\n",
      "\u001b[0;32m~/miniconda3/lib/python3.7/site-packages/numpyro/infer/mcmc.py\u001b[0m in \u001b[0;36mrun\u001b[0;34m(self, rng_key, extra_fields, init_params, *args, **kwargs)\u001b[0m\n\u001b[1;32m    448\u001b[0m         \u001b[0;32mif\u001b[0m \u001b[0mself\u001b[0m\u001b[0;34m.\u001b[0m\u001b[0mnum_chains\u001b[0m \u001b[0;34m==\u001b[0m \u001b[0;36m1\u001b[0m\u001b[0;34m:\u001b[0m\u001b[0;34m\u001b[0m\u001b[0;34m\u001b[0m\u001b[0m\n\u001b[0;32m--> 449\u001b[0;31m             \u001b[0mstates_flat\u001b[0m\u001b[0;34m,\u001b[0m \u001b[0mlast_state\u001b[0m \u001b[0;34m=\u001b[0m \u001b[0mpartial_map_fn\u001b[0m\u001b[0;34m(\u001b[0m\u001b[0mmap_args\u001b[0m\u001b[0;34m)\u001b[0m\u001b[0;34m\u001b[0m\u001b[0;34m\u001b[0m\u001b[0m\n\u001b[0m\u001b[1;32m    450\u001b[0m             \u001b[0mstates\u001b[0m \u001b[0;34m=\u001b[0m \u001b[0mtree_map\u001b[0m\u001b[0;34m(\u001b[0m\u001b[0;32mlambda\u001b[0m \u001b[0mx\u001b[0m\u001b[0;34m:\u001b[0m \u001b[0mx\u001b[0m\u001b[0;34m[\u001b[0m\u001b[0mjnp\u001b[0m\u001b[0;34m.\u001b[0m\u001b[0mnewaxis\u001b[0m\u001b[0;34m,\u001b[0m \u001b[0;34m...\u001b[0m\u001b[0;34m]\u001b[0m\u001b[0;34m,\u001b[0m \u001b[0mstates_flat\u001b[0m\u001b[0;34m)\u001b[0m\u001b[0;34m\u001b[0m\u001b[0;34m\u001b[0m\u001b[0m\n",
      "\u001b[0;32m~/miniconda3/lib/python3.7/site-packages/numpyro/infer/mcmc.py\u001b[0m in \u001b[0;36m_single_chain_mcmc\u001b[0;34m(self, init, args, kwargs, collect_fields)\u001b[0m\n\u001b[1;32m    312\u001b[0m             init_state = self.sampler.init(rng_key, self.num_warmup, init_params,\n\u001b[0;32m--> 313\u001b[0;31m                                            model_args=args, model_kwargs=kwargs)\n\u001b[0m\u001b[1;32m    314\u001b[0m         \u001b[0;32mif\u001b[0m \u001b[0mself\u001b[0m\u001b[0;34m.\u001b[0m\u001b[0mpostprocess_fn\u001b[0m \u001b[0;32mis\u001b[0m \u001b[0;32mNone\u001b[0m\u001b[0;34m:\u001b[0m\u001b[0;34m\u001b[0m\u001b[0;34m\u001b[0m\u001b[0m\n",
      "\u001b[0;32m~/miniconda3/lib/python3.7/site-packages/numpyro/infer/hmc.py\u001b[0m in \u001b[0;36minit\u001b[0;34m(self, rng_key, num_warmup, init_params, model_args, model_kwargs)\u001b[0m\n\u001b[1;32m    449\u001b[0m             \u001b[0mrng_key\u001b[0m\u001b[0;34m,\u001b[0m \u001b[0mrng_key_init_model\u001b[0m \u001b[0;34m=\u001b[0m \u001b[0mjnp\u001b[0m\u001b[0;34m.\u001b[0m\u001b[0mswapaxes\u001b[0m\u001b[0;34m(\u001b[0m\u001b[0mvmap\u001b[0m\u001b[0;34m(\u001b[0m\u001b[0mrandom\u001b[0m\u001b[0;34m.\u001b[0m\u001b[0msplit\u001b[0m\u001b[0;34m)\u001b[0m\u001b[0;34m(\u001b[0m\u001b[0mrng_key\u001b[0m\u001b[0;34m)\u001b[0m\u001b[0;34m,\u001b[0m \u001b[0;36m0\u001b[0m\u001b[0;34m,\u001b[0m \u001b[0;36m1\u001b[0m\u001b[0;34m)\u001b[0m\u001b[0;34m\u001b[0m\u001b[0;34m\u001b[0m\u001b[0m\n\u001b[0;32m--> 450\u001b[0;31m         \u001b[0minit_params\u001b[0m \u001b[0;34m=\u001b[0m \u001b[0mself\u001b[0m\u001b[0;34m.\u001b[0m\u001b[0m_init_state\u001b[0m\u001b[0;34m(\u001b[0m\u001b[0mrng_key_init_model\u001b[0m\u001b[0;34m,\u001b[0m \u001b[0mmodel_args\u001b[0m\u001b[0;34m,\u001b[0m \u001b[0mmodel_kwargs\u001b[0m\u001b[0;34m,\u001b[0m \u001b[0minit_params\u001b[0m\u001b[0;34m)\u001b[0m\u001b[0;34m\u001b[0m\u001b[0;34m\u001b[0m\u001b[0m\n\u001b[0m\u001b[1;32m    451\u001b[0m         \u001b[0;32mif\u001b[0m \u001b[0mself\u001b[0m\u001b[0;34m.\u001b[0m\u001b[0m_potential_fn\u001b[0m \u001b[0;32mand\u001b[0m \u001b[0minit_params\u001b[0m \u001b[0;32mis\u001b[0m \u001b[0;32mNone\u001b[0m\u001b[0;34m:\u001b[0m\u001b[0;34m\u001b[0m\u001b[0;34m\u001b[0m\u001b[0m\n",
      "\u001b[0;32m~/miniconda3/lib/python3.7/site-packages/numpyro/infer/hmc.py\u001b[0m in \u001b[0;36m_init_state\u001b[0;34m(self, rng_key, model_args, model_kwargs, init_params)\u001b[0m\n\u001b[1;32m    412\u001b[0m                 \u001b[0mmodel_args\u001b[0m\u001b[0;34m=\u001b[0m\u001b[0mmodel_args\u001b[0m\u001b[0;34m,\u001b[0m\u001b[0;34m\u001b[0m\u001b[0;34m\u001b[0m\u001b[0m\n\u001b[0;32m--> 413\u001b[0;31m                 model_kwargs=model_kwargs)\n\u001b[0m\u001b[1;32m    414\u001b[0m             \u001b[0;32mif\u001b[0m \u001b[0mself\u001b[0m\u001b[0;34m.\u001b[0m\u001b[0m_init_fn\u001b[0m \u001b[0;32mis\u001b[0m \u001b[0;32mNone\u001b[0m\u001b[0;34m:\u001b[0m\u001b[0;34m\u001b[0m\u001b[0;34m\u001b[0m\u001b[0m\n",
      "\u001b[0;32m~/miniconda3/lib/python3.7/site-packages/numpyro/infer/util.py\u001b[0m in \u001b[0;36minitialize_model\u001b[0;34m(rng_key, model, init_strategy, dynamic_args, model_args, model_kwargs)\u001b[0m\n\u001b[1;32m    429\u001b[0m                                                                   \u001b[0mmodel_kwargs\u001b[0m\u001b[0;34m=\u001b[0m\u001b[0mmodel_kwargs\u001b[0m\u001b[0;34m,\u001b[0m\u001b[0;34m\u001b[0m\u001b[0;34m\u001b[0m\u001b[0m\n\u001b[0;32m--> 430\u001b[0;31m                                                                   prototype_params=prototype_params)\n\u001b[0m\u001b[1;32m    431\u001b[0m \u001b[0;34m\u001b[0m\u001b[0m\n",
      "\u001b[0;32m~/miniconda3/lib/python3.7/site-packages/numpyro/infer/util.py\u001b[0m in \u001b[0;36mfind_valid_initial_params\u001b[0;34m(rng_key, model, init_strategy, enum, model_args, model_kwargs, prototype_params)\u001b[0m\n\u001b[1;32m    256\u001b[0m     \u001b[0;32mif\u001b[0m \u001b[0mrng_key\u001b[0m\u001b[0;34m.\u001b[0m\u001b[0mndim\u001b[0m \u001b[0;34m==\u001b[0m \u001b[0;36m1\u001b[0m\u001b[0;34m:\u001b[0m\u001b[0;34m\u001b[0m\u001b[0;34m\u001b[0m\u001b[0m\n\u001b[0;32m--> 257\u001b[0;31m         \u001b[0;34m(\u001b[0m\u001b[0minit_params\u001b[0m\u001b[0;34m,\u001b[0m \u001b[0mpe\u001b[0m\u001b[0;34m,\u001b[0m \u001b[0mz_grad\u001b[0m\u001b[0;34m)\u001b[0m\u001b[0;34m,\u001b[0m \u001b[0mis_valid\u001b[0m \u001b[0;34m=\u001b[0m \u001b[0m_find_valid_params\u001b[0m\u001b[0;34m(\u001b[0m\u001b[0mrng_key\u001b[0m\u001b[0;34m,\u001b[0m \u001b[0mexit_early\u001b[0m\u001b[0;34m=\u001b[0m\u001b[0;32mTrue\u001b[0m\u001b[0;34m)\u001b[0m\u001b[0;34m\u001b[0m\u001b[0;34m\u001b[0m\u001b[0m\n\u001b[0m\u001b[1;32m    258\u001b[0m     \u001b[0;32melse\u001b[0m\u001b[0;34m:\u001b[0m\u001b[0;34m\u001b[0m\u001b[0;34m\u001b[0m\u001b[0m\n",
      "\u001b[0;32m~/miniconda3/lib/python3.7/site-packages/numpyro/infer/util.py\u001b[0m in \u001b[0;36m_find_valid_params\u001b[0;34m(rng_key, exit_early)\u001b[0m\n\u001b[1;32m    244\u001b[0m             \u001b[0;31m# where we can avoid compiling body_fn in while_loop.\u001b[0m\u001b[0;34m\u001b[0m\u001b[0;34m\u001b[0m\u001b[0;34m\u001b[0m\u001b[0m\n\u001b[0;32m--> 245\u001b[0;31m             \u001b[0m_\u001b[0m\u001b[0;34m,\u001b[0m \u001b[0m_\u001b[0m\u001b[0;34m,\u001b[0m \u001b[0;34m(\u001b[0m\u001b[0minit_params\u001b[0m\u001b[0;34m,\u001b[0m \u001b[0mpe\u001b[0m\u001b[0;34m,\u001b[0m \u001b[0mz_grad\u001b[0m\u001b[0;34m)\u001b[0m\u001b[0;34m,\u001b[0m \u001b[0mis_valid\u001b[0m \u001b[0;34m=\u001b[0m \u001b[0minit_state\u001b[0m \u001b[0;34m=\u001b[0m \u001b[0mbody_fn\u001b[0m\u001b[0;34m(\u001b[0m\u001b[0minit_state\u001b[0m\u001b[0;34m)\u001b[0m\u001b[0;34m\u001b[0m\u001b[0;34m\u001b[0m\u001b[0m\n\u001b[0m\u001b[1;32m    246\u001b[0m             \u001b[0;32mif\u001b[0m \u001b[0mnot_jax_tracer\u001b[0m\u001b[0;34m(\u001b[0m\u001b[0mis_valid\u001b[0m\u001b[0;34m)\u001b[0m\u001b[0;34m:\u001b[0m\u001b[0;34m\u001b[0m\u001b[0;34m\u001b[0m\u001b[0m\n",
      "\u001b[0;32m~/miniconda3/lib/python3.7/site-packages/numpyro/infer/util.py\u001b[0m in \u001b[0;36mbody_fn\u001b[0;34m(state)\u001b[0m\n\u001b[1;32m    234\u001b[0m         \u001b[0mpotential_fn\u001b[0m \u001b[0;34m=\u001b[0m \u001b[0mpartial\u001b[0m\u001b[0;34m(\u001b[0m\u001b[0mpotential_energy\u001b[0m\u001b[0;34m,\u001b[0m \u001b[0mmodel\u001b[0m\u001b[0;34m,\u001b[0m \u001b[0mmodel_args\u001b[0m\u001b[0;34m,\u001b[0m \u001b[0mmodel_kwargs\u001b[0m\u001b[0;34m,\u001b[0m \u001b[0menum\u001b[0m\u001b[0;34m=\u001b[0m\u001b[0menum\u001b[0m\u001b[0;34m)\u001b[0m\u001b[0;34m\u001b[0m\u001b[0;34m\u001b[0m\u001b[0m\n\u001b[0;32m--> 235\u001b[0;31m         \u001b[0mpe\u001b[0m\u001b[0;34m,\u001b[0m \u001b[0mz_grad\u001b[0m \u001b[0;34m=\u001b[0m \u001b[0mvalue_and_grad\u001b[0m\u001b[0;34m(\u001b[0m\u001b[0mpotential_fn\u001b[0m\u001b[0;34m)\u001b[0m\u001b[0;34m(\u001b[0m\u001b[0mparams\u001b[0m\u001b[0;34m)\u001b[0m\u001b[0;34m\u001b[0m\u001b[0;34m\u001b[0m\u001b[0m\n\u001b[0m\u001b[1;32m    236\u001b[0m         \u001b[0mz_grad_flat\u001b[0m \u001b[0;34m=\u001b[0m \u001b[0mravel_pytree\u001b[0m\u001b[0;34m(\u001b[0m\u001b[0mz_grad\u001b[0m\u001b[0;34m)\u001b[0m\u001b[0;34m[\u001b[0m\u001b[0;36m0\u001b[0m\u001b[0;34m]\u001b[0m\u001b[0;34m\u001b[0m\u001b[0;34m\u001b[0m\u001b[0m\n",
      "\u001b[0;32m~/miniconda3/lib/python3.7/site-packages/numpyro/infer/util.py\u001b[0m in \u001b[0;36mpotential_energy\u001b[0;34m(model, model_args, model_kwargs, params, enum)\u001b[0m\n\u001b[1;32m    156\u001b[0m     \u001b[0;31m# no param is needed for log_density computation because we already substitute\u001b[0m\u001b[0;34m\u001b[0m\u001b[0;34m\u001b[0m\u001b[0;34m\u001b[0m\u001b[0m\n\u001b[0;32m--> 157\u001b[0;31m     \u001b[0mlog_joint\u001b[0m\u001b[0;34m,\u001b[0m \u001b[0mmodel_trace\u001b[0m \u001b[0;34m=\u001b[0m \u001b[0mlog_density_\u001b[0m\u001b[0;34m(\u001b[0m\u001b[0msubstituted_model\u001b[0m\u001b[0;34m,\u001b[0m \u001b[0mmodel_args\u001b[0m\u001b[0;34m,\u001b[0m \u001b[0mmodel_kwargs\u001b[0m\u001b[0;34m,\u001b[0m \u001b[0;34m{\u001b[0m\u001b[0;34m}\u001b[0m\u001b[0;34m)\u001b[0m\u001b[0;34m\u001b[0m\u001b[0;34m\u001b[0m\u001b[0m\n\u001b[0m\u001b[1;32m    158\u001b[0m     \u001b[0;32mreturn\u001b[0m \u001b[0;34m-\u001b[0m \u001b[0mlog_joint\u001b[0m\u001b[0;34m\u001b[0m\u001b[0;34m\u001b[0m\u001b[0m\n",
      "\u001b[0;32m~/miniconda3/lib/python3.7/site-packages/numpyro/contrib/funsor/infer_util.py\u001b[0m in \u001b[0;36mlog_density\u001b[0;34m(model, model_args, model_kwargs, params)\u001b[0m\n\u001b[1;32m    143\u001b[0m             \u001b[0mdim_to_name\u001b[0m \u001b[0;34m=\u001b[0m \u001b[0msite\u001b[0m\u001b[0;34m[\u001b[0m\u001b[0;34m\"infer\"\u001b[0m\u001b[0;34m]\u001b[0m\u001b[0;34m[\u001b[0m\u001b[0;34m\"dim_to_name\"\u001b[0m\u001b[0;34m]\u001b[0m\u001b[0;34m\u001b[0m\u001b[0;34m\u001b[0m\u001b[0m\n\u001b[0;32m--> 144\u001b[0;31m             \u001b[0mlog_prob\u001b[0m \u001b[0;34m=\u001b[0m \u001b[0mfunsor\u001b[0m\u001b[0;34m.\u001b[0m\u001b[0mto_funsor\u001b[0m\u001b[0;34m(\u001b[0m\u001b[0mlog_prob\u001b[0m\u001b[0;34m,\u001b[0m \u001b[0moutput\u001b[0m\u001b[0;34m=\u001b[0m\u001b[0mfunsor\u001b[0m\u001b[0;34m.\u001b[0m\u001b[0mreals\u001b[0m\u001b[0;34m(\u001b[0m\u001b[0;34m)\u001b[0m\u001b[0;34m,\u001b[0m \u001b[0mdim_to_name\u001b[0m\u001b[0;34m=\u001b[0m\u001b[0mdim_to_name\u001b[0m\u001b[0;34m)\u001b[0m\u001b[0;34m\u001b[0m\u001b[0;34m\u001b[0m\u001b[0m\n\u001b[0m\u001b[1;32m    145\u001b[0m \u001b[0;34m\u001b[0m\u001b[0m\n",
      "\u001b[0;32m~/miniconda3/lib/python3.7/functools.py\u001b[0m in \u001b[0;36mwrapper\u001b[0;34m(*args, **kw)\u001b[0m\n\u001b[1;32m    839\u001b[0m \u001b[0;34m\u001b[0m\u001b[0m\n\u001b[0;32m--> 840\u001b[0;31m         \u001b[0;32mreturn\u001b[0m \u001b[0mdispatch\u001b[0m\u001b[0;34m(\u001b[0m\u001b[0margs\u001b[0m\u001b[0;34m[\u001b[0m\u001b[0;36m0\u001b[0m\u001b[0;34m]\u001b[0m\u001b[0;34m.\u001b[0m\u001b[0m__class__\u001b[0m\u001b[0;34m)\u001b[0m\u001b[0;34m(\u001b[0m\u001b[0;34m*\u001b[0m\u001b[0margs\u001b[0m\u001b[0;34m,\u001b[0m \u001b[0;34m**\u001b[0m\u001b[0mkw\u001b[0m\u001b[0;34m)\u001b[0m\u001b[0;34m\u001b[0m\u001b[0;34m\u001b[0m\u001b[0m\n\u001b[0m\u001b[1;32m    841\u001b[0m \u001b[0;34m\u001b[0m\u001b[0m\n",
      "\u001b[0;32m~/miniconda3/lib/python3.7/site-packages/funsor/tensor.py\u001b[0m in \u001b[0;36mtensor_to_funsor\u001b[0;34m(x, output, dim_to_name)\u001b[0m\n\u001b[1;32m    432\u001b[0m             raise ValueError(\"Invalid shape: expected {}, actual {}\"\n\u001b[0;32m--> 433\u001b[0;31m                              .format(output.shape, result.output.shape))\n\u001b[0m\u001b[1;32m    434\u001b[0m         \u001b[0;32mreturn\u001b[0m \u001b[0mresult\u001b[0m\u001b[0;34m\u001b[0m\u001b[0;34m\u001b[0m\u001b[0m\n",
      "\u001b[0;31mFilteredStackTrace\u001b[0m: ValueError: Invalid shape: expected (), actual (1,)\n\nThe stack trace above excludes JAX-internal frames.\nThe following is the original exception that occurred, unmodified.\n\n--------------------",
      "\nThe above exception was the direct cause of the following exception:\n",
      "\u001b[0;31mValueError\u001b[0m                                Traceback (most recent call last)",
      "\u001b[0;32m<ipython-input-216-279e33e526fa>\u001b[0m in \u001b[0;36m<module>\u001b[0;34m\u001b[0m\n\u001b[1;32m      6\u001b[0m \u001b[0minit_rng_key\u001b[0m \u001b[0;34m=\u001b[0m \u001b[0mrandom\u001b[0m\u001b[0;34m.\u001b[0m\u001b[0mPRNGKey\u001b[0m\u001b[0;34m(\u001b[0m\u001b[0;36m12273\u001b[0m\u001b[0;34m)\u001b[0m\u001b[0;34m\u001b[0m\u001b[0;34m\u001b[0m\u001b[0m\n\u001b[1;32m      7\u001b[0m \u001b[0mmcmcAf1\u001b[0m \u001b[0;34m=\u001b[0m \u001b[0mMCMC\u001b[0m\u001b[0;34m(\u001b[0m\u001b[0mNUTS\u001b[0m\u001b[0;34m(\u001b[0m\u001b[0mmodel1\u001b[0m\u001b[0;34m)\u001b[0m\u001b[0;34m,\u001b[0m \u001b[0;36m100\u001b[0m\u001b[0;34m,\u001b[0m \u001b[0;36m1000\u001b[0m\u001b[0;34m)\u001b[0m\u001b[0;34m\u001b[0m\u001b[0;34m\u001b[0m\u001b[0m\n\u001b[0;32m----> 8\u001b[0;31m \u001b[0mmcmcAf1\u001b[0m\u001b[0;34m.\u001b[0m\u001b[0mrun\u001b[0m\u001b[0;34m(\u001b[0m\u001b[0minit_rng_key\u001b[0m\u001b[0;34m,\u001b[0m \u001b[0maltCounts\u001b[0m\u001b[0;34m)\u001b[0m\u001b[0;34m\u001b[0m\u001b[0;34m\u001b[0m\u001b[0m\n\u001b[0m\u001b[1;32m      9\u001b[0m \u001b[0mmcmcAf1\u001b[0m\u001b[0;34m.\u001b[0m\u001b[0mprint_summary\u001b[0m\u001b[0;34m(\u001b[0m\u001b[0;34m)\u001b[0m\u001b[0;34m\u001b[0m\u001b[0;34m\u001b[0m\u001b[0m\n",
      "\u001b[0;32m~/miniconda3/lib/python3.7/site-packages/numpyro/infer/mcmc.py\u001b[0m in \u001b[0;36mrun\u001b[0;34m(self, rng_key, extra_fields, init_params, *args, **kwargs)\u001b[0m\n\u001b[1;32m    447\u001b[0m         \u001b[0mmap_args\u001b[0m \u001b[0;34m=\u001b[0m \u001b[0;34m(\u001b[0m\u001b[0mrng_key\u001b[0m\u001b[0;34m,\u001b[0m \u001b[0minit_state\u001b[0m\u001b[0;34m,\u001b[0m \u001b[0minit_params\u001b[0m\u001b[0;34m)\u001b[0m\u001b[0;34m\u001b[0m\u001b[0;34m\u001b[0m\u001b[0m\n\u001b[1;32m    448\u001b[0m         \u001b[0;32mif\u001b[0m \u001b[0mself\u001b[0m\u001b[0;34m.\u001b[0m\u001b[0mnum_chains\u001b[0m \u001b[0;34m==\u001b[0m \u001b[0;36m1\u001b[0m\u001b[0;34m:\u001b[0m\u001b[0;34m\u001b[0m\u001b[0;34m\u001b[0m\u001b[0m\n\u001b[0;32m--> 449\u001b[0;31m             \u001b[0mstates_flat\u001b[0m\u001b[0;34m,\u001b[0m \u001b[0mlast_state\u001b[0m \u001b[0;34m=\u001b[0m \u001b[0mpartial_map_fn\u001b[0m\u001b[0;34m(\u001b[0m\u001b[0mmap_args\u001b[0m\u001b[0;34m)\u001b[0m\u001b[0;34m\u001b[0m\u001b[0;34m\u001b[0m\u001b[0m\n\u001b[0m\u001b[1;32m    450\u001b[0m             \u001b[0mstates\u001b[0m \u001b[0;34m=\u001b[0m \u001b[0mtree_map\u001b[0m\u001b[0;34m(\u001b[0m\u001b[0;32mlambda\u001b[0m \u001b[0mx\u001b[0m\u001b[0;34m:\u001b[0m \u001b[0mx\u001b[0m\u001b[0;34m[\u001b[0m\u001b[0mjnp\u001b[0m\u001b[0;34m.\u001b[0m\u001b[0mnewaxis\u001b[0m\u001b[0;34m,\u001b[0m \u001b[0;34m...\u001b[0m\u001b[0;34m]\u001b[0m\u001b[0;34m,\u001b[0m \u001b[0mstates_flat\u001b[0m\u001b[0;34m)\u001b[0m\u001b[0;34m\u001b[0m\u001b[0;34m\u001b[0m\u001b[0m\n\u001b[1;32m    451\u001b[0m         \u001b[0;32melse\u001b[0m\u001b[0;34m:\u001b[0m\u001b[0;34m\u001b[0m\u001b[0;34m\u001b[0m\u001b[0m\n",
      "\u001b[0;32m~/miniconda3/lib/python3.7/site-packages/numpyro/infer/mcmc.py\u001b[0m in \u001b[0;36m_single_chain_mcmc\u001b[0;34m(self, init, args, kwargs, collect_fields)\u001b[0m\n\u001b[1;32m    311\u001b[0m         \u001b[0;32mif\u001b[0m \u001b[0minit_state\u001b[0m \u001b[0;32mis\u001b[0m \u001b[0;32mNone\u001b[0m\u001b[0;34m:\u001b[0m\u001b[0;34m\u001b[0m\u001b[0;34m\u001b[0m\u001b[0m\n\u001b[1;32m    312\u001b[0m             init_state = self.sampler.init(rng_key, self.num_warmup, init_params,\n\u001b[0;32m--> 313\u001b[0;31m                                            model_args=args, model_kwargs=kwargs)\n\u001b[0m\u001b[1;32m    314\u001b[0m         \u001b[0;32mif\u001b[0m \u001b[0mself\u001b[0m\u001b[0;34m.\u001b[0m\u001b[0mpostprocess_fn\u001b[0m \u001b[0;32mis\u001b[0m \u001b[0;32mNone\u001b[0m\u001b[0;34m:\u001b[0m\u001b[0;34m\u001b[0m\u001b[0;34m\u001b[0m\u001b[0m\n\u001b[1;32m    315\u001b[0m             \u001b[0mpostprocess_fn\u001b[0m \u001b[0;34m=\u001b[0m \u001b[0mself\u001b[0m\u001b[0;34m.\u001b[0m\u001b[0msampler\u001b[0m\u001b[0;34m.\u001b[0m\u001b[0mpostprocess_fn\u001b[0m\u001b[0;34m(\u001b[0m\u001b[0margs\u001b[0m\u001b[0;34m,\u001b[0m \u001b[0mkwargs\u001b[0m\u001b[0;34m)\u001b[0m\u001b[0;34m\u001b[0m\u001b[0;34m\u001b[0m\u001b[0m\n",
      "\u001b[0;32m~/miniconda3/lib/python3.7/site-packages/numpyro/infer/hmc.py\u001b[0m in \u001b[0;36minit\u001b[0;34m(self, rng_key, num_warmup, init_params, model_args, model_kwargs)\u001b[0m\n\u001b[1;32m    448\u001b[0m         \u001b[0;32melse\u001b[0m\u001b[0;34m:\u001b[0m\u001b[0;34m\u001b[0m\u001b[0;34m\u001b[0m\u001b[0m\n\u001b[1;32m    449\u001b[0m             \u001b[0mrng_key\u001b[0m\u001b[0;34m,\u001b[0m \u001b[0mrng_key_init_model\u001b[0m \u001b[0;34m=\u001b[0m \u001b[0mjnp\u001b[0m\u001b[0;34m.\u001b[0m\u001b[0mswapaxes\u001b[0m\u001b[0;34m(\u001b[0m\u001b[0mvmap\u001b[0m\u001b[0;34m(\u001b[0m\u001b[0mrandom\u001b[0m\u001b[0;34m.\u001b[0m\u001b[0msplit\u001b[0m\u001b[0;34m)\u001b[0m\u001b[0;34m(\u001b[0m\u001b[0mrng_key\u001b[0m\u001b[0;34m)\u001b[0m\u001b[0;34m,\u001b[0m \u001b[0;36m0\u001b[0m\u001b[0;34m,\u001b[0m \u001b[0;36m1\u001b[0m\u001b[0;34m)\u001b[0m\u001b[0;34m\u001b[0m\u001b[0;34m\u001b[0m\u001b[0m\n\u001b[0;32m--> 450\u001b[0;31m         \u001b[0minit_params\u001b[0m \u001b[0;34m=\u001b[0m \u001b[0mself\u001b[0m\u001b[0;34m.\u001b[0m\u001b[0m_init_state\u001b[0m\u001b[0;34m(\u001b[0m\u001b[0mrng_key_init_model\u001b[0m\u001b[0;34m,\u001b[0m \u001b[0mmodel_args\u001b[0m\u001b[0;34m,\u001b[0m \u001b[0mmodel_kwargs\u001b[0m\u001b[0;34m,\u001b[0m \u001b[0minit_params\u001b[0m\u001b[0;34m)\u001b[0m\u001b[0;34m\u001b[0m\u001b[0;34m\u001b[0m\u001b[0m\n\u001b[0m\u001b[1;32m    451\u001b[0m         \u001b[0;32mif\u001b[0m \u001b[0mself\u001b[0m\u001b[0;34m.\u001b[0m\u001b[0m_potential_fn\u001b[0m \u001b[0;32mand\u001b[0m \u001b[0minit_params\u001b[0m \u001b[0;32mis\u001b[0m \u001b[0;32mNone\u001b[0m\u001b[0;34m:\u001b[0m\u001b[0;34m\u001b[0m\u001b[0;34m\u001b[0m\u001b[0m\n\u001b[1;32m    452\u001b[0m             raise ValueError('Valid value of `init_params` must be provided with'\n",
      "\u001b[0;32m~/miniconda3/lib/python3.7/site-packages/numpyro/infer/hmc.py\u001b[0m in \u001b[0;36m_init_state\u001b[0;34m(self, rng_key, model_args, model_kwargs, init_params)\u001b[0m\n\u001b[1;32m    411\u001b[0m                 \u001b[0minit_strategy\u001b[0m\u001b[0;34m=\u001b[0m\u001b[0mself\u001b[0m\u001b[0;34m.\u001b[0m\u001b[0m_init_strategy\u001b[0m\u001b[0;34m,\u001b[0m\u001b[0;34m\u001b[0m\u001b[0;34m\u001b[0m\u001b[0m\n\u001b[1;32m    412\u001b[0m                 \u001b[0mmodel_args\u001b[0m\u001b[0;34m=\u001b[0m\u001b[0mmodel_args\u001b[0m\u001b[0;34m,\u001b[0m\u001b[0;34m\u001b[0m\u001b[0;34m\u001b[0m\u001b[0m\n\u001b[0;32m--> 413\u001b[0;31m                 model_kwargs=model_kwargs)\n\u001b[0m\u001b[1;32m    414\u001b[0m             \u001b[0;32mif\u001b[0m \u001b[0mself\u001b[0m\u001b[0;34m.\u001b[0m\u001b[0m_init_fn\u001b[0m \u001b[0;32mis\u001b[0m \u001b[0;32mNone\u001b[0m\u001b[0;34m:\u001b[0m\u001b[0;34m\u001b[0m\u001b[0;34m\u001b[0m\u001b[0m\n\u001b[1;32m    415\u001b[0m                 self._init_fn, self._sample_fn = hmc(potential_fn_gen=potential_fn,\n",
      "\u001b[0;32m~/miniconda3/lib/python3.7/site-packages/numpyro/infer/util.py\u001b[0m in \u001b[0;36minitialize_model\u001b[0;34m(rng_key, model, init_strategy, dynamic_args, model_args, model_kwargs)\u001b[0m\n\u001b[1;32m    428\u001b[0m                                                                   \u001b[0mmodel_args\u001b[0m\u001b[0;34m=\u001b[0m\u001b[0mmodel_args\u001b[0m\u001b[0;34m,\u001b[0m\u001b[0;34m\u001b[0m\u001b[0;34m\u001b[0m\u001b[0m\n\u001b[1;32m    429\u001b[0m                                                                   \u001b[0mmodel_kwargs\u001b[0m\u001b[0;34m=\u001b[0m\u001b[0mmodel_kwargs\u001b[0m\u001b[0;34m,\u001b[0m\u001b[0;34m\u001b[0m\u001b[0;34m\u001b[0m\u001b[0m\n\u001b[0;32m--> 430\u001b[0;31m                                                                   prototype_params=prototype_params)\n\u001b[0m\u001b[1;32m    431\u001b[0m \u001b[0;34m\u001b[0m\u001b[0m\n\u001b[1;32m    432\u001b[0m     \u001b[0;32mif\u001b[0m \u001b[0mnot_jax_tracer\u001b[0m\u001b[0;34m(\u001b[0m\u001b[0mis_valid\u001b[0m\u001b[0;34m)\u001b[0m\u001b[0;34m:\u001b[0m\u001b[0;34m\u001b[0m\u001b[0;34m\u001b[0m\u001b[0m\n",
      "\u001b[0;32m~/miniconda3/lib/python3.7/site-packages/numpyro/infer/util.py\u001b[0m in \u001b[0;36mfind_valid_initial_params\u001b[0;34m(rng_key, model, init_strategy, enum, model_args, model_kwargs, prototype_params)\u001b[0m\n\u001b[1;32m    255\u001b[0m     \u001b[0;31m# Handle possible vectorization\u001b[0m\u001b[0;34m\u001b[0m\u001b[0;34m\u001b[0m\u001b[0;34m\u001b[0m\u001b[0m\n\u001b[1;32m    256\u001b[0m     \u001b[0;32mif\u001b[0m \u001b[0mrng_key\u001b[0m\u001b[0;34m.\u001b[0m\u001b[0mndim\u001b[0m \u001b[0;34m==\u001b[0m \u001b[0;36m1\u001b[0m\u001b[0;34m:\u001b[0m\u001b[0;34m\u001b[0m\u001b[0;34m\u001b[0m\u001b[0m\n\u001b[0;32m--> 257\u001b[0;31m         \u001b[0;34m(\u001b[0m\u001b[0minit_params\u001b[0m\u001b[0;34m,\u001b[0m \u001b[0mpe\u001b[0m\u001b[0;34m,\u001b[0m \u001b[0mz_grad\u001b[0m\u001b[0;34m)\u001b[0m\u001b[0;34m,\u001b[0m \u001b[0mis_valid\u001b[0m \u001b[0;34m=\u001b[0m \u001b[0m_find_valid_params\u001b[0m\u001b[0;34m(\u001b[0m\u001b[0mrng_key\u001b[0m\u001b[0;34m,\u001b[0m \u001b[0mexit_early\u001b[0m\u001b[0;34m=\u001b[0m\u001b[0;32mTrue\u001b[0m\u001b[0;34m)\u001b[0m\u001b[0;34m\u001b[0m\u001b[0;34m\u001b[0m\u001b[0m\n\u001b[0m\u001b[1;32m    258\u001b[0m     \u001b[0;32melse\u001b[0m\u001b[0;34m:\u001b[0m\u001b[0;34m\u001b[0m\u001b[0;34m\u001b[0m\u001b[0m\n\u001b[1;32m    259\u001b[0m         \u001b[0;34m(\u001b[0m\u001b[0minit_params\u001b[0m\u001b[0;34m,\u001b[0m \u001b[0mpe\u001b[0m\u001b[0;34m,\u001b[0m \u001b[0mz_grad\u001b[0m\u001b[0;34m)\u001b[0m\u001b[0;34m,\u001b[0m \u001b[0mis_valid\u001b[0m \u001b[0;34m=\u001b[0m \u001b[0mlax\u001b[0m\u001b[0;34m.\u001b[0m\u001b[0mmap\u001b[0m\u001b[0;34m(\u001b[0m\u001b[0m_find_valid_params\u001b[0m\u001b[0;34m,\u001b[0m \u001b[0mrng_key\u001b[0m\u001b[0;34m)\u001b[0m\u001b[0;34m\u001b[0m\u001b[0;34m\u001b[0m\u001b[0m\n",
      "\u001b[0;32m~/miniconda3/lib/python3.7/site-packages/numpyro/infer/util.py\u001b[0m in \u001b[0;36m_find_valid_params\u001b[0;34m(rng_key, exit_early)\u001b[0m\n\u001b[1;32m    243\u001b[0m             \u001b[0;31m# Early return if valid params found. This is only helpful for single chain,\u001b[0m\u001b[0;34m\u001b[0m\u001b[0;34m\u001b[0m\u001b[0;34m\u001b[0m\u001b[0m\n\u001b[1;32m    244\u001b[0m             \u001b[0;31m# where we can avoid compiling body_fn in while_loop.\u001b[0m\u001b[0;34m\u001b[0m\u001b[0;34m\u001b[0m\u001b[0;34m\u001b[0m\u001b[0m\n\u001b[0;32m--> 245\u001b[0;31m             \u001b[0m_\u001b[0m\u001b[0;34m,\u001b[0m \u001b[0m_\u001b[0m\u001b[0;34m,\u001b[0m \u001b[0;34m(\u001b[0m\u001b[0minit_params\u001b[0m\u001b[0;34m,\u001b[0m \u001b[0mpe\u001b[0m\u001b[0;34m,\u001b[0m \u001b[0mz_grad\u001b[0m\u001b[0;34m)\u001b[0m\u001b[0;34m,\u001b[0m \u001b[0mis_valid\u001b[0m \u001b[0;34m=\u001b[0m \u001b[0minit_state\u001b[0m \u001b[0;34m=\u001b[0m \u001b[0mbody_fn\u001b[0m\u001b[0;34m(\u001b[0m\u001b[0minit_state\u001b[0m\u001b[0;34m)\u001b[0m\u001b[0;34m\u001b[0m\u001b[0;34m\u001b[0m\u001b[0m\n\u001b[0m\u001b[1;32m    246\u001b[0m             \u001b[0;32mif\u001b[0m \u001b[0mnot_jax_tracer\u001b[0m\u001b[0;34m(\u001b[0m\u001b[0mis_valid\u001b[0m\u001b[0;34m)\u001b[0m\u001b[0;34m:\u001b[0m\u001b[0;34m\u001b[0m\u001b[0;34m\u001b[0m\u001b[0m\n\u001b[1;32m    247\u001b[0m                 \u001b[0;32mif\u001b[0m \u001b[0mdevice_get\u001b[0m\u001b[0;34m(\u001b[0m\u001b[0mis_valid\u001b[0m\u001b[0;34m)\u001b[0m\u001b[0;34m:\u001b[0m\u001b[0;34m\u001b[0m\u001b[0;34m\u001b[0m\u001b[0m\n",
      "\u001b[0;32m~/miniconda3/lib/python3.7/site-packages/numpyro/infer/util.py\u001b[0m in \u001b[0;36mbody_fn\u001b[0;34m(state)\u001b[0m\n\u001b[1;32m    233\u001b[0m \u001b[0;34m\u001b[0m\u001b[0m\n\u001b[1;32m    234\u001b[0m         \u001b[0mpotential_fn\u001b[0m \u001b[0;34m=\u001b[0m \u001b[0mpartial\u001b[0m\u001b[0;34m(\u001b[0m\u001b[0mpotential_energy\u001b[0m\u001b[0;34m,\u001b[0m \u001b[0mmodel\u001b[0m\u001b[0;34m,\u001b[0m \u001b[0mmodel_args\u001b[0m\u001b[0;34m,\u001b[0m \u001b[0mmodel_kwargs\u001b[0m\u001b[0;34m,\u001b[0m \u001b[0menum\u001b[0m\u001b[0;34m=\u001b[0m\u001b[0menum\u001b[0m\u001b[0;34m)\u001b[0m\u001b[0;34m\u001b[0m\u001b[0;34m\u001b[0m\u001b[0m\n\u001b[0;32m--> 235\u001b[0;31m         \u001b[0mpe\u001b[0m\u001b[0;34m,\u001b[0m \u001b[0mz_grad\u001b[0m \u001b[0;34m=\u001b[0m \u001b[0mvalue_and_grad\u001b[0m\u001b[0;34m(\u001b[0m\u001b[0mpotential_fn\u001b[0m\u001b[0;34m)\u001b[0m\u001b[0;34m(\u001b[0m\u001b[0mparams\u001b[0m\u001b[0;34m)\u001b[0m\u001b[0;34m\u001b[0m\u001b[0;34m\u001b[0m\u001b[0m\n\u001b[0m\u001b[1;32m    236\u001b[0m         \u001b[0mz_grad_flat\u001b[0m \u001b[0;34m=\u001b[0m \u001b[0mravel_pytree\u001b[0m\u001b[0;34m(\u001b[0m\u001b[0mz_grad\u001b[0m\u001b[0;34m)\u001b[0m\u001b[0;34m[\u001b[0m\u001b[0;36m0\u001b[0m\u001b[0;34m]\u001b[0m\u001b[0;34m\u001b[0m\u001b[0;34m\u001b[0m\u001b[0m\n\u001b[1;32m    237\u001b[0m         \u001b[0mis_valid\u001b[0m \u001b[0;34m=\u001b[0m \u001b[0mjnp\u001b[0m\u001b[0;34m.\u001b[0m\u001b[0misfinite\u001b[0m\u001b[0;34m(\u001b[0m\u001b[0mpe\u001b[0m\u001b[0;34m)\u001b[0m \u001b[0;34m&\u001b[0m \u001b[0mjnp\u001b[0m\u001b[0;34m.\u001b[0m\u001b[0mall\u001b[0m\u001b[0;34m(\u001b[0m\u001b[0mjnp\u001b[0m\u001b[0;34m.\u001b[0m\u001b[0misfinite\u001b[0m\u001b[0;34m(\u001b[0m\u001b[0mz_grad_flat\u001b[0m\u001b[0;34m)\u001b[0m\u001b[0;34m)\u001b[0m\u001b[0;34m\u001b[0m\u001b[0;34m\u001b[0m\u001b[0m\n",
      "\u001b[0;32m~/miniconda3/lib/python3.7/site-packages/jax/traceback_util.py\u001b[0m in \u001b[0;36mreraise_with_filtered_traceback\u001b[0;34m(*args, **kwargs)\u001b[0m\n\u001b[1;32m    137\u001b[0m   \u001b[0;32mdef\u001b[0m \u001b[0mreraise_with_filtered_traceback\u001b[0m\u001b[0;34m(\u001b[0m\u001b[0;34m*\u001b[0m\u001b[0margs\u001b[0m\u001b[0;34m,\u001b[0m \u001b[0;34m**\u001b[0m\u001b[0mkwargs\u001b[0m\u001b[0;34m)\u001b[0m\u001b[0;34m:\u001b[0m\u001b[0;34m\u001b[0m\u001b[0;34m\u001b[0m\u001b[0m\n\u001b[1;32m    138\u001b[0m     \u001b[0;32mtry\u001b[0m\u001b[0;34m:\u001b[0m\u001b[0;34m\u001b[0m\u001b[0;34m\u001b[0m\u001b[0m\n\u001b[0;32m--> 139\u001b[0;31m       \u001b[0;32mreturn\u001b[0m \u001b[0mfun\u001b[0m\u001b[0;34m(\u001b[0m\u001b[0;34m*\u001b[0m\u001b[0margs\u001b[0m\u001b[0;34m,\u001b[0m \u001b[0;34m**\u001b[0m\u001b[0mkwargs\u001b[0m\u001b[0;34m)\u001b[0m\u001b[0;34m\u001b[0m\u001b[0;34m\u001b[0m\u001b[0m\n\u001b[0m\u001b[1;32m    140\u001b[0m     \u001b[0;32mexcept\u001b[0m \u001b[0mException\u001b[0m \u001b[0;32mas\u001b[0m \u001b[0me\u001b[0m\u001b[0;34m:\u001b[0m\u001b[0;34m\u001b[0m\u001b[0;34m\u001b[0m\u001b[0m\n\u001b[1;32m    141\u001b[0m       \u001b[0;32mif\u001b[0m \u001b[0;32mnot\u001b[0m \u001b[0mis_under_reraiser\u001b[0m\u001b[0;34m(\u001b[0m\u001b[0me\u001b[0m\u001b[0;34m)\u001b[0m\u001b[0;34m:\u001b[0m\u001b[0;34m\u001b[0m\u001b[0;34m\u001b[0m\u001b[0m\n",
      "\u001b[0;32m~/miniconda3/lib/python3.7/site-packages/jax/api.py\u001b[0m in \u001b[0;36mvalue_and_grad_f\u001b[0;34m(*args, **kwargs)\u001b[0m\n\u001b[1;32m    808\u001b[0m     \u001b[0mtree_map\u001b[0m\u001b[0;34m(\u001b[0m\u001b[0mpartial\u001b[0m\u001b[0;34m(\u001b[0m\u001b[0m_check_input_dtype_grad\u001b[0m\u001b[0;34m,\u001b[0m \u001b[0mholomorphic\u001b[0m\u001b[0;34m,\u001b[0m \u001b[0mallow_int\u001b[0m\u001b[0;34m)\u001b[0m\u001b[0;34m,\u001b[0m \u001b[0mdyn_args\u001b[0m\u001b[0;34m)\u001b[0m\u001b[0;34m\u001b[0m\u001b[0;34m\u001b[0m\u001b[0m\n\u001b[1;32m    809\u001b[0m     \u001b[0;32mif\u001b[0m \u001b[0;32mnot\u001b[0m \u001b[0mhas_aux\u001b[0m\u001b[0;34m:\u001b[0m\u001b[0;34m\u001b[0m\u001b[0;34m\u001b[0m\u001b[0m\n\u001b[0;32m--> 810\u001b[0;31m       \u001b[0mans\u001b[0m\u001b[0;34m,\u001b[0m \u001b[0mvjp_py\u001b[0m \u001b[0;34m=\u001b[0m \u001b[0m_vjp\u001b[0m\u001b[0;34m(\u001b[0m\u001b[0mf_partial\u001b[0m\u001b[0;34m,\u001b[0m \u001b[0;34m*\u001b[0m\u001b[0mdyn_args\u001b[0m\u001b[0;34m)\u001b[0m\u001b[0;34m\u001b[0m\u001b[0;34m\u001b[0m\u001b[0m\n\u001b[0m\u001b[1;32m    811\u001b[0m     \u001b[0;32melse\u001b[0m\u001b[0;34m:\u001b[0m\u001b[0;34m\u001b[0m\u001b[0;34m\u001b[0m\u001b[0m\n\u001b[1;32m    812\u001b[0m       \u001b[0mans\u001b[0m\u001b[0;34m,\u001b[0m \u001b[0mvjp_py\u001b[0m\u001b[0;34m,\u001b[0m \u001b[0maux\u001b[0m \u001b[0;34m=\u001b[0m \u001b[0m_vjp\u001b[0m\u001b[0;34m(\u001b[0m\u001b[0mf_partial\u001b[0m\u001b[0;34m,\u001b[0m \u001b[0;34m*\u001b[0m\u001b[0mdyn_args\u001b[0m\u001b[0;34m,\u001b[0m \u001b[0mhas_aux\u001b[0m\u001b[0;34m=\u001b[0m\u001b[0;32mTrue\u001b[0m\u001b[0;34m)\u001b[0m\u001b[0;34m\u001b[0m\u001b[0;34m\u001b[0m\u001b[0m\n",
      "\u001b[0;32m~/miniconda3/lib/python3.7/site-packages/jax/api.py\u001b[0m in \u001b[0;36m_vjp\u001b[0;34m(fun, has_aux, *primals)\u001b[0m\n\u001b[1;32m   1839\u001b[0m   \u001b[0;32mif\u001b[0m \u001b[0;32mnot\u001b[0m \u001b[0mhas_aux\u001b[0m\u001b[0;34m:\u001b[0m\u001b[0;34m\u001b[0m\u001b[0;34m\u001b[0m\u001b[0m\n\u001b[1;32m   1840\u001b[0m     \u001b[0mflat_fun\u001b[0m\u001b[0;34m,\u001b[0m \u001b[0mout_tree\u001b[0m \u001b[0;34m=\u001b[0m \u001b[0mflatten_fun_nokwargs\u001b[0m\u001b[0;34m(\u001b[0m\u001b[0mfun\u001b[0m\u001b[0;34m,\u001b[0m \u001b[0min_tree\u001b[0m\u001b[0;34m)\u001b[0m\u001b[0;34m\u001b[0m\u001b[0;34m\u001b[0m\u001b[0m\n\u001b[0;32m-> 1841\u001b[0;31m     \u001b[0mout_primal\u001b[0m\u001b[0;34m,\u001b[0m \u001b[0mout_vjp\u001b[0m \u001b[0;34m=\u001b[0m \u001b[0mad\u001b[0m\u001b[0;34m.\u001b[0m\u001b[0mvjp\u001b[0m\u001b[0;34m(\u001b[0m\u001b[0mflat_fun\u001b[0m\u001b[0;34m,\u001b[0m \u001b[0mprimals_flat\u001b[0m\u001b[0;34m)\u001b[0m\u001b[0;34m\u001b[0m\u001b[0;34m\u001b[0m\u001b[0m\n\u001b[0m\u001b[1;32m   1842\u001b[0m     \u001b[0mout_tree\u001b[0m \u001b[0;34m=\u001b[0m \u001b[0mout_tree\u001b[0m\u001b[0;34m(\u001b[0m\u001b[0;34m)\u001b[0m\u001b[0;34m\u001b[0m\u001b[0;34m\u001b[0m\u001b[0m\n\u001b[1;32m   1843\u001b[0m   \u001b[0;32melse\u001b[0m\u001b[0;34m:\u001b[0m\u001b[0;34m\u001b[0m\u001b[0;34m\u001b[0m\u001b[0m\n",
      "\u001b[0;32m~/miniconda3/lib/python3.7/site-packages/jax/interpreters/ad.py\u001b[0m in \u001b[0;36mvjp\u001b[0;34m(traceable, primals, has_aux)\u001b[0m\n\u001b[1;32m    111\u001b[0m \u001b[0;32mdef\u001b[0m \u001b[0mvjp\u001b[0m\u001b[0;34m(\u001b[0m\u001b[0mtraceable\u001b[0m\u001b[0;34m,\u001b[0m \u001b[0mprimals\u001b[0m\u001b[0;34m,\u001b[0m \u001b[0mhas_aux\u001b[0m\u001b[0;34m=\u001b[0m\u001b[0;32mFalse\u001b[0m\u001b[0;34m)\u001b[0m\u001b[0;34m:\u001b[0m\u001b[0;34m\u001b[0m\u001b[0;34m\u001b[0m\u001b[0m\n\u001b[1;32m    112\u001b[0m   \u001b[0;32mif\u001b[0m \u001b[0;32mnot\u001b[0m \u001b[0mhas_aux\u001b[0m\u001b[0;34m:\u001b[0m\u001b[0;34m\u001b[0m\u001b[0;34m\u001b[0m\u001b[0m\n\u001b[0;32m--> 113\u001b[0;31m     \u001b[0mout_primals\u001b[0m\u001b[0;34m,\u001b[0m \u001b[0mpvals\u001b[0m\u001b[0;34m,\u001b[0m \u001b[0mjaxpr\u001b[0m\u001b[0;34m,\u001b[0m \u001b[0mconsts\u001b[0m \u001b[0;34m=\u001b[0m \u001b[0mlinearize\u001b[0m\u001b[0;34m(\u001b[0m\u001b[0mtraceable\u001b[0m\u001b[0;34m,\u001b[0m \u001b[0;34m*\u001b[0m\u001b[0mprimals\u001b[0m\u001b[0;34m)\u001b[0m\u001b[0;34m\u001b[0m\u001b[0;34m\u001b[0m\u001b[0m\n\u001b[0m\u001b[1;32m    114\u001b[0m   \u001b[0;32melse\u001b[0m\u001b[0;34m:\u001b[0m\u001b[0;34m\u001b[0m\u001b[0;34m\u001b[0m\u001b[0m\n\u001b[1;32m    115\u001b[0m     \u001b[0mout_primals\u001b[0m\u001b[0;34m,\u001b[0m \u001b[0mpvals\u001b[0m\u001b[0;34m,\u001b[0m \u001b[0mjaxpr\u001b[0m\u001b[0;34m,\u001b[0m \u001b[0mconsts\u001b[0m\u001b[0;34m,\u001b[0m \u001b[0maux\u001b[0m \u001b[0;34m=\u001b[0m \u001b[0mlinearize\u001b[0m\u001b[0;34m(\u001b[0m\u001b[0mtraceable\u001b[0m\u001b[0;34m,\u001b[0m \u001b[0;34m*\u001b[0m\u001b[0mprimals\u001b[0m\u001b[0;34m,\u001b[0m \u001b[0mhas_aux\u001b[0m\u001b[0;34m=\u001b[0m\u001b[0;32mTrue\u001b[0m\u001b[0;34m)\u001b[0m\u001b[0;34m\u001b[0m\u001b[0;34m\u001b[0m\u001b[0m\n",
      "\u001b[0;32m~/miniconda3/lib/python3.7/site-packages/jax/interpreters/ad.py\u001b[0m in \u001b[0;36mlinearize\u001b[0;34m(traceable, *primals, **kwargs)\u001b[0m\n\u001b[1;32m     98\u001b[0m   \u001b[0m_\u001b[0m\u001b[0;34m,\u001b[0m \u001b[0min_tree\u001b[0m \u001b[0;34m=\u001b[0m \u001b[0mtree_flatten\u001b[0m\u001b[0;34m(\u001b[0m\u001b[0;34m(\u001b[0m\u001b[0;34m(\u001b[0m\u001b[0mprimals\u001b[0m\u001b[0;34m,\u001b[0m \u001b[0mprimals\u001b[0m\u001b[0;34m)\u001b[0m\u001b[0;34m,\u001b[0m \u001b[0;34m{\u001b[0m\u001b[0;34m}\u001b[0m\u001b[0;34m)\u001b[0m\u001b[0;34m)\u001b[0m\u001b[0;34m\u001b[0m\u001b[0;34m\u001b[0m\u001b[0m\n\u001b[1;32m     99\u001b[0m   \u001b[0mjvpfun_flat\u001b[0m\u001b[0;34m,\u001b[0m \u001b[0mout_tree\u001b[0m \u001b[0;34m=\u001b[0m \u001b[0mflatten_fun\u001b[0m\u001b[0;34m(\u001b[0m\u001b[0mjvpfun\u001b[0m\u001b[0;34m,\u001b[0m \u001b[0min_tree\u001b[0m\u001b[0;34m)\u001b[0m\u001b[0;34m\u001b[0m\u001b[0;34m\u001b[0m\u001b[0m\n\u001b[0;32m--> 100\u001b[0;31m   \u001b[0mjaxpr\u001b[0m\u001b[0;34m,\u001b[0m \u001b[0mout_pvals\u001b[0m\u001b[0;34m,\u001b[0m \u001b[0mconsts\u001b[0m \u001b[0;34m=\u001b[0m \u001b[0mpe\u001b[0m\u001b[0;34m.\u001b[0m\u001b[0mtrace_to_jaxpr\u001b[0m\u001b[0;34m(\u001b[0m\u001b[0mjvpfun_flat\u001b[0m\u001b[0;34m,\u001b[0m \u001b[0min_pvals\u001b[0m\u001b[0;34m)\u001b[0m\u001b[0;34m\u001b[0m\u001b[0;34m\u001b[0m\u001b[0m\n\u001b[0m\u001b[1;32m    101\u001b[0m   \u001b[0mout_primals_pvals\u001b[0m\u001b[0;34m,\u001b[0m \u001b[0mout_tangents_pvals\u001b[0m \u001b[0;34m=\u001b[0m \u001b[0mtree_unflatten\u001b[0m\u001b[0;34m(\u001b[0m\u001b[0mout_tree\u001b[0m\u001b[0;34m(\u001b[0m\u001b[0;34m)\u001b[0m\u001b[0;34m,\u001b[0m \u001b[0mout_pvals\u001b[0m\u001b[0;34m)\u001b[0m\u001b[0;34m\u001b[0m\u001b[0;34m\u001b[0m\u001b[0m\n\u001b[1;32m    102\u001b[0m   \u001b[0;32massert\u001b[0m \u001b[0mall\u001b[0m\u001b[0;34m(\u001b[0m\u001b[0mout_primal_pval\u001b[0m\u001b[0;34m.\u001b[0m\u001b[0mis_known\u001b[0m\u001b[0;34m(\u001b[0m\u001b[0;34m)\u001b[0m \u001b[0;32mfor\u001b[0m \u001b[0mout_primal_pval\u001b[0m \u001b[0;32min\u001b[0m \u001b[0mout_primals_pvals\u001b[0m\u001b[0;34m)\u001b[0m\u001b[0;34m\u001b[0m\u001b[0;34m\u001b[0m\u001b[0m\n",
      "\u001b[0;32m~/miniconda3/lib/python3.7/site-packages/jax/interpreters/partial_eval.py\u001b[0m in \u001b[0;36mtrace_to_jaxpr\u001b[0;34m(fun, pvals, instantiate)\u001b[0m\n\u001b[1;32m    402\u001b[0m   \u001b[0;32mwith\u001b[0m \u001b[0mcore\u001b[0m\u001b[0;34m.\u001b[0m\u001b[0mnew_main\u001b[0m\u001b[0;34m(\u001b[0m\u001b[0mJaxprTrace\u001b[0m\u001b[0;34m)\u001b[0m \u001b[0;32mas\u001b[0m \u001b[0mmain\u001b[0m\u001b[0;34m:\u001b[0m\u001b[0;34m\u001b[0m\u001b[0;34m\u001b[0m\u001b[0m\n\u001b[1;32m    403\u001b[0m     \u001b[0mfun\u001b[0m \u001b[0;34m=\u001b[0m \u001b[0mtrace_to_subjaxpr\u001b[0m\u001b[0;34m(\u001b[0m\u001b[0mfun\u001b[0m\u001b[0;34m,\u001b[0m \u001b[0mmain\u001b[0m\u001b[0;34m,\u001b[0m \u001b[0minstantiate\u001b[0m\u001b[0;34m)\u001b[0m\u001b[0;34m\u001b[0m\u001b[0;34m\u001b[0m\u001b[0m\n\u001b[0;32m--> 404\u001b[0;31m     \u001b[0mjaxpr\u001b[0m\u001b[0;34m,\u001b[0m \u001b[0;34m(\u001b[0m\u001b[0mout_pvals\u001b[0m\u001b[0;34m,\u001b[0m \u001b[0mconsts\u001b[0m\u001b[0;34m,\u001b[0m \u001b[0menv\u001b[0m\u001b[0;34m)\u001b[0m \u001b[0;34m=\u001b[0m \u001b[0mfun\u001b[0m\u001b[0;34m.\u001b[0m\u001b[0mcall_wrapped\u001b[0m\u001b[0;34m(\u001b[0m\u001b[0mpvals\u001b[0m\u001b[0;34m)\u001b[0m\u001b[0;34m\u001b[0m\u001b[0;34m\u001b[0m\u001b[0m\n\u001b[0m\u001b[1;32m    405\u001b[0m     \u001b[0;32massert\u001b[0m \u001b[0;32mnot\u001b[0m \u001b[0menv\u001b[0m\u001b[0;34m\u001b[0m\u001b[0;34m\u001b[0m\u001b[0m\n\u001b[1;32m    406\u001b[0m     \u001b[0;32mdel\u001b[0m \u001b[0mmain\u001b[0m\u001b[0;34m\u001b[0m\u001b[0;34m\u001b[0m\u001b[0m\n",
      "\u001b[0;32m~/miniconda3/lib/python3.7/site-packages/jax/linear_util.py\u001b[0m in \u001b[0;36mcall_wrapped\u001b[0;34m(self, *args, **kwargs)\u001b[0m\n\u001b[1;32m    154\u001b[0m \u001b[0;34m\u001b[0m\u001b[0m\n\u001b[1;32m    155\u001b[0m     \u001b[0;32mtry\u001b[0m\u001b[0;34m:\u001b[0m\u001b[0;34m\u001b[0m\u001b[0;34m\u001b[0m\u001b[0m\n\u001b[0;32m--> 156\u001b[0;31m       \u001b[0mans\u001b[0m \u001b[0;34m=\u001b[0m \u001b[0mself\u001b[0m\u001b[0;34m.\u001b[0m\u001b[0mf\u001b[0m\u001b[0;34m(\u001b[0m\u001b[0;34m*\u001b[0m\u001b[0margs\u001b[0m\u001b[0;34m,\u001b[0m \u001b[0;34m**\u001b[0m\u001b[0mdict\u001b[0m\u001b[0;34m(\u001b[0m\u001b[0mself\u001b[0m\u001b[0;34m.\u001b[0m\u001b[0mparams\u001b[0m\u001b[0;34m,\u001b[0m \u001b[0;34m**\u001b[0m\u001b[0mkwargs\u001b[0m\u001b[0;34m)\u001b[0m\u001b[0;34m)\u001b[0m\u001b[0;34m\u001b[0m\u001b[0;34m\u001b[0m\u001b[0m\n\u001b[0m\u001b[1;32m    157\u001b[0m     \u001b[0;32mexcept\u001b[0m\u001b[0;34m:\u001b[0m\u001b[0;34m\u001b[0m\u001b[0;34m\u001b[0m\u001b[0m\n\u001b[1;32m    158\u001b[0m       \u001b[0;31m# Some transformations yield from inside context managers, so we have to\u001b[0m\u001b[0;34m\u001b[0m\u001b[0;34m\u001b[0m\u001b[0;34m\u001b[0m\u001b[0m\n",
      "\u001b[0;32m~/miniconda3/lib/python3.7/site-packages/numpyro/infer/util.py\u001b[0m in \u001b[0;36mpotential_energy\u001b[0;34m(model, model_args, model_kwargs, params, enum)\u001b[0m\n\u001b[1;32m    155\u001b[0m     \u001b[0msubstituted_model\u001b[0m \u001b[0;34m=\u001b[0m \u001b[0msubstitute\u001b[0m\u001b[0;34m(\u001b[0m\u001b[0mmodel\u001b[0m\u001b[0;34m,\u001b[0m \u001b[0msubstitute_fn\u001b[0m\u001b[0;34m=\u001b[0m\u001b[0mpartial\u001b[0m\u001b[0;34m(\u001b[0m\u001b[0m_unconstrain_reparam\u001b[0m\u001b[0;34m,\u001b[0m \u001b[0mparams\u001b[0m\u001b[0;34m)\u001b[0m\u001b[0;34m)\u001b[0m\u001b[0;34m\u001b[0m\u001b[0;34m\u001b[0m\u001b[0m\n\u001b[1;32m    156\u001b[0m     \u001b[0;31m# no param is needed for log_density computation because we already substitute\u001b[0m\u001b[0;34m\u001b[0m\u001b[0;34m\u001b[0m\u001b[0;34m\u001b[0m\u001b[0m\n\u001b[0;32m--> 157\u001b[0;31m     \u001b[0mlog_joint\u001b[0m\u001b[0;34m,\u001b[0m \u001b[0mmodel_trace\u001b[0m \u001b[0;34m=\u001b[0m \u001b[0mlog_density_\u001b[0m\u001b[0;34m(\u001b[0m\u001b[0msubstituted_model\u001b[0m\u001b[0;34m,\u001b[0m \u001b[0mmodel_args\u001b[0m\u001b[0;34m,\u001b[0m \u001b[0mmodel_kwargs\u001b[0m\u001b[0;34m,\u001b[0m \u001b[0;34m{\u001b[0m\u001b[0;34m}\u001b[0m\u001b[0;34m)\u001b[0m\u001b[0;34m\u001b[0m\u001b[0;34m\u001b[0m\u001b[0m\n\u001b[0m\u001b[1;32m    158\u001b[0m     \u001b[0;32mreturn\u001b[0m \u001b[0;34m-\u001b[0m \u001b[0mlog_joint\u001b[0m\u001b[0;34m\u001b[0m\u001b[0;34m\u001b[0m\u001b[0m\n\u001b[1;32m    159\u001b[0m \u001b[0;34m\u001b[0m\u001b[0m\n",
      "\u001b[0;32m~/miniconda3/lib/python3.7/site-packages/numpyro/contrib/funsor/infer_util.py\u001b[0m in \u001b[0;36mlog_density\u001b[0;34m(model, model_args, model_kwargs, params)\u001b[0m\n\u001b[1;32m    142\u001b[0m \u001b[0;34m\u001b[0m\u001b[0m\n\u001b[1;32m    143\u001b[0m             \u001b[0mdim_to_name\u001b[0m \u001b[0;34m=\u001b[0m \u001b[0msite\u001b[0m\u001b[0;34m[\u001b[0m\u001b[0;34m\"infer\"\u001b[0m\u001b[0;34m]\u001b[0m\u001b[0;34m[\u001b[0m\u001b[0;34m\"dim_to_name\"\u001b[0m\u001b[0;34m]\u001b[0m\u001b[0;34m\u001b[0m\u001b[0;34m\u001b[0m\u001b[0m\n\u001b[0;32m--> 144\u001b[0;31m             \u001b[0mlog_prob\u001b[0m \u001b[0;34m=\u001b[0m \u001b[0mfunsor\u001b[0m\u001b[0;34m.\u001b[0m\u001b[0mto_funsor\u001b[0m\u001b[0;34m(\u001b[0m\u001b[0mlog_prob\u001b[0m\u001b[0;34m,\u001b[0m \u001b[0moutput\u001b[0m\u001b[0;34m=\u001b[0m\u001b[0mfunsor\u001b[0m\u001b[0;34m.\u001b[0m\u001b[0mreals\u001b[0m\u001b[0;34m(\u001b[0m\u001b[0;34m)\u001b[0m\u001b[0;34m,\u001b[0m \u001b[0mdim_to_name\u001b[0m\u001b[0;34m=\u001b[0m\u001b[0mdim_to_name\u001b[0m\u001b[0;34m)\u001b[0m\u001b[0;34m\u001b[0m\u001b[0;34m\u001b[0m\u001b[0m\n\u001b[0m\u001b[1;32m    145\u001b[0m \u001b[0;34m\u001b[0m\u001b[0m\n\u001b[1;32m    146\u001b[0m             \u001b[0mtime_dim\u001b[0m \u001b[0;34m=\u001b[0m \u001b[0;32mNone\u001b[0m\u001b[0;34m\u001b[0m\u001b[0;34m\u001b[0m\u001b[0m\n",
      "\u001b[0;32m~/miniconda3/lib/python3.7/functools.py\u001b[0m in \u001b[0;36mwrapper\u001b[0;34m(*args, **kw)\u001b[0m\n\u001b[1;32m    838\u001b[0m                             '1 positional argument')\n\u001b[1;32m    839\u001b[0m \u001b[0;34m\u001b[0m\u001b[0m\n\u001b[0;32m--> 840\u001b[0;31m         \u001b[0;32mreturn\u001b[0m \u001b[0mdispatch\u001b[0m\u001b[0;34m(\u001b[0m\u001b[0margs\u001b[0m\u001b[0;34m[\u001b[0m\u001b[0;36m0\u001b[0m\u001b[0;34m]\u001b[0m\u001b[0;34m.\u001b[0m\u001b[0m__class__\u001b[0m\u001b[0;34m)\u001b[0m\u001b[0;34m(\u001b[0m\u001b[0;34m*\u001b[0m\u001b[0margs\u001b[0m\u001b[0;34m,\u001b[0m \u001b[0;34m**\u001b[0m\u001b[0mkw\u001b[0m\u001b[0;34m)\u001b[0m\u001b[0;34m\u001b[0m\u001b[0;34m\u001b[0m\u001b[0m\n\u001b[0m\u001b[1;32m    841\u001b[0m \u001b[0;34m\u001b[0m\u001b[0m\n\u001b[1;32m    842\u001b[0m     \u001b[0mfuncname\u001b[0m \u001b[0;34m=\u001b[0m \u001b[0mgetattr\u001b[0m\u001b[0;34m(\u001b[0m\u001b[0mfunc\u001b[0m\u001b[0;34m,\u001b[0m \u001b[0;34m'__name__'\u001b[0m\u001b[0;34m,\u001b[0m \u001b[0;34m'singledispatch function'\u001b[0m\u001b[0;34m)\u001b[0m\u001b[0;34m\u001b[0m\u001b[0;34m\u001b[0m\u001b[0m\n",
      "\u001b[0;32m~/miniconda3/lib/python3.7/site-packages/funsor/tensor.py\u001b[0m in \u001b[0;36mtensor_to_funsor\u001b[0;34m(x, output, dim_to_name)\u001b[0m\n\u001b[1;32m    431\u001b[0m         \u001b[0;32mif\u001b[0m \u001b[0mresult\u001b[0m\u001b[0;34m.\u001b[0m\u001b[0moutput\u001b[0m \u001b[0;34m!=\u001b[0m \u001b[0moutput\u001b[0m\u001b[0;34m:\u001b[0m\u001b[0;34m\u001b[0m\u001b[0;34m\u001b[0m\u001b[0m\n\u001b[1;32m    432\u001b[0m             raise ValueError(\"Invalid shape: expected {}, actual {}\"\n\u001b[0;32m--> 433\u001b[0;31m                              .format(output.shape, result.output.shape))\n\u001b[0m\u001b[1;32m    434\u001b[0m         \u001b[0;32mreturn\u001b[0m \u001b[0mresult\u001b[0m\u001b[0;34m\u001b[0m\u001b[0;34m\u001b[0m\u001b[0m\n\u001b[1;32m    435\u001b[0m     \u001b[0;32melse\u001b[0m\u001b[0;34m:\u001b[0m\u001b[0;34m\u001b[0m\u001b[0;34m\u001b[0m\u001b[0m\n",
      "\u001b[0;31mValueError\u001b[0m: Invalid shape: expected (), actual (1,)"
     ]
    }
   ],
   "source": [
    "\n",
    "init_rng_key = random.PRNGKey(12273)\n",
    "mcmcAf1 = MCMC(NUTS(model1), 100, 1000)\n",
    "mcmcAf1.run(init_rng_key, altCounts)\n",
    "mcmcAf1.print_summary()"
   ]
  },
  {
   "cell_type": "code",
   "execution_count": null,
   "metadata": {},
   "outputs": [],
   "source": [
    "# 1/3rd as fast as not having deterministic\n",
    "# this runs after mcmc fits, not during\n",
    "def postprocess(arg):\n",
    "    print(\"postprocess arg\", arg)\n",
    "    return arg\n",
    "init_rng_key = random.PRNGKey(12273)\n",
    "mcmcAf = MCMC(NUTS(model), 100, 1000, jit_model_args=True, chain_method='vectorized')\n",
    "mcmcAf.run(init_rng_key, altCounts)\n",
    "mcmcAf.print_summary()"
   ]
  },
  {
   "cell_type": "code",
   "execution_count": 136,
   "metadata": {},
   "outputs": [
    {
     "output_type": "stream",
     "name": "stderr",
     "text": [
      "sample: 100%|██████████| 1100/1100 [1:09:18<00:00,  3.78s/it, 1023 steps of size 2.59e-03. acc. prob=0.96]\n",
      "\n",
      "                mean       std    median      5.0%     95.0%     n_eff     r_hat\n",
      "   beta[0]      0.06      0.02      0.06      0.04      0.08    182.37      1.02\n",
      "   beta[1]      0.06      0.02      0.06      0.03      0.09    554.89      1.00\n",
      "   beta[2]      0.84      0.02      0.84      0.82      0.87    237.63      1.01\n",
      "   beta[3]      1.00      0.02      1.00      1.00      1.00     82.88      1.01\n",
      "   beta[4]      0.97      0.12      1.00      0.95      1.00    578.65      1.00\n",
      " conc[0,0]  13038.64   6610.88  12191.86   3517.39  22582.26    238.56      1.00\n",
      " conc[0,1]  13208.51   6665.31  12331.29   3197.41  22323.45    214.97      1.00\n",
      " conc[0,2]  11838.03   6013.15  10940.42   2562.97  19598.51    236.72      1.00\n",
      " conc[0,3]   3742.90   1910.92   3465.25    883.32   6308.56    222.31      1.00\n",
      " conc[1,0]  18195.71  10058.86  16654.11   1962.22  31259.45    927.89      1.00\n",
      " conc[1,1]   4165.48   2420.84   3671.19    605.06   7640.05    869.25      1.00\n",
      " conc[1,2]  13379.18   7324.18  12084.12   3176.73  24535.75    894.83      1.00\n",
      " conc[1,3]   3662.75   2024.90   3321.55    669.33   6457.35    854.59      1.00\n",
      " conc[2,0]  23536.36  11859.43  21505.21   4850.19  40066.94    378.71      1.00\n",
      " conc[2,1]   6880.98   3478.00   6283.32   1704.21  12122.95    381.32      1.00\n",
      " conc[2,2]   7142.99   3580.63   6544.04   1797.04  12478.14    369.07      1.00\n",
      " conc[2,3]   1814.33    917.11   1674.34    472.40   3193.94    372.12      1.00\n",
      " conc[3,0]  16149.29   7726.91  14786.45   5149.86  27877.27    227.25      1.00\n",
      " conc[3,1]  15632.82   7413.57  14387.15   4355.78  26597.31    226.09      1.00\n",
      " conc[3,2]   5046.70   2430.15   4585.91   1817.51   8987.92    219.15      1.01\n",
      " conc[3,3]   4087.32   1944.95   3751.11   1215.08   6996.37    228.41      1.00\n",
      " conc[4,0]   9535.68   9023.30   6582.08     31.32  21763.19    150.48      1.03\n",
      " conc[4,1]  11294.98  11105.98   7830.76     10.96  26605.63    132.47      1.01\n",
      " conc[4,2]  10491.68  11273.04   6721.57     47.21  26057.35    179.74      1.01\n",
      " conc[4,3]   9223.83   9627.62   5861.19     18.94  22218.44    328.80      1.00\n",
      " conc[5,0]  10431.85  10108.17   7404.14     44.34  23121.95    350.36      1.00\n",
      " conc[5,1]  10583.49   9822.52   7364.93     52.61  24555.35    829.76      1.00\n",
      " conc[5,2]   9329.22   9362.37   6594.94      7.48  21676.10    156.68      1.00\n",
      " conc[5,3]  10241.00   9296.36   7831.16     22.47  22973.07    242.81      1.00\n",
      "probs[0,0]      0.31      0.02      0.31      0.28      0.34    154.59      1.01\n",
      "probs[0,1]      0.32      0.02      0.32      0.29      0.35    250.69      1.00\n",
      "probs[0,2]      0.28      0.02      0.28      0.25      0.31    242.22      1.01\n",
      "probs[0,3]      0.09      0.01      0.09      0.08      0.10    591.47      1.00\n",
      "probs[1,0]      0.46      0.02      0.46      0.42      0.50    665.55      1.00\n",
      "probs[1,1]      0.11      0.02      0.10      0.08      0.13    520.31      1.00\n",
      "probs[1,2]      0.34      0.02      0.34      0.31      0.38    633.06      1.00\n",
      "probs[1,3]      0.09      0.01      0.09      0.08      0.11    687.62      1.00\n",
      "probs[2,0]      0.60      0.00      0.60      0.59      0.60    796.16      1.00\n",
      "probs[2,1]      0.17      0.00      0.17      0.17      0.18    662.69      1.00\n",
      "probs[2,2]      0.18      0.00      0.18      0.18      0.19    566.08      1.00\n",
      "probs[2,3]      0.05      0.00      0.05      0.04      0.05    752.87      1.00\n",
      "probs[3,0]      0.39      0.01      0.39      0.38      0.41    631.37      1.00\n",
      "probs[3,1]      0.38      0.01      0.38      0.37      0.40    420.84      1.00\n",
      "probs[3,2]      0.12      0.01      0.12      0.11      0.14    256.20      1.01\n",
      "probs[3,3]      0.10      0.00      0.10      0.09      0.11   1169.43      1.00\n",
      "probs[4,0]      0.24      0.18      0.19      0.00      0.50    121.47      1.03\n",
      "probs[4,1]      0.28      0.20      0.24      0.00      0.59     90.87      1.02\n",
      "probs[4,2]      0.26      0.21      0.21      0.00      0.57     99.50      1.01\n",
      "probs[4,3]      0.23      0.19      0.17      0.00      0.52    140.26      1.01\n",
      "probs[5,0]      0.26      0.19      0.22      0.00      0.55    202.45      1.01\n",
      "probs[5,1]      0.26      0.18      0.22      0.01      0.53    398.91      1.00\n",
      "probs[5,2]      0.22      0.18      0.19      0.00      0.49    128.38      1.00\n",
      "probs[5,3]      0.25      0.19      0.22      0.00      0.53    213.25      1.02\n",
      "\n",
      "Number of divergences: 0\n"
     ]
    }
   ],
   "source": [
    "# 1/3rd as fast as not having deterministic\n",
    "# this runs after mcmc fits, not during\n",
    "def postprocess(arg):\n",
    "    print(\"postprocess arg\", arg)\n",
    "    return arg\n",
    "init_rng_key = random.PRNGKey(12273)\n",
    "mcmcAf = MCMC(NUTS(model), 100, 1000, jit_model_args=True, chain_method='vectorized')\n",
    "mcmcAf.run(init_rng_key, altCounts)\n",
    "mcmcAf.print_summary()"
   ]
  },
  {
   "cell_type": "code",
   "execution_count": 137,
   "metadata": {},
   "outputs": [
    {
     "output_type": "stream",
     "name": "stdout",
     "text": [
      "[[0.31155055 0.31563388 0.2833775  0.08943807]\n",
      " [0.46183678 0.10544625 0.33964039 0.09307659]\n",
      " [0.59777092 0.17466671 0.18151134 0.04605103]\n",
      " [0.39448879 0.38222496 0.12336955 0.0999167 ]\n",
      " [0.23897428 0.27588011 0.2562659  0.2288797 ]\n",
      " [0.26062323 0.26228489 0.22314267 0.25394921]]\n",
      "conc std [[ 6607.57696014  6661.97867602  6010.14543301  1909.96406331]\n",
      " [10053.83082937  2419.63313846  7320.52119931  2023.88433427]\n",
      " [11853.49602242  3476.25666153  3578.84006459   916.64961115]\n",
      " [ 7723.04756261  7409.86714954  2428.93670449  1943.97564794]\n",
      " [ 9018.78832794 11100.42135148 11267.40362621  9622.80823251]\n",
      " [10103.11212855  9817.60443359  9357.68850064  9291.70836826]]\n",
      "conc mean [[13038.64192388 13208.50890876 11838.02514843  3742.89787881]\n",
      " [18195.70660022  4165.48051301 13379.17702105  3662.74881349]\n",
      " [23536.36083504  6880.98470871  7142.98853037  1814.32572156]\n",
      " [16149.28844425 15632.8207465   5046.6974647   4087.32079326]\n",
      " [ 9535.67677016 11294.97619353 10491.67767673  9223.83084012]\n",
      " [10431.85407464 10583.48999925  9329.2240006  10241.00326984]]\n",
      "DIrichlet version [[0.31171987 0.31578095 0.28301626 0.08948291]\n",
      " [0.46178348 0.1057145  0.33954619 0.09295582]\n",
      " [0.59775401 0.17475668 0.1814108  0.04607851]\n",
      " [0.3946925  0.3820699  0.1233425  0.0998951 ]\n",
      " [0.23518075 0.27857079 0.25875884 0.22748962]\n",
      " [0.25703356 0.26076977 0.22986553 0.25233113]]\n",
      "inferred stick-breaking weights [0.06218921 0.06153229 0.74033184 0.13818397 0.00162659 0.00100371]\n"
     ]
    }
   ],
   "source": [
    "# Scaling by pDs gives absolutely no difference in concentrations or probabilities.\n",
    "sAf = mcmcAf.get_samples()[\"probs\"]\n",
    "print(sAf.mean(0))\n",
    "\n",
    "concs = mcmcAf.get_samples()[\"conc\"]\n",
    "print(\"conc std\", concs.std(0))\n",
    "print(\"conc mean\", concs.mean(0))\n",
    "print(\"DIrichlet version\", Dirichlet(concs.mean(0)).mean)\n",
    "\n",
    "betaScaledInDirichlet = mcmcAf.get_samples()['beta']\n",
    "print(\"inferred stick-breaking weights\", mix_weights(betaScaledInDirichlet).mean(0))"
   ]
  },
  {
   "cell_type": "code",
   "execution_count": 204,
   "metadata": {},
   "outputs": [
    {
     "output_type": "stream",
     "name": "stdout",
     "text": [
      "sAfscaled2 [[3.11550542e-05 3.15633871e-05 2.83377498e-05 8.94380640e-06]\n [4.61836770e-05 1.05446243e-05 3.39640379e-05 9.30765828e-06]\n [5.97770904e-05 1.74666708e-05 1.81511334e-05 4.60510279e-06]\n [3.94488785e-05 3.82224950e-05 1.23369545e-05 9.99166950e-06]\n [2.38974275e-05 2.75880108e-05 2.56265896e-05 2.28879696e-05]\n [2.60623223e-05 2.62284880e-05 2.23142666e-05 2.53949206e-05]]\nsAfscaled1 [[3.22753388e-05 3.26983548e-05 2.93567288e-05 9.26541100e-06]\n [4.78443663e-05 1.09237917e-05 3.51853290e-05 9.64234640e-06]\n [6.19265766e-05 1.80947437e-05 1.88038184e-05 4.77069473e-06]\n [4.08673954e-05 3.95969132e-05 1.27805711e-05 1.03509535e-05]\n [2.47567398e-05 2.85800304e-05 2.65480797e-05 2.37109834e-05]\n [2.69994806e-05 2.71716214e-05 2.31166511e-05 2.63080802e-05]]\n[[0.3227534  0.32698356 0.29356729 0.09265411]\n [0.47844367 0.10923792 0.3518533  0.09642347]\n [0.61926578 0.18094744 0.18803819 0.04770695]\n [0.40867396 0.39596914 0.12780571 0.10350954]\n [0.2475674  0.28580031 0.2654808  0.23710984]\n [0.26999481 0.27171622 0.23116652 0.26308081]]\n"
     ]
    }
   ],
   "source": [
    "broadcastedEmpiricalAfs = np.broadcast_to(np.array([[empiricalAfs]]).T, (20_000, 6, 4))\n",
    "sAfscaled = (sAf.mean(0) * broadcastedEmpiricalAfs).mean(0)\n",
    "\n",
    "sAfscaled2 = (sAf.mean(0) * liabParams55cov[\"afMean\"].numpy())\n",
    "print(\"sAfscaled2\", sAfscaled2)\n",
    "print(\"sAfscaled1\", np.asarray(sAfscaled))\n",
    "print(np.asarray(sAfscaled) / liabParams55cov[\"afMean\"].numpy())"
   ]
  },
  {
   "cell_type": "code",
   "execution_count": 187,
   "metadata": {},
   "outputs": [
    {
     "output_type": "execute_result",
     "data": {
      "text/plain": [
       "tensor([0.5940, 0.1782, 0.1782, 0.0475], dtype=torch.float64)"
      ]
     },
     "metadata": {},
     "execution_count": 187
    }
   ],
   "source": [
    "liabData55cov[\"afs\"][liabData55cov[\"unaffectedGenes\"]].mean(0) / liabParams55cov[\"afMean\"]"
   ]
  },
  {
   "cell_type": "code",
   "execution_count": 188,
   "metadata": {},
   "outputs": [
    {
     "output_type": "stream",
     "name": "stdout",
     "text": [
      "pdv tensor([0.6350, 0.1905, 0.1905, 0.0508], dtype=torch.float64)\npdv scaled tensor([0.5952, 0.1786, 0.1786, 0.0476], dtype=torch.float64)\n"
     ]
    }
   ],
   "source": [
    "pdv = (liabData55cov[\"afs\"][liabData55cov[\"unaffectedGenes\"]] / np.array([empiricalAfs[liabData55cov[\"unaffectedGenes\"]]]).T).mean(0)\n",
    "print(\"pdv\", pdv)\n",
    "print(\"pdv scaled\", pdv/pdv.sum())"
   ]
  },
  {
   "cell_type": "code",
   "execution_count": 191,
   "metadata": {},
   "outputs": [
    {
     "output_type": "stream",
     "name": "stdout",
     "text": [
      "pdv1 tensor([0.5702, 0.5480, 0.1774, 0.1461], dtype=torch.float64)\npdv2 tensor([0.4184, 0.3923, 0.1300, 0.1046], dtype=torch.float64)\nafAffected0Mean tensor([5.7023e-05, 5.4799e-05, 1.7743e-05, 1.4613e-05], dtype=torch.float64)\npdv1 scaled tensor([0.3955, 0.3801, 0.1231, 0.1014], dtype=torch.float64)\npdv2 scaled tensor([0.4003, 0.3753, 0.1244, 0.1001], dtype=torch.float64)\n"
     ]
    }
   ],
   "source": [
    "pdv1 = (liabData55cov[\"afs\"][liabData55cov[\"affectedGenes\"][0]]).mean(0) / liabParams55cov[\"afMean\"]\n",
    "pdv2 = (liabData55cov[\"afs\"][liabData55cov[\"affectedGenes\"][0]] / np.array([empiricalAfs\n",
    "[liabData55cov[\"affectedGenes\"][0]]]).T).mean(0)\n",
    "afAffected0Mean = (liabData55cov[\"afs\"][liabData55cov[\"affectedGenes\"][0]]).mean(0) \n",
    "print(\"pdv1\", pdv1)# PD|V\n",
    "print(\"pdv2\", pdv2)# PD|V\n",
    "print(\"afAffected0Mean\", afAffected0Mean)\n",
    "print(\"pdv1 scaled\", pdv1/pdv1.sum())\n",
    "print(\"pdv2 scaled\", pdv2/pdv2.sum())"
   ]
  },
  {
   "cell_type": "code",
   "execution_count": 251,
   "metadata": {},
   "outputs": [
    {
     "output_type": "stream",
     "name": "stdout",
     "text": [
      "pdv tensor([0.5836, 0.1784, 0.3703, 0.0987], dtype=torch.float64)\npdv scaled tensor([0.4741, 0.1449, 0.3008, 0.0802], dtype=torch.float64)\n"
     ]
    }
   ],
   "source": [
    "pdv = (liabData55cov[\"afs\"][liabData55cov[\"affectedGenes\"][1]]).mean(0) / liabParams55cov[\"afMean\"]# PD|V\n",
    "print(\"pdv\", pdv)\n",
    "print(\"pdv scaled\", pdv/pdv.sum())"
   ]
  },
  {
   "cell_type": "code",
   "execution_count": 252,
   "metadata": {},
   "outputs": [
    {
     "output_type": "stream",
     "name": "stdout",
     "text": [
      "pdv tensor([0.5717, 0.5500, 0.3674, 0.1223], dtype=torch.float64)\npdv scaled tensor([0.3548, 0.3413, 0.2280, 0.0759], dtype=torch.float64)\n"
     ]
    }
   ],
   "source": [
    "pdv = (liabData55cov[\"afs\"][liabData55cov[\"affectedGenes\"][2]]).mean(0) / liabParams55cov[\"afMean\"]# PD|V\n",
    "print(\"pdv\", pdv)\n",
    "print(\"pdv scaled\", pdv/pdv.sum())"
   ]
  },
  {
   "cell_type": "code",
   "execution_count": 79,
   "metadata": {},
   "outputs": [],
   "source": [
    "# [[0.01911611 0.01343591 0.01555622 0.00563713]\n",
    "#  [0.00406165 0.00276914 0.00327851 0.00133072]\n",
    "#  [0.01090826 0.00992517 0.0113952  0.00424665]\n",
    "#  [0.01858757 0.02309512 0.02210252 0.01013227]]\n",
    "# [[0.47631553 0.10743626 0.26105177 0.03134572]\n",
    "#  [0.60844487 0.14429386 0.14502415 0.01706672]\n",
    "#  [0.40694135 0.31180432 0.09986749 0.0380971 ]\n",
    "#  [0.35437214 0.26981634 0.2043957  0.02945131]]\n",
    "# conc std [ 12.166306  71.86332   67.61688  157.65123 ]\n",
    "# conc mean [ 36.537464 213.60443  190.46646  793.18304 ]\n",
    "# DIrichlet version [0.02961397 0.17312849 0.15437493 0.64288265]\n",
    "# inferred stick-breaking weights [0.11452598 0.665086   0.13667543 0.08672265]"
   ]
  },
  {
   "cell_type": "code",
   "execution_count": 80,
   "metadata": {},
   "outputs": [
    {
     "output_type": "stream",
     "name": "stdout",
     "text": [
      "pdv tensor([0.5717, 0.5500, 0.3674, 0.1223], dtype=torch.float64)\npdvpv tensor([5.7167e-05, 5.5000e-05, 3.6744e-05, 1.2231e-05], dtype=torch.float64)\npdvpv.sum() tensor(0.0002, dtype=torch.float64)\npdvpv scaled tensor([0.3548, 0.3413, 0.2280, 0.0759], dtype=torch.float64)\n"
     ]
    }
   ],
   "source": [
    "pdvpv = (liabData55cov[\"afs\"][liabData55cov[\"affectedGenes\"][2]]).mean(0) #/ liabParams55cov[\"afMean\"]# PD|V\n",
    "pdv = pdvpv / liabParams55cov[\"afMean\"]\n",
    "print(\"pdv\", pdv)\n",
    "print(\"pdvpv\", pdvpv)\n",
    "print(\"pdvpv.sum()\", pdvpv.sum())\n",
    "# This matches our DM results perfectly; so the DM result matches scale\n",
    "# how to allow our pdv values to work ok...\n",
    "print(\"pdvpv scaled\", pdvpv/pdvpv.sum())\n"
   ]
  },
  {
   "cell_type": "code",
   "execution_count": 81,
   "metadata": {},
   "outputs": [
    {
     "output_type": "execute_result",
     "data": {
      "text/plain": [
       "tensor([[4., 3., 3., 0.],\n",
       "        [8., 3., 0., 1.],\n",
       "        [6., 3., 2., 0.],\n",
       "        ...,\n",
       "        [5., 8., 1., 1.],\n",
       "        [3., 3., 5., 2.],\n",
       "        [6., 5., 2., 0.]], dtype=torch.float64)"
      ]
     },
     "metadata": {},
     "execution_count": 81
    }
   ],
   "source": [
    "liabData55cov[\"altCounts\"][liabData55cov[\"affectedGenes\"][2]]"
   ]
  },
  {
   "cell_type": "code",
   "execution_count": 82,
   "metadata": {},
   "outputs": [
    {
     "output_type": "execute_result",
     "data": {
      "text/plain": [
       "tensor(1.6114, dtype=torch.float64)"
      ]
     },
     "metadata": {},
     "execution_count": 82
    }
   ],
   "source": [
    "pdv.sum()"
   ]
  },
  {
   "cell_type": "code",
   "execution_count": 83,
   "metadata": {},
   "outputs": [
    {
     "output_type": "execute_result",
     "data": {
      "text/plain": [
       "tensor([5.7167e-05, 5.5000e-05, 3.6744e-05, 1.2231e-05], dtype=torch.float64)"
      ]
     },
     "metadata": {},
     "execution_count": 83
    }
   ],
   "source": [
    "(liabData55cov[\"afs\"][liabData55cov[\"affectedGenes\"][2]]).mean(0) "
   ]
  },
  {
   "cell_type": "code",
   "execution_count": 84,
   "metadata": {},
   "outputs": [
    {
     "output_type": "execute_result",
     "data": {
      "text/plain": [
       "tensor([5.7375e-05, 5.4857e-05, 1.7848e-05, 1.4628e-05], dtype=torch.float64)"
      ]
     },
     "metadata": {},
     "execution_count": 84
    }
   ],
   "source": [
    "liabData55cov[\"afs\"][liabData55cov[\"affectedGenes\"][0]].mean(0) "
   ]
  },
  {
   "cell_type": "code",
   "execution_count": 85,
   "metadata": {},
   "outputs": [
    {
     "output_type": "execute_result",
     "data": {
      "text/plain": [
       "[0.5952380895614624, 0.17857143, 0.17857143, 0.04761905]"
      ]
     },
     "metadata": {},
     "execution_count": 85
    }
   ],
   "source": [
    "pdsAllnp"
   ]
  },
  {
   "cell_type": "code",
   "execution_count": 86,
   "metadata": {},
   "outputs": [
    {
     "output_type": "execute_result",
     "data": {
      "text/plain": [
       "tensor(1.0000e-04)"
      ]
     },
     "metadata": {},
     "execution_count": 86
    }
   ],
   "source": [
    "liabParams55cov[\"afMean\"]"
   ]
  },
  {
   "cell_type": "code",
   "execution_count": 87,
   "metadata": {},
   "outputs": [
    {
     "output_type": "execute_result",
     "data": {
      "text/plain": [
       "tensor([5.7375e-05, 5.4857e-05, 1.7848e-05, 1.4628e-05], dtype=torch.float64)"
      ]
     },
     "metadata": {},
     "execution_count": 87
    }
   ],
   "source": [
    "liabData55cov[\"afs\"][liabData55cov[\"affectedGenes\"][0]].mean(0)"
   ]
  },
  {
   "cell_type": "code",
   "execution_count": 88,
   "metadata": {},
   "outputs": [
    {
     "output_type": "execute_result",
     "data": {
      "text/plain": [
       "tensor(1.0000e-04)"
      ]
     },
     "metadata": {},
     "execution_count": 88
    }
   ],
   "source": [
    "liabParams55cov[\"afMean\"]"
   ]
  },
  {
   "cell_type": "code",
   "execution_count": null,
   "metadata": {},
   "outputs": [],
   "source": [
    "# (1000, 4, 4)\n",
    "# [[0.00514663 0.00313207 0.00355292 0.00149964]\n",
    "#  [0.01928454 0.04950465 0.04956334 0.0065191 ]\n",
    "#  [0.02503735 0.04772532 0.03840724 0.00905628]\n",
    "#  [0.06047119 0.05520838 0.05940869 0.03415463]]\n",
    "# [[0.607701   0.1456876  0.14313476 0.01758165]\n",
    "#  [0.45891437 0.14094748 0.24490298 0.03002501]\n",
    "#  [0.45052725 0.23326729 0.15602364 0.03166293]\n",
    "#  [0.4925649  0.1685785  0.18608962 0.03147438]]\n",
    "# conc std [18.310623   7.338482   7.672899   2.7556536]\n",
    "# conc mean [46.069946 18.652845 19.728569  6.812487]\n",
    "# DIrichlet version [0.50479954 0.20438373 0.2161707  0.07464606]\n",
    "# inferred stick-breaking weights [0.6861298  0.14098327 0.1566307  0.01916244]"
   ]
  },
  {
   "cell_type": "code",
   "execution_count": null,
   "metadata": {},
   "outputs": [],
   "source": []
  },
  {
   "cell_type": "code",
   "execution_count": null,
   "metadata": {},
   "outputs": [],
   "source": []
  }
 ]
}