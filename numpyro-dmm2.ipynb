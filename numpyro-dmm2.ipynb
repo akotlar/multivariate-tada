{
 "metadata": {
  "language_info": {
   "codemirror_mode": {
    "name": "ipython",
    "version": 3
   },
   "file_extension": ".py",
   "mimetype": "text/x-python",
   "name": "python",
   "nbconvert_exporter": "python",
   "pygments_lexer": "ipython3",
   "version": "3.7.6-final"
  },
  "orig_nbformat": 2,
  "kernelspec": {
   "name": "Python 3.7.6 64-bit ('base': conda)",
   "display_name": "Python 3.7.6 64-bit ('base': conda)",
   "metadata": {
    "interpreter": {
     "hash": "afe5ebbfdd63d5f53bf49e6aa62793990f23c9b8ec75185fbb6f3054c1465b21"
    }
   }
  }
 },
 "nbformat": 4,
 "nbformat_minor": 2,
 "cells": [
  {
   "cell_type": "code",
   "execution_count": 1,
   "metadata": {},
   "outputs": [],
   "source": [
    "%load_ext autoreload\n",
    "%autoreload 2\n",
    "%reload_ext autoreload"
   ]
  },
  {
   "cell_type": "code",
   "execution_count": 2,
   "metadata": {
    "tags": []
   },
   "outputs": [
    {
     "output_type": "stream",
     "name": "stdout",
     "text": [
      "covShared tensor([[1.0000, 0.9500],\n",
      "        [0.9500, 1.0000]])\n",
      "residualCovariance tensor([[1, 0],\n",
      "        [0, 1]])\n",
      "PD1 threshold, PD2 threshold tensor(-2.3263) tensor(-2.3263)\n",
      "pDsWithBoth tensor([0.0100, 0.0100, 0.0067], dtype=torch.float64)\n",
      "pdThresh tensor([2.3263, 2.3263])\n",
      "pdTarget tensor([0.0300, 0.0200])\n",
      "pdvthresh tensor([1.8808, 2.0537])\n",
      "meanEffect tensor([0.4456, 0.2726])\n",
      "meanEffectsAcrossAllGenes tensor([0.4456, 0.2726])\n",
      "allEffects tensor([[-0.3364, -0.1989],\n",
      "        [-0.4003, -0.1964],\n",
      "        [-0.3531, -0.1854],\n",
      "        ...,\n",
      "        [-0.3658, -0.2093],\n",
      "        [-0.2078, -0.0512],\n",
      "        [-0.4293, -0.2844]])\n",
      "PD1GivenV.mean() tensor(0.0307) PD2GivenV.mean() tensor(0.0205)\n",
      "allEffects[i] tensor([-0.3364, -0.1989])\n",
      "PDBothGivenV.mean tensor(0.0171, dtype=torch.float64)\n",
      "PDBothGivenV / PDBoth tensor(2.5588, dtype=torch.float64)\n",
      "pdsCovarOnMean.mean(0) tensor([0.0307, 0.0205, 0.0171], dtype=torch.float64)\n",
      "np.corrcoef(pdvInBoth[:,0], pdvInBoth[:,1])\n",
      " [[1.         0.94828208]\n",
      " [0.94828208 1.        ]]\n",
      "np.corrcoef(pdvInBoth[:,0], pdvInBoth[:,2])\n",
      " [[1.         0.97567238]\n",
      " [0.97567238 1.        ]]\n",
      "PDBoth1GivenV tensor([0.0238, 0.0122, 0.0152,  ..., 0.0145, 0.0193, 0.0144])\n",
      "PDBoth2GivenV tensor([0.0126, 0.0133, 0.0126,  ..., 0.0146, 0.0128, 0.0120])\n",
      "np.corrcoef(PD1Vsingle, PD2Vsingle)\n",
      " [[ 1.         -0.00237879]\n",
      " [-0.00237879  1.        ]]\n",
      "np.corrcoef(PD1Vsingle, PDBoth1GivenV)\n",
      " [[1. 1.]\n",
      " [1. 1.]]\n",
      "np.corrcoef(PD2Vsingle, PDBoth1GivenV)\n",
      " [[ 1.         -0.00237879]\n",
      " [-0.00237879  1.        ]]\n",
      "np.corrcoef(PD2Vsingle, PDBoth2GivenV)\n",
      " [[1. 1.]\n",
      " [1. 1.]]\n",
      "pdvsGeneAffects1.mean tensor([0.0231, 0.0135, 0.0160,  ..., 0.0153, 0.0193, 0.0153])\n",
      "afs.dist tensor(0.0001) +/- tensor(1.4217e-05)\n",
      "afs.shape torch.Size([20000])\n",
      "pvd_base tensor([[[1.0000, 1.0000, 1.0000],\n",
      "         [3.5458, 1.0000, 3.5458],\n",
      "         [1.0000, 1.8797, 1.8797],\n",
      "         [2.3301, 1.6691, 2.0067]],\n",
      "\n",
      "        [[1.0000, 1.0000, 1.0000],\n",
      "         [1.8218, 1.0000, 1.8218],\n",
      "         [1.0000, 1.9873, 1.9873],\n",
      "         [2.7048, 1.6590, 2.1068]],\n",
      "\n",
      "        [[1.0000, 1.0000, 1.0000],\n",
      "         [2.2723, 1.0000, 2.2723],\n",
      "         [1.0000, 1.8828, 1.8828],\n",
      "         [2.4234, 1.6138, 1.9899]],\n",
      "\n",
      "        ...,\n",
      "\n",
      "        [[1.0000, 1.0000, 1.0000],\n",
      "         [2.1587, 1.0000, 2.1587],\n",
      "         [1.0000, 2.1767, 2.1767],\n",
      "         [2.4963, 1.7130, 2.0963]],\n",
      "\n",
      "        [[1.0000, 1.0000, 1.0000],\n",
      "         [2.8745, 1.0000, 2.8745],\n",
      "         [1.0000, 1.9157, 1.9157],\n",
      "         [1.7065, 1.1447, 1.3810]],\n",
      "\n",
      "        [[1.0000, 1.0000, 1.0000],\n",
      "         [2.1547, 1.0000, 2.1547],\n",
      "         [1.0000, 1.7889, 1.7889],\n",
      "         [2.8913, 2.0579, 2.5107]]], dtype=torch.float64)\n",
      "afs tensor([8.3381e-05, 8.8067e-05, 1.0043e-04,  ..., 1.1986e-04, 8.2206e-05,\n",
      "        1.0195e-04])\n",
      "pvds tensor([[[8.3381e-05, 8.3381e-05, 8.3381e-05],\n",
      "         [2.9565e-04, 8.3381e-05, 2.9565e-04],\n",
      "         [8.3381e-05, 1.5673e-04, 1.5673e-04],\n",
      "         [1.9429e-04, 1.3917e-04, 1.6732e-04]],\n",
      "\n",
      "        [[8.8067e-05, 8.8067e-05, 8.8067e-05],\n",
      "         [1.6044e-04, 8.8067e-05, 1.6044e-04],\n",
      "         [8.8067e-05, 1.7502e-04, 1.7502e-04],\n",
      "         [2.3820e-04, 1.4610e-04, 1.8554e-04]],\n",
      "\n",
      "        [[1.0043e-04, 1.0043e-04, 1.0043e-04],\n",
      "         [2.2822e-04, 1.0043e-04, 2.2822e-04],\n",
      "         [1.0043e-04, 1.8910e-04, 1.8910e-04],\n",
      "         [2.4339e-04, 1.6208e-04, 1.9985e-04]],\n",
      "\n",
      "        ...,\n",
      "\n",
      "        [[1.1986e-04, 1.1986e-04, 1.1986e-04],\n",
      "         [2.5873e-04, 1.1986e-04, 2.5873e-04],\n",
      "         [1.1986e-04, 2.6089e-04, 2.6089e-04],\n",
      "         [2.9920e-04, 2.0531e-04, 2.5126e-04]],\n",
      "\n",
      "        [[8.2206e-05, 8.2206e-05, 8.2206e-05],\n",
      "         [2.3631e-04, 8.2206e-05, 2.3631e-04],\n",
      "         [8.2206e-05, 1.5748e-04, 1.5748e-04],\n",
      "         [1.4028e-04, 9.4104e-05, 1.1353e-04]],\n",
      "\n",
      "        [[1.0195e-04, 1.0195e-04, 1.0195e-04],\n",
      "         [2.1968e-04, 1.0195e-04, 2.1968e-04],\n",
      "         [1.0195e-04, 1.8238e-04, 1.8238e-04],\n",
      "         [2.9477e-04, 2.0980e-04, 2.5598e-04]]], dtype=torch.float64)\n"
     ]
    }
   ],
   "source": [
    "from mvl import genData\n",
    "from torch import tensor\n",
    "\n",
    "liabParams55cov = genData.genParams(pis=tensor([.1, .1, .05]), rrMeans=tensor([3., 2.]), afMean = tensor(1e-4), pDs = tensor([.01, .01]), afShape=tensor(50.), nCases=tensor([1.5e4, 1.5e4, 4e3]), nCtrls=tensor(5e4), covShared=tensor([ [1, .95], [.95, 1] ]), meanEffectCovarianceScale=tensor(.01))[0]\n",
    "liabParams55cov[\"pDs\"] = liabParams55cov[\"pDs\"][0:2]\n",
    "liabData55cov = genData.v6liability(**liabParams55cov)\n",
    "liabParams55cov[\"pDs\"] = liabData55cov[\"PDs\"] #TODO: normalized names, and indicate that the params pDs are incomplete"
   ]
  },
  {
   "cell_type": "code",
   "execution_count": 3,
   "metadata": {},
   "outputs": [
    {
     "output_type": "execute_result",
     "data": {
      "text/plain": [
       "tensor([0.0100, 0.0100, 0.0067], dtype=torch.float64)"
      ]
     },
     "metadata": {},
     "execution_count": 3
    }
   ],
   "source": [
    "liabParams55cov[\"pDs\"]"
   ]
  },
  {
   "cell_type": "code",
   "execution_count": 4,
   "metadata": {},
   "outputs": [
    {
     "output_type": "error",
     "ename": "KeyError",
     "evalue": "'pDsample'",
     "traceback": [
      "\u001b[0;31m---------------------------------------------------------------------------\u001b[0m",
      "\u001b[0;31mKeyError\u001b[0m                                  Traceback (most recent call last)",
      "\u001b[0;32m<ipython-input-4-f6f9a1b3c377>\u001b[0m in \u001b[0;36m<module>\u001b[0;34m\u001b[0m\n\u001b[0;32m----> 1\u001b[0;31m \u001b[0mliabParams55cov\u001b[0m\u001b[0;34m[\u001b[0m\u001b[0;34m\"pDsample\"\u001b[0m\u001b[0;34m]\u001b[0m\u001b[0;34m\u001b[0m\u001b[0;34m\u001b[0m\u001b[0m\n\u001b[0m",
      "\u001b[0;31mKeyError\u001b[0m: 'pDsample'"
     ]
    }
   ],
   "source": [
    "liabParams55cov[\"pDsample\"]"
   ]
  },
  {
   "cell_type": "code",
   "execution_count": 43,
   "metadata": {},
   "outputs": [],
   "source": []
  },
  {
   "cell_type": "code",
   "execution_count": 21,
   "metadata": {},
   "outputs": [
    {
     "output_type": "stream",
     "name": "stdout",
     "text": [
      "pdsAll [0.59523809 0.17857143 0.17857143 0.04761905]\n[[0.5952381  0.17857143 0.17857143 0.04761905]\n [0.5952381  0.17857143 0.17857143 0.04761905]\n [0.5952381  0.17857143 0.17857143 0.04761905]\n [0.5952381  0.17857143 0.17857143 0.04761905]]\n(4,)\n(4,)\nnHypotheses 4\n"
     ]
    }
   ],
   "source": [
    "import numpyro\n",
    "from numpyro.distributions import Multinomial, Beta, Dirichlet, Gamma, Beta, Categorical, Uniform, MultivariateNormal, Normal, LogNormal, Exponential\n",
    "from jax import random\n",
    "from numpyro.infer import MCMC, NUTS\n",
    "import numpy as np\n",
    "import jax.numpy as jnp\n",
    "\n",
    "numpyro.set_host_device_count(6)\n",
    "\n",
    "\n",
    "def mix_weights(beta: jnp.array):\n",
    "    beta_cumprod = (1 - beta).cumprod(-1)\n",
    "    return jnp.pad(beta, (0,1), constant_values=1) * jnp.pad(beta_cumprod, (1,0), constant_values = 1)\n",
    "\n",
    "\n",
    "# mu_exp, var_exp = get_log_params(liabParams55cov[\"afMean\"].numpy(), 1)\n",
    "\n",
    "nHypotheses = 4\n",
    "kConditions = 4\n",
    "altCounts = liabData55cov[\"altCounts\"].numpy()\n",
    "N = len(liabData55cov[\"altCounts\"])\n",
    "\n",
    "nCases = liabParams55cov[\"nCases\"].numpy()\n",
    "nCtrls = liabParams55cov[\"nCtrls\"].numpy()\n",
    "samplePDs = nCases / (nCases.sum() + nCtrls)\n",
    "pdsAll = np.array([1 - samplePDs.sum(), *samplePDs])\n",
    "print(\"pdsAll\", pdsAll)\n",
    "\n",
    "# TODO: do this in numpy natively\n",
    "pdsAllShaped = jnp.asarray(tensor(pdsAll).expand(nHypotheses, kConditions).numpy())\n",
    "pdsAllnp = [1 - samplePDs.sum(), *samplePDs]\n",
    "pdsAll = jnp.asarray([1 - samplePDs.sum(), *samplePDs])\n",
    "print(pdsAllShaped)\n",
    "print(pdsAll.shape)\n",
    "print((1/pdsAll).shape)\n",
    "alpha = .05\n",
    "print(\"nHypotheses\", nHypotheses)\n",
    "\n",
    "component_af_means = jnp.array([.005, .006, .006, .013])\n",
    "\n",
    "def model(data):\n",
    "    with numpyro.plate(\"beta_plate\", nHypotheses-1):\n",
    "        beta = numpyro.sample(\"beta\", Beta(1, alpha))\n",
    "\n",
    "    with numpyro.plate(\"prob_plate\", nHypotheses):\n",
    "        conc = numpyro.sample('conc', Exponential(jnp.array([.001]).repeat(kConditions), 1000).to_event(1))\n",
    "        probs = numpyro.sample(\"probs\", Dirichlet(conc * pdsAll))\n",
    "\n",
    "    with numpyro.plate(\"data\", N):\n",
    "        z = numpyro.sample(\"z\", Categorical(mix_weights(beta)))\n",
    "        return numpyro.sample(\"obs\", Multinomial(probs=probs[z]), obs=data)\n",
    "\n",
    "def modelScaledInDirichlet(data):\n",
    "    # mu = numpyro.sample('mu', Uniform(jnp.ones(kConditions), 1000))\n",
    "    # print(\"mu\", mu)\n",
    "    # concentrations = numpyro.sample(\"concentrations\", Uniform(1, 1000))\n",
    "    # print(\"concentrations\", concentrations)\n",
    "    with numpyro.plate(\"beta_plate2\", nHypotheses-1):\n",
    "        beta = numpyro.sample(\"beta\", Beta(1, alpha))\n",
    "\n",
    "    with numpyro.plate(\"mu_plate\", nHypotheses):\n",
    "        mu2 = numpyro.sample('mu3', Uniform(jnp.ones(kConditions), 1000))\n",
    "        probs = numpyro.sample(\"probs2\", Dirichlet(mu2*pdsAll))\n",
    "\n",
    "    with numpyro.plate(\"data\", N):\n",
    "        z = numpyro.sample(\"z\", Categorical(mix_weights(beta)))\n",
    "        return numpyro.sample(\"obs\", Multinomial(probs=probs[z]), obs=data)\n",
    "\n",
    "def modelPDScaledDeterministic(data):\n",
    "    pdsSite = numpyro.deterministic(\"pDs\", pdsAll)\n",
    "    # mu = numpyro.sample('mu', Uniform(jnp.ones(kConditions), 1000))\n",
    "    # print(\"mu\", mu)\n",
    "    # concentrations = numpyro.sample(\"concentrations\", Uniform(1, 1000))\n",
    "    # print(\"concentrations\", concentrations)\n",
    "    with numpyro.plate(\"beta_plate2\", nHypotheses-1):\n",
    "        beta = numpyro.sample(\"beta\", Beta(1, alpha))\n",
    "\n",
    "    with numpyro.plate(\"mu_plate\", nHypotheses):\n",
    "        mu = numpyro.sample('mu', Uniform(jnp.ones(kConditions), 1000))\n",
    "        probs = numpyro.sample(\"probs\", Dirichlet(mu))\n",
    "        # print(\"probs\", probs)\n",
    "        probs = numpyro.deterministic(\"probs_scaled\", probs * pdsAll)\n",
    "        # print(\"probs after scaling\", probs)\n",
    "\n",
    "    with numpyro.plate(\"data\", N):\n",
    "        z = numpyro.sample(\"z\", Categorical(mix_weights(beta)))\n",
    "        return numpyro.sample(\"obs\", Multinomial(probs=probs[z]), obs=data)\n",
    "\n",
    "\n",
    "def modelAf(data):\n",
    "    # pds = numpyro.deterministic(\"pds\", liabParams55cov[\"afMean\"].numpy())# numpyro.sample(\"af\", LogNormal(mu_exp, var_exp)\n",
    "    # print(\"af\", af)\n",
    "    # mu = numpyro.sample('mu', Uniform(jnp.ones(kConditions), 1000))\n",
    "    # print(\"mu\", mu)\n",
    "    # concentrations = numpyro.sample(\"concentrations\", Uniform(1, 1000))\n",
    "    # print(\"concentrations\", concentrations)\n",
    "    with numpyro.plate(\"beta_plate2\", nHypotheses-1):\n",
    "        beta = numpyro.sample(\"beta\", Beta(1, alpha))\n",
    "\n",
    "    with numpyro.plate(\"mu_plate\", nHypotheses):\n",
    "        conc = numpyro.sample('conc', Uniform(jnp.ones(kConditions), 1000))\n",
    "        # doing this speeds up MCMC by 2x\n",
    "        pdconc = numpyro.deterministic(\"pdconc\", conc * pdsAll)\n",
    "        probs = numpyro.sample(\"probs\", Dirichlet(pdconc))\n",
    "        # print(\"probs\", probs)\n",
    "        # probs = numpyro.deterministic(\"probs_scaled\", probs * af)\n",
    "        # print(\"probs after scaling\", probs)\n",
    "\n",
    "    with numpyro.plate(\"data\", N):\n",
    "        z = numpyro.sample(\"z\", Categorical(mix_weights(beta)))\n",
    "        probs = probs[z] / component_af_means[z]\n",
    "        return numpyro.sample(\"obs\", Multinomial(probs=probs[z]), obs=data)\n",
    "\n",
    "\n",
    "# def modelLogNormal(data):\n",
    "#     # tau = numpyro.param('tau', MultivariateNormal(jnp.zeros(kConditions), 3 * jnp.eye(kConditions)))\n",
    "#     with numpyro.plate(\"beta_plate\", nHypotheses-1):\n",
    "#         beta = numpyro.sample(\"beta\", Beta(1, alpha))\n",
    "\n",
    "#     with numpyro.plate(\"mu_plate\", nHypotheses):\n",
    "#         # rrMean = numpyro.param(\"rrMean\")\n",
    "#         rr = numpyro.sample(\"rr\", LogNormal(jnp.eye(kConditions), jnp.eye(kConditions)).to_event(1))\n",
    "#         af = numpyro.sample(\"af\", LogNormal(jnp.array(liabParams55cov[\"afMean\"]), jnp.ones(kConditions)).to_event(1))\n",
    "#         pvd = rr * af\n",
    "#         print(\"pvd\", pvd)\n",
    "#         pvdpv = pvd*pdsAll\n",
    "#         print(\"pvdpv\", pvdpv)\n",
    "        \n",
    "#         probs = numpyro.sample(\"probs\", Dirichlet(pvdpv))\n",
    "#         # just slows things down probs = numpyro.deterministic(\"probs_scaled\", probs * pdsAll)\n",
    "\n",
    "#     with numpyro.plate(\"data\", N):\n",
    "#         z = numpyro.sample(\"z\", Categorical(mix_weights(beta)))\n",
    "#         return numpyro.sample(\"obs\", Multinomial(probs=pvdpv[z]), obs=data)\n",
    "\n",
    "# def modelGamma(data):\n",
    "#     with numpyro.plate(\"beta_plate\", nHypothesis - 1):\n",
    "#         beta = numpyro.sample(\"beta\", Beta(1, alpha))\n",
    "\n",
    "#     with numpyro.plate(\"mu_plate\", nHypotheses):\n",
    "#         rrMean = numpyro.param(\"rrMean\")\n",
    "#         rr = numpyro.sample(\"rr\", Gamma(jnp.ones(kConditions), jnp.ones(kConditions)))\n",
    "#         af = numpyro.sample(\"af\", Gamma(liabParams55cov[\"afMean\"], jnp.ones(kConditions)))\n",
    "#         pvd = rr * liabParams55cov[\"afMean\"]\n",
    "#         pvdpv = pvd*pdsAll\n",
    "        \n",
    "#         probs = numpyro.sample(\"probs\", Dirichlet(np.ones(kConditions)))\n",
    "#         # just slows things down probs = numpyro.deterministic(\"probs_scaled\", probs * pdsAll)\n",
    "\n",
    "#     with numpyro.plate(\"data\", N):\n",
    "#         z = numpyro.sample(\"z\", Categorical(mix_weights(beta)))\n",
    "#         return numpyro.sample(\"obs\", Multinomial(probs=probs[z]), obs=data)"
   ]
  },
  {
   "cell_type": "code",
   "execution_count": 14,
   "metadata": {},
   "outputs": [
    {
     "output_type": "execute_result",
     "data": {
      "text/plain": [
       "array([0.001, 0.001, 0.001, 0.001])"
      ]
     },
     "metadata": {},
     "execution_count": 14
    }
   ],
   "source": [
    "np.array([.001]).repeat(4)"
   ]
  },
  {
   "cell_type": "code",
   "execution_count": 67,
   "metadata": {},
   "outputs": [
    {
     "output_type": "execute_result",
     "data": {
      "text/plain": [
       "DeviceArray([0.006, 0.013, 0.005, 0.006, 0.006, 0.006], dtype=float32)"
      ]
     },
     "metadata": {},
     "execution_count": 67
    }
   ],
   "source": [
    "component_af_means[jnp.array([2,3,0,1,1,1])]"
   ]
  },
  {
   "cell_type": "code",
   "execution_count": null,
   "metadata": {},
   "outputs": [],
   "source": [
    "MCMC?"
   ]
  },
  {
   "cell_type": "code",
   "execution_count": null,
   "metadata": {},
   "outputs": [],
   "source": [
    "init_rng_key = random.PRNGKey(1273)\n",
    "mcmc2k = MCMC(NUTS(model), 100, 2000, num_chains=6)\n",
    "mcmc2k.run(init_rng_key, altCounts)\n",
    "mcmc2k.print_summary()"
   ]
  },
  {
   "cell_type": "code",
   "execution_count": 10,
   "metadata": {},
   "outputs": [
    {
     "output_type": "stream",
     "name": "stderr",
     "text": [
      "sample: 100%|██████████| 1100/1100 [02:22<00:00,  7.72it/s, 127 steps of size 2.04e-02. acc. prob=0.79]\n",
      "\n",
      "                mean       std    median      5.0%     95.0%     n_eff     r_hat\n",
      "   beta[0]      0.75      0.00      0.75      0.75      0.76    643.13      1.00\n",
      "   beta[1]      0.39      0.01      0.39      0.38      0.40   1107.88      1.00\n",
      "   beta[2]      0.33      0.01      0.33      0.32      0.35   1241.93      1.00\n",
      "     mu[0]      6.01      2.23      5.67      2.07      8.89    773.89      1.00\n",
      "     mu[1]      4.55      1.70      4.33      1.81      7.15    915.04      1.00\n",
      "     mu[2]      4.55      1.68      4.31      2.14      7.37    992.70      1.00\n",
      "     mu[3]      2.26      0.84      2.13      1.00      3.40    868.73      1.00\n",
      "probs[0,0]      0.59      0.00      0.60      0.59      0.60   1558.28      1.00\n",
      "probs[0,1]      0.18      0.00      0.18      0.18      0.18   1480.05      1.00\n",
      "probs[0,2]      0.18      0.00      0.18      0.18      0.18   1381.87      1.00\n",
      "probs[0,3]      0.05      0.00      0.05      0.05      0.05   1032.90      1.00\n",
      "probs[1,0]      0.29      0.00      0.29      0.29      0.29    833.29      1.00\n",
      "probs[1,1]      0.49      0.00      0.49      0.48      0.49   1057.95      1.00\n",
      "probs[1,2]      0.09      0.00      0.09      0.09      0.10   1306.77      1.00\n",
      "probs[1,3]      0.13      0.00      0.13      0.13      0.13   1256.84      1.00\n",
      "probs[2,0]      0.20      0.00      0.20      0.20      0.20   1156.69      1.00\n",
      "probs[2,1]      0.35      0.00      0.35      0.35      0.35   1178.77      1.00\n",
      "probs[2,2]      0.35      0.00      0.35      0.35      0.35    690.29      1.00\n",
      "probs[2,3]      0.10      0.00      0.10      0.10      0.10    697.86      1.00\n",
      "probs[3,0]      0.29      0.00      0.29      0.29      0.30    872.06      1.00\n",
      "probs[3,1]      0.09      0.00      0.09      0.09      0.10   1167.66      1.00\n",
      "probs[3,2]      0.48      0.00      0.48      0.48      0.49    921.14      1.00\n",
      "probs[3,3]      0.13      0.00      0.13      0.13      0.13    880.26      1.00\n",
      "\n",
      "Number of divergences: 0\n"
     ]
    }
   ],
   "source": [
    "# 1/3rd as fast as not having deterministic\n",
    "init_rng_key = random.PRNGKey(1273)\n",
    "mcmcDeterministicScaled = MCMC(NUTS(modelPDScaledDeterministic), 100, 1000)\n",
    "mcmcDeterministicScaled.run(init_rng_key, altCounts)\n",
    "mcmcDeterministicScaled.print_summary()"
   ]
  },
  {
   "cell_type": "code",
   "execution_count": 46,
   "metadata": {},
   "outputs": [
    {
     "output_type": "stream",
     "name": "stdout",
     "text": [
      "[[0.00060713 0.00047464 0.00046731 0.00025903]\n [0.00116307 0.00131483 0.00082089 0.00090392]\n [0.00127226 0.0014616  0.00150115 0.00091209]\n [0.0012394  0.00079334 0.00130552 0.00084485]]\n[[0.00499792 0.00501112 0.00499053 0.00501977]\n [0.00244107 0.0136194  0.00263441 0.0135348 ]\n [0.00170523 0.00973307 0.00974178 0.010654  ]\n [0.00247003 0.00263366 0.01353689 0.013485  ]]\n[[0.5959927  0.17997411 0.17923877 0.04882867]\n [0.2916071  0.48740935 0.09509686 0.12991066]\n [0.20400803 0.3486125  0.34892347 0.10247664]\n [0.29505494 0.09507006 0.4844626  0.12943646]]\n[6.0091906 4.552491  4.5509014 2.2610247]\ninferred stick-breaking weights [0.7540543  0.09633646 0.0501536  0.10140968]\n"
     ]
    }
   ],
   "source": [
    "# Scaling by pDs gives absolutely no difference in concentrations or probabilities.\n",
    "probsDetermin = mcmcDeterministicScaled.get_samples()[\"probs\"]\n",
    "print(probsDetermin.std(0))\n",
    "print(probsDetermin.mean(0) * .005 / pdsAll)\n",
    "print(probsDetermin.mean(0) * probsDetermin.sum(0) / (abs(1 - sDetermin.sum(0))))\n",
    "\n",
    "concentrationsDetermin = mcmcDeterministicScaled.get_samples()[\"mu\"]\n",
    "print(concentrationsDetermin.mean(0))\n",
    "\n",
    "betaDetermin = mcmcDeterministicScaled.get_samples()['beta']\n",
    "print(\"inferred stick-breaking weights\", mix_weights(betaDetermin).mean(0))"
   ]
  },
  {
   "cell_type": "code",
   "execution_count": 18,
   "metadata": {},
   "outputs": [
    {
     "output_type": "stream",
     "name": "stderr",
     "text": [
      "sample: 100%|██████████| 1100/1100 [01:55<00:00,  9.56it/s, 127 steps of size 9.24e-03. acc. prob=0.91]\n",
      "\n",
      "                mean       std    median      5.0%     95.0%     n_eff     r_hat\n",
      "   beta[0]      0.68      0.03      0.68      0.63      0.72    434.76      1.00\n",
      "   beta[1]      0.32      0.08      0.32      0.18      0.45    330.53      1.00\n",
      "   beta[2]      0.55      0.08      0.55      0.42      0.68    264.39      1.00\n",
      "   conc[0]     44.45     16.89     41.86     17.57     69.77    424.22      1.00\n",
      "   conc[1]    254.03     96.96    240.38    106.33    409.62    396.86      1.00\n",
      "   conc[2]    223.74     87.06    211.68     88.10    359.40    440.13      1.00\n",
      "   conc[3]   1249.15    496.87   1182.06    428.35   1964.89    492.25      1.00\n",
      "probs[0,0]      0.61      0.00      0.61      0.60      0.61    602.48      1.00\n",
      "probs[0,1]      0.17      0.00      0.17      0.17      0.18    844.29      1.00\n",
      "probs[0,2]      0.18      0.00      0.18      0.17      0.18    483.94      1.00\n",
      "probs[0,3]      0.04      0.00      0.04      0.04      0.05    787.55      1.00\n",
      "probs[1,0]      0.36      0.02      0.36      0.34      0.39    852.88      1.00\n",
      "probs[1,1]      0.32      0.02      0.32      0.29      0.35    477.56      1.00\n",
      "probs[1,2]      0.24      0.02      0.24      0.21      0.27    334.89      1.00\n",
      "probs[1,3]      0.08      0.01      0.08      0.07      0.09    599.55      1.00\n",
      "probs[2,0]      0.41      0.01      0.41      0.39      0.43    350.49      1.00\n",
      "probs[2,1]      0.38      0.01      0.38      0.36      0.39    418.05      1.00\n",
      "probs[2,2]      0.11      0.01      0.11      0.09      0.13    221.52      1.00\n",
      "probs[2,3]      0.10      0.00      0.10      0.09      0.11    770.42      1.00\n",
      "probs[3,0]      0.47      0.02      0.47      0.44      0.50    493.85      1.00\n",
      "probs[3,1]      0.12      0.01      0.12      0.10      0.14    559.14      1.00\n",
      "probs[3,2]      0.32      0.02      0.32      0.29      0.35    422.26      1.00\n",
      "probs[3,3]      0.08      0.01      0.08      0.07      0.09    800.99      1.00\n",
      "\n",
      "Number of divergences: 0\n"
     ]
    }
   ],
   "source": [
    "# 1/3rd as fast as not having deterministic\n",
    "# this runs after mcmc fits, not during\n",
    "def postprocess(arg):\n",
    "    print(\"postprocess arg\", arg)\n",
    "    return arg\n",
    "init_rng_key = random.PRNGKey(12273)\n",
    "mcmcAf = MCMC(NUTS(model), 100, 1000)\n",
    "mcmcAf.run(init_rng_key, altCounts)\n",
    "mcmcAf.print_summary()"
   ]
  },
  {
   "cell_type": "code",
   "execution_count": 105,
   "metadata": {},
   "outputs": [
    {
     "output_type": "stream",
     "name": "stdout",
     "text": [
      "[[ 1.4832474   0.4596491   1.31627   ]\n [ 0.20621197  1.4732594  -0.31457236]\n [-0.26939392  0.43624252  1.2324655 ]\n [ 0.2226545  -1.1796342   1.3259519 ]]\n[[1.4842482  0.46065128 1.3172708 ]\n [0.20721684 1.4742602  0.31357554]\n [0.2683976  0.43724483 1.2334664 ]\n [0.22365902 1.1786351  1.3269527 ]]\nconc [[[ 0.90735793  0.8209912   1.0164589   0.87486637]\n  [-1.7849189   1.3260416  -1.6953163   1.1568938 ]\n  [-2.4553943  -0.26534724 -0.1234776   0.20299847]\n  [-1.5983115  -1.5649264   1.8975633   2.0371034 ]]\n\n [[ 0.9792002   0.89225495  1.0747207   0.8737359 ]\n  [-1.8825821   1.3688161  -1.6555487   1.3695055 ]\n  [-2.3543627   0.00604874 -0.15217882  0.2538693 ]\n  [-1.6798353  -1.6527425   2.1019602   1.9775591 ]]\n\n [[ 0.34747586  0.22657269  0.4035576   0.5498697 ]\n  [-1.8331704   1.1519339  -1.7378138   0.95012164]\n  [-2.4064114  -0.07818928  0.0178655   0.02229958]\n  [-1.6976191  -1.4928161   1.8773036   1.7513798 ]]\n\n ...\n\n [[ 4.1126595   4.711544    3.5789683   2.1999114 ]\n  [-1.4881364   5.9773736  -1.474994    3.70732   ]\n  [-1.9347059   0.67484325  0.87387484  1.3132998 ]\n  [-2.1540976  -2.0826857   0.39147866  0.42681938]]\n\n [[ 2.9137657   4.2028394   2.4411187   5.998884  ]\n  [-1.5738796   5.8739614  -1.3870227   2.5867453 ]\n  [-1.9194208   1.0809909   1.0849613   1.5351866 ]\n  [-2.04532    -2.0046308   0.547806    0.38230014]]\n\n [[ 2.6834948   2.693812    3.039594    5.1852665 ]\n  [-1.5798099   2.409314   -1.4349982   3.7649984 ]\n  [-1.8710735   1.217779    1.220618    2.1204426 ]\n  [-1.7909385  -1.74448     1.1290765   1.5754353 ]]]\nDIrichlet version [[ 0.2455259   0.24781817  0.2452809   0.261375  ]\n [ 3.6447036  -3.0804665   3.4683404  -3.0325773 ]\n [-0.9356578   0.5512601   0.5542389   0.8301588 ]\n [ 4.2807336   4.0998664  -3.7669485  -3.613652  ]]\ninferred stick-breaking weights [ 1.1172012   0.05194464  0.11824883 -0.2878971 ]\n"
     ]
    }
   ],
   "source": []
  },
  {
   "cell_type": "code",
   "execution_count": 19,
   "metadata": {},
   "outputs": [
    {
     "output_type": "stream",
     "name": "stdout",
     "text": [
      "(1000, 4, 4)\n[[0.00389873 0.0027325  0.00352119 0.00128708]\n [0.01540878 0.01959488 0.01955234 0.00719198]\n [0.01204855 0.01008762 0.01211935 0.00465437]\n [0.01941296 0.01230187 0.01632371 0.00668399]]\n[[0.6072516  0.14409247 0.14585802 0.01723374]\n [0.361474   0.26773974 0.1974014  0.03090641]\n [0.40910125 0.31532937 0.0943295  0.03819543]\n [0.47252104 0.10365321 0.26697892 0.03181551]]\nconc std [ 16.885881  96.90665   87.0161   496.62573 ]\nconc mean [  44.450848  254.02948   223.74112  1249.1538  ]\nDIrichlet version [0.02509398 0.14340806 0.12630928 0.7051887 ]\ninferred stick-breaking weights [0.6756534  0.10423639 0.12163003 0.10109889]\n"
     ]
    }
   ],
   "source": [
    "# Scaling by pDs gives absolutely no difference in concentrations or probabilities.\n",
    "sAf = mcmcAf.get_samples()[\"probs\"]\n",
    "print(sAf.shape)\n",
    "print(sAf.std(0))\n",
    "print(sAf.mean(0) * .005 / component_af_means)\n",
    "# print(sAf.mean(0) * sAf.sum(0) / (abs(1 - sAf.sum(0))))\n",
    "\n",
    "concs = mcmcAf.get_samples()[\"conc\"]\n",
    "print(\"conc std\", concs.std(0))\n",
    "print(\"conc mean\", concs.mean(0))\n",
    "print(\"DIrichlet version\", Dirichlet(concs.mean(0)).mean)\n",
    "\n",
    "betaScaledInDirichlet = mcmcAf.get_samples()['beta']\n",
    "print(\"inferred stick-breaking weights\", mix_weights(betaScaledInDirichlet).mean(0))"
   ]
  },
  {
   "cell_type": "code",
   "execution_count": 57,
   "metadata": {},
   "outputs": [
    {
     "output_type": "execute_result",
     "data": {
      "text/plain": [
       "DeviceArray([[0.14879583, 0.0447355 , 0.04464875, 0.01181993],\n",
       "             [0.04983375, 0.08717146, 0.08687804, 0.02611676],\n",
       "             [0.07298264, 0.02362582, 0.12108456, 0.03230699],\n",
       "             [0.07355864, 0.12022852, 0.02374064, 0.0324722 ]],            dtype=float32)"
      ]
     },
     "metadata": {},
     "execution_count": 57
    }
   ],
   "source": [
    "probs_res = sAf.mean(0)\n",
    "t = probs_res * liabParams55cov[\"afMean\"].numpy()\n",
    "t / t.sum()"
   ]
  },
  {
   "cell_type": "code",
   "execution_count": 51,
   "metadata": {},
   "outputs": [
    {
     "output_type": "execute_result",
     "data": {
      "text/plain": [
       "tensor(0.9994, dtype=torch.float64)"
      ]
     },
     "metadata": {},
     "execution_count": 51
    }
   ],
   "source": [
    "(1 - liabData55cov[\"afs\"].mean(0).sum())"
   ]
  },
  {
   "cell_type": "code",
   "execution_count": 38,
   "metadata": {},
   "outputs": [
    {
     "output_type": "execute_result",
     "data": {
      "text/plain": [
       "tensor([0.0052, 0.0013, 0.0022,  ..., 0.0019, 0.0019, 0.0022],\n",
       "       dtype=torch.float64)"
      ]
     },
     "metadata": {},
     "execution_count": 38
    }
   ],
   "source": [
    "# this is the marginal af, the af for each site, anything bigge than this is too big\n",
    "empiricalAf = liabData55cov[\"altCounts\"].sum(1) / N\n",
    "empiricalAf"
   ]
  },
  {
   "cell_type": "code",
   "execution_count": 87,
   "metadata": {},
   "outputs": [
    {
     "output_type": "execute_result",
     "data": {
      "text/plain": [
       "(1000, 4, 4)"
      ]
     },
     "metadata": {},
     "execution_count": 87
    }
   ],
   "source": [
    "sAf.mean(1)"
   ]
  },
  {
   "cell_type": "code",
   "execution_count": 66,
   "metadata": {},
   "outputs": [
    {
     "output_type": "execute_result",
     "data": {
      "text/plain": [
       "tensor([0.2382, 0.2398, 0.2394,  ..., 0.2440, 0.2390, 0.2395],\n",
       "       dtype=torch.float64)"
      ]
     },
     "metadata": {},
     "execution_count": 66
    }
   ],
   "source": [
    "liabData55cov[\"afs\"].sum(1) / (liabData55cov[\"altCounts\"].sum(1) / N)"
   ]
  },
  {
   "cell_type": "code",
   "execution_count": 52,
   "metadata": {},
   "outputs": [
    {
     "output_type": "execute_result",
     "data": {
      "text/plain": [
       "array([0.00060744, 0.00091135, 0.00112525, ..., 0.00045133, 0.00158906,\n",
       "       0.00098196])"
      ]
     },
     "metadata": {},
     "execution_count": 52
    }
   ],
   "source": [
    "liabData55cov[\"afs\"].sum(1).numpy()"
   ]
  },
  {
   "cell_type": "code",
   "execution_count": 18,
   "metadata": {},
   "outputs": [
    {
     "output_type": "execute_result",
     "data": {
      "text/plain": [
       "DeviceArray([[0.999585  , 1.0022235 , 0.99810535, 1.0039531 ],\n",
       "             [0.48821422, 2.7238812 , 0.5268821 , 2.7069602 ],\n",
       "             [0.34104523, 1.946614  , 1.9483553 , 2.1308005 ],\n",
       "             [0.4940066 , 0.52673197, 2.7073789 , 2.6970003 ]],            dtype=float32)"
      ]
     },
     "metadata": {},
     "execution_count": 18
    }
   ],
   "source": [
    "(probsDetermin / pdsAll).mean(0)"
   ]
  },
  {
   "cell_type": "code",
   "execution_count": 35,
   "metadata": {},
   "outputs": [
    {
     "output_type": "stream",
     "name": "stderr",
     "text": [
      "sample: 100%|██████████| 1100/1100 [01:17<00:00, 14.26it/s, 63 steps of size 3.14e-02. acc. prob=0.86]\n",
      "\n",
      "                 mean       std    median      5.0%     95.0%     n_eff     r_hat\n",
      "    beta[0]      0.75      0.00      0.75      0.75      0.76    387.97      1.00\n",
      "    beta[1]      0.39      0.01      0.39      0.38      0.41   1266.66      1.00\n",
      "    beta[2]      0.35      0.01      0.35      0.33      0.36    879.78      1.00\n",
      "     mu3[0]      9.85      3.58      9.48      4.56     15.96   1430.55      1.00\n",
      "     mu3[1]     24.64      9.25     23.42      8.77     38.38   1593.00      1.00\n",
      "     mu3[2]     24.48      9.00     23.75     10.63     37.60   1096.18      1.00\n",
      "     mu3[3]     45.99     17.41     43.99     19.76     74.96   1103.53      1.00\n",
      "probs2[0,0]      0.60      0.00      0.60      0.59      0.60   1940.81      1.00\n",
      "probs2[0,1]      0.18      0.00      0.18      0.18      0.18   2099.84      1.00\n",
      "probs2[0,2]      0.18      0.00      0.18      0.18      0.18   1385.83      1.00\n",
      "probs2[0,3]      0.05      0.00      0.05      0.05      0.05   1065.19      1.00\n",
      "probs2[1,0]      0.29      0.00      0.29      0.29      0.29   1110.70      1.00\n",
      "probs2[1,1]      0.48      0.00      0.48      0.48      0.48   1051.57      1.00\n",
      "probs2[1,2]      0.09      0.00      0.09      0.09      0.10   1041.77      1.00\n",
      "probs2[1,3]      0.13      0.00      0.13      0.13      0.13   1105.20      1.00\n",
      "probs2[2,0]      0.20      0.00      0.20      0.20      0.21   1915.96      1.00\n",
      "probs2[2,1]      0.35      0.00      0.35      0.35      0.35   1388.51      1.00\n",
      "probs2[2,2]      0.35      0.00      0.35      0.34      0.35   1049.80      1.00\n",
      "probs2[2,3]      0.10      0.00      0.10      0.10      0.10    892.44      1.00\n",
      "probs2[3,0]      0.29      0.00      0.29      0.29      0.29   1065.51      1.00\n",
      "probs2[3,1]      0.09      0.00      0.09      0.09      0.10   1627.51      1.00\n",
      "probs2[3,2]      0.48      0.00      0.48      0.48      0.49   1062.32      1.00\n",
      "probs2[3,3]      0.13      0.00      0.13      0.13      0.13    753.77      1.00\n",
      "\n",
      "Number of divergences: 0\n"
     ]
    }
   ],
   "source": [
    "init_rng_key = random.PRNGKey(1273)\n",
    "\n",
    "mcmcScaledInDirichlet = MCMC(NUTS(modelScaledInDirichlet), 100, 1000)\n",
    "mcmcScaledInDirichlet.run(init_rng_key, altCounts)\n",
    "mcmcScaledInDirichlet.print_summary()"
   ]
  },
  {
   "cell_type": "code",
   "execution_count": null,
   "metadata": {},
   "outputs": [],
   "source": []
  },
  {
   "cell_type": "code",
   "execution_count": 36,
   "metadata": {},
   "outputs": [
    {
     "output_type": "stream",
     "name": "stdout",
     "text": [
      "[[0.00062603 0.00051163 0.00049016 0.00027287]\n [0.0011681  0.00125639 0.00073826 0.00086068]\n [0.00122986 0.00148664 0.00150814 0.00090002]\n [0.00119917 0.00072997 0.00132679 0.00081954]]\n[[3542.234     319.5054    318.39386    22.705309]\n [1737.5046    862.24603   168.69148    62.27344 ]\n [1210.2887    620.88947   619.7199     48.538235]\n [1731.6997    168.49414   865.77277    61.85004 ]]\n[[0.596097   0.17992865 0.1793062  0.04870257]\n [0.29290423 0.48385984 0.09547793 0.13178192]\n [0.20433344 0.34870097 0.348046   0.10294019]\n [0.29192904 0.09536742 0.48583475 0.13089284]]\n[ 9.847206 24.64132  24.483877 45.99166 ]\ninferred stick-breaking weights [0.75183034 0.09818115 0.05247173 0.09948575]\n"
     ]
    }
   ],
   "source": [
    "# Scaling by pDs gives absolutely no difference in concentrations or probabilities.\n",
    "sScaledInDirichlet = mcmcScaledInDirichlet.get_samples()[\"probs2\"]\n",
    "print(sScaledInDirichlet.std(0))\n",
    "print(sScaledInDirichlet.mean(0) * pdsAll / 1e-4)\n",
    "print(sScaledInDirichlet.mean(0) * sScaledInDirichlet.sum(0) / (abs(1 - sScaledInDirichlet.sum(0))))\n",
    "\n",
    "concentrationsScaledInDirichlet = mcmcScaledInDirichlet.get_samples()[\"mu3\"]\n",
    "print(concentrationsScaledInDirichlet.mean(0))\n",
    "\n",
    "betaScaledInDirichlet = mcmcScaledInDirichlet.get_samples()['beta']\n",
    "print(\"inferred stick-breaking weights\", mix_weights(betaScaledInDirichlet).mean(0))"
   ]
  },
  {
   "cell_type": "code",
   "execution_count": 31,
   "metadata": {},
   "outputs": [
    {
     "output_type": "stream",
     "name": "stderr",
     "text": [
      "sample: 100%|██████████| 1100/1100 [08:22<00:00,  2.19it/s, 511 steps of size 3.57e-03. acc. prob=0.81]\n",
      "\n",
      "                 mean       std    median      5.0%     95.0%     n_eff     r_hat\n",
      "    beta[0]      0.75      0.00      0.75      0.75      0.76    442.20      1.00\n",
      "    beta[1]      0.39      0.01      0.39      0.38      0.40   1288.17      1.00\n",
      "    beta[2]      0.35      0.01      0.35      0.33      0.36   1326.11      1.00\n",
      "     mu3[0]      5.89      2.06      5.67      2.33      8.84    662.81      1.00\n",
      "     mu3[1]      4.41      1.60      4.26      1.64      6.61    791.73      1.00\n",
      "     mu3[2]      4.45      1.66      4.30      1.73      6.91    712.50      1.00\n",
      "     mu3[3]      2.22      0.77      2.13      1.01      3.24    974.23      1.00\n",
      "probs2[0,0]      0.60      0.00      0.60      0.59      0.60   1756.15      1.00\n",
      "probs2[0,1]      0.18      0.00      0.18      0.18      0.18   1510.73      1.00\n",
      "probs2[0,2]      0.18      0.00      0.18      0.18      0.18   1006.49      1.00\n",
      "probs2[0,3]      0.05      0.00      0.05      0.05      0.05    867.13      1.00\n",
      "probs2[1,0]      0.29      0.00      0.29      0.29      0.29   1185.82      1.00\n",
      "probs2[1,1]      0.48      0.00      0.48      0.48      0.49   1236.49      1.00\n",
      "probs2[1,2]      0.09      0.00      0.09      0.09      0.10   1153.28      1.00\n",
      "probs2[1,3]      0.13      0.00      0.13      0.13      0.13   1509.88      1.00\n",
      "probs2[2,0]      0.20      0.00      0.20      0.20      0.21   1234.60      1.00\n",
      "probs2[2,1]      0.35      0.00      0.35      0.35      0.35    855.68      1.00\n",
      "probs2[2,2]      0.35      0.00      0.35      0.34      0.35    944.04      1.00\n",
      "probs2[2,3]      0.10      0.00      0.10      0.10      0.10    874.92      1.00\n",
      "probs2[3,0]      0.29      0.00      0.29      0.29      0.29    650.49      1.00\n",
      "probs2[3,1]      0.09      0.00      0.09      0.09      0.10   1281.73      1.00\n",
      "probs2[3,2]      0.48      0.00      0.48      0.48      0.49    662.36      1.00\n",
      "probs2[3,3]      0.13      0.00      0.13      0.13      0.13    599.22      1.00\n",
      "\n",
      "Number of divergences: 0\n"
     ]
    }
   ],
   "source": [
    "nuts3 = NUTS(model)\n",
    "init_rng_key = random.PRNGKey(1273)\n",
    "mcmc3 = MCMC(nuts3, 100, 1000)\n",
    "res = mcmc3.run(init_rng_key, altCounts)\n",
    "mcmc3.print_summary()"
   ]
  },
  {
   "cell_type": "code",
   "execution_count": 66,
   "metadata": {},
   "outputs": [
    {
     "output_type": "error",
     "ename": "NameError",
     "evalue": "name 'mcmc3' is not defined",
     "traceback": [
      "\u001b[0;31m---------------------------------------------------------------------------\u001b[0m",
      "\u001b[0;31mNameError\u001b[0m                                 Traceback (most recent call last)",
      "\u001b[0;32m<ipython-input-66-1c0a73eb0084>\u001b[0m in \u001b[0;36m<module>\u001b[0;34m\u001b[0m\n\u001b[1;32m      1\u001b[0m \u001b[0;31m# Scaling by pDs gives absolutely no difference in concentrations or probabilities.\u001b[0m\u001b[0;34m\u001b[0m\u001b[0;34m\u001b[0m\u001b[0;34m\u001b[0m\u001b[0m\n\u001b[0;32m----> 2\u001b[0;31m \u001b[0ms3\u001b[0m \u001b[0;34m=\u001b[0m \u001b[0mmcmc3\u001b[0m\u001b[0;34m.\u001b[0m\u001b[0mget_samples\u001b[0m\u001b[0;34m(\u001b[0m\u001b[0;34m)\u001b[0m\u001b[0;34m[\u001b[0m\u001b[0;34m\"probs2\"\u001b[0m\u001b[0;34m]\u001b[0m\u001b[0;34m\u001b[0m\u001b[0;34m\u001b[0m\u001b[0m\n\u001b[0m\u001b[1;32m      3\u001b[0m \u001b[0mprint\u001b[0m\u001b[0;34m(\u001b[0m\u001b[0ms3\u001b[0m\u001b[0;34m.\u001b[0m\u001b[0mstd\u001b[0m\u001b[0;34m(\u001b[0m\u001b[0;36m0\u001b[0m\u001b[0;34m)\u001b[0m\u001b[0;34m)\u001b[0m\u001b[0;34m\u001b[0m\u001b[0;34m\u001b[0m\u001b[0m\n\u001b[1;32m      4\u001b[0m \u001b[0mprint\u001b[0m\u001b[0;34m(\u001b[0m\u001b[0ms3\u001b[0m\u001b[0;34m.\u001b[0m\u001b[0mmean\u001b[0m\u001b[0;34m(\u001b[0m\u001b[0;36m0\u001b[0m\u001b[0;34m)\u001b[0m \u001b[0;34m*\u001b[0m \u001b[0;36m2\u001b[0m\u001b[0;34m)\u001b[0m\u001b[0;34m\u001b[0m\u001b[0;34m\u001b[0m\u001b[0m\n\u001b[1;32m      5\u001b[0m \u001b[0mprint\u001b[0m\u001b[0;34m(\u001b[0m\u001b[0ms3\u001b[0m\u001b[0;34m.\u001b[0m\u001b[0mmean\u001b[0m\u001b[0;34m(\u001b[0m\u001b[0;36m0\u001b[0m\u001b[0;34m)\u001b[0m \u001b[0;34m*\u001b[0m \u001b[0ms3\u001b[0m\u001b[0;34m.\u001b[0m\u001b[0msum\u001b[0m\u001b[0;34m(\u001b[0m\u001b[0;36m0\u001b[0m\u001b[0;34m)\u001b[0m \u001b[0;34m/\u001b[0m \u001b[0;34m(\u001b[0m\u001b[0mabs\u001b[0m\u001b[0;34m(\u001b[0m\u001b[0;36m1\u001b[0m \u001b[0;34m-\u001b[0m \u001b[0ms3\u001b[0m\u001b[0;34m.\u001b[0m\u001b[0msum\u001b[0m\u001b[0;34m(\u001b[0m\u001b[0;36m0\u001b[0m\u001b[0;34m)\u001b[0m\u001b[0;34m)\u001b[0m\u001b[0;34m)\u001b[0m\u001b[0;34m)\u001b[0m\u001b[0;34m\u001b[0m\u001b[0;34m\u001b[0m\u001b[0m\n",
      "\u001b[0;31mNameError\u001b[0m: name 'mcmc3' is not defined"
     ]
    }
   ],
   "source": [
    "# Scaling by pDs gives absolutely no difference in concentrations or probabilities.\n",
    "s3 = mcmc3.get_samples()[\"probs2\"]\n",
    "print(s3.std(0))\n",
    "print(s3.mean(0) * pdsAll / 1e-4)\n",
    "print(s3.mean(0) * s3.sum(0) / (abs(1 - s3.sum(0))))\n",
    "\n",
    "concentrations3 = mcmc3.get_samples()[\"mu3\"]\n",
    "print(concentrations3.mean(0))\n",
    "\n",
    "beta3 = mcmc3.get_samples()['beta']\n",
    "print(\"inferred stick-breaking weights\", mix_weights(beta3).mean(0))"
   ]
  },
  {
   "cell_type": "code",
   "execution_count": 3,
   "metadata": {},
   "outputs": [
    {
     "output_type": "stream",
     "name": "stdout",
     "text": [
      "x [ 73.321144  21.306526 979.7079   878.8005   165.40814 ]\n"
     ]
    }
   ],
   "source": [
    "import numpyro\n",
    "import jax.numpy as jnx\n",
    "with numpyro.handlers.seed(rng_seed=0):\n",
    "    x = numpyro.sample('x2', numpyro.distributions.Uniform(jnx.ones(5), 1000))  # random.PRNGKey(0) is used\n",
    "    print(\"x\", x)"
   ]
  },
  {
   "cell_type": "code",
   "execution_count": 4,
   "metadata": {},
   "outputs": [
    {
     "output_type": "stream",
     "name": "stderr",
     "text": [
      "sample: 100%|██████████| 1100/1100 [00:47<00:00, 23.27it/s, 31 steps of size 5.47e-02. acc. prob=0.86]\n"
     ]
    },
    {
     "output_type": "error",
     "ename": "NameError",
     "evalue": "name 'mcmc' is not defined",
     "traceback": [
      "\u001b[0;31m---------------------------------------------------------------------------\u001b[0m",
      "\u001b[0;31mNameError\u001b[0m                                 Traceback (most recent call last)",
      "\u001b[0;32m<ipython-input-4-7f3750418c69>\u001b[0m in \u001b[0;36m<module>\u001b[0;34m\u001b[0m\n\u001b[1;32m      3\u001b[0m \u001b[0mmcmc2\u001b[0m \u001b[0;34m=\u001b[0m \u001b[0mMCMC\u001b[0m\u001b[0;34m(\u001b[0m\u001b[0mnuts2\u001b[0m\u001b[0;34m,\u001b[0m \u001b[0;36m100\u001b[0m\u001b[0;34m,\u001b[0m \u001b[0;36m1000\u001b[0m\u001b[0;34m)\u001b[0m\u001b[0;34m\u001b[0m\u001b[0;34m\u001b[0m\u001b[0m\n\u001b[1;32m      4\u001b[0m \u001b[0mres\u001b[0m \u001b[0;34m=\u001b[0m \u001b[0mmcmc2\u001b[0m\u001b[0;34m.\u001b[0m\u001b[0mrun\u001b[0m\u001b[0;34m(\u001b[0m\u001b[0minit_rng_key\u001b[0m\u001b[0;34m,\u001b[0m \u001b[0maltCounts\u001b[0m\u001b[0;34m)\u001b[0m\u001b[0;34m\u001b[0m\u001b[0;34m\u001b[0m\u001b[0m\n\u001b[0;32m----> 5\u001b[0;31m \u001b[0mmcmc\u001b[0m\u001b[0;34m.\u001b[0m\u001b[0mprint_summary\u001b[0m\u001b[0;34m(\u001b[0m\u001b[0;34m)\u001b[0m\u001b[0;34m\u001b[0m\u001b[0;34m\u001b[0m\u001b[0m\n\u001b[0m",
      "\u001b[0;31mNameError\u001b[0m: name 'mcmc' is not defined"
     ]
    }
   ],
   "source": [
    "nuts2 = NUTS(model)\n",
    "init_rng_key = random.PRNGKey(1273)\n",
    "mcmc2 = MCMC(nuts2, 100, 1000)\n",
    "res = mcmc2.run(init_rng_key, altCounts)\n",
    "mcmc2.print_summary()"
   ]
  },
  {
   "cell_type": "code",
   "execution_count": 27,
   "metadata": {},
   "outputs": [
    {
     "output_type": "stream",
     "name": "stdout",
     "text": [
      "[[0.00060655 0.00047736 0.00045819 0.00026776]\n [0.00119851 0.00136679 0.00076345 0.00084428]\n [0.00126107 0.00149363 0.00142916 0.000911  ]\n [0.00120162 0.00076245 0.00131083 0.00086376]]\n[[3542.2522    319.5185    318.4024     22.69806 ]\n [1737.6328    862.2286    168.72958    62.257706]\n [1210.7587    620.82837   619.6189     48.543816]\n [1731.5288    168.46025   865.813      61.86202 ]]\n[[0.5961001  0.17993596 0.17931096 0.04868735]\n [0.29292575 0.48385006 0.09549925 0.13174888]\n [0.20441239 0.34866676 0.34798947 0.10295192]\n [0.29190028 0.09534845 0.4858573  0.130918  ]]\n[5.878089  4.4862313 4.48263   2.218408 ]\ninferred stick-breaking weights [0.751837   0.09819707 0.0524589  0.09950271]\n"
     ]
    }
   ],
   "source": [
    "# Attempt at using shared concentration\n",
    "s = mcmc2.get_samples()[\"probs2\"]\n",
    "print(s.std(0))\n",
    "print(s.mean(0) * pdsAll / 1e-4)\n",
    "print(s.mean(0) * s.sum(0) / (abs(1 - s.sum(0))))\n",
    "\n",
    "concentrations = mcmc2.get_samples()[\"mu3\"]\n",
    "print(concentrations.mean(0))\n",
    "\n",
    "beta = mcmc2.get_samples()['beta']\n",
    "print(\"inferred stick-breaking weights\", mix_weights(beta).mean(0))"
   ]
  },
  {
   "cell_type": "code",
   "execution_count": null,
   "metadata": {},
   "outputs": [],
   "source": [
    "nuts = NUTS(modelLogNormal)\n",
    "init_rng_key = random.PRNGKey(1273)\n",
    "mcmc = MCMC(nuts, 100, 1000)\n",
    "res = mcmc.run(init_rng_key, altCounts)\n",
    "mcmc.print_summary()"
   ]
  },
  {
   "cell_type": "code",
   "execution_count": 238,
   "metadata": {},
   "outputs": [
    {
     "output_type": "stream",
     "name": "stdout",
     "text": [
      "[[0.00135276 0.00143652 0.0015077  0.00094736]\n [0.00116426 0.00074751 0.00128939 0.0008272 ]\n [0.00062613 0.0005143  0.00049686 0.00026963]\n [0.00121846 0.00132125 0.00071697 0.00086843]]\n[[1214.8066    618.3147    619.5247     48.915443]\n [1740.3151    168.90504   865.8255     61.037106]\n [3542.816     319.43088   318.16068    22.740835]\n [1759.8707    859.7818    168.8585     61.09671 ]]\n[[0.20509245 0.3472591  0.3479367  0.10373226]\n [0.29337636 0.09559751 0.4858643  0.12918577]\n [0.59619474 0.1798869  0.17917562 0.04877714]\n [0.29666167 0.48247987 0.09557145 0.12931094]]\n[0.05119295 0.11006352 0.8834954 ]\n"
     ]
    }
   ],
   "source": [
    "# Attempt at using shared concentration\n",
    "s = mcmc.get_samples()[\"probs\"]\n",
    "print(s.std(0))\n",
    "print(s.mean(0) * pdsAll / 1e-4)\n",
    "print(s.mean(0) * s.sum(0) / (abs(1 - s.sum(0))))\n",
    "\n",
    "beta = mcmc.get_samples()['beta']\n",
    "print(beta.mean(0))"
   ]
  },
  {
   "cell_type": "code",
   "execution_count": null,
   "metadata": {},
   "outputs": [],
   "source": []
  },
  {
   "cell_type": "code",
   "execution_count": 207,
   "metadata": {},
   "outputs": [
    {
     "output_type": "stream",
     "name": "stdout",
     "text": [
      "[[0.00135276 0.00143652 0.0015077  0.00094736]\n [0.00116426 0.00074751 0.00128939 0.0008272 ]\n [0.00062613 0.0005143  0.00049686 0.00026963]\n [0.00121846 0.00132125 0.00071697 0.00086843]]\n[[1214.8066    618.3147    619.5247     48.915443]\n [1740.3151    168.90504   865.8255     61.037106]\n [3542.816     319.43088   318.16068    22.740835]\n [1759.8707    859.7818    168.8585     61.09671 ]]\n[[0.20509245 0.3472591  0.3479367  0.10373226]\n [0.29337636 0.09559751 0.4858643  0.12918577]\n [0.59619474 0.1798869  0.17917562 0.04877714]\n [0.29666167 0.48247987 0.09557145 0.12931094]]\n"
     ]
    }
   ],
   "source": [
    "# Attempt at scaling using deterministic\n",
    "# EXACTLY the same results! but much slower to converge\n",
    "s = mcmc.get_samples()[\"probs\"]\n",
    "print(s.std(0))\n",
    "print(s.mean(0) * pdsAll / 1e-4)\n",
    "print(s.mean(0) * s.sum(0) / (abs(1 - s.sum(0))))"
   ]
  },
  {
   "cell_type": "code",
   "execution_count": 152,
   "metadata": {},
   "outputs": [
    {
     "output_type": "stream",
     "name": "stdout",
     "text": [
      "[[0.00135276 0.00143652 0.0015077  0.00094736]\n [0.00116426 0.00074751 0.00128939 0.0008272 ]\n [0.00062613 0.0005143  0.00049686 0.00026963]\n [0.00121846 0.00132125 0.00071697 0.00086843]]\n[[0.20408753 0.3462562  0.3469338  0.10272242]\n [0.2923729  0.09458682 0.48486227 0.12817791]\n [0.595193   0.17888129 0.17816997 0.04775575]\n [0.29565826 0.4814778  0.09456076 0.12830308]]\n"
     ]
    }
   ],
   "source": [
    "# No scaling by pDs\n",
    "s = mcmc.get_samples()[\"probs\"]\n",
    "print(s.std(0))\n",
    "print(s.mean(0))"
   ]
  },
  {
   "cell_type": "code",
   "execution_count": 134,
   "metadata": {},
   "outputs": [
    {
     "output_type": "stream",
     "name": "stdout",
     "text": [
      "[[0.00112425 0.00072443 0.00122722 0.0008287 ]\n [0.00129735 0.00151242 0.001484   0.00094055]\n [0.00062192 0.00050019 0.00049377 0.00026432]\n [0.00126624 0.00133723 0.00076884 0.00085534]]\n[[0.29231083 0.0946319  0.48484075 0.12821656]\n [0.20410876 0.34625798 0.34691718 0.10271599]\n [0.5951638  0.17888646 0.17819968 0.04774999]\n [0.2955718  0.48146    0.09461594 0.12835221]]\n"
     ]
    }
   ],
   "source": [
    "s = mcmc.get_samples()[\"probs\"]\n",
    "print(s.std(0))\n",
    "print(s.mean(0))"
   ]
  },
  {
   "cell_type": "code",
   "execution_count": 229,
   "metadata": {},
   "outputs": [
    {
     "output_type": "stream",
     "name": "stdout",
     "text": [
      "[[0.00135276 0.00143652 0.0015077  0.00094736]\n [0.00116426 0.00074751 0.00128939 0.0008272 ]\n [0.00062613 0.0005143  0.00049686 0.00026963]\n [0.00121846 0.00132125 0.00071697 0.00086843]]\n[[ 3428.6704 19390.348  19428.293  21571.709 ]\n [ 4911.8647  5296.862  27152.287  26917.361 ]\n [ 9999.243  10017.353   9977.519  10028.708 ]\n [ 4967.0586 26962.758   5295.403  26943.648 ]]\n"
     ]
    }
   ],
   "source": [
    "s = mcmc.get_samples()[\"probs\"]\n",
    "print(s.std(0))\n",
    "print(s.mean(0) / (1e-4 * pdsAll))"
   ]
  },
  {
   "cell_type": "code",
   "execution_count": 216,
   "metadata": {},
   "outputs": [
    {
     "output_type": "execute_result",
     "data": {
      "text/plain": [
       "DeviceArray([[0.34286705, 1.9390347 , 1.9428293 , 2.1571708 ],\n",
       "             [0.4911865 , 0.52968615, 2.7152286 , 2.691736  ],\n",
       "             [0.9999243 , 1.0017352 , 0.9977518 , 1.0028708 ],\n",
       "             [0.4967059 , 2.6962757 , 0.52954024, 2.6943645 ]],            dtype=float32)"
      ]
     },
     "metadata": {},
     "execution_count": 216
    }
   ],
   "source": [
    "s.mean(0) / pdsAll "
   ]
  },
  {
   "cell_type": "code",
   "execution_count": 9,
   "metadata": {},
   "outputs": [
    {
     "output_type": "execute_result",
     "data": {
      "text/plain": [
       "tensor([0.5956, 0.1787, 0.1787, 0.0476], dtype=torch.float64)"
      ]
     },
     "metadata": {},
     "execution_count": 9
    }
   ],
   "source": [
    "(liabData55cov[\"afs\"][liabData55cov[\"unaffectedGenes\"]]).mean(0) / liabParams55cov[\"afMean\"]# PD|V"
   ]
  },
  {
   "cell_type": "code",
   "execution_count": 10,
   "metadata": {},
   "outputs": [
    {
     "output_type": "execute_result",
     "data": {
      "text/plain": [
       "tensor(0.0001, dtype=torch.float64)"
      ]
     },
     "metadata": {},
     "execution_count": 10
    }
   ],
   "source": [
    "liabData55cov[\"afs\"][liabData55cov[\"unaffectedGenes\"]].mean(0).sum()"
   ]
  },
  {
   "cell_type": "code",
   "execution_count": 11,
   "metadata": {},
   "outputs": [
    {
     "output_type": "execute_result",
     "data": {
      "text/plain": [
       "tensor([0.5732, 0.5439, 0.1782, 0.1450], dtype=torch.float64)"
      ]
     },
     "metadata": {},
     "execution_count": 11
    }
   ],
   "source": [
    "(liabData55cov[\"afs\"][liabData55cov[\"affectedGenes\"][0]]).mean(0) / liabParams55cov[\"afMean\"]# PD|V"
   ]
  },
  {
   "cell_type": "code",
   "execution_count": 12,
   "metadata": {},
   "outputs": [
    {
     "output_type": "execute_result",
     "data": {
      "text/plain": [
       "tensor([0.9630, 3.0458, 0.9981, 3.0458], dtype=torch.float64)"
      ]
     },
     "metadata": {},
     "execution_count": 12
    }
   ],
   "source": [
    "(liabData55cov[\"afs\"][liabData55cov[\"affectedGenes\"][0]]).mean(0) / (tensor(pdsAllnp) * liabParams55cov[\"afMean\"]) #rr"
   ]
  },
  {
   "cell_type": "code",
   "execution_count": 13,
   "metadata": {},
   "outputs": [
    {
     "output_type": "execute_result",
     "data": {
      "text/plain": [
       "tensor([0.5836, 0.1783, 0.3649, 0.0973], dtype=torch.float64)"
      ]
     },
     "metadata": {},
     "execution_count": 13
    }
   ],
   "source": [
    "(liabData55cov[\"afs\"][liabData55cov[\"affectedGenes\"][1]]).mean(0) / liabParams55cov[\"afMean\"]# PD|V"
   ]
  },
  {
   "cell_type": "code",
   "execution_count": 12,
   "metadata": {},
   "outputs": [
    {
     "output_type": "stream",
     "name": "stdout",
     "text": [
      "pdv tensor([0.5962, 0.1788, 0.1788, 0.0477], dtype=torch.float64)\npdv scaled tensor([0.5952, 0.1786, 0.1786, 0.0476], dtype=torch.float64)\n"
     ]
    }
   ],
   "source": [
    "pdv = (liabData55cov[\"afs\"][liabData55cov[\"unaffectedGenes\"]]).mean(0) / liabParams55cov[\"afMean\"]# PD|V\n",
    "print(\"pdv\", pdv)\n",
    "# \n",
    "# This matches our DM results perfectly; so the DM result matches scale\n",
    "# how to allow our pdv values to work ok...\n",
    "print(\"pdv scaled\", pdv/pdv.sum())"
   ]
  },
  {
   "cell_type": "code",
   "execution_count": 10,
   "metadata": {},
   "outputs": [
    {
     "output_type": "stream",
     "name": "stdout",
     "text": [
      "pdv tensor([0.5771, 0.5481, 0.1795, 0.1462], dtype=torch.float64)\npdv scaled tensor([0.3978, 0.3778, 0.1237, 0.1007], dtype=torch.float64)\n"
     ]
    },
    {
     "output_type": "execute_result",
     "data": {
      "text/plain": [
       "tensor(1.4508, dtype=torch.float64)"
      ]
     },
     "metadata": {},
     "execution_count": 10
    }
   ],
   "source": [
    "pdv = (liabData55cov[\"afs\"][liabData55cov[\"affectedGenes\"][0]]).mean(0) / liabParams55cov[\"afMean\"]# PD|V\n",
    "print(\"pdv\", pdv)\n",
    "\n",
    "# This matches our DM results perfectly; so the DM result matches scale\n",
    "# how to allow our pdv values to work ok...\n",
    "print(\"pdv scaled\", pdv/pdv.sum())\n",
    "\n",
    "pdv.sum()"
   ]
  },
  {
   "cell_type": "code",
   "execution_count": 9,
   "metadata": {},
   "outputs": [
    {
     "output_type": "stream",
     "name": "stdout",
     "text": [
      "pdv tensor([0.5834, 0.1782, 0.3651, 0.0974], dtype=torch.float64)\npdv scaled tensor([0.4766, 0.1456, 0.2983, 0.0795], dtype=torch.float64)\n"
     ]
    },
    {
     "output_type": "execute_result",
     "data": {
      "text/plain": [
       "tensor(1.2242, dtype=torch.float64)"
      ]
     },
     "metadata": {},
     "execution_count": 9
    }
   ],
   "source": [
    "pdv = (liabData55cov[\"afs\"][liabData55cov[\"affectedGenes\"][1]]).mean(0) / liabParams55cov[\"afMean\"]# PD|V\n",
    "print(\"pdv\", pdv)\n",
    "\n",
    "# This matches our DM results perfectly; so the DM result matches scale\n",
    "# how to allow our pdv values to work ok...\n",
    "print(\"pdv scaled\", pdv/pdv.sum())\n",
    "\n",
    "pdv.sum()"
   ]
  },
  {
   "cell_type": "code",
   "execution_count": 20,
   "metadata": {},
   "outputs": [
    {
     "output_type": "stream",
     "name": "stdout",
     "text": [
      "pdv tensor([0.5751, 0.5526, 0.3690, 0.1229], dtype=torch.float64)\npdv scaled tensor([0.3551, 0.3412, 0.2278, 0.0759], dtype=torch.float64)\n"
     ]
    },
    {
     "output_type": "execute_result",
     "data": {
      "text/plain": [
       "tensor(1.6196, dtype=torch.float64)"
      ]
     },
     "metadata": {},
     "execution_count": 20
    }
   ],
   "source": [
    "pdv = (liabData55cov[\"afs\"][liabData55cov[\"affectedGenes\"][2]]).mean(0) / liabParams55cov[\"afMean\"]# PD|V\n",
    "print(\"pdv\", pdv)\n",
    "\n",
    "# This matches our DM results perfectly; so the DM result matches scale\n",
    "# how to allow our pdv values to work ok...\n",
    "print(\"pdv scaled\", pdv/pdv.sum())\n",
    "\n",
    "pdv.sum()"
   ]
  },
  {
   "cell_type": "code",
   "execution_count": null,
   "metadata": {},
   "outputs": [],
   "source": [
    "# [[0.01911611 0.01343591 0.01555622 0.00563713]\n",
    "#  [0.00406165 0.00276914 0.00327851 0.00133072]\n",
    "#  [0.01090826 0.00992517 0.0113952  0.00424665]\n",
    "#  [0.01858757 0.02309512 0.02210252 0.01013227]]\n",
    "# [[0.47631553 0.10743626 0.26105177 0.03134572]\n",
    "#  [0.60844487 0.14429386 0.14502415 0.01706672]\n",
    "#  [0.40694135 0.31180432 0.09986749 0.0380971 ]\n",
    "#  [0.35437214 0.26981634 0.2043957  0.02945131]]\n",
    "# conc std [ 12.166306  71.86332   67.61688  157.65123 ]\n",
    "# conc mean [ 36.537464 213.60443  190.46646  793.18304 ]\n",
    "# DIrichlet version [0.02961397 0.17312849 0.15437493 0.64288265]\n",
    "# inferred stick-breaking weights [0.11452598 0.665086   0.13667543 0.08672265]"
   ]
  },
  {
   "cell_type": "code",
   "execution_count": 6,
   "metadata": {},
   "outputs": [
    {
     "output_type": "stream",
     "name": "stdout",
     "text": [
      "pdv tensor([0.5688, 0.5427, 0.3629, 0.1207], dtype=torch.float64)\npdvpv tensor([5.6883e-05, 5.4270e-05, 3.6289e-05, 1.2074e-05], dtype=torch.float64)\npdvpv.sum() tensor(0.0002, dtype=torch.float64)\npdvpv scaled tensor([0.3566, 0.3402, 0.2275, 0.0757], dtype=torch.float64)\n"
     ]
    }
   ],
   "source": [
    "pdvpv = (liabData55cov[\"afs\"][liabData55cov[\"affectedGenes\"][2]]).mean(0) #/ liabParams55cov[\"afMean\"]# PD|V\n",
    "pdv = pdvpv / liabParams55cov[\"afMean\"]\n",
    "print(\"pdv\", pdv)\n",
    "print(\"pdvpv\", pdvpv)\n",
    "print(\"pdvpv.sum()\", pdvpv.sum())\n",
    "# This matches our DM results perfectly; so the DM result matches scale\n",
    "# how to allow our pdv values to work ok...\n",
    "print(\"pdvpv scaled\", pdvpv/pdvpv.sum())\n"
   ]
  },
  {
   "cell_type": "code",
   "execution_count": 103,
   "metadata": {},
   "outputs": [
    {
     "output_type": "execute_result",
     "data": {
      "text/plain": [
       "tensor([[1., 3., 5., 1.],\n",
       "        [7., 5., 1., 2.],\n",
       "        [6., 3., 0., 0.],\n",
       "        ...,\n",
       "        [7., 1., 4., 0.],\n",
       "        [7., 1., 4., 1.],\n",
       "        [5., 3., 4., 0.]], dtype=torch.float64)"
      ]
     },
     "metadata": {},
     "execution_count": 103
    }
   ],
   "source": [
    "liabData55cov[\"altCounts\"][liabData55cov[\"affectedGenes\"][2]]"
   ]
  },
  {
   "cell_type": "code",
   "execution_count": 92,
   "metadata": {},
   "outputs": [
    {
     "output_type": "execute_result",
     "data": {
      "text/plain": [
       "tensor(1.2323, dtype=torch.float64)"
      ]
     },
     "metadata": {},
     "execution_count": 92
    }
   ],
   "source": [
    "pdv.sum()"
   ]
  },
  {
   "cell_type": "code",
   "execution_count": 93,
   "metadata": {},
   "outputs": [
    {
     "output_type": "execute_result",
     "data": {
      "text/plain": [
       "tensor([5.7766e-05, 3.6280e-05, 3.6217e-05, 1.0090e-05], dtype=torch.float64)"
      ]
     },
     "metadata": {},
     "execution_count": 93
    }
   ],
   "source": [
    "(liabData55cov[\"afs\"][liabData55cov[\"affectedGenes\"][2]]).mean(0) "
   ]
  },
  {
   "cell_type": "code",
   "execution_count": 94,
   "metadata": {},
   "outputs": [
    {
     "output_type": "execute_result",
     "data": {
      "text/plain": [
       "tensor([5.8707e-05, 3.6776e-05, 1.7935e-05, 9.8070e-06], dtype=torch.float64)"
      ]
     },
     "metadata": {},
     "execution_count": 94
    }
   ],
   "source": [
    "liabData55cov[\"afs\"][liabData55cov[\"affectedGenes\"][0]].mean(0) "
   ]
  },
  {
   "cell_type": "code",
   "execution_count": 95,
   "metadata": {},
   "outputs": [
    {
     "output_type": "execute_result",
     "data": {
      "text/plain": [
       "[0.5952380895614624, 0.17857143, 0.17857143, 0.04761905]"
      ]
     },
     "metadata": {},
     "execution_count": 95
    }
   ],
   "source": [
    "pdsAllnp"
   ]
  },
  {
   "cell_type": "code",
   "execution_count": 96,
   "metadata": {},
   "outputs": [
    {
     "output_type": "execute_result",
     "data": {
      "text/plain": [
       "tensor(1.0000e-04)"
      ]
     },
     "metadata": {},
     "execution_count": 96
    }
   ],
   "source": [
    "liabParams55cov[\"afMean\"]"
   ]
  },
  {
   "cell_type": "code",
   "execution_count": 97,
   "metadata": {},
   "outputs": [
    {
     "output_type": "execute_result",
     "data": {
      "text/plain": [
       "tensor([5.8707e-05, 3.6776e-05, 1.7935e-05, 9.8070e-06], dtype=torch.float64)"
      ]
     },
     "metadata": {},
     "execution_count": 97
    }
   ],
   "source": [
    "liabData55cov[\"afs\"][liabData55cov[\"affectedGenes\"][0]].mean(0)"
   ]
  },
  {
   "cell_type": "code",
   "execution_count": 98,
   "metadata": {},
   "outputs": [
    {
     "output_type": "execute_result",
     "data": {
      "text/plain": [
       "tensor(1.0000e-04)"
      ]
     },
     "metadata": {},
     "execution_count": 98
    }
   ],
   "source": [
    "liabParams55cov[\"afMean\"]"
   ]
  },
  {
   "cell_type": "code",
   "execution_count": null,
   "metadata": {},
   "outputs": [],
   "source": [
    "# (1000, 4, 4)\n",
    "# [[0.00514663 0.00313207 0.00355292 0.00149964]\n",
    "#  [0.01928454 0.04950465 0.04956334 0.0065191 ]\n",
    "#  [0.02503735 0.04772532 0.03840724 0.00905628]\n",
    "#  [0.06047119 0.05520838 0.05940869 0.03415463]]\n",
    "# [[0.607701   0.1456876  0.14313476 0.01758165]\n",
    "#  [0.45891437 0.14094748 0.24490298 0.03002501]\n",
    "#  [0.45052725 0.23326729 0.15602364 0.03166293]\n",
    "#  [0.4925649  0.1685785  0.18608962 0.03147438]]\n",
    "# conc std [18.310623   7.338482   7.672899   2.7556536]\n",
    "# conc mean [46.069946 18.652845 19.728569  6.812487]\n",
    "# DIrichlet version [0.50479954 0.20438373 0.2161707  0.07464606]\n",
    "# inferred stick-breaking weights [0.6861298  0.14098327 0.1566307  0.01916244]"
   ]
  },
  {
   "cell_type": "code",
   "execution_count": null,
   "metadata": {},
   "outputs": [],
   "source": []
  },
  {
   "cell_type": "code",
   "execution_count": null,
   "metadata": {},
   "outputs": [],
   "source": []
  }
 ]
}