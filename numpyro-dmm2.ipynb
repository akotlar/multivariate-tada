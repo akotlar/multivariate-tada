{
 "metadata": {
  "language_info": {
   "codemirror_mode": {
    "name": "ipython",
    "version": 3
   },
   "file_extension": ".py",
   "mimetype": "text/x-python",
   "name": "python",
   "nbconvert_exporter": "python",
   "pygments_lexer": "ipython3",
   "version": "3.7.6-final"
  },
  "orig_nbformat": 2,
  "kernelspec": {
   "name": "Python 3.7.6 64-bit ('base': conda)",
   "display_name": "Python 3.7.6 64-bit ('base': conda)",
   "metadata": {
    "interpreter": {
     "hash": "afe5ebbfdd63d5f53bf49e6aa62793990f23c9b8ec75185fbb6f3054c1465b21"
    }
   }
  }
 },
 "nbformat": 4,
 "nbformat_minor": 2,
 "cells": [
  {
   "cell_type": "code",
   "execution_count": 20,
   "metadata": {},
   "outputs": [],
   "source": []
  },
  {
   "cell_type": "code",
   "execution_count": 2,
   "metadata": {},
   "outputs": [
    {
     "output_type": "stream",
     "name": "stdout",
     "text": [
      "covShared tensor([[1.0000, 0.9500],\n",
      "        [0.9500, 1.0000]])\n",
      "residualCovariance tensor([[1, 0],\n",
      "        [0, 1]])\n",
      "PD1 threshold, PD2 threshold tensor(-2.3263) tensor(-2.3263)\n",
      "pDsWithBoth tensor([0.0100, 0.0100, 0.0067], dtype=torch.float64)\n",
      "pdThresh tensor([2.3263, 2.3263])\n",
      "pdTarget tensor([0.0200, 0.0200])\n",
      "pdvthresh tensor([2.0537, 2.0537])\n",
      "meanEffect tensor([0.2726, 0.2726])\n",
      "meanEffectsAcrossAllGenes tensor([0.2726, 0.2726])\n",
      "allEffects tensor([[-0.4456, -0.4227],\n",
      "        [-0.2570, -0.2568],\n",
      "        [-0.3072, -0.3037],\n",
      "        ...,\n",
      "        [-0.0949, -0.1118],\n",
      "        [-0.3043, -0.2596],\n",
      "        [-0.3507, -0.3370]])\n",
      "PD1GivenV.mean() tensor(0.0205) PD2GivenV.mean() tensor(0.0205)\n",
      "allEffects[i] tensor([-0.4456, -0.4227])\n",
      "PDBothGivenV.mean tensor(0.0144, dtype=torch.float64)\n",
      "PDBothGivenV / PDBoth tensor(2.1426, dtype=torch.float64)\n",
      "pdsCovarOnMean.mean(0) tensor([0.0205, 0.0205, 0.0144], dtype=torch.float64)\n",
      "np.corrcoef(pdvInBoth[:,0], pdvInBoth[:,1])\n",
      " [[1.         0.94822021]\n",
      " [0.94822021 1.        ]]\n",
      "np.corrcoef(pdvInBoth[:,0], pdvInBoth[:,2])\n",
      " [[1.         0.98682075]\n",
      " [0.98682075 1.        ]]\n",
      "PDBoth1GivenV tensor([0.0127, 0.0112, 0.0115,  ..., 0.0118, 0.0114, 0.0188])\n",
      "PDBoth2GivenV tensor([0.0161, 0.0172, 0.0126,  ..., 0.0151, 0.0105, 0.0110])\n",
      "np.corrcoef(PD1Vsingle, PD2Vsingle)\n",
      " [[ 1.         -0.00677857]\n",
      " [-0.00677857  1.        ]]\n",
      "np.corrcoef(PD1Vsingle, PDBoth1GivenV)\n",
      " [[1. 1.]\n",
      " [1. 1.]]\n",
      "np.corrcoef(PD2Vsingle, PDBoth1GivenV)\n",
      " [[ 1.         -0.00677857]\n",
      " [-0.00677857  1.        ]]\n",
      "np.corrcoef(PD2Vsingle, PDBoth2GivenV)\n",
      " [[1. 1.]\n",
      " [1. 1.]]\n",
      "pdvsGeneAffects1.mean tensor([0.0139, 0.0126, 0.0129,  ..., 0.0131, 0.0128, 0.0189])\n",
      "afs.dist tensor(0.0005) +/- tensor(7.0374e-05)\n",
      "afs.shape torch.Size([20000])\n",
      "pvd_base tensor([[[1.0000, 1.0000, 1.0000],\n",
      "         [1.9017, 1.0000, 1.9017],\n",
      "         [1.0000, 2.4075, 2.4075],\n",
      "         [3.0002, 2.8479, 3.1208]],\n",
      "\n",
      "        [[1.0000, 1.0000, 1.0000],\n",
      "         [1.6725, 1.0000, 1.6725],\n",
      "         [1.0000, 2.5700, 2.5700],\n",
      "         [1.9255, 1.9249, 2.0031]],\n",
      "\n",
      "        [[1.0000, 1.0000, 1.0000],\n",
      "         [1.7133, 1.0000, 1.7133],\n",
      "         [1.0000, 1.8802, 1.8802],\n",
      "         [2.1736, 2.1555, 2.2686]],\n",
      "\n",
      "        ...,\n",
      "\n",
      "        [[1.0000, 1.0000, 1.0000],\n",
      "         [1.7610, 1.0000, 1.7610],\n",
      "         [1.0000, 2.2592, 2.2592],\n",
      "         [1.2825, 1.3396, 1.3315]],\n",
      "\n",
      "        [[1.0000, 1.0000, 1.0000],\n",
      "         [1.7014, 1.0000, 1.7014],\n",
      "         [1.0000, 1.5618, 1.5618],\n",
      "         [2.1588, 1.9380, 2.1308]],\n",
      "\n",
      "        [[1.0000, 1.0000, 1.0000],\n",
      "         [2.7996, 1.0000, 2.7996],\n",
      "         [1.0000, 1.6378, 1.6378],\n",
      "         [2.4099, 2.3333, 2.4991]]], dtype=torch.float64)\n",
      "afs tensor([0.0004, 0.0006, 0.0004,  ..., 0.0005, 0.0006, 0.0005])\n",
      "pvds tensor([[[0.0004, 0.0004, 0.0004],\n",
      "         [0.0008, 0.0004, 0.0008],\n",
      "         [0.0004, 0.0010, 0.0010],\n",
      "         [0.0013, 0.0012, 0.0014]],\n",
      "\n",
      "        [[0.0006, 0.0006, 0.0006],\n",
      "         [0.0010, 0.0006, 0.0010],\n",
      "         [0.0006, 0.0015, 0.0015],\n",
      "         [0.0011, 0.0011, 0.0011]],\n",
      "\n",
      "        [[0.0004, 0.0004, 0.0004],\n",
      "         [0.0007, 0.0004, 0.0007],\n",
      "         [0.0004, 0.0008, 0.0008],\n",
      "         [0.0009, 0.0009, 0.0010]],\n",
      "\n",
      "        ...,\n",
      "\n",
      "        [[0.0005, 0.0005, 0.0005],\n",
      "         [0.0008, 0.0005, 0.0008],\n",
      "         [0.0005, 0.0011, 0.0011],\n",
      "         [0.0006, 0.0006, 0.0006]],\n",
      "\n",
      "        [[0.0006, 0.0006, 0.0006],\n",
      "         [0.0010, 0.0006, 0.0010],\n",
      "         [0.0006, 0.0009, 0.0009],\n",
      "         [0.0013, 0.0011, 0.0013]],\n",
      "\n",
      "        [[0.0005, 0.0005, 0.0005],\n",
      "         [0.0013, 0.0005, 0.0013],\n",
      "         [0.0005, 0.0008, 0.0008],\n",
      "         [0.0011, 0.0011, 0.0012]]], dtype=torch.float64)\n"
     ]
    }
   ],
   "source": [
    "from mvl import genData\n",
    "from torch import tensor\n",
    "\n",
    "liabParams55cov = genData.genParams(pis=tensor([.1, .1, .05]), rrMeans=tensor([2., 2.]), afMean = tensor(5e-4), pDs = tensor([.01, .01]), afShape=tensor(50.), nCases=tensor([1.5e4, 1.5e4, 4e3]), nCtrls=tensor(5e4), covShared=tensor([ [1, .95], [.95, 1] ]), meanEffectCovarianceScale=tensor(.01))[0]\n",
    "liabParams55cov[\"pDs\"] = liabParams55cov[\"pDs\"][0:2]\n",
    "liabData55cov = genData.v6liability(**liabParams55cov)\n",
    "liabParams55cov[\"pDs\"] = liabData55cov[\"PDs\"] #TODO: normalized names, and indicate that the params pDs are incomplete"
   ]
  },
  {
   "cell_type": "code",
   "execution_count": 38,
   "metadata": {},
   "outputs": [
    {
     "output_type": "stream",
     "name": "stdout",
     "text": [
      "pdsAll [0.59523809 0.17857143 0.17857143 0.04761905]\n[[0.5952381  0.17857143 0.17857143 0.04761905]\n [0.5952381  0.17857143 0.17857143 0.04761905]\n [0.5952381  0.17857143 0.17857143 0.04761905]\n [0.5952381  0.17857143 0.17857143 0.04761905]]\n[0.5952381  0.17857143 0.17857143 0.04761905]\n"
     ]
    }
   ],
   "source": [
    "import numpyro\n",
    "from numpyro.distributions import Multinomial, Beta, Dirichlet, Gamma, Categorical, Uniform\n",
    "from jax import random\n",
    "from numpyro.infer import MCMC, NUTS\n",
    "import numpy as np\n",
    "import jax.numpy as jnp\n",
    "\n",
    "def mix_weights(beta: jnp.array):\n",
    "    beta_cumprod = (1 - beta).cumprod(-1)\n",
    "    return jnp.pad(beta, (0,1), constant_values=1) * jnp.pad(beta_cumprod, (1,0), constant_values = 1)\n",
    "\n",
    "\n",
    "nHypotheses = 4\n",
    "kConditions = 4\n",
    "altCounts = liabData55cov[\"altCounts\"].numpy()\n",
    "N = len(liabData55cov[\"altCounts\"])\n",
    "\n",
    "nCases = liabParams55cov[\"nCases\"].numpy()\n",
    "nCtrls = liabParams55cov[\"nCtrls\"].numpy()\n",
    "samplePDs = nCases / (nCases.sum() + nCtrls)\n",
    "pdsAll = np.array([1 - samplePDs.sum(), *samplePDs])\n",
    "print(\"pdsAll\", pdsAll)\n",
    "\n",
    "# TODO: do this in numpy natively\n",
    "pdsAllShaped = jnp.asarray(tensor(pdsAll).expand(nHypotheses, kConditions).numpy())\n",
    "pdsAll = jnp.asarray([1 - samplePDs.sum(), *samplePDs])\n",
    "print(pdsAllShaped)\n",
    "print(pdsAll)\n",
    "alpha = .05\n",
    "def model(data):\n",
    "    with numpyro.plate(\"beta_plate\", nHypotheses-1):\n",
    "        beta = numpyro.sample(\"beta\", Beta(1, alpha))\n",
    "\n",
    "    with numpyro.plate(\"mu_plate\", nHypotheses):\n",
    "        probs = numpyro.sample(\"probs\", Dirichlet(np.ones(kConditions)))\n",
    "\n",
    "    with numpyro.plate(\"data\", N):\n",
    "        z = numpyro.sample(\"z\", Categorical(mix_weights(beta)))\n",
    "        return numpyro.sample(\"obs\", Multinomial(probs=probs[z]*pdsAll), obs=data)"
   ]
  },
  {
   "cell_type": "code",
   "execution_count": 41,
   "metadata": {},
   "outputs": [
    {
     "output_type": "stream",
     "name": "stdout",
     "text": [
      "beta [0.63411075 0.36859724 0.5924364 ]\n",
      "mix_weights(beta) [0.63411075 0.13486576 0.1368667  0.09415676]\n",
      "beta Traced<ConcreteArray([0.72160614 0.4830152  0.5712975 ])>with<JVPTrace(level=2/0)>\n",
      "  with primal = DeviceArray([0.72160614, 0.4830152 , 0.5712975 ], dtype=float32)\n",
      "       tangent = Traced<ShapedArray(float32[3]):JaxprTrace(level=1/0)>\n",
      "mix_weights(beta) Traced<ConcreteArray([0.72160614 0.13446847 0.08222423 0.06170117])>with<JVPTrace(level=2/0)>\n",
      "  with primal = DeviceArray([0.72160614, 0.13446847, 0.08222423, 0.06170117], dtype=float32)\n",
      "       tangent = Traced<ShapedArray(float32[4]):JaxprTrace(level=1/0)>\n",
      "  0%|          | 0/1100 [00:00<?, ?it/s]beta Traced<ShapedArray(float32[3])>with<JVPTrace(level=4/1)>\n",
      "  with primal = Traced<ShapedArray(float32[3])>with<DynamicJaxprTrace(level=2/1)>\n",
      "       tangent = Traced<ShapedArray(float32[3]):JaxprTrace(level=3/1)>\n",
      "mix_weights(beta) Traced<ShapedArray(float32[4])>with<JVPTrace(level=4/1)>\n",
      "  with primal = Traced<ShapedArray(float32[4])>with<DynamicJaxprTrace(level=2/1)>\n",
      "       tangent = Traced<ShapedArray(float32[4]):JaxprTrace(level=3/1)>\n",
      "warmup:   0%|          | 1/1100 [00:05<1:43:06,  5.63s/it, 1 steps of size 2.34e+00. acc. prob=0.00]beta Traced<ShapedArray(float32[3])>with<JVPTrace(level=4/1)>\n",
      "  with primal = Traced<ShapedArray(float32[3])>with<DynamicJaxprTrace(level=2/1)>\n",
      "       tangent = Traced<ShapedArray(float32[3]):JaxprTrace(level=3/1)>\n",
      "mix_weights(beta) Traced<ShapedArray(float32[4])>with<JVPTrace(level=4/1)>\n",
      "  with primal = Traced<ShapedArray(float32[4])>with<DynamicJaxprTrace(level=2/1)>\n",
      "       tangent = Traced<ShapedArray(float32[4]):JaxprTrace(level=3/1)>\n",
      "sample: 100%|██████████| 1100/1100 [00:43<00:00, 25.26it/s, 31 steps of size 2.77e-02. acc. prob=0.84]\n",
      "\n",
      "                mean       std    median      5.0%     95.0%     n_eff     r_hat\n",
      "   beta[0]      0.05      0.00      0.05      0.04      0.05    481.04      1.00\n",
      "   beta[1]      0.07      0.00      0.07      0.07      0.08    784.69      1.00\n",
      "   beta[2]      0.91      0.00      0.91      0.91      0.92   1022.66      1.00\n",
      "probs[0,0]      0.38      0.00      0.38      0.37      0.39    682.65      1.00\n",
      "probs[0,1]      0.27      0.00      0.27      0.26      0.27    748.56      1.00\n",
      "probs[0,2]      0.28      0.00      0.28      0.27      0.28   1148.64      1.00\n",
      "probs[0,3]      0.08      0.00      0.08      0.07      0.08   1276.52      1.00\n",
      "probs[1,0]      0.45      0.00      0.45      0.44      0.45    748.83      1.00\n",
      "probs[1,1]      0.13      0.00      0.13      0.13      0.14    640.24      1.00\n",
      "probs[1,2]      0.33      0.00      0.33      0.32      0.33    422.74      1.00\n",
      "probs[1,3]      0.09      0.00      0.09      0.09      0.09    141.99      1.00\n",
      "probs[2,0]      0.59      0.00      0.59      0.59      0.59   1149.02      1.00\n",
      "probs[2,1]      0.18      0.00      0.18      0.18      0.18    833.48      1.00\n",
      "probs[2,2]      0.18      0.00      0.18      0.18      0.18    696.98      1.00\n",
      "probs[2,3]      0.05      0.00      0.05      0.05      0.05    469.89      1.00\n",
      "probs[3,0]      0.45      0.00      0.45      0.45      0.46    997.75      1.00\n",
      "probs[3,1]      0.32      0.00      0.32      0.32      0.33   1002.52      1.00\n",
      "probs[3,2]      0.14      0.00      0.14      0.13      0.14   1251.34      1.00\n",
      "probs[3,3]      0.09      0.00      0.09      0.08      0.09   1124.89      1.00\n",
      "\n",
      "Number of divergences: 0\n"
     ]
    }
   ],
   "source": [
    "nuts = NUTS(model)\n",
    "init_rng_key = random.PRNGKey(1273)\n",
    "mcmc = MCMC(nuts, 100, 1000)\n",
    "res = mcmc.run(init_rng_key, altCounts)\n",
    "mcmc.print_summary()"
   ]
  },
  {
   "cell_type": "code",
   "execution_count": 47,
   "metadata": {},
   "outputs": [],
   "source": [
    "s = mcmc.get_samples()[\"probs\"]"
   ]
  },
  {
   "cell_type": "code",
   "execution_count": 57,
   "metadata": {},
   "outputs": [
    {
     "output_type": "execute_result",
     "data": {
      "text/plain": [
       "DeviceArray([[0.64038897, 1.4953538 , 1.5496471 , 1.5763856 ],\n",
       "             [0.75266653, 0.7512931 , 1.8418237 , 1.8674809 ],\n",
       "             [0.99334437, 1.0076565 , 1.0091971 , 1.019993  ],\n",
       "             [0.7632993 , 1.802999  , 0.7670992 , 1.8208904 ]],            dtype=float32)"
      ]
     },
     "metadata": {},
     "execution_count": 57
    }
   ],
   "source": [
    "s.mean(0) / pdsAll"
   ]
  },
  {
   "cell_type": "code",
   "execution_count": null,
   "metadata": {},
   "outputs": [],
   "source": []
  }
 ]
}