{
 "cells": [
  {
   "cell_type": "code",
   "execution_count": 2,
   "metadata": {},
   "outputs": [],
   "source": [
    "import torch\n",
    "from torch.autograd import Function\n",
    "from torch.autograd.function import once_differentiable\n",
    "from torch.distributions import constraints\n",
    "from torch.distributions.exp_family import ExponentialFamily\n",
    "from torch import tensor\n",
    "import torch.distributions as dist\n",
    "\n",
    "# This helper is exposed for testing.\n",
    "def _Dirichlet_backward(x, concentration, grad_output):\n",
    "    total = concentration.sum(-1, True).expand_as(concentration)\n",
    "    grad = torch._dirichlet_grad(x, concentration, total)\n",
    "    return grad * (grad_output - (x * grad_output).sum(-1, True))\n",
    "\n",
    "\n",
    "class _Dirichlet(Function):\n",
    "    @staticmethod\n",
    "    def forward(ctx, concentration):\n",
    "        x = torch._sample_dirichlet(concentration)\n",
    "        ctx.save_for_backward(x, concentration)\n",
    "        return x\n",
    "\n",
    "    @staticmethod\n",
    "    @once_differentiable\n",
    "    def backward(ctx, grad_output):\n",
    "        x, concentration = ctx.saved_tensors\n",
    "        return _Dirichlet_backward(x, concentration, grad_output)\n",
    "\n",
    "\n",
    "class Dirichlet2(ExponentialFamily):\n",
    "    r\"\"\"\n",
    "    Creates a Dirichlet distribution parameterized by concentration :attr:`concentration`.\n",
    "    Example::\n",
    "        >>> m = Dirichlet(torch.tensor([0.5, 0.5]))\n",
    "        >>> m.sample()  # Dirichlet distributed with concentrarion concentration\n",
    "        tensor([ 0.1046,  0.8954])\n",
    "    Args:\n",
    "        concentration (Tensor): concentration parameter of the distribution\n",
    "            (often referred to as alpha)\n",
    "    \"\"\"\n",
    "    arg_constraints = {'concentration': constraints.positive}\n",
    "    support = constraints.simplex\n",
    "    has_rsample = True\n",
    "\n",
    "    def __init__(self, concentration, validate_args=None):\n",
    "        if concentration.dim() < 1:\n",
    "            raise ValueError(\"`concentration` parameter must be at least one-dimensional.\")\n",
    "        self.concentration = concentration\n",
    "        batch_shape, event_shape = concentration.shape[:-1], concentration.shape[-1:]\n",
    "        super(Dirichlet2, self).__init__(batch_shape, event_shape, validate_args=validate_args)\n",
    "\n",
    "    def expand(self, batch_shape, _instance=None):\n",
    "        new = self._get_checked_instance(Dirichlet, _instance)\n",
    "        batch_shape = torch.Size(batch_shape)\n",
    "        new.concentration = self.concentration.expand(batch_shape + self.event_shape)\n",
    "        super(Dirichlet2, new).__init__(batch_shape, self.event_shape, validate_args=False)\n",
    "        new._validate_args = self._validate_args\n",
    "        return new\n",
    "\n",
    "    def rsample(self, sample_shape=()):\n",
    "        shape = self._extended_shape(sample_shape)\n",
    "        concentration = self.concentration.expand(shape)\n",
    "        return _Dirichlet.apply(concentration)\n",
    "\n",
    "    def log_prob(self, value):\n",
    "        if self._validate_args:\n",
    "            self._validate_sample(value)\n",
    "            \n",
    "        return ((torch.log(value) * (self.concentration - 1.0)).sum(-1) +\n",
    "                torch.lgamma(self.concentration.sum(-1)) -\n",
    "                torch.lgamma(self.concentration).sum(-1))\n",
    "\n",
    "    @property\n",
    "    def mean(self):\n",
    "        return self.concentration / self.concentration.sum(-1, True)\n",
    "\n",
    "    @property\n",
    "    def variance(self):\n",
    "        con0 = self.concentration.sum(-1, True)\n",
    "        return self.concentration * (con0 - self.concentration) / (con0.pow(2) * (con0 + 1))\n",
    "\n",
    "    def entropy(self):\n",
    "        k = self.concentration.size(-1)\n",
    "        a0 = self.concentration.sum(-1)\n",
    "        return (torch.lgamma(self.concentration).sum(-1) - torch.lgamma(a0) -\n",
    "                (k - a0) * torch.digamma(a0) -\n",
    "                ((self.concentration - 1.0) * torch.digamma(self.concentration)).sum(-1))\n",
    "\n",
    "    @property\n",
    "    def _natural_params(self):\n",
    "        return (self.concentration, )\n",
    "\n",
    "    def _log_normalizer(self, x):\n",
    "        return x.lgamma().sum(-1) - torch.lgamma(x.sum(-1))"
   ]
  },
  {
   "cell_type": "code",
   "execution_count": 3,
   "metadata": {},
   "outputs": [],
   "source": [
    "# ZIGDM REGRESSION MODEL\n",
    "# https://www.dropbox.com/s/xbcjaazpqisbie1/Screenshot%202020-04-07%2018.14.33.png?dl=0\n",
    "\n"
   ]
  },
  {
   "cell_type": "code",
   "execution_count": 4,
   "metadata": {},
   "outputs": [
    {
     "data": {
      "text/plain": [
       "\u001b[0;31mInit signature:\u001b[0m \u001b[0mDirichlet2\u001b[0m\u001b[0;34m(\u001b[0m\u001b[0mconcentration\u001b[0m\u001b[0;34m,\u001b[0m \u001b[0mvalidate_args\u001b[0m\u001b[0;34m=\u001b[0m\u001b[0;32mNone\u001b[0m\u001b[0;34m)\u001b[0m\u001b[0;34m\u001b[0m\u001b[0;34m\u001b[0m\u001b[0m\n",
       "\u001b[0;31mDocstring:\u001b[0m     \n",
       "Creates a Dirichlet distribution parameterized by concentration :attr:`concentration`.\n",
       "Example::\n",
       "    >>> m = Dirichlet(torch.tensor([0.5, 0.5]))\n",
       "    >>> m.sample()  # Dirichlet distributed with concentrarion concentration\n",
       "    tensor([ 0.1046,  0.8954])\n",
       "Args:\n",
       "    concentration (Tensor): concentration parameter of the distribution\n",
       "        (often referred to as alpha)\n",
       "\u001b[0;31mType:\u001b[0m           type\n",
       "\u001b[0;31mSubclasses:\u001b[0m     \n"
      ]
     },
     "metadata": {},
     "output_type": "display_data"
    }
   ],
   "source": [
    "Dirichlet2?"
   ]
  },
  {
   "cell_type": "code",
   "execution_count": 5,
   "metadata": {},
   "outputs": [
    {
     "name": "stdout",
     "output_type": "stream",
     "text": [
      "Object `Dirichlet` not found.\n"
     ]
    }
   ],
   "source": [
    "Dirichlet?"
   ]
  },
  {
   "cell_type": "code",
   "execution_count": 6,
   "metadata": {},
   "outputs": [
    {
     "data": {
      "text/plain": [
       "Dirichlet2(concentration: torch.Size([2]))"
      ]
     },
     "execution_count": 6,
     "metadata": {},
     "output_type": "execute_result"
    }
   ],
   "source": [
    "Dirichlet2(torch.tensor([.5,.5]))"
   ]
  },
  {
   "cell_type": "code",
   "execution_count": 7,
   "metadata": {},
   "outputs": [],
   "source": [
    "a = tensor([[1],[2],[3],[4],[5]])"
   ]
  },
  {
   "cell_type": "code",
   "execution_count": 8,
   "metadata": {},
   "outputs": [
    {
     "data": {
      "text/plain": [
       "tensor([1, 2, 3, 4, 5])"
      ]
     },
     "execution_count": 8,
     "metadata": {},
     "output_type": "execute_result"
    }
   ],
   "source": [
    "a.sum(-1)"
   ]
  },
  {
   "cell_type": "code",
   "execution_count": 9,
   "metadata": {},
   "outputs": [],
   "source": [
    "import numbers\n",
    "\n",
    "import torch\n",
    "from torch.distributions import constraints\n",
    "from torch.distributions.utils import broadcast_all\n",
    "\n",
    "from pyro.distributions.torch import Beta, Binomial, Dirichlet, Gamma, Multinomial, Poisson\n",
    "from pyro.distributions.torch_distribution import TorchDistribution\n",
    "\n",
    "class DirichletMultinomial2(TorchDistribution):\n",
    "    r\"\"\"\n",
    "    Compound distribution comprising of a dirichlet-multinomial pair. The probability of\n",
    "    classes (``probs`` for the :class:`~pyro.distributions.Multinomial` distribution)\n",
    "    is unknown and randomly drawn from a :class:`~pyro.distributions.Dirichlet`\n",
    "    distribution prior to a certain number of Categorical trials given by\n",
    "    ``total_count``.\n",
    "    :param float or torch.Tensor concentration: concentration parameter (alpha) for the\n",
    "        Dirichlet distribution.\n",
    "    :param int or torch.Tensor total_count: number of Categorical trials.\n",
    "    \"\"\"\n",
    "    arg_constraints = {'concentration': constraints.positive, 'total_count': constraints.nonnegative_integer}\n",
    "    support = Multinomial.support\n",
    "\n",
    "    def __init__(self, concentration, total_count=1, validate_args=None):\n",
    "        if isinstance(total_count, numbers.Number):\n",
    "            total_count = concentration.new_tensor(total_count)\n",
    "        total_count_1 = total_count.unsqueeze(-1)\n",
    "        concentration, total_count = torch.broadcast_tensors(concentration, total_count_1)\n",
    "        total_count = total_count_1.squeeze(-1)\n",
    "        self._dirichlet = Dirichlet(concentration)\n",
    "        self.total_count = total_count\n",
    "        super(DirichletMultinomial2, self).__init__(\n",
    "            self._dirichlet._batch_shape, self._dirichlet.event_shape, validate_args=validate_args)\n",
    "\n",
    "    @property\n",
    "    def concentration(self):\n",
    "        return self._dirichlet.concentration\n",
    "\n",
    "    def expand(self, batch_shape, _instance=None):\n",
    "        new = self._get_checked_instance(DirichletMultinomial, _instance)\n",
    "        batch_shape = torch.Size(batch_shape)\n",
    "        new._dirichlet = self._dirichlet.expand(batch_shape)\n",
    "        new.total_count = self.total_count.expand(batch_shape)\n",
    "        super(DirichletMultinomial2, new).__init__(\n",
    "            new._dirichlet.batch_shape, new._dirichlet.event_shape, validate_args=False)\n",
    "        new._validate_args = self._validate_args\n",
    "        return new\n",
    "\n",
    "    def sample(self, sample_shape=()):\n",
    "        probs = self._dirichlet.sample(sample_shape)\n",
    "        total_count = int(self.total_count.max())\n",
    "        if not self.total_count.min() == total_count:\n",
    "            raise NotImplementedError(\"Inhomogeneous total count not supported by `enumerate_support`.\")\n",
    "        return Multinomial(total_count, probs).sample()\n",
    "\n",
    "    def log_prob(self, value):\n",
    "        if self._validate_args:\n",
    "            self._validate_sample(value)\n",
    "        n = self.total_count\n",
    "        alpha = self.concentration\n",
    "        alpha_sum = self.concentration.sum(-1)\n",
    "        return (_log_factorial(n) + torch.lgamma(alpha_sum) - torch.lgamma(n + alpha_sum) +\n",
    "                (torch.lgamma(value + alpha) - _log_factorial(value) - torch.lgamma(alpha)).sum(-1))\n",
    "\n",
    "    @property\n",
    "    def mean(self):\n",
    "        return self._dirichlet.mean * self.total_count.unsqueeze(-1)\n",
    "\n",
    "    @property\n",
    "    def variance(self):\n",
    "        n = self.total_count.unsqueeze(-1)\n",
    "        alpha = self.concentration\n",
    "        alpha_sum = self.concentration.sum(-1, keepdim=True)\n",
    "        alpha_ratio = alpha / alpha_sum\n",
    "        return n * alpha_ratio * (1 - alpha_ratio) * (n + alpha_sum) / (1 + alpha_sum)"
   ]
  },
  {
   "cell_type": "code",
   "execution_count": 10,
   "metadata": {},
   "outputs": [],
   "source": [
    "def simpleGD(alphas, betas):\n",
    "    Z = Beta(alphas, betas)\n",
    "    \n",
    "    "
   ]
  },
  {
   "cell_type": "code",
   "execution_count": 11,
   "metadata": {},
   "outputs": [
    {
     "data": {
      "text/plain": [
       "\u001b[0;31mInit signature:\u001b[0m \u001b[0mBeta\u001b[0m\u001b[0;34m(\u001b[0m\u001b[0mconcentration1\u001b[0m\u001b[0;34m,\u001b[0m \u001b[0mconcentration0\u001b[0m\u001b[0;34m,\u001b[0m \u001b[0mvalidate_args\u001b[0m\u001b[0;34m=\u001b[0m\u001b[0;32mNone\u001b[0m\u001b[0;34m)\u001b[0m\u001b[0;34m\u001b[0m\u001b[0;34m\u001b[0m\u001b[0m\n",
       "\u001b[0;31mDocstring:\u001b[0m     \n",
       "Wraps :class:`torch.distributions.beta.Beta` with\n",
       ":class:`~pyro.distributions.torch_distribution.TorchDistributionMixin`.\n",
       "\u001b[0;31mFile:\u001b[0m           ~/miniconda3/lib/python3.7/site-packages/pyro/distributions/torch.py\n",
       "\u001b[0;31mType:\u001b[0m           ABCMeta\n",
       "\u001b[0;31mSubclasses:\u001b[0m     \n"
      ]
     },
     "metadata": {},
     "output_type": "display_data"
    }
   ],
   "source": [
    "Beta?"
   ]
  },
  {
   "cell_type": "code",
   "execution_count": 12,
   "metadata": {},
   "outputs": [],
   "source": [
    "import pyro\n",
    "import torch\n",
    "from torch import tensor\n",
    "from pyro.distributions import Dirichlet, Beta, DirichletMultinomial, Multinomial"
   ]
  },
  {
   "cell_type": "code",
   "execution_count": 13,
   "metadata": {},
   "outputs": [
    {
     "ename": "SyntaxError",
     "evalue": "unexpected EOF while parsing (<ipython-input-13-de911f38635e>, line 2)",
     "output_type": "error",
     "traceback": [
      "\u001b[0;36m  File \u001b[0;32m\"<ipython-input-13-de911f38635e>\"\u001b[0;36m, line \u001b[0;32m2\u001b[0m\n\u001b[0;31m    \u001b[0m\n\u001b[0m    ^\u001b[0m\n\u001b[0;31mSyntaxError\u001b[0m\u001b[0;31m:\u001b[0m unexpected EOF while parsing\n"
     ]
    }
   ],
   "source": [
    "def beta():\n",
    "    "
   ]
  },
  {
   "cell_type": "code",
   "execution_count": 14,
   "metadata": {},
   "outputs": [],
   "source": [
    "def log_prob(prevZsProduct):\n",
    "    Z[j] = Beta(a[j], b[j])\n",
    "    P[j] = Z[j] * prevZsProduct"
   ]
  },
  {
   "cell_type": "code",
   "execution_count": 15,
   "metadata": {},
   "outputs": [
    {
     "data": {
      "text/plain": [
       "\u001b[0;31mDocstring:\u001b[0m\n",
       "mvlgamma(input, p) -> Tensor\n",
       "\n",
       "Computes the `multivariate log-gamma function\n",
       "<https://en.wikipedia.org/wiki/Multivariate_gamma_function>`_) with dimension\n",
       ":math:`p` element-wise, given by\n",
       "\n",
       ".. math::\n",
       "    \\log(\\Gamma_{p}(a)) = C + \\displaystyle \\sum_{i=1}^{p} \\log\\left(\\Gamma\\left(a - \\frac{i - 1}{2}\\right)\\right)\n",
       "\n",
       "where :math:`C = \\log(\\pi) \\times \\frac{p (p - 1)}{4}` and :math:`\\Gamma(\\cdot)` is the Gamma function.\n",
       "\n",
       "All elements must be greater than :math:`\\frac{p - 1}{2}`, otherwise an error would be thrown.\n",
       "\n",
       "Args:\n",
       "    input (Tensor): the tensor to compute the multivariate log-gamma function\n",
       "    p (int): the number of dimensions\n",
       "\n",
       "Example::\n",
       "\n",
       "    >>> a = torch.empty(2, 3).uniform_(1, 2)\n",
       "    >>> a\n",
       "    tensor([[1.6835, 1.8474, 1.1929],\n",
       "            [1.0475, 1.7162, 1.4180]])\n",
       "    >>> torch.mvlgamma(a, 2)\n",
       "    tensor([[0.3928, 0.4007, 0.7586],\n",
       "            [1.0311, 0.3901, 0.5049]])\n",
       "\u001b[0;31mType:\u001b[0m      builtin_function_or_method\n"
      ]
     },
     "metadata": {},
     "output_type": "display_data"
    }
   ],
   "source": [
    "torch.mvlgamma?"
   ]
  },
  {
   "cell_type": "code",
   "execution_count": 16,
   "metadata": {},
   "outputs": [],
   "source": [
    "a = torch.empty(2, 3).uniform_(1, 2)"
   ]
  },
  {
   "cell_type": "code",
   "execution_count": 17,
   "metadata": {},
   "outputs": [
    {
     "data": {
      "text/plain": [
       "tensor([[1.3271, 1.2820, 1.7448],\n",
       "        [1.3808, 1.0909, 1.1400]])"
      ]
     },
     "execution_count": 17,
     "metadata": {},
     "output_type": "execute_result"
    }
   ],
   "source": [
    "a"
   ]
  },
  {
   "cell_type": "code",
   "execution_count": 333,
   "metadata": {},
   "outputs": [],
   "source": []
  },
  {
   "cell_type": "code",
   "execution_count": 584,
   "metadata": {},
   "outputs": [
    {
     "data": {
      "image/png": "[encoded data removed]",
      "text/plain": [
       "<Figure size 432x288 with 1 Axes>"
      ]
     },
     "metadata": {
      "needs_background": "light"
     },
     "output_type": "display_data"
    }
   ],
   "source": [
    "for conc in range(1, 20):\n",
    "    maxRR1 = 20\n",
    "    maxRR2 = 20\n",
    "    res = []\n",
    "    rr1 = dist.Gamma(concentration=conc,rate=conc/float(maxRR1)).sample([20_000])\n",
    "    rr2 = dist.Gamma(concentration=conc,rate=conc/float(maxRR2)).sample([20_000])\n",
    "    \n",
    "    trueMax = max(maxRR1, maxRR2)\n",
    "    sharedRRmin = 1 #int(trueMax * .33)\n",
    "    for i in range(sharedRRmin, trueMax * 50):\n",
    "        y = i / 100.\n",
    "        rr3a = dist.Gamma(concentration=conc,rate=conc/y).sample([20_000])\n",
    "        res.append(np.corrcoef(rr1+rr3a, rr2+rr3a)[0,1])\n",
    "    plt.plot(np.linspace(sharedRRmin,trueMax/2,trueMax  * 50 - sharedRRmin), res)"
   ]
  },
  {
   "cell_type": "code",
   "execution_count": 583,
   "metadata": {},
   "outputs": [
    {
     "name": "stdout",
     "output_type": "stream",
     "text": [
      "0.014117604592876656\n",
      "0.043043902184681376\n",
      "0.10067543062582124\n",
      "0.15766839973977764\n",
      "0.5012264915688008\n"
     ]
    }
   ],
   "source": [
    "# Should be linear from rr3's rrMean being .4\n",
    "# Expect ~ .06-.08 increase in correlation for every ~.1 increase in proportion compared to min(rr1, rr2) between .33 and 1\n",
    "conc=10\n",
    "maxRR = 300\n",
    "rr1 = dist.Gamma(concentration=conc,rate=conc/float(maxRR)).sample([20_000])\n",
    "rr2 = dist.Gamma(concentration=conc,rate=conc/float(maxRR)).sample([20_000])\n",
    "\n",
    "rr3 = dist.Gamma(concentration=conc,rate=conc/(maxRR*.1)).sample([20_000])\n",
    "# expect ~.02\n",
    "print(np.corrcoef(rr1+rr3, rr2+rr3)[0,1])\n",
    "\n",
    "rr3 = dist.Gamma(concentration=conc,rate=conc/(maxRR*.2)).sample([20_000])\n",
    "# expect ~.04\n",
    "print(np.corrcoef(rr1+rr3, rr2+rr3)[0,1])\n",
    "\n",
    "rr3 = dist.Gamma(concentration=conc,rate=conc/(maxRR*.33)).sample([20_000])\n",
    "# expect ~.1\n",
    "print(np.corrcoef(rr1+rr3, rr2+rr3)[0,1])\n",
    "\n",
    "rr3 = dist.Gamma(concentration=conc,rate=conc/(maxRR *.43)).sample([20_000])\n",
    "# expect ~.16\n",
    "print(np.corrcoef(rr1+rr3, rr2+rr3)[0,1])\n",
    "\n",
    "rr3 = dist.Gamma(concentration=conc,rate=conc/(maxRR)).sample([20_000])\n",
    "# expect ~.5\n",
    "print(np.corrcoef(rr1+rr3, rr2+rr3)[0,1])"
   ]
  },
  {
   "cell_type": "code",
   "execution_count": 320,
   "metadata": {},
   "outputs": [
    {
     "data": {
      "text/plain": [
       "array([ 0.        ,  0.10050251,  0.20100503,  0.30150754,  0.40201005,\n",
       "        0.50251256,  0.60301508,  0.70351759,  0.8040201 ,  0.90452261,\n",
       "        1.00502513,  1.10552764,  1.20603015,  1.30653266,  1.40703518,\n",
       "        1.50753769,  1.6080402 ,  1.70854271,  1.80904523,  1.90954774,\n",
       "        2.01005025,  2.11055276,  2.21105528,  2.31155779,  2.4120603 ,\n",
       "        2.51256281,  2.61306533,  2.71356784,  2.81407035,  2.91457286,\n",
       "        3.01507538,  3.11557789,  3.2160804 ,  3.31658291,  3.41708543,\n",
       "        3.51758794,  3.61809045,  3.71859296,  3.81909548,  3.91959799,\n",
       "        4.0201005 ,  4.12060302,  4.22110553,  4.32160804,  4.42211055,\n",
       "        4.52261307,  4.62311558,  4.72361809,  4.8241206 ,  4.92462312,\n",
       "        5.02512563,  5.12562814,  5.22613065,  5.32663317,  5.42713568,\n",
       "        5.52763819,  5.6281407 ,  5.72864322,  5.82914573,  5.92964824,\n",
       "        6.03015075,  6.13065327,  6.23115578,  6.33165829,  6.4321608 ,\n",
       "        6.53266332,  6.63316583,  6.73366834,  6.83417085,  6.93467337,\n",
       "        7.03517588,  7.13567839,  7.2361809 ,  7.33668342,  7.43718593,\n",
       "        7.53768844,  7.63819095,  7.73869347,  7.83919598,  7.93969849,\n",
       "        8.04020101,  8.14070352,  8.24120603,  8.34170854,  8.44221106,\n",
       "        8.54271357,  8.64321608,  8.74371859,  8.84422111,  8.94472362,\n",
       "        9.04522613,  9.14572864,  9.24623116,  9.34673367,  9.44723618,\n",
       "        9.54773869,  9.64824121,  9.74874372,  9.84924623,  9.94974874,\n",
       "       10.05025126, 10.15075377, 10.25125628, 10.35175879, 10.45226131,\n",
       "       10.55276382, 10.65326633, 10.75376884, 10.85427136, 10.95477387,\n",
       "       11.05527638, 11.15577889, 11.25628141, 11.35678392, 11.45728643,\n",
       "       11.55778894, 11.65829146, 11.75879397, 11.85929648, 11.95979899,\n",
       "       12.06030151, 12.16080402, 12.26130653, 12.36180905, 12.46231156,\n",
       "       12.56281407, 12.66331658, 12.7638191 , 12.86432161, 12.96482412,\n",
       "       13.06532663, 13.16582915, 13.26633166, 13.36683417, 13.46733668,\n",
       "       13.5678392 , 13.66834171, 13.76884422, 13.86934673, 13.96984925,\n",
       "       14.07035176, 14.17085427, 14.27135678, 14.3718593 , 14.47236181,\n",
       "       14.57286432, 14.67336683, 14.77386935, 14.87437186, 14.97487437,\n",
       "       15.07537688, 15.1758794 , 15.27638191, 15.37688442, 15.47738693,\n",
       "       15.57788945, 15.67839196, 15.77889447, 15.87939698, 15.9798995 ,\n",
       "       16.08040201, 16.18090452, 16.28140704, 16.38190955, 16.48241206,\n",
       "       16.58291457, 16.68341709, 16.7839196 , 16.88442211, 16.98492462,\n",
       "       17.08542714, 17.18592965, 17.28643216, 17.38693467, 17.48743719,\n",
       "       17.5879397 , 17.68844221, 17.78894472, 17.88944724, 17.98994975,\n",
       "       18.09045226, 18.19095477, 18.29145729, 18.3919598 , 18.49246231,\n",
       "       18.59296482, 18.69346734, 18.79396985, 18.89447236, 18.99497487,\n",
       "       19.09547739, 19.1959799 , 19.29648241, 19.39698492, 19.49748744,\n",
       "       19.59798995, 19.69849246, 19.79899497, 19.89949749, 20.        ])"
      ]
     },
     "execution_count": 320,
     "metadata": {},
     "output_type": "execute_result"
    }
   ],
   "source": [
    "np.linspace(0,20, 200)"
   ]
  },
  {
   "cell_type": "code",
   "execution_count": 294,
   "metadata": {},
   "outputs": [
    {
     "data": {
      "text/plain": [
       "tensor(20.0234)"
      ]
     },
     "execution_count": 294,
     "metadata": {},
     "output_type": "execute_result"
    }
   ],
   "source": [
    "(rr1 + rr3).mean()"
   ]
  },
  {
   "cell_type": "code",
   "execution_count": 90,
   "metadata": {},
   "outputs": [],
   "source": [
    "def pVgivenD(rr, pV):\n",
    "    return (rr * pV) / (rr * pV + (1 - pV))\n",
    "\n",
    "af = 1e-4"
   ]
  },
  {
   "cell_type": "code",
   "execution_count": 91,
   "metadata": {},
   "outputs": [
    {
     "name": "stdout",
     "output_type": "stream",
     "text": [
      "tensor([0.0020, 0.0020, 0.0020,  ..., 0.0020, 0.0020, 0.0020])\n",
      "tensor([0.0020, 0.0020, 0.0020,  ..., 0.0020, 0.0020, 0.0020])\n"
     ]
    }
   ],
   "source": [
    "# bp1 = dist.Binomial(probs=pVgivenD(rr1, af)).sample([20_000, ])\n",
    "# bp2 = dist.Binomial(probs=pVgivenD(rr1, af)).sample([20_000, ])\n",
    "# bp3 = dist.Binomial(probs=pVgivenD(rr1, af)).sample([20_000, ])\n",
    "\n",
    "pcor1 = pVgivenD(rr1 + rr3, af)\n",
    "print(pcor1)\n",
    "pcor2 = pVgivenD(rr2 + rr3, af)\n",
    "print(pcor2)\n"
   ]
  },
  {
   "cell_type": "code",
   "execution_count": null,
   "metadata": {},
   "outputs": [],
   "source": []
  },
  {
   "cell_type": "code",
   "execution_count": 97,
   "metadata": {},
   "outputs": [
    {
     "data": {
      "text/plain": [
       "tensor(0.0019)"
      ]
     },
     "execution_count": 97,
     "metadata": {},
     "output_type": "execute_result"
    }
   ],
   "source": [
    "pcor1.min()"
   ]
  },
  {
   "cell_type": "code",
   "execution_count": 119,
   "metadata": {},
   "outputs": [],
   "source": [
    "bpc1 = dist.Binomial(probs=pcor1, total_count=10000).sample()\n",
    "bpc2 = dist.Binomial(probs=pcor1, total_count=10000).sample()\n",
    "\n"
   ]
  },
  {
   "cell_type": "code",
   "execution_count": 118,
   "metadata": {},
   "outputs": [
    {
     "data": {
      "text/plain": [
       "torch.Size([20000])"
      ]
     },
     "execution_count": 118,
     "metadata": {},
     "output_type": "execute_result"
    }
   ],
   "source": [
    "bpc1.size()"
   ]
  },
  {
   "cell_type": "code",
   "execution_count": 106,
   "metadata": {},
   "outputs": [
    {
     "data": {
      "text/plain": [
       "\u001b[0;31mInit signature:\u001b[0m \u001b[0mdist\u001b[0m\u001b[0;34m.\u001b[0m\u001b[0mBinomial\u001b[0m\u001b[0;34m(\u001b[0m\u001b[0mtotal_count\u001b[0m\u001b[0;34m=\u001b[0m\u001b[0;36m1\u001b[0m\u001b[0;34m,\u001b[0m \u001b[0mprobs\u001b[0m\u001b[0;34m=\u001b[0m\u001b[0;32mNone\u001b[0m\u001b[0;34m,\u001b[0m \u001b[0mlogits\u001b[0m\u001b[0;34m=\u001b[0m\u001b[0;32mNone\u001b[0m\u001b[0;34m,\u001b[0m \u001b[0mvalidate_args\u001b[0m\u001b[0;34m=\u001b[0m\u001b[0;32mNone\u001b[0m\u001b[0;34m)\u001b[0m\u001b[0;34m\u001b[0m\u001b[0;34m\u001b[0m\u001b[0m\n",
       "\u001b[0;31mDocstring:\u001b[0m     \n",
       "Creates a Binomial distribution parameterized by :attr:`total_count` and\n",
       "either :attr:`probs` or :attr:`logits` (but not both). :attr:`total_count` must be\n",
       "broadcastable with :attr:`probs`/:attr:`logits`.\n",
       "\n",
       "Example::\n",
       "\n",
       "    >>> m = Binomial(100, torch.tensor([0 , .2, .8, 1]))\n",
       "    >>> x = m.sample()\n",
       "    tensor([   0.,   22.,   71.,  100.])\n",
       "\n",
       "    >>> m = Binomial(torch.tensor([[5.], [10.]]), torch.tensor([0.5, 0.8]))\n",
       "    >>> x = m.sample()\n",
       "    tensor([[ 4.,  5.],\n",
       "            [ 7.,  6.]])\n",
       "\n",
       "Args:\n",
       "    total_count (int or Tensor): number of Bernoulli trials\n",
       "    probs (Tensor): Event probabilities\n",
       "    logits (Tensor): Event log-odds\n",
       "\u001b[0;31mFile:\u001b[0m           ~/miniconda3/lib/python3.7/site-packages/torch/distributions/binomial.py\n",
       "\u001b[0;31mType:\u001b[0m           type\n",
       "\u001b[0;31mSubclasses:\u001b[0m     Binomial\n"
      ]
     },
     "metadata": {},
     "output_type": "display_data"
    }
   ],
   "source": [
    "dist.Binomial?"
   ]
  },
  {
   "cell_type": "code",
   "execution_count": 107,
   "metadata": {},
   "outputs": [
    {
     "data": {
      "text/plain": [
       "tensor(1.9855)"
      ]
     },
     "execution_count": 107,
     "metadata": {},
     "output_type": "execute_result"
    }
   ],
   "source": [
    "bpc1.mean(0)"
   ]
  },
  {
   "cell_type": "code",
   "execution_count": 99,
   "metadata": {},
   "outputs": [
    {
     "data": {
      "text/plain": [
       "tensor(2.0097)"
      ]
     },
     "execution_count": 99,
     "metadata": {},
     "output_type": "execute_result"
    }
   ],
   "source": [
    "bpc2.mean()"
   ]
  },
  {
   "cell_type": "code",
   "execution_count": 100,
   "metadata": {},
   "outputs": [
    {
     "data": {
      "text/plain": [
       "tensor(1.4252)"
      ]
     },
     "execution_count": 100,
     "metadata": {},
     "output_type": "execute_result"
    }
   ],
   "source": [
    "bpc2.std()"
   ]
  },
  {
   "cell_type": "code",
   "execution_count": 127,
   "metadata": {},
   "outputs": [
    {
     "data": {
      "text/plain": [
       "tensor([ 5.0133,  5.0133, -6.9867,  ...,  6.0133, -4.9867,  8.0133])"
      ]
     },
     "execution_count": 127,
     "metadata": {},
     "output_type": "execute_result"
    }
   ],
   "source": [
    "bpc1 - bpc1.mean()"
   ]
  },
  {
   "cell_type": "code",
   "execution_count": 131,
   "metadata": {},
   "outputs": [
    {
     "data": {
      "text/plain": [
       "tensor([19.8548, 19.9251, 19.8790,  ..., 19.7856, 20.1643, 19.9768])"
      ]
     },
     "execution_count": 131,
     "metadata": {},
     "output_type": "execute_result"
    }
   ],
   "source": [
    "10000*pcor1*(1-pcor1)"
   ]
  },
  {
   "cell_type": "code",
   "execution_count": 128,
   "metadata": {},
   "outputs": [
    {
     "data": {
      "text/plain": [
       "tensor(15.4453)"
      ]
     },
     "execution_count": 128,
     "metadata": {},
     "output_type": "execute_result"
    }
   ],
   "source": [
    "((bpc1 - bpc1.mean()) * (bpc2-bpc2.mean())).sum(0) / (bpc1.std()*bpc2.std())"
   ]
  },
  {
   "cell_type": "code",
   "execution_count": 124,
   "metadata": {},
   "outputs": [
    {
     "data": {
      "text/plain": [
       "array([[1.00000000e+00, 7.72310673e-04],\n",
       "       [7.72310673e-04, 1.00000000e+00]])"
      ]
     },
     "execution_count": 124,
     "metadata": {},
     "output_type": "execute_result"
    }
   ],
   "source": [
    "np.corrcoef(bpc1, bpc2)"
   ]
  },
  {
   "cell_type": "code",
   "execution_count": 58,
   "metadata": {},
   "outputs": [
    {
     "data": {
      "text/plain": [
       "\u001b[0;31mSignature:\u001b[0m \u001b[0mnp\u001b[0m\u001b[0;34m.\u001b[0m\u001b[0mcorrcoef\u001b[0m\u001b[0;34m(\u001b[0m\u001b[0mx\u001b[0m\u001b[0;34m,\u001b[0m \u001b[0my\u001b[0m\u001b[0;34m=\u001b[0m\u001b[0;32mNone\u001b[0m\u001b[0;34m,\u001b[0m \u001b[0mrowvar\u001b[0m\u001b[0;34m=\u001b[0m\u001b[0;32mTrue\u001b[0m\u001b[0;34m,\u001b[0m \u001b[0mbias\u001b[0m\u001b[0;34m=\u001b[0m\u001b[0;34m<\u001b[0m\u001b[0mno\u001b[0m \u001b[0mvalue\u001b[0m\u001b[0;34m>\u001b[0m\u001b[0;34m,\u001b[0m \u001b[0mddof\u001b[0m\u001b[0;34m=\u001b[0m\u001b[0;34m<\u001b[0m\u001b[0mno\u001b[0m \u001b[0mvalue\u001b[0m\u001b[0;34m>\u001b[0m\u001b[0;34m)\u001b[0m\u001b[0;34m\u001b[0m\u001b[0;34m\u001b[0m\u001b[0m\n",
       "\u001b[0;31mDocstring:\u001b[0m\n",
       "Return Pearson product-moment correlation coefficients.\n",
       "\n",
       "Please refer to the documentation for `cov` for more detail.  The\n",
       "relationship between the correlation coefficient matrix, `R`, and the\n",
       "covariance matrix, `C`, is\n",
       "\n",
       ".. math:: R_{ij} = \\frac{ C_{ij} } { \\sqrt{ C_{ii} * C_{jj} } }\n",
       "\n",
       "The values of `R` are between -1 and 1, inclusive.\n",
       "\n",
       "Parameters\n",
       "----------\n",
       "x : array_like\n",
       "    A 1-D or 2-D array containing multiple variables and observations.\n",
       "    Each row of `x` represents a variable, and each column a single\n",
       "    observation of all those variables. Also see `rowvar` below.\n",
       "y : array_like, optional\n",
       "    An additional set of variables and observations. `y` has the same\n",
       "    shape as `x`.\n",
       "rowvar : bool, optional\n",
       "    If `rowvar` is True (default), then each row represents a\n",
       "    variable, with observations in the columns. Otherwise, the relationship\n",
       "    is transposed: each column represents a variable, while the rows\n",
       "    contain observations.\n",
       "bias : _NoValue, optional\n",
       "    Has no effect, do not use.\n",
       "\n",
       "    .. deprecated:: 1.10.0\n",
       "ddof : _NoValue, optional\n",
       "    Has no effect, do not use.\n",
       "\n",
       "    .. deprecated:: 1.10.0\n",
       "\n",
       "Returns\n",
       "-------\n",
       "R : ndarray\n",
       "    The correlation coefficient matrix of the variables.\n",
       "\n",
       "See Also\n",
       "--------\n",
       "cov : Covariance matrix\n",
       "\n",
       "Notes\n",
       "-----\n",
       "Due to floating point rounding the resulting array may not be Hermitian,\n",
       "the diagonal elements may not be 1, and the elements may not satisfy the\n",
       "inequality abs(a) <= 1. The real and imaginary parts are clipped to the\n",
       "interval [-1,  1] in an attempt to improve on that situation but is not\n",
       "much help in the complex case.\n",
       "\n",
       "This function accepts but discards arguments `bias` and `ddof`.  This is\n",
       "for backwards compatibility with previous versions of this function.  These\n",
       "arguments had no effect on the return values of the function and can be\n",
       "safely ignored in this and previous versions of numpy.\n",
       "\u001b[0;31mFile:\u001b[0m      ~/miniconda3/lib/python3.7/site-packages/numpy/lib/function_base.py\n",
       "\u001b[0;31mType:\u001b[0m      function\n"
      ]
     },
     "metadata": {},
     "output_type": "display_data"
    }
   ],
   "source": [
    "np.corrcoef?"
   ]
  },
  {
   "cell_type": "code",
   "execution_count": 40,
   "metadata": {},
   "outputs": [
    {
     "data": {
      "text/plain": [
       "array([[1.        , 0.67002874],\n",
       "       [0.67002874, 1.        ]])"
      ]
     },
     "execution_count": 40,
     "metadata": {},
     "output_type": "execute_result"
    }
   ],
   "source": [
    "bp1 = dist.Binomial(probs=pVgivenD(rr1, af), total_count=1e4).sample()\n",
    "bp2 = dist.Binomial(probs=pVgivenD(rr2, af), total_count=1e4).sample()\n",
    "bp3 = dist.Binomial(probs=pVgivenD(rr3, af), total_count=1e4).sample()\n",
    "\n",
    "bpcor1 = bp1 + bp3\n",
    "bpcor2 = bp2 + bp3\n",
    "\n",
    "np.corrcoef(bpcor1, bpcor2)"
   ]
  },
  {
   "cell_type": "code",
   "execution_count": null,
   "metadata": {},
   "outputs": [],
   "source": []
  },
  {
   "cell_type": "code",
   "execution_count": 37,
   "metadata": {},
   "outputs": [],
   "source": []
  },
  {
   "cell_type": "code",
   "execution_count": 38,
   "metadata": {},
   "outputs": [
    {
     "data": {
      "text/plain": [
       "array([[1.        , 0.67176795],\n",
       "       [0.67176795, 1.        ]])"
      ]
     },
     "execution_count": 38,
     "metadata": {},
     "output_type": "execute_result"
    }
   ],
   "source": []
  },
  {
   "cell_type": "code",
   "execution_count": null,
   "metadata": {},
   "outputs": [],
   "source": [
    "rr1 + rr3"
   ]
  },
  {
   "cell_type": "code",
   "execution_count": null,
   "metadata": {},
   "outputs": [],
   "source": [
    "rr1"
   ]
  },
  {
   "cell_type": "code",
   "execution_count": null,
   "metadata": {},
   "outputs": [],
   "source": [
    "rr3"
   ]
  },
  {
   "cell_type": "code",
   "execution_count": null,
   "metadata": {},
   "outputs": [],
   "source": [
    "rr2"
   ]
  },
  {
   "cell_type": "code",
   "execution_count": null,
   "metadata": {},
   "outputs": [],
   "source": [
    "rr3"
   ]
  },
  {
   "cell_type": "code",
   "execution_count": null,
   "metadata": {},
   "outputs": [],
   "source": [
    "rr2+rr3"
   ]
  },
  {
   "cell_type": "code",
   "execution_count": null,
   "metadata": {},
   "outputs": [],
   "source": []
  },
  {
   "cell_type": "code",
   "execution_count": null,
   "metadata": {},
   "outputs": [],
   "source": []
  },
  {
   "cell_type": "code",
   "execution_count": null,
   "metadata": {},
   "outputs": [],
   "source": [
    "np.corrcoef(pcor1, pcor2)"
   ]
  },
  {
   "cell_type": "code",
   "execution_count": null,
   "metadata": {},
   "outputs": [],
   "source": [
    "dist.Binomial(probs=pcor1, total_count=1e5).sample()"
   ]
  },
  {
   "cell_type": "code",
   "execution_count": null,
   "metadata": {},
   "outputs": [],
   "source": [
    "dist.Binomial(probs=pcor2, total_count=1e5).sample()"
   ]
  },
  {
   "cell_type": "code",
   "execution_count": null,
   "metadata": {},
   "outputs": [],
   "source": []
  },
  {
   "cell_type": "code",
   "execution_count": null,
   "metadata": {},
   "outputs": [],
   "source": []
  },
  {
   "cell_type": "code",
   "execution_count": null,
   "metadata": {},
   "outputs": [],
   "source": []
  },
  {
   "cell_type": "code",
   "execution_count": null,
   "metadata": {},
   "outputs": [],
   "source": []
  },
  {
   "cell_type": "code",
   "execution_count": null,
   "metadata": {},
   "outputs": [],
   "source": []
  },
  {
   "cell_type": "code",
   "execution_count": 26,
   "metadata": {},
   "outputs": [
    {
     "data": {
      "text/plain": [
       "\u001b[0;31mInit signature:\u001b[0m \u001b[0mdist\u001b[0m\u001b[0;34m.\u001b[0m\u001b[0mBinomial\u001b[0m\u001b[0;34m(\u001b[0m\u001b[0mtotal_count\u001b[0m\u001b[0;34m=\u001b[0m\u001b[0;36m1\u001b[0m\u001b[0;34m,\u001b[0m \u001b[0mprobs\u001b[0m\u001b[0;34m=\u001b[0m\u001b[0;32mNone\u001b[0m\u001b[0;34m,\u001b[0m \u001b[0mlogits\u001b[0m\u001b[0;34m=\u001b[0m\u001b[0;32mNone\u001b[0m\u001b[0;34m,\u001b[0m \u001b[0mvalidate_args\u001b[0m\u001b[0;34m=\u001b[0m\u001b[0;32mNone\u001b[0m\u001b[0;34m)\u001b[0m\u001b[0;34m\u001b[0m\u001b[0;34m\u001b[0m\u001b[0m\n",
       "\u001b[0;31mDocstring:\u001b[0m     \n",
       "Creates a Binomial distribution parameterized by :attr:`total_count` and\n",
       "either :attr:`probs` or :attr:`logits` (but not both). :attr:`total_count` must be\n",
       "broadcastable with :attr:`probs`/:attr:`logits`.\n",
       "\n",
       "Example::\n",
       "\n",
       "    >>> m = Binomial(100, torch.tensor([0 , .2, .8, 1]))\n",
       "    >>> x = m.sample()\n",
       "    tensor([   0.,   22.,   71.,  100.])\n",
       "\n",
       "    >>> m = Binomial(torch.tensor([[5.], [10.]]), torch.tensor([0.5, 0.8]))\n",
       "    >>> x = m.sample()\n",
       "    tensor([[ 4.,  5.],\n",
       "            [ 7.,  6.]])\n",
       "\n",
       "Args:\n",
       "    total_count (int or Tensor): number of Bernoulli trials\n",
       "    probs (Tensor): Event probabilities\n",
       "    logits (Tensor): Event log-odds\n",
       "\u001b[0;31mFile:\u001b[0m           ~/miniconda3/lib/python3.7/site-packages/torch/distributions/binomial.py\n",
       "\u001b[0;31mType:\u001b[0m           type\n",
       "\u001b[0;31mSubclasses:\u001b[0m     Binomial\n"
      ]
     },
     "metadata": {},
     "output_type": "display_data"
    }
   ],
   "source": [
    "dist.Binomial?"
   ]
  },
  {
   "cell_type": "code",
   "execution_count": 132,
   "metadata": {},
   "outputs": [],
   "source": [
    "from torch.distributions import MultivariateNormal"
   ]
  },
  {
   "cell_type": "code",
   "execution_count": 161,
   "metadata": {},
   "outputs": [],
   "source": [
    "cov = tensor([[1.,.8],[.8,1.]])\n",
    "mean = tensor([0.,0.])"
   ]
  },
  {
   "cell_type": "code",
   "execution_count": 134,
   "metadata": {},
   "outputs": [
    {
     "data": {
      "text/plain": [
       "\u001b[0;31mInit signature:\u001b[0m\n",
       "\u001b[0mMultivariateNormal\u001b[0m\u001b[0;34m(\u001b[0m\u001b[0;34m\u001b[0m\n",
       "\u001b[0;34m\u001b[0m    \u001b[0mloc\u001b[0m\u001b[0;34m,\u001b[0m\u001b[0;34m\u001b[0m\n",
       "\u001b[0;34m\u001b[0m    \u001b[0mcovariance_matrix\u001b[0m\u001b[0;34m=\u001b[0m\u001b[0;32mNone\u001b[0m\u001b[0;34m,\u001b[0m\u001b[0;34m\u001b[0m\n",
       "\u001b[0;34m\u001b[0m    \u001b[0mprecision_matrix\u001b[0m\u001b[0;34m=\u001b[0m\u001b[0;32mNone\u001b[0m\u001b[0;34m,\u001b[0m\u001b[0;34m\u001b[0m\n",
       "\u001b[0;34m\u001b[0m    \u001b[0mscale_tril\u001b[0m\u001b[0;34m=\u001b[0m\u001b[0;32mNone\u001b[0m\u001b[0;34m,\u001b[0m\u001b[0;34m\u001b[0m\n",
       "\u001b[0;34m\u001b[0m    \u001b[0mvalidate_args\u001b[0m\u001b[0;34m=\u001b[0m\u001b[0;32mNone\u001b[0m\u001b[0;34m,\u001b[0m\u001b[0;34m\u001b[0m\n",
       "\u001b[0;34m\u001b[0m\u001b[0;34m)\u001b[0m\u001b[0;34m\u001b[0m\u001b[0;34m\u001b[0m\u001b[0m\n",
       "\u001b[0;31mDocstring:\u001b[0m     \n",
       "Creates a multivariate normal (also called Gaussian) distribution\n",
       "parameterized by a mean vector and a covariance matrix.\n",
       "\n",
       "The multivariate normal distribution can be parameterized either\n",
       "in terms of a positive definite covariance matrix :math:`\\mathbf{\\Sigma}`\n",
       "or a positive definite precision matrix :math:`\\mathbf{\\Sigma}^{-1}`\n",
       "or a lower-triangular matrix :math:`\\mathbf{L}` with positive-valued\n",
       "diagonal entries, such that\n",
       ":math:`\\mathbf{\\Sigma} = \\mathbf{L}\\mathbf{L}^\\top`. This triangular matrix\n",
       "can be obtained via e.g. Cholesky decomposition of the covariance.\n",
       "\n",
       "Example:\n",
       "\n",
       "    >>> m = MultivariateNormal(torch.zeros(2), torch.eye(2))\n",
       "    >>> m.sample()  # normally distributed with mean=`[0,0]` and covariance_matrix=`I`\n",
       "    tensor([-0.2102, -0.5429])\n",
       "\n",
       "Args:\n",
       "    loc (Tensor): mean of the distribution\n",
       "    covariance_matrix (Tensor): positive-definite covariance matrix\n",
       "    precision_matrix (Tensor): positive-definite precision matrix\n",
       "    scale_tril (Tensor): lower-triangular factor of covariance, with positive-valued diagonal\n",
       "\n",
       "Note:\n",
       "    Only one of :attr:`covariance_matrix` or :attr:`precision_matrix` or\n",
       "    :attr:`scale_tril` can be specified.\n",
       "\n",
       "    Using :attr:`scale_tril` will be more efficient: all computations internally\n",
       "    are based on :attr:`scale_tril`. If :attr:`covariance_matrix` or\n",
       "    :attr:`precision_matrix` is passed instead, it is only used to compute\n",
       "    the corresponding lower triangular matrices using a Cholesky decomposition.\n",
       "\u001b[0;31mFile:\u001b[0m           ~/miniconda3/lib/python3.7/site-packages/torch/distributions/multivariate_normal.py\n",
       "\u001b[0;31mType:\u001b[0m           type\n",
       "\u001b[0;31mSubclasses:\u001b[0m     MultivariateNormal\n"
      ]
     },
     "metadata": {},
     "output_type": "display_data"
    }
   ],
   "source": [
    "MultivariateNormal?"
   ]
  },
  {
   "cell_type": "code",
   "execution_count": 174,
   "metadata": {},
   "outputs": [],
   "source": [
    "t = MultivariateNormal(loc=tensor([0., 0.]), covariance_matrix=cov)"
   ]
  },
  {
   "cell_type": "code",
   "execution_count": 175,
   "metadata": {},
   "outputs": [],
   "source": [
    "x = t.sample([10_000])"
   ]
  },
  {
   "cell_type": "code",
   "execution_count": 177,
   "metadata": {},
   "outputs": [
    {
     "data": {
      "text/plain": [
       "tensor([[ 0.2406, -0.0604],\n",
       "        [-0.8690, -0.8349],\n",
       "        [ 0.1792,  0.5476],\n",
       "        ...,\n",
       "        [ 0.6374,  1.9597],\n",
       "        [ 1.0482,  0.8956],\n",
       "        [ 1.4364,  1.1379]])"
      ]
     },
     "execution_count": 177,
     "metadata": {},
     "output_type": "execute_result"
    }
   ],
   "source": [
    "x"
   ]
  },
  {
   "cell_type": "code",
   "execution_count": 149,
   "metadata": {},
   "outputs": [
    {
     "data": {
      "text/plain": [
       "array([[1.        , 0.79901023],\n",
       "       [0.79901023, 1.        ]])"
      ]
     },
     "execution_count": 149,
     "metadata": {},
     "output_type": "execute_result"
    }
   ],
   "source": [
    "np.corrcoef(x[:, 0], x[:,1])"
   ]
  },
  {
   "cell_type": "code",
   "execution_count": 152,
   "metadata": {},
   "outputs": [
    {
     "ename": "NotImplementedError",
     "evalue": "",
     "output_type": "error",
     "traceback": [
      "\u001b[0;31m---------------------------------------------------------------------------\u001b[0m",
      "\u001b[0;31mNotImplementedError\u001b[0m                       Traceback (most recent call last)",
      "\u001b[0;32m<ipython-input-152-d8a35e85b734>\u001b[0m in \u001b[0;36m<module>\u001b[0;34m\u001b[0m\n\u001b[0;32m----> 1\u001b[0;31m \u001b[0mt\u001b[0m\u001b[0;34m.\u001b[0m\u001b[0mcdf\u001b[0m\u001b[0;34m(\u001b[0m\u001b[0mtensor\u001b[0m\u001b[0;34m(\u001b[0m\u001b[0;36m.1\u001b[0m\u001b[0;34m)\u001b[0m\u001b[0;34m)\u001b[0m\u001b[0;34m\u001b[0m\u001b[0;34m\u001b[0m\u001b[0m\n\u001b[0m",
      "\u001b[0;32m~/miniconda3/lib/python3.7/site-packages/torch/distributions/distribution.py\u001b[0m in \u001b[0;36mcdf\u001b[0;34m(self, value)\u001b[0m\n\u001b[1;32m    153\u001b[0m             \u001b[0mvalue\u001b[0m \u001b[0;34m(\u001b[0m\u001b[0mTensor\u001b[0m\u001b[0;34m)\u001b[0m\u001b[0;34m:\u001b[0m\u001b[0;34m\u001b[0m\u001b[0;34m\u001b[0m\u001b[0m\n\u001b[1;32m    154\u001b[0m         \"\"\"\n\u001b[0;32m--> 155\u001b[0;31m         \u001b[0;32mraise\u001b[0m \u001b[0mNotImplementedError\u001b[0m\u001b[0;34m\u001b[0m\u001b[0;34m\u001b[0m\u001b[0m\n\u001b[0m\u001b[1;32m    156\u001b[0m \u001b[0;34m\u001b[0m\u001b[0m\n\u001b[1;32m    157\u001b[0m     \u001b[0;32mdef\u001b[0m \u001b[0micdf\u001b[0m\u001b[0;34m(\u001b[0m\u001b[0mself\u001b[0m\u001b[0;34m,\u001b[0m \u001b[0mvalue\u001b[0m\u001b[0;34m)\u001b[0m\u001b[0;34m:\u001b[0m\u001b[0;34m\u001b[0m\u001b[0;34m\u001b[0m\u001b[0m\n",
      "\u001b[0;31mNotImplementedError\u001b[0m: "
     ]
    }
   ],
   "source": [
    "t.cdf(tensor(.1))"
   ]
  },
  {
   "cell_type": "code",
   "execution_count": null,
   "metadata": {},
   "outputs": [],
   "source": [
    "t.cdf()"
   ]
  },
  {
   "cell_type": "code",
   "execution_count": 153,
   "metadata": {},
   "outputs": [],
   "source": [
    "import matplotlib.pyplot as plt"
   ]
  },
  {
   "cell_type": "code",
   "execution_count": 154,
   "metadata": {},
   "outputs": [],
   "source": [
    "from scipy.stats import multivariate_normal"
   ]
  },
  {
   "cell_type": "code",
   "execution_count": 182,
   "metadata": {},
   "outputs": [],
   "source": [
    "# cdf(x, mean=None, cov=1, allow_singular=False, maxpts=1000000*dim, abseps=1e-5, releps=1e-5)\n",
    "y = multivariate_normal.cdf(x, mean=[0,0], cov=cov)"
   ]
  },
  {
   "cell_type": "code",
   "execution_count": 188,
   "metadata": {},
   "outputs": [
    {
     "data": {
      "text/plain": [
       "[<matplotlib.lines.Line2D at 0x7ff9212dfe50>]"
      ]
     },
     "execution_count": 188,
     "metadata": {},
     "output_type": "execute_result"
    },
    {
     "data": {
      "image/png": "[encoded data removed]",
      "text/plain": [
       "<Figure size 432x288 with 1 Axes>"
      ]
     },
     "metadata": {
      "needs_background": "light"
     },
     "output_type": "display_data"
    }
   ],
   "source": [
    "plt.plot(sorted(y))\n"
   ]
  },
  {
   "cell_type": "code",
   "execution_count": 178,
   "metadata": {},
   "outputs": [
    {
     "name": "stdout",
     "output_type": "stream",
     "text": [
      "x1 [0.  0.5 1.  1.5 2.  2.5 3.  3.5 4.  4.5]\n"
     ]
    },
    {
     "ename": "ValueError",
     "evalue": "shapes (10000,2) and (1,1) not aligned: 2 (dim 1) != 1 (dim 0)",
     "output_type": "error",
     "traceback": [
      "\u001b[0;31m---------------------------------------------------------------------------\u001b[0m",
      "\u001b[0;31mValueError\u001b[0m                                Traceback (most recent call last)",
      "\u001b[0;32m<ipython-input-178-d6588dcad358>\u001b[0m in \u001b[0;36m<module>\u001b[0;34m\u001b[0m\n\u001b[1;32m      1\u001b[0m \u001b[0mx1\u001b[0m \u001b[0;34m=\u001b[0m \u001b[0mnp\u001b[0m\u001b[0;34m.\u001b[0m\u001b[0mlinspace\u001b[0m\u001b[0;34m(\u001b[0m\u001b[0;36m0\u001b[0m\u001b[0;34m,\u001b[0m \u001b[0;36m5\u001b[0m\u001b[0;34m,\u001b[0m \u001b[0;36m10\u001b[0m\u001b[0;34m,\u001b[0m \u001b[0mendpoint\u001b[0m\u001b[0;34m=\u001b[0m\u001b[0;32mFalse\u001b[0m\u001b[0;34m)\u001b[0m\u001b[0;34m\u001b[0m\u001b[0;34m\u001b[0m\u001b[0m\n\u001b[1;32m      2\u001b[0m \u001b[0mprint\u001b[0m\u001b[0;34m(\u001b[0m\u001b[0;34m\"x1\"\u001b[0m\u001b[0;34m,\u001b[0m \u001b[0mx1\u001b[0m\u001b[0;34m)\u001b[0m\u001b[0;34m\u001b[0m\u001b[0;34m\u001b[0m\u001b[0m\n\u001b[0;32m----> 3\u001b[0;31m \u001b[0my\u001b[0m \u001b[0;34m=\u001b[0m \u001b[0mmultivariate_normal\u001b[0m\u001b[0;34m.\u001b[0m\u001b[0mpdf\u001b[0m\u001b[0;34m(\u001b[0m\u001b[0mx\u001b[0m\u001b[0;34m,\u001b[0m \u001b[0mmean\u001b[0m\u001b[0;34m=\u001b[0m\u001b[0;36m2.5\u001b[0m\u001b[0;34m,\u001b[0m \u001b[0mcov\u001b[0m\u001b[0;34m=\u001b[0m\u001b[0;36m0.5\u001b[0m\u001b[0;34m)\u001b[0m\u001b[0;34m;\u001b[0m \u001b[0my\u001b[0m\u001b[0;34m\u001b[0m\u001b[0;34m\u001b[0m\u001b[0m\n\u001b[0m\u001b[1;32m      4\u001b[0m \u001b[0;34m\u001b[0m\u001b[0m\n\u001b[1;32m      5\u001b[0m \u001b[0mprint\u001b[0m\u001b[0;34m(\u001b[0m\u001b[0;34m\"y\"\u001b[0m\u001b[0;34m,\u001b[0m \u001b[0my\u001b[0m\u001b[0;34m)\u001b[0m\u001b[0;34m\u001b[0m\u001b[0;34m\u001b[0m\u001b[0m\n",
      "\u001b[0;32m~/miniconda3/lib/python3.7/site-packages/scipy/stats/_multivariate.py\u001b[0m in \u001b[0;36mpdf\u001b[0;34m(self, x, mean, cov, allow_singular)\u001b[0m\n\u001b[1;32m    520\u001b[0m         \u001b[0mx\u001b[0m \u001b[0;34m=\u001b[0m \u001b[0mself\u001b[0m\u001b[0;34m.\u001b[0m\u001b[0m_process_quantiles\u001b[0m\u001b[0;34m(\u001b[0m\u001b[0mx\u001b[0m\u001b[0;34m,\u001b[0m \u001b[0mdim\u001b[0m\u001b[0;34m)\u001b[0m\u001b[0;34m\u001b[0m\u001b[0;34m\u001b[0m\u001b[0m\n\u001b[1;32m    521\u001b[0m         \u001b[0mpsd\u001b[0m \u001b[0;34m=\u001b[0m \u001b[0m_PSD\u001b[0m\u001b[0;34m(\u001b[0m\u001b[0mcov\u001b[0m\u001b[0;34m,\u001b[0m \u001b[0mallow_singular\u001b[0m\u001b[0;34m=\u001b[0m\u001b[0mallow_singular\u001b[0m\u001b[0;34m)\u001b[0m\u001b[0;34m\u001b[0m\u001b[0;34m\u001b[0m\u001b[0m\n\u001b[0;32m--> 522\u001b[0;31m         \u001b[0mout\u001b[0m \u001b[0;34m=\u001b[0m \u001b[0mnp\u001b[0m\u001b[0;34m.\u001b[0m\u001b[0mexp\u001b[0m\u001b[0;34m(\u001b[0m\u001b[0mself\u001b[0m\u001b[0;34m.\u001b[0m\u001b[0m_logpdf\u001b[0m\u001b[0;34m(\u001b[0m\u001b[0mx\u001b[0m\u001b[0;34m,\u001b[0m \u001b[0mmean\u001b[0m\u001b[0;34m,\u001b[0m \u001b[0mpsd\u001b[0m\u001b[0;34m.\u001b[0m\u001b[0mU\u001b[0m\u001b[0;34m,\u001b[0m \u001b[0mpsd\u001b[0m\u001b[0;34m.\u001b[0m\u001b[0mlog_pdet\u001b[0m\u001b[0;34m,\u001b[0m \u001b[0mpsd\u001b[0m\u001b[0;34m.\u001b[0m\u001b[0mrank\u001b[0m\u001b[0;34m)\u001b[0m\u001b[0;34m)\u001b[0m\u001b[0;34m\u001b[0m\u001b[0;34m\u001b[0m\u001b[0m\n\u001b[0m\u001b[1;32m    523\u001b[0m         \u001b[0;32mreturn\u001b[0m \u001b[0m_squeeze_output\u001b[0m\u001b[0;34m(\u001b[0m\u001b[0mout\u001b[0m\u001b[0;34m)\u001b[0m\u001b[0;34m\u001b[0m\u001b[0;34m\u001b[0m\u001b[0m\n\u001b[1;32m    524\u001b[0m \u001b[0;34m\u001b[0m\u001b[0m\n",
      "\u001b[0;32m~/miniconda3/lib/python3.7/site-packages/scipy/stats/_multivariate.py\u001b[0m in \u001b[0;36m_logpdf\u001b[0;34m(self, x, mean, prec_U, log_det_cov, rank)\u001b[0m\n\u001b[1;32m    468\u001b[0m         \"\"\"\n\u001b[1;32m    469\u001b[0m         \u001b[0mdev\u001b[0m \u001b[0;34m=\u001b[0m \u001b[0mx\u001b[0m \u001b[0;34m-\u001b[0m \u001b[0mmean\u001b[0m\u001b[0;34m\u001b[0m\u001b[0;34m\u001b[0m\u001b[0m\n\u001b[0;32m--> 470\u001b[0;31m         \u001b[0mmaha\u001b[0m \u001b[0;34m=\u001b[0m \u001b[0mnp\u001b[0m\u001b[0;34m.\u001b[0m\u001b[0msum\u001b[0m\u001b[0;34m(\u001b[0m\u001b[0mnp\u001b[0m\u001b[0;34m.\u001b[0m\u001b[0msquare\u001b[0m\u001b[0;34m(\u001b[0m\u001b[0mnp\u001b[0m\u001b[0;34m.\u001b[0m\u001b[0mdot\u001b[0m\u001b[0;34m(\u001b[0m\u001b[0mdev\u001b[0m\u001b[0;34m,\u001b[0m \u001b[0mprec_U\u001b[0m\u001b[0;34m)\u001b[0m\u001b[0;34m)\u001b[0m\u001b[0;34m,\u001b[0m \u001b[0maxis\u001b[0m\u001b[0;34m=\u001b[0m\u001b[0;34m-\u001b[0m\u001b[0;36m1\u001b[0m\u001b[0;34m)\u001b[0m\u001b[0;34m\u001b[0m\u001b[0;34m\u001b[0m\u001b[0m\n\u001b[0m\u001b[1;32m    471\u001b[0m         \u001b[0;32mreturn\u001b[0m \u001b[0;34m-\u001b[0m\u001b[0;36m0.5\u001b[0m \u001b[0;34m*\u001b[0m \u001b[0;34m(\u001b[0m\u001b[0mrank\u001b[0m \u001b[0;34m*\u001b[0m \u001b[0m_LOG_2PI\u001b[0m \u001b[0;34m+\u001b[0m \u001b[0mlog_det_cov\u001b[0m \u001b[0;34m+\u001b[0m \u001b[0mmaha\u001b[0m\u001b[0;34m)\u001b[0m\u001b[0;34m\u001b[0m\u001b[0;34m\u001b[0m\u001b[0m\n\u001b[1;32m    472\u001b[0m \u001b[0;34m\u001b[0m\u001b[0m\n",
      "\u001b[0;32m<__array_function__ internals>\u001b[0m in \u001b[0;36mdot\u001b[0;34m(*args, **kwargs)\u001b[0m\n",
      "\u001b[0;31mValueError\u001b[0m: shapes (10000,2) and (1,1) not aligned: 2 (dim 1) != 1 (dim 0)"
     ]
    }
   ],
   "source": [
    "x1 = np.linspace(0, 5, 10, endpoint=False)\n",
    "print(\"x1\", x1)\n",
    "y = multivariate_normal.pdf(x, mean=2.5, cov=0.5); y\n",
    "\n",
    "print(\"y\", y)\n",
    "fig1 = plt.figure()\n",
    "ax = fig1.add_subplot(111)\n",
    "ax.plot(x, y)"
   ]
  },
  {
   "cell_type": "code",
   "execution_count": 168,
   "metadata": {},
   "outputs": [
    {
     "data": {
      "text/plain": [
       "<matplotlib.contour.QuadContourSet at 0x7ff9109b7350>"
      ]
     },
     "execution_count": 168,
     "metadata": {},
     "output_type": "execute_result"
    },
    {
     "data": {
      "image/png": "[encoded data removed]",
      "text/plain": [
       "<Figure size 432x288 with 1 Axes>"
      ]
     },
     "metadata": {
      "needs_background": "light"
     },
     "output_type": "display_data"
    }
   ],
   "source": [
    "x, y = np.mgrid[-1:1:.01, -1:1:.01]\n",
    "pos = np.dstack((x, y))\n",
    "rv = multivariate_normal([0.5, -0.2], [[2.0, 0.3], [0.3, 0.5]])\n",
    "fig2 = plt.figure()\n",
    "ax2 = fig2.add_subplot(111)\n",
    "ax2.contourf(x, y, rv.pdf(pos))"
   ]
  },
  {
   "cell_type": "code",
   "execution_count": 585,
   "metadata": {},
   "outputs": [],
   "source": [
    "from torch.distributions import Categorical"
   ]
  },
  {
   "cell_type": "code",
   "execution_count": 603,
   "metadata": {},
   "outputs": [
    {
     "data": {
      "text/plain": [
       "tensor(3)"
      ]
     },
     "execution_count": 603,
     "metadata": {},
     "output_type": "execute_result"
    }
   ],
   "source": [
    "Categorical(probs=tensor([.1, .3, .5, .8])).sample()"
   ]
  },
  {
   "cell_type": "code",
   "execution_count": null,
   "metadata": {},
   "outputs": [],
   "source": []
  }
 ],
 "metadata": {
  "kernelspec": {
   "display_name": "Python 3",
   "language": "python",
   "name": "python3"
  },
  "language_info": {
   "codemirror_mode": {
    "name": "ipython",
    "version": 3
   },
   "file_extension": ".py",
   "mimetype": "text/x-python",
   "name": "python",
   "nbconvert_exporter": "python",
   "pygments_lexer": "ipython3",
   "version": "3.7.6"
  }
 },
 "nbformat": 4,
 "nbformat_minor": 4
}
