{
 "metadata": {
  "language_info": {
   "codemirror_mode": {
    "name": "ipython",
    "version": 3
   },
   "file_extension": ".py",
   "mimetype": "text/x-python",
   "name": "python",
   "nbconvert_exporter": "python",
   "pygments_lexer": "ipython3",
   "version": "3.7.6-final"
  },
  "orig_nbformat": 2,
  "kernelspec": {
   "name": "python3",
   "display_name": "Python 3.7.6 64-bit ('miniconda3': virtualenv)",
   "metadata": {
    "interpreter": {
     "hash": "afe5ebbfdd63d5f53bf49e6aa62793990f23c9b8ec75185fbb6f3054c1465b21"
    }
   }
  }
 },
 "nbformat": 4,
 "nbformat_minor": 2,
 "cells": [
  {
   "cell_type": "code",
   "execution_count": 51,
   "metadata": {},
   "outputs": [
    {
     "output_type": "stream",
     "name": "stdout",
     "text": [
      "Requirement already satisfied: arviz in /Users/alexkotlar/miniconda3/lib/python3.7/site-packages (0.9.0)\n",
      "Requirement already satisfied: numpy>=1.12 in /Users/alexkotlar/miniconda3/lib/python3.7/site-packages (from arviz) (1.19.2)\n",
      "Requirement already satisfied: scipy>=0.19 in /Users/alexkotlar/miniconda3/lib/python3.7/site-packages (from arviz) (1.5.2)\n",
      "Requirement already satisfied: xarray>=0.11 in /Users/alexkotlar/miniconda3/lib/python3.7/site-packages (from arviz) (0.15.1)\n",
      "Requirement already satisfied: netcdf4 in /Users/alexkotlar/miniconda3/lib/python3.7/site-packages (from arviz) (1.5.3)\n",
      "Requirement already satisfied: packaging in /Users/alexkotlar/miniconda3/lib/python3.7/site-packages (from arviz) (20.3)\n",
      "Requirement already satisfied: matplotlib>=3.0 in /Users/alexkotlar/miniconda3/lib/python3.7/site-packages (from arviz) (3.2.1)\n",
      "Requirement already satisfied: pandas>=0.23 in /Users/alexkotlar/miniconda3/lib/python3.7/site-packages (from arviz) (1.1.2)\n",
      "Requirement already satisfied: setuptools>=41.2 in /Users/alexkotlar/miniconda3/lib/python3.7/site-packages (from xarray>=0.11->arviz) (49.2.0.post20200712)\n",
      "Requirement already satisfied: cftime in /Users/alexkotlar/miniconda3/lib/python3.7/site-packages (from netcdf4->arviz) (1.1.3)\n",
      "Requirement already satisfied: pyparsing>=2.0.2 in /Users/alexkotlar/miniconda3/lib/python3.7/site-packages (from packaging->arviz) (2.4.6)\n",
      "Requirement already satisfied: six in /Users/alexkotlar/miniconda3/lib/python3.7/site-packages (from packaging->arviz) (1.15.0)\n",
      "Requirement already satisfied: kiwisolver>=1.0.1 in /Users/alexkotlar/miniconda3/lib/python3.7/site-packages (from matplotlib>=3.0->arviz) (1.1.0)\n",
      "Requirement already satisfied: cycler>=0.10 in /Users/alexkotlar/miniconda3/lib/python3.7/site-packages (from matplotlib>=3.0->arviz) (0.10.0)\n",
      "Requirement already satisfied: python-dateutil>=2.1 in /Users/alexkotlar/miniconda3/lib/python3.7/site-packages (from matplotlib>=3.0->arviz) (2.8.1)\n",
      "Requirement already satisfied: pytz>=2017.2 in /Users/alexkotlar/miniconda3/lib/python3.7/site-packages (from pandas>=0.23->arviz) (2019.3)\n",
      "\u001b[33mWARNING: You are using pip version 20.2.3; however, version 20.2.4 is available.\n",
      "You should consider upgrading via the '/Users/alexkotlar/miniconda3/bin/python3.7 -m pip install --upgrade pip' command.\u001b[0m\n"
     ]
    }
   ],
   "source": [
    "!pip install arviz\n"
   ]
  },
  {
   "cell_type": "code",
   "execution_count": 1,
   "metadata": {},
   "outputs": [],
   "source": [
    "%load_ext autoreload\n",
    "%autoreload 2\n",
    "%reload_ext autoreload"
   ]
  },
  {
   "cell_type": "code",
   "execution_count": 1,
   "metadata": {
    "tags": []
   },
   "outputs": [
    {
     "output_type": "stream",
     "name": "stdout",
     "text": [
      "covShared tensor([[1.0000, 0.9500],\n",
      "        [0.9500, 1.0000]])\n",
      "residualCovariance tensor([[1, 0],\n",
      "        [0, 1]])\n",
      "PD1 threshold, PD2 threshold tensor(-2.3263) tensor(-2.3263)\n",
      "pDsWithBoth tensor([0.0100, 0.0100, 0.0067], dtype=torch.float64)\n",
      "pdThresh tensor([2.3263, 2.3263])\n",
      "pdTarget tensor([0.0300, 0.0200])\n",
      "pdvthresh tensor([1.8808, 2.0537])\n",
      "meanEffect tensor([0.4456, 0.2726])\n",
      "meanEffectsAcrossAllGenes tensor([0.4456, 0.2726])\n",
      "allEffects tensor([[-0.3997, -0.2246],\n",
      "        [-0.4711, -0.2907],\n",
      "        [-0.4944, -0.3293],\n",
      "        ...,\n",
      "        [-0.5948, -0.4194],\n",
      "        [-0.4128, -0.2318],\n",
      "        [-0.4164, -0.2337]])\n",
      "PD1GivenV.mean() tensor(0.0307) PD2GivenV.mean() tensor(0.0205)\n",
      "allEffects[i] tensor([-0.3997, -0.2246])\n",
      "PDBothGivenV.mean tensor(0.0172, dtype=torch.float64)\n",
      "PDBothGivenV / PDBoth tensor(2.5606, dtype=torch.float64)\n",
      "pdsCovarOnMean.mean(0) tensor([0.0307, 0.0205, 0.0172], dtype=torch.float64)\n",
      "np.corrcoef(pdvInBoth[:,0], pdvInBoth[:,1])\n",
      " [[1.         0.94930205]\n",
      " [0.94930205 1.        ]]\n",
      "np.corrcoef(pdvInBoth[:,0], pdvInBoth[:,2])\n",
      " [[1.         0.97603479]\n",
      " [0.97603479 1.        ]]\n",
      "PDBoth1GivenV tensor([0.0254, 0.0246, 0.0198,  ..., 0.0152, 0.0214, 0.0239])\n",
      "PDBoth2GivenV tensor([0.0109, 0.0119, 0.0145,  ..., 0.0174, 0.0139, 0.0145])\n",
      "np.corrcoef(PD1Vsingle, PD2Vsingle)\n",
      " [[1.         0.00379886]\n",
      " [0.00379886 1.        ]]\n",
      "np.corrcoef(PD1Vsingle, PDBoth1GivenV)\n",
      " [[1. 1.]\n",
      " [1. 1.]]\n",
      "np.corrcoef(PD2Vsingle, PDBoth1GivenV)\n",
      " [[1.         0.00379885]\n",
      " [0.00379885 1.        ]]\n",
      "np.corrcoef(PD2Vsingle, PDBoth2GivenV)\n",
      " [[1. 1.]\n",
      " [1. 1.]]\n",
      "pdvsGeneAffects1.mean tensor([0.0245, 0.0238, 0.0198,  ..., 0.0160, 0.0211, 0.0232])\n",
      "afs.dist tensor(9.9886e-05) +/- tensor(1.4131e-05)\n",
      "afs.shape torch.Size([20000])\n",
      "pvd_base tensor([[[1.0000, 1.0000, 1.0000],\n",
      "         [3.7969, 1.0000, 3.7969],\n",
      "         [1.0000, 1.6214, 1.6214],\n",
      "         [2.7011, 1.7787, 2.2140]],\n",
      "\n",
      "        [[1.0000, 1.0000, 1.0000],\n",
      "         [3.6722, 1.0000, 3.6722],\n",
      "         [1.0000, 1.7829, 1.7829],\n",
      "         [3.1778, 2.0894, 2.6258]],\n",
      "\n",
      "        [[1.0000, 1.0000, 1.0000],\n",
      "         [2.9524, 1.0000, 2.9524],\n",
      "         [1.0000, 2.1570, 2.1570],\n",
      "         [3.3483, 2.2912, 2.8543]],\n",
      "\n",
      "        ...,\n",
      "\n",
      "        [[1.0000, 1.0000, 1.0000],\n",
      "         [2.2669, 1.0000, 2.2669],\n",
      "         [1.0000, 2.5967, 2.5967],\n",
      "         [4.1679, 2.8261, 3.5756]],\n",
      "\n",
      "        [[1.0000, 1.0000, 1.0000],\n",
      "         [3.1995, 1.0000, 3.1995],\n",
      "         [1.0000, 2.0803, 2.0803],\n",
      "         [2.7836, 1.8108, 2.2658]],\n",
      "\n",
      "        [[1.0000, 1.0000, 1.0000],\n",
      "         [3.5672, 1.0000, 3.5672],\n",
      "         [1.0000, 2.1632, 2.1632],\n",
      "         [2.8072, 1.8192, 2.2799]]], dtype=torch.float64)\n",
      "afs tensor([9.1548e-05, 1.1249e-04, 9.7812e-05,  ..., 1.1267e-04, 1.0539e-04,\n",
      "        1.2242e-04])\n",
      "pvds tensor([[[9.1548e-05, 9.1548e-05, 9.1548e-05],\n",
      "         [3.4760e-04, 9.1548e-05, 3.4760e-04],\n",
      "         [9.1548e-05, 1.4843e-04, 1.4843e-04],\n",
      "         [2.4728e-04, 1.6284e-04, 2.0269e-04]],\n",
      "\n",
      "        [[1.1249e-04, 1.1249e-04, 1.1249e-04],\n",
      "         [4.1309e-04, 1.1249e-04, 4.1309e-04],\n",
      "         [1.1249e-04, 2.0056e-04, 2.0056e-04],\n",
      "         [3.5746e-04, 2.3503e-04, 2.9538e-04]],\n",
      "\n",
      "        [[9.7812e-05, 9.7812e-05, 9.7812e-05],\n",
      "         [2.8878e-04, 9.7812e-05, 2.8878e-04],\n",
      "         [9.7812e-05, 2.1098e-04, 2.1098e-04],\n",
      "         [3.2750e-04, 2.2411e-04, 2.7919e-04]],\n",
      "\n",
      "        ...,\n",
      "\n",
      "        [[1.1267e-04, 1.1267e-04, 1.1267e-04],\n",
      "         [2.5542e-04, 1.1267e-04, 2.5542e-04],\n",
      "         [1.1267e-04, 2.9258e-04, 2.9258e-04],\n",
      "         [4.6961e-04, 3.1843e-04, 4.0288e-04]],\n",
      "\n",
      "        [[1.0539e-04, 1.0539e-04, 1.0539e-04],\n",
      "         [3.3721e-04, 1.0539e-04, 3.3721e-04],\n",
      "         [1.0539e-04, 2.1925e-04, 2.1925e-04],\n",
      "         [2.9337e-04, 1.9084e-04, 2.3879e-04]],\n",
      "\n",
      "        [[1.2242e-04, 1.2242e-04, 1.2242e-04],\n",
      "         [4.3670e-04, 1.2242e-04, 4.3670e-04],\n",
      "         [1.2242e-04, 2.6482e-04, 2.6482e-04],\n",
      "         [3.4366e-04, 2.2271e-04, 2.7911e-04]]], dtype=torch.float64)\n"
     ]
    }
   ],
   "source": [
    "from mvl import genData\n",
    "from torch import tensor\n",
    "\n",
    "liabParams55cov = genData.genParams(pis=tensor([.1, .1, .05]), rrMeans=tensor([3., 2.]), afMean = tensor(1e-4), pDs = tensor([.01, .01]), afShape=tensor(50.), nCases=tensor([1.5e4, 1.5e4, 4e3]), nCtrls=tensor(5e4), covShared=tensor([ [1, .95], [.95, 1] ]), meanEffectCovarianceScale=tensor(.01))[0]\n",
    "liabParams55cov[\"pDs\"] = liabParams55cov[\"pDs\"][0:2]\n",
    "liabData55cov = genData.v6liability(**liabParams55cov)\n",
    "liabParams55cov[\"pDs\"] = liabData55cov[\"PDs\"] #TODO: normalized names, and indicate that the params pDs are incomplete"
   ]
  },
  {
   "cell_type": "code",
   "execution_count": 7,
   "metadata": {},
   "outputs": [
    {
     "output_type": "stream",
     "name": "stdout",
     "text": [
      "Ready\n"
     ]
    }
   ],
   "source": [
    "import numpyro\n",
    "from numpyro.distributions import Multinomial, Beta, Dirichlet, DirichletMultinomial, Gamma, Beta, Categorical, Uniform, MultivariateNormal, Normal, LogNormal, Exponential, HalfCauchy, LKJCholesky\n",
    "from jax import random\n",
    "from numpyro.infer import MCMC, NUTS, SA, Predictive\n",
    "import numpy as np\n",
    "import jax.numpy as jnp\n",
    "import jax\n",
    "\n",
    "numpyro.set_host_device_count(6)\n",
    "numpyro.enable_x64()\n",
    "\n",
    "def mix_weights(beta: jnp.array):\n",
    "    beta_cumprod = (1 - beta).cumprod(-1)\n",
    "    return jnp.pad(beta, (0,1), constant_values=1) * jnp.pad(beta_cumprod, (1,0), constant_values = 1)\n",
    "\n",
    "\n",
    "# mu_exp, var_exp = get_log_params(liabParams55cov[\"afMean\"].numpy(), 1)\n",
    "# Expected number of components\n",
    "# For 2 case types it's\n",
    "# none, 1only, 2only, both\n",
    "# For 3 it's\n",
    "# none, 1only, 2only, 3only, 1&2, 1&3, 2&3, 123 (7)\n",
    "# for 4 it's\n",
    "# none, 1only, 2only, 3only, 4only, 1&2, 1&3, 1&4, 2&3, 2&4, 3&4, 123, 124, 134, 234, 1234\n",
    "# which is 4 + 4choose2 + nchoose3  + nchoose4 \n",
    "# nHypotheses = 6\n",
    "altCounts = liabData55cov[\"altCounts\"].numpy()\n",
    "N = len(liabData55cov[\"altCounts\"])\n",
    "\n",
    "nCases = liabParams55cov[\"nCases\"].numpy()\n",
    "nCtrls = liabParams55cov[\"nCtrls\"].numpy()\n",
    "empiricalAfs = altCounts.sum(1) / (nCases.sum() + nCtrls)\n",
    "samplePDs = nCases / (nCases.sum() + nCtrls)\n",
    "pdsAll = np.array([1 - samplePDs.sum(), *samplePDs])\n",
    "\n",
    "# pdsAllShaped = jnp.asarray(tensor(pdsAll).expand(nHypotheses, kConditions).numpy())\n",
    "pdsAllnp = [1 - samplePDs.sum(), *samplePDs]\n",
    "pdsAll = jnp.asarray([1 - samplePDs.sum(), *samplePDs])\n",
    "\n",
    "def model(data, nHypotheses: int, alpha = .05):\n",
    "    # If in pyro: conc = numpyro.sample('conc', Exponential(exponential_prior).to_event(1))\n",
    "    with numpyro.plate(\"beta_plate\", nHypotheses-1):\n",
    "        beta = numpyro.sample(\"beta\", Beta(1, alpha / nHypotheses))\n",
    "\n",
    "    with numpyro.plate(\"prob_plate\", nHypotheses):\n",
    "        conc = numpyro.sample('conc', Exponential(pdsAll).to_event(1))\n",
    "        probs = numpyro.sample(\"probs\", Dirichlet(conc))\n",
    "\n",
    "    with numpyro.plate(\"data\", data.shape[0]):\n",
    "        z = numpyro.sample(\"z\", Categorical(mix_weights(beta)))\n",
    "        return numpyro.sample(\"obs\", Multinomial(probs=probs[z]), obs=data)\n",
    "\n",
    "def model_mvn(data, nHypotheses: int, alpha = .05):\n",
    "    # If in pyro: conc = numpyro.sample('conc', Exponential(exponential_prior).to_event(1))\n",
    "    with numpyro.plate(\"beta_plate\", nHypotheses-1):\n",
    "        beta = numpyro.sample(\"beta\", Beta(1, alpha / nHypotheses))\n",
    "\n",
    "    with numpyro.plate(\"prob_plate\", nHypotheses):\n",
    "        # sigma = numpyro.sample(\"sigma\", dist.Exponential(np.ones(kConditions)).to_event(1))\n",
    "        # Rho = numpyro.sample(\"Rho\", dist.LKJ(kConditions, kConditions))\n",
    "        # cov = jnp.outer(sigma, sigma) * Rho\n",
    "        # print(\"cov\", cov)\n",
    "        probs = jax.nn.softmax(numpyro.sample(\"probs\", MultivariateNormal(0, np.eye(data.shape[1]))))\n",
    "\n",
    "    with numpyro.plate(\"data\", data.shape[0]):\n",
    "        z = numpyro.sample(\"z\", Categorical(mix_weights(beta)))\n",
    "        return numpyro.sample(\"obs\", Multinomial(probs=probs[z]), obs=data)\n",
    "\n",
    "# def model(data):\n",
    "#     # If in pyro: conc = numpyro.sample('conc', Exponential(exponential_prior).to_event(1))\n",
    "\n",
    "#     with numpyro.plate(\"beta_plate\", nHypotheses-1):\n",
    "#         beta = numpyro.sample(\"beta\", Beta(1, alpha))\n",
    "\n",
    "#     with numpyro.plate(\"prob_plate\", nHypotheses):\n",
    "#         conc = numpyro.sample('conc', (np.ones(kConditions) / kConditions).to_event(1))\n",
    "#         probs = numpyro.sample(\"probs\", Dirichlet(conc)) * pdsAll\n",
    "\n",
    "#     with numpyro.plate(\"data\", data.shape[0]):\n",
    "#         z = numpyro.sample(\"z\", Categorical(mix_weights(beta)))\n",
    "#         return numpyro.sample(\"obs\", Multinomial(probs=probs[z]), obs=data)\n",
    "\n",
    "# Does not work well\n",
    "# [[0.42117703 0.3627187  0.10471608 0.11138819]\n",
    "#  [0.7398306  0.14323903 0.08683579 0.03009459]\n",
    "#  [0.97234545 0.00996042 0.01018163 0.00751249]\n",
    "#  [0.35679422 0.35406996 0.20359637 0.08553945]\n",
    "#  [0.47704746 0.13865462 0.29911017 0.08518775]\n",
    "#  [0.60490041 0.17744334 0.17567386 0.0419824 ]]\n",
    "# inferred stick-breaking weights [0.10809093 0.01804032 0.00217327 0.08453217 0.13801261 0.65321601]\n",
    "# def modelPooled(data):\n",
    "#     beta = numpyro.sample(\"beta\", Beta(np.ones(nHypotheses-1), alpha, validate_args=False).to_event(1))\n",
    "\n",
    "#     conc = numpyro.sample(\"conc\", Gamma(pdsAllShaped, 1).to_event(2))\n",
    "#     probs = numpyro.sample(\"probs\", Dirichlet(conc*pdsAllShaped).to_event(1))\n",
    "#     with numpyro.plate(\"data\", N):\n",
    "#         z = numpyro.sample(\"z\", Categorical(mix_weights(beta)))\n",
    "#         return numpyro.sample(\"obs\", Multinomial(probs=probs[z], validate_args=False), obs=data)\n",
    "\n",
    "def get_posterior_samples(mcmc):\n",
    "    posterior_samples = mcmc.get_samples()\n",
    "    posterior_samples['pi'] = stickbreak(posterior_samples['beta'])\n",
    "    \n",
    "    return posterior_samples\n",
    "\n",
    "print(\"Ready\")"
   ]
  },
  {
   "cell_type": "code",
   "execution_count": 8,
   "metadata": {},
   "outputs": [
    {
     "output_type": "stream",
     "name": "stderr",
     "text": [
      "sample: 100%|██████████| 1100/1100 [17:08<00:00,  1.07it/s, 127 steps of size 1.47e-02. acc. prob=0.92]\n",
      "\n",
      "                 mean       std    median      5.0%     95.0%     n_eff     r_hat\n",
      "    beta[0]      0.67      0.03      0.67      0.62      0.73    249.67      1.01\n",
      "    beta[1]      0.42      0.06      0.42      0.31      0.50    392.97      1.00\n",
      "    beta[2]      0.67      0.10      0.67      0.52      0.84    233.68      1.01\n",
      "    beta[3]      0.99      0.04      1.00      1.00      1.00    104.25      1.00\n",
      "    beta[4]      1.00      0.00      1.00      1.00      1.00    218.11      1.01\n",
      "    beta[5]      0.99      0.05      1.00      1.00      1.00     63.06      1.03\n",
      "    beta[6]      0.97      0.10      1.00      0.94      1.00     69.89      1.00\n",
      "    beta[7]      0.94      0.17      1.00      0.86      1.00     40.37      1.01\n",
      "    beta[8]      0.93      0.17      1.00      0.72      1.00      9.28      1.22\n",
      "    beta[9]      0.84      0.24      0.98      0.44      1.00     29.30      1.00\n",
      "   beta[10]      0.97      0.13      1.00      0.99      1.00     33.15      1.05\n",
      " probs[0,0]      1.42      0.50      1.40      0.60      2.22     38.01      1.02\n",
      " probs[0,1]      0.19      0.49      0.17     -0.56      1.04     38.25      1.02\n",
      " probs[0,2]      0.17      0.49      0.15     -0.62      1.00     37.78      1.02\n",
      " probs[0,3]     -1.20      0.49     -1.22     -1.96     -0.34     37.83      1.02\n",
      " probs[1,0]      0.64      0.51      0.63     -0.30      1.38     60.37      1.01\n",
      " probs[1,1]      0.59      0.51      0.57     -0.35      1.34     60.76      1.01\n",
      " probs[1,2]     -0.60      0.52     -0.62     -1.55      0.17     59.90      1.01\n",
      " probs[1,3]     -0.77      0.51     -0.78     -1.73     -0.06     60.38      1.01\n",
      " probs[2,0]      0.89      0.44      0.87      0.25      1.67     32.44      1.10\n",
      " probs[2,1]     -0.42      0.44     -0.43     -1.13      0.36     33.57      1.10\n",
      " probs[2,2]      0.42      0.43      0.41     -0.25      1.12     33.24      1.09\n",
      " probs[2,3]     -0.92      0.43     -0.93     -1.62     -0.24     34.73      1.09\n",
      " probs[3,0]      0.29      0.46      0.29     -0.51      1.00     99.94      1.01\n",
      " probs[3,1]      0.37      0.46      0.37     -0.39      1.10    105.27      1.01\n",
      " probs[3,2]      0.09      0.46      0.09     -0.65      0.86    108.50      1.01\n",
      " probs[3,3]     -1.10      0.46     -1.10     -1.81     -0.29    103.63      1.01\n",
      " probs[4,0]      0.12      0.98      0.14     -1.31      1.86    142.82      1.00\n",
      " probs[4,1]      0.08      0.97      0.06     -1.50      1.69     82.52      1.00\n",
      " probs[4,2]      0.04      1.02     -0.00     -1.80      1.52    234.43      1.00\n",
      " probs[4,3]     -0.04      1.08     -0.10     -1.60      1.98     87.03      1.00\n",
      " probs[5,0]     -0.20      0.91     -0.19     -1.45      1.42     71.90      1.02\n",
      " probs[5,1]     -0.16      0.89     -0.19     -1.61      1.21     51.92      1.00\n",
      " probs[5,2]     -0.13      1.04     -0.13     -1.85      1.57     60.41      1.00\n",
      " probs[5,3]     -0.04      1.06     -0.07     -1.69      1.77     29.88      1.00\n",
      " probs[6,0]      0.02      0.98      0.04     -1.72      1.51    282.81      1.00\n",
      " probs[6,1]     -0.07      1.02     -0.06     -1.62      1.69    150.78      1.01\n",
      " probs[6,2]     -0.07      0.95     -0.04     -1.49      1.48     86.22      1.00\n",
      " probs[6,3]     -0.13      1.04     -0.14     -1.80      1.56    102.29      1.00\n",
      " probs[7,0]     -0.08      1.02     -0.03     -1.81      1.48    219.59      1.00\n",
      " probs[7,1]      0.03      1.03      0.02     -1.81      1.59    157.93      1.00\n",
      " probs[7,2]     -0.05      0.95     -0.04     -1.64      1.34    169.99      1.01\n",
      " probs[7,3]      0.03      1.08      0.03     -1.81      1.76    145.59      1.01\n",
      " probs[8,0]     -0.04      1.00     -0.00     -1.83      1.44    228.84      1.00\n",
      " probs[8,1]      0.04      1.03      0.02     -1.81      1.56    170.99      1.00\n",
      " probs[8,2]     -0.05      1.00     -0.06     -1.73      1.42     67.80      1.00\n",
      " probs[8,3]      0.09      0.94      0.11     -1.41      1.72    311.86      1.02\n",
      " probs[9,0]      0.15      0.88      0.09     -1.31      1.63     69.23      1.00\n",
      " probs[9,1]      0.01      1.02     -0.04     -1.47      1.77    178.73      1.00\n",
      " probs[9,2]      0.09      0.97      0.14     -1.31      1.74     67.93      1.00\n",
      " probs[9,3]      0.08      0.99      0.05     -1.50      1.67    238.60      1.00\n",
      "probs[10,0]      0.01      1.04      0.02     -1.61      1.67     86.35      1.00\n",
      "probs[10,1]     -0.01      0.99     -0.04     -1.59      1.60    151.64      1.00\n",
      "probs[10,2]      0.04      0.95      0.00     -1.46      1.56    244.43      1.01\n",
      "probs[10,3]      0.01      1.03     -0.01     -1.73      1.65    245.84      1.01\n",
      "probs[11,0]     -0.05      0.97     -0.01     -1.53      1.63    161.80      1.01\n",
      "probs[11,1]      0.09      1.02      0.08     -1.43      1.81    298.88      1.00\n",
      "probs[11,2]     -0.04      0.92     -0.03     -1.66      1.36    205.89      1.00\n",
      "probs[11,3]      0.04      1.11      0.01     -2.04      1.64     64.81      1.00\n",
      "\n",
      "Number of divergences: 0\n"
     ]
    }
   ],
   "source": [
    "mcmc_mvn = MCMC(NUTS(model_mvn, max_tree_depth=rho_mvn = posterior_samples_mvn[\"sigma\"]\n",
    "mcmc_mvn.run(random.PRNGKey(12269), altCounts, 12)\n",
    "mcmc_mvn.print_summary()"
   ]
  },
  {
   "cell_type": "code",
   "execution_count": 10,
   "metadata": {},
   "outputs": [
    {
     "output_type": "stream",
     "name": "stdout",
     "text": [
      "[[0.60593378 0.17635436 0.17363563 0.04407624]\n",
      " [0.40231207 0.38288013 0.1163476  0.09846019]\n",
      " [0.48432795 0.13204283 0.30420271 0.07942651]\n",
      " [0.31742947 0.34374417 0.25957352 0.07925284]\n",
      " [0.27104095 0.25652865 0.24081089 0.23161951]\n",
      " [0.22905035 0.24123777 0.2577164  0.27199548]\n",
      " [0.27207933 0.24701222 0.24590461 0.23500384]\n",
      " [0.23054149 0.26142115 0.2424045  0.26563286]\n",
      " [0.24026226 0.25954321 0.23821083 0.2619837 ]\n",
      " [0.25257603 0.2428562  0.25468136 0.24988641]\n",
      " [0.25550875 0.2454313  0.2517824  0.24727755]\n",
      " [0.24131773 0.26775832 0.23132063 0.25960331]]\n",
      "inferred stick-breaking weights mean:  [6.69768694e-01 1.37684514e-01 1.30799332e-01 6.32198091e-02\n",
      " 1.38195165e-03 9.96093144e-04 4.25789976e-04 9.77814841e-04\n",
      " 3.91025459e-04 8.74617031e-04 5.07778317e-04 9.99000999e-04]\n",
      "inferred stick-breaking weights stdd:  [0.03602987 0.02203326 0.03768891 0.01970046 0.03174924 0.03149844\n",
      " 0.01346466 0.03092122 0.01236531 0.02765782 0.01605736 0.03159119]\n"
     ]
    }
   ],
   "source": [
    "# #https://arviz-devs.github.io/arviz/getting_started/InferenceDataCookbook.html#cookbook\n",
    "# from numpyro.infer import Predictive\n",
    "# import arviz\n",
    "posterior_samples_mvn = mcmc_mvn.get_samples()\n",
    "\n",
    "# posterior_predictive = Predictive(model, posterior_samples_shallow)(random.PRNGKey(1), altCounts)\n",
    "# prior = Predictive(model, num_samples=500)(random.PRNGKey(2), altCounts)\n",
    "\n",
    "prob_mvn = posterior_samples_mvn[\"probs\"]\n",
    "print(jax.nn.softmax(prob_mvn).mean(0))\n",
    "\n",
    "# rho_mvn = posterior_samples_mvn[\"sigma\"]\n",
    "# print(rho_mvn.mean(0))\n",
    "\n",
    "beta_mvn = posterior_samples_mvn['beta']\n",
    "weights_mvn = mix_weights(beta_mvn)\n",
    "print(\"inferred stick-breaking weights mean: \", weights_mvn.mean(0))\n",
    "print(\"inferred stick-breaking weights stdd: \", weights_mvn.std(0))\n",
    "\n"
   ]
  },
  {
   "cell_type": "code",
   "execution_count": 142,
   "metadata": {},
   "outputs": [
    {
     "output_type": "stream",
     "name": "stdout",
     "text": [
      "[[0.14112049 0.06191058]\n [0.06191058 1.24910286]]\n"
     ]
    }
   ],
   "source": [
    "import numpyro.distributions as dist\n",
    "key = random.PRNGKey(0)\n",
    "key, *split = random.split(key, 4)\n",
    "\n",
    "# with numpyro.handlers.seed(rng_seed=4):\n",
    "# a = numpyro.sample(\"a\", dist.Normal(5, 2), rng_key=split[1])\n",
    "# b = numpyro.sample(\"b\", dist.Normal(-1, 0.5), rng_key=split[2])\n",
    "sigma_cafe = numpyro.sample(\"sigma_cafe\", dist.Exponential(1).expand([2]), rng_key=key)\n",
    "Rho = numpyro.sample(\"Rho\", dist.LKJ(2, 2), rng_key=split[0])\n",
    "cov = jnp.outer(sigma_cafe, sigma_cafe) * Rho\n",
    "# print(cov)\n",
    "\n",
    "print(cov)\n",
    "\n"
   ]
  },
  {
   "cell_type": "code",
   "execution_count": 31,
   "metadata": {},
   "outputs": [
    {
     "output_type": "stream",
     "name": "stderr",
     "text": [
      "sample: 100%|██████████| 1100/1100 [04:46<00:00,  3.84it/s, 63 steps of size 8.83e-02. acc. prob=0.93]\n",
      "\n",
      "                mean       std    median      5.0%     95.0%     n_eff     r_hat\n",
      "   beta[0]      0.66      0.03      0.67      0.62      0.72    655.99      1.00\n",
      "   beta[1]      0.34      0.08      0.34      0.20      0.47    535.17      1.00\n",
      "   beta[2]      0.40      0.09      0.40      0.25      0.54    705.66      1.00\n",
      "   beta[3]      1.00      0.01      1.00      1.00      1.00    411.78      1.00\n",
      "   beta[4]      0.93      0.16      1.00      0.74      1.00     77.02      1.02\n",
      " conc[0,0]      9.00      5.23      8.14      0.81     16.69    837.87      1.00\n",
      " conc[0,1]      3.29      2.07      2.86      0.22      6.33    776.05      1.00\n",
      " conc[0,2]      3.38      2.13      2.93      0.27      6.37    974.67      1.00\n",
      " conc[0,3]      1.35      0.92      1.14      0.11      2.66    714.13      1.00\n",
      " conc[1,0]      6.64      3.72      5.99      1.03     11.90    684.72      1.00\n",
      " conc[1,1]      5.82      3.24      5.22      0.72     10.43    656.92      1.00\n",
      " conc[1,2]      2.43      1.48      2.11      0.15      4.44    791.09      1.00\n",
      " conc[1,3]      2.44      1.36      2.22      0.57      4.53    907.58      1.00\n",
      " conc[2,0]      5.74      3.37      5.08      0.59     10.21    697.24      1.00\n",
      " conc[2,1]      6.13      3.72      5.51      1.17     11.79    507.91      1.00\n",
      " conc[2,2]      3.95      2.33      3.46      0.59      7.34    622.94      1.01\n",
      " conc[2,3]      2.04      1.28      1.78      0.24      3.69    924.27      1.00\n",
      " conc[3,0]      7.66      4.22      6.81      1.22     13.38   1078.18      1.00\n",
      " conc[3,1]      2.91      1.74      2.60      0.22      5.21   1458.72      1.00\n",
      " conc[3,2]      5.23      2.93      4.73      0.94      9.77   1160.97      1.00\n",
      " conc[3,3]      2.14      1.32      1.88      0.28      4.10   1454.27      1.00\n",
      " conc[4,0]      3.83      4.05      2.56      0.02      9.06    204.72      1.01\n",
      " conc[4,1]      4.17      3.96      2.99      0.01      8.88    495.41      1.00\n",
      " conc[4,2]      4.16      4.23      2.97      0.05      9.62    296.27      1.00\n",
      " conc[4,3]      3.55      3.75      2.45      0.00      8.42     87.29      1.00\n",
      " conc[5,0]      4.00      4.03      2.84      0.01      9.00    183.63      1.00\n",
      " conc[5,1]      4.13      4.02      2.96      0.05      9.16    674.29      1.00\n",
      " conc[5,2]      4.15      4.12      2.82      0.02      9.98    305.34      1.00\n",
      " conc[5,3]      3.64      3.65      2.43      0.05      8.89    249.97      1.00\n",
      "probs[0,0]      0.61      0.00      0.61      0.60      0.61    756.59      1.00\n",
      "probs[0,1]      0.18      0.00      0.18      0.17      0.18   1354.76      1.00\n",
      "probs[0,2]      0.18      0.00      0.18      0.17      0.18    839.57      1.00\n",
      "probs[0,3]      0.04      0.00      0.04      0.04      0.04    829.32      1.00\n",
      "probs[1,0]      0.42      0.02      0.42      0.39      0.45    660.98      1.00\n",
      "probs[1,1]      0.36      0.01      0.36      0.33      0.38    827.49      1.00\n",
      "probs[1,2]      0.11      0.01      0.11      0.09      0.13    602.64      1.00\n",
      "probs[1,3]      0.11      0.01      0.11      0.10      0.12    733.66      1.00\n",
      "probs[2,0]      0.33      0.02      0.33      0.30      0.36    792.92      1.00\n",
      "probs[2,1]      0.37      0.02      0.38      0.35      0.40   1166.23      1.00\n",
      "probs[2,2]      0.21      0.02      0.21      0.18      0.25    575.26      1.00\n",
      "probs[2,3]      0.08      0.01      0.08      0.07      0.09    708.86      1.00\n",
      "probs[3,0]      0.47      0.01      0.47      0.45      0.50    959.30      1.00\n",
      "probs[3,1]      0.14      0.01      0.14      0.12      0.16    944.96      1.00\n",
      "probs[3,2]      0.30      0.01      0.30      0.28      0.33    793.20      1.00\n",
      "probs[3,3]      0.09      0.01      0.09      0.08      0.10    871.96      1.00\n",
      "probs[4,0]      0.24      0.22      0.17      0.00      0.58    106.91      1.02\n",
      "probs[4,1]      0.27      0.22      0.22      0.00      0.61    196.65      1.01\n",
      "probs[4,2]      0.27      0.23      0.22      0.00      0.62    149.52      1.01\n",
      "probs[4,3]      0.22      0.22      0.15      0.00      0.57     57.61      1.00\n",
      "probs[5,0]      0.25      0.22      0.21      0.00      0.57    114.57      1.00\n",
      "probs[5,1]      0.26      0.21      0.22      0.00      0.56    354.17      1.00\n",
      "probs[5,2]      0.26      0.23      0.21      0.00      0.59    180.25      1.00\n",
      "probs[5,3]      0.23      0.21      0.17      0.00      0.57    142.72      1.00\n",
      "\n",
      "Number of divergences: 0\n"
     ]
    }
   ],
   "source": [
    "init_rng_key = random.PRNGKey(12272)\n",
    "mcmc1shallow = MCMC(NUTS(model, max_tree_depth=6), 100, 1000)\n",
    "mcmc1shallow.run(init_rng_key, altCounts)\n",
    "mcmc1shallow.print_summary()"
   ]
  },
  {
   "cell_type": "code",
   "execution_count": 39,
   "metadata": {},
   "outputs": [
    {
     "output_type": "stream",
     "name": "stdout",
     "text": [
      "[[0.60656712 0.17642251 0.17525303 0.04175734]\n [0.42100628 0.36000387 0.10713235 0.1118575 ]\n [0.33178829 0.37489053 0.21369736 0.07962382]\n [0.47265644 0.137683   0.30226671 0.08739385]\n [0.23760629 0.27085968 0.27056135 0.22097268]\n [0.2548273  0.25773358 0.25803269 0.22940642]]\ninferred stick-breaking weights mean:  [0.66354108 0.11508379 0.08999172 0.13439935 0.00110567 0.00100078]\ninferred stick-breaking weights stdd:  [0.03528769 0.03073997 0.03062832 0.04267356 0.0315201  0.03159113]\n"
     ]
    },
    {
     "output_type": "error",
     "ename": "NameError",
     "evalue": "name 'az' is not defined",
     "traceback": [
      "\u001b[0;31m---------------------------------------------------------------------------\u001b[0m",
      "\u001b[0;31mNameError\u001b[0m                                 Traceback (most recent call last)",
      "\u001b[0;32m<ipython-input-39-7c052369341d>\u001b[0m in \u001b[0;36m<module>\u001b[0;34m\u001b[0m\n\u001b[1;32m     15\u001b[0m \u001b[0mprint\u001b[0m\u001b[0;34m(\u001b[0m\u001b[0;34m\"inferred stick-breaking weights stdd: \"\u001b[0m\u001b[0;34m,\u001b[0m \u001b[0mweightsShallow\u001b[0m\u001b[0;34m.\u001b[0m\u001b[0mstd\u001b[0m\u001b[0;34m(\u001b[0m\u001b[0;36m0\u001b[0m\u001b[0;34m)\u001b[0m\u001b[0;34m)\u001b[0m\u001b[0;34m\u001b[0m\u001b[0;34m\u001b[0m\u001b[0m\n\u001b[1;32m     16\u001b[0m \u001b[0;34m\u001b[0m\u001b[0m\n\u001b[0;32m---> 17\u001b[0;31m numpyro_data_shallow = az.from_numpyro(\n\u001b[0m\u001b[1;32m     18\u001b[0m     \u001b[0mmcmc1shallow\u001b[0m\u001b[0;34m,\u001b[0m\u001b[0;34m\u001b[0m\u001b[0;34m\u001b[0m\u001b[0m\n\u001b[1;32m     19\u001b[0m     \u001b[0mprior\u001b[0m\u001b[0;34m=\u001b[0m\u001b[0mprior\u001b[0m\u001b[0;34m,\u001b[0m\u001b[0;34m\u001b[0m\u001b[0;34m\u001b[0m\u001b[0m\n",
      "\u001b[0;31mNameError\u001b[0m: name 'az' is not defined"
     ]
    }
   ],
   "source": [
    "#https://arviz-devs.github.io/arviz/getting_started/InferenceDataCookbook.html#cookbook\n",
    "from numpyro.infer import Predictive\n",
    "import arviz\n",
    "posterior_samples_shallow = mcmc1shallow.get_samples()\n",
    "\n",
    "posterior_predictive = Predictive(model, posterior_samples_shallow)(random.PRNGKey(1), altCounts)\n",
    "prior = Predictive(model, num_samples=500)(random.PRNGKey(2), altCounts)\n",
    "\n",
    "prob1shallow = posterior_samples_shallow[\"probs\"]\n",
    "print(prob1shallow.mean(0))\n",
    "\n",
    "betaScaledShallow = mcmc1shallow.get_samples()['beta']\n",
    "weightsShallow = mix_weights(betaScaledShallow)\n",
    "print(\"inferred stick-breaking weights mean: \", weightsShallow.mean(0))\n",
    "print(\"inferred stick-breaking weights stdd: \", weightsShallow.std(0))\n",
    "\n"
   ]
  },
  {
   "cell_type": "code",
   "execution_count": 52,
   "metadata": {},
   "outputs": [
    {
     "output_type": "stream",
     "name": "stderr",
     "text": [
      "sample: 100%|██████████| 1100/1100 [08:14<00:00,  2.23it/s, 63 steps of size 2.47e-02. acc. prob=0.94]\n",
      "\n",
      "                 mean       std    median      5.0%     95.0%     n_eff     r_hat\n",
      "    beta[0]      0.14      0.04      0.14      0.07      0.21     28.23      1.05\n",
      "    beta[1]      0.71      0.15      0.76      0.55      0.81      9.78      1.11\n",
      "    beta[2]      0.59      0.15      0.60      0.38      0.84     34.84      1.01\n",
      "    beta[3]      0.90      0.20      1.00      0.49      1.00      7.11      1.12\n",
      "    beta[4]      0.93      0.21      1.00      0.79      1.00     15.93      1.07\n",
      "    beta[5]      1.00      0.00      1.00      1.00      1.00    184.71      1.01\n",
      "    beta[6]      0.85      0.27      1.00      0.36      1.00      7.72      1.23\n",
      "    beta[7]      0.99      0.04      1.00      1.00      1.00     66.64      1.04\n",
      "    beta[8]      0.94      0.15      1.00      0.78      1.00     58.61      1.07\n",
      "    beta[9]      0.89      0.21      0.99      0.66      1.00     51.67      1.01\n",
      "   beta[10]      0.80      0.29      0.99      0.28      1.00      6.29      1.46\n",
      "  conc[0,0]      7.93      4.44      7.21      1.59     14.66    137.46      1.01\n",
      "  conc[0,1]      3.05      1.79      2.70      0.45      5.68    180.40      1.00\n",
      "  conc[0,2]      5.67      2.80      5.19      1.15      9.42     75.45      1.02\n",
      "  conc[0,3]      2.19      1.40      1.96      0.12      4.18     86.87      1.01\n",
      "  conc[1,0]      9.19      5.06      8.05      1.18     16.50    151.81      1.00\n",
      "  conc[1,1]      3.53      2.18      3.12      0.41      6.73    132.42      1.02\n",
      "  conc[1,2]      3.48      1.96      3.05      0.72      6.63    100.37      1.00\n",
      "  conc[1,3]      1.41      0.85      1.22      0.23      2.63     61.89      1.00\n",
      "  conc[2,0]      6.85      4.10      6.08      0.50     12.48    109.25      1.00\n",
      "  conc[2,1]      5.58      3.45      4.80      0.84     11.18     96.25      1.02\n",
      "  conc[2,2]      2.56      1.63      2.27      0.27      4.94    195.67      1.00\n",
      "  conc[2,3]      2.41      1.37      2.15      0.23      4.41     98.60      1.02\n",
      "  conc[3,0]      5.19      3.11      4.60      0.71      9.58    121.31      1.01\n",
      "  conc[3,1]      6.01      3.64      5.48      0.13     10.84    140.21      1.00\n",
      "  conc[3,2]      3.88      2.40      3.44      0.28      7.11    152.31      1.00\n",
      "  conc[3,3]      1.99      1.27      1.73      0.13      3.74    128.20      1.00\n",
      "  conc[4,0]      4.73      3.78      3.68      0.11     10.23     13.71      1.11\n",
      "  conc[4,1]      6.02      4.18      5.04      0.65     11.26     48.88      1.00\n",
      "  conc[4,2]      3.86      3.40      2.85      0.35      8.20     15.34      1.01\n",
      "  conc[4,3]      2.36      2.27      1.72      0.13      4.76     18.25      1.15\n",
      "  conc[5,0]      1.59      2.50      0.49      0.02      4.76     14.77      1.00\n",
      "  conc[5,1]      4.28      4.17      2.94      0.16      9.75    173.26      1.02\n",
      "  conc[5,2]      6.18      4.91      4.97      0.31     12.25     52.01      1.01\n",
      "  conc[5,3]      3.65      4.46      1.44      0.07     10.46      7.27      1.40\n",
      "  conc[6,0]      4.60      4.18      3.33      0.05     10.27     76.54      1.01\n",
      "  conc[6,1]      3.93      3.92      2.77      0.02      8.76     52.84      1.01\n",
      "  conc[6,2]      5.08      4.15      4.08      0.14     11.03     45.04      1.00\n",
      "  conc[6,3]      3.26      3.53      1.84      0.07      8.17     31.19      1.01\n",
      "  conc[7,0]      4.00      3.24      3.06      0.35      8.17     51.93      1.04\n",
      "  conc[7,1]      4.12      4.21      2.70      0.02      9.86     42.93      1.00\n",
      "  conc[7,2]      5.18      4.34      3.77      0.08     11.30     41.62      1.00\n",
      "  conc[7,3]      5.48      3.99      4.71      0.03     11.10     35.34      1.08\n",
      "  conc[8,0]      4.80      4.20      3.74      0.06     10.55     90.66      1.00\n",
      "  conc[8,1]      4.25      4.29      3.02      0.01      9.93     35.60      1.05\n",
      "  conc[8,2]      4.44      4.23      3.09      0.08      9.47     80.02      1.03\n",
      "  conc[8,3]      3.58      2.76      2.81      0.25      6.93    112.20      1.00\n",
      "  conc[9,0]      4.04      4.06      2.90      0.04      8.69     83.55      1.03\n",
      "  conc[9,1]      4.90      4.02      3.93      0.13     10.03     79.73      1.00\n",
      "  conc[9,2]      3.53      3.61      2.26      0.04      8.13     77.74      1.01\n",
      "  conc[9,3]      3.33      4.21      1.88      0.01      8.06     49.30      1.02\n",
      " conc[10,0]      3.38      3.82      2.02      0.01      8.33     54.69      1.09\n",
      " conc[10,1]      4.71      4.29      3.50      0.09     10.33     45.25      1.02\n",
      " conc[10,2]      3.34      4.25      2.02      0.01      8.60     10.59      1.25\n",
      " conc[10,3]      4.16      4.19      2.91      0.07      9.46     57.82      1.01\n",
      " conc[11,0]      2.95      3.39      1.76      0.01      7.82     33.37      1.02\n",
      " conc[11,1]      5.05      4.31      3.86      0.10     10.79    108.07      1.00\n",
      " conc[11,2]      4.51      4.46      3.19      0.08     10.03    101.66      1.01\n",
      " conc[11,3]      3.46      4.16      1.92      0.06      8.70     25.46      1.03\n",
      " probs[0,0]      0.48      0.02      0.48      0.45      0.50    176.96      1.01\n",
      " probs[0,1]      0.14      0.02      0.14      0.12      0.16     23.89      1.04\n",
      " probs[0,2]      0.30      0.02      0.30      0.27      0.33     26.72      1.05\n",
      " probs[0,3]      0.09      0.01      0.09      0.08      0.10    348.08      1.01\n",
      " probs[1,0]      0.60      0.03      0.61      0.60      0.62     19.32      1.05\n",
      " probs[1,1]      0.18      0.01      0.18      0.17      0.18     66.70      1.00\n",
      " probs[1,2]      0.18      0.02      0.17      0.17      0.18     17.88      1.06\n",
      " probs[1,3]      0.04      0.01      0.04      0.04      0.05     20.91      1.05\n",
      " probs[2,0]      0.44      0.06      0.42      0.38      0.56      9.71      1.09\n",
      " probs[2,1]      0.34      0.06      0.36      0.19      0.39      7.51      1.15\n",
      " probs[2,2]      0.12      0.03      0.11      0.09      0.17      9.42      1.18\n",
      " probs[2,3]      0.10      0.02      0.11      0.06      0.13      9.71      1.14\n",
      " probs[3,0]      0.33      0.02      0.33      0.29      0.35     72.31      1.02\n",
      " probs[3,1]      0.38      0.02      0.38      0.34      0.41     95.45      1.02\n",
      " probs[3,2]      0.22      0.02      0.22      0.18      0.25     72.22      1.00\n",
      " probs[3,3]      0.08      0.01      0.08      0.07      0.09    148.70      1.00\n",
      " probs[4,0]      0.30      0.19      0.32      0.01      0.54      6.38      1.30\n",
      " probs[4,1]      0.37      0.13      0.37      0.11      0.55     18.82      1.02\n",
      " probs[4,2]      0.22      0.14      0.18      0.03      0.44      6.77      1.02\n",
      " probs[4,3]      0.11      0.10      0.10      0.00      0.24      7.23      1.37\n",
      " probs[5,0]      0.09      0.15      0.00      0.00      0.34     10.61      1.01\n",
      " probs[5,1]      0.29      0.23      0.23      0.00      0.63     44.08      1.08\n",
      " probs[5,2]      0.42      0.23      0.40      0.03      0.79     25.71      1.13\n",
      " probs[5,3]      0.20      0.25      0.06      0.00      0.61      5.79      1.54\n",
      " probs[6,0]      0.29      0.24      0.24      0.00      0.65     16.94      1.05\n",
      " probs[6,1]      0.23      0.19      0.18      0.00      0.50     40.92      1.05\n",
      " probs[6,2]      0.31      0.20      0.27      0.01      0.60     27.30      1.02\n",
      " probs[6,3]      0.17      0.17      0.10      0.00      0.42     23.87      1.01\n",
      " probs[7,0]      0.20      0.14      0.16      0.03      0.37     21.80      1.09\n",
      " probs[7,1]      0.21      0.19      0.17      0.00      0.49     29.01      1.00\n",
      " probs[7,2]      0.28      0.22      0.23      0.01      0.62     24.68      1.00\n",
      " probs[7,3]      0.31      0.22      0.28      0.00      0.63     20.73      1.10\n",
      " probs[8,0]      0.27      0.20      0.23      0.00      0.54     46.45      1.00\n",
      " probs[8,1]      0.25      0.23      0.19      0.00      0.60     21.37      1.13\n",
      " probs[8,2]      0.27      0.22      0.22      0.00      0.62     37.03      1.10\n",
      " probs[8,3]      0.21      0.15      0.17      0.01      0.44    104.58      1.01\n",
      " probs[9,0]      0.25      0.22      0.20      0.00      0.57     43.58      1.07\n",
      " probs[9,1]      0.33      0.24      0.28      0.01      0.70     34.80      1.00\n",
      " probs[9,2]      0.22      0.21      0.16      0.00      0.55     45.94      1.01\n",
      " probs[9,3]      0.19      0.21      0.12      0.00      0.52     29.81      1.01\n",
      "probs[10,0]      0.20      0.19      0.14      0.00      0.49     33.75      1.08\n",
      "probs[10,1]      0.35      0.27      0.31      0.00      0.76     12.28      1.20\n",
      "probs[10,2]      0.19      0.21      0.11      0.00      0.52      7.03      1.28\n",
      "probs[10,3]      0.26      0.23      0.19      0.00      0.60     30.65      1.04\n",
      "probs[11,0]      0.18      0.20      0.10      0.00      0.49     29.26      1.03\n",
      "probs[11,1]      0.34      0.25      0.28      0.01      0.74     48.07      1.02\n",
      "probs[11,2]      0.28      0.23      0.23      0.00      0.64     44.94      1.02\n",
      "probs[11,3]      0.20      0.21      0.12      0.00      0.54     24.20      1.03\n",
      "\n",
      "Number of divergences: 0\n"
     ]
    }
   ],
   "source": [
    "# With 2x the number of components\n",
    "# Speed appears to halve, but still > 2it/s, still takes only 63 steps per it\n",
    "# actual result: 8:14s vs 04:46s for 6 components\n",
    "nHypotheses = 12\n",
    "init_rng_key = random.PRNGKey(12275)\n",
    "mcmc1_shallow_12 = MCMC(NUTS(model, max_tree_depth=6), 100, 1000)\n",
    "mcmc1_shallow_12.run(init_rng_key, altCounts)\n",
    "mcmc1_shallow_12.print_summary()"
   ]
  },
  {
   "cell_type": "code",
   "execution_count": 55,
   "metadata": {},
   "outputs": [
    {
     "output_type": "stream",
     "name": "stdout",
     "text": [
      "[[0.47690964 0.13687849 0.30033101 0.08588086]\n",
      " [0.60196606 0.17736425 0.17783865 0.04283104]\n",
      " [0.43859112 0.33704183 0.12103324 0.10333381]\n",
      " [0.32786191 0.37590634 0.21735709 0.07887466]\n",
      " [0.30105512 0.36907915 0.21658744 0.11327829]\n",
      " [0.0873675  0.28693257 0.42455969 0.20114025]\n",
      " [0.29310413 0.22862226 0.30566857 0.17260504]\n",
      " [0.19786615 0.20743047 0.28335852 0.31134487]\n",
      " [0.26997664 0.25169256 0.26654095 0.21178986]\n",
      " [0.2549449  0.33142057 0.22135155 0.19228298]\n",
      " [0.20179168 0.34715348 0.19236704 0.2586878 ]\n",
      " [0.17504335 0.34116427 0.27970352 0.20408886]]\n",
      "inferred stick-breaking weights mean:  [0.14114367 0.60781908 0.15499018 0.08049369 0.01821113 0.00102538\n",
      " 0.00080985 0.00095497 0.00093198 0.00090644 0.00094166 0.000999  ]\n",
      "inferred stick-breaking weights stdd:  [0.0517402  0.12864444 0.1203839  0.02630912 0.04826102 0.03157819\n",
      " 0.02560983 0.03019877 0.02947175 0.028664   0.02977787 0.03159119]\n"
     ]
    }
   ],
   "source": [
    "#https://arviz-devs.github.io/arviz/getting_started/InferenceDataCookbook.html#cookbook\n",
    "from numpyro.infer import Predictive\n",
    "import arviz\n",
    "posterior_samples_shallow_12 = mcmc1_shallow_12.get_samples()\n",
    "\n",
    "posterior_predictive_shallow_12 = Predictive(model, posterior_samples_shallow_12)(random.PRNGKey(1), altCounts)\n",
    "prior_shallow_12 = Predictive(model, num_samples=500)(random.PRNGKey(2), altCounts)\n",
    "\n",
    "prob_shallow_12 = posterior_samples_shallow_12[\"probs\"]\n",
    "print(prob_shallow_12.mean(0))\n",
    "\n",
    "beta_shallow_12 = posterior_samples_shallow_12['beta']\n",
    "weights_shallow_12 = mix_weights(beta_shallow_12)\n",
    "print(\"inferred stick-breaking weights mean: \", weights_shallow_12.mean(0))\n",
    "print(\"inferred stick-breaking weights stdd: \", weights_shallow_12.std(0))"
   ]
  },
  {
   "cell_type": "code",
   "execution_count": 84,
   "metadata": {},
   "outputs": [
    {
     "output_type": "stream",
     "name": "stderr",
     "text": [
      "sample: 100%|██████████| 1100/1100 [17:06<00:00,  1.07it/s, 127 steps of size 1.57e-02. acc. prob=0.94]\n",
      "\n",
      "                 mean       std    median      5.0%     95.0%     n_eff     r_hat\n",
      "    beta[0]      0.09      0.03      0.09      0.05      0.13    153.58      1.00\n",
      "    beta[1]      0.16      0.04      0.16      0.11      0.23    598.64      1.00\n",
      "    beta[2]      0.15      0.03      0.15      0.10      0.19    174.50      1.00\n",
      "    beta[3]      1.00      0.00      1.00      1.00      1.00    100.11      1.01\n",
      "    beta[4]      0.95      0.15      1.00      0.84      1.00     43.40      1.09\n",
      "    beta[5]      0.98      0.09      1.00      0.99      1.00     29.67      1.06\n",
      "    beta[6]      0.99      0.08      1.00      1.00      1.00    114.38      1.00\n",
      "    beta[7]      0.97      0.12      1.00      0.97      1.00    133.90      1.00\n",
      "    beta[8]      0.99      0.06      1.00      1.00      1.00    265.70      1.00\n",
      "    beta[9]      0.97      0.10      1.00      0.95      1.00    189.90      1.00\n",
      "   beta[10]      0.98      0.12      1.00      0.99      1.00    120.82      1.01\n",
      "  conc[0,0]      3.52      2.20      3.05      0.35      6.54    228.89      1.01\n",
      "  conc[0,1]      5.58      3.34      4.92      0.69     10.16    322.73      1.00\n",
      "  conc[0,2]      3.59      2.17      3.15      0.63      6.67    324.55      1.00\n",
      "  conc[0,3]      2.02      1.24      1.75      0.15      3.78    320.69      1.00\n",
      "  conc[1,0]      4.53      2.83      4.00      0.48      8.50    101.21      1.01\n",
      "  conc[1,1]      2.50      1.61      2.19      0.26      4.81    164.45      1.01\n",
      "  conc[1,2]      4.32      2.67      3.78      0.35      7.90    197.93      1.01\n",
      "  conc[1,3]      2.05      1.28      1.76      0.15      3.83    193.45      1.00\n",
      "  conc[2,0]      4.46      2.65      3.97      0.68      8.20    344.23      1.00\n",
      "  conc[2,1]      5.51      3.21      4.89      0.72      9.68    252.71      1.01\n",
      "  conc[2,2]      2.36      1.57      2.02      0.26      4.44    206.82      1.01\n",
      "  conc[2,3]      2.67      1.56      2.40      0.44      5.05    203.24      1.00\n",
      "  conc[3,0]      4.35      2.72      3.88      0.53      8.09    131.56      1.02\n",
      "  conc[3,1]      2.47      1.61      2.14      0.07      4.66    121.41      1.00\n",
      "  conc[3,2]      2.38      1.54      2.05      0.26      4.64     90.65      1.00\n",
      "  conc[3,3]      1.21      0.76      1.03      0.16      2.30    203.22      1.00\n",
      "  conc[4,0]      1.88      1.90      1.32      0.01      4.51     29.07      1.00\n",
      "  conc[4,1]      5.49      5.59      3.72      0.04     12.61    117.00      1.00\n",
      "  conc[4,2]      6.08      5.88      4.33      0.04     14.41    142.31      1.01\n",
      "  conc[4,3]     18.50     20.53     12.29      0.11     43.57     89.07      1.05\n",
      "  conc[5,0]      1.76      1.73      1.30      0.03      3.91    127.13      1.02\n",
      "  conc[5,1]      5.42      5.18      3.83      0.08     12.09    252.83      1.00\n",
      "  conc[5,2]      5.85      5.86      3.98      0.08     14.15    184.62      1.02\n",
      "  conc[5,3]     21.28     21.38     14.01      0.08     49.32    130.80      1.02\n",
      "  conc[6,0]      1.65      1.71      1.06      0.00      3.94     77.99      1.02\n",
      "  conc[6,1]      5.19      5.75      2.95      0.08     12.54    111.18      1.00\n",
      "  conc[6,2]      6.07      6.12      4.23      0.04     13.96    103.10      1.00\n",
      "  conc[6,3]     21.66     21.67     15.57      0.02     49.23     69.44      1.00\n",
      "  conc[7,0]      1.93      1.69      1.45      0.00      4.12    227.24      1.01\n",
      "  conc[7,1]      4.36      5.30      2.57      0.01     11.19     39.65      1.08\n",
      "  conc[7,2]      5.94      5.97      4.25      0.02     13.72    346.07      1.00\n",
      "  conc[7,3]     20.31     21.25     13.26      0.08     46.83    229.60      1.01\n",
      "  conc[8,0]      2.01      1.84      1.46      0.04      4.41    174.80      1.01\n",
      "  conc[8,1]      5.50      5.87      3.56      0.02     13.18    106.46      1.00\n",
      "  conc[8,2]      5.57      6.03      3.73      0.01     12.86    462.38      1.00\n",
      "  conc[8,3]     19.38     21.00     12.52      0.14     47.18    182.74      1.04\n",
      "  conc[9,0]      1.43      1.33      1.06      0.02      3.13     63.05      1.03\n",
      "  conc[9,1]      6.88      5.94      5.24      0.10     14.42    211.64      1.00\n",
      "  conc[9,2]      5.61      5.58      3.90      0.04     12.70    301.40      1.00\n",
      "  conc[9,3]     21.52     19.70     15.33      0.32     48.07    123.85      1.00\n",
      " conc[10,0]      1.64      1.62      1.10      0.06      3.62    149.59      1.00\n",
      " conc[10,1]      7.22      6.74      5.45      0.11     15.44     73.63      1.00\n",
      " conc[10,2]      5.34      5.28      3.81      0.02     12.24     76.11      1.05\n",
      " conc[10,3]     22.51     22.83     14.55      0.51     53.28    105.53      1.00\n",
      " conc[11,0]      2.10      1.80      1.52      0.13      4.51    172.76      1.00\n",
      " conc[11,1]      5.49      5.25      3.90      0.06     12.67    280.34      1.01\n",
      " conc[11,2]      5.13      5.20      3.51      0.01     12.69    183.63      1.00\n",
      " conc[11,3]     20.22     20.17     14.05      0.03     46.69    272.70      1.00\n",
      " probs[0,0]      0.33      0.02      0.33      0.31      0.36    214.17      1.00\n",
      " probs[0,1]      0.38      0.02      0.38      0.35      0.40    967.06      1.00\n",
      " probs[0,2]      0.21      0.02      0.21      0.18      0.24    195.34      1.00\n",
      " probs[0,3]      0.08      0.01      0.08      0.07      0.09    266.16      1.00\n",
      " probs[1,0]      0.48      0.01      0.48      0.45      0.50    659.50      1.00\n",
      " probs[1,1]      0.14      0.01      0.14      0.12      0.16   1231.50      1.00\n",
      " probs[1,2]      0.30      0.01      0.30      0.27      0.32    674.39      1.00\n",
      " probs[1,3]      0.09      0.01      0.09      0.08      0.09    529.33      1.00\n",
      " probs[2,0]      0.42      0.02      0.42      0.40      0.45    344.23      1.00\n",
      " probs[2,1]      0.36      0.01      0.36      0.34      0.38    953.22      1.00\n",
      " probs[2,2]      0.11      0.01      0.11      0.09      0.13    167.08      1.00\n",
      " probs[2,3]      0.11      0.01      0.11      0.10      0.12    356.52      1.00\n",
      " probs[3,0]      0.61      0.00      0.61      0.60      0.62    763.82      1.00\n",
      " probs[3,1]      0.18      0.00      0.18      0.17      0.18   1091.91      1.00\n",
      " probs[3,2]      0.17      0.00      0.17      0.17      0.18    573.15      1.00\n",
      " probs[3,3]      0.04      0.00      0.04      0.04      0.04    765.36      1.00\n",
      " probs[4,0]      0.09      0.14      0.04      0.00      0.25     27.56      1.00\n",
      " probs[4,1]      0.20      0.20      0.13      0.00      0.52    111.02      1.01\n",
      " probs[4,2]      0.23      0.20      0.17      0.00      0.54     59.16      1.06\n",
      " probs[4,3]      0.48      0.27      0.48      0.00      0.84     38.81      1.11\n",
      " probs[5,0]      0.07      0.11      0.03      0.00      0.21    121.61      1.02\n",
      " probs[5,1]      0.20      0.19      0.15      0.00      0.48    139.33      1.00\n",
      " probs[5,2]      0.20      0.19      0.14      0.00      0.47     76.28      1.06\n",
      " probs[5,3]      0.53      0.27      0.55      0.15      1.00     62.46      1.06\n",
      " probs[6,0]      0.07      0.10      0.02      0.00      0.18     76.85      1.01\n",
      " probs[6,1]      0.17      0.19      0.11      0.00      0.45     71.78      1.00\n",
      " probs[6,2]      0.23      0.24      0.15      0.00      0.60     52.88      1.01\n",
      " probs[6,3]      0.53      0.30      0.60      0.00      0.89     31.52      1.00\n",
      " probs[7,0]      0.09      0.12      0.05      0.00      0.24    187.24      1.00\n",
      " probs[7,1]      0.15      0.18      0.08      0.00      0.43     25.78      1.10\n",
      " probs[7,2]      0.21      0.20      0.15      0.00      0.51    188.93      1.00\n",
      " probs[7,3]      0.54      0.27      0.57      0.11      0.95    115.02      1.04\n",
      " probs[8,0]      0.09      0.11      0.05      0.00      0.22    105.16      1.04\n",
      " probs[8,1]      0.20      0.21      0.13      0.00      0.52     79.73      1.03\n",
      " probs[8,2]      0.20      0.20      0.14      0.00      0.51    201.21      1.00\n",
      " probs[8,3]      0.51      0.28      0.54      0.00      0.87    108.03      1.05\n",
      " probs[9,0]      0.05      0.08      0.02      0.00      0.15     69.21      1.00\n",
      " probs[9,1]      0.23      0.19      0.18      0.00      0.53     87.49      1.00\n",
      " probs[9,2]      0.18      0.19      0.12      0.00      0.44    120.33      1.00\n",
      " probs[9,3]      0.53      0.26      0.58      0.10      0.91     79.37      1.00\n",
      "probs[10,0]      0.06      0.08      0.03      0.00      0.14    100.19      1.01\n",
      "probs[10,1]      0.23      0.19      0.18      0.00      0.52     88.29      1.00\n",
      "probs[10,2]      0.17      0.17      0.12      0.00      0.40     47.35      1.07\n",
      "probs[10,3]      0.54      0.25      0.57      0.09      0.89     63.80      1.03\n",
      "probs[11,0]      0.09      0.12      0.05      0.00      0.23    218.85      1.00\n",
      "probs[11,1]      0.20      0.20      0.14      0.00      0.51    250.88      1.00\n",
      "probs[11,2]      0.18      0.18      0.12      0.00      0.46    117.01      1.00\n",
      "probs[11,3]      0.52      0.27      0.56      0.10      0.95    129.18      1.00\n",
      "\n",
      "Number of divergences: 0\n"
     ]
    }
   ],
   "source": [
    "# With tree depth 7, roughly 2x as fast a 8?\n",
    "nHypotheses = 12\n",
    "init_rng_key = random.PRNGKey(12277)\n",
    "mcmc1_shallow_12_7 = MCMC(NUTS(model, max_tree_depth=7), 100, 1000)\n",
    "mcmc1_shallow_12_7.run(init_rng_key, altCounts)\n",
    "mcmc1_shallow_12_7.print_summary()"
   ]
  },
  {
   "cell_type": "code",
   "execution_count": 85,
   "metadata": {},
   "outputs": [
    {
     "output_type": "stream",
     "name": "stdout",
     "text": [
      "[[0.33173251 0.37678289 0.21114732 0.08033728]\n [0.47742279 0.14035764 0.29699542 0.08522415]\n [0.42176567 0.35977962 0.10612409 0.11233062]\n [0.60816102 0.17680399 0.17383013 0.04120486]\n [0.09221491 0.20257156 0.22548958 0.47972395]\n [0.07405939 0.19828925 0.1978399  0.52981147]\n [0.06524019 0.17453206 0.22806434 0.5321634 ]\n [0.09129762 0.15168894 0.21483506 0.54217838]\n [0.08602935 0.20386537 0.20439718 0.50570809]\n [0.05288289 0.23137158 0.1809478  0.53479773]\n [0.05803799 0.23189296 0.16591872 0.54415032]\n [0.09232233 0.20202711 0.18248785 0.5231627 ]]\ninferred stick-breaking weights mean:  [0.09134486 0.14961421 0.11245278 0.64933292 0.00093485 0.00092969\n 0.00095582 0.00099876 0.000999   0.00099735 0.000999   0.000999  ]\ninferred stick-breaking weights stdd:  [0.03892508 0.04462906 0.03394091 0.03902477 0.02912067 0.02933935\n 0.03022508 0.03158367 0.03159118 0.03153906 0.03159119 0.03159119]\n"
     ]
    }
   ],
   "source": [
    "#https://arviz-devs.github.io/arviz/getting_started/InferenceDataCookbook.html#cookbook\n",
    "from numpyro.infer import Predictive\n",
    "import arviz\n",
    "posterior_samples_shallow_12_7 = mcmc1_shallow_12_7.get_samples()\n",
    "\n",
    "posterior_predictive_shallow_12_7 = Predictive(model, posterior_samples_shallow_12_7)(random.PRNGKey(1), altCounts)\n",
    "prior_shallow_12_7 = Predictive(model, num_samples=500)(random.PRNGKey(2), altCounts)\n",
    "\n",
    "prob_shallow_12_7 = posterior_samples_shallow_12_7[\"probs\"]\n",
    "print(prob_shallow_12_7.mean(0))\n",
    "\n",
    "beta_shallow_12_7 = posterior_samples_shallow_12_7['beta']\n",
    "weights_shallow_12_7 = mix_weights(beta_shallow_12_7)\n",
    "print(\"inferred stick-breaking weights mean: \", weights_shallow_12_7.mean(0))\n",
    "print(\"inferred stick-breaking weights stdd: \", weights_shallow_12_7.std(0))"
   ]
  },
  {
   "cell_type": "code",
   "execution_count": 80,
   "metadata": {},
   "outputs": [
    {
     "output_type": "stream",
     "name": "stdout",
     "text": [
      "[[0.47812082 0.14007595 0.29641373 0.08538949]\n [0.33743373 0.37546813 0.20495509 0.08214305]\n [0.60787163 0.17700772 0.17392798 0.04119267]\n [0.42847248 0.35769411 0.09960923 0.11422418]\n [0.63533005 0.19351306 0.09153351 0.07962338]\n [0.52022331 0.2074242  0.2094564  0.06289608]\n [0.46145399 0.23988845 0.23891069 0.05974688]\n [0.55500881 0.14233603 0.27982428 0.02283089]\n [0.60969118 0.16947231 0.13347808 0.08735842]\n [0.30097555 0.51377649 0.07802635 0.10722161]\n [0.46955517 0.39332311 0.06483065 0.07229106]\n [0.6503142  0.20830758 0.07996386 0.06141436]]\ninferred stick-breaking weights mean:  [0.1499326  0.1031971  0.64912474 0.10061613 0.00126433 0.00091556\n 0.00099707 0.00095441 0.00099899 0.00099897 0.000999   0.000999  ]\ninferred stick-breaking weights stdd:  [0.04574475 0.03706621 0.04469692 0.04074861 0.03123071 0.02765979\n 0.03151594 0.03018101 0.03159096 0.0315902  0.03159118 0.03159119]\n"
     ]
    }
   ],
   "source": [
    "#https://arviz-devs.github.io/arviz/getting_started/InferenceDataCookbook.html#cookbook\n",
    "from numpyro.infer import Predictive\n",
    "import arviz\n",
    "posterior_samples_shallow_12_7 = mcmc1_shallow_12_7.get_samples()\n",
    "\n",
    "posterior_predictive_shallow_12_7 = Predictive(model, posterior_samples_shallow_12_7)(random.PRNGKey(1), altCounts)\n",
    "prior_shallow_12_7 = Predictive(model, num_samples=500)(random.PRNGKey(2), altCounts)\n",
    "\n",
    "prob_shallow_12_7 = posterior_samples_shallow_12_7[\"probs\"]\n",
    "print(prob_shallow_12_7.mean(0))\n",
    "\n",
    "beta_shallow_12_7 = posterior_samples_shallow_12_7['beta']\n",
    "weights_shallow_12_7 = mix_weights(beta_shallow_12_7)\n",
    "print(\"inferred stick-breaking weights mean: \", weights_shallow_12_7.mean(0))\n",
    "print(\"inferred stick-breaking weights stdd: \", weights_shallow_12_7.std(0))"
   ]
  },
  {
   "cell_type": "code",
   "execution_count": null,
   "metadata": {},
   "outputs": [],
   "source": [
    "# With .05 / nHypothesis prior\n",
    "# With 2x the number of components and max_tree_depth 8 instead of 6.  1/4 as fast during warmup, but still may be acceptable\n",
    "# DUring inference, it gets up to 1-2it/s, so up to 1/2 as fast. 127 steps, but sometimes 63\n",
    "\n",
    "# Speed appears to halve, but still > 2it/s, still takes only 63 steps per it\n",
    "# actual result: 12:30s vs 8:14s with tree depth 8\n",
    "nHypotheses = 12\n",
    "init_rng_key = random.PRNGKey(12276)\n",
    "mcmc1_shallow_12 = MCMC(NUTS(model, max_tree_depth=7), 100, 1000)\n",
    "mcmc1_shallow_12.run(init_rng_key, altCounts)\n",
    "mcmc1_shallow_12.print_summary()"
   ]
  },
  {
   "cell_type": "code",
   "execution_count": 74,
   "metadata": {},
   "outputs": [
    {
     "output_type": "stream",
     "name": "stderr",
     "text": [
      "sample: 100%|██████████| 1100/1100 [29:51<00:00,  1.63s/it, 255 steps of size 6.20e-02. acc. prob=0.90]\n",
      "\n",
      "                 mean       std    median      5.0%     95.0%     n_eff     r_hat\n",
      "    beta[0]      0.65      0.04      0.65      0.59      0.71    969.29      1.00\n",
      "    beta[1]      0.42      0.06      0.42      0.31      0.51   1007.30      1.00\n",
      "    beta[2]      0.58      0.13      0.59      0.36      0.79    860.24      1.00\n",
      "    beta[3]      1.00      0.01      1.00      1.00      1.00    922.16      1.00\n",
      "    beta[4]      0.97      0.11      1.00      0.96      1.00    983.82      1.00\n",
      "    beta[5]      0.97      0.11      1.00      0.98      1.00   1053.54      1.00\n",
      "    beta[6]      0.97      0.12      1.00      0.98      1.00    997.38      1.00\n",
      "    beta[7]      0.97      0.13      1.00      0.97      1.00    916.78      1.00\n",
      "    beta[8]      0.97      0.11      1.00      0.97      1.00    957.99      1.00\n",
      "    beta[9]      0.98      0.09      1.00      0.98      1.00   1103.10      1.00\n",
      "   beta[10]      0.97      0.11      1.00      0.97      1.00   1093.05      1.00\n",
      "  conc[0,0]      0.80      0.58      0.67      0.03      1.62   1348.44      1.00\n",
      "  conc[0,1]      0.27      0.18      0.23      0.02      0.52   1173.22      1.00\n",
      "  conc[0,2]      0.27      0.18      0.23      0.02      0.51   1119.40      1.00\n",
      "  conc[0,3]      0.08      0.06      0.07      0.00      0.16   1170.27      1.00\n",
      "  conc[1,0]      0.76      0.58      0.61      0.02      1.53    870.81      1.00\n",
      "  conc[1,1]      0.26      0.19      0.21      0.02      0.55    877.10      1.00\n",
      "  conc[1,2]      0.29      0.21      0.24      0.02      0.56   1284.30      1.00\n",
      "  conc[1,3]      0.08      0.06      0.07      0.00      0.16    984.31      1.00\n",
      "  conc[2,0]      0.70      0.47      0.61      0.05      1.38    945.41      1.00\n",
      "  conc[2,1]      0.31      0.21      0.26      0.01      0.59   1047.12      1.00\n",
      "  conc[2,2]      0.26      0.20      0.21      0.01      0.54   1068.57      1.00\n",
      "  conc[2,3]      0.08      0.06      0.07      0.00      0.17   1058.73      1.00\n",
      "  conc[3,0]      0.63      0.45      0.54      0.03      1.20   1202.52      1.00\n",
      "  conc[3,1]      0.30      0.21      0.26      0.01      0.61   1252.75      1.00\n",
      "  conc[3,2]      0.27      0.21      0.21      0.01      0.56   1129.88      1.00\n",
      "  conc[3,3]      0.09      0.06      0.07      0.01      0.17   1236.92      1.00\n",
      "  conc[4,0]      0.60      0.62      0.41      0.00      1.35    341.15      1.00\n",
      "  conc[4,1]      0.20      0.18      0.14      0.00      0.43    699.30      1.00\n",
      "  conc[4,2]      0.18      0.17      0.12      0.00      0.41    443.24      1.00\n",
      "  conc[4,3]      0.06      0.05      0.05      0.00      0.12    637.60      1.00\n",
      "  conc[5,0]      0.63      0.60      0.45      0.01      1.44    914.42      1.00\n",
      "  conc[5,1]      0.18      0.17      0.13      0.00      0.40    343.61      1.01\n",
      "  conc[5,2]      0.20      0.19      0.14      0.00      0.47    412.37      1.00\n",
      "  conc[5,3]      0.06      0.05      0.05      0.00      0.13    846.00      1.00\n",
      "  conc[6,0]      0.61      0.63      0.40      0.00      1.44    885.91      1.00\n",
      "  conc[6,1]      0.19      0.18      0.13      0.00      0.44    615.00      1.00\n",
      "  conc[6,2]      0.18      0.18      0.12      0.00      0.43    723.75      1.00\n",
      "  conc[6,3]      0.07      0.06      0.05      0.00      0.14    940.33      1.00\n",
      "  conc[7,0]      0.61      0.62      0.43      0.00      1.34    838.64      1.00\n",
      "  conc[7,1]      0.18      0.17      0.13      0.00      0.41    536.77      1.01\n",
      "  conc[7,2]      0.17      0.17      0.12      0.00      0.40    397.52      1.00\n",
      "  conc[7,3]      0.06      0.05      0.05      0.00      0.12    807.21      1.00\n",
      "  conc[8,0]      0.60      0.57      0.43      0.01      1.37    712.56      1.01\n",
      "  conc[8,1]      0.19      0.18      0.13      0.00      0.42    375.01      1.00\n",
      "  conc[8,2]      0.19      0.17      0.15      0.00      0.42    985.63      1.00\n",
      "  conc[8,3]      0.06      0.05      0.05      0.00      0.13    937.57      1.00\n",
      "  conc[9,0]      0.64      0.58      0.50      0.00      1.37    779.11      1.00\n",
      "  conc[9,1]      0.14      0.18      0.07      0.00      0.36     31.30      1.02\n",
      "  conc[9,2]      0.17      0.17      0.13      0.00      0.38    267.96      1.00\n",
      "  conc[9,3]      0.06      0.05      0.05      0.00      0.13   1085.24      1.00\n",
      " conc[10,0]      0.59      0.59      0.42      0.00      1.31    920.55      1.00\n",
      " conc[10,1]      0.16      0.17      0.11      0.00      0.40    308.70      1.00\n",
      " conc[10,2]      0.17      0.17      0.12      0.00      0.40    438.49      1.00\n",
      " conc[10,3]      0.06      0.05      0.05      0.00      0.13    970.11      1.00\n",
      " conc[11,0]      0.58      0.60      0.37      0.00      1.42    491.03      1.00\n",
      " conc[11,1]      0.17      0.19      0.12      0.00      0.42    349.78      1.01\n",
      " conc[11,2]      0.18      0.17      0.12      0.00      0.42    772.32      1.00\n",
      " conc[11,3]      0.06      0.05      0.05      0.00      0.12   1200.18      1.00\n",
      " probs[0,0]      0.61      0.01      0.61      0.60      0.62    968.58      1.00\n",
      " probs[0,1]      0.18      0.00      0.18      0.17      0.18    991.61      1.00\n",
      " probs[0,2]      0.17      0.00      0.17      0.17      0.18   1084.14      1.00\n",
      " probs[0,3]      0.04      0.00      0.04      0.04      0.04    999.69      1.00\n",
      " probs[1,0]      0.48      0.01      0.48      0.45      0.50    974.95      1.00\n",
      " probs[1,1]      0.14      0.01      0.14      0.12      0.16   1028.74      1.00\n",
      " probs[1,2]      0.30      0.01      0.30      0.27      0.32    956.63      1.00\n",
      " probs[1,3]      0.09      0.01      0.09      0.08      0.09   1182.51      1.00\n",
      " probs[2,0]      0.42      0.02      0.42      0.39      0.45    918.03      1.00\n",
      " probs[2,1]      0.36      0.01      0.36      0.34      0.38   1130.16      1.00\n",
      " probs[2,2]      0.11      0.01      0.11      0.09      0.13    882.48      1.00\n",
      " probs[2,3]      0.11      0.01      0.11      0.10      0.12   1039.97      1.00\n",
      " probs[3,0]      0.33      0.02      0.33      0.30      0.35    836.91      1.00\n",
      " probs[3,1]      0.38      0.02      0.38      0.35      0.40    972.39      1.00\n",
      " probs[3,2]      0.21      0.02      0.21      0.18      0.25    958.08      1.00\n",
      " probs[3,3]      0.08      0.01      0.08      0.07      0.09    927.88      1.00\n",
      " probs[4,0]      0.52      0.41      0.62      0.00      1.00    139.74      1.01\n",
      " probs[4,1]      0.22      0.33      0.02      0.00      0.85    201.75      1.00\n",
      " probs[4,2]      0.18      0.30      0.01      0.00      0.75    424.05      1.00\n",
      " probs[4,3]      0.08      0.21      0.00      0.00      0.30    472.90      1.01\n",
      " probs[5,0]      0.50      0.40      0.51      0.00      1.00    673.02      1.00\n",
      " probs[5,1]      0.19      0.31      0.01      0.00      0.77    506.83      1.01\n",
      " probs[5,2]      0.22      0.33      0.02      0.00      0.85    590.03      1.00\n",
      " probs[5,3]      0.09      0.22      0.00      0.00      0.31    427.51      1.01\n",
      " probs[6,0]      0.50      0.40      0.50      0.00      1.00    420.53      1.00\n",
      " probs[6,1]      0.21      0.33      0.01      0.00      0.83    670.91      1.00\n",
      " probs[6,2]      0.19      0.31      0.01      0.00      0.80    622.44      1.00\n",
      " probs[6,3]      0.10      0.24      0.00      0.00      0.44    874.73      1.00\n",
      " probs[7,0]      0.53      0.40      0.59      0.00      1.00    738.86      1.00\n",
      " probs[7,1]      0.19      0.31      0.01      0.00      0.78    829.98      1.00\n",
      " probs[7,2]      0.19      0.31      0.01      0.00      0.77    590.97      1.00\n",
      " probs[7,3]      0.08      0.21      0.00      0.00      0.31    853.45      1.00\n",
      " probs[8,0]      0.51      0.40      0.56      0.00      1.00    542.58      1.01\n",
      " probs[8,1]      0.19      0.31      0.01      0.00      0.77    707.00      1.00\n",
      " probs[8,2]      0.22      0.33      0.02      0.00      0.87    493.35      1.00\n",
      " probs[8,3]      0.09      0.22      0.00      0.00      0.35    855.00      1.00\n",
      " probs[9,0]      0.58      0.39      0.69      0.00      1.00    451.82      1.00\n",
      " probs[9,1]      0.14      0.28      0.00      0.00      0.63     82.89      1.01\n",
      " probs[9,2]      0.19      0.31      0.01      0.00      0.79    218.35      1.00\n",
      " probs[9,3]      0.09      0.23      0.00      0.00      0.31    646.22      1.00\n",
      "probs[10,0]      0.50      0.41      0.50      0.00      1.00    632.78      1.00\n",
      "probs[10,1]      0.19      0.32      0.00      0.00      0.81    638.27      1.00\n",
      "probs[10,2]      0.21      0.33      0.01      0.00      0.89    583.60      1.00\n",
      "probs[10,3]      0.10      0.24      0.00      0.00      0.43    736.52      1.00\n",
      "probs[11,0]      0.51      0.41      0.57      0.00      1.00    289.65      1.00\n",
      "probs[11,1]      0.19      0.32      0.01      0.00      0.86    464.40      1.00\n",
      "probs[11,2]      0.20      0.32      0.01      0.00      0.82    475.82      1.00\n",
      "probs[11,3]      0.10      0.23      0.00      0.00      0.37    798.86      1.00\n",
      "\n",
      "Number of divergences: 21\n"
     ]
    }
   ],
   "source": [
    "# With .05 / nHypothesis prior\n",
    "# With 2x the number of components and max_tree_depth 8 instead of 6.  1/4 as fast during warmup, but still may be acceptable\n",
    "# DUring inference, it gets up to 1-2it/s, so up to 1/2 as fast. 127 steps, but sometimes 63\n",
    "\n",
    "# Speed appears to halve, but still > 2it/s, still takes only 63 steps per it\n",
    "# actual result: 12:30s vs 8:14s with tree depth 8\n",
    "nHypotheses = 12\n",
    "alpha = .01/2\n",
    "init_rng_key = random.PRNGKey(12276)\n",
    "mcmc1_shallow_12 = MCMC(NUTS(model, max_tree_depth=8), 100, 1000)\n",
    "mcmc1_shallow_12.run(init_rng_key, altCounts)\n",
    "mcmc1_shallow_12.print_summary()"
   ]
  },
  {
   "cell_type": "code",
   "execution_count": 75,
   "metadata": {},
   "outputs": [
    {
     "output_type": "stream",
     "name": "stdout",
     "text": [
      "[[0.60779161 0.17695785 0.17398098 0.04126957]\n [0.47750379 0.13982881 0.29697568 0.08569172]\n [0.41972903 0.36059798 0.10820411 0.11146889]\n [0.32928953 0.37686015 0.21475458 0.07909574]\n [0.52268963 0.21860311 0.17717223 0.08153503]\n [0.5043688  0.19000033 0.22039062 0.08524025]\n [0.49696973 0.21380118 0.18990064 0.09932845]\n [0.53080489 0.19249831 0.19332191 0.08337489]\n [0.50705313 0.18690241 0.21933174 0.08671272]\n [0.58024046 0.14063027 0.18910173 0.09002753]\n [0.50351272 0.18639899 0.20779018 0.10229811]\n [0.51046051 0.19051043 0.19983452 0.09919455]]\ninferred stick-breaking weights mean:  [0.65087375 0.14619406 0.11726908 0.08585446 0.00111522 0.00100087\n 0.000999   0.000999   0.00099893 0.00089702 0.000999   0.000999  ]\ninferred stick-breaking weights stdd:  [0.03883303 0.03012401 0.03366777 0.03950153 0.03159289 0.03159115\n 0.03159119 0.03159119 0.03158901 0.02836618 0.03159117 0.03159119]\n"
     ]
    }
   ],
   "source": [
    "#https://arviz-devs.github.io/arviz/getting_started/InferenceDataCookbook.html#cookbook\n",
    "from numpyro.infer import Predictive\n",
    "import arviz\n",
    "posterior_samples_shallow_12_82 = mcmc1_shallow_12.get_samples()\n",
    "\n",
    "posterior_predictive_shallow_12_82 = Predictive(model, posterior_samples_shallow_12_82)(random.PRNGKey(3), altCounts)\n",
    "prior_shallow_12_82 = Predictive(model, num_samples=500)(random.PRNGKey(4), altCounts)\n",
    "\n",
    "prob_shallow_12_82 = posterior_samples_shallow_12_82[\"probs\"]\n",
    "print(prob_shallow_12_82.mean(0))\n",
    "\n",
    "beta_shallow_12_82 = posterior_samples_shallow_12_82['beta']\n",
    "weights_shallow_12_82 = mix_weights(beta_shallow_12_82)\n",
    "print(\"inferred stick-breaking weights mean: \", weights_shallow_12_82.mean(0))\n",
    "print(\"inferred stick-breaking weights stdd: \", weights_shallow_12_82.std(0))\n"
   ]
  },
  {
   "cell_type": "code",
   "execution_count": 56,
   "metadata": {},
   "outputs": [
    {
     "output_type": "stream",
     "name": "stderr",
     "text": [
      "sample: 100%|██████████| 1100/1100 [12:30<00:00,  1.47it/s, 63 steps of size 1.21e-01. acc. prob=0.83]\n",
      "\n",
      "                 mean       std    median      5.0%     95.0%     n_eff     r_hat\n",
      "    beta[0]      0.11      0.03      0.11      0.06      0.15   1011.14      1.00\n",
      "    beta[1]      0.73      0.05      0.73      0.66      0.80   1571.55      1.00\n",
      "    beta[2]      0.59      0.09      0.59      0.43      0.73    960.29      1.00\n",
      "    beta[3]      1.00      0.01      1.00      1.00      1.00    508.80      1.00\n",
      "    beta[4]      0.97      0.13      1.00      0.96      1.00    806.85      1.00\n",
      "    beta[5]      0.97      0.11      1.00      0.98      1.00    894.43      1.00\n",
      "    beta[6]      0.97      0.11      1.00      0.96      1.00    634.29      1.01\n",
      "    beta[7]      0.98      0.11      1.00      0.98      1.00    821.44      1.00\n",
      "    beta[8]      0.97      0.12      1.00      0.96      1.00   1112.06      1.00\n",
      "    beta[9]      0.97      0.11      1.00      0.97      1.00    971.72      1.00\n",
      "   beta[10]      0.97      0.12      1.00      0.97      1.00   1052.39      1.00\n",
      "  conc[0,0]      5.63      3.25      5.13      0.78     10.34   1311.78      1.00\n",
      "  conc[0,1]      6.05      3.45      5.39      0.75     11.12   1205.92      1.00\n",
      "  conc[0,2]      3.80      2.23      3.40      0.43      6.70   1033.58      1.00\n",
      "  conc[0,3]      2.06      1.28      1.81      0.06      3.86   1205.44      1.00\n",
      "  conc[1,0]      9.31      5.19      8.35      1.81     16.76   1230.17      1.00\n",
      "  conc[1,1]      3.33      1.99      2.98      0.15      6.12   1081.62      1.00\n",
      "  conc[1,2]      3.40      2.10      3.06      0.45      6.36    991.25      1.00\n",
      "  conc[1,3]      1.40      0.86      1.24      0.07      2.49   1325.39      1.00\n",
      "  conc[2,0]      7.58      4.30      6.88      1.09     13.92   1310.24      1.00\n",
      "  conc[2,1]      2.87      1.75      2.54      0.17      5.25   1023.39      1.00\n",
      "  conc[2,2]      4.98      2.95      4.53      0.72      9.27   1200.82      1.00\n",
      "  conc[2,3]      2.08      1.23      1.84      0.09      3.85   1194.84      1.00\n",
      "  conc[3,0]      6.73      3.72      6.12      1.01     11.90   1005.78      1.00\n",
      "  conc[3,1]      5.74      3.14      5.31      0.81      9.99   1398.03      1.00\n",
      "  conc[3,2]      2.19      1.36      1.91      0.27      4.30   1158.38      1.00\n",
      "  conc[3,3]      2.51      1.48      2.24      0.35      4.58   1227.26      1.00\n",
      "  conc[4,0]      3.93      3.68      2.73      0.02      8.98    488.78      1.00\n",
      "  conc[4,1]      3.99      3.80      2.80      0.03      8.92    788.25      1.00\n",
      "  conc[4,2]      4.17      4.01      2.97      0.04      9.52   1038.33      1.00\n",
      "  conc[4,3]      3.87      3.94      2.57      0.03      8.93   1049.56      1.00\n",
      "  conc[5,0]      4.00      4.04      3.05      0.01      9.37    522.46      1.00\n",
      "  conc[5,1]      3.97      4.10      2.65      0.02      8.92   1300.49      1.00\n",
      "  conc[5,2]      4.05      4.38      2.73      0.03      9.56    816.93      1.00\n",
      "  conc[5,3]      3.86      3.99      2.58      0.02      8.86   1057.28      1.00\n",
      "  conc[6,0]      4.05      4.11      2.78      0.01      9.07    706.33      1.00\n",
      "  conc[6,1]      4.08      4.06      2.88      0.03      9.36   1089.11      1.00\n",
      "  conc[6,2]      3.71      4.31      2.36      0.00      9.13    141.28      1.01\n",
      "  conc[6,3]      3.96      3.79      2.91      0.01      8.84    855.11      1.00\n",
      "  conc[7,0]      4.05      3.72      2.97      0.03      8.90    715.57      1.00\n",
      "  conc[7,1]      3.81      3.70      2.65      0.03      8.82    967.71      1.00\n",
      "  conc[7,2]      4.13      4.16      2.88      0.00      9.18    934.93      1.00\n",
      "  conc[7,3]      3.87      3.68      2.64      0.02      8.71    617.27      1.00\n",
      "  conc[8,0]      3.79      3.86      2.62      0.01      8.77    772.32      1.00\n",
      "  conc[8,1]      4.15      3.88      3.00      0.05      9.39   1209.63      1.00\n",
      "  conc[8,2]      3.90      3.90      2.66      0.01      8.88    877.93      1.00\n",
      "  conc[8,3]      4.06      3.81      2.94      0.02      8.95   1343.21      1.00\n",
      "  conc[9,0]      3.91      3.53      2.90      0.04      8.67    793.04      1.00\n",
      "  conc[9,1]      4.23      3.94      3.02      0.01      9.64   1102.45      1.00\n",
      "  conc[9,2]      4.00      3.97      2.77      0.01      9.27    745.70      1.00\n",
      "  conc[9,3]      4.10      4.11      2.93      0.01      9.25   1127.71      1.00\n",
      " conc[10,0]      3.89      3.89      2.61      0.04      9.04    945.95      1.00\n",
      " conc[10,1]      4.15      4.15      2.89      0.04      9.74   1314.11      1.00\n",
      " conc[10,2]      3.95      3.93      2.78      0.02      9.13    988.28      1.00\n",
      " conc[10,3]      3.99      4.22      2.71      0.02      9.02   1137.86      1.00\n",
      " conc[11,0]      4.17      4.05      3.15      0.04      9.09    882.87      1.00\n",
      " conc[11,1]      4.15      4.06      2.92      0.02      9.88   1387.15      1.00\n",
      " conc[11,2]      3.75      3.97      2.50      0.00      8.87    470.83      1.00\n",
      " conc[11,3]      4.14      4.26      2.89      0.03      9.46   1270.44      1.00\n",
      " probs[0,0]      0.34      0.02      0.34      0.32      0.37   1118.48      1.00\n",
      " probs[0,1]      0.38      0.01      0.38      0.35      0.40   1317.47      1.00\n",
      " probs[0,2]      0.20      0.02      0.20      0.18      0.23    945.06      1.00\n",
      " probs[0,3]      0.08      0.01      0.08      0.07      0.09    887.84      1.00\n",
      " probs[1,0]      0.61      0.00      0.61      0.60      0.62   1284.73      1.00\n",
      " probs[1,1]      0.18      0.00      0.18      0.17      0.18   1063.50      1.00\n",
      " probs[1,2]      0.17      0.00      0.17      0.17      0.18   1283.39      1.00\n",
      " probs[1,3]      0.04      0.00      0.04      0.04      0.04   1605.89      1.00\n",
      " probs[2,0]      0.48      0.01      0.48      0.45      0.50   1422.05      1.00\n",
      " probs[2,1]      0.14      0.01      0.14      0.12      0.16   1355.36      1.00\n",
      " probs[2,2]      0.30      0.01      0.30      0.28      0.32   1562.33      1.00\n",
      " probs[2,3]      0.09      0.01      0.09      0.08      0.09   1497.99      1.00\n",
      " probs[3,0]      0.43      0.02      0.43      0.40      0.46   1059.58      1.00\n",
      " probs[3,1]      0.36      0.02      0.36      0.33      0.38   1427.56      1.00\n",
      " probs[3,2]      0.10      0.02      0.10      0.08      0.12    899.42      1.00\n",
      " probs[3,3]      0.11      0.01      0.11      0.10      0.13    956.11      1.00\n",
      " probs[4,0]      0.25      0.22      0.20      0.00      0.57    481.67      1.00\n",
      " probs[4,1]      0.25      0.22      0.20      0.00      0.58    822.17      1.00\n",
      " probs[4,2]      0.26      0.22      0.20      0.00      0.59    728.86      1.00\n",
      " probs[4,3]      0.25      0.22      0.19      0.00      0.57    808.89      1.00\n",
      " probs[5,0]      0.25      0.22      0.20      0.00      0.57    561.56      1.00\n",
      " probs[5,1]      0.26      0.22      0.20      0.00      0.57    928.01      1.01\n",
      " probs[5,2]      0.26      0.23      0.21      0.00      0.60    954.33      1.00\n",
      " probs[5,3]      0.24      0.21      0.19      0.00      0.57    665.93      1.00\n",
      " probs[6,0]      0.25      0.22      0.20      0.00      0.60    946.43      1.00\n",
      " probs[6,1]      0.26      0.23      0.21      0.00      0.61   1119.46      1.01\n",
      " probs[6,2]      0.22      0.22      0.16      0.00      0.55     84.39      1.02\n",
      " probs[6,3]      0.26      0.23      0.20      0.00      0.59    693.73      1.01\n",
      " probs[7,0]      0.26      0.21      0.22      0.00      0.56    514.67      1.01\n",
      " probs[7,1]      0.24      0.22      0.19      0.00      0.56    826.43      1.00\n",
      " probs[7,2]      0.26      0.22      0.21      0.00      0.60    794.57      1.00\n",
      " probs[7,3]      0.24      0.21      0.19      0.00      0.56    660.17      1.00\n",
      " probs[8,0]      0.24      0.22      0.18      0.00      0.58    611.67      1.00\n",
      " probs[8,1]      0.26      0.22      0.22      0.00      0.59   1182.76      1.00\n",
      " probs[8,2]      0.24      0.21      0.18      0.00      0.54    939.93      1.00\n",
      " probs[8,3]      0.26      0.23      0.20      0.00      0.61    999.80      1.00\n",
      " probs[9,0]      0.25      0.21      0.19      0.00      0.56    802.78      1.00\n",
      " probs[9,1]      0.26      0.21      0.22      0.00      0.59    790.49      1.00\n",
      " probs[9,2]      0.24      0.21      0.18      0.00      0.56    525.32      1.00\n",
      " probs[9,3]      0.25      0.21      0.21      0.00      0.58    836.03      1.00\n",
      "probs[10,0]      0.24      0.21      0.18      0.00      0.55   1069.92      1.00\n",
      "probs[10,1]      0.26      0.22      0.20      0.00      0.59   1132.32      1.00\n",
      "probs[10,2]      0.25      0.22      0.19      0.00      0.58    954.27      1.00\n",
      "probs[10,3]      0.25      0.22      0.19      0.00      0.58    735.34      1.00\n",
      "probs[11,0]      0.25      0.21      0.20      0.00      0.58    819.59      1.00\n",
      "probs[11,1]      0.27      0.23      0.21      0.00      0.60    944.06      1.00\n",
      "probs[11,2]      0.23      0.21      0.18      0.00      0.54    508.93      1.00\n",
      "probs[11,3]      0.25      0.22      0.20      0.00      0.59   1111.83      1.00\n",
      "\n",
      "Number of divergences: 0\n"
     ]
    }
   ],
   "source": [
    "# With 2x the number of components and max_tree_depth 8 instead of 6.  1/4 as fast during warmup, but still may be acceptable\n",
    "# DUring inference, it gets up to 1-2it/s, so up to 1/2 as fast. 127 steps, but sometimes 63\n",
    "\n",
    "# Speed appears to halve, but still > 2it/s, still takes only 63 steps per it\n",
    "# actual result: 12:30s vs 8:14s with tree depth 8\n",
    "nHypotheses = 12\n",
    "init_rng_key = random.PRNGKey(12276)\n",
    "mcmc1_shallow_12 = MCMC(NUTS(model, max_tree_depth=8), 100, 1000)\n",
    "mcmc1_shallow_12.run(init_rng_key, altCounts)\n",
    "mcmc1_shallow_12.print_summary()"
   ]
  },
  {
   "cell_type": "code",
   "execution_count": 60,
   "metadata": {},
   "outputs": [
    {
     "output_type": "stream",
     "name": "stdout",
     "text": [
      "[[0.33837388 0.37515634 0.20368977 0.08278002]\n [0.60762657 0.17673843 0.17420694 0.04142806]\n [0.47559996 0.13940189 0.29901631 0.08598184]\n [0.42921905 0.35778335 0.09877124 0.11422636]\n [0.25127128 0.24542413 0.25702803 0.24627656]\n [0.24705352 0.25525046 0.25622663 0.24146939]\n [0.25370517 0.26227912 0.22330641 0.2607093 ]\n [0.25697685 0.24311631 0.25830912 0.24159772]\n [0.2391295  0.26437516 0.23770062 0.25879471]\n [0.2451957  0.26166862 0.242633   0.25050268]\n [0.23767351 0.26156451 0.2527936  0.24796837]\n [0.25492683 0.26556019 0.2260203  0.25349268]]\ninferred stick-breaking weights mean:  [0.10602952 0.65449745 0.14368539 0.0987603  0.00116081 0.00100162\n 0.000999   0.000999   0.000999   0.000999   0.00099877 0.000999  ]\ninferred stick-breaking weights stdd:  [0.04005045 0.04798781 0.03658517 0.04039464 0.03160592 0.03159113\n 0.03159107 0.03159119 0.03159119 0.03159119 0.03158394 0.03159119]\n"
     ]
    }
   ],
   "source": [
    "#https://arviz-devs.github.io/arviz/getting_started/InferenceDataCookbook.html#cookbook\n",
    "from numpyro.infer import Predictive\n",
    "import arviz\n",
    "posterior_samples_shallow_12_8 = mcmc1_shallow_12.get_samples()\n",
    "\n",
    "posterior_predictive_shallow_12_8 = Predictive(model, posterior_samples_shallow_12_8)(random.PRNGKey(3), altCounts)\n",
    "prior_shallow_12_8 = Predictive(model, num_samples=500)(random.PRNGKey(4), altCounts)\n",
    "\n",
    "prob_shallow_12_8 = posterior_samples_shallow_12_8[\"probs\"]\n",
    "print(prob_shallow_12_8.mean(0))\n",
    "\n",
    "beta_shallow_12_8 = posterior_samples_shallow_12_8['beta']\n",
    "weights_shallow_12_8 = mix_weights(beta_shallow_12_8)\n",
    "print(\"inferred stick-breaking weights mean: \", weights_shallow_12_8.mean(0))\n",
    "print(\"inferred stick-breaking weights stdd: \", weights_shallow_12_8.std(0))\n"
   ]
  },
  {
   "cell_type": "code",
   "execution_count": 49,
   "metadata": {},
   "outputs": [
    {
     "output_type": "execute_result",
     "data": {
      "text/plain": [
       "(1000, 6, 4)"
      ]
     },
     "metadata": {},
     "execution_count": 49
    }
   ],
   "source": [
    "mcmc1shallow.get_samples()['probs'].shape"
   ]
  },
  {
   "cell_type": "code",
   "execution_count": 62,
   "metadata": {},
   "outputs": [
    {
     "output_type": "error",
     "ename": "ValueError",
     "evalue": "Incompatible shapes for broadcasting: ((12,), (6,))",
     "traceback": [
      "\u001b[0;31m---------------------------------------------------------------------------\u001b[0m",
      "\u001b[0;31mValueError\u001b[0m                                Traceback (most recent call last)",
      "\u001b[0;32m<ipython-input-62-25ecb5059ccb>\u001b[0m in \u001b[0;36m<module>\u001b[0;34m\u001b[0m\n\u001b[1;32m      2\u001b[0m     \u001b[0mmcmc1shallow\u001b[0m\u001b[0;34m,\u001b[0m\u001b[0;34m\u001b[0m\u001b[0;34m\u001b[0m\u001b[0m\n\u001b[1;32m      3\u001b[0m     \u001b[0mprior\u001b[0m\u001b[0;34m=\u001b[0m\u001b[0mprior\u001b[0m\u001b[0;34m,\u001b[0m\u001b[0;34m\u001b[0m\u001b[0;34m\u001b[0m\u001b[0m\n\u001b[0;32m----> 4\u001b[0;31m     \u001b[0mposterior_predictive\u001b[0m\u001b[0;34m=\u001b[0m\u001b[0mposterior_predictive\u001b[0m\u001b[0;34m,\u001b[0m\u001b[0;34m\u001b[0m\u001b[0;34m\u001b[0m\u001b[0m\n\u001b[0m\u001b[1;32m      5\u001b[0m     \u001b[0;31m#coords={\"school\": np.arange(4)},\u001b[0m\u001b[0;34m\u001b[0m\u001b[0;34m\u001b[0m\u001b[0;34m\u001b[0m\u001b[0m\n\u001b[1;32m      6\u001b[0m     \u001b[0;31m#dims={\"theta\": [\"school\"]},\u001b[0m\u001b[0;34m\u001b[0m\u001b[0;34m\u001b[0m\u001b[0;34m\u001b[0m\u001b[0m\n",
      "\u001b[0;32m~/miniconda3/lib/python3.7/site-packages/arviz/data/io_numpyro.py\u001b[0m in \u001b[0;36mfrom_numpyro\u001b[0;34m(posterior, prior, posterior_predictive, predictions, constant_data, predictions_constant_data, coords, dims, pred_dims, num_chains)\u001b[0m\n\u001b[1;32m    338\u001b[0m         \u001b[0mdims\u001b[0m\u001b[0;34m=\u001b[0m\u001b[0mdims\u001b[0m\u001b[0;34m,\u001b[0m\u001b[0;34m\u001b[0m\u001b[0;34m\u001b[0m\u001b[0m\n\u001b[1;32m    339\u001b[0m         \u001b[0mpred_dims\u001b[0m\u001b[0;34m=\u001b[0m\u001b[0mpred_dims\u001b[0m\u001b[0;34m,\u001b[0m\u001b[0;34m\u001b[0m\u001b[0;34m\u001b[0m\u001b[0m\n\u001b[0;32m--> 340\u001b[0;31m         \u001b[0mnum_chains\u001b[0m\u001b[0;34m=\u001b[0m\u001b[0mnum_chains\u001b[0m\u001b[0;34m,\u001b[0m\u001b[0;34m\u001b[0m\u001b[0;34m\u001b[0m\u001b[0m\n\u001b[0m\u001b[1;32m    341\u001b[0m     ).to_inference_data()\n",
      "\u001b[0;32m~/miniconda3/lib/python3.7/site-packages/arviz/data/io_numpyro.py\u001b[0m in \u001b[0;36mto_inference_data\u001b[0;34m(self)\u001b[0m\n\u001b[1;32m    276\u001b[0m                 \u001b[0;34m\"posterior\"\u001b[0m\u001b[0;34m:\u001b[0m \u001b[0mself\u001b[0m\u001b[0;34m.\u001b[0m\u001b[0mposterior_to_xarray\u001b[0m\u001b[0;34m(\u001b[0m\u001b[0;34m)\u001b[0m\u001b[0;34m,\u001b[0m\u001b[0;34m\u001b[0m\u001b[0;34m\u001b[0m\u001b[0m\n\u001b[1;32m    277\u001b[0m                 \u001b[0;34m\"sample_stats\"\u001b[0m\u001b[0;34m:\u001b[0m \u001b[0mself\u001b[0m\u001b[0;34m.\u001b[0m\u001b[0msample_stats_to_xarray\u001b[0m\u001b[0;34m(\u001b[0m\u001b[0;34m)\u001b[0m\u001b[0;34m,\u001b[0m\u001b[0;34m\u001b[0m\u001b[0;34m\u001b[0m\u001b[0m\n\u001b[0;32m--> 278\u001b[0;31m                 \u001b[0;34m\"log_likelihood\"\u001b[0m\u001b[0;34m:\u001b[0m \u001b[0mself\u001b[0m\u001b[0;34m.\u001b[0m\u001b[0mlog_likelihood_to_xarray\u001b[0m\u001b[0;34m(\u001b[0m\u001b[0;34m)\u001b[0m\u001b[0;34m,\u001b[0m\u001b[0;34m\u001b[0m\u001b[0;34m\u001b[0m\u001b[0m\n\u001b[0m\u001b[1;32m    279\u001b[0m                 \u001b[0;34m\"posterior_predictive\"\u001b[0m\u001b[0;34m:\u001b[0m \u001b[0mself\u001b[0m\u001b[0;34m.\u001b[0m\u001b[0mposterior_predictive_to_xarray\u001b[0m\u001b[0;34m(\u001b[0m\u001b[0;34m)\u001b[0m\u001b[0;34m,\u001b[0m\u001b[0;34m\u001b[0m\u001b[0;34m\u001b[0m\u001b[0m\n\u001b[1;32m    280\u001b[0m                 \u001b[0;34m\"predictions\"\u001b[0m\u001b[0;34m:\u001b[0m \u001b[0mself\u001b[0m\u001b[0;34m.\u001b[0m\u001b[0mpredictions_to_xarray\u001b[0m\u001b[0;34m(\u001b[0m\u001b[0;34m)\u001b[0m\u001b[0;34m,\u001b[0m\u001b[0;34m\u001b[0m\u001b[0;34m\u001b[0m\u001b[0m\n",
      "\u001b[0;32m~/miniconda3/lib/python3.7/site-packages/arviz/data/base.py\u001b[0m in \u001b[0;36mwrapped\u001b[0;34m(cls, *args, **kwargs)\u001b[0m\n\u001b[1;32m     35\u001b[0m                 \u001b[0;32mif\u001b[0m \u001b[0mall\u001b[0m\u001b[0;34m(\u001b[0m\u001b[0;34m[\u001b[0m\u001b[0mgetattr\u001b[0m\u001b[0;34m(\u001b[0m\u001b[0mcls\u001b[0m\u001b[0;34m,\u001b[0m \u001b[0mprop_i\u001b[0m\u001b[0;34m)\u001b[0m \u001b[0;32mis\u001b[0m \u001b[0;32mNone\u001b[0m \u001b[0;32mfor\u001b[0m \u001b[0mprop_i\u001b[0m \u001b[0;32min\u001b[0m \u001b[0mprop\u001b[0m\u001b[0;34m]\u001b[0m\u001b[0;34m)\u001b[0m\u001b[0;34m:\u001b[0m\u001b[0;34m\u001b[0m\u001b[0;34m\u001b[0m\u001b[0m\n\u001b[1;32m     36\u001b[0m                     \u001b[0;32mreturn\u001b[0m \u001b[0;32mNone\u001b[0m\u001b[0;34m\u001b[0m\u001b[0;34m\u001b[0m\u001b[0m\n\u001b[0;32m---> 37\u001b[0;31m             \u001b[0;32mreturn\u001b[0m \u001b[0mfunc\u001b[0m\u001b[0;34m(\u001b[0m\u001b[0mcls\u001b[0m\u001b[0;34m,\u001b[0m \u001b[0;34m*\u001b[0m\u001b[0margs\u001b[0m\u001b[0;34m,\u001b[0m \u001b[0;34m**\u001b[0m\u001b[0mkwargs\u001b[0m\u001b[0;34m)\u001b[0m\u001b[0;34m\u001b[0m\u001b[0;34m\u001b[0m\u001b[0m\n\u001b[0m\u001b[1;32m     38\u001b[0m \u001b[0;34m\u001b[0m\u001b[0m\n\u001b[1;32m     39\u001b[0m         \u001b[0;32mreturn\u001b[0m \u001b[0mwrapped\u001b[0m\u001b[0;34m\u001b[0m\u001b[0;34m\u001b[0m\u001b[0m\n",
      "\u001b[0;32m~/miniconda3/lib/python3.7/site-packages/arviz/data/base.py\u001b[0m in \u001b[0;36mwrapped\u001b[0;34m(cls, *args, **kwargs)\u001b[0m\n\u001b[1;32m     35\u001b[0m                 \u001b[0;32mif\u001b[0m \u001b[0mall\u001b[0m\u001b[0;34m(\u001b[0m\u001b[0;34m[\u001b[0m\u001b[0mgetattr\u001b[0m\u001b[0;34m(\u001b[0m\u001b[0mcls\u001b[0m\u001b[0;34m,\u001b[0m \u001b[0mprop_i\u001b[0m\u001b[0;34m)\u001b[0m \u001b[0;32mis\u001b[0m \u001b[0;32mNone\u001b[0m \u001b[0;32mfor\u001b[0m \u001b[0mprop_i\u001b[0m \u001b[0;32min\u001b[0m \u001b[0mprop\u001b[0m\u001b[0;34m]\u001b[0m\u001b[0;34m)\u001b[0m\u001b[0;34m:\u001b[0m\u001b[0;34m\u001b[0m\u001b[0;34m\u001b[0m\u001b[0m\n\u001b[1;32m     36\u001b[0m                     \u001b[0;32mreturn\u001b[0m \u001b[0;32mNone\u001b[0m\u001b[0;34m\u001b[0m\u001b[0;34m\u001b[0m\u001b[0m\n\u001b[0;32m---> 37\u001b[0;31m             \u001b[0;32mreturn\u001b[0m \u001b[0mfunc\u001b[0m\u001b[0;34m(\u001b[0m\u001b[0mcls\u001b[0m\u001b[0;34m,\u001b[0m \u001b[0;34m*\u001b[0m\u001b[0margs\u001b[0m\u001b[0;34m,\u001b[0m \u001b[0;34m**\u001b[0m\u001b[0mkwargs\u001b[0m\u001b[0;34m)\u001b[0m\u001b[0;34m\u001b[0m\u001b[0;34m\u001b[0m\u001b[0m\n\u001b[0m\u001b[1;32m     38\u001b[0m \u001b[0;34m\u001b[0m\u001b[0m\n\u001b[1;32m     39\u001b[0m         \u001b[0;32mreturn\u001b[0m \u001b[0mwrapped\u001b[0m\u001b[0;34m\u001b[0m\u001b[0;34m\u001b[0m\u001b[0m\n",
      "\u001b[0;32m~/miniconda3/lib/python3.7/site-packages/arviz/data/io_numpyro.py\u001b[0m in \u001b[0;36mlog_likelihood_to_xarray\u001b[0;34m(self)\u001b[0m\n\u001b[1;32m    157\u001b[0m             \u001b[0msamples\u001b[0m \u001b[0;34m=\u001b[0m \u001b[0mself\u001b[0m\u001b[0;34m.\u001b[0m\u001b[0mposterior\u001b[0m\u001b[0;34m.\u001b[0m\u001b[0mget_samples\u001b[0m\u001b[0;34m(\u001b[0m\u001b[0mgroup_by_chain\u001b[0m\u001b[0;34m=\u001b[0m\u001b[0;32mFalse\u001b[0m\u001b[0;34m)\u001b[0m\u001b[0;34m\u001b[0m\u001b[0;34m\u001b[0m\u001b[0m\n\u001b[1;32m    158\u001b[0m             log_likelihood_dict = self.numpyro.infer.log_likelihood(\n\u001b[0;32m--> 159\u001b[0;31m                 \u001b[0mself\u001b[0m\u001b[0;34m.\u001b[0m\u001b[0mmodel\u001b[0m\u001b[0;34m,\u001b[0m \u001b[0msamples\u001b[0m\u001b[0;34m,\u001b[0m \u001b[0;34m*\u001b[0m\u001b[0mself\u001b[0m\u001b[0;34m.\u001b[0m\u001b[0m_args\u001b[0m\u001b[0;34m,\u001b[0m \u001b[0;34m**\u001b[0m\u001b[0mself\u001b[0m\u001b[0;34m.\u001b[0m\u001b[0m_kwargs\u001b[0m\u001b[0;34m\u001b[0m\u001b[0;34m\u001b[0m\u001b[0m\n\u001b[0m\u001b[1;32m    160\u001b[0m             )\n\u001b[1;32m    161\u001b[0m             \u001b[0;32mfor\u001b[0m \u001b[0mobs_name\u001b[0m\u001b[0;34m,\u001b[0m \u001b[0mlog_like\u001b[0m \u001b[0;32min\u001b[0m \u001b[0mlog_likelihood_dict\u001b[0m\u001b[0;34m.\u001b[0m\u001b[0mitems\u001b[0m\u001b[0;34m(\u001b[0m\u001b[0;34m)\u001b[0m\u001b[0;34m:\u001b[0m\u001b[0;34m\u001b[0m\u001b[0;34m\u001b[0m\u001b[0m\n",
      "\u001b[0;32m~/miniconda3/lib/python3.7/site-packages/numpyro/infer/util.py\u001b[0m in \u001b[0;36mlog_likelihood\u001b[0;34m(model, posterior_samples, parallel, batch_ndims, *args, **kwargs)\u001b[0m\n\u001b[1;32m    619\u001b[0m     \u001b[0mbatch_size\u001b[0m \u001b[0;34m=\u001b[0m \u001b[0mint\u001b[0m\u001b[0;34m(\u001b[0m\u001b[0mnp\u001b[0m\u001b[0;34m.\u001b[0m\u001b[0mprod\u001b[0m\u001b[0;34m(\u001b[0m\u001b[0mbatch_shape\u001b[0m\u001b[0;34m)\u001b[0m\u001b[0;34m)\u001b[0m\u001b[0;34m\u001b[0m\u001b[0;34m\u001b[0m\u001b[0m\n\u001b[1;32m    620\u001b[0m     \u001b[0mchunk_size\u001b[0m \u001b[0;34m=\u001b[0m \u001b[0mbatch_size\u001b[0m \u001b[0;32mif\u001b[0m \u001b[0mparallel\u001b[0m \u001b[0;32melse\u001b[0m \u001b[0;36m1\u001b[0m\u001b[0;34m\u001b[0m\u001b[0;34m\u001b[0m\u001b[0m\n\u001b[0;32m--> 621\u001b[0;31m     \u001b[0;32mreturn\u001b[0m \u001b[0msoft_vmap\u001b[0m\u001b[0;34m(\u001b[0m\u001b[0msingle_loglik\u001b[0m\u001b[0;34m,\u001b[0m \u001b[0mposterior_samples\u001b[0m\u001b[0;34m,\u001b[0m \u001b[0mlen\u001b[0m\u001b[0;34m(\u001b[0m\u001b[0mbatch_shape\u001b[0m\u001b[0;34m)\u001b[0m\u001b[0;34m,\u001b[0m \u001b[0mchunk_size\u001b[0m\u001b[0;34m)\u001b[0m\u001b[0;34m\u001b[0m\u001b[0;34m\u001b[0m\u001b[0m\n\u001b[0m",
      "\u001b[0;32m~/miniconda3/lib/python3.7/site-packages/numpyro/util.py\u001b[0m in \u001b[0;36msoft_vmap\u001b[0;34m(fn, xs, batch_ndims, chunk_size)\u001b[0m\n\u001b[1;32m    296\u001b[0m         \u001b[0mfn\u001b[0m \u001b[0;34m=\u001b[0m \u001b[0mvmap\u001b[0m\u001b[0;34m(\u001b[0m\u001b[0mfn\u001b[0m\u001b[0;34m)\u001b[0m\u001b[0;34m\u001b[0m\u001b[0;34m\u001b[0m\u001b[0m\n\u001b[1;32m    297\u001b[0m \u001b[0;34m\u001b[0m\u001b[0m\n\u001b[0;32m--> 298\u001b[0;31m     \u001b[0mys\u001b[0m \u001b[0;34m=\u001b[0m \u001b[0mlax\u001b[0m\u001b[0;34m.\u001b[0m\u001b[0mmap\u001b[0m\u001b[0;34m(\u001b[0m\u001b[0mfn\u001b[0m\u001b[0;34m,\u001b[0m \u001b[0mxs\u001b[0m\u001b[0;34m)\u001b[0m \u001b[0;32mif\u001b[0m \u001b[0mnum_chunks\u001b[0m \u001b[0;34m>\u001b[0m \u001b[0;36m1\u001b[0m \u001b[0;32melse\u001b[0m \u001b[0mfn\u001b[0m\u001b[0;34m(\u001b[0m\u001b[0mxs\u001b[0m\u001b[0;34m)\u001b[0m\u001b[0;34m\u001b[0m\u001b[0;34m\u001b[0m\u001b[0m\n\u001b[0m\u001b[1;32m    299\u001b[0m     \u001b[0mmap_ndims\u001b[0m \u001b[0;34m=\u001b[0m \u001b[0mint\u001b[0m\u001b[0;34m(\u001b[0m\u001b[0mnum_chunks\u001b[0m \u001b[0;34m>\u001b[0m \u001b[0;36m1\u001b[0m\u001b[0;34m)\u001b[0m \u001b[0;34m+\u001b[0m \u001b[0mint\u001b[0m\u001b[0;34m(\u001b[0m\u001b[0mchunk_size\u001b[0m \u001b[0;34m>\u001b[0m \u001b[0;36m1\u001b[0m\u001b[0;34m)\u001b[0m\u001b[0;34m\u001b[0m\u001b[0;34m\u001b[0m\u001b[0m\n\u001b[1;32m    300\u001b[0m     \u001b[0mys\u001b[0m \u001b[0;34m=\u001b[0m \u001b[0mtree_map\u001b[0m\u001b[0;34m(\u001b[0m\u001b[0;32mlambda\u001b[0m \u001b[0my\u001b[0m\u001b[0;34m:\u001b[0m \u001b[0mjnp\u001b[0m\u001b[0;34m.\u001b[0m\u001b[0mreshape\u001b[0m\u001b[0;34m(\u001b[0m\u001b[0my\u001b[0m\u001b[0;34m,\u001b[0m \u001b[0;34m(\u001b[0m\u001b[0;34m-\u001b[0m\u001b[0;36m1\u001b[0m\u001b[0;34m,\u001b[0m\u001b[0;34m)\u001b[0m \u001b[0;34m+\u001b[0m \u001b[0mjnp\u001b[0m\u001b[0;34m.\u001b[0m\u001b[0mshape\u001b[0m\u001b[0;34m(\u001b[0m\u001b[0my\u001b[0m\u001b[0;34m)\u001b[0m\u001b[0;34m[\u001b[0m\u001b[0mmap_ndims\u001b[0m\u001b[0;34m:\u001b[0m\u001b[0;34m]\u001b[0m\u001b[0;34m)\u001b[0m\u001b[0;34m[\u001b[0m\u001b[0;34m:\u001b[0m\u001b[0mbatch_size\u001b[0m\u001b[0;34m]\u001b[0m\u001b[0;34m,\u001b[0m \u001b[0mys\u001b[0m\u001b[0;34m)\u001b[0m\u001b[0;34m\u001b[0m\u001b[0;34m\u001b[0m\u001b[0m\n",
      "\u001b[0;32m~/miniconda3/lib/python3.7/site-packages/jax/lax/lax_control_flow.py\u001b[0m in \u001b[0;36mmap\u001b[0;34m(f, xs)\u001b[0m\n\u001b[1;32m   1897\u001b[0m   \"\"\"\n\u001b[1;32m   1898\u001b[0m   \u001b[0mg\u001b[0m \u001b[0;34m=\u001b[0m \u001b[0;32mlambda\u001b[0m \u001b[0m_\u001b[0m\u001b[0;34m,\u001b[0m \u001b[0mx\u001b[0m\u001b[0;34m:\u001b[0m \u001b[0;34m(\u001b[0m\u001b[0;34m(\u001b[0m\u001b[0;34m)\u001b[0m\u001b[0;34m,\u001b[0m \u001b[0mf\u001b[0m\u001b[0;34m(\u001b[0m\u001b[0mx\u001b[0m\u001b[0;34m)\u001b[0m\u001b[0;34m)\u001b[0m\u001b[0;34m\u001b[0m\u001b[0;34m\u001b[0m\u001b[0m\n\u001b[0;32m-> 1899\u001b[0;31m   \u001b[0m_\u001b[0m\u001b[0;34m,\u001b[0m \u001b[0mys\u001b[0m \u001b[0;34m=\u001b[0m \u001b[0mscan\u001b[0m\u001b[0;34m(\u001b[0m\u001b[0mg\u001b[0m\u001b[0;34m,\u001b[0m \u001b[0;34m(\u001b[0m\u001b[0;34m)\u001b[0m\u001b[0;34m,\u001b[0m \u001b[0mxs\u001b[0m\u001b[0;34m)\u001b[0m\u001b[0;34m\u001b[0m\u001b[0;34m\u001b[0m\u001b[0m\n\u001b[0m\u001b[1;32m   1900\u001b[0m   \u001b[0;32mreturn\u001b[0m \u001b[0mys\u001b[0m\u001b[0;34m\u001b[0m\u001b[0;34m\u001b[0m\u001b[0m\n\u001b[1;32m   1901\u001b[0m \u001b[0;34m\u001b[0m\u001b[0m\n",
      "\u001b[0;32m~/miniconda3/lib/python3.7/site-packages/jax/lax/lax_control_flow.py\u001b[0m in \u001b[0;36mscan\u001b[0;34m(f, init, xs, length, reverse, unroll)\u001b[0m\n\u001b[1;32m   1248\u001b[0m   \u001b[0;31m# To do this, we compute the jaxpr in two passes: first with the raw inputs, and if\u001b[0m\u001b[0;34m\u001b[0m\u001b[0;34m\u001b[0m\u001b[0;34m\u001b[0m\u001b[0m\n\u001b[1;32m   1249\u001b[0m   \u001b[0;31m# necessary, a second time with modified init values.\u001b[0m\u001b[0;34m\u001b[0m\u001b[0;34m\u001b[0m\u001b[0;34m\u001b[0m\u001b[0m\n\u001b[0;32m-> 1250\u001b[0;31m   \u001b[0minit_flat\u001b[0m\u001b[0;34m,\u001b[0m \u001b[0mcarry_avals\u001b[0m\u001b[0;34m,\u001b[0m \u001b[0mcarry_avals_out\u001b[0m\u001b[0;34m,\u001b[0m \u001b[0minit_tree\u001b[0m\u001b[0;34m,\u001b[0m \u001b[0;34m*\u001b[0m\u001b[0mrest\u001b[0m \u001b[0;34m=\u001b[0m \u001b[0m_create_jaxpr\u001b[0m\u001b[0;34m(\u001b[0m\u001b[0minit\u001b[0m\u001b[0;34m)\u001b[0m\u001b[0;34m\u001b[0m\u001b[0;34m\u001b[0m\u001b[0m\n\u001b[0m\u001b[1;32m   1251\u001b[0m   \u001b[0mnew_init_flat\u001b[0m\u001b[0;34m,\u001b[0m \u001b[0mchanged\u001b[0m \u001b[0;34m=\u001b[0m \u001b[0m_promote_weak_typed_inputs\u001b[0m\u001b[0;34m(\u001b[0m\u001b[0minit_flat\u001b[0m\u001b[0;34m,\u001b[0m \u001b[0mcarry_avals\u001b[0m\u001b[0;34m,\u001b[0m \u001b[0mcarry_avals_out\u001b[0m\u001b[0;34m)\u001b[0m\u001b[0;34m\u001b[0m\u001b[0;34m\u001b[0m\u001b[0m\n\u001b[1;32m   1252\u001b[0m   \u001b[0;32mif\u001b[0m \u001b[0mchanged\u001b[0m\u001b[0;34m:\u001b[0m\u001b[0;34m\u001b[0m\u001b[0;34m\u001b[0m\u001b[0m\n",
      "\u001b[0;32m~/miniconda3/lib/python3.7/site-packages/jax/lax/lax_control_flow.py\u001b[0m in \u001b[0;36m_create_jaxpr\u001b[0;34m(init)\u001b[0m\n\u001b[1;32m   1235\u001b[0m \u001b[0;34m\u001b[0m\u001b[0m\n\u001b[1;32m   1236\u001b[0m     \u001b[0mcarry_avals\u001b[0m \u001b[0;34m=\u001b[0m \u001b[0mtuple\u001b[0m\u001b[0;34m(\u001b[0m\u001b[0m_map\u001b[0m\u001b[0;34m(\u001b[0m\u001b[0m_abstractify\u001b[0m\u001b[0;34m,\u001b[0m \u001b[0minit_flat\u001b[0m\u001b[0;34m)\u001b[0m\u001b[0;34m)\u001b[0m\u001b[0;34m\u001b[0m\u001b[0;34m\u001b[0m\u001b[0m\n\u001b[0;32m-> 1237\u001b[0;31m     \u001b[0mjaxpr\u001b[0m\u001b[0;34m,\u001b[0m \u001b[0mconsts\u001b[0m\u001b[0;34m,\u001b[0m \u001b[0mout_tree\u001b[0m \u001b[0;34m=\u001b[0m \u001b[0m_initial_style_jaxpr\u001b[0m\u001b[0;34m(\u001b[0m\u001b[0mf\u001b[0m\u001b[0;34m,\u001b[0m \u001b[0min_tree\u001b[0m\u001b[0;34m,\u001b[0m \u001b[0mcarry_avals\u001b[0m \u001b[0;34m+\u001b[0m \u001b[0mx_avals\u001b[0m\u001b[0;34m)\u001b[0m\u001b[0;34m\u001b[0m\u001b[0;34m\u001b[0m\u001b[0m\n\u001b[0m\u001b[1;32m   1238\u001b[0m     \u001b[0mout_tree_children\u001b[0m \u001b[0;34m=\u001b[0m \u001b[0mout_tree\u001b[0m\u001b[0;34m.\u001b[0m\u001b[0mchildren\u001b[0m\u001b[0;34m(\u001b[0m\u001b[0;34m)\u001b[0m\u001b[0;34m\u001b[0m\u001b[0;34m\u001b[0m\u001b[0m\n\u001b[1;32m   1239\u001b[0m     \u001b[0;32mif\u001b[0m \u001b[0mlen\u001b[0m\u001b[0;34m(\u001b[0m\u001b[0mout_tree_children\u001b[0m\u001b[0;34m)\u001b[0m \u001b[0;34m!=\u001b[0m \u001b[0;36m2\u001b[0m\u001b[0;34m:\u001b[0m\u001b[0;34m\u001b[0m\u001b[0;34m\u001b[0m\u001b[0m\n",
      "\u001b[0;32m~/miniconda3/lib/python3.7/site-packages/jax/lax/lax_control_flow.py\u001b[0m in \u001b[0;36m_initial_style_jaxpr\u001b[0;34m(fun, in_tree, in_avals)\u001b[0m\n\u001b[1;32m     69\u001b[0m \u001b[0;34m@\u001b[0m\u001b[0mcache\u001b[0m\u001b[0;34m(\u001b[0m\u001b[0;34m)\u001b[0m\u001b[0;34m\u001b[0m\u001b[0;34m\u001b[0m\u001b[0m\n\u001b[1;32m     70\u001b[0m \u001b[0;32mdef\u001b[0m \u001b[0m_initial_style_jaxpr\u001b[0m\u001b[0;34m(\u001b[0m\u001b[0mfun\u001b[0m\u001b[0;34m:\u001b[0m \u001b[0mCallable\u001b[0m\u001b[0;34m,\u001b[0m \u001b[0min_tree\u001b[0m\u001b[0;34m,\u001b[0m \u001b[0min_avals\u001b[0m\u001b[0;34m)\u001b[0m\u001b[0;34m:\u001b[0m\u001b[0;34m\u001b[0m\u001b[0;34m\u001b[0m\u001b[0m\n\u001b[0;32m---> 71\u001b[0;31m   \u001b[0mjaxpr\u001b[0m\u001b[0;34m,\u001b[0m \u001b[0mout_avals\u001b[0m\u001b[0;34m,\u001b[0m \u001b[0mconsts\u001b[0m\u001b[0;34m,\u001b[0m \u001b[0mout_tree\u001b[0m \u001b[0;34m=\u001b[0m \u001b[0m_initial_style_open_jaxpr\u001b[0m\u001b[0;34m(\u001b[0m\u001b[0mfun\u001b[0m\u001b[0;34m,\u001b[0m \u001b[0min_tree\u001b[0m\u001b[0;34m,\u001b[0m \u001b[0min_avals\u001b[0m\u001b[0;34m)\u001b[0m\u001b[0;34m\u001b[0m\u001b[0;34m\u001b[0m\u001b[0m\n\u001b[0m\u001b[1;32m     72\u001b[0m   \u001b[0mclosed_jaxpr\u001b[0m \u001b[0;34m=\u001b[0m \u001b[0mcore\u001b[0m\u001b[0;34m.\u001b[0m\u001b[0mClosedJaxpr\u001b[0m\u001b[0;34m(\u001b[0m\u001b[0mpe\u001b[0m\u001b[0;34m.\u001b[0m\u001b[0mconvert_constvars_jaxpr\u001b[0m\u001b[0;34m(\u001b[0m\u001b[0mjaxpr\u001b[0m\u001b[0;34m)\u001b[0m\u001b[0;34m,\u001b[0m \u001b[0;34m(\u001b[0m\u001b[0;34m)\u001b[0m\u001b[0;34m)\u001b[0m\u001b[0;34m\u001b[0m\u001b[0;34m\u001b[0m\u001b[0m\n\u001b[1;32m     73\u001b[0m   \u001b[0;32mreturn\u001b[0m \u001b[0mclosed_jaxpr\u001b[0m\u001b[0;34m,\u001b[0m \u001b[0mconsts\u001b[0m\u001b[0;34m,\u001b[0m \u001b[0mout_tree\u001b[0m\u001b[0;34m\u001b[0m\u001b[0;34m\u001b[0m\u001b[0m\n",
      "\u001b[0;32m~/miniconda3/lib/python3.7/site-packages/jax/lax/lax_control_flow.py\u001b[0m in \u001b[0;36m_initial_style_open_jaxpr\u001b[0;34m(fun, in_tree, in_avals)\u001b[0m\n\u001b[1;32m     64\u001b[0m \u001b[0;32mdef\u001b[0m \u001b[0m_initial_style_open_jaxpr\u001b[0m\u001b[0;34m(\u001b[0m\u001b[0mfun\u001b[0m\u001b[0;34m:\u001b[0m \u001b[0mCallable\u001b[0m\u001b[0;34m,\u001b[0m \u001b[0min_tree\u001b[0m\u001b[0;34m,\u001b[0m \u001b[0min_avals\u001b[0m\u001b[0;34m)\u001b[0m\u001b[0;34m:\u001b[0m\u001b[0;34m\u001b[0m\u001b[0;34m\u001b[0m\u001b[0m\n\u001b[1;32m     65\u001b[0m   \u001b[0mwrapped_fun\u001b[0m\u001b[0;34m,\u001b[0m \u001b[0mout_tree\u001b[0m \u001b[0;34m=\u001b[0m \u001b[0mflatten_fun_nokwargs\u001b[0m\u001b[0;34m(\u001b[0m\u001b[0mlu\u001b[0m\u001b[0;34m.\u001b[0m\u001b[0mwrap_init\u001b[0m\u001b[0;34m(\u001b[0m\u001b[0mfun\u001b[0m\u001b[0;34m)\u001b[0m\u001b[0;34m,\u001b[0m \u001b[0min_tree\u001b[0m\u001b[0;34m)\u001b[0m\u001b[0;34m\u001b[0m\u001b[0;34m\u001b[0m\u001b[0m\n\u001b[0;32m---> 66\u001b[0;31m   \u001b[0mjaxpr\u001b[0m\u001b[0;34m,\u001b[0m \u001b[0mout_avals\u001b[0m\u001b[0;34m,\u001b[0m \u001b[0mconsts\u001b[0m \u001b[0;34m=\u001b[0m \u001b[0mpe\u001b[0m\u001b[0;34m.\u001b[0m\u001b[0mtrace_to_jaxpr_dynamic\u001b[0m\u001b[0;34m(\u001b[0m\u001b[0mwrapped_fun\u001b[0m\u001b[0;34m,\u001b[0m \u001b[0min_avals\u001b[0m\u001b[0;34m)\u001b[0m\u001b[0;34m\u001b[0m\u001b[0;34m\u001b[0m\u001b[0m\n\u001b[0m\u001b[1;32m     67\u001b[0m   \u001b[0;32mreturn\u001b[0m \u001b[0mjaxpr\u001b[0m\u001b[0;34m,\u001b[0m \u001b[0mout_avals\u001b[0m\u001b[0;34m,\u001b[0m \u001b[0mconsts\u001b[0m\u001b[0;34m,\u001b[0m \u001b[0mout_tree\u001b[0m\u001b[0;34m(\u001b[0m\u001b[0;34m)\u001b[0m\u001b[0;34m\u001b[0m\u001b[0;34m\u001b[0m\u001b[0m\n\u001b[1;32m     68\u001b[0m \u001b[0;34m\u001b[0m\u001b[0m\n",
      "\u001b[0;32m~/miniconda3/lib/python3.7/site-packages/jax/interpreters/partial_eval.py\u001b[0m in \u001b[0;36mtrace_to_jaxpr_dynamic\u001b[0;34m(fun, in_avals)\u001b[0m\n\u001b[1;32m   1007\u001b[0m     \u001b[0mmain\u001b[0m\u001b[0;34m.\u001b[0m\u001b[0msource_info\u001b[0m \u001b[0;34m=\u001b[0m \u001b[0mfun_sourceinfo\u001b[0m\u001b[0;34m(\u001b[0m\u001b[0mfun\u001b[0m\u001b[0;34m.\u001b[0m\u001b[0mf\u001b[0m\u001b[0;34m)\u001b[0m  \u001b[0;31m# type: ignore\u001b[0m\u001b[0;34m\u001b[0m\u001b[0;34m\u001b[0m\u001b[0m\n\u001b[1;32m   1008\u001b[0m     \u001b[0mmain\u001b[0m\u001b[0;34m.\u001b[0m\u001b[0mjaxpr_stack\u001b[0m \u001b[0;34m=\u001b[0m \u001b[0;34m(\u001b[0m\u001b[0;34m)\u001b[0m  \u001b[0;31m# type: ignore\u001b[0m\u001b[0;34m\u001b[0m\u001b[0;34m\u001b[0m\u001b[0m\n\u001b[0;32m-> 1009\u001b[0;31m     \u001b[0mjaxpr\u001b[0m\u001b[0;34m,\u001b[0m \u001b[0mout_avals\u001b[0m\u001b[0;34m,\u001b[0m \u001b[0mconsts\u001b[0m \u001b[0;34m=\u001b[0m \u001b[0mtrace_to_subjaxpr_dynamic\u001b[0m\u001b[0;34m(\u001b[0m\u001b[0mfun\u001b[0m\u001b[0;34m,\u001b[0m \u001b[0mmain\u001b[0m\u001b[0;34m,\u001b[0m \u001b[0min_avals\u001b[0m\u001b[0;34m)\u001b[0m\u001b[0;34m\u001b[0m\u001b[0;34m\u001b[0m\u001b[0m\n\u001b[0m\u001b[1;32m   1010\u001b[0m     \u001b[0;32mdel\u001b[0m \u001b[0mmain\u001b[0m\u001b[0;34m\u001b[0m\u001b[0;34m\u001b[0m\u001b[0m\n\u001b[1;32m   1011\u001b[0m   \u001b[0;32mreturn\u001b[0m \u001b[0mjaxpr\u001b[0m\u001b[0;34m,\u001b[0m \u001b[0mout_avals\u001b[0m\u001b[0;34m,\u001b[0m \u001b[0mconsts\u001b[0m\u001b[0;34m\u001b[0m\u001b[0;34m\u001b[0m\u001b[0m\n",
      "\u001b[0;32m~/miniconda3/lib/python3.7/site-packages/jax/interpreters/partial_eval.py\u001b[0m in \u001b[0;36mtrace_to_subjaxpr_dynamic\u001b[0;34m(fun, main, in_avals)\u001b[0m\n\u001b[1;32m   1017\u001b[0m     \u001b[0mtrace\u001b[0m \u001b[0;34m=\u001b[0m \u001b[0mDynamicJaxprTrace\u001b[0m\u001b[0;34m(\u001b[0m\u001b[0mmain\u001b[0m\u001b[0;34m,\u001b[0m \u001b[0mcore\u001b[0m\u001b[0;34m.\u001b[0m\u001b[0mcur_sublevel\u001b[0m\u001b[0;34m(\u001b[0m\u001b[0;34m)\u001b[0m\u001b[0;34m)\u001b[0m\u001b[0;34m\u001b[0m\u001b[0;34m\u001b[0m\u001b[0m\n\u001b[1;32m   1018\u001b[0m     \u001b[0min_tracers\u001b[0m \u001b[0;34m=\u001b[0m \u001b[0mmap\u001b[0m\u001b[0;34m(\u001b[0m\u001b[0mtrace\u001b[0m\u001b[0;34m.\u001b[0m\u001b[0mnew_arg\u001b[0m\u001b[0;34m,\u001b[0m \u001b[0min_avals\u001b[0m\u001b[0;34m)\u001b[0m\u001b[0;34m\u001b[0m\u001b[0;34m\u001b[0m\u001b[0m\n\u001b[0;32m-> 1019\u001b[0;31m     \u001b[0mans\u001b[0m \u001b[0;34m=\u001b[0m \u001b[0mfun\u001b[0m\u001b[0;34m.\u001b[0m\u001b[0mcall_wrapped\u001b[0m\u001b[0;34m(\u001b[0m\u001b[0;34m*\u001b[0m\u001b[0min_tracers\u001b[0m\u001b[0;34m)\u001b[0m\u001b[0;34m\u001b[0m\u001b[0;34m\u001b[0m\u001b[0m\n\u001b[0m\u001b[1;32m   1020\u001b[0m     \u001b[0mout_tracers\u001b[0m \u001b[0;34m=\u001b[0m \u001b[0mmap\u001b[0m\u001b[0;34m(\u001b[0m\u001b[0mtrace\u001b[0m\u001b[0;34m.\u001b[0m\u001b[0mfull_raise\u001b[0m\u001b[0;34m,\u001b[0m \u001b[0mans\u001b[0m\u001b[0;34m)\u001b[0m\u001b[0;34m\u001b[0m\u001b[0;34m\u001b[0m\u001b[0m\n\u001b[1;32m   1021\u001b[0m   \u001b[0mjaxpr\u001b[0m\u001b[0;34m,\u001b[0m \u001b[0mout_avals\u001b[0m\u001b[0;34m,\u001b[0m \u001b[0mconsts\u001b[0m \u001b[0;34m=\u001b[0m \u001b[0mframe\u001b[0m\u001b[0;34m.\u001b[0m\u001b[0mto_jaxpr\u001b[0m\u001b[0;34m(\u001b[0m\u001b[0min_tracers\u001b[0m\u001b[0;34m,\u001b[0m \u001b[0mout_tracers\u001b[0m\u001b[0;34m)\u001b[0m\u001b[0;34m\u001b[0m\u001b[0;34m\u001b[0m\u001b[0m\n",
      "\u001b[0;32m~/miniconda3/lib/python3.7/site-packages/jax/linear_util.py\u001b[0m in \u001b[0;36mcall_wrapped\u001b[0;34m(self, *args, **kwargs)\u001b[0m\n\u001b[1;32m    154\u001b[0m \u001b[0;34m\u001b[0m\u001b[0m\n\u001b[1;32m    155\u001b[0m     \u001b[0;32mtry\u001b[0m\u001b[0;34m:\u001b[0m\u001b[0;34m\u001b[0m\u001b[0;34m\u001b[0m\u001b[0m\n\u001b[0;32m--> 156\u001b[0;31m       \u001b[0mans\u001b[0m \u001b[0;34m=\u001b[0m \u001b[0mself\u001b[0m\u001b[0;34m.\u001b[0m\u001b[0mf\u001b[0m\u001b[0;34m(\u001b[0m\u001b[0;34m*\u001b[0m\u001b[0margs\u001b[0m\u001b[0;34m,\u001b[0m \u001b[0;34m**\u001b[0m\u001b[0mdict\u001b[0m\u001b[0;34m(\u001b[0m\u001b[0mself\u001b[0m\u001b[0;34m.\u001b[0m\u001b[0mparams\u001b[0m\u001b[0;34m,\u001b[0m \u001b[0;34m**\u001b[0m\u001b[0mkwargs\u001b[0m\u001b[0;34m)\u001b[0m\u001b[0;34m)\u001b[0m\u001b[0;34m\u001b[0m\u001b[0;34m\u001b[0m\u001b[0m\n\u001b[0m\u001b[1;32m    157\u001b[0m     \u001b[0;32mexcept\u001b[0m\u001b[0;34m:\u001b[0m\u001b[0;34m\u001b[0m\u001b[0;34m\u001b[0m\u001b[0m\n\u001b[1;32m    158\u001b[0m       \u001b[0;31m# Some transformations yield from inside context managers, so we have to\u001b[0m\u001b[0;34m\u001b[0m\u001b[0;34m\u001b[0m\u001b[0;34m\u001b[0m\u001b[0m\n",
      "\u001b[0;32m~/miniconda3/lib/python3.7/site-packages/jax/lax/lax_control_flow.py\u001b[0m in \u001b[0;36m<lambda>\u001b[0;34m(_, x)\u001b[0m\n\u001b[1;32m   1896\u001b[0m     \u001b[0mMapped\u001b[0m \u001b[0mvalues\u001b[0m\u001b[0;34m.\u001b[0m\u001b[0;34m\u001b[0m\u001b[0;34m\u001b[0m\u001b[0m\n\u001b[1;32m   1897\u001b[0m   \"\"\"\n\u001b[0;32m-> 1898\u001b[0;31m   \u001b[0mg\u001b[0m \u001b[0;34m=\u001b[0m \u001b[0;32mlambda\u001b[0m \u001b[0m_\u001b[0m\u001b[0;34m,\u001b[0m \u001b[0mx\u001b[0m\u001b[0;34m:\u001b[0m \u001b[0;34m(\u001b[0m\u001b[0;34m(\u001b[0m\u001b[0;34m)\u001b[0m\u001b[0;34m,\u001b[0m \u001b[0mf\u001b[0m\u001b[0;34m(\u001b[0m\u001b[0mx\u001b[0m\u001b[0;34m)\u001b[0m\u001b[0;34m)\u001b[0m\u001b[0;34m\u001b[0m\u001b[0;34m\u001b[0m\u001b[0m\n\u001b[0m\u001b[1;32m   1899\u001b[0m   \u001b[0m_\u001b[0m\u001b[0;34m,\u001b[0m \u001b[0mys\u001b[0m \u001b[0;34m=\u001b[0m \u001b[0mscan\u001b[0m\u001b[0;34m(\u001b[0m\u001b[0mg\u001b[0m\u001b[0;34m,\u001b[0m \u001b[0;34m(\u001b[0m\u001b[0;34m)\u001b[0m\u001b[0;34m,\u001b[0m \u001b[0mxs\u001b[0m\u001b[0;34m)\u001b[0m\u001b[0;34m\u001b[0m\u001b[0;34m\u001b[0m\u001b[0m\n\u001b[1;32m   1900\u001b[0m   \u001b[0;32mreturn\u001b[0m \u001b[0mys\u001b[0m\u001b[0;34m\u001b[0m\u001b[0;34m\u001b[0m\u001b[0m\n",
      "\u001b[0;32m~/miniconda3/lib/python3.7/site-packages/numpyro/infer/util.py\u001b[0m in \u001b[0;36msingle_loglik\u001b[0;34m(samples)\u001b[0m\n\u001b[1;32m    599\u001b[0m     \u001b[0;32mdef\u001b[0m \u001b[0msingle_loglik\u001b[0m\u001b[0;34m(\u001b[0m\u001b[0msamples\u001b[0m\u001b[0;34m)\u001b[0m\u001b[0;34m:\u001b[0m\u001b[0;34m\u001b[0m\u001b[0;34m\u001b[0m\u001b[0m\n\u001b[1;32m    600\u001b[0m         \u001b[0msubstituted_model\u001b[0m \u001b[0;34m=\u001b[0m \u001b[0msubstitute\u001b[0m\u001b[0;34m(\u001b[0m\u001b[0mmodel\u001b[0m\u001b[0;34m,\u001b[0m \u001b[0msamples\u001b[0m\u001b[0;34m)\u001b[0m \u001b[0;32mif\u001b[0m \u001b[0misinstance\u001b[0m\u001b[0;34m(\u001b[0m\u001b[0msamples\u001b[0m\u001b[0;34m,\u001b[0m \u001b[0mdict\u001b[0m\u001b[0;34m)\u001b[0m \u001b[0;32melse\u001b[0m \u001b[0mmodel\u001b[0m\u001b[0;34m\u001b[0m\u001b[0;34m\u001b[0m\u001b[0m\n\u001b[0;32m--> 601\u001b[0;31m         \u001b[0mmodel_trace\u001b[0m \u001b[0;34m=\u001b[0m \u001b[0mtrace\u001b[0m\u001b[0;34m(\u001b[0m\u001b[0msubstituted_model\u001b[0m\u001b[0;34m)\u001b[0m\u001b[0;34m.\u001b[0m\u001b[0mget_trace\u001b[0m\u001b[0;34m(\u001b[0m\u001b[0;34m*\u001b[0m\u001b[0margs\u001b[0m\u001b[0;34m,\u001b[0m \u001b[0;34m**\u001b[0m\u001b[0mkwargs\u001b[0m\u001b[0;34m)\u001b[0m\u001b[0;34m\u001b[0m\u001b[0;34m\u001b[0m\u001b[0m\n\u001b[0m\u001b[1;32m    602\u001b[0m         return {name: site['fn'].log_prob(site['value']) for name, site in model_trace.items()\n\u001b[1;32m    603\u001b[0m                 if site['type'] == 'sample' and site['is_observed']}\n",
      "\u001b[0;32m~/miniconda3/lib/python3.7/site-packages/numpyro/handlers.py\u001b[0m in \u001b[0;36mget_trace\u001b[0;34m(self, *args, **kwargs)\u001b[0m\n\u001b[1;32m    156\u001b[0m         \u001b[0;34m:\u001b[0m\u001b[0;32mreturn\u001b[0m\u001b[0;34m:\u001b[0m\u001b[0;31m \u001b[0m\u001b[0;31m`\u001b[0m\u001b[0mOrderedDict\u001b[0m\u001b[0;31m`\u001b[0m \u001b[0mcontaining\u001b[0m \u001b[0mthe\u001b[0m \u001b[0mexecution\u001b[0m \u001b[0mtrace\u001b[0m\u001b[0;34m.\u001b[0m\u001b[0;34m\u001b[0m\u001b[0;34m\u001b[0m\u001b[0m\n\u001b[1;32m    157\u001b[0m         \"\"\"\n\u001b[0;32m--> 158\u001b[0;31m         \u001b[0mself\u001b[0m\u001b[0;34m(\u001b[0m\u001b[0;34m*\u001b[0m\u001b[0margs\u001b[0m\u001b[0;34m,\u001b[0m \u001b[0;34m**\u001b[0m\u001b[0mkwargs\u001b[0m\u001b[0;34m)\u001b[0m\u001b[0;34m\u001b[0m\u001b[0;34m\u001b[0m\u001b[0m\n\u001b[0m\u001b[1;32m    159\u001b[0m         \u001b[0;32mreturn\u001b[0m \u001b[0mself\u001b[0m\u001b[0;34m.\u001b[0m\u001b[0mtrace\u001b[0m\u001b[0;34m\u001b[0m\u001b[0;34m\u001b[0m\u001b[0m\n\u001b[1;32m    160\u001b[0m \u001b[0;34m\u001b[0m\u001b[0m\n",
      "\u001b[0;32m~/miniconda3/lib/python3.7/site-packages/numpyro/primitives.py\u001b[0m in \u001b[0;36m__call__\u001b[0;34m(self, *args, **kwargs)\u001b[0m\n\u001b[1;32m     66\u001b[0m     \u001b[0;32mdef\u001b[0m \u001b[0m__call__\u001b[0m\u001b[0;34m(\u001b[0m\u001b[0mself\u001b[0m\u001b[0;34m,\u001b[0m \u001b[0;34m*\u001b[0m\u001b[0margs\u001b[0m\u001b[0;34m,\u001b[0m \u001b[0;34m**\u001b[0m\u001b[0mkwargs\u001b[0m\u001b[0;34m)\u001b[0m\u001b[0;34m:\u001b[0m\u001b[0;34m\u001b[0m\u001b[0;34m\u001b[0m\u001b[0m\n\u001b[1;32m     67\u001b[0m         \u001b[0;32mwith\u001b[0m \u001b[0mself\u001b[0m\u001b[0;34m:\u001b[0m\u001b[0;34m\u001b[0m\u001b[0;34m\u001b[0m\u001b[0m\n\u001b[0;32m---> 68\u001b[0;31m             \u001b[0;32mreturn\u001b[0m \u001b[0mself\u001b[0m\u001b[0;34m.\u001b[0m\u001b[0mfn\u001b[0m\u001b[0;34m(\u001b[0m\u001b[0;34m*\u001b[0m\u001b[0margs\u001b[0m\u001b[0;34m,\u001b[0m \u001b[0;34m**\u001b[0m\u001b[0mkwargs\u001b[0m\u001b[0;34m)\u001b[0m\u001b[0;34m\u001b[0m\u001b[0;34m\u001b[0m\u001b[0m\n\u001b[0m\u001b[1;32m     69\u001b[0m \u001b[0;34m\u001b[0m\u001b[0m\n\u001b[1;32m     70\u001b[0m \u001b[0;34m\u001b[0m\u001b[0m\n",
      "\u001b[0;32m~/miniconda3/lib/python3.7/site-packages/numpyro/primitives.py\u001b[0m in \u001b[0;36m__call__\u001b[0;34m(self, *args, **kwargs)\u001b[0m\n\u001b[1;32m     66\u001b[0m     \u001b[0;32mdef\u001b[0m \u001b[0m__call__\u001b[0m\u001b[0;34m(\u001b[0m\u001b[0mself\u001b[0m\u001b[0;34m,\u001b[0m \u001b[0;34m*\u001b[0m\u001b[0margs\u001b[0m\u001b[0;34m,\u001b[0m \u001b[0;34m**\u001b[0m\u001b[0mkwargs\u001b[0m\u001b[0;34m)\u001b[0m\u001b[0;34m:\u001b[0m\u001b[0;34m\u001b[0m\u001b[0;34m\u001b[0m\u001b[0m\n\u001b[1;32m     67\u001b[0m         \u001b[0;32mwith\u001b[0m \u001b[0mself\u001b[0m\u001b[0;34m:\u001b[0m\u001b[0;34m\u001b[0m\u001b[0;34m\u001b[0m\u001b[0m\n\u001b[0;32m---> 68\u001b[0;31m             \u001b[0;32mreturn\u001b[0m \u001b[0mself\u001b[0m\u001b[0;34m.\u001b[0m\u001b[0mfn\u001b[0m\u001b[0;34m(\u001b[0m\u001b[0;34m*\u001b[0m\u001b[0margs\u001b[0m\u001b[0;34m,\u001b[0m \u001b[0;34m**\u001b[0m\u001b[0mkwargs\u001b[0m\u001b[0;34m)\u001b[0m\u001b[0;34m\u001b[0m\u001b[0;34m\u001b[0m\u001b[0m\n\u001b[0m\u001b[1;32m     69\u001b[0m \u001b[0;34m\u001b[0m\u001b[0m\n\u001b[1;32m     70\u001b[0m \u001b[0;34m\u001b[0m\u001b[0m\n",
      "\u001b[0;32m<ipython-input-22-3125ac4bcca2>\u001b[0m in \u001b[0;36mmodel\u001b[0;34m(data)\u001b[0m\n\u001b[1;32m     50\u001b[0m     \u001b[0;32mwith\u001b[0m \u001b[0mnumpyro\u001b[0m\u001b[0;34m.\u001b[0m\u001b[0mplate\u001b[0m\u001b[0;34m(\u001b[0m\u001b[0;34m\"prob_plate\"\u001b[0m\u001b[0;34m,\u001b[0m \u001b[0mnHypotheses\u001b[0m\u001b[0;34m)\u001b[0m\u001b[0;34m:\u001b[0m\u001b[0;34m\u001b[0m\u001b[0;34m\u001b[0m\u001b[0m\n\u001b[1;32m     51\u001b[0m         \u001b[0mconc\u001b[0m \u001b[0;34m=\u001b[0m \u001b[0mnumpyro\u001b[0m\u001b[0;34m.\u001b[0m\u001b[0msample\u001b[0m\u001b[0;34m(\u001b[0m\u001b[0;34m'conc'\u001b[0m\u001b[0;34m,\u001b[0m \u001b[0mExponential\u001b[0m\u001b[0;34m(\u001b[0m\u001b[0mnp\u001b[0m\u001b[0;34m.\u001b[0m\u001b[0mones\u001b[0m\u001b[0;34m(\u001b[0m\u001b[0mkConditions\u001b[0m\u001b[0;34m)\u001b[0m \u001b[0;34m/\u001b[0m \u001b[0mkConditions\u001b[0m\u001b[0;34m)\u001b[0m\u001b[0;34m.\u001b[0m\u001b[0mto_event\u001b[0m\u001b[0;34m(\u001b[0m\u001b[0;36m1\u001b[0m\u001b[0;34m)\u001b[0m\u001b[0;34m)\u001b[0m\u001b[0;34m\u001b[0m\u001b[0;34m\u001b[0m\u001b[0m\n\u001b[0;32m---> 52\u001b[0;31m         \u001b[0mprobs\u001b[0m \u001b[0;34m=\u001b[0m \u001b[0mnumpyro\u001b[0m\u001b[0;34m.\u001b[0m\u001b[0msample\u001b[0m\u001b[0;34m(\u001b[0m\u001b[0;34m\"probs\"\u001b[0m\u001b[0;34m,\u001b[0m \u001b[0mDirichlet\u001b[0m\u001b[0;34m(\u001b[0m\u001b[0mconc\u001b[0m\u001b[0;34m)\u001b[0m\u001b[0;34m)\u001b[0m \u001b[0;34m*\u001b[0m \u001b[0mpdsAll\u001b[0m\u001b[0;34m\u001b[0m\u001b[0;34m\u001b[0m\u001b[0m\n\u001b[0m\u001b[1;32m     53\u001b[0m \u001b[0;34m\u001b[0m\u001b[0m\n\u001b[1;32m     54\u001b[0m     \u001b[0;32mwith\u001b[0m \u001b[0mnumpyro\u001b[0m\u001b[0;34m.\u001b[0m\u001b[0mplate\u001b[0m\u001b[0;34m(\u001b[0m\u001b[0;34m\"data\"\u001b[0m\u001b[0;34m,\u001b[0m \u001b[0mdata\u001b[0m\u001b[0;34m.\u001b[0m\u001b[0mshape\u001b[0m\u001b[0;34m[\u001b[0m\u001b[0;36m0\u001b[0m\u001b[0;34m]\u001b[0m\u001b[0;34m)\u001b[0m\u001b[0;34m:\u001b[0m\u001b[0;34m\u001b[0m\u001b[0;34m\u001b[0m\u001b[0m\n",
      "\u001b[0;32m~/miniconda3/lib/python3.7/site-packages/numpyro/primitives.py\u001b[0m in \u001b[0;36msample\u001b[0;34m(name, fn, obs, rng_key, sample_shape, infer)\u001b[0m\n\u001b[1;32m    112\u001b[0m \u001b[0;34m\u001b[0m\u001b[0m\n\u001b[1;32m    113\u001b[0m     \u001b[0;31m# ...and use apply_stack to send it to the Messengers\u001b[0m\u001b[0;34m\u001b[0m\u001b[0;34m\u001b[0m\u001b[0;34m\u001b[0m\u001b[0m\n\u001b[0;32m--> 114\u001b[0;31m     \u001b[0mmsg\u001b[0m \u001b[0;34m=\u001b[0m \u001b[0mapply_stack\u001b[0m\u001b[0;34m(\u001b[0m\u001b[0minitial_msg\u001b[0m\u001b[0;34m)\u001b[0m\u001b[0;34m\u001b[0m\u001b[0;34m\u001b[0m\u001b[0m\n\u001b[0m\u001b[1;32m    115\u001b[0m     \u001b[0;32mreturn\u001b[0m \u001b[0mmsg\u001b[0m\u001b[0;34m[\u001b[0m\u001b[0;34m'value'\u001b[0m\u001b[0;34m]\u001b[0m\u001b[0;34m\u001b[0m\u001b[0;34m\u001b[0m\u001b[0m\n\u001b[1;32m    116\u001b[0m \u001b[0;34m\u001b[0m\u001b[0m\n",
      "\u001b[0;32m~/miniconda3/lib/python3.7/site-packages/numpyro/primitives.py\u001b[0m in \u001b[0;36mapply_stack\u001b[0;34m(msg)\u001b[0m\n\u001b[1;32m     22\u001b[0m     \u001b[0mpointer\u001b[0m \u001b[0;34m=\u001b[0m \u001b[0;36m0\u001b[0m\u001b[0;34m\u001b[0m\u001b[0;34m\u001b[0m\u001b[0m\n\u001b[1;32m     23\u001b[0m     \u001b[0;32mfor\u001b[0m \u001b[0mpointer\u001b[0m\u001b[0;34m,\u001b[0m \u001b[0mhandler\u001b[0m \u001b[0;32min\u001b[0m \u001b[0menumerate\u001b[0m\u001b[0;34m(\u001b[0m\u001b[0mreversed\u001b[0m\u001b[0;34m(\u001b[0m\u001b[0m_PYRO_STACK\u001b[0m\u001b[0;34m)\u001b[0m\u001b[0;34m)\u001b[0m\u001b[0;34m:\u001b[0m\u001b[0;34m\u001b[0m\u001b[0;34m\u001b[0m\u001b[0m\n\u001b[0;32m---> 24\u001b[0;31m         \u001b[0mhandler\u001b[0m\u001b[0;34m.\u001b[0m\u001b[0mprocess_message\u001b[0m\u001b[0;34m(\u001b[0m\u001b[0mmsg\u001b[0m\u001b[0;34m)\u001b[0m\u001b[0;34m\u001b[0m\u001b[0;34m\u001b[0m\u001b[0m\n\u001b[0m\u001b[1;32m     25\u001b[0m         \u001b[0;31m# When a Messenger sets the \"stop\" field of a message,\u001b[0m\u001b[0;34m\u001b[0m\u001b[0;34m\u001b[0m\u001b[0;34m\u001b[0m\u001b[0m\n\u001b[1;32m     26\u001b[0m         \u001b[0;31m# it prevents any Messengers above it on the stack from being applied.\u001b[0m\u001b[0;34m\u001b[0m\u001b[0;34m\u001b[0m\u001b[0;34m\u001b[0m\u001b[0m\n",
      "\u001b[0;32m~/miniconda3/lib/python3.7/site-packages/numpyro/primitives.py\u001b[0m in \u001b[0;36mprocess_message\u001b[0;34m(self, msg)\u001b[0m\n\u001b[1;32m    314\u001b[0m             \u001b[0moverlap_idx\u001b[0m \u001b[0;34m=\u001b[0m \u001b[0mmax\u001b[0m\u001b[0;34m(\u001b[0m\u001b[0mlen\u001b[0m\u001b[0;34m(\u001b[0m\u001b[0mexpected_shape\u001b[0m\u001b[0;34m)\u001b[0m \u001b[0;34m-\u001b[0m \u001b[0mlen\u001b[0m\u001b[0;34m(\u001b[0m\u001b[0mdist_batch_shape\u001b[0m\u001b[0;34m)\u001b[0m\u001b[0;34m,\u001b[0m \u001b[0;36m0\u001b[0m\u001b[0;34m)\u001b[0m\u001b[0;34m\u001b[0m\u001b[0;34m\u001b[0m\u001b[0m\n\u001b[1;32m    315\u001b[0m             \u001b[0mtrailing_shape\u001b[0m \u001b[0;34m=\u001b[0m \u001b[0mexpected_shape\u001b[0m\u001b[0;34m[\u001b[0m\u001b[0moverlap_idx\u001b[0m\u001b[0;34m:\u001b[0m\u001b[0;34m]\u001b[0m\u001b[0;34m\u001b[0m\u001b[0;34m\u001b[0m\u001b[0m\n\u001b[0;32m--> 316\u001b[0;31m             \u001b[0mbroadcast_shape\u001b[0m \u001b[0;34m=\u001b[0m \u001b[0mlax\u001b[0m\u001b[0;34m.\u001b[0m\u001b[0mbroadcast_shapes\u001b[0m\u001b[0;34m(\u001b[0m\u001b[0mtrailing_shape\u001b[0m\u001b[0;34m,\u001b[0m \u001b[0mtuple\u001b[0m\u001b[0;34m(\u001b[0m\u001b[0mdist_batch_shape\u001b[0m\u001b[0;34m)\u001b[0m\u001b[0;34m)\u001b[0m\u001b[0;34m\u001b[0m\u001b[0;34m\u001b[0m\u001b[0m\n\u001b[0m\u001b[1;32m    317\u001b[0m             \u001b[0mbatch_shape\u001b[0m \u001b[0;34m=\u001b[0m \u001b[0mexpected_shape\u001b[0m\u001b[0;34m[\u001b[0m\u001b[0;34m:\u001b[0m\u001b[0moverlap_idx\u001b[0m\u001b[0;34m]\u001b[0m \u001b[0;34m+\u001b[0m \u001b[0mbroadcast_shape\u001b[0m\u001b[0;34m\u001b[0m\u001b[0;34m\u001b[0m\u001b[0m\n\u001b[1;32m    318\u001b[0m             \u001b[0mmsg\u001b[0m\u001b[0;34m[\u001b[0m\u001b[0;34m'fn'\u001b[0m\u001b[0;34m]\u001b[0m \u001b[0;34m=\u001b[0m \u001b[0mmsg\u001b[0m\u001b[0;34m[\u001b[0m\u001b[0;34m'fn'\u001b[0m\u001b[0;34m]\u001b[0m\u001b[0;34m.\u001b[0m\u001b[0mexpand\u001b[0m\u001b[0;34m(\u001b[0m\u001b[0mbatch_shape\u001b[0m\u001b[0;34m)\u001b[0m\u001b[0;34m\u001b[0m\u001b[0;34m\u001b[0m\u001b[0m\n",
      "\u001b[0;32m~/miniconda3/lib/python3.7/site-packages/jax/lax/lax.py\u001b[0m in \u001b[0;36mbroadcast_shapes\u001b[0;34m(*shapes)\u001b[0m\n\u001b[1;32m     80\u001b[0m   \u001b[0;32mif\u001b[0m \u001b[0mresult_shape\u001b[0m \u001b[0;32mis\u001b[0m \u001b[0;32mNone\u001b[0m\u001b[0;34m:\u001b[0m\u001b[0;34m\u001b[0m\u001b[0;34m\u001b[0m\u001b[0m\n\u001b[1;32m     81\u001b[0m     raise ValueError(\"Incompatible shapes for broadcasting: {}\"\n\u001b[0;32m---> 82\u001b[0;31m                      .format(tuple(map(tuple, shapes))))\n\u001b[0m\u001b[1;32m     83\u001b[0m   \u001b[0;32mreturn\u001b[0m \u001b[0mresult_shape\u001b[0m\u001b[0;34m\u001b[0m\u001b[0;34m\u001b[0m\u001b[0m\n\u001b[1;32m     84\u001b[0m \u001b[0;34m\u001b[0m\u001b[0m\n",
      "\u001b[0;31mValueError\u001b[0m: Incompatible shapes for broadcasting: ((12,), (6,))"
     ]
    }
   ],
   "source": [
    "numpyro_data_shallow = arviz.from_numpyro(\n",
    "    mcmc1shallow,\n",
    "    prior=prior,\n",
    "    posterior_predictive=posterior_predictive,\n",
    "    #coords={\"school\": np.arange(4)},\n",
    "    #dims={\"theta\": [\"school\"]},\n",
    ")\n",
    "numpyro_data"
   ]
  },
  {
   "cell_type": "code",
   "execution_count": 37,
   "metadata": {},
   "outputs": [
    {
     "output_type": "execute_result",
     "data": {
      "text/plain": [
       "array([0, 1, 2, 3, 4, 5, 6, 7, 8, 9])"
      ]
     },
     "metadata": {},
     "execution_count": 37
    }
   ],
   "source": [
    "np.arange(10)"
   ]
  },
  {
   "cell_type": "code",
   "execution_count": 23,
   "metadata": {},
   "outputs": [
    {
     "output_type": "stream",
     "name": "stderr",
     "text": [
      "sample: 100%|██████████| 1100/1100 [18:14<00:00,  1.01it/s, 255 steps of size 3.91e-02. acc. prob=0.85]\n",
      "\n",
      "                mean       std    median      5.0%     95.0%     n_eff     r_hat\n",
      "   beta[0]      0.09      0.03      0.09      0.05      0.14   1080.65      1.00\n",
      "   beta[1]      0.12      0.03      0.12      0.08      0.17   1103.77      1.00\n",
      "   beta[2]      0.19      0.04      0.18      0.12      0.26    842.57      1.00\n",
      "   beta[3]      1.00      0.00      1.00      1.00      1.00    854.48      1.00\n",
      "   beta[4]      0.96      0.14      1.00      0.96      1.00    843.71      1.00\n",
      " conc[0,0]      5.59      3.28      5.09      1.10     10.35   1099.94      1.00\n",
      " conc[0,1]      6.21      3.45      5.65      0.72     10.82    824.72      1.00\n",
      " conc[0,2]      3.82      2.39      3.35      0.37      7.01   1015.74      1.00\n",
      " conc[0,3]      2.10      1.34      1.86      0.08      3.89   1173.33      1.00\n",
      " conc[1,0]      6.72      3.91      6.09      0.91     12.24    919.07      1.01\n",
      " conc[1,1]      5.73      3.42      5.20      0.52     10.33    916.36      1.00\n",
      " conc[1,2]      2.36      1.54      2.10      0.15      4.62   1210.13      1.00\n",
      " conc[1,3]      2.45      1.50      2.13      0.21      4.51   1004.76      1.00\n",
      " conc[2,0]      7.44      4.43      6.87      0.67     13.31    669.16      1.00\n",
      " conc[2,1]      2.81      1.72      2.55      0.25      5.31    902.46      1.00\n",
      " conc[2,2]      4.94      3.01      4.44      0.48      9.09    758.97      1.00\n",
      " conc[2,3]      2.10      1.29      1.88      0.09      3.88    910.19      1.00\n",
      " conc[3,0]      8.88      5.28      7.62      1.16     16.12    899.46      1.00\n",
      " conc[3,1]      3.28      2.01      2.95      0.22      6.04   1121.49      1.00\n",
      " conc[3,2]      3.26      2.01      2.84      0.42      6.11   1112.23      1.00\n",
      " conc[3,3]      1.37      0.87      1.18      0.16      2.55   1246.06      1.00\n",
      " conc[4,0]      4.32      4.14      2.97      0.08      9.93    576.79      1.00\n",
      " conc[4,1]      3.79      3.49      2.70      0.06      8.68    625.28      1.00\n",
      " conc[4,2]      4.17      3.98      2.99      0.02      9.52    628.30      1.00\n",
      " conc[4,3]      4.00      4.02      2.80      0.03      9.05    764.08      1.00\n",
      " conc[5,0]      4.33      4.09      3.06      0.05      9.64    658.15      1.00\n",
      " conc[5,1]      4.06      4.16      2.74      0.04      9.64    868.24      1.00\n",
      " conc[5,2]      4.13      4.03      2.79      0.03      9.10    699.21      1.00\n",
      " conc[5,3]      3.85      3.60      2.79      0.02      8.44    937.23      1.00\n",
      "probs[0,0]      0.33      0.02      0.33      0.31      0.36    914.56      1.00\n",
      "probs[0,1]      0.38      0.02      0.38      0.35      0.40    836.11      1.00\n",
      "probs[0,2]      0.21      0.02      0.21      0.18      0.25   1065.51      1.00\n",
      "probs[0,3]      0.08      0.01      0.08      0.07      0.09   1151.14      1.00\n",
      "probs[1,0]      0.43      0.02      0.42      0.39      0.46   1341.15      1.00\n",
      "probs[1,1]      0.36      0.02      0.36      0.33      0.38    990.04      1.00\n",
      "probs[1,2]      0.10      0.02      0.11      0.08      0.13   1157.64      1.00\n",
      "probs[1,3]      0.11      0.01      0.11      0.10      0.12    925.35      1.00\n",
      "probs[2,0]      0.48      0.01      0.48      0.46      0.50    921.58      1.00\n",
      "probs[2,1]      0.14      0.01      0.14      0.12      0.16   1135.34      1.00\n",
      "probs[2,2]      0.30      0.01      0.30      0.27      0.32    843.62      1.00\n",
      "probs[2,3]      0.09      0.01      0.08      0.08      0.09    941.29      1.00\n",
      "probs[3,0]      0.61      0.00      0.61      0.60      0.62    961.52      1.00\n",
      "probs[3,1]      0.18      0.00      0.18      0.17      0.18   1347.65      1.00\n",
      "probs[3,2]      0.17      0.00      0.17      0.17      0.18   1041.19      1.00\n",
      "probs[3,3]      0.04      0.00      0.04      0.04      0.04    831.05      1.00\n",
      "probs[4,0]      0.26      0.22      0.21      0.00      0.60    480.86      1.00\n",
      "probs[4,1]      0.24      0.21      0.17      0.00      0.54    507.36      1.00\n",
      "probs[4,2]      0.26      0.22      0.20      0.00      0.60    473.24      1.00\n",
      "probs[4,3]      0.24      0.22      0.18      0.00      0.58    442.43      1.00\n",
      "probs[5,0]      0.27      0.22      0.22      0.00      0.60    436.57      1.00\n",
      "probs[5,1]      0.25      0.21      0.20      0.00      0.57    807.62      1.00\n",
      "probs[5,2]      0.25      0.21      0.19      0.00      0.57    544.92      1.00\n",
      "probs[5,3]      0.23      0.21      0.18      0.00      0.56    732.03      1.00\n",
      "\n",
      "Number of divergences: 0\n"
     ]
    }
   ],
   "source": [
    "init_rng_key = random.PRNGKey(12273)\n",
    "mcmc1 = MCMC(NUTS(model), 100, 1000)\n",
    "mcmc1.run(init_rng_key, altCounts)\n",
    "mcmc1.print_summary()"
   ]
  },
  {
   "cell_type": "code",
   "execution_count": 29,
   "metadata": {},
   "outputs": [
    {
     "output_type": "stream",
     "name": "stdout",
     "text": [
      "[[0.33270817 0.37618553 0.21040757 0.08069873]\n [0.4251387  0.35759294 0.10496525 0.11230311]\n [0.47797731 0.14030328 0.29655883 0.08516059]\n [0.60855083 0.1766796  0.1736899  0.04107967]\n [0.26369594 0.23635565 0.2559624  0.24398601]\n [0.26940583 0.24730769 0.2488597  0.23442678]]\ninferred stick-breaking weights mean:  [0.0939588  0.11084216 0.15024856 0.64666142 0.0011599  0.0010021 ]\ninferred stick-breaking weights stdd:  [0.04095458 0.03663405 0.04084136 0.03801109 0.03163265 0.03159112]\n"
     ]
    }
   ],
   "source": [
    "# Scaling by pDs gives absolutely no difference in concentrations or probabilities.\n",
    "prob1 = mcmc1.get_samples()[\"probs\"]\n",
    "print(prob1.mean(0))\n",
    "\n",
    "betaScaled1 = mcmc1.get_samples()['beta']\n",
    "weights = mix_weights(betaScaled1)\n",
    "print(\"inferred stick-breaking weights mean: \", weights.mean(0))\n",
    "print(\"inferred stick-breaking weights stdd: \", weights.std(0))\n",
    "\n",
    "# From mcmc1_shallow\n",
    "# [[0.60656712 0.17642251 0.17525303 0.04175734]\n",
    "#  [0.42100628 0.36000387 0.10713235 0.1118575 ]\n",
    "#  [0.33178829 0.37489053 0.21369736 0.07962382]\n",
    "#  [0.47265644 0.137683   0.30226671 0.08739385]\n",
    "#  [0.23760629 0.27085968 0.27056135 0.22097268]\n",
    "#  [0.2548273  0.25773358 0.25803269 0.22940642]]\n",
    "# inferred stick-breaking weights mean:  [0.66354108 0.11508379 0.08999172 0.13439935 0.00110567 0.00100078]\n",
    "# inferred stick-breaking weights stdd:  [0.03528769 0.03073997 0.03062832 0.04267356 0.0315201  0.03159113]\n"
   ]
  },
  {
   "cell_type": "code",
   "execution_count": 144,
   "metadata": {},
   "outputs": [],
   "source": [
    "def plot_param_post(params, param_name, param_full_name, figsize=(12, 4),\n",
    "                    truth=None, plot_trace=True):\n",
    "    if plot_trace:\n",
    "        plt.figure(figsize=figsize)\n",
    "        \n",
    "    param = params[param_name]\n",
    "\n",
    "    if plot_trace:\n",
    "        plt.subplot(1, 2, 1)\n",
    "        \n",
    "    plt.boxplot(param.T, whis=[2.5, 97.5], showmeans=True, showfliers=False)\n",
    "    plt.xlabel('mixture components')\n",
    "    plt.ylabel(param_full_name)\n",
    "    plt.title('95% Credible Intervals for {}'.format(param_full_name))\n",
    "    if truth is not None:\n",
    "        for line in truth:\n",
    "            plt.axhline(line, ls=':')\n",
    "\n",
    "    if plot_trace:\n",
    "        plt.subplot(1, 2, 2)\n",
    "        plt.plot(param)\n",
    "        plt.xlabel('iterations')\n",
    "        plt.ylabel(param_full_name)\n",
    "        plt.title('Trace plot of {}'.format(param_full_name))\n"
   ]
  },
  {
   "cell_type": "code",
   "execution_count": 147,
   "metadata": {},
   "outputs": [
    {
     "output_type": "execute_result",
     "data": {
      "text/plain": [
       "tensor([0.7508, 0.1023, 0.0984, 0.0485])"
      ]
     },
     "metadata": {},
     "execution_count": 147
    }
   ],
   "source": [
    "n0 = len(liabData55cov[\"unaffectedGenes\"])\n",
    "n1 = len(liabData55cov[\"affectedGenes\"][0])\n",
    "n2 = len(liabData55cov[\"affectedGenes\"][1])\n",
    "nBoth = len(liabData55cov[\"affectedGenes\"][2])\n",
    "\n",
    "pisEmpirical = tensor([n0, n1, n2, nBoth]) / tensor(float((n0 + n1 + n2 + nBoth)))\n",
    "pisEmpirical"
   ]
  },
  {
   "cell_type": "code",
   "execution_count": 20,
   "metadata": {},
   "outputs": [
    {
     "output_type": "execute_result",
     "data": {
      "text/plain": [
       "tensor([0.5946, 0.1784, 0.1784, 0.0476], dtype=torch.float64)"
      ]
     },
     "metadata": {},
     "execution_count": 20
    }
   ],
   "source": [
    "liabData55cov[\"afs\"][liabData55cov[\"unaffectedGenes\"]].mean(0) / liabParams55cov[\"afMean\"]"
   ]
  },
  {
   "cell_type": "code",
   "execution_count": 31,
   "metadata": {},
   "outputs": [
    {
     "output_type": "error",
     "ename": "ValueError",
     "evalue": "operands could not be broadcast together with shapes (15047,4) (20000,) ",
     "traceback": [
      "\u001b[0;31m---------------------------------------------------------------------------\u001b[0m",
      "\u001b[0;31mValueError\u001b[0m                                Traceback (most recent call last)",
      "\u001b[0;32m<ipython-input-31-aadd0c2a06e2>\u001b[0m in \u001b[0;36m<module>\u001b[0;34m\u001b[0m\n\u001b[0;32m----> 1\u001b[0;31m \u001b[0;34m(\u001b[0m\u001b[0mliabData55cov\u001b[0m\u001b[0;34m[\u001b[0m\u001b[0;34m\"afs\"\u001b[0m\u001b[0;34m]\u001b[0m\u001b[0;34m[\u001b[0m\u001b[0mliabData55cov\u001b[0m\u001b[0;34m[\u001b[0m\u001b[0;34m\"unaffectedGenes\"\u001b[0m\u001b[0;34m]\u001b[0m\u001b[0;34m]\u001b[0m \u001b[0;34m/\u001b[0m \u001b[0mempiricalAfs\u001b[0m\u001b[0;34m.\u001b[0m\u001b[0mT\u001b[0m\u001b[0;34m)\u001b[0m\u001b[0;34m.\u001b[0m\u001b[0msum\u001b[0m\u001b[0;34m(\u001b[0m\u001b[0;36m1\u001b[0m\u001b[0;34m)\u001b[0m\u001b[0;34m\u001b[0m\u001b[0;34m\u001b[0m\u001b[0m\n\u001b[0m",
      "\u001b[0;31mValueError\u001b[0m: operands could not be broadcast together with shapes (15047,4) (20000,) "
     ]
    }
   ],
   "source": [
    "(liabData55cov[\"afs\"][liabData55cov[\"unaffectedGenes\"]] / empiricalAfs[liabData55cov[\"unaffectedGenes\"]].T).sum(1)"
   ]
  },
  {
   "cell_type": "code",
   "execution_count": 28,
   "metadata": {},
   "outputs": [
    {
     "output_type": "execute_result",
     "data": {
      "text/plain": [
       "tensor([9.1548e-05, 1.1249e-04, 9.7812e-05,  ..., 1.1564e-04, 1.0539e-04,\n",
       "        1.2242e-04], dtype=torch.float64)"
      ]
     },
     "metadata": {},
     "execution_count": 28
    }
   ],
   "source": [
    "(liabData55cov[\"afs\"][liabData55cov[\"unaffectedGenes\"]]).sum(1)"
   ]
  },
  {
   "cell_type": "code",
   "execution_count": 30,
   "metadata": {},
   "outputs": [
    {
     "output_type": "execute_result",
     "data": {
      "text/plain": [
       "array([8.33333333e-05, 1.07142857e-04, 9.52380952e-05, ...,\n",
       "       1.42857143e-04, 9.52380952e-05, 1.19047619e-04])"
      ]
     },
     "metadata": {},
     "execution_count": 30
    }
   ],
   "source": [
    "empiricalAfs"
   ]
  },
  {
   "cell_type": "code",
   "execution_count": 11,
   "metadata": {},
   "outputs": [
    {
     "output_type": "stream",
     "name": "stdout",
     "text": [
      "pdv tensor([0.6348, 0.1904, 0.1904, 0.0508], dtype=torch.float64)\npdv scaled tensor([0.5952, 0.1786, 0.1786, 0.0476], dtype=torch.float64)\n"
     ]
    }
   ],
   "source": [
    "pdv = (liabData55cov[\"afs\"][liabData55cov[\"unaffectedGenes\"]] / np.array([empiricalAfs[liabData55cov[\"unaffectedGenes\"]]]).T).mean(0)\n",
    "print(\"pdv\", pdv)\n",
    "print(\"pdv scaled\", pdv/pdv.sum())"
   ]
  },
  {
   "cell_type": "code",
   "execution_count": 12,
   "metadata": {},
   "outputs": [
    {
     "output_type": "stream",
     "name": "stdout",
     "text": [
      "pdv tensor([0.6330, 0.1899, 0.1899, 0.0506], dtype=torch.float64)\npdv scaled tensor([0.5952, 0.1786, 0.1786, 0.0476], dtype=torch.float64)\n"
     ]
    }
   ],
   "source": [
    "pdv = (liabData55cov[\"afs\"][liabData55cov[\"unaffectedGenes\"]].mean(0) / np.array([empiricalAfs[liabData55cov[\"unaffectedGenes\"]]]).T.mean(0))\n",
    "print(\"pdv\", pdv)\n",
    "print(\"pdv scaled\", pdv/pdv.sum())"
   ]
  },
  {
   "cell_type": "code",
   "execution_count": 13,
   "metadata": {},
   "outputs": [
    {
     "output_type": "stream",
     "name": "stdout",
     "text": [
      "pdv tensor([0.4202, 0.3903, 0.1305, 0.1041], dtype=torch.float64)\npdv scaled tensor([0.4020, 0.3735, 0.1249, 0.0996], dtype=torch.float64)\npdv1 tensor([0.5729, 0.5453, 0.1782, 0.1454], dtype=torch.float64)\npdv2 tensor([0.4202, 0.3903, 0.1305, 0.1041], dtype=torch.float64)\nafAffected0Mean tensor([5.7286e-05, 5.4534e-05, 1.7816e-05, 1.4542e-05], dtype=torch.float64)\npdv1 scaled tensor([0.3973, 0.3782, 0.1236, 0.1009], dtype=torch.float64)\npdv2 scaled tensor([0.4020, 0.3735, 0.1249, 0.0996], dtype=torch.float64)\n"
     ]
    }
   ],
   "source": [
    "pdv = (liabData55cov[\"afs\"][liabData55cov[\"affectedGenes\"][0]] / np.array([empiricalAfs[liabData55cov[\"affectedGenes\"][0]]]).T).mean(0)\n",
    "print(\"pdv\", pdv)\n",
    "print(\"pdv scaled\", pdv/pdv.sum())\n",
    "\n",
    "pdv1 = (liabData55cov[\"afs\"][liabData55cov[\"affectedGenes\"][0]]).mean(0) / liabParams55cov[\"afMean\"]\n",
    "pdv2 = (liabData55cov[\"afs\"][liabData55cov[\"affectedGenes\"][0]] / np.array([empiricalAfs\n",
    "[liabData55cov[\"affectedGenes\"][0]]]).T).mean(0)\n",
    "afAffected0Mean = (liabData55cov[\"afs\"][liabData55cov[\"affectedGenes\"][0]]).mean(0) \n",
    "print(\"pdv1\", pdv1)# PD|V\n",
    "print(\"pdv2\", pdv2)# PD|V\n",
    "print(\"afAffected0Mean\", afAffected0Mean)\n",
    "print(\"pdv1 scaled\", pdv1/pdv1.sum())\n",
    "print(\"pdv2 scaled\", pdv2/pdv2.sum())"
   ]
  },
  {
   "cell_type": "code",
   "execution_count": 14,
   "metadata": {},
   "outputs": [
    {
     "output_type": "stream",
     "name": "stdout",
     "text": [
      "pdv tensor([0.5050, 0.1542, 0.3121, 0.0832], dtype=torch.float64)\npdv scaled tensor([0.4788, 0.1462, 0.2960, 0.0789], dtype=torch.float64)\n"
     ]
    }
   ],
   "source": [
    "pdv = (liabData55cov[\"afs\"][liabData55cov[\"affectedGenes\"][1]] / np.array([empiricalAfs[liabData55cov[\"affectedGenes\"][1]]]).T).mean(0)# PD|V\n",
    "print(\"pdv\", pdv)\n",
    "print(\"pdv scaled\", pdv/pdv.sum())"
   ]
  },
  {
   "cell_type": "code",
   "execution_count": 15,
   "metadata": {},
   "outputs": [
    {
     "output_type": "stream",
     "name": "stdout",
     "text": [
      "pdv tensor([0.5707, 0.5524, 0.3697, 0.1230], dtype=torch.float64)\npdv scaled tensor([0.3532, 0.3419, 0.2288, 0.0762], dtype=torch.float64)\n"
     ]
    }
   ],
   "source": [
    "pdv = (liabData55cov[\"afs\"][liabData55cov[\"affectedGenes\"][2]]).mean(0) / liabParams55cov[\"afMean\"]# PD|V\n",
    "print(\"pdv\", pdv)\n",
    "print(\"pdv scaled\", pdv/pdv.sum())"
   ]
  },
  {
   "cell_type": "code",
   "execution_count": 16,
   "metadata": {},
   "outputs": [
    {
     "output_type": "stream",
     "name": "stdout",
     "text": [
      "pdv tensor([0.5707, 0.5524, 0.3697, 0.1230], dtype=torch.float64)\npdvpv tensor([5.7068e-05, 5.5238e-05, 3.6966e-05, 1.2304e-05], dtype=torch.float64)\npdvpv.sum() tensor(0.0002, dtype=torch.float64)\npdvpv scaled tensor([0.3532, 0.3419, 0.2288, 0.0762], dtype=torch.float64)\n"
     ]
    }
   ],
   "source": [
    "pdvpv = (liabData55cov[\"afs\"][liabData55cov[\"affectedGenes\"][2]]).mean(0) #/ liabParams55cov[\"afMean\"]# PD|V\n",
    "pdv = pdvpv / liabParams55cov[\"afMean\"]\n",
    "print(\"pdv\", pdv)\n",
    "print(\"pdvpv\", pdvpv)\n",
    "print(\"pdvpv.sum()\", pdvpv.sum())\n",
    "# This matches our DM results perfectly; so the DM result matches scale\n",
    "# how to allow our pdv values to work ok...\n",
    "print(\"pdvpv scaled\", pdvpv/pdvpv.sum())\n"
   ]
  },
  {
   "cell_type": "code",
   "execution_count": 17,
   "metadata": {},
   "outputs": [
    {
     "output_type": "execute_result",
     "data": {
      "text/plain": [
       "tensor([[4., 4., 3., 0.],\n",
       "        [4., 4., 5., 2.],\n",
       "        [4., 6., 1., 1.],\n",
       "        ...,\n",
       "        [2., 6., 1., 1.],\n",
       "        [5., 1., 4., 0.],\n",
       "        [6., 5., 4., 1.]], dtype=torch.float64)"
      ]
     },
     "metadata": {},
     "execution_count": 17
    }
   ],
   "source": [
    "liabData55cov[\"altCounts\"][liabData55cov[\"affectedGenes\"][2]]"
   ]
  },
  {
   "cell_type": "code",
   "execution_count": 18,
   "metadata": {},
   "outputs": [
    {
     "output_type": "error",
     "ename": "NameError",
     "evalue": "name 'plt' is not defined",
     "traceback": [
      "\u001b[0;31m---------------------------------------------------------------------------\u001b[0m",
      "\u001b[0;31mNameError\u001b[0m                                 Traceback (most recent call last)",
      "\u001b[0;32m<ipython-input-18-5e1312c9bd76>\u001b[0m in \u001b[0;36m<module>\u001b[0;34m\u001b[0m\n\u001b[1;32m      2\u001b[0m \u001b[0mget_ipython\u001b[0m\u001b[0;34m(\u001b[0m\u001b[0;34m)\u001b[0m\u001b[0;34m.\u001b[0m\u001b[0mrun_line_magic\u001b[0m\u001b[0;34m(\u001b[0m\u001b[0;34m'matplotlib'\u001b[0m\u001b[0;34m,\u001b[0m \u001b[0;34m'inline'\u001b[0m\u001b[0;34m)\u001b[0m\u001b[0;34m\u001b[0m\u001b[0;34m\u001b[0m\u001b[0m\n\u001b[1;32m      3\u001b[0m \u001b[0;34m\u001b[0m\u001b[0m\n\u001b[0;32m----> 4\u001b[0;31m \u001b[0mplt\u001b[0m\u001b[0;34m.\u001b[0m\u001b[0mplot\u001b[0m\u001b[0;34m(\u001b[0m\u001b[0mliabData55cov\u001b[0m\u001b[0;34m[\u001b[0m\u001b[0;34m\"altCounts\"\u001b[0m\u001b[0;34m]\u001b[0m\u001b[0;34m)\u001b[0m\u001b[0;34m\u001b[0m\u001b[0;34m\u001b[0m\u001b[0m\n\u001b[0m",
      "\u001b[0;31mNameError\u001b[0m: name 'plt' is not defined"
     ]
    }
   ],
   "source": [
    "import matplotlib.pyplot as plot\n",
    "%matplotlib inline\n",
    "\n",
    "plt.plot(liabData55cov[\"altCounts\"])"
   ]
  },
  {
   "cell_type": "code",
   "execution_count": 14,
   "metadata": {},
   "outputs": [
    {
     "output_type": "execute_result",
     "data": {
      "text/plain": [
       "tensor([5.7571e-05, 5.5241e-05, 3.7103e-05, 1.2332e-05], dtype=torch.float64)"
      ]
     },
     "metadata": {},
     "execution_count": 14
    }
   ],
   "source": [
    "(liabData55cov[\"afs\"][liabData55cov[\"affectedGenes\"][2]]).mean(0) "
   ]
  },
  {
   "cell_type": "code",
   "execution_count": 15,
   "metadata": {},
   "outputs": [
    {
     "output_type": "execute_result",
     "data": {
      "text/plain": [
       "tensor([5.7334e-05, 5.5250e-05, 1.7842e-05, 1.4733e-05], dtype=torch.float64)"
      ]
     },
     "metadata": {},
     "execution_count": 15
    }
   ],
   "source": [
    "liabData55cov[\"afs\"][liabData55cov[\"affectedGenes\"][0]].mean(0) "
   ]
  },
  {
   "cell_type": "code",
   "execution_count": 16,
   "metadata": {},
   "outputs": [
    {
     "output_type": "execute_result",
     "data": {
      "text/plain": [
       "[0.5952380895614624, 0.17857143, 0.17857143, 0.04761905]"
      ]
     },
     "metadata": {},
     "execution_count": 16
    }
   ],
   "source": [
    "pdsAllnp"
   ]
  },
  {
   "cell_type": "code",
   "execution_count": 17,
   "metadata": {},
   "outputs": [
    {
     "output_type": "execute_result",
     "data": {
      "text/plain": [
       "tensor(1.0000e-04)"
      ]
     },
     "metadata": {},
     "execution_count": 17
    }
   ],
   "source": [
    "liabParams55cov[\"afMean\"]"
   ]
  },
  {
   "cell_type": "code",
   "execution_count": 18,
   "metadata": {},
   "outputs": [
    {
     "output_type": "execute_result",
     "data": {
      "text/plain": [
       "tensor([5.7334e-05, 5.5250e-05, 1.7842e-05, 1.4733e-05], dtype=torch.float64)"
      ]
     },
     "metadata": {},
     "execution_count": 18
    }
   ],
   "source": [
    "liabData55cov[\"afs\"][liabData55cov[\"affectedGenes\"][0]].mean(0)"
   ]
  },
  {
   "cell_type": "code",
   "execution_count": 19,
   "metadata": {},
   "outputs": [
    {
     "output_type": "execute_result",
     "data": {
      "text/plain": [
       "tensor(1.0000e-04)"
      ]
     },
     "metadata": {},
     "execution_count": 19
    }
   ],
   "source": [
    "liabParams55cov[\"afMean\"]"
   ]
  }
 ]
}