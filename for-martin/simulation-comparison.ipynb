{
 "metadata": {
  "language_info": {
   "codemirror_mode": {
    "name": "ipython",
    "version": 3
   },
   "file_extension": ".py",
   "mimetype": "text/x-python",
   "name": "python",
   "nbconvert_exporter": "python",
   "pygments_lexer": "ipython3",
   "version": "3.7.6-final"
  },
  "orig_nbformat": 2,
  "kernelspec": {
   "name": "python3",
   "display_name": "Python 3"
  }
 },
 "nbformat": 4,
 "nbformat_minor": 2,
 "cells": [
  {
   "cell_type": "code",
   "execution_count": 4,
   "metadata": {},
   "outputs": [
    {
     "output_type": "stream",
     "name": "stdout",
     "text": [
      "The autoreload extension is already loaded. To reload it, use:\n  %reload_ext autoreload\n"
     ]
    }
   ],
   "source": [
    "%load_ext autoreload\n",
    "%autoreload 2\n",
    "%reload_ext autoreload"
   ]
  },
  {
   "cell_type": "code",
   "execution_count": 6,
   "metadata": {},
   "outputs": [],
   "source": [
    "from mvl2 import genData2 as genData\n",
    "from torch import tensor"
   ]
  },
  {
   "cell_type": "code",
   "execution_count": 7,
   "metadata": {},
   "outputs": [
    {
     "output_type": "stream",
     "name": "stdout",
     "text": [
      "PD1 threshold, PD2 threshold tensor(-2.3263) tensor(-2.3263)\n",
      "pDsWithBoth tensor([0.0100, 0.0100, 0.0067], dtype=torch.float64)\n",
      "pdThresh tensor([2.3263, 2.3263])\n",
      "pdTarget tensor([0.0500, 0.0200])\n",
      "pdvthresh tensor([1.6449, 2.0537])\n",
      "meanEffect tensor([0.6815, 0.2726])\n",
      "meanEffectsAcrossAllGenes tensor([0.6815, 0.2726])\n",
      "allEffects tensor([[-0.5716, -0.2140],\n",
      "        [-0.7963, -0.4323],\n",
      "        [-0.6585, -0.2169],\n",
      "        ...,\n",
      "        [-0.4951, -0.1161],\n",
      "        [-0.6276, -0.2512],\n",
      "        [-0.6355, -0.2662]])\n",
      "allEffects[i] tensor([-0.5716, -0.2140])\n",
      "PDBothGivenV.mean tensor(0.0194, dtype=torch.float64)\n",
      "PDBothGivenV / PDBoth tensor(2.8987, dtype=torch.float64)\n",
      "pdsCovarOnMean.mean(0) tensor([0.0508, 0.0205, 0.0194], dtype=torch.float64)\n",
      "np.corrcoef(pdvInBoth[:,0], pdvInBoth[:,1])\n",
      " [[1.         0.94873839]\n",
      " [0.94873839 1.        ]]\n",
      "np.corrcoef(pdvInBoth[:,0], pdvInBoth[:,2])\n",
      " [[1.         0.96079169]\n",
      " [0.96079169 1.        ]]\n",
      "PDBoth1GivenV tensor([0.0415, 0.0241, 0.0234,  ..., 0.0385, 0.0375, 0.0330])\n",
      "PDBoth2GivenV tensor([0.0116, 0.0105, 0.0124,  ..., 0.0113, 0.0153, 0.0107])\n",
      "np.corrcoef(PD1Vsingle, PD2Vsingle)\n",
      " [[ 1.         -0.00529741]\n",
      " [-0.00529741  1.        ]]\n",
      "np.corrcoef(PD1Vsingle, PDBoth1GivenV)\n",
      " [[1. 1.]\n",
      " [1. 1.]]\n",
      "np.corrcoef(PD2Vsingle, PDBoth1GivenV)\n",
      " [[ 1.         -0.00529741]\n",
      " [-0.00529741  1.        ]]\n",
      "np.corrcoef(PD2Vsingle, PDBoth2GivenV)\n",
      " [[1. 1.]\n",
      " [1. 1.]]\n",
      "pdvsGeneAffects1.mean tensor([0.0378, 0.0234, 0.0228,  ..., 0.0353, 0.0345, 0.0307])\n",
      "afs.dist tensor(0.0001) +/- tensor(1.4292e-05)\n",
      "afs.shape torch.Size([20000])\n",
      "afs tensor([9.8773e-05, 8.0791e-05, 7.6877e-05,  ..., 1.1102e-04, 7.2848e-05,\n",
      "        1.2849e-04])\n"
     ]
    }
   ],
   "source": [
    "simParams = genData.genParams(pis=tensor([.1, .1, .05]), rrMeans=tensor([5., 2.]), afMean = tensor(1e-4), pDs = tensor([.01, .01]), afShape=tensor(50.), nCases=tensor([1.5e4, 1.5e4, 4e3]), nCtrls=tensor(5e4), covShared=tensor([ [1, .95], [.95, 1] ]), meanEffectCovarianceScale=tensor(.01))[0]\n",
    "simParams[\"pDs\"] = simParams[\"pDs\"][0:2]\n",
    "sim1 = genData.v6liability(**simParams)\n"
   ]
  },
  {
   "cell_type": "code",
   "execution_count": 10,
   "metadata": {},
   "outputs": [
    {
     "output_type": "stream",
     "name": "stdout",
     "text": [
      "PD1 threshold, PD2 threshold tensor(-2.3263) tensor(-2.3263)\n",
      "pDsWithBoth tensor([0.0100, 0.0100, 0.0067], dtype=torch.float64)\n",
      "pdThresh tensor([2.3263, 2.3263])\n",
      "pdTarget tensor([0.0500, 0.0200])\n",
      "pdvthresh tensor([1.6449, 2.0537])\n",
      "meanEffect tensor([0.6815, 0.2726])\n",
      "meanEffectsAcrossAllGenes tensor([0.6815, 0.2726])\n",
      "allEffects tensor([[-0.6565, -0.2722],\n",
      "        [-0.7032, -0.3167],\n",
      "        [-0.5909, -0.1706],\n",
      "        ...,\n",
      "        [-0.7976, -0.3954],\n",
      "        [-0.6598, -0.2527],\n",
      "        [-0.7704, -0.3520]])\n",
      "allEffects[i] tensor([-0.6565, -0.2722])\n",
      "PDBothGivenV.mean tensor(0.0194, dtype=torch.float64)\n",
      "PDBothGivenV / PDBoth tensor(2.9027, dtype=torch.float64)\n",
      "pdsCovarOnMean.mean(0) tensor([0.0508, 0.0205, 0.0194], dtype=torch.float64)\n",
      "np.corrcoef(pdvInBoth[:,0], pdvInBoth[:,1])\n",
      " [[1.         0.94922391]\n",
      " [0.94922391 1.        ]]\n",
      "np.corrcoef(pdvInBoth[:,0], pdvInBoth[:,2])\n",
      " [[1.         0.96124813]\n",
      " [0.96124813 1.        ]]\n",
      "PDBoth1GivenV tensor([0.0007, 0.0006, 0.0006,  ..., 0.0006, 0.0004, 0.0006],\n",
      "       dtype=torch.float64)\n",
      "PDBoth2GivenV tensor([0.0003, 0.0002, 0.0003,  ..., 0.0002, 0.0001, 0.0002],\n",
      "       dtype=torch.float64)\n",
      "np.corrcoef(PD1Vsingle, PD2Vsingle)\n",
      " [[1.00000000e+00 9.42627044e-04]\n",
      " [9.42627044e-04 1.00000000e+00]]\n",
      "np.corrcoef(PD1Vsingle, PDBoth1GivenV)\n",
      " [[1. 1.]\n",
      " [1. 1.]]\n",
      "np.corrcoef(PD2Vsingle, PDBoth1GivenV)\n",
      " [[1.00000000e+00 9.42621748e-04]\n",
      " [9.42621748e-04 1.00000000e+00]]\n",
      "np.corrcoef(PD2Vsingle, PDBoth2GivenV)\n",
      " [[1. 1.]\n",
      " [1. 1.]]\n",
      "pdvsGeneAffects1.mean tensor([0.0262, 0.0227, 0.0235,  ..., 0.0220, 0.0173, 0.0242],\n",
      "       dtype=torch.float64)\n",
      "afs.dist tensor(9.9986e-05) +/- tensor(1.4163e-05)\n",
      "afs.shape torch.Size([20000])\n",
      "afs tensor([8.5739e-05, 1.0481e-04, 1.0484e-04,  ..., 1.0589e-04, 1.2156e-04,\n",
      "        1.1546e-04])\n"
     ]
    }
   ],
   "source": [
    "sim2 = genData.v6liability2(**simParams)"
   ]
  },
  {
   "cell_type": "code",
   "execution_count": 11,
   "metadata": {},
   "outputs": [
    {
     "output_type": "stream",
     "name": "stdout",
     "text": [
      "PD1 threshold, PD2 threshold tensor(-2.3263) tensor(-2.3263)\n",
      "pDsWithBoth tensor([0.0100, 0.0100, 0.0067], dtype=torch.float64)\n",
      "pdThresh tensor([2.3263, 2.3263])\n",
      "pdTarget tensor([0.0500, 0.0200])\n",
      "pdvthresh tensor([1.6449, 2.0537])\n",
      "meanEffect tensor([0.6815, 0.2726])\n",
      "meanEffectsAcrossAllGenes tensor([0.6815, 0.2726])\n",
      "allEffects tensor([[-0.6556, -0.2824],\n",
      "        [-0.6386, -0.2399],\n",
      "        [-0.9835, -0.5467],\n",
      "        ...,\n",
      "        [-0.6359, -0.2535],\n",
      "        [-0.6975, -0.3003],\n",
      "        [-0.7697, -0.3424]])\n",
      "allEffects[i] tensor([-0.6556, -0.2824])\n",
      "PDBothGivenV.mean tensor(0.0195, dtype=torch.float64)\n",
      "PDBothGivenV / PDBoth tensor(2.9073, dtype=torch.float64)\n",
      "pdsCovarOnMean.mean(0) tensor([0.0509, 0.0205, 0.0195], dtype=torch.float64)\n",
      "np.corrcoef(pdvInBoth[:,0], pdvInBoth[:,1])\n",
      " [[1.         0.94852359]\n",
      " [0.94852359 1.        ]]\n",
      "np.corrcoef(pdvInBoth[:,0], pdvInBoth[:,2])\n",
      " [[1.         0.96060976]\n",
      " [0.96060976 1.        ]]\n",
      "PDBoth1GivenV tensor([0.0099, 0.0098, 0.0100,  ..., 0.0098, 0.0099, 0.0099],\n",
      "       dtype=torch.float64)\n",
      "PDBoth2GivenV tensor([0.0081, 0.0092, 0.0092,  ..., 0.0087, 0.0088, 0.0090],\n",
      "       dtype=torch.float64)\n",
      "np.corrcoef(PD1Vsingle, PD2Vsingle)\n",
      " [[ 1.         -0.00496626]\n",
      " [-0.00496626  1.        ]]\n",
      "np.corrcoef(PD1Vsingle, PDBoth1GivenV)\n",
      " [[1.         0.85866016]\n",
      " [0.85866016 1.        ]]\n",
      "np.corrcoef(PD2Vsingle, PDBoth1GivenV)\n",
      " [[ 1.        -0.0030122]\n",
      " [-0.0030122  1.       ]]\n",
      "np.corrcoef(PD2Vsingle, PDBoth2GivenV)\n",
      " [[1.         0.94091883]\n",
      " [0.94091883 1.        ]]\n",
      "pdvsGeneAffects1.mean tensor([0.0236, 0.0196, 0.0366,  ..., 0.0207, 0.0226, 0.0260],\n",
      "       dtype=torch.float64)\n",
      "afs.dist tensor(0.0001) +/- tensor(1.4201e-05)\n",
      "afs.shape torch.Size([20000])\n",
      "afs tensor([1.3228e-04, 1.0266e-04, 1.0324e-04,  ..., 1.1978e-04, 7.6319e-05,\n",
      "        1.1444e-04])\n"
     ]
    }
   ],
   "source": [
    "sim2 = genData.v6liability2(**simParams)"
   ]
  },
  {
   "cell_type": "code",
   "execution_count": null,
   "metadata": {},
   "outputs": [],
   "source": [
    "sim2 = genData.v6liability2(**simParams)"
   ]
  }
 ]
}