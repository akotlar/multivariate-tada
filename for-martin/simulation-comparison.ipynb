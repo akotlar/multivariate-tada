{
 "metadata": {
  "language_info": {
   "codemirror_mode": {
    "name": "ipython",
    "version": 3
   },
   "file_extension": ".py",
   "mimetype": "text/x-python",
   "name": "python",
   "nbconvert_exporter": "python",
   "pygments_lexer": "ipython3",
   "version": "3.7.6-final"
  },
  "orig_nbformat": 2,
  "kernelspec": {
   "name": "python3",
   "display_name": "Python 3"
  }
 },
 "nbformat": 4,
 "nbformat_minor": 2,
 "cells": [
  {
   "cell_type": "code",
   "execution_count": 1,
   "metadata": {},
   "outputs": [],
   "source": [
    "%load_ext autoreload\n",
    "%autoreload 2\n",
    "%reload_ext autoreload"
   ]
  },
  {
   "cell_type": "code",
   "execution_count": 2,
   "metadata": {},
   "outputs": [],
   "source": [
    "from mvl2 import genData2 as genData\n",
    "from torch import tensor"
   ]
  },
  {
   "cell_type": "code",
   "execution_count": 28,
   "metadata": {},
   "outputs": [
    {
     "output_type": "execute_result",
     "data": {
      "text/plain": [
       "{'nGenes': 20000,\n",
       " 'nCases': tensor([15000., 15000.,  4000.]),\n",
       " 'nCtrls': tensor(50000.),\n",
       " 'pDs': tensor([0.0100, 0.0100]),\n",
       " 'diseaseFractions': tensor([0.1000, 0.1000, 0.0500]),\n",
       " 'rrShape': tensor(10.),\n",
       " 'rrMeans': tensor([3., 2.]),\n",
       " 'afShape': tensor(50.),\n",
       " 'afMean': tensor(1.0000e-04),\n",
       " 'covShared': tensor([[1.0000, 0.9500],\n",
       "         [0.9500, 1.0000]]),\n",
       " 'covSingle': tensor([[1., 0.],\n",
       "         [0., 1.]]),\n",
       " 'meanEffectCovarianceScale': tensor(0.0100),\n",
       " 'rrtype': 'default'}"
      ]
     },
     "metadata": {},
     "execution_count": 28
    }
   ],
   "source": [
    "simParams = genData.genParams(pis=tensor([.1, .1, .05]), rrMeans=tensor([3., 2.]), afMean = tensor(1e-4), pDs = tensor([.01, .01]), afShape=tensor(50.), nCases=tensor([1.5e4, 1.5e4, 4e3]), nCtrls=tensor(5e4), covShared=tensor([ [1, .95], [.95, 1] ]), covSingle=tensor([ [1., 0.], [0., 1.] ]), meanEffectCovarianceScale=tensor(.01))[0]\n",
    "simParams[\"pDs\"] = simParams[\"pDs\"][0:2]\n",
    "simParams"
   ]
  },
  {
   "cell_type": "code",
   "execution_count": 29,
   "metadata": {},
   "outputs": [
    {
     "output_type": "stream",
     "name": "stdout",
     "text": [
      "PD1 threshold, PD2 threshold tensor(-2.3263) tensor(-2.3263)\n",
      "pDsWithBoth tensor([0.0100, 0.0100, 0.0067], dtype=torch.float64)\n",
      "pdThresh tensor([2.3263, 2.3263])\n",
      "pdTarget tensor([0.0300, 0.0200])\n",
      "pdvthresh tensor([1.8808, 2.0537])\n",
      "meanEffect tensor([0.4456, 0.2726])\n",
      "meanEffectsAcrossAllGenes tensor([0.4456, 0.2726])\n",
      "allEffects tensor([[-0.5912, -0.3874],\n",
      "        [-0.5445, -0.2904],\n",
      "        [-0.4218, -0.1910],\n",
      "        ...,\n",
      "        [-0.5521, -0.4431],\n",
      "        [-0.5510, -0.3850],\n",
      "        [-0.4668, -0.2893]])\n",
      "allEffects[i] tensor([-0.5912, -0.3874])\n",
      "PDBothGivenV.mean tensor(0.0171, dtype=torch.float64)\n",
      "PDBothGivenV / PDBoth tensor(2.5554, dtype=torch.float64)\n",
      "pdsCovarOnMean.mean(0) tensor([0.0306, 0.0205, 0.0171], dtype=torch.float64)\n",
      "np.corrcoef(pdvInBoth[:,0], pdvInBoth[:,1])\n",
      " [[1.         0.94901879]\n",
      " [0.94901879 1.        ]]\n",
      "np.corrcoef(pdvInBoth[:,0], pdvInBoth[:,2])\n",
      " [[1.         0.97607459]\n",
      " [0.97607459 1.        ]]\n",
      "PDBoth1GivenV tensor([0.0272, 0.0176, 0.0116,  ..., 0.0264, 0.0258, 0.0266])\n",
      "PDBoth2GivenV tensor([0.0100, 0.0209, 0.0162,  ..., 0.0131, 0.0152, 0.0137])\n",
      "np.corrcoef(PD1Vsingle, PD2Vsingle)\n",
      " [[1.         0.00109183]\n",
      " [0.00109183 1.        ]]\n",
      "np.corrcoef(PD1Vsingle, PDBoth1GivenV)\n",
      " [[1. 1.]\n",
      " [1. 1.]]\n",
      "np.corrcoef(PD2Vsingle, PDBoth1GivenV)\n",
      " [[1.         0.00109183]\n",
      " [0.00109183 1.        ]]\n",
      "np.corrcoef(PD2Vsingle, PDBoth2GivenV)\n",
      " [[1. 1.]\n",
      " [1. 1.]]\n",
      "pdvsGeneAffects1.mean tensor([0.0260, 0.0180, 0.0130,  ..., 0.0253, 0.0247, 0.0255])\n",
      "afs.dist tensor(9.9987e-05) +/- tensor(1.4116e-05)\n",
      "afs.shape torch.Size([20000])\n",
      "afs tensor([9.6276e-05, 1.0549e-04, 1.1108e-04,  ..., 9.4184e-05, 1.0704e-04,\n",
      "        9.9599e-05])\n"
     ]
    }
   ],
   "source": [
    "sim1 = genData.v6liability(**simParams)"
   ]
  },
  {
   "cell_type": "code",
   "execution_count": 30,
   "metadata": {},
   "outputs": [
    {
     "output_type": "stream",
     "name": "stdout",
     "text": [
      "PD1 threshold, PD2 threshold tensor(-2.3263) tensor(-2.3263)\n",
      "tensor([[1., 0.],\n",
      "        [0., 1.]])\n",
      "pDsWithBoth tensor([1.0000e-02, 1.0000e-02, 1.0000e-04], dtype=torch.float64)\n",
      "pdThresh tensor([2.3263, 2.3263])\n",
      "pdTarget tensor([0.0300, 0.0200])\n",
      "pdvthresh tensor([1.8808, 2.0537])\n",
      "meanEffect tensor([0.4456, 0.2726])\n",
      "meanEffectsAcrossAllGenes tensor([0.4456, 0.2726])\n",
      "allEffects tensor([[-0.4690, -0.3061],\n",
      "        [-0.4049, -0.2729],\n",
      "        [-0.4867, -0.2935],\n",
      "        ...,\n",
      "        [-0.5829, -0.4612],\n",
      "        [-0.5425, -0.3836],\n",
      "        [-0.6720, -0.5061]])\n",
      "allEffects[i] tensor([-0.4690, -0.3061])\n",
      "PDBothGivenV.mean tensor(0.0171, dtype=torch.float64)\n",
      "PDBothGivenV / PDBoth tensor(171.4065, dtype=torch.float64)\n",
      "pdsCovarOnMean.mean(0) tensor([0.0306, 0.0205, 0.0171], dtype=torch.float64)\n",
      "np.corrcoef(pdvInBoth[:,0], pdvInBoth[:,1])\n",
      " [[1.         0.94829917]\n",
      " [0.94829917 1.        ]]\n",
      "np.corrcoef(pdvInBoth[:,0], pdvInBoth[:,2])\n",
      " [[1.         0.97567966]\n",
      " [0.97567966 1.        ]]\n",
      "PDBoth1GivenV tensor([0.0004, 0.0003, 0.0005,  ..., 0.0004, 0.0004, 0.0003],\n",
      "       dtype=torch.float64)\n",
      "PDBoth2GivenV tensor([0.0002, 0.0002, 0.0002,  ..., 0.0001, 0.0002, 0.0002],\n",
      "       dtype=torch.float64)\n",
      "np.corrcoef(PD1Vsingle, PD2Vsingle)\n",
      " [[ 1.         -0.00237444]\n",
      " [-0.00237444  1.        ]]\n",
      "np.corrcoef(PD1Vsingle, PDBoth1GivenV)\n",
      " [[1. 1.]\n",
      " [1. 1.]]\n",
      "np.corrcoef(PD2Vsingle, PDBoth1GivenV)\n",
      " [[ 1.         -0.00237445]\n",
      " [-0.00237445  1.        ]]\n",
      "np.corrcoef(PD2Vsingle, PDBoth2GivenV)\n",
      " [[1. 1.]\n",
      " [1. 1.]]\n",
      "pdvsGeneAffects1.mean tensor([0.0173, 0.0128, 0.0187,  ..., 0.0161, 0.0152, 0.0123],\n",
      "       dtype=torch.float64)\n",
      "afs.dist tensor(0.0001) +/- tensor(1.4118e-05)\n",
      "afs.shape torch.Size([20000])\n",
      "afs tensor([1.0428e-04, 1.1083e-04, 8.3626e-05,  ..., 1.0864e-04, 1.0032e-04,\n",
      "        1.1227e-04])\n"
     ]
    }
   ],
   "source": [
    "# with scaling of the covariance matrix when generating P(DBoth), this simply doesn't work\n",
    "# pdBothGenerator = WrappedMVN(MultivariateNormal(tensor([0, 0]), shared_cov_scaled))\n",
    "# PDBoth = tensor(pdBothGenerator.cdf(tensor([thresh1, thresh2])))\n",
    "# pDsWithBoth = tensor([*pDs, PDBoth])\n",
    "sim2 = genData.v6liability2(**simParams)"
   ]
  },
  {
   "cell_type": "code",
   "execution_count": 31,
   "metadata": {},
   "outputs": [
    {
     "output_type": "stream",
     "name": "stdout",
     "text": [
      "PD1 threshold, PD2 threshold tensor(-2.3263) tensor(-2.3263)\n",
      "tensor([[1., 0.],\n",
      "        [0., 1.]])\n",
      "pDsWithBoth tensor([1.0000e-02, 1.0000e-02, 1.0000e-04], dtype=torch.float64)\n",
      "pdThresh tensor([2.3263, 2.3263])\n",
      "pdTarget tensor([0.0300, 0.0200])\n",
      "pdvthresh tensor([1.8808, 2.0537])\n",
      "meanEffect tensor([0.4456, 0.2726])\n",
      "meanEffectsAcrossAllGenes tensor([0.4456, 0.2726])\n",
      "allEffects tensor([[-0.3491, -0.1505],\n",
      "        [-0.5115, -0.3364],\n",
      "        [-0.5128, -0.3306],\n",
      "        ...,\n",
      "        [-0.3645, -0.1908],\n",
      "        [-0.3094, -0.1617],\n",
      "        [-0.6709, -0.4207]])\n",
      "allEffects[i] tensor([-0.3491, -0.1505])\n",
      "PDBothGivenV.mean tensor(0.0171, dtype=torch.float64)\n",
      "PDBothGivenV / PDBoth tensor(171.3695, dtype=torch.float64)\n",
      "pdsCovarOnMean.mean(0) tensor([0.0306, 0.0205, 0.0171], dtype=torch.float64)\n",
      "np.corrcoef(pdvInBoth[:,0], pdvInBoth[:,1])\n",
      " [[1.         0.94866299]\n",
      " [0.94866299 1.        ]]\n",
      "np.corrcoef(pdvInBoth[:,0], pdvInBoth[:,2])\n",
      " [[1.         0.97588382]\n",
      " [0.97588382 1.        ]]\n",
      "PDBoth1GivenV tensor([0.0002, 0.0003, 0.0002,  ..., 0.0003, 0.0003, 0.0003],\n",
      "       dtype=torch.float64)\n",
      "PDBoth2GivenV tensor([0.0002, 0.0002, 0.0002,  ..., 0.0002, 0.0003, 0.0002],\n",
      "       dtype=torch.float64)\n",
      "np.corrcoef(PD1Vsingle, PD2Vsingle)\n",
      " [[1.         0.00457005]\n",
      " [0.00457005 1.        ]]\n",
      "np.corrcoef(PD1Vsingle, PDBoth1GivenV)\n",
      " [[1. 1.]\n",
      " [1. 1.]]\n",
      "np.corrcoef(PD2Vsingle, PDBoth1GivenV)\n",
      " [[1.         0.00457003]\n",
      " [0.00457003 1.        ]]\n",
      "np.corrcoef(PD2Vsingle, PDBoth2GivenV)\n",
      " [[1. 1.]\n",
      " [1. 1.]]\n",
      "pdvsGeneAffects1.mean tensor([0.0106, 0.0129, 0.0117,  ..., 0.0132, 0.0124, 0.0148],\n",
      "       dtype=torch.float64)\n",
      "afs.dist tensor(9.9917e-05) +/- tensor(1.4076e-05)\n",
      "afs.shape torch.Size([20000])\n",
      "afs tensor([1.3987e-04, 7.1901e-05, 1.0597e-04,  ..., 1.0007e-04, 1.0803e-04,\n",
      "        8.6006e-05])\n"
     ]
    }
   ],
   "source": [
    "# With the use of residual covariance, on both PDBoth generation, PDBoth|V, PDBoth|V1, PDBoth|V2\n",
    "# This seems reasonable\n",
    "# But: why not use genetic correlation?\n",
    "# But: what happens when residual covariance isn't just 0?\n",
    "sim3 = genData.v6liability2(**simParams)"
   ]
  },
  {
   "cell_type": "code",
   "execution_count": 32,
   "metadata": {},
   "outputs": [
    {
     "output_type": "execute_result",
     "data": {
      "text/plain": [
       "{'nGenes': 20000,\n",
       " 'nCases': tensor([15000., 15000.,  4000.]),\n",
       " 'nCtrls': tensor(50000.),\n",
       " 'pDs': tensor([0.0100, 0.0100]),\n",
       " 'diseaseFractions': tensor([0.1000, 0.1000, 0.0500]),\n",
       " 'rrShape': tensor(10.),\n",
       " 'rrMeans': tensor([5., 2.]),\n",
       " 'afShape': tensor(50.),\n",
       " 'afMean': tensor(1.0000e-04),\n",
       " 'covShared': tensor([[1.0000, 0.9500],\n",
       "         [0.9500, 1.0000]]),\n",
       " 'covSingle': tensor([[1.0000, 0.5000],\n",
       "         [0.5000, 1.0000]]),\n",
       " 'meanEffectCovarianceScale': tensor(0.0100),\n",
       " 'rrtype': 'default'}"
      ]
     },
     "metadata": {},
     "execution_count": 32
    }
   ],
   "source": [
    "simParams2 = genData.genParams(pis=tensor([.1, .1, .05]), rrMeans=tensor([5., 2.]), afMean = tensor(1e-4), pDs = tensor([.01, .01]), afShape=tensor(50.), nCases=tensor([1.5e4, 1.5e4, 4e3]), nCtrls=tensor(5e4), covShared=tensor([ [1, .95], [.95, 1] ]), covSingle=tensor([ [1., .5], [.5, 1.] ]), meanEffectCovarianceScale=tensor(.01))[0]\n",
    "simParams2[\"pDs\"] = simParams[\"pDs\"][0:2]\n",
    "simParams2"
   ]
  },
  {
   "cell_type": "code",
   "execution_count": 33,
   "metadata": {},
   "outputs": [
    {
     "output_type": "stream",
     "name": "stdout",
     "text": [
      "PD1 threshold, PD2 threshold tensor(-2.3263) tensor(-2.3263)\n",
      "tensor([[1.0000, 0.5000],\n",
      "        [0.5000, 1.0000]])\n",
      "pDsWithBoth tensor([0.0100, 0.0100, 0.0013], dtype=torch.float64)\n",
      "pdThresh tensor([2.3263, 2.3263])\n",
      "pdTarget tensor([0.0500, 0.0200])\n",
      "pdvthresh tensor([1.6449, 2.0537])\n",
      "meanEffect tensor([0.6815, 0.2726])\n",
      "meanEffectsAcrossAllGenes tensor([0.6815, 0.2726])\n",
      "allEffects tensor([[-0.6739, -0.2165],\n",
      "        [-0.7634, -0.3634],\n",
      "        [-0.6017, -0.1836],\n",
      "        ...,\n",
      "        [-0.8355, -0.4064],\n",
      "        [-0.6271, -0.2222],\n",
      "        [-0.4784, -0.0431]])\n",
      "allEffects[i] tensor([-0.6739, -0.2165])\n",
      "PDBothGivenV.mean tensor(0.0194, dtype=torch.float64)\n",
      "PDBothGivenV / PDBoth tensor(14.9867, dtype=torch.float64)\n",
      "pdsCovarOnMean.mean(0) tensor([0.0508, 0.0205, 0.0194], dtype=torch.float64)\n",
      "np.corrcoef(pdvInBoth[:,0], pdvInBoth[:,1])\n",
      " [[1.         0.94737252]\n",
      " [0.94737252 1.        ]]\n",
      "np.corrcoef(pdvInBoth[:,0], pdvInBoth[:,2])\n",
      " [[1.         0.95975758]\n",
      " [0.95975758 1.        ]]\n",
      "PDBoth1GivenV tensor([0.0035, 0.0043, 0.0031,  ..., 0.0049, 0.0035, 0.0031],\n",
      "       dtype=torch.float64)\n",
      "PDBoth2GivenV tensor([0.0016, 0.0024, 0.0021,  ..., 0.0024, 0.0016, 0.0015],\n",
      "       dtype=torch.float64)\n",
      "np.corrcoef(PD1Vsingle, PD2Vsingle)\n",
      " [[1.         0.49453411]\n",
      " [0.49453411 1.        ]]\n",
      "np.corrcoef(PD1Vsingle, PDBoth1GivenV)\n",
      " [[1.         0.99615956]\n",
      " [0.99615956 1.        ]]\n",
      "np.corrcoef(PD2Vsingle, PDBoth1GivenV)\n",
      " [[1.        0.4949256]\n",
      " [0.4949256 1.       ]]\n",
      "np.corrcoef(PD2Vsingle, PDBoth2GivenV)\n",
      " [[1.         0.99691981]\n",
      " [0.99691981 1.        ]]\n",
      "pdvsGeneAffects1.mean tensor([0.0205, 0.0276, 0.0170,  ..., 0.0340, 0.0207, 0.0174],\n",
      "       dtype=torch.float64)\n",
      "afs.dist tensor(1.0000e-04) +/- tensor(1.4089e-05)\n",
      "afs.shape torch.Size([20000])\n",
      "afs tensor([1.2847e-04, 8.8838e-05, 9.2538e-05,  ..., 8.6392e-05, 1.2990e-04,\n",
      "        9.5077e-05])\n"
     ]
    }
   ],
   "source": [
    "sim4 = genData.v6liability2(**simParams2)"
   ]
  },
  {
   "cell_type": "code",
   "execution_count": 34,
   "metadata": {},
   "outputs": [
    {
     "output_type": "stream",
     "name": "stdout",
     "text": [
      "PD1 threshold, PD2 threshold tensor(-2.3263) tensor(-2.3263)\n",
      "tensor([[1.0000, 0.5000],\n",
      "        [0.5000, 1.0000]])\n",
      "pDsWithBoth tensor([0.0100, 0.0100, 0.0013], dtype=torch.float64)\n",
      "pdThresh tensor([2.3263, 2.3263])\n",
      "pdTarget tensor([0.0500, 0.0200])\n",
      "pdvthresh tensor([1.6449, 2.0537])\n",
      "meanEffect tensor([0.6815, 0.2726])\n",
      "meanEffectsAcrossAllGenes tensor([0.6815, 0.2726])\n",
      "allEffects tensor([[-0.7115, -0.3450],\n",
      "        [-0.7959, -0.3859],\n",
      "        [-0.6815, -0.2753],\n",
      "        ...,\n",
      "        [-0.7774, -0.3171],\n",
      "        [-0.6378, -0.2253],\n",
      "        [-0.6918, -0.2600]])\n",
      "allEffects[i] tensor([-0.7115, -0.3450])\n",
      "PDBothGivenV.mean tensor(0.0195, dtype=torch.float64)\n",
      "PDBothGivenV / PDBoth tensor(15.0358, dtype=torch.float64)\n",
      "pdsCovarOnMean.mean(0) tensor([0.0509, 0.0205, 0.0195], dtype=torch.float64)\n",
      "np.corrcoef(pdvInBoth[:,0], pdvInBoth[:,1])\n",
      " [[1.         0.94953983]\n",
      " [0.94953983 1.        ]]\n",
      "np.corrcoef(pdvInBoth[:,0], pdvInBoth[:,2])\n",
      " [[1.         0.96133531]\n",
      " [0.96133531 1.        ]]\n",
      "PDBoth1GivenV tensor([0.0038, 0.0044, 0.0030,  ..., 0.0041, 0.0038, 0.0039],\n",
      "       dtype=torch.float64)\n",
      "PDBoth2GivenV tensor([0.0022, 0.0026, 0.0021,  ..., 0.0028, 0.0025, 0.0026],\n",
      "       dtype=torch.float64)\n",
      "np.corrcoef(PD1Vsingle, PD2Vsingle)\n",
      " [[1.         0.48646469]\n",
      " [0.48646469 1.        ]]\n",
      "np.corrcoef(PD1Vsingle, PDBoth1GivenV)\n",
      " [[1.         0.99632903]\n",
      " [0.99632903 1.        ]]\n",
      "np.corrcoef(PD2Vsingle, PDBoth1GivenV)\n",
      " [[1.         0.48676699]\n",
      " [0.48676699 1.        ]]\n",
      "np.corrcoef(PD2Vsingle, PDBoth2GivenV)\n",
      " [[1.         0.99697573]\n",
      " [0.99697573 1.        ]]\n",
      "pdvsGeneAffects1.mean tensor([0.0232, 0.0282, 0.0167,  ..., 0.0253, 0.0224, 0.0238],\n",
      "       dtype=torch.float64)\n",
      "afs.dist tensor(0.0001) +/- tensor(1.4167e-05)\n",
      "afs.shape torch.Size([20000])\n",
      "afs tensor([9.4039e-05, 9.2876e-05, 1.1466e-04,  ..., 8.9781e-05, 8.7982e-05,\n",
      "        1.1379e-04])\n"
     ]
    }
   ],
   "source": [
    "# Now the same, except for PDBoth|V, PDBoth|V1, PDBoth|V2 sample use idnetity covariance matrix\n",
    "sim5 = genData.v6liability2(**simParams2)"
   ]
  },
  {
   "cell_type": "code",
   "execution_count": 35,
   "metadata": {},
   "outputs": [
    {
     "output_type": "stream",
     "name": "stdout",
     "text": [
      "PD1 threshold, PD2 threshold tensor(-2.3263) tensor(-2.3263)\n",
      "tensor([[1.0000, 0.5000],\n",
      "        [0.5000, 1.0000]])\n",
      "pDsWithBoth tensor([0.0100, 0.0100, 0.0013], dtype=torch.float64)\n",
      "pdThresh tensor([2.3263, 2.3263])\n",
      "pdTarget tensor([0.0500, 0.0200])\n",
      "pdvthresh tensor([1.6449, 2.0537])\n",
      "meanEffect tensor([0.6815, 0.2726])\n",
      "meanEffectsAcrossAllGenes tensor([0.6815, 0.2726])\n",
      "allEffects tensor([[-0.7437, -0.3383],\n",
      "        [-0.5992, -0.2041],\n",
      "        [-0.6614, -0.2987],\n",
      "        ...,\n",
      "        [-0.6388, -0.2114],\n",
      "        [-0.5639, -0.1896],\n",
      "        [-0.5985, -0.1522]])\n",
      "allEffects[i] tensor([-0.7437, -0.3383])\n",
      "PDBothGivenV.mean tensor(0.0195, dtype=torch.float64)\n",
      "PDBothGivenV / PDBoth tensor(15.0359, dtype=torch.float64)\n",
      "pdsCovarOnMean.mean(0) tensor([0.0509, 0.0205, 0.0195], dtype=torch.float64)\n",
      "np.corrcoef(pdvInBoth[:,0], pdvInBoth[:,1])\n",
      " [[1.        0.9493537]\n",
      " [0.9493537 1.       ]]\n",
      "np.corrcoef(pdvInBoth[:,0], pdvInBoth[:,2])\n",
      " [[1.         0.96123976]\n",
      " [0.96123976 1.        ]]\n",
      "PDBoth1GivenV tensor([0.0038, 0.0040, 0.0035,  ..., 0.0027, 0.0033, 0.0046],\n",
      "       dtype=torch.float64)\n",
      "PDBoth2GivenV tensor([0.0023, 0.0024, 0.0021,  ..., 0.0017, 0.0024, 0.0025],\n",
      "       dtype=torch.float64)\n",
      "np.corrcoef(PD1Vsingle, PD2Vsingle)\n",
      " [[1.         0.49633634]\n",
      " [0.49633634 1.        ]]\n",
      "np.corrcoef(PD1Vsingle, PDBoth1GivenV)\n",
      " [[1.         0.99622113]\n",
      " [0.99622113 1.        ]]\n",
      "np.corrcoef(PD2Vsingle, PDBoth1GivenV)\n",
      " [[1.         0.49619293]\n",
      " [0.49619293 1.        ]]\n",
      "np.corrcoef(PD2Vsingle, PDBoth2GivenV)\n",
      " [[1.         0.99687537]\n",
      " [0.99687537 1.        ]]\n",
      "pdvsGeneAffects1.mean tensor([0.0231, 0.0243, 0.0205,  ..., 0.0144, 0.0184, 0.0304],\n",
      "       dtype=torch.float64)\n",
      "afs.dist tensor(0.0001) +/- tensor(1.4253e-05)\n",
      "afs.shape torch.Size([20000])\n",
      "afs tensor([1.0519e-04, 1.1481e-04, 9.1057e-05,  ..., 9.3785e-05, 1.1744e-04,\n",
      "        9.9825e-05])\n"
     ]
    }
   ],
   "source": [
    "# Now with covShared on PDBoth|V, but residualCovariance on PDBoth|V1, PDBoth|V2\n",
    "sim6 = genData.v6liability2(**simParams2)"
   ]
  },
  {
   "cell_type": "code",
   "execution_count": 36,
   "metadata": {},
   "outputs": [
    {
     "output_type": "execute_result",
     "data": {
      "text/plain": [
       "{'nGenes': 20000,\n",
       " 'nCases': tensor([15000., 15000.,  4000.]),\n",
       " 'nCtrls': tensor(50000.),\n",
       " 'pDs': tensor([0.0100, 0.0100]),\n",
       " 'diseaseFractions': tensor([0.1000, 0.1000, 0.0500]),\n",
       " 'rrShape': tensor(10.),\n",
       " 'rrMeans': tensor([5., 2.]),\n",
       " 'afShape': tensor(50.),\n",
       " 'afMean': tensor(1.0000e-04),\n",
       " 'covShared': tensor([[1.0000, 0.7000],\n",
       "         [0.7000, 1.0000]]),\n",
       " 'covSingle': tensor([[1.0000, 0.5000],\n",
       "         [0.5000, 1.0000]]),\n",
       " 'meanEffectCovarianceScale': tensor(0.0100),\n",
       " 'rrtype': 'default'}"
      ]
     },
     "metadata": {},
     "execution_count": 36
    }
   ],
   "source": [
    "# This looks reasonable. Now let's see the effect of reduced covShared \n",
    "import copy\n",
    "simParams3 = copy.copy(simParams2)\n",
    "simParams3[\"covShared\"] = tensor([[1.0, .7], [.7, 1.0]])\n",
    "simParams3"
   ]
  },
  {
   "cell_type": "code",
   "execution_count": 37,
   "metadata": {},
   "outputs": [
    {
     "output_type": "stream",
     "name": "stdout",
     "text": [
      "PD1 threshold, PD2 threshold tensor(-2.3263) tensor(-2.3263)\n",
      "tensor([[1.0000, 0.5000],\n",
      "        [0.5000, 1.0000]])\n",
      "pDsWithBoth tensor([0.0100, 0.0100, 0.0013], dtype=torch.float64)\n",
      "pdThresh tensor([2.3263, 2.3263])\n",
      "pdTarget tensor([0.0500, 0.0200])\n",
      "pdvthresh tensor([1.6449, 2.0537])\n",
      "meanEffect tensor([0.6815, 0.2726])\n",
      "meanEffectsAcrossAllGenes tensor([0.6815, 0.2726])\n",
      "allEffects tensor([[-0.5098, -0.0713],\n",
      "        [-0.6602, -0.1957],\n",
      "        [-0.7802, -0.3811],\n",
      "        ...,\n",
      "        [-0.5584, -0.2035],\n",
      "        [-0.5490, -0.1901],\n",
      "        [-0.5980, -0.4255]])\n",
      "allEffects[i] tensor([-0.5098, -0.0713])\n",
      "PDBothGivenV.mean tensor(0.0107, dtype=torch.float64)\n",
      "PDBothGivenV / PDBoth tensor(8.2875, dtype=torch.float64)\n",
      "pdsCovarOnMean.mean(0) tensor([0.0508, 0.0204, 0.0107], dtype=torch.float64)\n",
      "np.corrcoef(pdvInBoth[:,0], pdvInBoth[:,1])\n",
      " [[1.         0.69434547]\n",
      " [0.69434547 1.        ]]\n",
      "np.corrcoef(pdvInBoth[:,0], pdvInBoth[:,2])\n",
      " [[1.         0.86685972]\n",
      " [0.86685972 1.        ]]\n",
      "PDBoth1GivenV tensor([0.0033, 0.0040, 0.0031,  ..., 0.0036, 0.0037, 0.0031],\n",
      "       dtype=torch.float64)\n",
      "PDBoth2GivenV tensor([0.0023, 0.0020, 0.0020,  ..., 0.0017, 0.0020, 0.0023],\n",
      "       dtype=torch.float64)\n",
      "np.corrcoef(PD1Vsingle, PD2Vsingle)\n",
      " [[1.         0.50523111]\n",
      " [0.50523111 1.        ]]\n",
      "np.corrcoef(PD1Vsingle, PDBoth1GivenV)\n",
      " [[1.         0.99610799]\n",
      " [0.99610799 1.        ]]\n",
      "np.corrcoef(PD2Vsingle, PDBoth1GivenV)\n",
      " [[1.         0.50456427]\n",
      " [0.50456427 1.        ]]\n",
      "np.corrcoef(PD2Vsingle, PDBoth2GivenV)\n",
      " [[1.         0.99690711]\n",
      " [0.99690711 1.        ]]\n",
      "pdvsGeneAffects1.mean tensor([0.0189, 0.0245, 0.0175,  ..., 0.0208, 0.0222, 0.0175],\n",
      "       dtype=torch.float64)\n",
      "afs.dist tensor(0.0001) +/- tensor(1.4219e-05)\n",
      "afs.shape torch.Size([20000])\n",
      "afs tensor([1.1211e-04, 1.0498e-04, 9.9809e-05,  ..., 1.0915e-04, 1.3537e-04,\n",
      "        1.2661e-04])\n"
     ]
    }
   ],
   "source": [
    "sim7 = genData.v6liability2(**simParams3)"
   ]
  },
  {
   "cell_type": "code",
   "execution_count": 46,
   "metadata": {},
   "outputs": [
    {
     "output_type": "execute_result",
     "data": {
      "text/plain": [
       "{'nGenes': 20000,\n",
       " 'nCases': tensor([15000., 15000.,  4000.]),\n",
       " 'nCtrls': tensor(50000.),\n",
       " 'pDs': tensor([0.0100, 0.0100]),\n",
       " 'diseaseFractions': tensor([0.1000, 0.1000, 0.0500]),\n",
       " 'rrShape': tensor(10.),\n",
       " 'rrMeans': tensor([5., 2.]),\n",
       " 'afShape': tensor(50.),\n",
       " 'afMean': tensor(1.0000e-04),\n",
       " 'covShared': tensor([[1.0000, 0.7000],\n",
       "         [0.7000, 1.0000]]),\n",
       " 'covSingle': tensor([[1., 0.],\n",
       "         [0., 1.]]),\n",
       " 'meanEffectCovarianceScale': tensor(0.0100),\n",
       " 'rrtype': 'default'}"
      ]
     },
     "metadata": {},
     "execution_count": 46
    }
   ],
   "source": [
    "# This looks reasonable. Now let's see the effect of reduced covShared \n",
    "import copy\n",
    "simParams4 = copy.copy(simParams2)\n",
    "simParams4[\"covShared\"] = tensor([[1.0, .7], [.7, 1.0]])\n",
    "simParams4[\"covSingle\"] = tensor([[1.0, 0], [0, 1.0]])\n",
    "simParams4"
   ]
  },
  {
   "cell_type": "code",
   "execution_count": 47,
   "metadata": {},
   "outputs": [
    {
     "output_type": "stream",
     "name": "stdout",
     "text": [
      "PD1 threshold, PD2 threshold tensor(-2.3263) tensor(-2.3263)\n",
      "tensor([[1., 0.],\n",
      "        [0., 1.]])\n",
      "pDsWithBoth tensor([1.0000e-02, 1.0000e-02, 1.0000e-04], dtype=torch.float64)\n",
      "pdThresh tensor([2.3263, 2.3263])\n",
      "pdTarget tensor([0.0500, 0.0200])\n",
      "pdvthresh tensor([1.6449, 2.0537])\n",
      "meanEffect tensor([0.6815, 0.2726])\n",
      "meanEffectsAcrossAllGenes tensor([0.6815, 0.2726])\n",
      "allEffects tensor([[-0.7376, -0.3953],\n",
      "        [-0.6309, -0.2480],\n",
      "        [-0.7898, -0.3239],\n",
      "        ...,\n",
      "        [-0.6288, -0.2476],\n",
      "        [-0.7982, -0.4624],\n",
      "        [-0.7014, -0.3516]])\n",
      "allEffects[i] tensor([-0.7376, -0.3953])\n",
      "PDBothGivenV.mean tensor(0.0011, dtype=torch.float64)\n",
      "PDBothGivenV / PDBoth tensor(10.7776, dtype=torch.float64)\n",
      "pdsCovarOnMean.mean(0) tensor([0.0508, 0.0205, 0.0011], dtype=torch.float64)\n",
      "np.corrcoef(pdvInBoth[:,0], pdvInBoth[:,1])\n",
      " [[1.         0.69472539]\n",
      " [0.69472539 1.        ]]\n",
      "np.corrcoef(pdvInBoth[:,0], pdvInBoth[:,2])\n",
      " [[1.         0.89468908]\n",
      " [0.89468908 1.        ]]\n",
      "PDBoth1GivenV tensor([0.0004, 0.0004, 0.0005,  ..., 0.0005, 0.0005, 0.0005],\n",
      "       dtype=torch.float64)\n",
      "PDBoth2GivenV tensor([0.0002, 0.0002, 0.0003,  ..., 0.0002, 0.0002, 0.0002],\n",
      "       dtype=torch.float64)\n",
      "np.corrcoef(PD1Vsingle, PD2Vsingle)\n",
      " [[1.         0.00390794]\n",
      " [0.00390794 1.        ]]\n",
      "np.corrcoef(PD1Vsingle, PDBoth1GivenV)\n",
      " [[1. 1.]\n",
      " [1. 1.]]\n",
      "np.corrcoef(PD2Vsingle, PDBoth1GivenV)\n",
      " [[1.         0.00390794]\n",
      " [0.00390794 1.        ]]\n",
      "np.corrcoef(PD2Vsingle, PDBoth2GivenV)\n",
      " [[1. 1.]\n",
      " [1. 1.]]\n",
      "pdvsGeneAffects1.mean tensor([0.0178, 0.0180, 0.0198,  ..., 0.0208, 0.0212, 0.0195],\n",
      "       dtype=torch.float64)\n",
      "afs.dist tensor(0.0001) +/- tensor(1.4134e-05)\n",
      "afs.shape torch.Size([20000])\n",
      "afs tensor([1.0818e-04, 1.2979e-04, 1.1507e-04,  ..., 1.0834e-04, 9.3189e-05,\n",
      "        1.0405e-04])\n"
     ]
    }
   ],
   "source": [
    "sim8 = genData.v6liability2(**simParams4)"
   ]
  },
  {
   "cell_type": "code",
   "execution_count": 48,
   "metadata": {},
   "outputs": [
    {
     "output_type": "stream",
     "name": "stdout",
     "text": [
      "PD1 threshold, PD2 threshold tensor(-2.3263) tensor(-2.3263)\n",
      "tensor([[1., 0.],\n",
      "        [0., 1.]])\n",
      "pDsWithBoth tensor([1.0000e-02, 1.0000e-02, 1.0000e-04], dtype=torch.float64)\n",
      "pdThresh tensor([2.3263, 2.3263])\n",
      "pdTarget tensor([0.0500, 0.0200])\n",
      "pdvthresh tensor([1.6449, 2.0537])\n",
      "meanEffect tensor([0.6815, 0.2726])\n",
      "meanEffectsAcrossAllGenes tensor([0.6815, 0.2726])\n",
      "allEffects tensor([[-0.7341, -0.3661],\n",
      "        [-0.5720, -0.2540],\n",
      "        [-0.5875, -0.1628],\n",
      "        ...,\n",
      "        [-0.9327, -0.3486],\n",
      "        [-0.8729, -0.3373],\n",
      "        [-0.5918, -0.1867]])\n",
      "allEffects[i] tensor([-0.7341, -0.3661])\n",
      "PDBothGivenV.mean tensor(0.0011, dtype=torch.float64)\n",
      "PDBothGivenV / PDBoth tensor(10.8140, dtype=torch.float64)\n",
      "pdsCovarOnMean.mean(0) tensor([0.0509, 0.0205, 0.0011], dtype=torch.float64)\n",
      "np.corrcoef(pdvInBoth[:,0], pdvInBoth[:,1])\n",
      " [[1.         0.69601248]\n",
      " [0.69601248 1.        ]]\n",
      "np.corrcoef(pdvInBoth[:,0], pdvInBoth[:,2])\n",
      " [[1.         0.89478135]\n",
      " [0.89478135 1.        ]]\n",
      "PDBoth1GivenV tensor([0.0005, 0.0004, 0.0004,  ..., 0.0005, 0.0004, 0.0005],\n",
      "       dtype=torch.float64)\n",
      "PDBoth2GivenV tensor([0.0002, 0.0002, 0.0003,  ..., 0.0003, 0.0002, 0.0002],\n",
      "       dtype=torch.float64)\n",
      "np.corrcoef(PD1Vsingle, PD2Vsingle)\n",
      " [[1.         0.00955216]\n",
      " [0.00955216 1.        ]]\n",
      "np.corrcoef(PD1Vsingle, PDBoth1GivenV)\n",
      " [[1. 1.]\n",
      " [1. 1.]]\n",
      "np.corrcoef(PD2Vsingle, PDBoth1GivenV)\n",
      " [[1.         0.00955216]\n",
      " [0.00955216 1.        ]]\n",
      "np.corrcoef(PD2Vsingle, PDBoth2GivenV)\n",
      " [[1. 1.]\n",
      " [1. 1.]]\n",
      "pdvsGeneAffects1.mean tensor([0.0211, 0.0172, 0.0175,  ..., 0.0207, 0.0182, 0.0192],\n",
      "       dtype=torch.float64)\n",
      "afs.dist tensor(9.9972e-05) +/- tensor(1.4159e-05)\n",
      "afs.shape torch.Size([20000])\n",
      "afs tensor([8.4164e-05, 9.7724e-05, 9.4683e-05,  ..., 9.2695e-05, 8.3090e-05,\n",
      "        8.4823e-05])\n"
     ]
    }
   ],
   "source": [
    "# now with torch.eye(2) everywhere\n",
    "sim9 = genData.v6liability2(**simParams4)"
   ]
  },
  {
   "cell_type": "code",
   "execution_count": 2,
   "metadata": {},
   "outputs": [
    {
     "output_type": "error",
     "ename": "NameError",
     "evalue": "name 'sim7' is not defined",
     "traceback": [
      "\u001b[0;31m---------------------------------------------------------------------------\u001b[0m",
      "\u001b[0;31mNameError\u001b[0m                                 Traceback (most recent call last)",
      "\u001b[0;32m<ipython-input-2-752fe0609ed7>\u001b[0m in \u001b[0;36m<module>\u001b[0;34m\u001b[0m\n\u001b[1;32m      1\u001b[0m \u001b[0;32mimport\u001b[0m \u001b[0mmatplotlib\u001b[0m\u001b[0;34m.\u001b[0m\u001b[0mpyplot\u001b[0m \u001b[0;32mas\u001b[0m \u001b[0mplt\u001b[0m\u001b[0;34m\u001b[0m\u001b[0;34m\u001b[0m\u001b[0m\n\u001b[1;32m      2\u001b[0m \u001b[0;34m\u001b[0m\u001b[0m\n\u001b[0;32m----> 3\u001b[0;31m \u001b[0mplt\u001b[0m\u001b[0;34m.\u001b[0m\u001b[0mplot\u001b[0m\u001b[0;34m(\u001b[0m\u001b[0msim7\u001b[0m\u001b[0;34m[\u001b[0m\u001b[0;34m\"afs\"\u001b[0m\u001b[0;34m]\u001b[0m\u001b[0;34m[\u001b[0m\u001b[0;34m:\u001b[0m\u001b[0;34m,\u001b[0m \u001b[0;36m3\u001b[0m\u001b[0;34m]\u001b[0m\u001b[0;34m)\u001b[0m\u001b[0;34m\u001b[0m\u001b[0;34m\u001b[0m\u001b[0m\n\u001b[0m",
      "\u001b[0;31mNameError\u001b[0m: name 'sim7' is not defined"
     ]
    }
   ],
   "source": [
    "import matplotlib.pyplot as plt\n",
    "\n",
    "plt.plot(sim7[\"afs\"][:, 3])"
   ]
  },
  {
   "cell_type": "code",
   "execution_count": 39,
   "metadata": {},
   "outputs": [
    {
     "output_type": "stream",
     "name": "stderr",
     "text": [
      "sample: 100%|██████████| 1200/1200 [21:01<00:00,  1.05s/it, 63 steps of size 6.03e-02. acc. prob=0.85]\n",
      "\n",
      "                 mean       std    median      5.0%     95.0%     n_eff     r_hat\n",
      "    beta[0]      0.70      0.02      0.70      0.66      0.73    258.21      1.00\n",
      "    beta[1]      0.44      0.04      0.44      0.38      0.51    284.21      1.00\n",
      "    beta[2]      0.59      0.06      0.60      0.49      0.69    280.47      1.00\n",
      "    beta[3]      1.00      0.00      1.00      1.00      1.00    169.62      1.00\n",
      "    beta[4]      0.97      0.10      1.00      0.98      1.00   1115.23      1.00\n",
      "    beta[5]      0.97      0.12      1.00      0.96      1.00   1129.77      1.00\n",
      "    beta[6]      0.97      0.11      1.00      0.98      1.00   1018.78      1.00\n",
      "    beta[7]      0.97      0.11      1.00      0.97      1.00   1077.73      1.00\n",
      "    beta[8]      0.97      0.12      1.00      0.97      1.00   1031.33      1.00\n",
      "    beta[9]      0.97      0.10      1.00      0.97      1.00    845.98      1.00\n",
      "   beta[10]      0.97      0.12      1.00      0.96      1.00   1071.71      1.00\n",
      "  conc[0,0]      4.91      2.86      4.31      1.11      9.31    755.53      1.00\n",
      "  conc[0,1]      2.57      1.51      2.32      0.47      4.91    753.82      1.00\n",
      "  conc[0,2]      2.69      1.60      2.41      0.35      5.02    835.27      1.00\n",
      "  conc[0,3]      1.28      0.80      1.15      0.17      2.55    564.93      1.00\n",
      "  conc[1,0]      3.73      2.16      3.43      0.49      6.89    584.84      1.00\n",
      "  conc[1,1]      7.33      4.27      6.57      0.40     13.14    725.22      1.00\n",
      "  conc[1,2]      2.20      1.41      1.91      0.17      4.20    794.51      1.00\n",
      "  conc[1,3]      2.04      1.22      1.82      0.26      3.75    935.79      1.00\n",
      "  conc[2,0]      4.27      2.56      3.78      0.46      7.87    538.23      1.00\n",
      "  conc[2,1]      2.54      1.59      2.24      0.22      4.79    897.17      1.00\n",
      "  conc[2,2]      4.54      2.76      4.07      0.38      8.52    693.37      1.00\n",
      "  conc[2,3]      1.62      0.98      1.43      0.16      2.97    881.13      1.00\n",
      "  conc[3,0]      3.56      2.22      3.11      0.45      6.62    845.44      1.00\n",
      "  conc[3,1]      7.19      4.11      6.36      1.03     12.71   1001.57      1.00\n",
      "  conc[3,2]      3.57      2.24      3.09      0.44      6.68    698.45      1.00\n",
      "  conc[3,3]      4.13      2.48      3.61      0.56      7.64    898.30      1.00\n",
      "  conc[4,0]      1.71      1.64      1.22      0.01      3.78    415.32      1.00\n",
      "  conc[4,1]      4.96      5.83      3.14      0.00     12.97     36.16      1.05\n",
      "  conc[4,2]      5.83      5.77      3.98      0.03     13.43   1024.53      1.00\n",
      "  conc[4,3]     21.52     20.90     15.68      0.05     48.58    928.03      1.00\n",
      "  conc[5,0]      1.74      1.61      1.25      0.02      4.00    434.17      1.00\n",
      "  conc[5,1]      5.59      5.89      3.85      0.07     12.44    920.45      1.00\n",
      "  conc[5,2]      5.79      5.71      4.07      0.01     12.67    703.96      1.00\n",
      "  conc[5,3]     19.95     21.17     12.89      0.11     48.29    430.58      1.00\n",
      "  conc[6,0]      1.65      1.59      1.15      0.01      3.77    735.15      1.00\n",
      "  conc[6,1]      5.84      5.19      4.10      0.02     13.52    830.40      1.00\n",
      "  conc[6,2]      5.58      5.96      3.82      0.02     13.29    788.05      1.00\n",
      "  conc[6,3]     19.68     18.85     14.05      0.14     44.69    783.73      1.00\n",
      "  conc[7,0]      1.78      1.83      1.25      0.01      4.19    613.47      1.00\n",
      "  conc[7,1]      5.97      5.69      4.38      0.05     13.30    821.69      1.00\n",
      "  conc[7,2]      5.62      5.20      4.14      0.06     12.26    964.57      1.00\n",
      "  conc[7,3]     20.89     21.62     13.74      0.08     51.05    870.11      1.00\n",
      "  conc[8,0]      1.78      1.68      1.31      0.00      3.92    547.70      1.00\n",
      "  conc[8,1]      5.42      5.56      3.74      0.01     12.69    818.19      1.00\n",
      "  conc[8,2]      5.74      5.71      3.97      0.03     13.14   1099.88      1.00\n",
      "  conc[8,3]     21.66     21.08     16.01      0.07     49.33   1053.64      1.00\n",
      "  conc[9,0]      1.44      1.56      0.99      0.00      3.39    154.69      1.00\n",
      "  conc[9,1]      5.76      5.62      4.19      0.06     13.62    599.82      1.00\n",
      "  conc[9,2]      5.38      5.50      3.74      0.01     12.56    469.97      1.00\n",
      "  conc[9,3]     20.03     22.29     12.81      0.01     46.70    595.92      1.00\n",
      " conc[10,0]      1.73      1.62      1.23      0.02      3.82    960.76      1.00\n",
      " conc[10,1]      5.67      5.52      3.81      0.01     13.48    878.71      1.00\n",
      " conc[10,2]      5.17      5.24      3.44      0.01     12.40    577.46      1.00\n",
      " conc[10,3]     20.48     20.26     13.64      0.18     49.80    971.87      1.00\n",
      " conc[11,0]      1.82      1.66      1.33      0.01      3.91    624.46      1.00\n",
      " conc[11,1]      5.31      5.30      3.64      0.04     12.17   1023.23      1.00\n",
      " conc[11,2]      5.46      5.22      4.05      0.03     11.85    847.73      1.00\n",
      " conc[11,3]     20.86     20.49     15.05      0.06     46.68   1112.70      1.00\n",
      " probs[0,0]      0.61      0.00      0.61      0.61      0.62    285.82      1.00\n",
      " probs[0,1]      0.17      0.00      0.17      0.16      0.17   1563.31      1.00\n",
      " probs[0,2]      0.18      0.00      0.18      0.17      0.18    260.24      1.00\n",
      " probs[0,3]      0.05      0.00      0.05      0.04      0.05    834.49      1.00\n",
      " probs[1,0]      0.33      0.00      0.33      0.33      0.34   1036.22      1.00\n",
      " probs[1,1]      0.49      0.00      0.49      0.49      0.50    902.56      1.00\n",
      " probs[1,2]      0.10      0.00      0.10      0.09      0.10    814.29      1.00\n",
      " probs[1,3]      0.07      0.00      0.07      0.07      0.08    636.28      1.00\n",
      " probs[2,0]      0.47      0.02      0.47      0.44      0.49    306.22      1.00\n",
      " probs[2,1]      0.14      0.01      0.15      0.13      0.16    650.68      1.00\n",
      " probs[2,2]      0.33      0.02      0.33      0.30      0.36    246.80      1.00\n",
      " probs[2,3]      0.06      0.00      0.06      0.05      0.07    658.78      1.00\n",
      " probs[3,0]      0.25      0.01      0.25      0.24      0.26    652.28      1.00\n",
      " probs[3,1]      0.40      0.01      0.40      0.39      0.41    846.95      1.00\n",
      " probs[3,2]      0.17      0.00      0.17      0.16      0.18    809.27      1.00\n",
      " probs[3,3]      0.18      0.01      0.18      0.17      0.19    528.98      1.00\n",
      " probs[4,0]      0.07      0.10      0.04      0.00      0.18    411.24      1.00\n",
      " probs[4,1]      0.17      0.21      0.09      0.00      0.48     42.43      1.04\n",
      " probs[4,2]      0.21      0.20      0.14      0.00      0.51    643.13      1.00\n",
      " probs[4,3]      0.55      0.28      0.59      0.10      0.97    339.90      1.01\n",
      " probs[5,0]      0.08      0.11      0.04      0.00      0.20    483.92      1.01\n",
      " probs[5,1]      0.21      0.20      0.14      0.00      0.50    716.32      1.00\n",
      " probs[5,2]      0.21      0.20      0.15      0.00      0.49    183.47      1.00\n",
      " probs[5,3]      0.51      0.28      0.55      0.00      0.85    187.62      1.01\n",
      " probs[6,0]      0.07      0.10      0.03      0.00      0.19    716.17      1.00\n",
      " probs[6,1]      0.21      0.20      0.16      0.00      0.51    581.47      1.00\n",
      " probs[6,2]      0.19      0.19      0.13      0.00      0.48    386.06      1.00\n",
      " probs[6,3]      0.52      0.26      0.55      0.07      0.91    430.24      1.00\n",
      " probs[7,0]      0.07      0.10      0.03      0.00      0.19    613.87      1.00\n",
      " probs[7,1]      0.21      0.19      0.15      0.00      0.49    526.94      1.00\n",
      " probs[7,2]      0.21      0.20      0.13      0.00      0.53    382.19      1.01\n",
      " probs[7,3]      0.51      0.27      0.55      0.00      0.85    272.68      1.02\n",
      " probs[8,0]      0.07      0.10      0.03      0.00      0.18    656.48      1.00\n",
      " probs[8,1]      0.18      0.18      0.13      0.00      0.46    521.80      1.00\n",
      " probs[8,2]      0.20      0.20      0.14      0.00      0.50    853.31      1.00\n",
      " probs[8,3]      0.54      0.27      0.58      0.09      0.94    606.87      1.00\n",
      " probs[9,0]      0.06      0.10      0.02      0.00      0.18    476.90      1.00\n",
      " probs[9,1]      0.22      0.21      0.15      0.00      0.55    413.47      1.00\n",
      " probs[9,2]      0.21      0.21      0.14      0.00      0.51    277.40      1.00\n",
      " probs[9,3]      0.51      0.29      0.54      0.00      0.89    242.19      1.00\n",
      "probs[10,0]      0.07      0.10      0.04      0.00      0.20    942.32      1.00\n",
      "probs[10,1]      0.20      0.20      0.15      0.00      0.50    710.61      1.00\n",
      "probs[10,2]      0.19      0.19      0.12      0.00      0.46    285.49      1.00\n",
      "probs[10,3]      0.53      0.27      0.56      0.11      0.94    515.88      1.00\n",
      "probs[11,0]      0.08      0.10      0.04      0.00      0.21    818.73      1.00\n",
      "probs[11,1]      0.18      0.18      0.13      0.00      0.44    772.33      1.00\n",
      "probs[11,2]      0.20      0.19      0.14      0.00      0.47    567.28      1.00\n",
      "probs[11,3]      0.54      0.26      0.58      0.16      0.97    634.10      1.01\n",
      "\n",
      "Number of divergences: 2\n"
     ]
    }
   ],
   "source": [
    "from mvl2.numpyro import model, infer\n",
    "\n",
    "mcmc = infer(model, sim7[\"altCounts\"].numpy(), simParams3[\"nCases\"].numpy(), simParams3[\"nCtrls\"].numpy())"
   ]
  },
  {
   "cell_type": "code",
   "execution_count": 40,
   "metadata": {},
   "outputs": [
    {
     "output_type": "stream",
     "name": "stdout",
     "text": [
      "probs mean [[0.61222166 0.16613865 0.17656207 0.04507761]\n [0.33355318 0.49351454 0.09926469 0.07366759]\n [0.46504841 0.14479512 0.3284944  0.06166207]\n [0.25127866 0.4016084  0.17182636 0.17528657]\n [0.07138395 0.17176518 0.20794736 0.54890351]\n [0.0757503  0.20652348 0.21121979 0.50650643]\n [0.07106047 0.21229612 0.19410769 0.52253571]\n [0.069363   0.21065852 0.2083032  0.51167528]\n [0.07216185 0.18415722 0.20166595 0.54201498]\n [0.0642354  0.21925429 0.20888875 0.50762155]\n [0.07273806 0.20493759 0.1881003  0.53422406]\n [0.07673627 0.18121546 0.19849864 0.54354963]]\ninferred stick-breaking weights mean:  [0.69614923 0.13305683 0.10337238 0.06946892 0.00101382 0.00092916\n 0.00099078 0.000999   0.000999   0.000999   0.000999   0.000999  ]\ninferred stick-breaking weights stdd:  [0.02671521 0.01776951 0.02519889 0.03020335 0.03159096 0.02938075\n 0.03133122 0.03159119 0.03159119 0.03159119 0.03159119 0.03159119]\n"
     ]
    }
   ],
   "source": [
    "from mvl2.numpyro import  get_inferred_params\n",
    "\n",
    "res, probs, conc, pis, beta = get_inferred_params(mcmc)"
   ]
  },
  {
   "cell_type": "code",
   "execution_count": 58,
   "metadata": {},
   "outputs": [
    {
     "output_type": "execute_result",
     "data": {
      "text/plain": [
       "DeviceArray([0.73251929, 0.51674345, 0.46680692, 1.        , 1.        ,\n",
       "             0.93003008, 0.99177084, 1.        , 1.        , 1.        ,\n",
       "             1.        ], dtype=float64)"
      ]
     },
     "metadata": {},
     "execution_count": 58
    }
   ],
   "source": [
    "beta[0, ]"
   ]
  },
  {
   "cell_type": "code",
   "execution_count": 59,
   "metadata": {},
   "outputs": [
    {
     "output_type": "error",
     "ename": "AttributeError",
     "evalue": "'DeviceArray' object has no attribute 'sqrt'",
     "traceback": [
      "\u001b[0;31m---------------------------------------------------------------------------\u001b[0m",
      "\u001b[0;31mAttributeError\u001b[0m                            Traceback (most recent call last)",
      "\u001b[0;32m<ipython-input-59-9aae4c3a8c09>\u001b[0m in \u001b[0;36m<module>\u001b[0;34m\u001b[0m\n\u001b[1;32m      1\u001b[0m \u001b[0;32mfrom\u001b[0m \u001b[0mmvl2\u001b[0m\u001b[0;34m.\u001b[0m\u001b[0mnumpyro\u001b[0m \u001b[0;32mimport\u001b[0m \u001b[0mmodel_mvn\u001b[0m\u001b[0;34m\u001b[0m\u001b[0;34m\u001b[0m\u001b[0m\n\u001b[1;32m      2\u001b[0m \u001b[0;34m\u001b[0m\u001b[0m\n\u001b[0;32m----> 3\u001b[0;31m \u001b[0mmcmc\u001b[0m \u001b[0;34m=\u001b[0m \u001b[0minfer\u001b[0m\u001b[0;34m(\u001b[0m\u001b[0mmodel_mvn\u001b[0m\u001b[0;34m,\u001b[0m \u001b[0msim7\u001b[0m\u001b[0;34m[\u001b[0m\u001b[0;34m\"altCounts\"\u001b[0m\u001b[0;34m]\u001b[0m\u001b[0;34m.\u001b[0m\u001b[0mnumpy\u001b[0m\u001b[0;34m(\u001b[0m\u001b[0;34m)\u001b[0m\u001b[0;34m,\u001b[0m \u001b[0msimParams3\u001b[0m\u001b[0;34m[\u001b[0m\u001b[0;34m\"nCases\"\u001b[0m\u001b[0;34m]\u001b[0m\u001b[0;34m.\u001b[0m\u001b[0mnumpy\u001b[0m\u001b[0;34m(\u001b[0m\u001b[0;34m)\u001b[0m\u001b[0;34m,\u001b[0m \u001b[0msimParams3\u001b[0m\u001b[0;34m[\u001b[0m\u001b[0;34m\"nCtrls\"\u001b[0m\u001b[0;34m]\u001b[0m\u001b[0;34m.\u001b[0m\u001b[0mnumpy\u001b[0m\u001b[0;34m(\u001b[0m\u001b[0;34m)\u001b[0m\u001b[0;34m)\u001b[0m\u001b[0;34m\u001b[0m\u001b[0;34m\u001b[0m\u001b[0m\n\u001b[0m",
      "\u001b[0;32m~/projects/tada/for-martin/mvl2/numpyro.py\u001b[0m in \u001b[0;36minfer\u001b[0;34m(model_to_run, data, nCases, nCtrls)\u001b[0m\n\u001b[1;32m     76\u001b[0m \u001b[0;32mdef\u001b[0m \u001b[0minfer\u001b[0m\u001b[0;34m(\u001b[0m\u001b[0mmodel_to_run\u001b[0m\u001b[0;34m,\u001b[0m \u001b[0mdata\u001b[0m\u001b[0;34m,\u001b[0m \u001b[0mnCases\u001b[0m\u001b[0;34m:\u001b[0m \u001b[0mnp\u001b[0m\u001b[0;34m.\u001b[0m\u001b[0marray\u001b[0m\u001b[0;34m,\u001b[0m \u001b[0mnCtrls\u001b[0m\u001b[0;34m:\u001b[0m \u001b[0mint\u001b[0m\u001b[0;34m)\u001b[0m \u001b[0;34m->\u001b[0m \u001b[0mMCMC\u001b[0m\u001b[0;34m:\u001b[0m\u001b[0;34m\u001b[0m\u001b[0;34m\u001b[0m\u001b[0m\n\u001b[1;32m     77\u001b[0m     \u001b[0mmcmc\u001b[0m \u001b[0;34m=\u001b[0m \u001b[0mMCMC\u001b[0m\u001b[0;34m(\u001b[0m\u001b[0mNUTS\u001b[0m\u001b[0;34m(\u001b[0m\u001b[0mmodel_to_run\u001b[0m\u001b[0;34m,\u001b[0m \u001b[0mmax_tree_depth\u001b[0m\u001b[0;34m=\u001b[0m\u001b[0;36m8\u001b[0m\u001b[0;34m)\u001b[0m\u001b[0;34m,\u001b[0m \u001b[0mnum_warmup\u001b[0m\u001b[0;34m=\u001b[0m\u001b[0;36m200\u001b[0m\u001b[0;34m,\u001b[0m \u001b[0mnum_samples\u001b[0m\u001b[0;34m=\u001b[0m\u001b[0;36m1000\u001b[0m\u001b[0;34m)\u001b[0m\u001b[0;34m\u001b[0m\u001b[0;34m\u001b[0m\u001b[0m\n\u001b[0;32m---> 78\u001b[0;31m     \u001b[0mmcmc\u001b[0m\u001b[0;34m.\u001b[0m\u001b[0mrun\u001b[0m\u001b[0;34m(\u001b[0m\u001b[0mrandom\u001b[0m\u001b[0;34m.\u001b[0m\u001b[0mPRNGKey\u001b[0m\u001b[0;34m(\u001b[0m\u001b[0;36m12269\u001b[0m\u001b[0;34m)\u001b[0m\u001b[0;34m,\u001b[0m \u001b[0mdata\u001b[0m\u001b[0;34m,\u001b[0m \u001b[0mnCases\u001b[0m\u001b[0;34m,\u001b[0m \u001b[0mnCtrls\u001b[0m\u001b[0;34m,\u001b[0m \u001b[0;36m12\u001b[0m\u001b[0;34m)\u001b[0m\u001b[0;34m\u001b[0m\u001b[0;34m\u001b[0m\u001b[0m\n\u001b[0m\u001b[1;32m     79\u001b[0m     \u001b[0mmcmc\u001b[0m\u001b[0;34m.\u001b[0m\u001b[0mprint_summary\u001b[0m\u001b[0;34m(\u001b[0m\u001b[0;34m)\u001b[0m\u001b[0;34m\u001b[0m\u001b[0;34m\u001b[0m\u001b[0m\n\u001b[1;32m     80\u001b[0m     \u001b[0;32mreturn\u001b[0m \u001b[0mmcmc\u001b[0m\u001b[0;34m\u001b[0m\u001b[0;34m\u001b[0m\u001b[0m\n",
      "\u001b[0;32m~/miniconda3/lib/python3.7/site-packages/numpyro/infer/mcmc.py\u001b[0m in \u001b[0;36mrun\u001b[0;34m(self, rng_key, extra_fields, init_params, *args, **kwargs)\u001b[0m\n\u001b[1;32m    447\u001b[0m         \u001b[0mmap_args\u001b[0m \u001b[0;34m=\u001b[0m \u001b[0;34m(\u001b[0m\u001b[0mrng_key\u001b[0m\u001b[0;34m,\u001b[0m \u001b[0minit_state\u001b[0m\u001b[0;34m,\u001b[0m \u001b[0minit_params\u001b[0m\u001b[0;34m)\u001b[0m\u001b[0;34m\u001b[0m\u001b[0;34m\u001b[0m\u001b[0m\n\u001b[1;32m    448\u001b[0m         \u001b[0;32mif\u001b[0m \u001b[0mself\u001b[0m\u001b[0;34m.\u001b[0m\u001b[0mnum_chains\u001b[0m \u001b[0;34m==\u001b[0m \u001b[0;36m1\u001b[0m\u001b[0;34m:\u001b[0m\u001b[0;34m\u001b[0m\u001b[0;34m\u001b[0m\u001b[0m\n\u001b[0;32m--> 449\u001b[0;31m             \u001b[0mstates_flat\u001b[0m\u001b[0;34m,\u001b[0m \u001b[0mlast_state\u001b[0m \u001b[0;34m=\u001b[0m \u001b[0mpartial_map_fn\u001b[0m\u001b[0;34m(\u001b[0m\u001b[0mmap_args\u001b[0m\u001b[0;34m)\u001b[0m\u001b[0;34m\u001b[0m\u001b[0;34m\u001b[0m\u001b[0m\n\u001b[0m\u001b[1;32m    450\u001b[0m             \u001b[0mstates\u001b[0m \u001b[0;34m=\u001b[0m \u001b[0mtree_map\u001b[0m\u001b[0;34m(\u001b[0m\u001b[0;32mlambda\u001b[0m \u001b[0mx\u001b[0m\u001b[0;34m:\u001b[0m \u001b[0mx\u001b[0m\u001b[0;34m[\u001b[0m\u001b[0mjnp\u001b[0m\u001b[0;34m.\u001b[0m\u001b[0mnewaxis\u001b[0m\u001b[0;34m,\u001b[0m \u001b[0;34m...\u001b[0m\u001b[0;34m]\u001b[0m\u001b[0;34m,\u001b[0m \u001b[0mstates_flat\u001b[0m\u001b[0;34m)\u001b[0m\u001b[0;34m\u001b[0m\u001b[0;34m\u001b[0m\u001b[0m\n\u001b[1;32m    451\u001b[0m         \u001b[0;32melse\u001b[0m\u001b[0;34m:\u001b[0m\u001b[0;34m\u001b[0m\u001b[0;34m\u001b[0m\u001b[0m\n",
      "\u001b[0;32m~/miniconda3/lib/python3.7/site-packages/numpyro/infer/mcmc.py\u001b[0m in \u001b[0;36m_single_chain_mcmc\u001b[0;34m(self, init, args, kwargs, collect_fields)\u001b[0m\n\u001b[1;32m    311\u001b[0m         \u001b[0;32mif\u001b[0m \u001b[0minit_state\u001b[0m \u001b[0;32mis\u001b[0m \u001b[0;32mNone\u001b[0m\u001b[0;34m:\u001b[0m\u001b[0;34m\u001b[0m\u001b[0;34m\u001b[0m\u001b[0m\n\u001b[1;32m    312\u001b[0m             init_state = self.sampler.init(rng_key, self.num_warmup, init_params,\n\u001b[0;32m--> 313\u001b[0;31m                                            model_args=args, model_kwargs=kwargs)\n\u001b[0m\u001b[1;32m    314\u001b[0m         \u001b[0;32mif\u001b[0m \u001b[0mself\u001b[0m\u001b[0;34m.\u001b[0m\u001b[0mpostprocess_fn\u001b[0m \u001b[0;32mis\u001b[0m \u001b[0;32mNone\u001b[0m\u001b[0;34m:\u001b[0m\u001b[0;34m\u001b[0m\u001b[0;34m\u001b[0m\u001b[0m\n\u001b[1;32m    315\u001b[0m             \u001b[0mpostprocess_fn\u001b[0m \u001b[0;34m=\u001b[0m \u001b[0mself\u001b[0m\u001b[0;34m.\u001b[0m\u001b[0msampler\u001b[0m\u001b[0;34m.\u001b[0m\u001b[0mpostprocess_fn\u001b[0m\u001b[0;34m(\u001b[0m\u001b[0margs\u001b[0m\u001b[0;34m,\u001b[0m \u001b[0mkwargs\u001b[0m\u001b[0;34m)\u001b[0m\u001b[0;34m\u001b[0m\u001b[0;34m\u001b[0m\u001b[0m\n",
      "\u001b[0;32m~/miniconda3/lib/python3.7/site-packages/numpyro/infer/hmc.py\u001b[0m in \u001b[0;36minit\u001b[0;34m(self, rng_key, num_warmup, init_params, model_args, model_kwargs)\u001b[0m\n\u001b[1;32m    448\u001b[0m         \u001b[0;32melse\u001b[0m\u001b[0;34m:\u001b[0m\u001b[0;34m\u001b[0m\u001b[0;34m\u001b[0m\u001b[0m\n\u001b[1;32m    449\u001b[0m             \u001b[0mrng_key\u001b[0m\u001b[0;34m,\u001b[0m \u001b[0mrng_key_init_model\u001b[0m \u001b[0;34m=\u001b[0m \u001b[0mjnp\u001b[0m\u001b[0;34m.\u001b[0m\u001b[0mswapaxes\u001b[0m\u001b[0;34m(\u001b[0m\u001b[0mvmap\u001b[0m\u001b[0;34m(\u001b[0m\u001b[0mrandom\u001b[0m\u001b[0;34m.\u001b[0m\u001b[0msplit\u001b[0m\u001b[0;34m)\u001b[0m\u001b[0;34m(\u001b[0m\u001b[0mrng_key\u001b[0m\u001b[0;34m)\u001b[0m\u001b[0;34m,\u001b[0m \u001b[0;36m0\u001b[0m\u001b[0;34m,\u001b[0m \u001b[0;36m1\u001b[0m\u001b[0;34m)\u001b[0m\u001b[0;34m\u001b[0m\u001b[0;34m\u001b[0m\u001b[0m\n\u001b[0;32m--> 450\u001b[0;31m         \u001b[0minit_params\u001b[0m \u001b[0;34m=\u001b[0m \u001b[0mself\u001b[0m\u001b[0;34m.\u001b[0m\u001b[0m_init_state\u001b[0m\u001b[0;34m(\u001b[0m\u001b[0mrng_key_init_model\u001b[0m\u001b[0;34m,\u001b[0m \u001b[0mmodel_args\u001b[0m\u001b[0;34m,\u001b[0m \u001b[0mmodel_kwargs\u001b[0m\u001b[0;34m,\u001b[0m \u001b[0minit_params\u001b[0m\u001b[0;34m)\u001b[0m\u001b[0;34m\u001b[0m\u001b[0;34m\u001b[0m\u001b[0m\n\u001b[0m\u001b[1;32m    451\u001b[0m         \u001b[0;32mif\u001b[0m \u001b[0mself\u001b[0m\u001b[0;34m.\u001b[0m\u001b[0m_potential_fn\u001b[0m \u001b[0;32mand\u001b[0m \u001b[0minit_params\u001b[0m \u001b[0;32mis\u001b[0m \u001b[0;32mNone\u001b[0m\u001b[0;34m:\u001b[0m\u001b[0;34m\u001b[0m\u001b[0;34m\u001b[0m\u001b[0m\n\u001b[1;32m    452\u001b[0m             raise ValueError('Valid value of `init_params` must be provided with'\n",
      "\u001b[0;32m~/miniconda3/lib/python3.7/site-packages/numpyro/infer/hmc.py\u001b[0m in \u001b[0;36m_init_state\u001b[0;34m(self, rng_key, model_args, model_kwargs, init_params)\u001b[0m\n\u001b[1;32m    411\u001b[0m                 \u001b[0minit_strategy\u001b[0m\u001b[0;34m=\u001b[0m\u001b[0mself\u001b[0m\u001b[0;34m.\u001b[0m\u001b[0m_init_strategy\u001b[0m\u001b[0;34m,\u001b[0m\u001b[0;34m\u001b[0m\u001b[0;34m\u001b[0m\u001b[0m\n\u001b[1;32m    412\u001b[0m                 \u001b[0mmodel_args\u001b[0m\u001b[0;34m=\u001b[0m\u001b[0mmodel_args\u001b[0m\u001b[0;34m,\u001b[0m\u001b[0;34m\u001b[0m\u001b[0;34m\u001b[0m\u001b[0m\n\u001b[0;32m--> 413\u001b[0;31m                 model_kwargs=model_kwargs)\n\u001b[0m\u001b[1;32m    414\u001b[0m             \u001b[0;32mif\u001b[0m \u001b[0mself\u001b[0m\u001b[0;34m.\u001b[0m\u001b[0m_init_fn\u001b[0m \u001b[0;32mis\u001b[0m \u001b[0;32mNone\u001b[0m\u001b[0;34m:\u001b[0m\u001b[0;34m\u001b[0m\u001b[0;34m\u001b[0m\u001b[0m\n\u001b[1;32m    415\u001b[0m                 self._init_fn, self._sample_fn = hmc(potential_fn_gen=potential_fn,\n",
      "\u001b[0;32m~/miniconda3/lib/python3.7/site-packages/numpyro/infer/util.py\u001b[0m in \u001b[0;36minitialize_model\u001b[0;34m(rng_key, model, init_strategy, dynamic_args, model_args, model_kwargs)\u001b[0m\n\u001b[1;32m    393\u001b[0m                                    substitute_fn=init_strategy)\n\u001b[1;32m    394\u001b[0m     inv_transforms, replay_model, has_enumerate_support, model_trace = _get_model_transforms(\n\u001b[0;32m--> 395\u001b[0;31m         substituted_model, model_args, model_kwargs)\n\u001b[0m\u001b[1;32m    396\u001b[0m     \u001b[0;31m# substitute param sites from model_trace to model so\u001b[0m\u001b[0;34m\u001b[0m\u001b[0;34m\u001b[0m\u001b[0;34m\u001b[0m\u001b[0m\n\u001b[1;32m    397\u001b[0m     \u001b[0;31m# we don't need to generate again parameters of `numpyro.module`\u001b[0m\u001b[0;34m\u001b[0m\u001b[0;34m\u001b[0m\u001b[0;34m\u001b[0m\u001b[0m\n",
      "\u001b[0;32m~/miniconda3/lib/python3.7/site-packages/numpyro/infer/util.py\u001b[0m in \u001b[0;36m_get_model_transforms\u001b[0;34m(model, model_args, model_kwargs)\u001b[0m\n\u001b[1;32m    263\u001b[0m \u001b[0;32mdef\u001b[0m \u001b[0m_get_model_transforms\u001b[0m\u001b[0;34m(\u001b[0m\u001b[0mmodel\u001b[0m\u001b[0;34m,\u001b[0m \u001b[0mmodel_args\u001b[0m\u001b[0;34m=\u001b[0m\u001b[0;34m(\u001b[0m\u001b[0;34m)\u001b[0m\u001b[0;34m,\u001b[0m \u001b[0mmodel_kwargs\u001b[0m\u001b[0;34m=\u001b[0m\u001b[0;32mNone\u001b[0m\u001b[0;34m)\u001b[0m\u001b[0;34m:\u001b[0m\u001b[0;34m\u001b[0m\u001b[0;34m\u001b[0m\u001b[0m\n\u001b[1;32m    264\u001b[0m     \u001b[0mmodel_kwargs\u001b[0m \u001b[0;34m=\u001b[0m \u001b[0;34m{\u001b[0m\u001b[0;34m}\u001b[0m \u001b[0;32mif\u001b[0m \u001b[0mmodel_kwargs\u001b[0m \u001b[0;32mis\u001b[0m \u001b[0;32mNone\u001b[0m \u001b[0;32melse\u001b[0m \u001b[0mmodel_kwargs\u001b[0m\u001b[0;34m\u001b[0m\u001b[0;34m\u001b[0m\u001b[0m\n\u001b[0;32m--> 265\u001b[0;31m     \u001b[0mmodel_trace\u001b[0m \u001b[0;34m=\u001b[0m \u001b[0mtrace\u001b[0m\u001b[0;34m(\u001b[0m\u001b[0mmodel\u001b[0m\u001b[0;34m)\u001b[0m\u001b[0;34m.\u001b[0m\u001b[0mget_trace\u001b[0m\u001b[0;34m(\u001b[0m\u001b[0;34m*\u001b[0m\u001b[0mmodel_args\u001b[0m\u001b[0;34m,\u001b[0m \u001b[0;34m**\u001b[0m\u001b[0mmodel_kwargs\u001b[0m\u001b[0;34m)\u001b[0m\u001b[0;34m\u001b[0m\u001b[0;34m\u001b[0m\u001b[0m\n\u001b[0m\u001b[1;32m    266\u001b[0m     \u001b[0minv_transforms\u001b[0m \u001b[0;34m=\u001b[0m \u001b[0;34m{\u001b[0m\u001b[0;34m}\u001b[0m\u001b[0;34m\u001b[0m\u001b[0;34m\u001b[0m\u001b[0m\n\u001b[1;32m    267\u001b[0m     \u001b[0;31m# model code may need to be replayed in the presence of deterministic sites\u001b[0m\u001b[0;34m\u001b[0m\u001b[0;34m\u001b[0m\u001b[0;34m\u001b[0m\u001b[0m\n",
      "\u001b[0;32m~/miniconda3/lib/python3.7/site-packages/numpyro/handlers.py\u001b[0m in \u001b[0;36mget_trace\u001b[0;34m(self, *args, **kwargs)\u001b[0m\n\u001b[1;32m    156\u001b[0m         \u001b[0;34m:\u001b[0m\u001b[0;32mreturn\u001b[0m\u001b[0;34m:\u001b[0m\u001b[0;31m \u001b[0m\u001b[0;31m`\u001b[0m\u001b[0mOrderedDict\u001b[0m\u001b[0;31m`\u001b[0m \u001b[0mcontaining\u001b[0m \u001b[0mthe\u001b[0m \u001b[0mexecution\u001b[0m \u001b[0mtrace\u001b[0m\u001b[0;34m.\u001b[0m\u001b[0;34m\u001b[0m\u001b[0;34m\u001b[0m\u001b[0m\n\u001b[1;32m    157\u001b[0m         \"\"\"\n\u001b[0;32m--> 158\u001b[0;31m         \u001b[0mself\u001b[0m\u001b[0;34m(\u001b[0m\u001b[0;34m*\u001b[0m\u001b[0margs\u001b[0m\u001b[0;34m,\u001b[0m \u001b[0;34m**\u001b[0m\u001b[0mkwargs\u001b[0m\u001b[0;34m)\u001b[0m\u001b[0;34m\u001b[0m\u001b[0;34m\u001b[0m\u001b[0m\n\u001b[0m\u001b[1;32m    159\u001b[0m         \u001b[0;32mreturn\u001b[0m \u001b[0mself\u001b[0m\u001b[0;34m.\u001b[0m\u001b[0mtrace\u001b[0m\u001b[0;34m\u001b[0m\u001b[0;34m\u001b[0m\u001b[0m\n\u001b[1;32m    160\u001b[0m \u001b[0;34m\u001b[0m\u001b[0m\n",
      "\u001b[0;32m~/miniconda3/lib/python3.7/site-packages/numpyro/primitives.py\u001b[0m in \u001b[0;36m__call__\u001b[0;34m(self, *args, **kwargs)\u001b[0m\n\u001b[1;32m     66\u001b[0m     \u001b[0;32mdef\u001b[0m \u001b[0m__call__\u001b[0m\u001b[0;34m(\u001b[0m\u001b[0mself\u001b[0m\u001b[0;34m,\u001b[0m \u001b[0;34m*\u001b[0m\u001b[0margs\u001b[0m\u001b[0;34m,\u001b[0m \u001b[0;34m**\u001b[0m\u001b[0mkwargs\u001b[0m\u001b[0;34m)\u001b[0m\u001b[0;34m:\u001b[0m\u001b[0;34m\u001b[0m\u001b[0;34m\u001b[0m\u001b[0m\n\u001b[1;32m     67\u001b[0m         \u001b[0;32mwith\u001b[0m \u001b[0mself\u001b[0m\u001b[0;34m:\u001b[0m\u001b[0;34m\u001b[0m\u001b[0;34m\u001b[0m\u001b[0m\n\u001b[0;32m---> 68\u001b[0;31m             \u001b[0;32mreturn\u001b[0m \u001b[0mself\u001b[0m\u001b[0;34m.\u001b[0m\u001b[0mfn\u001b[0m\u001b[0;34m(\u001b[0m\u001b[0;34m*\u001b[0m\u001b[0margs\u001b[0m\u001b[0;34m,\u001b[0m \u001b[0;34m**\u001b[0m\u001b[0mkwargs\u001b[0m\u001b[0;34m)\u001b[0m\u001b[0;34m\u001b[0m\u001b[0;34m\u001b[0m\u001b[0m\n\u001b[0m\u001b[1;32m     69\u001b[0m \u001b[0;34m\u001b[0m\u001b[0m\n\u001b[1;32m     70\u001b[0m \u001b[0;34m\u001b[0m\u001b[0m\n",
      "\u001b[0;32m~/miniconda3/lib/python3.7/site-packages/numpyro/primitives.py\u001b[0m in \u001b[0;36m__call__\u001b[0;34m(self, *args, **kwargs)\u001b[0m\n\u001b[1;32m     66\u001b[0m     \u001b[0;32mdef\u001b[0m \u001b[0m__call__\u001b[0m\u001b[0;34m(\u001b[0m\u001b[0mself\u001b[0m\u001b[0;34m,\u001b[0m \u001b[0;34m*\u001b[0m\u001b[0margs\u001b[0m\u001b[0;34m,\u001b[0m \u001b[0;34m**\u001b[0m\u001b[0mkwargs\u001b[0m\u001b[0;34m)\u001b[0m\u001b[0;34m:\u001b[0m\u001b[0;34m\u001b[0m\u001b[0;34m\u001b[0m\u001b[0m\n\u001b[1;32m     67\u001b[0m         \u001b[0;32mwith\u001b[0m \u001b[0mself\u001b[0m\u001b[0;34m:\u001b[0m\u001b[0;34m\u001b[0m\u001b[0;34m\u001b[0m\u001b[0m\n\u001b[0;32m---> 68\u001b[0;31m             \u001b[0;32mreturn\u001b[0m \u001b[0mself\u001b[0m\u001b[0;34m.\u001b[0m\u001b[0mfn\u001b[0m\u001b[0;34m(\u001b[0m\u001b[0;34m*\u001b[0m\u001b[0margs\u001b[0m\u001b[0;34m,\u001b[0m \u001b[0;34m**\u001b[0m\u001b[0mkwargs\u001b[0m\u001b[0;34m)\u001b[0m\u001b[0;34m\u001b[0m\u001b[0;34m\u001b[0m\u001b[0m\n\u001b[0m\u001b[1;32m     69\u001b[0m \u001b[0;34m\u001b[0m\u001b[0m\n\u001b[1;32m     70\u001b[0m \u001b[0;34m\u001b[0m\u001b[0m\n",
      "\u001b[0;32m~/miniconda3/lib/python3.7/site-packages/numpyro/primitives.py\u001b[0m in \u001b[0;36m__call__\u001b[0;34m(self, *args, **kwargs)\u001b[0m\n\u001b[1;32m     66\u001b[0m     \u001b[0;32mdef\u001b[0m \u001b[0m__call__\u001b[0m\u001b[0;34m(\u001b[0m\u001b[0mself\u001b[0m\u001b[0;34m,\u001b[0m \u001b[0;34m*\u001b[0m\u001b[0margs\u001b[0m\u001b[0;34m,\u001b[0m \u001b[0;34m**\u001b[0m\u001b[0mkwargs\u001b[0m\u001b[0;34m)\u001b[0m\u001b[0;34m:\u001b[0m\u001b[0;34m\u001b[0m\u001b[0;34m\u001b[0m\u001b[0m\n\u001b[1;32m     67\u001b[0m         \u001b[0;32mwith\u001b[0m \u001b[0mself\u001b[0m\u001b[0;34m:\u001b[0m\u001b[0;34m\u001b[0m\u001b[0;34m\u001b[0m\u001b[0m\n\u001b[0;32m---> 68\u001b[0;31m             \u001b[0;32mreturn\u001b[0m \u001b[0mself\u001b[0m\u001b[0;34m.\u001b[0m\u001b[0mfn\u001b[0m\u001b[0;34m(\u001b[0m\u001b[0;34m*\u001b[0m\u001b[0margs\u001b[0m\u001b[0;34m,\u001b[0m \u001b[0;34m**\u001b[0m\u001b[0mkwargs\u001b[0m\u001b[0;34m)\u001b[0m\u001b[0;34m\u001b[0m\u001b[0;34m\u001b[0m\u001b[0m\n\u001b[0m\u001b[1;32m     69\u001b[0m \u001b[0;34m\u001b[0m\u001b[0m\n\u001b[1;32m     70\u001b[0m \u001b[0;34m\u001b[0m\u001b[0m\n",
      "\u001b[0;32m~/projects/tada/for-martin/mvl2/numpyro.py\u001b[0m in \u001b[0;36mmodel_mvn\u001b[0;34m(data, nCases, nCtrls, nHypotheses, alpha)\u001b[0m\n\u001b[1;32m     62\u001b[0m         \u001b[0mtheta\u001b[0m \u001b[0;34m=\u001b[0m \u001b[0mnumpyro\u001b[0m\u001b[0;34m.\u001b[0m\u001b[0msample\u001b[0m\u001b[0;34m(\u001b[0m\u001b[0;34m\"theta\"\u001b[0m\u001b[0;34m,\u001b[0m \u001b[0mHalfCauchy\u001b[0m\u001b[0;34m(\u001b[0m\u001b[0mnp\u001b[0m\u001b[0;34m.\u001b[0m\u001b[0mones\u001b[0m\u001b[0;34m(\u001b[0m\u001b[0mkSampleCategories\u001b[0m\u001b[0;34m)\u001b[0m\u001b[0;34m)\u001b[0m\u001b[0;34m.\u001b[0m\u001b[0mto_event\u001b[0m\u001b[0;34m(\u001b[0m\u001b[0;36m1\u001b[0m\u001b[0;34m)\u001b[0m\u001b[0;34m)\u001b[0m\u001b[0;34m\u001b[0m\u001b[0;34m\u001b[0m\u001b[0m\n\u001b[1;32m     63\u001b[0m         \u001b[0mL_omega\u001b[0m \u001b[0;34m=\u001b[0m \u001b[0mnumpyro\u001b[0m\u001b[0;34m.\u001b[0m\u001b[0msample\u001b[0m\u001b[0;34m(\u001b[0m\u001b[0;34m\"L_omega\"\u001b[0m\u001b[0;34m,\u001b[0m \u001b[0mLKJCholesky\u001b[0m\u001b[0;34m(\u001b[0m \u001b[0mkSampleCategories\u001b[0m\u001b[0;34m,\u001b[0m \u001b[0mnp\u001b[0m\u001b[0;34m.\u001b[0m\u001b[0mones\u001b[0m\u001b[0;34m(\u001b[0m\u001b[0;36m1\u001b[0m\u001b[0;34m)\u001b[0m \u001b[0;34m)\u001b[0m\u001b[0;34m)\u001b[0m\u001b[0;34m\u001b[0m\u001b[0;34m\u001b[0m\u001b[0m\n\u001b[0;32m---> 64\u001b[0;31m         \u001b[0mc\u001b[0m \u001b[0;34m=\u001b[0m \u001b[0mjax\u001b[0m\u001b[0;34m.\u001b[0m\u001b[0mnumpy\u001b[0m\u001b[0;34m.\u001b[0m\u001b[0mmatmul\u001b[0m\u001b[0;34m(\u001b[0m\u001b[0mjax\u001b[0m\u001b[0;34m.\u001b[0m\u001b[0mnumpy\u001b[0m\u001b[0;34m.\u001b[0m\u001b[0mdiag\u001b[0m\u001b[0;34m(\u001b[0m\u001b[0mtheta\u001b[0m\u001b[0;34m.\u001b[0m\u001b[0msqrt\u001b[0m\u001b[0;34m(\u001b[0m\u001b[0;34m)\u001b[0m\u001b[0;34m)\u001b[0m\u001b[0;34m,\u001b[0m \u001b[0mL_omega\u001b[0m\u001b[0;34m)\u001b[0m\u001b[0;34m\u001b[0m\u001b[0;34m\u001b[0m\u001b[0m\n\u001b[0m\u001b[1;32m     65\u001b[0m         \u001b[0mprint\u001b[0m\u001b[0;34m(\u001b[0m\u001b[0;34m\"L_omega\"\u001b[0m\u001b[0;34m,\u001b[0m \u001b[0mL_omega\u001b[0m\u001b[0;34m.\u001b[0m\u001b[0mshape\u001b[0m\u001b[0;34m)\u001b[0m\u001b[0;34m\u001b[0m\u001b[0;34m\u001b[0m\u001b[0m\n\u001b[1;32m     66\u001b[0m         \u001b[0;31m# TODO: understand this note from Pyro code\u001b[0m\u001b[0;34m\u001b[0m\u001b[0;34m\u001b[0m\u001b[0;34m\u001b[0m\u001b[0m\n",
      "\u001b[0;31mAttributeError\u001b[0m: 'DeviceArray' object has no attribute 'sqrt'"
     ]
    }
   ],
   "source": [
    "from mvl2.numpyro import model_mvn\n",
    "\n",
    "mcmc = infer(model_mvn, sim7[\"altCounts\"].numpy(), simParams3[\"nCases\"].numpy(), simParams3[\"nCtrls\"].numpy())"
   ]
  },
  {
   "cell_type": "code",
   "execution_count": 41,
   "metadata": {},
   "outputs": [
    {
     "output_type": "stream",
     "name": "stdout",
     "text": [
      "tensor([[0.0002, 0.0002, 0.0002, 0.0002],\n        [0.0001, 0.0001, 0.0001, 0.0001],\n        [0.0001, 0.0001, 0.0001, 0.0001],\n        ...,\n        [0.0001, 0.0001, 0.0001, 0.0001],\n        [0.0001, 0.0001, 0.0001, 0.0001],\n        [0.0001, 0.0001, 0.0001, 0.0001]], dtype=torch.float64)\ntensor([0.0001, 0.0001, 0.0001, 0.0001], dtype=torch.float64)\ntensor([0.0002, 0.0002, 0.0002, 0.0002], dtype=torch.float64)\ntensor([0.0001, 0.0001, 0.0001, 0.0001], dtype=torch.float64)\ntensor([0.0002, 0.0002, 0.0002, 0.0002], dtype=torch.float64)\n"
     ]
    }
   ],
   "source": [
    "empiricalAfs = sim7[\"altCounts\"].sum(1) / (simParams3[\"nCtrls\"] + simParams3[\"nCases\"].sum())\n",
    "empiricalAfs = empiricalAfs.expand([4, 20_000]).T\n",
    "print(empiricalAfs)\n",
    "print(empiricalAfs[sim7[\"unaffectedGenes\"]].mean(0))\n",
    "print(empiricalAfs[sim7[\"affectedGenes\"][0]].mean(0))\n",
    "print(empiricalAfs[sim7[\"affectedGenes\"][1]].mean(0))\n",
    "print(empiricalAfs[sim7[\"affectedGenes\"][2]].mean(0))\n"
   ]
  },
  {
   "cell_type": "code",
   "execution_count": 42,
   "metadata": {},
   "outputs": [
    {
     "output_type": "execute_result",
     "data": {
      "text/plain": [
       "tensor([0.5637, 0.1679, 0.1679, 0.0448], dtype=torch.float64)"
      ]
     },
     "metadata": {},
     "execution_count": 42
    }
   ],
   "source": [
    "(sim7[\"afs\"][sim7[\"unaffectedGenes\"]] / empiricalAfs[sim7[\"unaffectedGenes\"]]).mean(0)"
   ]
  },
  {
   "cell_type": "code",
   "execution_count": 43,
   "metadata": {},
   "outputs": [
    {
     "output_type": "execute_result",
     "data": {
      "text/plain": [
       "tensor([0.3153, 0.4830, 0.0976, 0.0716], dtype=torch.float64)"
      ]
     },
     "metadata": {},
     "execution_count": 43
    }
   ],
   "source": [
    "(sim7[\"afs\"][sim7[\"affectedGenes\"][0]] / empiricalAfs[sim7[\"affectedGenes\"][0]]).mean(0)"
   ]
  },
  {
   "cell_type": "code",
   "execution_count": 44,
   "metadata": {},
   "outputs": [
    {
     "output_type": "execute_result",
     "data": {
      "text/plain": [
       "tensor([0.4689, 0.1413, 0.2826, 0.0595], dtype=torch.float64)"
      ]
     },
     "metadata": {},
     "execution_count": 44
    }
   ],
   "source": [
    "(sim7[\"afs\"][sim7[\"affectedGenes\"][1]] / empiricalAfs[sim7[\"affectedGenes\"][1]]).mean(0)"
   ]
  },
  {
   "cell_type": "code",
   "execution_count": 45,
   "metadata": {},
   "outputs": [
    {
     "output_type": "execute_result",
     "data": {
      "text/plain": [
       "tensor([0.2548, 0.3918, 0.1574, 0.1688], dtype=torch.float64)"
      ]
     },
     "metadata": {},
     "execution_count": 45
    }
   ],
   "source": [
    "(sim7[\"afs\"][sim7[\"affectedGenes\"][2]] / empiricalAfs[sim7[\"affectedGenes\"][2]]).mean(0)"
   ]
  },
  {
   "cell_type": "code",
   "execution_count": null,
   "metadata": {},
   "outputs": [],
   "source": [
    "# Repeat this 1000 times\n",
    "# Report the empiricial confidence intervals; standard error in the estimate across\n",
    "\n",
    "# 10 or 20 parameter combinations total\n",
    "\n",
    "# Need to get genetic correlation out\n",
    "# Think about scaling it in a way you can talk about it\n",
    "# Total heritability, number of genes that explain that total heritability\n",
    "# Proportion \n",
    "# Variance explained by the \n",
    "# Proprotion of variance explained by the locus \n",
    "\n",
    "# I need to get back meanEffect for each gene\n",
    "# allele frequency for each gene\n",
    "# calculative proportion of variance explained / total heritability, and hat is 2*(p*effect^2  + q*effect^2)\n",
    "\n",
    "# phenotypic correlation <= genetic correlation\n",
    "# with phenotypic residuals; make them not colinear with my genetics\n",
    "# don't make phenotypic look just like a\n",
    "\n"
   ]
  },
  {
   "cell_type": "code",
   "execution_count": 3,
   "metadata": {},
   "outputs": [
    {
     "output_type": "stream",
     "name": "stdout",
     "text": [
      "tD tensor([[0.7071, 0.0000],\n        [0.0000, 0.7071]])\ngD tensor([[0.5000, 0.0000],\n        [0.0000, 0.5000]])\n"
     ]
    }
   ],
   "source": [
    "from mvl2 import genData2 as genData\n",
    "from mvl2.genData2 import liabilityParams\n",
    "from torch import tensor\n",
    "\n",
    "phenotypicCorrelation = tensor([[1., .5], [.5, 1.]])\n",
    "geneticCorrelation = tensor([[1., .8], [.8, 1.]])\n",
    "residualCorrelation = tensor([[1., 0.], [0., 1.]])\n",
    "totalVariance = tensor([.5, .5])\n",
    "heritability = tensor([.5, .5])\n",
    "\n",
    "phenotypicCovariance, geneticCovariance, residualCovariance = liabilityParams(totalVariance=totalVariance, heritability=heritability,phenotypicCorrelation=phenotypicCorrelation, geneticCorrelation=geneticCorrelation, residualCorrelation=residualCorrelation)\n",
    "\n",
    "simParams2 = {\n",
    "    \"pis\": tensor([.1, .1, .05]),\n",
    "    \"rrMeans\": tensor([3., 2.]),\n",
    "    \"afShape\": tensor(50.),\n",
    "    \"afMean\": tensor(1e-4),\n",
    "    \"pDs\": tensor([.01, .01]),\n",
    "    \"nCases\": tensor([1.5e4, 1.5e4, 4e3]),\n",
    "    \"nCtrls\": tensor(5e4),\n",
    "    \"phenotypicCovariance\": phenotypicCorrelation,\n",
    "    \"geneticCovariance\": geneticCovariance,\n",
    "    \"residualCovariance\": residualCovariance,\n",
    "    \"fudgeFactor\": tensor(.2)\n",
    "}"
   ]
  },
  {
   "cell_type": "code",
   "execution_count": 4,
   "metadata": {},
   "outputs": [
    {
     "output_type": "stream",
     "name": "stdout",
     "text": [
      "pDsWithBoth tensor([0.0100, 0.0100, 0.0013], dtype=torch.float64)\n",
      "pdThresh tensor([2.3263, 2.3263])\n",
      "pdTarget tensor([0.0300, 0.0200])\n",
      "pdvthresh tensor([1.8808, 2.0537])\n",
      "meanEffect tensor([0.4456, 0.2726])\n",
      "meanEffectsAcrossAllGenes tensor([0.4456, 0.2726])\n",
      "allEffects tensor([[-0.0857, -0.0666],\n",
      "        [-0.1962, -0.0134],\n",
      "        [-0.7304, -0.0129],\n",
      "        ...,\n",
      "        [-0.4835, -0.3077],\n",
      "        [-0.8714, -0.8669],\n",
      "        [-0.2491,  0.0849]])\n",
      "PDBothGivenV.mean tensor(0.0030, dtype=torch.float64)\n",
      "PDBothGivenV / PDBoth tensor(2.3462, dtype=torch.float64)\n",
      "pdsCovarOnMean.mean(0) tensor([0.0465, 0.0334, 0.0030], dtype=torch.float64)\n",
      "np.corrcoef(pdvInBoth[:,0], pdvInBoth[:,1])\n",
      " [[1.         0.75825736]\n",
      " [0.75825736 1.        ]]\n",
      "np.corrcoef(pdvInBoth[:,0], pdvInBoth[:,2])\n",
      " [[1.         0.81135195]\n",
      " [0.81135195 1.        ]]\n"
     ]
    },
    {
     "output_type": "error",
     "ename": "KeyboardInterrupt",
     "evalue": "",
     "traceback": [
      "\u001b[0;31m---------------------------------------------------------------------------\u001b[0m",
      "\u001b[0;31mKeyboardInterrupt\u001b[0m                         Traceback (most recent call last)",
      "\u001b[0;32m<ipython-input-4-9caaa1e2589c>\u001b[0m in \u001b[0;36m<module>\u001b[0;34m\u001b[0m\n\u001b[0;32m----> 1\u001b[0;31m \u001b[0msimData2\u001b[0m \u001b[0;34m=\u001b[0m \u001b[0mgenData\u001b[0m\u001b[0;34m.\u001b[0m\u001b[0mgenCounts\u001b[0m\u001b[0;34m(\u001b[0m\u001b[0;34m**\u001b[0m\u001b[0msimParams2\u001b[0m\u001b[0;34m)\u001b[0m\u001b[0;34m\u001b[0m\u001b[0;34m\u001b[0m\u001b[0m\n\u001b[0m",
      "\u001b[0;32m~/projects/tada/for-martin/mvl2/genData2.py\u001b[0m in \u001b[0;36mgenCounts\u001b[0;34m(nCases, nCtrls, pDs, diseaseFractions, rrMeans, afMean, afShape, nGenes, phenotypicCovariance, geneticCovariance, residualCovariance, fudgeFactor, **kwargs)\u001b[0m\n\u001b[1;32m    226\u001b[0m         \u001b[0mmvn\u001b[0m \u001b[0;34m=\u001b[0m \u001b[0mMultivariateNormal\u001b[0m\u001b[0;34m(\u001b[0m\u001b[0mtensor\u001b[0m\u001b[0;34m(\u001b[0m\u001b[0;34m[\u001b[0m\u001b[0mallEffectsFor12\u001b[0m\u001b[0;34m[\u001b[0m\u001b[0mi\u001b[0m\u001b[0;34m,\u001b[0m \u001b[0;36m0\u001b[0m\u001b[0;34m]\u001b[0m\u001b[0;34m,\u001b[0m \u001b[0;36m0\u001b[0m\u001b[0;34m]\u001b[0m\u001b[0;34m)\u001b[0m\u001b[0;34m,\u001b[0m \u001b[0mtorch\u001b[0m\u001b[0;34m.\u001b[0m\u001b[0meye\u001b[0m\u001b[0;34m(\u001b[0m\u001b[0;36m2\u001b[0m\u001b[0;34m)\u001b[0m \u001b[0;34m*\u001b[0m \u001b[0mfudgeFactor\u001b[0m\u001b[0;34m)\u001b[0m\u001b[0;34m\u001b[0m\u001b[0;34m\u001b[0m\u001b[0m\n\u001b[1;32m    227\u001b[0m         \u001b[0mmvn2\u001b[0m \u001b[0;34m=\u001b[0m \u001b[0mMultivariateNormal\u001b[0m\u001b[0;34m(\u001b[0m\u001b[0mtensor\u001b[0m\u001b[0;34m(\u001b[0m\u001b[0;34m[\u001b[0m\u001b[0;36m0\u001b[0m\u001b[0;34m,\u001b[0m \u001b[0mallEffectsFor12\u001b[0m\u001b[0;34m[\u001b[0m\u001b[0mi\u001b[0m\u001b[0;34m,\u001b[0m \u001b[0;36m1\u001b[0m\u001b[0;34m]\u001b[0m\u001b[0;34m]\u001b[0m\u001b[0;34m)\u001b[0m\u001b[0;34m,\u001b[0m \u001b[0mtorch\u001b[0m\u001b[0;34m.\u001b[0m\u001b[0meye\u001b[0m\u001b[0;34m(\u001b[0m\u001b[0;36m2\u001b[0m\u001b[0;34m)\u001b[0m \u001b[0;34m*\u001b[0m \u001b[0mfudgeFactor\u001b[0m\u001b[0;34m)\u001b[0m\u001b[0;34m\u001b[0m\u001b[0;34m\u001b[0m\u001b[0m\n\u001b[0;32m--> 228\u001b[0;31m         \u001b[0mmvnw1\u001b[0m \u001b[0;34m=\u001b[0m \u001b[0mWrappedMVN\u001b[0m\u001b[0;34m(\u001b[0m\u001b[0mmvn\u001b[0m\u001b[0;34m)\u001b[0m\u001b[0;34m\u001b[0m\u001b[0;34m\u001b[0m\u001b[0m\n\u001b[0m\u001b[1;32m    229\u001b[0m         \u001b[0mmvnw2\u001b[0m \u001b[0;34m=\u001b[0m \u001b[0mWrappedMVN\u001b[0m\u001b[0;34m(\u001b[0m\u001b[0mmvn2\u001b[0m\u001b[0;34m)\u001b[0m\u001b[0;34m\u001b[0m\u001b[0;34m\u001b[0m\u001b[0m\n\u001b[1;32m    230\u001b[0m \u001b[0;34m\u001b[0m\u001b[0m\n",
      "\u001b[0;32m~/projects/tada/for-martin/mvl2/genData2.py\u001b[0m in \u001b[0;36m__init__\u001b[0;34m(self, mvn)\u001b[0m\n\u001b[1;32m     15\u001b[0m     \u001b[0;32mdef\u001b[0m \u001b[0m__init__\u001b[0m\u001b[0;34m(\u001b[0m\u001b[0mself\u001b[0m\u001b[0;34m,\u001b[0m \u001b[0mmvn\u001b[0m\u001b[0;34m:\u001b[0m \u001b[0mMultivariateNormal\u001b[0m\u001b[0;34m)\u001b[0m\u001b[0;34m:\u001b[0m\u001b[0;34m\u001b[0m\u001b[0;34m\u001b[0m\u001b[0m\n\u001b[1;32m     16\u001b[0m         \u001b[0mself\u001b[0m\u001b[0;34m.\u001b[0m\u001b[0mmvn\u001b[0m \u001b[0;34m=\u001b[0m \u001b[0mmvn\u001b[0m\u001b[0;34m\u001b[0m\u001b[0;34m\u001b[0m\u001b[0m\n\u001b[0;32m---> 17\u001b[0;31m         \u001b[0mself\u001b[0m\u001b[0;34m.\u001b[0m\u001b[0mscimvn\u001b[0m \u001b[0;34m=\u001b[0m \u001b[0mscimvn\u001b[0m\u001b[0;34m(\u001b[0m\u001b[0mmean\u001b[0m\u001b[0;34m=\u001b[0m\u001b[0mself\u001b[0m\u001b[0;34m.\u001b[0m\u001b[0mmvn\u001b[0m\u001b[0;34m.\u001b[0m\u001b[0mmean\u001b[0m\u001b[0;34m,\u001b[0m \u001b[0mcov\u001b[0m\u001b[0;34m=\u001b[0m\u001b[0mself\u001b[0m\u001b[0;34m.\u001b[0m\u001b[0mmvn\u001b[0m\u001b[0;34m.\u001b[0m\u001b[0mcovariance_matrix\u001b[0m\u001b[0;34m)\u001b[0m\u001b[0;34m\u001b[0m\u001b[0;34m\u001b[0m\u001b[0m\n\u001b[0m\u001b[1;32m     18\u001b[0m \u001b[0;34m\u001b[0m\u001b[0m\n\u001b[1;32m     19\u001b[0m     \u001b[0;32mdef\u001b[0m \u001b[0mcdf\u001b[0m\u001b[0;34m(\u001b[0m\u001b[0mself\u001b[0m\u001b[0;34m,\u001b[0m \u001b[0mlower\u001b[0m\u001b[0;34m:\u001b[0m \u001b[0mTensor\u001b[0m\u001b[0;34m)\u001b[0m\u001b[0;34m:\u001b[0m\u001b[0;34m\u001b[0m\u001b[0;34m\u001b[0m\u001b[0m\n",
      "\u001b[0;32m~/miniconda3/lib/python3.7/site-packages/scipy/stats/_multivariate.py\u001b[0m in \u001b[0;36m__call__\u001b[0;34m(self, mean, cov, allow_singular, seed)\u001b[0m\n\u001b[1;32m    365\u001b[0m         return multivariate_normal_frozen(mean, cov,\n\u001b[1;32m    366\u001b[0m                                           \u001b[0mallow_singular\u001b[0m\u001b[0;34m=\u001b[0m\u001b[0mallow_singular\u001b[0m\u001b[0;34m,\u001b[0m\u001b[0;34m\u001b[0m\u001b[0;34m\u001b[0m\u001b[0m\n\u001b[0;32m--> 367\u001b[0;31m                                           seed=seed)\n\u001b[0m\u001b[1;32m    368\u001b[0m \u001b[0;34m\u001b[0m\u001b[0m\n\u001b[1;32m    369\u001b[0m     \u001b[0;32mdef\u001b[0m \u001b[0m_process_parameters\u001b[0m\u001b[0;34m(\u001b[0m\u001b[0mself\u001b[0m\u001b[0;34m,\u001b[0m \u001b[0mdim\u001b[0m\u001b[0;34m,\u001b[0m \u001b[0mmean\u001b[0m\u001b[0;34m,\u001b[0m \u001b[0mcov\u001b[0m\u001b[0;34m)\u001b[0m\u001b[0;34m:\u001b[0m\u001b[0;34m\u001b[0m\u001b[0;34m\u001b[0m\u001b[0m\n",
      "\u001b[0;32m~/miniconda3/lib/python3.7/site-packages/scipy/stats/_multivariate.py\u001b[0m in \u001b[0;36m__init__\u001b[0;34m(self, mean, cov, allow_singular, seed, maxpts, abseps, releps)\u001b[0m\n\u001b[1;32m    741\u001b[0m         self.dim, self.mean, self.cov = self._dist._process_parameters(\n\u001b[1;32m    742\u001b[0m                                                             None, mean, cov)\n\u001b[0;32m--> 743\u001b[0;31m         \u001b[0mself\u001b[0m\u001b[0;34m.\u001b[0m\u001b[0mcov_info\u001b[0m \u001b[0;34m=\u001b[0m \u001b[0m_PSD\u001b[0m\u001b[0;34m(\u001b[0m\u001b[0mself\u001b[0m\u001b[0;34m.\u001b[0m\u001b[0mcov\u001b[0m\u001b[0;34m,\u001b[0m \u001b[0mallow_singular\u001b[0m\u001b[0;34m=\u001b[0m\u001b[0mallow_singular\u001b[0m\u001b[0;34m)\u001b[0m\u001b[0;34m\u001b[0m\u001b[0;34m\u001b[0m\u001b[0m\n\u001b[0m\u001b[1;32m    744\u001b[0m         \u001b[0;32mif\u001b[0m \u001b[0;32mnot\u001b[0m \u001b[0mmaxpts\u001b[0m\u001b[0;34m:\u001b[0m\u001b[0;34m\u001b[0m\u001b[0;34m\u001b[0m\u001b[0m\n\u001b[1;32m    745\u001b[0m             \u001b[0mmaxpts\u001b[0m \u001b[0;34m=\u001b[0m \u001b[0;36m1000000\u001b[0m \u001b[0;34m*\u001b[0m \u001b[0mself\u001b[0m\u001b[0;34m.\u001b[0m\u001b[0mdim\u001b[0m\u001b[0;34m\u001b[0m\u001b[0;34m\u001b[0m\u001b[0m\n",
      "\u001b[0;32m~/miniconda3/lib/python3.7/site-packages/scipy/stats/_multivariate.py\u001b[0m in \u001b[0;36m__init__\u001b[0;34m(self, M, cond, rcond, lower, check_finite, allow_singular)\u001b[0m\n\u001b[1;32m    156\u001b[0m         \u001b[0;31m# Note that eigh takes care of array conversion, chkfinite,\u001b[0m\u001b[0;34m\u001b[0m\u001b[0;34m\u001b[0m\u001b[0;34m\u001b[0m\u001b[0m\n\u001b[1;32m    157\u001b[0m         \u001b[0;31m# and assertion that the matrix is square.\u001b[0m\u001b[0;34m\u001b[0m\u001b[0;34m\u001b[0m\u001b[0;34m\u001b[0m\u001b[0m\n\u001b[0;32m--> 158\u001b[0;31m         \u001b[0ms\u001b[0m\u001b[0;34m,\u001b[0m \u001b[0mu\u001b[0m \u001b[0;34m=\u001b[0m \u001b[0mscipy\u001b[0m\u001b[0;34m.\u001b[0m\u001b[0mlinalg\u001b[0m\u001b[0;34m.\u001b[0m\u001b[0meigh\u001b[0m\u001b[0;34m(\u001b[0m\u001b[0mM\u001b[0m\u001b[0;34m,\u001b[0m \u001b[0mlower\u001b[0m\u001b[0;34m=\u001b[0m\u001b[0mlower\u001b[0m\u001b[0;34m,\u001b[0m \u001b[0mcheck_finite\u001b[0m\u001b[0;34m=\u001b[0m\u001b[0mcheck_finite\u001b[0m\u001b[0;34m)\u001b[0m\u001b[0;34m\u001b[0m\u001b[0;34m\u001b[0m\u001b[0m\n\u001b[0m\u001b[1;32m    159\u001b[0m \u001b[0;34m\u001b[0m\u001b[0m\n\u001b[1;32m    160\u001b[0m         \u001b[0meps\u001b[0m \u001b[0;34m=\u001b[0m \u001b[0m_eigvalsh_to_eps\u001b[0m\u001b[0;34m(\u001b[0m\u001b[0ms\u001b[0m\u001b[0;34m,\u001b[0m \u001b[0mcond\u001b[0m\u001b[0;34m,\u001b[0m \u001b[0mrcond\u001b[0m\u001b[0;34m)\u001b[0m\u001b[0;34m\u001b[0m\u001b[0;34m\u001b[0m\u001b[0m\n",
      "\u001b[0;32m~/miniconda3/lib/python3.7/site-packages/scipy/linalg/decomp.py\u001b[0m in \u001b[0;36meigh\u001b[0;34m(a, b, lower, eigvals_only, overwrite_a, overwrite_b, turbo, eigvals, type, check_finite, subset_by_index, subset_by_value, driver)\u001b[0m\n\u001b[1;32m    443\u001b[0m                          ''.format(driver, '\", \"'.join(drv_str[1:])))\n\u001b[1;32m    444\u001b[0m \u001b[0;34m\u001b[0m\u001b[0m\n\u001b[0;32m--> 445\u001b[0;31m     \u001b[0ma1\u001b[0m \u001b[0;34m=\u001b[0m \u001b[0m_asarray_validated\u001b[0m\u001b[0;34m(\u001b[0m\u001b[0ma\u001b[0m\u001b[0;34m,\u001b[0m \u001b[0mcheck_finite\u001b[0m\u001b[0;34m=\u001b[0m\u001b[0mcheck_finite\u001b[0m\u001b[0;34m)\u001b[0m\u001b[0;34m\u001b[0m\u001b[0;34m\u001b[0m\u001b[0m\n\u001b[0m\u001b[1;32m    446\u001b[0m     \u001b[0;32mif\u001b[0m \u001b[0mlen\u001b[0m\u001b[0;34m(\u001b[0m\u001b[0ma1\u001b[0m\u001b[0;34m.\u001b[0m\u001b[0mshape\u001b[0m\u001b[0;34m)\u001b[0m \u001b[0;34m!=\u001b[0m \u001b[0;36m2\u001b[0m \u001b[0;32mor\u001b[0m \u001b[0ma1\u001b[0m\u001b[0;34m.\u001b[0m\u001b[0mshape\u001b[0m\u001b[0;34m[\u001b[0m\u001b[0;36m0\u001b[0m\u001b[0;34m]\u001b[0m \u001b[0;34m!=\u001b[0m \u001b[0ma1\u001b[0m\u001b[0;34m.\u001b[0m\u001b[0mshape\u001b[0m\u001b[0;34m[\u001b[0m\u001b[0;36m1\u001b[0m\u001b[0;34m]\u001b[0m\u001b[0;34m:\u001b[0m\u001b[0;34m\u001b[0m\u001b[0;34m\u001b[0m\u001b[0m\n\u001b[1;32m    447\u001b[0m         \u001b[0;32mraise\u001b[0m \u001b[0mValueError\u001b[0m\u001b[0;34m(\u001b[0m\u001b[0;34m'expected square \"a\" matrix'\u001b[0m\u001b[0;34m)\u001b[0m\u001b[0;34m\u001b[0m\u001b[0;34m\u001b[0m\u001b[0m\n",
      "\u001b[0;32m~/miniconda3/lib/python3.7/site-packages/scipy/_lib/_util.py\u001b[0m in \u001b[0;36m_asarray_validated\u001b[0;34m(a, check_finite, sparse_ok, objects_ok, mask_ok, as_inexact)\u001b[0m\n\u001b[1;32m    263\u001b[0m     \u001b[0ma\u001b[0m \u001b[0;34m=\u001b[0m \u001b[0mtoarray\u001b[0m\u001b[0;34m(\u001b[0m\u001b[0ma\u001b[0m\u001b[0;34m)\u001b[0m\u001b[0;34m\u001b[0m\u001b[0;34m\u001b[0m\u001b[0m\n\u001b[1;32m    264\u001b[0m     \u001b[0;32mif\u001b[0m \u001b[0;32mnot\u001b[0m \u001b[0mobjects_ok\u001b[0m\u001b[0;34m:\u001b[0m\u001b[0;34m\u001b[0m\u001b[0;34m\u001b[0m\u001b[0m\n\u001b[0;32m--> 265\u001b[0;31m         \u001b[0;32mif\u001b[0m \u001b[0ma\u001b[0m\u001b[0;34m.\u001b[0m\u001b[0mdtype\u001b[0m \u001b[0;32mis\u001b[0m \u001b[0mnp\u001b[0m\u001b[0;34m.\u001b[0m\u001b[0mdtype\u001b[0m\u001b[0;34m(\u001b[0m\u001b[0;34m'O'\u001b[0m\u001b[0;34m)\u001b[0m\u001b[0;34m:\u001b[0m\u001b[0;34m\u001b[0m\u001b[0;34m\u001b[0m\u001b[0m\n\u001b[0m\u001b[1;32m    266\u001b[0m             \u001b[0;32mraise\u001b[0m \u001b[0mValueError\u001b[0m\u001b[0;34m(\u001b[0m\u001b[0;34m'object arrays are not supported'\u001b[0m\u001b[0;34m)\u001b[0m\u001b[0;34m\u001b[0m\u001b[0;34m\u001b[0m\u001b[0m\n\u001b[1;32m    267\u001b[0m     \u001b[0;32mif\u001b[0m \u001b[0mas_inexact\u001b[0m\u001b[0;34m:\u001b[0m\u001b[0;34m\u001b[0m\u001b[0;34m\u001b[0m\u001b[0m\n",
      "\u001b[0;31mKeyboardInterrupt\u001b[0m: "
     ]
    }
   ],
   "source": [
    "simData2 = genData.genCounts(**simParams2)"
   ]
  },
  {
   "cell_type": "code",
   "execution_count": null,
   "metadata": {},
   "outputs": [],
   "source": [
    "# phenotypic should be bigger \n",
    "torch.eye([1., 2. ], [2., 1.])\n",
    "\n",
    "# genetic covariance diagonal \n",
    "torch.eye([.8, .1], [.8, .2])\n",
    "\n",
    "# if my total phe\n",
    "\n",
    "phenotypic variance / covariance  !=  genoetypic variance / covariance"
   ]
  }
 ]
}